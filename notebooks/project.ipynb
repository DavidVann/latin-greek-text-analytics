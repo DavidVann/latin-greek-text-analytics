{
 "cells": [
  {
   "cell_type": "markdown",
   "metadata": {},
   "source": [
    "# DS 5001 Project Notebook: Greek and Roman Mythology"
   ]
  },
  {
   "cell_type": "markdown",
   "metadata": {},
   "source": [
    "- David Vann (dv6bq@virginia.edu)\n",
    "- DS 5001\n",
    "- 5 May 2021"
   ]
  },
  {
   "cell_type": "code",
   "execution_count": 1,
   "metadata": {},
   "outputs": [
    {
     "output_type": "stream",
     "name": "stderr",
     "text": [
      "/opt/homebrew/Caskroom/miniforge/base/envs/ds/lib/python3.9/site-packages/gensim/similarities/__init__.py:15: UserWarning: The gensim.similarities.levenshtein submodule is disabled, because the optional Levenshtein package <https://pypi.org/project/python-Levenshtein/> is unavailable. Install Levenhstein (e.g. `pip install python-Levenshtein`) to suppress this warning.\n  warnings.warn(msg)\n"
     ]
    }
   ],
   "source": [
    "import os\n",
    "from glob import glob\n",
    "\n",
    "import numpy as np\n",
    "import pandas as pd\n",
    "import nltk\n",
    "\n",
    "from eta_modules.preprocessing import Document, Corpus\n",
    "from eta_modules.analysis import HierarchicalClusterAnalysis, PCA, TopicModel, WordEmbedding, SentimentAnalysis"
   ]
  },
  {
   "cell_type": "code",
   "execution_count": 2,
   "metadata": {},
   "outputs": [],
   "source": [
    "# nltk.download('punkt')\n",
    "# nltk.download('averaged_perceptron_tagger')\n",
    "# nltk.download('stopwords')"
   ]
  },
  {
   "cell_type": "markdown",
   "metadata": {},
   "source": [
    "## Reading in the data\n",
    "\n",
    "We start by loading in the XML files for each work and parsing them to a reasonable degree with BeautifulSoup and NLTK. \n",
    "\n",
    "Since these works are all either plays or poems/epics, the concept of a \"chapter\" or \"paragraph\" doesn't translate perfectly compared to, e.g., a novel. However, the Perseus Digital Library (where these files are sourced from) has added at least top-level divisions to break up texts. In some cases, these divisions truly exist in the text (for example, *The Iliad* is broken into 24 books); in other cases, like plays, these divisions don't seem to be directly present in the text, but are akin to something like a \"scene\". I've considered all of these largest divisions as \"chapters\".\n",
    "\n",
    "To get at something like a \"paragraph\", I used a different approach based on whether the work was a play or not:\n",
    "\n",
    "- For plays, I used each speaker section (denoted by a \"\\<sp>\" in the files) as a \"paragraph\". \n",
    "- For everything else, there wasn't a built-in tag for \"paragraph\"-type divisions, but there is a self-closing \"milestone\" tag that marks the start of a new \"card\" used on the Perseus website to denote content to be displayed on one page. Since these are self-closing, they don't actually enclose the particular block of text that I wanted to get at; instead, I replaced these with newlines and split up text based on a double newline, which seemed to give fairly satisfactory results."
   ]
  },
  {
   "cell_type": "code",
   "execution_count": 3,
   "metadata": {},
   "outputs": [],
   "source": [
    "def parse_corpus(docpaths, tfidf_bag=['work_id', 'chapter_id'], tfidf_methods=['n', 'max', 'bool']):\n",
    "    doc_list = []\n",
    "    for path in docpaths:\n",
    "        doc = Document(path)\n",
    "        doc.parse_text_to_paras()\n",
    "        doc.tokenize(remove_pos_tuple=True, remove_ws=True)\n",
    "        doc_list.append(doc)\n",
    "\n",
    "    corpus = Corpus(doc_list)\n",
    "    corpus.extract_annotate_vocab()\n",
    "    corpus.compute_tfidf(OHCO_level=tfidf_bag, methods=tfidf_methods)\n",
    "    \n",
    "    return doc_list, corpus\n",
    "\n",
    "\n",
    "# Annotating the vocabulary uses NLTK and is slow since it's not a vectorized operation, so it's much faster to reload the tables if they already exist\n",
    "# Still recompute TFIDF since bags/methods can differ between calculations\n",
    "def load_corpus(docpaths=None, table_dir=None, tfidf_bag=['work_id', 'chapter_id'], tfidf_methods=['n', 'max', 'bool']):\n",
    "    if table_dir is not None:\n",
    "        corpus_filepaths = glob(os.path.join(table_dir, '*.csv'))\n",
    "        if len(corpus_filepaths) != 0:\n",
    "            corpus = Corpus()\n",
    "            corpus.load_tables(table_dir)\n",
    "            corpus.compute_tfidf(OHCO_level=tfidf_bag, methods=tfidf_methods)\n",
    "            output = ([], corpus)\n",
    "    elif docpaths is not None:\n",
    "        doc_list, corpus = parse_corpus(docpaths=docpaths, tfidf_bag=tfidf_bag, tfidf_methods=tfidf_methods)\n",
    "        output = (doc_list, corpus)\n",
    "    \n",
    "    return output"
   ]
  },
  {
   "cell_type": "code",
   "execution_count": 4,
   "metadata": {},
   "outputs": [],
   "source": [
    "root_dir = os.path.abspath('..')\n",
    "data_dir = os.path.join(root_dir, 'data')\n",
    "output_dir = os.path.join(data_dir, 'outputs')\n",
    "\n",
    "docpaths = glob(os.path.join(data_dir, 'raw', '**', '*.xml'), recursive=True) # Get all XML file paths\n",
    "table_dir = os.path.join(output_dir, 'corpus')\n",
    "\n",
    "OHCO = ['work_id', 'chapter_id', 'para_id', 'sent_id']\n",
    "book_bag = OHCO[:1]\n",
    "chapter_bag = OHCO[:2]\n",
    "paragraph_bag = OHCO[:3]"
   ]
  },
  {
   "cell_type": "code",
   "execution_count": 5,
   "metadata": {},
   "outputs": [],
   "source": [
    "doc_list, corp = load_corpus(table_dir=table_dir, tfidf_bag=chapter_bag) # doc_list is empty here, but it's not very important for most work\n",
    "# doc_list, corp = load_corpus(docpaths=docpaths, tfidf_bag=chapter_bag) # parse from scratch"
   ]
  },
  {
   "cell_type": "code",
   "execution_count": 6,
   "metadata": {},
   "outputs": [
    {
     "output_type": "execute_result",
     "data": {
      "text/plain": [
       "             n  stop p_stem pos_max     df       idf  tfidf_n_sum  \\\n",
       "term_str                                                            \n",
       "sing        87     0   sing     VBG   58.0  2.208108     1.818238   \n",
       "hail        96     0   hail     NNP   66.0  2.021695     1.836953   \n",
       "song       172     0   song      NN   81.0  1.726239     2.810221   \n",
       "begin       51     0  begin      VB   38.0  2.818162     1.360339   \n",
       "chorus     841     0  choru     NNP  138.0  0.957565     7.622109   \n",
       "zeus      1270     0    zeu     NNP  170.0  0.656698     7.893700   \n",
       "muse        22     0   muse     NNP   18.0  3.896164     0.811280   \n",
       "lovely     152     0   love      JJ   53.0  2.338169     3.363802   \n",
       "bare       173     0   bare      NN   63.0  2.088809     3.420235   \n",
       "lord       380     0   lord      NN  149.0  0.846921     3.046052   \n",
       "\n",
       "          tfidf_max_sum  tfidf_bool_sum  \n",
       "term_str                                 \n",
       "sing           4.661145       21.177994  \n",
       "hail           4.764529       18.295464  \n",
       "song           5.019835       15.144377  \n",
       "begin          3.795305       13.906330  \n",
       "chorus         5.562190       12.180397  \n",
       "zeus           4.092469        9.613901  \n",
       "muse           2.520024        9.230295  \n",
       "lovely         4.336044        8.754176  \n",
       "bare           4.530838        8.595742  \n",
       "lord           4.374614        8.572273  "
      ],
      "text/html": "<div>\n<style scoped>\n    .dataframe tbody tr th:only-of-type {\n        vertical-align: middle;\n    }\n\n    .dataframe tbody tr th {\n        vertical-align: top;\n    }\n\n    .dataframe thead th {\n        text-align: right;\n    }\n</style>\n<table border=\"1\" class=\"dataframe\">\n  <thead>\n    <tr style=\"text-align: right;\">\n      <th></th>\n      <th>n</th>\n      <th>stop</th>\n      <th>p_stem</th>\n      <th>pos_max</th>\n      <th>df</th>\n      <th>idf</th>\n      <th>tfidf_n_sum</th>\n      <th>tfidf_max_sum</th>\n      <th>tfidf_bool_sum</th>\n    </tr>\n    <tr>\n      <th>term_str</th>\n      <th></th>\n      <th></th>\n      <th></th>\n      <th></th>\n      <th></th>\n      <th></th>\n      <th></th>\n      <th></th>\n      <th></th>\n    </tr>\n  </thead>\n  <tbody>\n    <tr>\n      <th>sing</th>\n      <td>87</td>\n      <td>0</td>\n      <td>sing</td>\n      <td>VBG</td>\n      <td>58.0</td>\n      <td>2.208108</td>\n      <td>1.818238</td>\n      <td>4.661145</td>\n      <td>21.177994</td>\n    </tr>\n    <tr>\n      <th>hail</th>\n      <td>96</td>\n      <td>0</td>\n      <td>hail</td>\n      <td>NNP</td>\n      <td>66.0</td>\n      <td>2.021695</td>\n      <td>1.836953</td>\n      <td>4.764529</td>\n      <td>18.295464</td>\n    </tr>\n    <tr>\n      <th>song</th>\n      <td>172</td>\n      <td>0</td>\n      <td>song</td>\n      <td>NN</td>\n      <td>81.0</td>\n      <td>1.726239</td>\n      <td>2.810221</td>\n      <td>5.019835</td>\n      <td>15.144377</td>\n    </tr>\n    <tr>\n      <th>begin</th>\n      <td>51</td>\n      <td>0</td>\n      <td>begin</td>\n      <td>VB</td>\n      <td>38.0</td>\n      <td>2.818162</td>\n      <td>1.360339</td>\n      <td>3.795305</td>\n      <td>13.906330</td>\n    </tr>\n    <tr>\n      <th>chorus</th>\n      <td>841</td>\n      <td>0</td>\n      <td>choru</td>\n      <td>NNP</td>\n      <td>138.0</td>\n      <td>0.957565</td>\n      <td>7.622109</td>\n      <td>5.562190</td>\n      <td>12.180397</td>\n    </tr>\n    <tr>\n      <th>zeus</th>\n      <td>1270</td>\n      <td>0</td>\n      <td>zeu</td>\n      <td>NNP</td>\n      <td>170.0</td>\n      <td>0.656698</td>\n      <td>7.893700</td>\n      <td>4.092469</td>\n      <td>9.613901</td>\n    </tr>\n    <tr>\n      <th>muse</th>\n      <td>22</td>\n      <td>0</td>\n      <td>muse</td>\n      <td>NNP</td>\n      <td>18.0</td>\n      <td>3.896164</td>\n      <td>0.811280</td>\n      <td>2.520024</td>\n      <td>9.230295</td>\n    </tr>\n    <tr>\n      <th>lovely</th>\n      <td>152</td>\n      <td>0</td>\n      <td>love</td>\n      <td>JJ</td>\n      <td>53.0</td>\n      <td>2.338169</td>\n      <td>3.363802</td>\n      <td>4.336044</td>\n      <td>8.754176</td>\n    </tr>\n    <tr>\n      <th>bare</th>\n      <td>173</td>\n      <td>0</td>\n      <td>bare</td>\n      <td>NN</td>\n      <td>63.0</td>\n      <td>2.088809</td>\n      <td>3.420235</td>\n      <td>4.530838</td>\n      <td>8.595742</td>\n    </tr>\n    <tr>\n      <th>lord</th>\n      <td>380</td>\n      <td>0</td>\n      <td>lord</td>\n      <td>NN</td>\n      <td>149.0</td>\n      <td>0.846921</td>\n      <td>3.046052</td>\n      <td>4.374614</td>\n      <td>8.572273</td>\n    </tr>\n  </tbody>\n</table>\n</div>"
     },
     "metadata": {},
     "execution_count": 6
    }
   ],
   "source": [
    "corp.vocab.sort_values('tfidf_bool_sum', ascending=False).head(10)"
   ]
  },
  {
   "source": [
    "## Hierarchical Clustering based on TF-IDF"
   ],
   "cell_type": "markdown",
   "metadata": {}
  },
  {
   "cell_type": "code",
   "execution_count": 7,
   "metadata": {},
   "outputs": [
    {
     "output_type": "display_data",
     "data": {
      "text/plain": "<Figure size 576x720 with 1 Axes>",
      "image/svg+xml": "<?xml version=\"1.0\" encoding=\"utf-8\" standalone=\"no\"?>\n<!DOCTYPE svg PUBLIC \"-//W3C//DTD SVG 1.1//EN\"\n  \"http://www.w3.org/Graphics/SVG/1.1/DTD/svg11.dtd\">\n<svg height=\"593.6675pt\" version=\"1.1\" viewBox=\"0 0 703.934841 593.6675\" width=\"703.934841pt\" xmlns=\"http://www.w3.org/2000/svg\" xmlns:xlink=\"http://www.w3.org/1999/xlink\">\n <metadata>\n  <rdf:RDF xmlns:cc=\"http://creativecommons.org/ns#\" xmlns:dc=\"http://purl.org/dc/elements/1.1/\" xmlns:rdf=\"http://www.w3.org/1999/02/22-rdf-syntax-ns#\">\n   <cc:Work>\n    <dc:type rdf:resource=\"http://purl.org/dc/dcmitype/StillImage\"/>\n    <dc:date>2021-05-09T00:18:53.216929</dc:date>\n    <dc:format>image/svg+xml</dc:format>\n    <dc:creator>\n     <cc:Agent>\n      <dc:title>Matplotlib v3.4.1, https://matplotlib.org/</dc:title>\n     </cc:Agent>\n    </dc:creator>\n   </cc:Work>\n  </rdf:RDF>\n </metadata>\n <defs>\n  <style type=\"text/css\">*{stroke-linecap:butt;stroke-linejoin:round;}</style>\n </defs>\n <g id=\"figure_1\">\n  <g id=\"patch_1\">\n   <path d=\"M 0 593.6675 \nL 703.934841 593.6675 \nL 703.934841 0 \nL 0 0 \nz\n\" style=\"fill:none;\"/>\n  </g>\n  <g id=\"axes_1\">\n   <g id=\"patch_2\">\n    <path d=\"M 8.108591 565.918125 \nL 454.508591 565.918125 \nL 454.508591 22.318125 \nL 8.108591 22.318125 \nz\n\" style=\"fill:#ffffff;\"/>\n   </g>\n   <g id=\"matplotlib.axis_1\">\n    <g id=\"xtick_1\">\n     <g id=\"line2d_1\">\n      <defs>\n       <path d=\"M 0 0 \nL 0 3.5 \n\" id=\"m62ddda5c96\" style=\"stroke:#000000;stroke-width:0.8;\"/>\n      </defs>\n      <g>\n       <use style=\"stroke:#000000;stroke-width:0.8;\" x=\"454.508591\" xlink:href=\"#m62ddda5c96\" y=\"565.918125\"/>\n      </g>\n     </g>\n     <g id=\"text_1\">\n      <!-- 0.0 -->\n      <g transform=\"translate(443.376403 583.555938)scale(0.14 -0.14)\">\n       <defs>\n        <path d=\"M 2034 4250 \nQ 1547 4250 1301 3770 \nQ 1056 3291 1056 2328 \nQ 1056 1369 1301 889 \nQ 1547 409 2034 409 \nQ 2525 409 2770 889 \nQ 3016 1369 3016 2328 \nQ 3016 3291 2770 3770 \nQ 2525 4250 2034 4250 \nz\nM 2034 4750 \nQ 2819 4750 3233 4129 \nQ 3647 3509 3647 2328 \nQ 3647 1150 3233 529 \nQ 2819 -91 2034 -91 \nQ 1250 -91 836 529 \nQ 422 1150 422 2328 \nQ 422 3509 836 4129 \nQ 1250 4750 2034 4750 \nz\n\" id=\"DejaVuSans-30\" transform=\"scale(0.015625)\"/>\n        <path d=\"M 684 794 \nL 1344 794 \nL 1344 0 \nL 684 0 \nL 684 794 \nz\n\" id=\"DejaVuSans-2e\" transform=\"scale(0.015625)\"/>\n       </defs>\n       <use xlink:href=\"#DejaVuSans-30\"/>\n       <use x=\"63.623047\" xlink:href=\"#DejaVuSans-2e\"/>\n       <use x=\"95.410156\" xlink:href=\"#DejaVuSans-30\"/>\n      </g>\n     </g>\n    </g>\n    <g id=\"xtick_2\">\n     <g id=\"line2d_2\">\n      <g>\n       <use style=\"stroke:#000000;stroke-width:0.8;\" x=\"399.98654\" xlink:href=\"#m62ddda5c96\" y=\"565.918125\"/>\n      </g>\n     </g>\n     <g id=\"text_2\">\n      <!-- 0.1 -->\n      <g transform=\"translate(388.854353 583.555938)scale(0.14 -0.14)\">\n       <defs>\n        <path d=\"M 794 531 \nL 1825 531 \nL 1825 4091 \nL 703 3866 \nL 703 4441 \nL 1819 4666 \nL 2450 4666 \nL 2450 531 \nL 3481 531 \nL 3481 0 \nL 794 0 \nL 794 531 \nz\n\" id=\"DejaVuSans-31\" transform=\"scale(0.015625)\"/>\n       </defs>\n       <use xlink:href=\"#DejaVuSans-30\"/>\n       <use x=\"63.623047\" xlink:href=\"#DejaVuSans-2e\"/>\n       <use x=\"95.410156\" xlink:href=\"#DejaVuSans-31\"/>\n      </g>\n     </g>\n    </g>\n    <g id=\"xtick_3\">\n     <g id=\"line2d_3\">\n      <g>\n       <use style=\"stroke:#000000;stroke-width:0.8;\" x=\"345.46449\" xlink:href=\"#m62ddda5c96\" y=\"565.918125\"/>\n      </g>\n     </g>\n     <g id=\"text_3\">\n      <!-- 0.2 -->\n      <g transform=\"translate(334.332303 583.555938)scale(0.14 -0.14)\">\n       <defs>\n        <path d=\"M 1228 531 \nL 3431 531 \nL 3431 0 \nL 469 0 \nL 469 531 \nQ 828 903 1448 1529 \nQ 2069 2156 2228 2338 \nQ 2531 2678 2651 2914 \nQ 2772 3150 2772 3378 \nQ 2772 3750 2511 3984 \nQ 2250 4219 1831 4219 \nQ 1534 4219 1204 4116 \nQ 875 4013 500 3803 \nL 500 4441 \nQ 881 4594 1212 4672 \nQ 1544 4750 1819 4750 \nQ 2544 4750 2975 4387 \nQ 3406 4025 3406 3419 \nQ 3406 3131 3298 2873 \nQ 3191 2616 2906 2266 \nQ 2828 2175 2409 1742 \nQ 1991 1309 1228 531 \nz\n\" id=\"DejaVuSans-32\" transform=\"scale(0.015625)\"/>\n       </defs>\n       <use xlink:href=\"#DejaVuSans-30\"/>\n       <use x=\"63.623047\" xlink:href=\"#DejaVuSans-2e\"/>\n       <use x=\"95.410156\" xlink:href=\"#DejaVuSans-32\"/>\n      </g>\n     </g>\n    </g>\n    <g id=\"xtick_4\">\n     <g id=\"line2d_4\">\n      <g>\n       <use style=\"stroke:#000000;stroke-width:0.8;\" x=\"290.94244\" xlink:href=\"#m62ddda5c96\" y=\"565.918125\"/>\n      </g>\n     </g>\n     <g id=\"text_4\">\n      <!-- 0.3 -->\n      <g transform=\"translate(279.810252 583.555938)scale(0.14 -0.14)\">\n       <defs>\n        <path d=\"M 2597 2516 \nQ 3050 2419 3304 2112 \nQ 3559 1806 3559 1356 \nQ 3559 666 3084 287 \nQ 2609 -91 1734 -91 \nQ 1441 -91 1130 -33 \nQ 819 25 488 141 \nL 488 750 \nQ 750 597 1062 519 \nQ 1375 441 1716 441 \nQ 2309 441 2620 675 \nQ 2931 909 2931 1356 \nQ 2931 1769 2642 2001 \nQ 2353 2234 1838 2234 \nL 1294 2234 \nL 1294 2753 \nL 1863 2753 \nQ 2328 2753 2575 2939 \nQ 2822 3125 2822 3475 \nQ 2822 3834 2567 4026 \nQ 2313 4219 1838 4219 \nQ 1578 4219 1281 4162 \nQ 984 4106 628 3988 \nL 628 4550 \nQ 988 4650 1302 4700 \nQ 1616 4750 1894 4750 \nQ 2613 4750 3031 4423 \nQ 3450 4097 3450 3541 \nQ 3450 3153 3228 2886 \nQ 3006 2619 2597 2516 \nz\n\" id=\"DejaVuSans-33\" transform=\"scale(0.015625)\"/>\n       </defs>\n       <use xlink:href=\"#DejaVuSans-30\"/>\n       <use x=\"63.623047\" xlink:href=\"#DejaVuSans-2e\"/>\n       <use x=\"95.410156\" xlink:href=\"#DejaVuSans-33\"/>\n      </g>\n     </g>\n    </g>\n    <g id=\"xtick_5\">\n     <g id=\"line2d_5\">\n      <g>\n       <use style=\"stroke:#000000;stroke-width:0.8;\" x=\"236.420389\" xlink:href=\"#m62ddda5c96\" y=\"565.918125\"/>\n      </g>\n     </g>\n     <g id=\"text_5\">\n      <!-- 0.4 -->\n      <g transform=\"translate(225.288202 583.555938)scale(0.14 -0.14)\">\n       <defs>\n        <path d=\"M 2419 4116 \nL 825 1625 \nL 2419 1625 \nL 2419 4116 \nz\nM 2253 4666 \nL 3047 4666 \nL 3047 1625 \nL 3713 1625 \nL 3713 1100 \nL 3047 1100 \nL 3047 0 \nL 2419 0 \nL 2419 1100 \nL 313 1100 \nL 313 1709 \nL 2253 4666 \nz\n\" id=\"DejaVuSans-34\" transform=\"scale(0.015625)\"/>\n       </defs>\n       <use xlink:href=\"#DejaVuSans-30\"/>\n       <use x=\"63.623047\" xlink:href=\"#DejaVuSans-2e\"/>\n       <use x=\"95.410156\" xlink:href=\"#DejaVuSans-34\"/>\n      </g>\n     </g>\n    </g>\n    <g id=\"xtick_6\">\n     <g id=\"line2d_6\">\n      <g>\n       <use style=\"stroke:#000000;stroke-width:0.8;\" x=\"181.898339\" xlink:href=\"#m62ddda5c96\" y=\"565.918125\"/>\n      </g>\n     </g>\n     <g id=\"text_6\">\n      <!-- 0.5 -->\n      <g transform=\"translate(170.766151 583.555938)scale(0.14 -0.14)\">\n       <defs>\n        <path d=\"M 691 4666 \nL 3169 4666 \nL 3169 4134 \nL 1269 4134 \nL 1269 2991 \nQ 1406 3038 1543 3061 \nQ 1681 3084 1819 3084 \nQ 2600 3084 3056 2656 \nQ 3513 2228 3513 1497 \nQ 3513 744 3044 326 \nQ 2575 -91 1722 -91 \nQ 1428 -91 1123 -41 \nQ 819 9 494 109 \nL 494 744 \nQ 775 591 1075 516 \nQ 1375 441 1709 441 \nQ 2250 441 2565 725 \nQ 2881 1009 2881 1497 \nQ 2881 1984 2565 2268 \nQ 2250 2553 1709 2553 \nQ 1456 2553 1204 2497 \nQ 953 2441 691 2322 \nL 691 4666 \nz\n\" id=\"DejaVuSans-35\" transform=\"scale(0.015625)\"/>\n       </defs>\n       <use xlink:href=\"#DejaVuSans-30\"/>\n       <use x=\"63.623047\" xlink:href=\"#DejaVuSans-2e\"/>\n       <use x=\"95.410156\" xlink:href=\"#DejaVuSans-35\"/>\n      </g>\n     </g>\n    </g>\n    <g id=\"xtick_7\">\n     <g id=\"line2d_7\">\n      <g>\n       <use style=\"stroke:#000000;stroke-width:0.8;\" x=\"127.376288\" xlink:href=\"#m62ddda5c96\" y=\"565.918125\"/>\n      </g>\n     </g>\n     <g id=\"text_7\">\n      <!-- 0.6 -->\n      <g transform=\"translate(116.244101 583.555938)scale(0.14 -0.14)\">\n       <defs>\n        <path d=\"M 2113 2584 \nQ 1688 2584 1439 2293 \nQ 1191 2003 1191 1497 \nQ 1191 994 1439 701 \nQ 1688 409 2113 409 \nQ 2538 409 2786 701 \nQ 3034 994 3034 1497 \nQ 3034 2003 2786 2293 \nQ 2538 2584 2113 2584 \nz\nM 3366 4563 \nL 3366 3988 \nQ 3128 4100 2886 4159 \nQ 2644 4219 2406 4219 \nQ 1781 4219 1451 3797 \nQ 1122 3375 1075 2522 \nQ 1259 2794 1537 2939 \nQ 1816 3084 2150 3084 \nQ 2853 3084 3261 2657 \nQ 3669 2231 3669 1497 \nQ 3669 778 3244 343 \nQ 2819 -91 2113 -91 \nQ 1303 -91 875 529 \nQ 447 1150 447 2328 \nQ 447 3434 972 4092 \nQ 1497 4750 2381 4750 \nQ 2619 4750 2861 4703 \nQ 3103 4656 3366 4563 \nz\n\" id=\"DejaVuSans-36\" transform=\"scale(0.015625)\"/>\n       </defs>\n       <use xlink:href=\"#DejaVuSans-30\"/>\n       <use x=\"63.623047\" xlink:href=\"#DejaVuSans-2e\"/>\n       <use x=\"95.410156\" xlink:href=\"#DejaVuSans-36\"/>\n      </g>\n     </g>\n    </g>\n    <g id=\"xtick_8\">\n     <g id=\"line2d_8\">\n      <g>\n       <use style=\"stroke:#000000;stroke-width:0.8;\" x=\"72.854238\" xlink:href=\"#m62ddda5c96\" y=\"565.918125\"/>\n      </g>\n     </g>\n     <g id=\"text_8\">\n      <!-- 0.7 -->\n      <g transform=\"translate(61.72205 583.555938)scale(0.14 -0.14)\">\n       <defs>\n        <path d=\"M 525 4666 \nL 3525 4666 \nL 3525 4397 \nL 1831 0 \nL 1172 0 \nL 2766 4134 \nL 525 4134 \nL 525 4666 \nz\n\" id=\"DejaVuSans-37\" transform=\"scale(0.015625)\"/>\n       </defs>\n       <use xlink:href=\"#DejaVuSans-30\"/>\n       <use x=\"63.623047\" xlink:href=\"#DejaVuSans-2e\"/>\n       <use x=\"95.410156\" xlink:href=\"#DejaVuSans-37\"/>\n      </g>\n     </g>\n    </g>\n    <g id=\"xtick_9\">\n     <g id=\"line2d_9\">\n      <g>\n       <use style=\"stroke:#000000;stroke-width:0.8;\" x=\"18.332188\" xlink:href=\"#m62ddda5c96\" y=\"565.918125\"/>\n      </g>\n     </g>\n     <g id=\"text_9\">\n      <!-- 0.8 -->\n      <g transform=\"translate(7.2 583.555938)scale(0.14 -0.14)\">\n       <defs>\n        <path d=\"M 2034 2216 \nQ 1584 2216 1326 1975 \nQ 1069 1734 1069 1313 \nQ 1069 891 1326 650 \nQ 1584 409 2034 409 \nQ 2484 409 2743 651 \nQ 3003 894 3003 1313 \nQ 3003 1734 2745 1975 \nQ 2488 2216 2034 2216 \nz\nM 1403 2484 \nQ 997 2584 770 2862 \nQ 544 3141 544 3541 \nQ 544 4100 942 4425 \nQ 1341 4750 2034 4750 \nQ 2731 4750 3128 4425 \nQ 3525 4100 3525 3541 \nQ 3525 3141 3298 2862 \nQ 3072 2584 2669 2484 \nQ 3125 2378 3379 2068 \nQ 3634 1759 3634 1313 \nQ 3634 634 3220 271 \nQ 2806 -91 2034 -91 \nQ 1263 -91 848 271 \nQ 434 634 434 1313 \nQ 434 1759 690 2068 \nQ 947 2378 1403 2484 \nz\nM 1172 3481 \nQ 1172 3119 1398 2916 \nQ 1625 2713 2034 2713 \nQ 2441 2713 2670 2916 \nQ 2900 3119 2900 3481 \nQ 2900 3844 2670 4047 \nQ 2441 4250 2034 4250 \nQ 1625 4250 1398 4047 \nQ 1172 3844 1172 3481 \nz\n\" id=\"DejaVuSans-38\" transform=\"scale(0.015625)\"/>\n       </defs>\n       <use xlink:href=\"#DejaVuSans-30\"/>\n       <use x=\"63.623047\" xlink:href=\"#DejaVuSans-2e\"/>\n       <use x=\"95.410156\" xlink:href=\"#DejaVuSans-38\"/>\n      </g>\n     </g>\n    </g>\n   </g>\n   <g id=\"matplotlib.axis_2\">\n    <g id=\"ytick_1\">\n     <g id=\"text_10\">\n      <!-- Hesiod: Works and Days -->\n      <g transform=\"translate(461.508591 556.931768)scale(0.14 -0.14)\">\n       <defs>\n        <path d=\"M 628 4666 \nL 1259 4666 \nL 1259 2753 \nL 3553 2753 \nL 3553 4666 \nL 4184 4666 \nL 4184 0 \nL 3553 0 \nL 3553 2222 \nL 1259 2222 \nL 1259 0 \nL 628 0 \nL 628 4666 \nz\n\" id=\"DejaVuSans-48\" transform=\"scale(0.015625)\"/>\n        <path d=\"M 3597 1894 \nL 3597 1613 \nL 953 1613 \nQ 991 1019 1311 708 \nQ 1631 397 2203 397 \nQ 2534 397 2845 478 \nQ 3156 559 3463 722 \nL 3463 178 \nQ 3153 47 2828 -22 \nQ 2503 -91 2169 -91 \nQ 1331 -91 842 396 \nQ 353 884 353 1716 \nQ 353 2575 817 3079 \nQ 1281 3584 2069 3584 \nQ 2775 3584 3186 3129 \nQ 3597 2675 3597 1894 \nz\nM 3022 2063 \nQ 3016 2534 2758 2815 \nQ 2500 3097 2075 3097 \nQ 1594 3097 1305 2825 \nQ 1016 2553 972 2059 \nL 3022 2063 \nz\n\" id=\"DejaVuSans-65\" transform=\"scale(0.015625)\"/>\n        <path d=\"M 2834 3397 \nL 2834 2853 \nQ 2591 2978 2328 3040 \nQ 2066 3103 1784 3103 \nQ 1356 3103 1142 2972 \nQ 928 2841 928 2578 \nQ 928 2378 1081 2264 \nQ 1234 2150 1697 2047 \nL 1894 2003 \nQ 2506 1872 2764 1633 \nQ 3022 1394 3022 966 \nQ 3022 478 2636 193 \nQ 2250 -91 1575 -91 \nQ 1294 -91 989 -36 \nQ 684 19 347 128 \nL 347 722 \nQ 666 556 975 473 \nQ 1284 391 1588 391 \nQ 1994 391 2212 530 \nQ 2431 669 2431 922 \nQ 2431 1156 2273 1281 \nQ 2116 1406 1581 1522 \nL 1381 1569 \nQ 847 1681 609 1914 \nQ 372 2147 372 2553 \nQ 372 3047 722 3315 \nQ 1072 3584 1716 3584 \nQ 2034 3584 2315 3537 \nQ 2597 3491 2834 3397 \nz\n\" id=\"DejaVuSans-73\" transform=\"scale(0.015625)\"/>\n        <path d=\"M 603 3500 \nL 1178 3500 \nL 1178 0 \nL 603 0 \nL 603 3500 \nz\nM 603 4863 \nL 1178 4863 \nL 1178 4134 \nL 603 4134 \nL 603 4863 \nz\n\" id=\"DejaVuSans-69\" transform=\"scale(0.015625)\"/>\n        <path d=\"M 1959 3097 \nQ 1497 3097 1228 2736 \nQ 959 2375 959 1747 \nQ 959 1119 1226 758 \nQ 1494 397 1959 397 \nQ 2419 397 2687 759 \nQ 2956 1122 2956 1747 \nQ 2956 2369 2687 2733 \nQ 2419 3097 1959 3097 \nz\nM 1959 3584 \nQ 2709 3584 3137 3096 \nQ 3566 2609 3566 1747 \nQ 3566 888 3137 398 \nQ 2709 -91 1959 -91 \nQ 1206 -91 779 398 \nQ 353 888 353 1747 \nQ 353 2609 779 3096 \nQ 1206 3584 1959 3584 \nz\n\" id=\"DejaVuSans-6f\" transform=\"scale(0.015625)\"/>\n        <path d=\"M 2906 2969 \nL 2906 4863 \nL 3481 4863 \nL 3481 0 \nL 2906 0 \nL 2906 525 \nQ 2725 213 2448 61 \nQ 2172 -91 1784 -91 \nQ 1150 -91 751 415 \nQ 353 922 353 1747 \nQ 353 2572 751 3078 \nQ 1150 3584 1784 3584 \nQ 2172 3584 2448 3432 \nQ 2725 3281 2906 2969 \nz\nM 947 1747 \nQ 947 1113 1208 752 \nQ 1469 391 1925 391 \nQ 2381 391 2643 752 \nQ 2906 1113 2906 1747 \nQ 2906 2381 2643 2742 \nQ 2381 3103 1925 3103 \nQ 1469 3103 1208 2742 \nQ 947 2381 947 1747 \nz\n\" id=\"DejaVuSans-64\" transform=\"scale(0.015625)\"/>\n        <path d=\"M 750 794 \nL 1409 794 \nL 1409 0 \nL 750 0 \nL 750 794 \nz\nM 750 3309 \nL 1409 3309 \nL 1409 2516 \nL 750 2516 \nL 750 3309 \nz\n\" id=\"DejaVuSans-3a\" transform=\"scale(0.015625)\"/>\n        <path id=\"DejaVuSans-20\" transform=\"scale(0.015625)\"/>\n        <path d=\"M 213 4666 \nL 850 4666 \nL 1831 722 \nL 2809 4666 \nL 3519 4666 \nL 4500 722 \nL 5478 4666 \nL 6119 4666 \nL 4947 0 \nL 4153 0 \nL 3169 4050 \nL 2175 0 \nL 1381 0 \nL 213 4666 \nz\n\" id=\"DejaVuSans-57\" transform=\"scale(0.015625)\"/>\n        <path d=\"M 2631 2963 \nQ 2534 3019 2420 3045 \nQ 2306 3072 2169 3072 \nQ 1681 3072 1420 2755 \nQ 1159 2438 1159 1844 \nL 1159 0 \nL 581 0 \nL 581 3500 \nL 1159 3500 \nL 1159 2956 \nQ 1341 3275 1631 3429 \nQ 1922 3584 2338 3584 \nQ 2397 3584 2469 3576 \nQ 2541 3569 2628 3553 \nL 2631 2963 \nz\n\" id=\"DejaVuSans-72\" transform=\"scale(0.015625)\"/>\n        <path d=\"M 581 4863 \nL 1159 4863 \nL 1159 1991 \nL 2875 3500 \nL 3609 3500 \nL 1753 1863 \nL 3688 0 \nL 2938 0 \nL 1159 1709 \nL 1159 0 \nL 581 0 \nL 581 4863 \nz\n\" id=\"DejaVuSans-6b\" transform=\"scale(0.015625)\"/>\n        <path d=\"M 2194 1759 \nQ 1497 1759 1228 1600 \nQ 959 1441 959 1056 \nQ 959 750 1161 570 \nQ 1363 391 1709 391 \nQ 2188 391 2477 730 \nQ 2766 1069 2766 1631 \nL 2766 1759 \nL 2194 1759 \nz\nM 3341 1997 \nL 3341 0 \nL 2766 0 \nL 2766 531 \nQ 2569 213 2275 61 \nQ 1981 -91 1556 -91 \nQ 1019 -91 701 211 \nQ 384 513 384 1019 \nQ 384 1609 779 1909 \nQ 1175 2209 1959 2209 \nL 2766 2209 \nL 2766 2266 \nQ 2766 2663 2505 2880 \nQ 2244 3097 1772 3097 \nQ 1472 3097 1187 3025 \nQ 903 2953 641 2809 \nL 641 3341 \nQ 956 3463 1253 3523 \nQ 1550 3584 1831 3584 \nQ 2591 3584 2966 3190 \nQ 3341 2797 3341 1997 \nz\n\" id=\"DejaVuSans-61\" transform=\"scale(0.015625)\"/>\n        <path d=\"M 3513 2113 \nL 3513 0 \nL 2938 0 \nL 2938 2094 \nQ 2938 2591 2744 2837 \nQ 2550 3084 2163 3084 \nQ 1697 3084 1428 2787 \nQ 1159 2491 1159 1978 \nL 1159 0 \nL 581 0 \nL 581 3500 \nL 1159 3500 \nL 1159 2956 \nQ 1366 3272 1645 3428 \nQ 1925 3584 2291 3584 \nQ 2894 3584 3203 3211 \nQ 3513 2838 3513 2113 \nz\n\" id=\"DejaVuSans-6e\" transform=\"scale(0.015625)\"/>\n        <path d=\"M 1259 4147 \nL 1259 519 \nL 2022 519 \nQ 2988 519 3436 956 \nQ 3884 1394 3884 2338 \nQ 3884 3275 3436 3711 \nQ 2988 4147 2022 4147 \nL 1259 4147 \nz\nM 628 4666 \nL 1925 4666 \nQ 3281 4666 3915 4102 \nQ 4550 3538 4550 2338 \nQ 4550 1131 3912 565 \nQ 3275 0 1925 0 \nL 628 0 \nL 628 4666 \nz\n\" id=\"DejaVuSans-44\" transform=\"scale(0.015625)\"/>\n        <path d=\"M 2059 -325 \nQ 1816 -950 1584 -1140 \nQ 1353 -1331 966 -1331 \nL 506 -1331 \nL 506 -850 \nL 844 -850 \nQ 1081 -850 1212 -737 \nQ 1344 -625 1503 -206 \nL 1606 56 \nL 191 3500 \nL 800 3500 \nL 1894 763 \nL 2988 3500 \nL 3597 3500 \nL 2059 -325 \nz\n\" id=\"DejaVuSans-79\" transform=\"scale(0.015625)\"/>\n       </defs>\n       <use xlink:href=\"#DejaVuSans-48\"/>\n       <use x=\"75.195312\" xlink:href=\"#DejaVuSans-65\"/>\n       <use x=\"136.71875\" xlink:href=\"#DejaVuSans-73\"/>\n       <use x=\"188.818359\" xlink:href=\"#DejaVuSans-69\"/>\n       <use x=\"216.601562\" xlink:href=\"#DejaVuSans-6f\"/>\n       <use x=\"277.783203\" xlink:href=\"#DejaVuSans-64\"/>\n       <use x=\"341.259766\" xlink:href=\"#DejaVuSans-3a\"/>\n       <use x=\"374.951172\" xlink:href=\"#DejaVuSans-20\"/>\n       <use x=\"406.738281\" xlink:href=\"#DejaVuSans-57\"/>\n       <use x=\"499.740234\" xlink:href=\"#DejaVuSans-6f\"/>\n       <use x=\"560.921875\" xlink:href=\"#DejaVuSans-72\"/>\n       <use x=\"602.035156\" xlink:href=\"#DejaVuSans-6b\"/>\n       <use x=\"659.945312\" xlink:href=\"#DejaVuSans-73\"/>\n       <use x=\"712.044922\" xlink:href=\"#DejaVuSans-20\"/>\n       <use x=\"743.832031\" xlink:href=\"#DejaVuSans-61\"/>\n       <use x=\"805.111328\" xlink:href=\"#DejaVuSans-6e\"/>\n       <use x=\"868.490234\" xlink:href=\"#DejaVuSans-64\"/>\n       <use x=\"931.966797\" xlink:href=\"#DejaVuSans-20\"/>\n       <use x=\"963.753906\" xlink:href=\"#DejaVuSans-44\"/>\n       <use x=\"1040.755859\" xlink:href=\"#DejaVuSans-61\"/>\n       <use x=\"1102.035156\" xlink:href=\"#DejaVuSans-79\"/>\n       <use x=\"1161.214844\" xlink:href=\"#DejaVuSans-73\"/>\n      </g>\n     </g>\n    </g>\n    <g id=\"ytick_2\">\n     <g id=\"text_11\">\n      <!-- Hesiod: Theogony -->\n      <g transform=\"translate(461.508591 528.321242)scale(0.14 -0.14)\">\n       <defs>\n        <path d=\"M -19 4666 \nL 3928 4666 \nL 3928 4134 \nL 2272 4134 \nL 2272 0 \nL 1638 0 \nL 1638 4134 \nL -19 4134 \nL -19 4666 \nz\n\" id=\"DejaVuSans-54\" transform=\"scale(0.015625)\"/>\n        <path d=\"M 3513 2113 \nL 3513 0 \nL 2938 0 \nL 2938 2094 \nQ 2938 2591 2744 2837 \nQ 2550 3084 2163 3084 \nQ 1697 3084 1428 2787 \nQ 1159 2491 1159 1978 \nL 1159 0 \nL 581 0 \nL 581 4863 \nL 1159 4863 \nL 1159 2956 \nQ 1366 3272 1645 3428 \nQ 1925 3584 2291 3584 \nQ 2894 3584 3203 3211 \nQ 3513 2838 3513 2113 \nz\n\" id=\"DejaVuSans-68\" transform=\"scale(0.015625)\"/>\n        <path d=\"M 2906 1791 \nQ 2906 2416 2648 2759 \nQ 2391 3103 1925 3103 \nQ 1463 3103 1205 2759 \nQ 947 2416 947 1791 \nQ 947 1169 1205 825 \nQ 1463 481 1925 481 \nQ 2391 481 2648 825 \nQ 2906 1169 2906 1791 \nz\nM 3481 434 \nQ 3481 -459 3084 -895 \nQ 2688 -1331 1869 -1331 \nQ 1566 -1331 1297 -1286 \nQ 1028 -1241 775 -1147 \nL 775 -588 \nQ 1028 -725 1275 -790 \nQ 1522 -856 1778 -856 \nQ 2344 -856 2625 -561 \nQ 2906 -266 2906 331 \nL 2906 616 \nQ 2728 306 2450 153 \nQ 2172 0 1784 0 \nQ 1141 0 747 490 \nQ 353 981 353 1791 \nQ 353 2603 747 3093 \nQ 1141 3584 1784 3584 \nQ 2172 3584 2450 3431 \nQ 2728 3278 2906 2969 \nL 2906 3500 \nL 3481 3500 \nL 3481 434 \nz\n\" id=\"DejaVuSans-67\" transform=\"scale(0.015625)\"/>\n       </defs>\n       <use xlink:href=\"#DejaVuSans-48\"/>\n       <use x=\"75.195312\" xlink:href=\"#DejaVuSans-65\"/>\n       <use x=\"136.71875\" xlink:href=\"#DejaVuSans-73\"/>\n       <use x=\"188.818359\" xlink:href=\"#DejaVuSans-69\"/>\n       <use x=\"216.601562\" xlink:href=\"#DejaVuSans-6f\"/>\n       <use x=\"277.783203\" xlink:href=\"#DejaVuSans-64\"/>\n       <use x=\"341.259766\" xlink:href=\"#DejaVuSans-3a\"/>\n       <use x=\"374.951172\" xlink:href=\"#DejaVuSans-20\"/>\n       <use x=\"406.738281\" xlink:href=\"#DejaVuSans-54\"/>\n       <use x=\"467.822266\" xlink:href=\"#DejaVuSans-68\"/>\n       <use x=\"531.201172\" xlink:href=\"#DejaVuSans-65\"/>\n       <use x=\"592.724609\" xlink:href=\"#DejaVuSans-6f\"/>\n       <use x=\"653.90625\" xlink:href=\"#DejaVuSans-67\"/>\n       <use x=\"717.382812\" xlink:href=\"#DejaVuSans-6f\"/>\n       <use x=\"778.564453\" xlink:href=\"#DejaVuSans-6e\"/>\n       <use x=\"841.943359\" xlink:href=\"#DejaVuSans-79\"/>\n      </g>\n     </g>\n    </g>\n    <g id=\"ytick_3\">\n     <g id=\"text_12\">\n      <!-- Homeric_Hymns: Homeric Hymns -->\n      <g transform=\"translate(461.508591 499.710715)scale(0.14 -0.14)\">\n       <defs>\n        <path d=\"M 3328 2828 \nQ 3544 3216 3844 3400 \nQ 4144 3584 4550 3584 \nQ 5097 3584 5394 3201 \nQ 5691 2819 5691 2113 \nL 5691 0 \nL 5113 0 \nL 5113 2094 \nQ 5113 2597 4934 2840 \nQ 4756 3084 4391 3084 \nQ 3944 3084 3684 2787 \nQ 3425 2491 3425 1978 \nL 3425 0 \nL 2847 0 \nL 2847 2094 \nQ 2847 2600 2669 2842 \nQ 2491 3084 2119 3084 \nQ 1678 3084 1418 2786 \nQ 1159 2488 1159 1978 \nL 1159 0 \nL 581 0 \nL 581 3500 \nL 1159 3500 \nL 1159 2956 \nQ 1356 3278 1631 3431 \nQ 1906 3584 2284 3584 \nQ 2666 3584 2933 3390 \nQ 3200 3197 3328 2828 \nz\n\" id=\"DejaVuSans-6d\" transform=\"scale(0.015625)\"/>\n        <path d=\"M 3122 3366 \nL 3122 2828 \nQ 2878 2963 2633 3030 \nQ 2388 3097 2138 3097 \nQ 1578 3097 1268 2742 \nQ 959 2388 959 1747 \nQ 959 1106 1268 751 \nQ 1578 397 2138 397 \nQ 2388 397 2633 464 \nQ 2878 531 3122 666 \nL 3122 134 \nQ 2881 22 2623 -34 \nQ 2366 -91 2075 -91 \nQ 1284 -91 818 406 \nQ 353 903 353 1747 \nQ 353 2603 823 3093 \nQ 1294 3584 2113 3584 \nQ 2378 3584 2631 3529 \nQ 2884 3475 3122 3366 \nz\n\" id=\"DejaVuSans-63\" transform=\"scale(0.015625)\"/>\n        <path d=\"M 3263 -1063 \nL 3263 -1509 \nL -63 -1509 \nL -63 -1063 \nL 3263 -1063 \nz\n\" id=\"DejaVuSans-5f\" transform=\"scale(0.015625)\"/>\n       </defs>\n       <use xlink:href=\"#DejaVuSans-48\"/>\n       <use x=\"75.195312\" xlink:href=\"#DejaVuSans-6f\"/>\n       <use x=\"136.376953\" xlink:href=\"#DejaVuSans-6d\"/>\n       <use x=\"233.789062\" xlink:href=\"#DejaVuSans-65\"/>\n       <use x=\"295.3125\" xlink:href=\"#DejaVuSans-72\"/>\n       <use x=\"336.425781\" xlink:href=\"#DejaVuSans-69\"/>\n       <use x=\"364.208984\" xlink:href=\"#DejaVuSans-63\"/>\n       <use x=\"419.189453\" xlink:href=\"#DejaVuSans-5f\"/>\n       <use x=\"469.189453\" xlink:href=\"#DejaVuSans-48\"/>\n       <use x=\"544.384766\" xlink:href=\"#DejaVuSans-79\"/>\n       <use x=\"603.564453\" xlink:href=\"#DejaVuSans-6d\"/>\n       <use x=\"700.976562\" xlink:href=\"#DejaVuSans-6e\"/>\n       <use x=\"764.355469\" xlink:href=\"#DejaVuSans-73\"/>\n       <use x=\"816.455078\" xlink:href=\"#DejaVuSans-3a\"/>\n       <use x=\"850.146484\" xlink:href=\"#DejaVuSans-20\"/>\n       <use x=\"881.933594\" xlink:href=\"#DejaVuSans-48\"/>\n       <use x=\"957.128906\" xlink:href=\"#DejaVuSans-6f\"/>\n       <use x=\"1018.310547\" xlink:href=\"#DejaVuSans-6d\"/>\n       <use x=\"1115.722656\" xlink:href=\"#DejaVuSans-65\"/>\n       <use x=\"1177.246094\" xlink:href=\"#DejaVuSans-72\"/>\n       <use x=\"1218.359375\" xlink:href=\"#DejaVuSans-69\"/>\n       <use x=\"1246.142578\" xlink:href=\"#DejaVuSans-63\"/>\n       <use x=\"1301.123047\" xlink:href=\"#DejaVuSans-20\"/>\n       <use x=\"1332.910156\" xlink:href=\"#DejaVuSans-48\"/>\n       <use x=\"1408.105469\" xlink:href=\"#DejaVuSans-79\"/>\n       <use x=\"1467.285156\" xlink:href=\"#DejaVuSans-6d\"/>\n       <use x=\"1564.697266\" xlink:href=\"#DejaVuSans-6e\"/>\n       <use x=\"1628.076172\" xlink:href=\"#DejaVuSans-73\"/>\n      </g>\n     </g>\n    </g>\n    <g id=\"ytick_4\">\n     <g id=\"text_13\">\n      <!-- Euripides: Iphigenia in Aulis -->\n      <g transform=\"translate(461.508591 471.100189)scale(0.14 -0.14)\">\n       <defs>\n        <path d=\"M 628 4666 \nL 3578 4666 \nL 3578 4134 \nL 1259 4134 \nL 1259 2753 \nL 3481 2753 \nL 3481 2222 \nL 1259 2222 \nL 1259 531 \nL 3634 531 \nL 3634 0 \nL 628 0 \nL 628 4666 \nz\n\" id=\"DejaVuSans-45\" transform=\"scale(0.015625)\"/>\n        <path d=\"M 544 1381 \nL 544 3500 \nL 1119 3500 \nL 1119 1403 \nQ 1119 906 1312 657 \nQ 1506 409 1894 409 \nQ 2359 409 2629 706 \nQ 2900 1003 2900 1516 \nL 2900 3500 \nL 3475 3500 \nL 3475 0 \nL 2900 0 \nL 2900 538 \nQ 2691 219 2414 64 \nQ 2138 -91 1772 -91 \nQ 1169 -91 856 284 \nQ 544 659 544 1381 \nz\nM 1991 3584 \nL 1991 3584 \nz\n\" id=\"DejaVuSans-75\" transform=\"scale(0.015625)\"/>\n        <path d=\"M 1159 525 \nL 1159 -1331 \nL 581 -1331 \nL 581 3500 \nL 1159 3500 \nL 1159 2969 \nQ 1341 3281 1617 3432 \nQ 1894 3584 2278 3584 \nQ 2916 3584 3314 3078 \nQ 3713 2572 3713 1747 \nQ 3713 922 3314 415 \nQ 2916 -91 2278 -91 \nQ 1894 -91 1617 61 \nQ 1341 213 1159 525 \nz\nM 3116 1747 \nQ 3116 2381 2855 2742 \nQ 2594 3103 2138 3103 \nQ 1681 3103 1420 2742 \nQ 1159 2381 1159 1747 \nQ 1159 1113 1420 752 \nQ 1681 391 2138 391 \nQ 2594 391 2855 752 \nQ 3116 1113 3116 1747 \nz\n\" id=\"DejaVuSans-70\" transform=\"scale(0.015625)\"/>\n        <path d=\"M 628 4666 \nL 1259 4666 \nL 1259 0 \nL 628 0 \nL 628 4666 \nz\n\" id=\"DejaVuSans-49\" transform=\"scale(0.015625)\"/>\n        <path d=\"M 2188 4044 \nL 1331 1722 \nL 3047 1722 \nL 2188 4044 \nz\nM 1831 4666 \nL 2547 4666 \nL 4325 0 \nL 3669 0 \nL 3244 1197 \nL 1141 1197 \nL 716 0 \nL 50 0 \nL 1831 4666 \nz\n\" id=\"DejaVuSans-41\" transform=\"scale(0.015625)\"/>\n        <path d=\"M 603 4863 \nL 1178 4863 \nL 1178 0 \nL 603 0 \nL 603 4863 \nz\n\" id=\"DejaVuSans-6c\" transform=\"scale(0.015625)\"/>\n       </defs>\n       <use xlink:href=\"#DejaVuSans-45\"/>\n       <use x=\"63.183594\" xlink:href=\"#DejaVuSans-75\"/>\n       <use x=\"126.5625\" xlink:href=\"#DejaVuSans-72\"/>\n       <use x=\"167.675781\" xlink:href=\"#DejaVuSans-69\"/>\n       <use x=\"195.458984\" xlink:href=\"#DejaVuSans-70\"/>\n       <use x=\"258.935547\" xlink:href=\"#DejaVuSans-69\"/>\n       <use x=\"286.71875\" xlink:href=\"#DejaVuSans-64\"/>\n       <use x=\"350.195312\" xlink:href=\"#DejaVuSans-65\"/>\n       <use x=\"411.71875\" xlink:href=\"#DejaVuSans-73\"/>\n       <use x=\"463.818359\" xlink:href=\"#DejaVuSans-3a\"/>\n       <use x=\"497.509766\" xlink:href=\"#DejaVuSans-20\"/>\n       <use x=\"529.296875\" xlink:href=\"#DejaVuSans-49\"/>\n       <use x=\"558.789062\" xlink:href=\"#DejaVuSans-70\"/>\n       <use x=\"622.265625\" xlink:href=\"#DejaVuSans-68\"/>\n       <use x=\"685.644531\" xlink:href=\"#DejaVuSans-69\"/>\n       <use x=\"713.427734\" xlink:href=\"#DejaVuSans-67\"/>\n       <use x=\"776.904297\" xlink:href=\"#DejaVuSans-65\"/>\n       <use x=\"838.427734\" xlink:href=\"#DejaVuSans-6e\"/>\n       <use x=\"901.806641\" xlink:href=\"#DejaVuSans-69\"/>\n       <use x=\"929.589844\" xlink:href=\"#DejaVuSans-61\"/>\n       <use x=\"990.869141\" xlink:href=\"#DejaVuSans-20\"/>\n       <use x=\"1022.65625\" xlink:href=\"#DejaVuSans-69\"/>\n       <use x=\"1050.439453\" xlink:href=\"#DejaVuSans-6e\"/>\n       <use x=\"1113.818359\" xlink:href=\"#DejaVuSans-20\"/>\n       <use x=\"1145.605469\" xlink:href=\"#DejaVuSans-41\"/>\n       <use x=\"1214.013672\" xlink:href=\"#DejaVuSans-75\"/>\n       <use x=\"1277.392578\" xlink:href=\"#DejaVuSans-6c\"/>\n       <use x=\"1305.175781\" xlink:href=\"#DejaVuSans-69\"/>\n       <use x=\"1332.958984\" xlink:href=\"#DejaVuSans-73\"/>\n      </g>\n     </g>\n    </g>\n    <g id=\"ytick_5\">\n     <g id=\"text_14\">\n      <!-- Euripides: The Trojan Women -->\n      <g transform=\"translate(461.508591 442.489663)scale(0.14 -0.14)\">\n       <defs>\n        <path d=\"M 603 3500 \nL 1178 3500 \nL 1178 -63 \nQ 1178 -731 923 -1031 \nQ 669 -1331 103 -1331 \nL -116 -1331 \nL -116 -844 \nL 38 -844 \nQ 366 -844 484 -692 \nQ 603 -541 603 -63 \nL 603 3500 \nz\nM 603 4863 \nL 1178 4863 \nL 1178 4134 \nL 603 4134 \nL 603 4863 \nz\n\" id=\"DejaVuSans-6a\" transform=\"scale(0.015625)\"/>\n       </defs>\n       <use xlink:href=\"#DejaVuSans-45\"/>\n       <use x=\"63.183594\" xlink:href=\"#DejaVuSans-75\"/>\n       <use x=\"126.5625\" xlink:href=\"#DejaVuSans-72\"/>\n       <use x=\"167.675781\" xlink:href=\"#DejaVuSans-69\"/>\n       <use x=\"195.458984\" xlink:href=\"#DejaVuSans-70\"/>\n       <use x=\"258.935547\" xlink:href=\"#DejaVuSans-69\"/>\n       <use x=\"286.71875\" xlink:href=\"#DejaVuSans-64\"/>\n       <use x=\"350.195312\" xlink:href=\"#DejaVuSans-65\"/>\n       <use x=\"411.71875\" xlink:href=\"#DejaVuSans-73\"/>\n       <use x=\"463.818359\" xlink:href=\"#DejaVuSans-3a\"/>\n       <use x=\"497.509766\" xlink:href=\"#DejaVuSans-20\"/>\n       <use x=\"529.296875\" xlink:href=\"#DejaVuSans-54\"/>\n       <use x=\"590.380859\" xlink:href=\"#DejaVuSans-68\"/>\n       <use x=\"653.759766\" xlink:href=\"#DejaVuSans-65\"/>\n       <use x=\"715.283203\" xlink:href=\"#DejaVuSans-20\"/>\n       <use x=\"747.070312\" xlink:href=\"#DejaVuSans-54\"/>\n       <use x=\"793.404297\" xlink:href=\"#DejaVuSans-72\"/>\n       <use x=\"832.267578\" xlink:href=\"#DejaVuSans-6f\"/>\n       <use x=\"893.449219\" xlink:href=\"#DejaVuSans-6a\"/>\n       <use x=\"921.232422\" xlink:href=\"#DejaVuSans-61\"/>\n       <use x=\"982.511719\" xlink:href=\"#DejaVuSans-6e\"/>\n       <use x=\"1045.890625\" xlink:href=\"#DejaVuSans-20\"/>\n       <use x=\"1077.677734\" xlink:href=\"#DejaVuSans-57\"/>\n       <use x=\"1170.679688\" xlink:href=\"#DejaVuSans-6f\"/>\n       <use x=\"1231.861328\" xlink:href=\"#DejaVuSans-6d\"/>\n       <use x=\"1329.273438\" xlink:href=\"#DejaVuSans-65\"/>\n       <use x=\"1390.796875\" xlink:href=\"#DejaVuSans-6e\"/>\n      </g>\n     </g>\n    </g>\n    <g id=\"ytick_6\">\n     <g id=\"text_15\">\n      <!-- Homer: Odyssey -->\n      <g transform=\"translate(461.508591 413.879137)scale(0.14 -0.14)\">\n       <defs>\n        <path d=\"M 2522 4238 \nQ 1834 4238 1429 3725 \nQ 1025 3213 1025 2328 \nQ 1025 1447 1429 934 \nQ 1834 422 2522 422 \nQ 3209 422 3611 934 \nQ 4013 1447 4013 2328 \nQ 4013 3213 3611 3725 \nQ 3209 4238 2522 4238 \nz\nM 2522 4750 \nQ 3503 4750 4090 4092 \nQ 4678 3434 4678 2328 \nQ 4678 1225 4090 567 \nQ 3503 -91 2522 -91 \nQ 1538 -91 948 565 \nQ 359 1222 359 2328 \nQ 359 3434 948 4092 \nQ 1538 4750 2522 4750 \nz\n\" id=\"DejaVuSans-4f\" transform=\"scale(0.015625)\"/>\n       </defs>\n       <use xlink:href=\"#DejaVuSans-48\"/>\n       <use x=\"75.195312\" xlink:href=\"#DejaVuSans-6f\"/>\n       <use x=\"136.376953\" xlink:href=\"#DejaVuSans-6d\"/>\n       <use x=\"233.789062\" xlink:href=\"#DejaVuSans-65\"/>\n       <use x=\"295.3125\" xlink:href=\"#DejaVuSans-72\"/>\n       <use x=\"334.675781\" xlink:href=\"#DejaVuSans-3a\"/>\n       <use x=\"368.367188\" xlink:href=\"#DejaVuSans-20\"/>\n       <use x=\"400.154297\" xlink:href=\"#DejaVuSans-4f\"/>\n       <use x=\"478.865234\" xlink:href=\"#DejaVuSans-64\"/>\n       <use x=\"542.341797\" xlink:href=\"#DejaVuSans-79\"/>\n       <use x=\"601.521484\" xlink:href=\"#DejaVuSans-73\"/>\n       <use x=\"653.621094\" xlink:href=\"#DejaVuSans-73\"/>\n       <use x=\"705.720703\" xlink:href=\"#DejaVuSans-65\"/>\n       <use x=\"767.244141\" xlink:href=\"#DejaVuSans-79\"/>\n      </g>\n     </g>\n    </g>\n    <g id=\"ytick_7\">\n     <g id=\"text_16\">\n      <!-- Homer: Iliad -->\n      <g transform=\"translate(461.508591 385.26861)scale(0.14 -0.14)\">\n       <use xlink:href=\"#DejaVuSans-48\"/>\n       <use x=\"75.195312\" xlink:href=\"#DejaVuSans-6f\"/>\n       <use x=\"136.376953\" xlink:href=\"#DejaVuSans-6d\"/>\n       <use x=\"233.789062\" xlink:href=\"#DejaVuSans-65\"/>\n       <use x=\"295.3125\" xlink:href=\"#DejaVuSans-72\"/>\n       <use x=\"334.675781\" xlink:href=\"#DejaVuSans-3a\"/>\n       <use x=\"368.367188\" xlink:href=\"#DejaVuSans-20\"/>\n       <use x=\"400.154297\" xlink:href=\"#DejaVuSans-49\"/>\n       <use x=\"429.646484\" xlink:href=\"#DejaVuSans-6c\"/>\n       <use x=\"457.429688\" xlink:href=\"#DejaVuSans-69\"/>\n       <use x=\"485.212891\" xlink:href=\"#DejaVuSans-61\"/>\n       <use x=\"546.492188\" xlink:href=\"#DejaVuSans-64\"/>\n      </g>\n     </g>\n    </g>\n    <g id=\"ytick_8\">\n     <g id=\"text_17\">\n      <!-- Ovid: Metamorphoses -->\n      <g transform=\"translate(461.508591 356.658084)scale(0.14 -0.14)\">\n       <defs>\n        <path d=\"M 191 3500 \nL 800 3500 \nL 1894 563 \nL 2988 3500 \nL 3597 3500 \nL 2284 0 \nL 1503 0 \nL 191 3500 \nz\n\" id=\"DejaVuSans-76\" transform=\"scale(0.015625)\"/>\n        <path d=\"M 628 4666 \nL 1569 4666 \nL 2759 1491 \nL 3956 4666 \nL 4897 4666 \nL 4897 0 \nL 4281 0 \nL 4281 4097 \nL 3078 897 \nL 2444 897 \nL 1241 4097 \nL 1241 0 \nL 628 0 \nL 628 4666 \nz\n\" id=\"DejaVuSans-4d\" transform=\"scale(0.015625)\"/>\n        <path d=\"M 1172 4494 \nL 1172 3500 \nL 2356 3500 \nL 2356 3053 \nL 1172 3053 \nL 1172 1153 \nQ 1172 725 1289 603 \nQ 1406 481 1766 481 \nL 2356 481 \nL 2356 0 \nL 1766 0 \nQ 1100 0 847 248 \nQ 594 497 594 1153 \nL 594 3053 \nL 172 3053 \nL 172 3500 \nL 594 3500 \nL 594 4494 \nL 1172 4494 \nz\n\" id=\"DejaVuSans-74\" transform=\"scale(0.015625)\"/>\n       </defs>\n       <use xlink:href=\"#DejaVuSans-4f\"/>\n       <use x=\"78.710938\" xlink:href=\"#DejaVuSans-76\"/>\n       <use x=\"137.890625\" xlink:href=\"#DejaVuSans-69\"/>\n       <use x=\"165.673828\" xlink:href=\"#DejaVuSans-64\"/>\n       <use x=\"229.150391\" xlink:href=\"#DejaVuSans-3a\"/>\n       <use x=\"262.841797\" xlink:href=\"#DejaVuSans-20\"/>\n       <use x=\"294.628906\" xlink:href=\"#DejaVuSans-4d\"/>\n       <use x=\"380.908203\" xlink:href=\"#DejaVuSans-65\"/>\n       <use x=\"442.431641\" xlink:href=\"#DejaVuSans-74\"/>\n       <use x=\"481.640625\" xlink:href=\"#DejaVuSans-61\"/>\n       <use x=\"542.919922\" xlink:href=\"#DejaVuSans-6d\"/>\n       <use x=\"640.332031\" xlink:href=\"#DejaVuSans-6f\"/>\n       <use x=\"701.513672\" xlink:href=\"#DejaVuSans-72\"/>\n       <use x=\"742.626953\" xlink:href=\"#DejaVuSans-70\"/>\n       <use x=\"806.103516\" xlink:href=\"#DejaVuSans-68\"/>\n       <use x=\"869.482422\" xlink:href=\"#DejaVuSans-6f\"/>\n       <use x=\"930.664062\" xlink:href=\"#DejaVuSans-73\"/>\n       <use x=\"982.763672\" xlink:href=\"#DejaVuSans-65\"/>\n       <use x=\"1044.287109\" xlink:href=\"#DejaVuSans-73\"/>\n      </g>\n     </g>\n    </g>\n    <g id=\"ytick_9\">\n     <g id=\"text_18\">\n      <!-- Vergil: Aeneid -->\n      <g transform=\"translate(461.508591 328.047558)scale(0.14 -0.14)\">\n       <defs>\n        <path d=\"M 1831 0 \nL 50 4666 \nL 709 4666 \nL 2188 738 \nL 3669 4666 \nL 4325 4666 \nL 2547 0 \nL 1831 0 \nz\n\" id=\"DejaVuSans-56\" transform=\"scale(0.015625)\"/>\n       </defs>\n       <use xlink:href=\"#DejaVuSans-56\"/>\n       <use x=\"60.658203\" xlink:href=\"#DejaVuSans-65\"/>\n       <use x=\"122.181641\" xlink:href=\"#DejaVuSans-72\"/>\n       <use x=\"161.544922\" xlink:href=\"#DejaVuSans-67\"/>\n       <use x=\"225.021484\" xlink:href=\"#DejaVuSans-69\"/>\n       <use x=\"252.804688\" xlink:href=\"#DejaVuSans-6c\"/>\n       <use x=\"280.587891\" xlink:href=\"#DejaVuSans-3a\"/>\n       <use x=\"314.279297\" xlink:href=\"#DejaVuSans-20\"/>\n       <use x=\"346.066406\" xlink:href=\"#DejaVuSans-41\"/>\n       <use x=\"412.724609\" xlink:href=\"#DejaVuSans-65\"/>\n       <use x=\"474.248047\" xlink:href=\"#DejaVuSans-6e\"/>\n       <use x=\"537.626953\" xlink:href=\"#DejaVuSans-65\"/>\n       <use x=\"599.150391\" xlink:href=\"#DejaVuSans-69\"/>\n       <use x=\"626.933594\" xlink:href=\"#DejaVuSans-64\"/>\n      </g>\n     </g>\n    </g>\n    <g id=\"ytick_10\">\n     <g id=\"text_19\">\n      <!-- Euripides: Bacchae -->\n      <g transform=\"translate(461.508591 299.437031)scale(0.14 -0.14)\">\n       <defs>\n        <path d=\"M 1259 2228 \nL 1259 519 \nL 2272 519 \nQ 2781 519 3026 730 \nQ 3272 941 3272 1375 \nQ 3272 1813 3026 2020 \nQ 2781 2228 2272 2228 \nL 1259 2228 \nz\nM 1259 4147 \nL 1259 2741 \nL 2194 2741 \nQ 2656 2741 2882 2914 \nQ 3109 3088 3109 3444 \nQ 3109 3797 2882 3972 \nQ 2656 4147 2194 4147 \nL 1259 4147 \nz\nM 628 4666 \nL 2241 4666 \nQ 2963 4666 3353 4366 \nQ 3744 4066 3744 3513 \nQ 3744 3084 3544 2831 \nQ 3344 2578 2956 2516 \nQ 3422 2416 3680 2098 \nQ 3938 1781 3938 1306 \nQ 3938 681 3513 340 \nQ 3088 0 2303 0 \nL 628 0 \nL 628 4666 \nz\n\" id=\"DejaVuSans-42\" transform=\"scale(0.015625)\"/>\n       </defs>\n       <use xlink:href=\"#DejaVuSans-45\"/>\n       <use x=\"63.183594\" xlink:href=\"#DejaVuSans-75\"/>\n       <use x=\"126.5625\" xlink:href=\"#DejaVuSans-72\"/>\n       <use x=\"167.675781\" xlink:href=\"#DejaVuSans-69\"/>\n       <use x=\"195.458984\" xlink:href=\"#DejaVuSans-70\"/>\n       <use x=\"258.935547\" xlink:href=\"#DejaVuSans-69\"/>\n       <use x=\"286.71875\" xlink:href=\"#DejaVuSans-64\"/>\n       <use x=\"350.195312\" xlink:href=\"#DejaVuSans-65\"/>\n       <use x=\"411.71875\" xlink:href=\"#DejaVuSans-73\"/>\n       <use x=\"463.818359\" xlink:href=\"#DejaVuSans-3a\"/>\n       <use x=\"497.509766\" xlink:href=\"#DejaVuSans-20\"/>\n       <use x=\"529.296875\" xlink:href=\"#DejaVuSans-42\"/>\n       <use x=\"597.900391\" xlink:href=\"#DejaVuSans-61\"/>\n       <use x=\"659.179688\" xlink:href=\"#DejaVuSans-63\"/>\n       <use x=\"714.160156\" xlink:href=\"#DejaVuSans-63\"/>\n       <use x=\"769.140625\" xlink:href=\"#DejaVuSans-68\"/>\n       <use x=\"832.519531\" xlink:href=\"#DejaVuSans-61\"/>\n       <use x=\"893.798828\" xlink:href=\"#DejaVuSans-65\"/>\n      </g>\n     </g>\n    </g>\n    <g id=\"ytick_11\">\n     <g id=\"text_20\">\n      <!-- Aeschylus: Prometheus Bound -->\n      <g transform=\"translate(461.508591 270.826505)scale(0.14 -0.14)\">\n       <defs>\n        <path d=\"M 1259 4147 \nL 1259 2394 \nL 2053 2394 \nQ 2494 2394 2734 2622 \nQ 2975 2850 2975 3272 \nQ 2975 3691 2734 3919 \nQ 2494 4147 2053 4147 \nL 1259 4147 \nz\nM 628 4666 \nL 2053 4666 \nQ 2838 4666 3239 4311 \nQ 3641 3956 3641 3272 \nQ 3641 2581 3239 2228 \nQ 2838 1875 2053 1875 \nL 1259 1875 \nL 1259 0 \nL 628 0 \nL 628 4666 \nz\n\" id=\"DejaVuSans-50\" transform=\"scale(0.015625)\"/>\n       </defs>\n       <use xlink:href=\"#DejaVuSans-41\"/>\n       <use x=\"66.658203\" xlink:href=\"#DejaVuSans-65\"/>\n       <use x=\"128.181641\" xlink:href=\"#DejaVuSans-73\"/>\n       <use x=\"180.28125\" xlink:href=\"#DejaVuSans-63\"/>\n       <use x=\"235.261719\" xlink:href=\"#DejaVuSans-68\"/>\n       <use x=\"298.640625\" xlink:href=\"#DejaVuSans-79\"/>\n       <use x=\"357.820312\" xlink:href=\"#DejaVuSans-6c\"/>\n       <use x=\"385.603516\" xlink:href=\"#DejaVuSans-75\"/>\n       <use x=\"448.982422\" xlink:href=\"#DejaVuSans-73\"/>\n       <use x=\"501.082031\" xlink:href=\"#DejaVuSans-3a\"/>\n       <use x=\"534.773438\" xlink:href=\"#DejaVuSans-20\"/>\n       <use x=\"566.560547\" xlink:href=\"#DejaVuSans-50\"/>\n       <use x=\"625.113281\" xlink:href=\"#DejaVuSans-72\"/>\n       <use x=\"663.976562\" xlink:href=\"#DejaVuSans-6f\"/>\n       <use x=\"725.158203\" xlink:href=\"#DejaVuSans-6d\"/>\n       <use x=\"822.570312\" xlink:href=\"#DejaVuSans-65\"/>\n       <use x=\"884.09375\" xlink:href=\"#DejaVuSans-74\"/>\n       <use x=\"923.302734\" xlink:href=\"#DejaVuSans-68\"/>\n       <use x=\"986.681641\" xlink:href=\"#DejaVuSans-65\"/>\n       <use x=\"1048.205078\" xlink:href=\"#DejaVuSans-75\"/>\n       <use x=\"1111.583984\" xlink:href=\"#DejaVuSans-73\"/>\n       <use x=\"1163.683594\" xlink:href=\"#DejaVuSans-20\"/>\n       <use x=\"1195.470703\" xlink:href=\"#DejaVuSans-42\"/>\n       <use x=\"1264.074219\" xlink:href=\"#DejaVuSans-6f\"/>\n       <use x=\"1325.255859\" xlink:href=\"#DejaVuSans-75\"/>\n       <use x=\"1388.634766\" xlink:href=\"#DejaVuSans-6e\"/>\n       <use x=\"1452.013672\" xlink:href=\"#DejaVuSans-64\"/>\n      </g>\n     </g>\n    </g>\n    <g id=\"ytick_12\">\n     <g id=\"text_21\">\n      <!-- Aeschylus: Eumenides -->\n      <g transform=\"translate(461.508591 242.215979)scale(0.14 -0.14)\">\n       <use xlink:href=\"#DejaVuSans-41\"/>\n       <use x=\"66.658203\" xlink:href=\"#DejaVuSans-65\"/>\n       <use x=\"128.181641\" xlink:href=\"#DejaVuSans-73\"/>\n       <use x=\"180.28125\" xlink:href=\"#DejaVuSans-63\"/>\n       <use x=\"235.261719\" xlink:href=\"#DejaVuSans-68\"/>\n       <use x=\"298.640625\" xlink:href=\"#DejaVuSans-79\"/>\n       <use x=\"357.820312\" xlink:href=\"#DejaVuSans-6c\"/>\n       <use x=\"385.603516\" xlink:href=\"#DejaVuSans-75\"/>\n       <use x=\"448.982422\" xlink:href=\"#DejaVuSans-73\"/>\n       <use x=\"501.082031\" xlink:href=\"#DejaVuSans-3a\"/>\n       <use x=\"534.773438\" xlink:href=\"#DejaVuSans-20\"/>\n       <use x=\"566.560547\" xlink:href=\"#DejaVuSans-45\"/>\n       <use x=\"629.744141\" xlink:href=\"#DejaVuSans-75\"/>\n       <use x=\"693.123047\" xlink:href=\"#DejaVuSans-6d\"/>\n       <use x=\"790.535156\" xlink:href=\"#DejaVuSans-65\"/>\n       <use x=\"852.058594\" xlink:href=\"#DejaVuSans-6e\"/>\n       <use x=\"915.4375\" xlink:href=\"#DejaVuSans-69\"/>\n       <use x=\"943.220703\" xlink:href=\"#DejaVuSans-64\"/>\n       <use x=\"1006.697266\" xlink:href=\"#DejaVuSans-65\"/>\n       <use x=\"1068.220703\" xlink:href=\"#DejaVuSans-73\"/>\n      </g>\n     </g>\n    </g>\n    <g id=\"ytick_13\">\n     <g id=\"text_22\">\n      <!-- Aeschylus: Agamemnon -->\n      <g transform=\"translate(461.508591 213.605452)scale(0.14 -0.14)\">\n       <use xlink:href=\"#DejaVuSans-41\"/>\n       <use x=\"66.658203\" xlink:href=\"#DejaVuSans-65\"/>\n       <use x=\"128.181641\" xlink:href=\"#DejaVuSans-73\"/>\n       <use x=\"180.28125\" xlink:href=\"#DejaVuSans-63\"/>\n       <use x=\"235.261719\" xlink:href=\"#DejaVuSans-68\"/>\n       <use x=\"298.640625\" xlink:href=\"#DejaVuSans-79\"/>\n       <use x=\"357.820312\" xlink:href=\"#DejaVuSans-6c\"/>\n       <use x=\"385.603516\" xlink:href=\"#DejaVuSans-75\"/>\n       <use x=\"448.982422\" xlink:href=\"#DejaVuSans-73\"/>\n       <use x=\"501.082031\" xlink:href=\"#DejaVuSans-3a\"/>\n       <use x=\"534.773438\" xlink:href=\"#DejaVuSans-20\"/>\n       <use x=\"566.560547\" xlink:href=\"#DejaVuSans-41\"/>\n       <use x=\"634.96875\" xlink:href=\"#DejaVuSans-67\"/>\n       <use x=\"698.445312\" xlink:href=\"#DejaVuSans-61\"/>\n       <use x=\"759.724609\" xlink:href=\"#DejaVuSans-6d\"/>\n       <use x=\"857.136719\" xlink:href=\"#DejaVuSans-65\"/>\n       <use x=\"918.660156\" xlink:href=\"#DejaVuSans-6d\"/>\n       <use x=\"1016.072266\" xlink:href=\"#DejaVuSans-6e\"/>\n       <use x=\"1079.451172\" xlink:href=\"#DejaVuSans-6f\"/>\n       <use x=\"1140.632812\" xlink:href=\"#DejaVuSans-6e\"/>\n      </g>\n     </g>\n    </g>\n    <g id=\"ytick_14\">\n     <g id=\"text_23\">\n      <!-- Aeschylus: Libation Bearers -->\n      <g transform=\"translate(461.508591 184.994926)scale(0.14 -0.14)\">\n       <defs>\n        <path d=\"M 628 4666 \nL 1259 4666 \nL 1259 531 \nL 3531 531 \nL 3531 0 \nL 628 0 \nL 628 4666 \nz\n\" id=\"DejaVuSans-4c\" transform=\"scale(0.015625)\"/>\n        <path d=\"M 3116 1747 \nQ 3116 2381 2855 2742 \nQ 2594 3103 2138 3103 \nQ 1681 3103 1420 2742 \nQ 1159 2381 1159 1747 \nQ 1159 1113 1420 752 \nQ 1681 391 2138 391 \nQ 2594 391 2855 752 \nQ 3116 1113 3116 1747 \nz\nM 1159 2969 \nQ 1341 3281 1617 3432 \nQ 1894 3584 2278 3584 \nQ 2916 3584 3314 3078 \nQ 3713 2572 3713 1747 \nQ 3713 922 3314 415 \nQ 2916 -91 2278 -91 \nQ 1894 -91 1617 61 \nQ 1341 213 1159 525 \nL 1159 0 \nL 581 0 \nL 581 4863 \nL 1159 4863 \nL 1159 2969 \nz\n\" id=\"DejaVuSans-62\" transform=\"scale(0.015625)\"/>\n       </defs>\n       <use xlink:href=\"#DejaVuSans-41\"/>\n       <use x=\"66.658203\" xlink:href=\"#DejaVuSans-65\"/>\n       <use x=\"128.181641\" xlink:href=\"#DejaVuSans-73\"/>\n       <use x=\"180.28125\" xlink:href=\"#DejaVuSans-63\"/>\n       <use x=\"235.261719\" xlink:href=\"#DejaVuSans-68\"/>\n       <use x=\"298.640625\" xlink:href=\"#DejaVuSans-79\"/>\n       <use x=\"357.820312\" xlink:href=\"#DejaVuSans-6c\"/>\n       <use x=\"385.603516\" xlink:href=\"#DejaVuSans-75\"/>\n       <use x=\"448.982422\" xlink:href=\"#DejaVuSans-73\"/>\n       <use x=\"501.082031\" xlink:href=\"#DejaVuSans-3a\"/>\n       <use x=\"534.773438\" xlink:href=\"#DejaVuSans-20\"/>\n       <use x=\"566.560547\" xlink:href=\"#DejaVuSans-4c\"/>\n       <use x=\"622.273438\" xlink:href=\"#DejaVuSans-69\"/>\n       <use x=\"650.056641\" xlink:href=\"#DejaVuSans-62\"/>\n       <use x=\"713.533203\" xlink:href=\"#DejaVuSans-61\"/>\n       <use x=\"774.8125\" xlink:href=\"#DejaVuSans-74\"/>\n       <use x=\"814.021484\" xlink:href=\"#DejaVuSans-69\"/>\n       <use x=\"841.804688\" xlink:href=\"#DejaVuSans-6f\"/>\n       <use x=\"902.986328\" xlink:href=\"#DejaVuSans-6e\"/>\n       <use x=\"966.365234\" xlink:href=\"#DejaVuSans-20\"/>\n       <use x=\"998.152344\" xlink:href=\"#DejaVuSans-42\"/>\n       <use x=\"1066.755859\" xlink:href=\"#DejaVuSans-65\"/>\n       <use x=\"1128.279297\" xlink:href=\"#DejaVuSans-61\"/>\n       <use x=\"1189.558594\" xlink:href=\"#DejaVuSans-72\"/>\n       <use x=\"1228.421875\" xlink:href=\"#DejaVuSans-65\"/>\n       <use x=\"1289.945312\" xlink:href=\"#DejaVuSans-72\"/>\n       <use x=\"1331.058594\" xlink:href=\"#DejaVuSans-73\"/>\n      </g>\n     </g>\n    </g>\n    <g id=\"ytick_15\">\n     <g id=\"text_24\">\n      <!-- Sophocles: Oedipus Tyrannus -->\n      <g transform=\"translate(461.508591 156.3844)scale(0.14 -0.14)\">\n       <defs>\n        <path d=\"M 3425 4513 \nL 3425 3897 \nQ 3066 4069 2747 4153 \nQ 2428 4238 2131 4238 \nQ 1616 4238 1336 4038 \nQ 1056 3838 1056 3469 \nQ 1056 3159 1242 3001 \nQ 1428 2844 1947 2747 \nL 2328 2669 \nQ 3034 2534 3370 2195 \nQ 3706 1856 3706 1288 \nQ 3706 609 3251 259 \nQ 2797 -91 1919 -91 \nQ 1588 -91 1214 -16 \nQ 841 59 441 206 \nL 441 856 \nQ 825 641 1194 531 \nQ 1563 422 1919 422 \nQ 2459 422 2753 634 \nQ 3047 847 3047 1241 \nQ 3047 1584 2836 1778 \nQ 2625 1972 2144 2069 \nL 1759 2144 \nQ 1053 2284 737 2584 \nQ 422 2884 422 3419 \nQ 422 4038 858 4394 \nQ 1294 4750 2059 4750 \nQ 2388 4750 2728 4690 \nQ 3069 4631 3425 4513 \nz\n\" id=\"DejaVuSans-53\" transform=\"scale(0.015625)\"/>\n       </defs>\n       <use xlink:href=\"#DejaVuSans-53\"/>\n       <use x=\"63.476562\" xlink:href=\"#DejaVuSans-6f\"/>\n       <use x=\"124.658203\" xlink:href=\"#DejaVuSans-70\"/>\n       <use x=\"188.134766\" xlink:href=\"#DejaVuSans-68\"/>\n       <use x=\"251.513672\" xlink:href=\"#DejaVuSans-6f\"/>\n       <use x=\"312.695312\" xlink:href=\"#DejaVuSans-63\"/>\n       <use x=\"367.675781\" xlink:href=\"#DejaVuSans-6c\"/>\n       <use x=\"395.458984\" xlink:href=\"#DejaVuSans-65\"/>\n       <use x=\"456.982422\" xlink:href=\"#DejaVuSans-73\"/>\n       <use x=\"509.082031\" xlink:href=\"#DejaVuSans-3a\"/>\n       <use x=\"542.773438\" xlink:href=\"#DejaVuSans-20\"/>\n       <use x=\"574.560547\" xlink:href=\"#DejaVuSans-4f\"/>\n       <use x=\"653.271484\" xlink:href=\"#DejaVuSans-65\"/>\n       <use x=\"714.794922\" xlink:href=\"#DejaVuSans-64\"/>\n       <use x=\"778.271484\" xlink:href=\"#DejaVuSans-69\"/>\n       <use x=\"806.054688\" xlink:href=\"#DejaVuSans-70\"/>\n       <use x=\"869.53125\" xlink:href=\"#DejaVuSans-75\"/>\n       <use x=\"932.910156\" xlink:href=\"#DejaVuSans-73\"/>\n       <use x=\"985.009766\" xlink:href=\"#DejaVuSans-20\"/>\n       <use x=\"1016.796875\" xlink:href=\"#DejaVuSans-54\"/>\n       <use x=\"1062.255859\" xlink:href=\"#DejaVuSans-79\"/>\n       <use x=\"1121.435547\" xlink:href=\"#DejaVuSans-72\"/>\n       <use x=\"1162.548828\" xlink:href=\"#DejaVuSans-61\"/>\n       <use x=\"1223.828125\" xlink:href=\"#DejaVuSans-6e\"/>\n       <use x=\"1287.207031\" xlink:href=\"#DejaVuSans-6e\"/>\n       <use x=\"1350.585938\" xlink:href=\"#DejaVuSans-75\"/>\n       <use x=\"1413.964844\" xlink:href=\"#DejaVuSans-73\"/>\n      </g>\n     </g>\n    </g>\n    <g id=\"ytick_16\">\n     <g id=\"text_25\">\n      <!-- Sophocles: Oedipus at Colonus -->\n      <g transform=\"translate(461.508591 127.773873)scale(0.14 -0.14)\">\n       <defs>\n        <path d=\"M 4122 4306 \nL 4122 3641 \nQ 3803 3938 3442 4084 \nQ 3081 4231 2675 4231 \nQ 1875 4231 1450 3742 \nQ 1025 3253 1025 2328 \nQ 1025 1406 1450 917 \nQ 1875 428 2675 428 \nQ 3081 428 3442 575 \nQ 3803 722 4122 1019 \nL 4122 359 \nQ 3791 134 3420 21 \nQ 3050 -91 2638 -91 \nQ 1578 -91 968 557 \nQ 359 1206 359 2328 \nQ 359 3453 968 4101 \nQ 1578 4750 2638 4750 \nQ 3056 4750 3426 4639 \nQ 3797 4528 4122 4306 \nz\n\" id=\"DejaVuSans-43\" transform=\"scale(0.015625)\"/>\n       </defs>\n       <use xlink:href=\"#DejaVuSans-53\"/>\n       <use x=\"63.476562\" xlink:href=\"#DejaVuSans-6f\"/>\n       <use x=\"124.658203\" xlink:href=\"#DejaVuSans-70\"/>\n       <use x=\"188.134766\" xlink:href=\"#DejaVuSans-68\"/>\n       <use x=\"251.513672\" xlink:href=\"#DejaVuSans-6f\"/>\n       <use x=\"312.695312\" xlink:href=\"#DejaVuSans-63\"/>\n       <use x=\"367.675781\" xlink:href=\"#DejaVuSans-6c\"/>\n       <use x=\"395.458984\" xlink:href=\"#DejaVuSans-65\"/>\n       <use x=\"456.982422\" xlink:href=\"#DejaVuSans-73\"/>\n       <use x=\"509.082031\" xlink:href=\"#DejaVuSans-3a\"/>\n       <use x=\"542.773438\" xlink:href=\"#DejaVuSans-20\"/>\n       <use x=\"574.560547\" xlink:href=\"#DejaVuSans-4f\"/>\n       <use x=\"653.271484\" xlink:href=\"#DejaVuSans-65\"/>\n       <use x=\"714.794922\" xlink:href=\"#DejaVuSans-64\"/>\n       <use x=\"778.271484\" xlink:href=\"#DejaVuSans-69\"/>\n       <use x=\"806.054688\" xlink:href=\"#DejaVuSans-70\"/>\n       <use x=\"869.53125\" xlink:href=\"#DejaVuSans-75\"/>\n       <use x=\"932.910156\" xlink:href=\"#DejaVuSans-73\"/>\n       <use x=\"985.009766\" xlink:href=\"#DejaVuSans-20\"/>\n       <use x=\"1016.796875\" xlink:href=\"#DejaVuSans-61\"/>\n       <use x=\"1078.076172\" xlink:href=\"#DejaVuSans-74\"/>\n       <use x=\"1117.285156\" xlink:href=\"#DejaVuSans-20\"/>\n       <use x=\"1149.072266\" xlink:href=\"#DejaVuSans-43\"/>\n       <use x=\"1218.896484\" xlink:href=\"#DejaVuSans-6f\"/>\n       <use x=\"1280.078125\" xlink:href=\"#DejaVuSans-6c\"/>\n       <use x=\"1307.861328\" xlink:href=\"#DejaVuSans-6f\"/>\n       <use x=\"1369.042969\" xlink:href=\"#DejaVuSans-6e\"/>\n       <use x=\"1432.421875\" xlink:href=\"#DejaVuSans-75\"/>\n       <use x=\"1495.800781\" xlink:href=\"#DejaVuSans-73\"/>\n      </g>\n     </g>\n    </g>\n    <g id=\"ytick_17\">\n     <g id=\"text_26\">\n      <!-- Sophocles: Ajax -->\n      <g transform=\"translate(461.508591 99.163347)scale(0.14 -0.14)\">\n       <defs>\n        <path d=\"M 3513 3500 \nL 2247 1797 \nL 3578 0 \nL 2900 0 \nL 1881 1375 \nL 863 0 \nL 184 0 \nL 1544 1831 \nL 300 3500 \nL 978 3500 \nL 1906 2253 \nL 2834 3500 \nL 3513 3500 \nz\n\" id=\"DejaVuSans-78\" transform=\"scale(0.015625)\"/>\n       </defs>\n       <use xlink:href=\"#DejaVuSans-53\"/>\n       <use x=\"63.476562\" xlink:href=\"#DejaVuSans-6f\"/>\n       <use x=\"124.658203\" xlink:href=\"#DejaVuSans-70\"/>\n       <use x=\"188.134766\" xlink:href=\"#DejaVuSans-68\"/>\n       <use x=\"251.513672\" xlink:href=\"#DejaVuSans-6f\"/>\n       <use x=\"312.695312\" xlink:href=\"#DejaVuSans-63\"/>\n       <use x=\"367.675781\" xlink:href=\"#DejaVuSans-6c\"/>\n       <use x=\"395.458984\" xlink:href=\"#DejaVuSans-65\"/>\n       <use x=\"456.982422\" xlink:href=\"#DejaVuSans-73\"/>\n       <use x=\"509.082031\" xlink:href=\"#DejaVuSans-3a\"/>\n       <use x=\"542.773438\" xlink:href=\"#DejaVuSans-20\"/>\n       <use x=\"574.560547\" xlink:href=\"#DejaVuSans-41\"/>\n       <use x=\"642.96875\" xlink:href=\"#DejaVuSans-6a\"/>\n       <use x=\"670.751953\" xlink:href=\"#DejaVuSans-61\"/>\n       <use x=\"732.03125\" xlink:href=\"#DejaVuSans-78\"/>\n      </g>\n     </g>\n    </g>\n    <g id=\"ytick_18\">\n     <g id=\"text_27\">\n      <!-- Sophocles: Antigone -->\n      <g transform=\"translate(461.508591 70.552821)scale(0.14 -0.14)\">\n       <use xlink:href=\"#DejaVuSans-53\"/>\n       <use x=\"63.476562\" xlink:href=\"#DejaVuSans-6f\"/>\n       <use x=\"124.658203\" xlink:href=\"#DejaVuSans-70\"/>\n       <use x=\"188.134766\" xlink:href=\"#DejaVuSans-68\"/>\n       <use x=\"251.513672\" xlink:href=\"#DejaVuSans-6f\"/>\n       <use x=\"312.695312\" xlink:href=\"#DejaVuSans-63\"/>\n       <use x=\"367.675781\" xlink:href=\"#DejaVuSans-6c\"/>\n       <use x=\"395.458984\" xlink:href=\"#DejaVuSans-65\"/>\n       <use x=\"456.982422\" xlink:href=\"#DejaVuSans-73\"/>\n       <use x=\"509.082031\" xlink:href=\"#DejaVuSans-3a\"/>\n       <use x=\"542.773438\" xlink:href=\"#DejaVuSans-20\"/>\n       <use x=\"574.560547\" xlink:href=\"#DejaVuSans-41\"/>\n       <use x=\"642.96875\" xlink:href=\"#DejaVuSans-6e\"/>\n       <use x=\"706.347656\" xlink:href=\"#DejaVuSans-74\"/>\n       <use x=\"745.556641\" xlink:href=\"#DejaVuSans-69\"/>\n       <use x=\"773.339844\" xlink:href=\"#DejaVuSans-67\"/>\n       <use x=\"836.816406\" xlink:href=\"#DejaVuSans-6f\"/>\n       <use x=\"897.998047\" xlink:href=\"#DejaVuSans-6e\"/>\n       <use x=\"961.376953\" xlink:href=\"#DejaVuSans-65\"/>\n      </g>\n     </g>\n    </g>\n    <g id=\"ytick_19\">\n     <g id=\"text_28\">\n      <!-- Sophocles: Electra -->\n      <g transform=\"translate(461.508591 41.942294)scale(0.14 -0.14)\">\n       <use xlink:href=\"#DejaVuSans-53\"/>\n       <use x=\"63.476562\" xlink:href=\"#DejaVuSans-6f\"/>\n       <use x=\"124.658203\" xlink:href=\"#DejaVuSans-70\"/>\n       <use x=\"188.134766\" xlink:href=\"#DejaVuSans-68\"/>\n       <use x=\"251.513672\" xlink:href=\"#DejaVuSans-6f\"/>\n       <use x=\"312.695312\" xlink:href=\"#DejaVuSans-63\"/>\n       <use x=\"367.675781\" xlink:href=\"#DejaVuSans-6c\"/>\n       <use x=\"395.458984\" xlink:href=\"#DejaVuSans-65\"/>\n       <use x=\"456.982422\" xlink:href=\"#DejaVuSans-73\"/>\n       <use x=\"509.082031\" xlink:href=\"#DejaVuSans-3a\"/>\n       <use x=\"542.773438\" xlink:href=\"#DejaVuSans-20\"/>\n       <use x=\"574.560547\" xlink:href=\"#DejaVuSans-45\"/>\n       <use x=\"637.744141\" xlink:href=\"#DejaVuSans-6c\"/>\n       <use x=\"665.527344\" xlink:href=\"#DejaVuSans-65\"/>\n       <use x=\"727.050781\" xlink:href=\"#DejaVuSans-63\"/>\n       <use x=\"782.03125\" xlink:href=\"#DejaVuSans-74\"/>\n       <use x=\"821.240234\" xlink:href=\"#DejaVuSans-72\"/>\n       <use x=\"862.353516\" xlink:href=\"#DejaVuSans-61\"/>\n      </g>\n     </g>\n    </g>\n   </g>\n   <g id=\"LineCollection_1\">\n    <path clip-path=\"url(#p8dc324efb6)\" d=\"M 454.508591 523.002336 \nL 141.298195 523.002336 \nL 141.298195 494.391809 \nL 454.508591 494.391809 \n\" style=\"fill:none;stroke:#ff7f0e;stroke-width:1.5;\"/>\n   </g>\n   <g id=\"LineCollection_2\">\n    <path clip-path=\"url(#p8dc324efb6)\" d=\"M 454.508591 465.781283 \nL 176.35769 465.781283 \nL 176.35769 437.170757 \nL 454.508591 437.170757 \n\" style=\"fill:none;stroke:#2ca02c;stroke-width:1.5;\"/>\n   </g>\n   <g id=\"LineCollection_3\">\n    <path clip-path=\"url(#p8dc324efb6)\" d=\"M 454.508591 408.56023 \nL 284.241854 408.56023 \nL 284.241854 379.949704 \nL 454.508591 379.949704 \n\" style=\"fill:none;stroke:#d62728;stroke-width:1.5;\"/>\n    <path clip-path=\"url(#p8dc324efb6)\" d=\"M 454.508591 351.339178 \nL 276.525926 351.339178 \nL 276.525926 322.728651 \nL 454.508591 322.728651 \n\" style=\"fill:none;stroke:#d62728;stroke-width:1.5;\"/>\n    <path clip-path=\"url(#p8dc324efb6)\" d=\"M 284.241854 394.254967 \nL 159.029211 394.254967 \nL 159.029211 337.033914 \nL 276.525926 337.033914 \n\" style=\"fill:none;stroke:#d62728;stroke-width:1.5;\"/>\n   </g>\n   <g id=\"LineCollection_4\">\n    <path clip-path=\"url(#p8dc324efb6)\" d=\"M 454.508591 208.286546 \nL 171.462009 208.286546 \nL 171.462009 179.67602 \nL 454.508591 179.67602 \n\" style=\"fill:none;stroke:#9467bd;stroke-width:1.5;\"/>\n    <path clip-path=\"url(#p8dc324efb6)\" d=\"M 454.508591 236.897072 \nL 134.384136 236.897072 \nL 134.384136 193.981283 \nL 171.462009 193.981283 \n\" style=\"fill:none;stroke:#9467bd;stroke-width:1.5;\"/>\n   </g>\n   <g id=\"LineCollection_5\">\n    <path clip-path=\"url(#p8dc324efb6)\" d=\"M 454.508591 151.065493 \nL 208.058111 151.065493 \nL 208.058111 122.454967 \nL 454.508591 122.454967 \n\" style=\"fill:none;stroke:#8c564b;stroke-width:1.5;\"/>\n    <path clip-path=\"url(#p8dc324efb6)\" d=\"M 454.508591 65.233914 \nL 168.492596 65.233914 \nL 168.492596 36.623388 \nL 454.508591 36.623388 \n\" style=\"fill:none;stroke:#8c564b;stroke-width:1.5;\"/>\n    <path clip-path=\"url(#p8dc324efb6)\" d=\"M 454.508591 93.844441 \nL 150.388134 93.844441 \nL 150.388134 50.928651 \nL 168.492596 50.928651 \n\" style=\"fill:none;stroke:#8c564b;stroke-width:1.5;\"/>\n    <path clip-path=\"url(#p8dc324efb6)\" d=\"M 208.058111 136.76023 \nL 129.677587 136.76023 \nL 129.677587 72.386546 \nL 150.388134 72.386546 \n\" style=\"fill:none;stroke:#8c564b;stroke-width:1.5;\"/>\n   </g>\n   <g id=\"LineCollection_6\">\n    <path clip-path=\"url(#p8dc324efb6)\" d=\"M 454.508591 551.612862 \nL 87.37376 551.612862 \nL 87.37376 508.697072 \nL 141.298195 508.697072 \n\" style=\"fill:none;stroke:#bfbfbf;stroke-width:1.5;\"/>\n    <path clip-path=\"url(#p8dc324efb6)\" d=\"M 176.35769 451.47602 \nL 93.533428 451.47602 \nL 93.533428 365.644441 \nL 159.029211 365.644441 \n\" style=\"fill:none;stroke:#bfbfbf;stroke-width:1.5;\"/>\n    <path clip-path=\"url(#p8dc324efb6)\" d=\"M 134.384136 215.439178 \nL 101.755269 215.439178 \nL 101.755269 104.573388 \nL 129.677587 104.573388 \n\" style=\"fill:none;stroke:#bfbfbf;stroke-width:1.5;\"/>\n    <path clip-path=\"url(#p8dc324efb6)\" d=\"M 454.508591 265.507599 \nL 78.435423 265.507599 \nL 78.435423 160.006283 \nL 101.755269 160.006283 \n\" style=\"fill:none;stroke:#bfbfbf;stroke-width:1.5;\"/>\n    <path clip-path=\"url(#p8dc324efb6)\" d=\"M 454.508591 294.118125 \nL 56.916734 294.118125 \nL 56.916734 212.756941 \nL 78.435423 212.756941 \n\" style=\"fill:none;stroke:#bfbfbf;stroke-width:1.5;\"/>\n    <path clip-path=\"url(#p8dc324efb6)\" d=\"M 93.533428 408.56023 \nL 47.043253 408.56023 \nL 47.043253 253.437533 \nL 56.916734 253.437533 \n\" style=\"fill:none;stroke:#bfbfbf;stroke-width:1.5;\"/>\n    <path clip-path=\"url(#p8dc324efb6)\" d=\"M 87.37376 530.154967 \nL 29.365734 530.154967 \nL 29.365734 330.998882 \nL 47.043253 330.998882 \n\" style=\"fill:none;stroke:#bfbfbf;stroke-width:1.5;\"/>\n   </g>\n   <g id=\"patch_3\">\n    <path d=\"M 8.108591 565.918125 \nL 8.108591 22.318125 \n\" style=\"fill:none;stroke:#000000;stroke-linecap:square;stroke-linejoin:miter;stroke-width:0.8;\"/>\n   </g>\n   <g id=\"patch_4\">\n    <path d=\"M 454.508591 565.918125 \nL 454.508591 22.318125 \n\" style=\"fill:none;stroke:#000000;stroke-linecap:square;stroke-linejoin:miter;stroke-width:0.8;\"/>\n   </g>\n   <g id=\"patch_5\">\n    <path d=\"M 8.108591 565.918125 \nL 454.508591 565.918125 \n\" style=\"fill:none;stroke:#000000;stroke-linecap:square;stroke-linejoin:miter;stroke-width:0.8;\"/>\n   </g>\n   <g id=\"patch_6\">\n    <path d=\"M 8.108591 22.318125 \nL 454.508591 22.318125 \n\" style=\"fill:none;stroke:#000000;stroke-linecap:square;stroke-linejoin:miter;stroke-width:0.8;\"/>\n   </g>\n   <g id=\"text_29\">\n    <!-- Metric: cosine -->\n    <g transform=\"translate(189.469841 16.318125)scale(0.12 -0.12)\">\n     <use xlink:href=\"#DejaVuSans-4d\"/>\n     <use x=\"86.279297\" xlink:href=\"#DejaVuSans-65\"/>\n     <use x=\"147.802734\" xlink:href=\"#DejaVuSans-74\"/>\n     <use x=\"187.011719\" xlink:href=\"#DejaVuSans-72\"/>\n     <use x=\"228.125\" xlink:href=\"#DejaVuSans-69\"/>\n     <use x=\"255.908203\" xlink:href=\"#DejaVuSans-63\"/>\n     <use x=\"310.888672\" xlink:href=\"#DejaVuSans-3a\"/>\n     <use x=\"344.580078\" xlink:href=\"#DejaVuSans-20\"/>\n     <use x=\"376.367188\" xlink:href=\"#DejaVuSans-63\"/>\n     <use x=\"431.347656\" xlink:href=\"#DejaVuSans-6f\"/>\n     <use x=\"492.529297\" xlink:href=\"#DejaVuSans-73\"/>\n     <use x=\"544.628906\" xlink:href=\"#DejaVuSans-69\"/>\n     <use x=\"572.412109\" xlink:href=\"#DejaVuSans-6e\"/>\n     <use x=\"635.791016\" xlink:href=\"#DejaVuSans-65\"/>\n    </g>\n   </g>\n  </g>\n </g>\n <defs>\n  <clipPath id=\"p8dc324efb6\">\n   <rect height=\"543.6\" width=\"446.4\" x=\"8.108591\" y=\"22.318125\"/>\n  </clipPath>\n </defs>\n</svg>\n",
      "image/png": "[encoded data removed]"
     },
     "metadata": {
      "needs_background": "light"
     }
    },
    {
     "output_type": "display_data",
     "data": {
      "text/plain": "<Figure size 576x720 with 1 Axes>",
      "image/svg+xml": "<?xml version=\"1.0\" encoding=\"utf-8\" standalone=\"no\"?>\n<!DOCTYPE svg PUBLIC \"-//W3C//DTD SVG 1.1//EN\"\n  \"http://www.w3.org/Graphics/SVG/1.1/DTD/svg11.dtd\">\n<svg height=\"593.6675pt\" version=\"1.1\" viewBox=\"0 0 703.02625 593.6675\" width=\"703.02625pt\" xmlns=\"http://www.w3.org/2000/svg\" xmlns:xlink=\"http://www.w3.org/1999/xlink\">\n <metadata>\n  <rdf:RDF xmlns:cc=\"http://creativecommons.org/ns#\" xmlns:dc=\"http://purl.org/dc/elements/1.1/\" xmlns:rdf=\"http://www.w3.org/1999/02/22-rdf-syntax-ns#\">\n   <cc:Work>\n    <dc:type rdf:resource=\"http://purl.org/dc/dcmitype/StillImage\"/>\n    <dc:date>2021-05-09T00:18:53.316020</dc:date>\n    <dc:format>image/svg+xml</dc:format>\n    <dc:creator>\n     <cc:Agent>\n      <dc:title>Matplotlib v3.4.1, https://matplotlib.org/</dc:title>\n     </cc:Agent>\n    </dc:creator>\n   </cc:Work>\n  </rdf:RDF>\n </metadata>\n <defs>\n  <style type=\"text/css\">*{stroke-linecap:butt;stroke-linejoin:round;}</style>\n </defs>\n <g id=\"figure_1\">\n  <g id=\"patch_1\">\n   <path d=\"M 0 593.6675 \nL 703.02625 593.6675 \nL 703.02625 0 \nL 0 0 \nz\n\" style=\"fill:none;\"/>\n  </g>\n  <g id=\"axes_1\">\n   <g id=\"patch_2\">\n    <path d=\"M 7.2 565.918125 \nL 453.6 565.918125 \nL 453.6 22.318125 \nL 7.2 22.318125 \nz\n\" style=\"fill:#ffffff;\"/>\n   </g>\n   <g id=\"matplotlib.axis_1\">\n    <g id=\"xtick_1\">\n     <g id=\"line2d_1\">\n      <defs>\n       <path d=\"M 0 0 \nL 0 3.5 \n\" id=\"m165883f508\" style=\"stroke:#000000;stroke-width:0.8;\"/>\n      </defs>\n      <g>\n       <use style=\"stroke:#000000;stroke-width:0.8;\" x=\"453.6\" xlink:href=\"#m165883f508\" y=\"565.918125\"/>\n      </g>\n     </g>\n     <g id=\"text_1\">\n      <!-- 0.0 -->\n      <g transform=\"translate(442.467812 583.555938)scale(0.14 -0.14)\">\n       <defs>\n        <path d=\"M 2034 4250 \nQ 1547 4250 1301 3770 \nQ 1056 3291 1056 2328 \nQ 1056 1369 1301 889 \nQ 1547 409 2034 409 \nQ 2525 409 2770 889 \nQ 3016 1369 3016 2328 \nQ 3016 3291 2770 3770 \nQ 2525 4250 2034 4250 \nz\nM 2034 4750 \nQ 2819 4750 3233 4129 \nQ 3647 3509 3647 2328 \nQ 3647 1150 3233 529 \nQ 2819 -91 2034 -91 \nQ 1250 -91 836 529 \nQ 422 1150 422 2328 \nQ 422 3509 836 4129 \nQ 1250 4750 2034 4750 \nz\n\" id=\"DejaVuSans-30\" transform=\"scale(0.015625)\"/>\n        <path d=\"M 684 794 \nL 1344 794 \nL 1344 0 \nL 684 0 \nL 684 794 \nz\n\" id=\"DejaVuSans-2e\" transform=\"scale(0.015625)\"/>\n       </defs>\n       <use xlink:href=\"#DejaVuSans-30\"/>\n       <use x=\"63.623047\" xlink:href=\"#DejaVuSans-2e\"/>\n       <use x=\"95.410156\" xlink:href=\"#DejaVuSans-30\"/>\n      </g>\n     </g>\n    </g>\n    <g id=\"xtick_2\">\n     <g id=\"line2d_2\">\n      <g>\n       <use style=\"stroke:#000000;stroke-width:0.8;\" x=\"397.292998\" xlink:href=\"#m165883f508\" y=\"565.918125\"/>\n      </g>\n     </g>\n     <g id=\"text_2\">\n      <!-- 0.1 -->\n      <g transform=\"translate(386.160811 583.555938)scale(0.14 -0.14)\">\n       <defs>\n        <path d=\"M 794 531 \nL 1825 531 \nL 1825 4091 \nL 703 3866 \nL 703 4441 \nL 1819 4666 \nL 2450 4666 \nL 2450 531 \nL 3481 531 \nL 3481 0 \nL 794 0 \nL 794 531 \nz\n\" id=\"DejaVuSans-31\" transform=\"scale(0.015625)\"/>\n       </defs>\n       <use xlink:href=\"#DejaVuSans-30\"/>\n       <use x=\"63.623047\" xlink:href=\"#DejaVuSans-2e\"/>\n       <use x=\"95.410156\" xlink:href=\"#DejaVuSans-31\"/>\n      </g>\n     </g>\n    </g>\n    <g id=\"xtick_3\">\n     <g id=\"line2d_3\">\n      <g>\n       <use style=\"stroke:#000000;stroke-width:0.8;\" x=\"340.985997\" xlink:href=\"#m165883f508\" y=\"565.918125\"/>\n      </g>\n     </g>\n     <g id=\"text_3\">\n      <!-- 0.2 -->\n      <g transform=\"translate(329.853809 583.555938)scale(0.14 -0.14)\">\n       <defs>\n        <path d=\"M 1228 531 \nL 3431 531 \nL 3431 0 \nL 469 0 \nL 469 531 \nQ 828 903 1448 1529 \nQ 2069 2156 2228 2338 \nQ 2531 2678 2651 2914 \nQ 2772 3150 2772 3378 \nQ 2772 3750 2511 3984 \nQ 2250 4219 1831 4219 \nQ 1534 4219 1204 4116 \nQ 875 4013 500 3803 \nL 500 4441 \nQ 881 4594 1212 4672 \nQ 1544 4750 1819 4750 \nQ 2544 4750 2975 4387 \nQ 3406 4025 3406 3419 \nQ 3406 3131 3298 2873 \nQ 3191 2616 2906 2266 \nQ 2828 2175 2409 1742 \nQ 1991 1309 1228 531 \nz\n\" id=\"DejaVuSans-32\" transform=\"scale(0.015625)\"/>\n       </defs>\n       <use xlink:href=\"#DejaVuSans-30\"/>\n       <use x=\"63.623047\" xlink:href=\"#DejaVuSans-2e\"/>\n       <use x=\"95.410156\" xlink:href=\"#DejaVuSans-32\"/>\n      </g>\n     </g>\n    </g>\n    <g id=\"xtick_4\">\n     <g id=\"line2d_4\">\n      <g>\n       <use style=\"stroke:#000000;stroke-width:0.8;\" x=\"284.678995\" xlink:href=\"#m165883f508\" y=\"565.918125\"/>\n      </g>\n     </g>\n     <g id=\"text_4\">\n      <!-- 0.3 -->\n      <g transform=\"translate(273.546808 583.555938)scale(0.14 -0.14)\">\n       <defs>\n        <path d=\"M 2597 2516 \nQ 3050 2419 3304 2112 \nQ 3559 1806 3559 1356 \nQ 3559 666 3084 287 \nQ 2609 -91 1734 -91 \nQ 1441 -91 1130 -33 \nQ 819 25 488 141 \nL 488 750 \nQ 750 597 1062 519 \nQ 1375 441 1716 441 \nQ 2309 441 2620 675 \nQ 2931 909 2931 1356 \nQ 2931 1769 2642 2001 \nQ 2353 2234 1838 2234 \nL 1294 2234 \nL 1294 2753 \nL 1863 2753 \nQ 2328 2753 2575 2939 \nQ 2822 3125 2822 3475 \nQ 2822 3834 2567 4026 \nQ 2313 4219 1838 4219 \nQ 1578 4219 1281 4162 \nQ 984 4106 628 3988 \nL 628 4550 \nQ 988 4650 1302 4700 \nQ 1616 4750 1894 4750 \nQ 2613 4750 3031 4423 \nQ 3450 4097 3450 3541 \nQ 3450 3153 3228 2886 \nQ 3006 2619 2597 2516 \nz\n\" id=\"DejaVuSans-33\" transform=\"scale(0.015625)\"/>\n       </defs>\n       <use xlink:href=\"#DejaVuSans-30\"/>\n       <use x=\"63.623047\" xlink:href=\"#DejaVuSans-2e\"/>\n       <use x=\"95.410156\" xlink:href=\"#DejaVuSans-33\"/>\n      </g>\n     </g>\n    </g>\n    <g id=\"xtick_5\">\n     <g id=\"line2d_5\">\n      <g>\n       <use style=\"stroke:#000000;stroke-width:0.8;\" x=\"228.371994\" xlink:href=\"#m165883f508\" y=\"565.918125\"/>\n      </g>\n     </g>\n     <g id=\"text_5\">\n      <!-- 0.4 -->\n      <g transform=\"translate(217.239806 583.555938)scale(0.14 -0.14)\">\n       <defs>\n        <path d=\"M 2419 4116 \nL 825 1625 \nL 2419 1625 \nL 2419 4116 \nz\nM 2253 4666 \nL 3047 4666 \nL 3047 1625 \nL 3713 1625 \nL 3713 1100 \nL 3047 1100 \nL 3047 0 \nL 2419 0 \nL 2419 1100 \nL 313 1100 \nL 313 1709 \nL 2253 4666 \nz\n\" id=\"DejaVuSans-34\" transform=\"scale(0.015625)\"/>\n       </defs>\n       <use xlink:href=\"#DejaVuSans-30\"/>\n       <use x=\"63.623047\" xlink:href=\"#DejaVuSans-2e\"/>\n       <use x=\"95.410156\" xlink:href=\"#DejaVuSans-34\"/>\n      </g>\n     </g>\n    </g>\n    <g id=\"xtick_6\">\n     <g id=\"line2d_6\">\n      <g>\n       <use style=\"stroke:#000000;stroke-width:0.8;\" x=\"172.064992\" xlink:href=\"#m165883f508\" y=\"565.918125\"/>\n      </g>\n     </g>\n     <g id=\"text_6\">\n      <!-- 0.5 -->\n      <g transform=\"translate(160.932804 583.555938)scale(0.14 -0.14)\">\n       <defs>\n        <path d=\"M 691 4666 \nL 3169 4666 \nL 3169 4134 \nL 1269 4134 \nL 1269 2991 \nQ 1406 3038 1543 3061 \nQ 1681 3084 1819 3084 \nQ 2600 3084 3056 2656 \nQ 3513 2228 3513 1497 \nQ 3513 744 3044 326 \nQ 2575 -91 1722 -91 \nQ 1428 -91 1123 -41 \nQ 819 9 494 109 \nL 494 744 \nQ 775 591 1075 516 \nQ 1375 441 1709 441 \nQ 2250 441 2565 725 \nQ 2881 1009 2881 1497 \nQ 2881 1984 2565 2268 \nQ 2250 2553 1709 2553 \nQ 1456 2553 1204 2497 \nQ 953 2441 691 2322 \nL 691 4666 \nz\n\" id=\"DejaVuSans-35\" transform=\"scale(0.015625)\"/>\n       </defs>\n       <use xlink:href=\"#DejaVuSans-30\"/>\n       <use x=\"63.623047\" xlink:href=\"#DejaVuSans-2e\"/>\n       <use x=\"95.410156\" xlink:href=\"#DejaVuSans-35\"/>\n      </g>\n     </g>\n    </g>\n    <g id=\"xtick_7\">\n     <g id=\"line2d_7\">\n      <g>\n       <use style=\"stroke:#000000;stroke-width:0.8;\" x=\"115.75799\" xlink:href=\"#m165883f508\" y=\"565.918125\"/>\n      </g>\n     </g>\n     <g id=\"text_7\">\n      <!-- 0.6 -->\n      <g transform=\"translate(104.625803 583.555938)scale(0.14 -0.14)\">\n       <defs>\n        <path d=\"M 2113 2584 \nQ 1688 2584 1439 2293 \nQ 1191 2003 1191 1497 \nQ 1191 994 1439 701 \nQ 1688 409 2113 409 \nQ 2538 409 2786 701 \nQ 3034 994 3034 1497 \nQ 3034 2003 2786 2293 \nQ 2538 2584 2113 2584 \nz\nM 3366 4563 \nL 3366 3988 \nQ 3128 4100 2886 4159 \nQ 2644 4219 2406 4219 \nQ 1781 4219 1451 3797 \nQ 1122 3375 1075 2522 \nQ 1259 2794 1537 2939 \nQ 1816 3084 2150 3084 \nQ 2853 3084 3261 2657 \nQ 3669 2231 3669 1497 \nQ 3669 778 3244 343 \nQ 2819 -91 2113 -91 \nQ 1303 -91 875 529 \nQ 447 1150 447 2328 \nQ 447 3434 972 4092 \nQ 1497 4750 2381 4750 \nQ 2619 4750 2861 4703 \nQ 3103 4656 3366 4563 \nz\n\" id=\"DejaVuSans-36\" transform=\"scale(0.015625)\"/>\n       </defs>\n       <use xlink:href=\"#DejaVuSans-30\"/>\n       <use x=\"63.623047\" xlink:href=\"#DejaVuSans-2e\"/>\n       <use x=\"95.410156\" xlink:href=\"#DejaVuSans-36\"/>\n      </g>\n     </g>\n    </g>\n    <g id=\"xtick_8\">\n     <g id=\"line2d_8\">\n      <g>\n       <use style=\"stroke:#000000;stroke-width:0.8;\" x=\"59.450989\" xlink:href=\"#m165883f508\" y=\"565.918125\"/>\n      </g>\n     </g>\n     <g id=\"text_8\">\n      <!-- 0.7 -->\n      <g transform=\"translate(48.318801 583.555938)scale(0.14 -0.14)\">\n       <defs>\n        <path d=\"M 525 4666 \nL 3525 4666 \nL 3525 4397 \nL 1831 0 \nL 1172 0 \nL 2766 4134 \nL 525 4134 \nL 525 4666 \nz\n\" id=\"DejaVuSans-37\" transform=\"scale(0.015625)\"/>\n       </defs>\n       <use xlink:href=\"#DejaVuSans-30\"/>\n       <use x=\"63.623047\" xlink:href=\"#DejaVuSans-2e\"/>\n       <use x=\"95.410156\" xlink:href=\"#DejaVuSans-37\"/>\n      </g>\n     </g>\n    </g>\n   </g>\n   <g id=\"matplotlib.axis_2\">\n    <g id=\"ytick_1\">\n     <g id=\"text_9\">\n      <!-- Homeric_Hymns: Homeric Hymns -->\n      <g transform=\"translate(460.6 556.931768)scale(0.14 -0.14)\">\n       <defs>\n        <path d=\"M 628 4666 \nL 1259 4666 \nL 1259 2753 \nL 3553 2753 \nL 3553 4666 \nL 4184 4666 \nL 4184 0 \nL 3553 0 \nL 3553 2222 \nL 1259 2222 \nL 1259 0 \nL 628 0 \nL 628 4666 \nz\n\" id=\"DejaVuSans-48\" transform=\"scale(0.015625)\"/>\n        <path d=\"M 1959 3097 \nQ 1497 3097 1228 2736 \nQ 959 2375 959 1747 \nQ 959 1119 1226 758 \nQ 1494 397 1959 397 \nQ 2419 397 2687 759 \nQ 2956 1122 2956 1747 \nQ 2956 2369 2687 2733 \nQ 2419 3097 1959 3097 \nz\nM 1959 3584 \nQ 2709 3584 3137 3096 \nQ 3566 2609 3566 1747 \nQ 3566 888 3137 398 \nQ 2709 -91 1959 -91 \nQ 1206 -91 779 398 \nQ 353 888 353 1747 \nQ 353 2609 779 3096 \nQ 1206 3584 1959 3584 \nz\n\" id=\"DejaVuSans-6f\" transform=\"scale(0.015625)\"/>\n        <path d=\"M 3328 2828 \nQ 3544 3216 3844 3400 \nQ 4144 3584 4550 3584 \nQ 5097 3584 5394 3201 \nQ 5691 2819 5691 2113 \nL 5691 0 \nL 5113 0 \nL 5113 2094 \nQ 5113 2597 4934 2840 \nQ 4756 3084 4391 3084 \nQ 3944 3084 3684 2787 \nQ 3425 2491 3425 1978 \nL 3425 0 \nL 2847 0 \nL 2847 2094 \nQ 2847 2600 2669 2842 \nQ 2491 3084 2119 3084 \nQ 1678 3084 1418 2786 \nQ 1159 2488 1159 1978 \nL 1159 0 \nL 581 0 \nL 581 3500 \nL 1159 3500 \nL 1159 2956 \nQ 1356 3278 1631 3431 \nQ 1906 3584 2284 3584 \nQ 2666 3584 2933 3390 \nQ 3200 3197 3328 2828 \nz\n\" id=\"DejaVuSans-6d\" transform=\"scale(0.015625)\"/>\n        <path d=\"M 3597 1894 \nL 3597 1613 \nL 953 1613 \nQ 991 1019 1311 708 \nQ 1631 397 2203 397 \nQ 2534 397 2845 478 \nQ 3156 559 3463 722 \nL 3463 178 \nQ 3153 47 2828 -22 \nQ 2503 -91 2169 -91 \nQ 1331 -91 842 396 \nQ 353 884 353 1716 \nQ 353 2575 817 3079 \nQ 1281 3584 2069 3584 \nQ 2775 3584 3186 3129 \nQ 3597 2675 3597 1894 \nz\nM 3022 2063 \nQ 3016 2534 2758 2815 \nQ 2500 3097 2075 3097 \nQ 1594 3097 1305 2825 \nQ 1016 2553 972 2059 \nL 3022 2063 \nz\n\" id=\"DejaVuSans-65\" transform=\"scale(0.015625)\"/>\n        <path d=\"M 2631 2963 \nQ 2534 3019 2420 3045 \nQ 2306 3072 2169 3072 \nQ 1681 3072 1420 2755 \nQ 1159 2438 1159 1844 \nL 1159 0 \nL 581 0 \nL 581 3500 \nL 1159 3500 \nL 1159 2956 \nQ 1341 3275 1631 3429 \nQ 1922 3584 2338 3584 \nQ 2397 3584 2469 3576 \nQ 2541 3569 2628 3553 \nL 2631 2963 \nz\n\" id=\"DejaVuSans-72\" transform=\"scale(0.015625)\"/>\n        <path d=\"M 603 3500 \nL 1178 3500 \nL 1178 0 \nL 603 0 \nL 603 3500 \nz\nM 603 4863 \nL 1178 4863 \nL 1178 4134 \nL 603 4134 \nL 603 4863 \nz\n\" id=\"DejaVuSans-69\" transform=\"scale(0.015625)\"/>\n        <path d=\"M 3122 3366 \nL 3122 2828 \nQ 2878 2963 2633 3030 \nQ 2388 3097 2138 3097 \nQ 1578 3097 1268 2742 \nQ 959 2388 959 1747 \nQ 959 1106 1268 751 \nQ 1578 397 2138 397 \nQ 2388 397 2633 464 \nQ 2878 531 3122 666 \nL 3122 134 \nQ 2881 22 2623 -34 \nQ 2366 -91 2075 -91 \nQ 1284 -91 818 406 \nQ 353 903 353 1747 \nQ 353 2603 823 3093 \nQ 1294 3584 2113 3584 \nQ 2378 3584 2631 3529 \nQ 2884 3475 3122 3366 \nz\n\" id=\"DejaVuSans-63\" transform=\"scale(0.015625)\"/>\n        <path d=\"M 3263 -1063 \nL 3263 -1509 \nL -63 -1509 \nL -63 -1063 \nL 3263 -1063 \nz\n\" id=\"DejaVuSans-5f\" transform=\"scale(0.015625)\"/>\n        <path d=\"M 2059 -325 \nQ 1816 -950 1584 -1140 \nQ 1353 -1331 966 -1331 \nL 506 -1331 \nL 506 -850 \nL 844 -850 \nQ 1081 -850 1212 -737 \nQ 1344 -625 1503 -206 \nL 1606 56 \nL 191 3500 \nL 800 3500 \nL 1894 763 \nL 2988 3500 \nL 3597 3500 \nL 2059 -325 \nz\n\" id=\"DejaVuSans-79\" transform=\"scale(0.015625)\"/>\n        <path d=\"M 3513 2113 \nL 3513 0 \nL 2938 0 \nL 2938 2094 \nQ 2938 2591 2744 2837 \nQ 2550 3084 2163 3084 \nQ 1697 3084 1428 2787 \nQ 1159 2491 1159 1978 \nL 1159 0 \nL 581 0 \nL 581 3500 \nL 1159 3500 \nL 1159 2956 \nQ 1366 3272 1645 3428 \nQ 1925 3584 2291 3584 \nQ 2894 3584 3203 3211 \nQ 3513 2838 3513 2113 \nz\n\" id=\"DejaVuSans-6e\" transform=\"scale(0.015625)\"/>\n        <path d=\"M 2834 3397 \nL 2834 2853 \nQ 2591 2978 2328 3040 \nQ 2066 3103 1784 3103 \nQ 1356 3103 1142 2972 \nQ 928 2841 928 2578 \nQ 928 2378 1081 2264 \nQ 1234 2150 1697 2047 \nL 1894 2003 \nQ 2506 1872 2764 1633 \nQ 3022 1394 3022 966 \nQ 3022 478 2636 193 \nQ 2250 -91 1575 -91 \nQ 1294 -91 989 -36 \nQ 684 19 347 128 \nL 347 722 \nQ 666 556 975 473 \nQ 1284 391 1588 391 \nQ 1994 391 2212 530 \nQ 2431 669 2431 922 \nQ 2431 1156 2273 1281 \nQ 2116 1406 1581 1522 \nL 1381 1569 \nQ 847 1681 609 1914 \nQ 372 2147 372 2553 \nQ 372 3047 722 3315 \nQ 1072 3584 1716 3584 \nQ 2034 3584 2315 3537 \nQ 2597 3491 2834 3397 \nz\n\" id=\"DejaVuSans-73\" transform=\"scale(0.015625)\"/>\n        <path d=\"M 750 794 \nL 1409 794 \nL 1409 0 \nL 750 0 \nL 750 794 \nz\nM 750 3309 \nL 1409 3309 \nL 1409 2516 \nL 750 2516 \nL 750 3309 \nz\n\" id=\"DejaVuSans-3a\" transform=\"scale(0.015625)\"/>\n        <path id=\"DejaVuSans-20\" transform=\"scale(0.015625)\"/>\n       </defs>\n       <use xlink:href=\"#DejaVuSans-48\"/>\n       <use x=\"75.195312\" xlink:href=\"#DejaVuSans-6f\"/>\n       <use x=\"136.376953\" xlink:href=\"#DejaVuSans-6d\"/>\n       <use x=\"233.789062\" xlink:href=\"#DejaVuSans-65\"/>\n       <use x=\"295.3125\" xlink:href=\"#DejaVuSans-72\"/>\n       <use x=\"336.425781\" xlink:href=\"#DejaVuSans-69\"/>\n       <use x=\"364.208984\" xlink:href=\"#DejaVuSans-63\"/>\n       <use x=\"419.189453\" xlink:href=\"#DejaVuSans-5f\"/>\n       <use x=\"469.189453\" xlink:href=\"#DejaVuSans-48\"/>\n       <use x=\"544.384766\" xlink:href=\"#DejaVuSans-79\"/>\n       <use x=\"603.564453\" xlink:href=\"#DejaVuSans-6d\"/>\n       <use x=\"700.976562\" xlink:href=\"#DejaVuSans-6e\"/>\n       <use x=\"764.355469\" xlink:href=\"#DejaVuSans-73\"/>\n       <use x=\"816.455078\" xlink:href=\"#DejaVuSans-3a\"/>\n       <use x=\"850.146484\" xlink:href=\"#DejaVuSans-20\"/>\n       <use x=\"881.933594\" xlink:href=\"#DejaVuSans-48\"/>\n       <use x=\"957.128906\" xlink:href=\"#DejaVuSans-6f\"/>\n       <use x=\"1018.310547\" xlink:href=\"#DejaVuSans-6d\"/>\n       <use x=\"1115.722656\" xlink:href=\"#DejaVuSans-65\"/>\n       <use x=\"1177.246094\" xlink:href=\"#DejaVuSans-72\"/>\n       <use x=\"1218.359375\" xlink:href=\"#DejaVuSans-69\"/>\n       <use x=\"1246.142578\" xlink:href=\"#DejaVuSans-63\"/>\n       <use x=\"1301.123047\" xlink:href=\"#DejaVuSans-20\"/>\n       <use x=\"1332.910156\" xlink:href=\"#DejaVuSans-48\"/>\n       <use x=\"1408.105469\" xlink:href=\"#DejaVuSans-79\"/>\n       <use x=\"1467.285156\" xlink:href=\"#DejaVuSans-6d\"/>\n       <use x=\"1564.697266\" xlink:href=\"#DejaVuSans-6e\"/>\n       <use x=\"1628.076172\" xlink:href=\"#DejaVuSans-73\"/>\n      </g>\n     </g>\n    </g>\n    <g id=\"ytick_2\">\n     <g id=\"text_10\">\n      <!-- Ovid: Metamorphoses -->\n      <g transform=\"translate(460.6 528.321242)scale(0.14 -0.14)\">\n       <defs>\n        <path d=\"M 2522 4238 \nQ 1834 4238 1429 3725 \nQ 1025 3213 1025 2328 \nQ 1025 1447 1429 934 \nQ 1834 422 2522 422 \nQ 3209 422 3611 934 \nQ 4013 1447 4013 2328 \nQ 4013 3213 3611 3725 \nQ 3209 4238 2522 4238 \nz\nM 2522 4750 \nQ 3503 4750 4090 4092 \nQ 4678 3434 4678 2328 \nQ 4678 1225 4090 567 \nQ 3503 -91 2522 -91 \nQ 1538 -91 948 565 \nQ 359 1222 359 2328 \nQ 359 3434 948 4092 \nQ 1538 4750 2522 4750 \nz\n\" id=\"DejaVuSans-4f\" transform=\"scale(0.015625)\"/>\n        <path d=\"M 191 3500 \nL 800 3500 \nL 1894 563 \nL 2988 3500 \nL 3597 3500 \nL 2284 0 \nL 1503 0 \nL 191 3500 \nz\n\" id=\"DejaVuSans-76\" transform=\"scale(0.015625)\"/>\n        <path d=\"M 2906 2969 \nL 2906 4863 \nL 3481 4863 \nL 3481 0 \nL 2906 0 \nL 2906 525 \nQ 2725 213 2448 61 \nQ 2172 -91 1784 -91 \nQ 1150 -91 751 415 \nQ 353 922 353 1747 \nQ 353 2572 751 3078 \nQ 1150 3584 1784 3584 \nQ 2172 3584 2448 3432 \nQ 2725 3281 2906 2969 \nz\nM 947 1747 \nQ 947 1113 1208 752 \nQ 1469 391 1925 391 \nQ 2381 391 2643 752 \nQ 2906 1113 2906 1747 \nQ 2906 2381 2643 2742 \nQ 2381 3103 1925 3103 \nQ 1469 3103 1208 2742 \nQ 947 2381 947 1747 \nz\n\" id=\"DejaVuSans-64\" transform=\"scale(0.015625)\"/>\n        <path d=\"M 628 4666 \nL 1569 4666 \nL 2759 1491 \nL 3956 4666 \nL 4897 4666 \nL 4897 0 \nL 4281 0 \nL 4281 4097 \nL 3078 897 \nL 2444 897 \nL 1241 4097 \nL 1241 0 \nL 628 0 \nL 628 4666 \nz\n\" id=\"DejaVuSans-4d\" transform=\"scale(0.015625)\"/>\n        <path d=\"M 1172 4494 \nL 1172 3500 \nL 2356 3500 \nL 2356 3053 \nL 1172 3053 \nL 1172 1153 \nQ 1172 725 1289 603 \nQ 1406 481 1766 481 \nL 2356 481 \nL 2356 0 \nL 1766 0 \nQ 1100 0 847 248 \nQ 594 497 594 1153 \nL 594 3053 \nL 172 3053 \nL 172 3500 \nL 594 3500 \nL 594 4494 \nL 1172 4494 \nz\n\" id=\"DejaVuSans-74\" transform=\"scale(0.015625)\"/>\n        <path d=\"M 2194 1759 \nQ 1497 1759 1228 1600 \nQ 959 1441 959 1056 \nQ 959 750 1161 570 \nQ 1363 391 1709 391 \nQ 2188 391 2477 730 \nQ 2766 1069 2766 1631 \nL 2766 1759 \nL 2194 1759 \nz\nM 3341 1997 \nL 3341 0 \nL 2766 0 \nL 2766 531 \nQ 2569 213 2275 61 \nQ 1981 -91 1556 -91 \nQ 1019 -91 701 211 \nQ 384 513 384 1019 \nQ 384 1609 779 1909 \nQ 1175 2209 1959 2209 \nL 2766 2209 \nL 2766 2266 \nQ 2766 2663 2505 2880 \nQ 2244 3097 1772 3097 \nQ 1472 3097 1187 3025 \nQ 903 2953 641 2809 \nL 641 3341 \nQ 956 3463 1253 3523 \nQ 1550 3584 1831 3584 \nQ 2591 3584 2966 3190 \nQ 3341 2797 3341 1997 \nz\n\" id=\"DejaVuSans-61\" transform=\"scale(0.015625)\"/>\n        <path d=\"M 1159 525 \nL 1159 -1331 \nL 581 -1331 \nL 581 3500 \nL 1159 3500 \nL 1159 2969 \nQ 1341 3281 1617 3432 \nQ 1894 3584 2278 3584 \nQ 2916 3584 3314 3078 \nQ 3713 2572 3713 1747 \nQ 3713 922 3314 415 \nQ 2916 -91 2278 -91 \nQ 1894 -91 1617 61 \nQ 1341 213 1159 525 \nz\nM 3116 1747 \nQ 3116 2381 2855 2742 \nQ 2594 3103 2138 3103 \nQ 1681 3103 1420 2742 \nQ 1159 2381 1159 1747 \nQ 1159 1113 1420 752 \nQ 1681 391 2138 391 \nQ 2594 391 2855 752 \nQ 3116 1113 3116 1747 \nz\n\" id=\"DejaVuSans-70\" transform=\"scale(0.015625)\"/>\n        <path d=\"M 3513 2113 \nL 3513 0 \nL 2938 0 \nL 2938 2094 \nQ 2938 2591 2744 2837 \nQ 2550 3084 2163 3084 \nQ 1697 3084 1428 2787 \nQ 1159 2491 1159 1978 \nL 1159 0 \nL 581 0 \nL 581 4863 \nL 1159 4863 \nL 1159 2956 \nQ 1366 3272 1645 3428 \nQ 1925 3584 2291 3584 \nQ 2894 3584 3203 3211 \nQ 3513 2838 3513 2113 \nz\n\" id=\"DejaVuSans-68\" transform=\"scale(0.015625)\"/>\n       </defs>\n       <use xlink:href=\"#DejaVuSans-4f\"/>\n       <use x=\"78.710938\" xlink:href=\"#DejaVuSans-76\"/>\n       <use x=\"137.890625\" xlink:href=\"#DejaVuSans-69\"/>\n       <use x=\"165.673828\" xlink:href=\"#DejaVuSans-64\"/>\n       <use x=\"229.150391\" xlink:href=\"#DejaVuSans-3a\"/>\n       <use x=\"262.841797\" xlink:href=\"#DejaVuSans-20\"/>\n       <use x=\"294.628906\" xlink:href=\"#DejaVuSans-4d\"/>\n       <use x=\"380.908203\" xlink:href=\"#DejaVuSans-65\"/>\n       <use x=\"442.431641\" xlink:href=\"#DejaVuSans-74\"/>\n       <use x=\"481.640625\" xlink:href=\"#DejaVuSans-61\"/>\n       <use x=\"542.919922\" xlink:href=\"#DejaVuSans-6d\"/>\n       <use x=\"640.332031\" xlink:href=\"#DejaVuSans-6f\"/>\n       <use x=\"701.513672\" xlink:href=\"#DejaVuSans-72\"/>\n       <use x=\"742.626953\" xlink:href=\"#DejaVuSans-70\"/>\n       <use x=\"806.103516\" xlink:href=\"#DejaVuSans-68\"/>\n       <use x=\"869.482422\" xlink:href=\"#DejaVuSans-6f\"/>\n       <use x=\"930.664062\" xlink:href=\"#DejaVuSans-73\"/>\n       <use x=\"982.763672\" xlink:href=\"#DejaVuSans-65\"/>\n       <use x=\"1044.287109\" xlink:href=\"#DejaVuSans-73\"/>\n      </g>\n     </g>\n    </g>\n    <g id=\"ytick_3\">\n     <g id=\"text_11\">\n      <!-- Vergil: Aeneid -->\n      <g transform=\"translate(460.6 499.710715)scale(0.14 -0.14)\">\n       <defs>\n        <path d=\"M 1831 0 \nL 50 4666 \nL 709 4666 \nL 2188 738 \nL 3669 4666 \nL 4325 4666 \nL 2547 0 \nL 1831 0 \nz\n\" id=\"DejaVuSans-56\" transform=\"scale(0.015625)\"/>\n        <path d=\"M 2906 1791 \nQ 2906 2416 2648 2759 \nQ 2391 3103 1925 3103 \nQ 1463 3103 1205 2759 \nQ 947 2416 947 1791 \nQ 947 1169 1205 825 \nQ 1463 481 1925 481 \nQ 2391 481 2648 825 \nQ 2906 1169 2906 1791 \nz\nM 3481 434 \nQ 3481 -459 3084 -895 \nQ 2688 -1331 1869 -1331 \nQ 1566 -1331 1297 -1286 \nQ 1028 -1241 775 -1147 \nL 775 -588 \nQ 1028 -725 1275 -790 \nQ 1522 -856 1778 -856 \nQ 2344 -856 2625 -561 \nQ 2906 -266 2906 331 \nL 2906 616 \nQ 2728 306 2450 153 \nQ 2172 0 1784 0 \nQ 1141 0 747 490 \nQ 353 981 353 1791 \nQ 353 2603 747 3093 \nQ 1141 3584 1784 3584 \nQ 2172 3584 2450 3431 \nQ 2728 3278 2906 2969 \nL 2906 3500 \nL 3481 3500 \nL 3481 434 \nz\n\" id=\"DejaVuSans-67\" transform=\"scale(0.015625)\"/>\n        <path d=\"M 603 4863 \nL 1178 4863 \nL 1178 0 \nL 603 0 \nL 603 4863 \nz\n\" id=\"DejaVuSans-6c\" transform=\"scale(0.015625)\"/>\n        <path d=\"M 2188 4044 \nL 1331 1722 \nL 3047 1722 \nL 2188 4044 \nz\nM 1831 4666 \nL 2547 4666 \nL 4325 0 \nL 3669 0 \nL 3244 1197 \nL 1141 1197 \nL 716 0 \nL 50 0 \nL 1831 4666 \nz\n\" id=\"DejaVuSans-41\" transform=\"scale(0.015625)\"/>\n       </defs>\n       <use xlink:href=\"#DejaVuSans-56\"/>\n       <use x=\"60.658203\" xlink:href=\"#DejaVuSans-65\"/>\n       <use x=\"122.181641\" xlink:href=\"#DejaVuSans-72\"/>\n       <use x=\"161.544922\" xlink:href=\"#DejaVuSans-67\"/>\n       <use x=\"225.021484\" xlink:href=\"#DejaVuSans-69\"/>\n       <use x=\"252.804688\" xlink:href=\"#DejaVuSans-6c\"/>\n       <use x=\"280.587891\" xlink:href=\"#DejaVuSans-3a\"/>\n       <use x=\"314.279297\" xlink:href=\"#DejaVuSans-20\"/>\n       <use x=\"346.066406\" xlink:href=\"#DejaVuSans-41\"/>\n       <use x=\"412.724609\" xlink:href=\"#DejaVuSans-65\"/>\n       <use x=\"474.248047\" xlink:href=\"#DejaVuSans-6e\"/>\n       <use x=\"537.626953\" xlink:href=\"#DejaVuSans-65\"/>\n       <use x=\"599.150391\" xlink:href=\"#DejaVuSans-69\"/>\n       <use x=\"626.933594\" xlink:href=\"#DejaVuSans-64\"/>\n      </g>\n     </g>\n    </g>\n    <g id=\"ytick_4\">\n     <g id=\"text_12\">\n      <!-- Homer: Odyssey -->\n      <g transform=\"translate(460.6 471.100189)scale(0.14 -0.14)\">\n       <use xlink:href=\"#DejaVuSans-48\"/>\n       <use x=\"75.195312\" xlink:href=\"#DejaVuSans-6f\"/>\n       <use x=\"136.376953\" xlink:href=\"#DejaVuSans-6d\"/>\n       <use x=\"233.789062\" xlink:href=\"#DejaVuSans-65\"/>\n       <use x=\"295.3125\" xlink:href=\"#DejaVuSans-72\"/>\n       <use x=\"334.675781\" xlink:href=\"#DejaVuSans-3a\"/>\n       <use x=\"368.367188\" xlink:href=\"#DejaVuSans-20\"/>\n       <use x=\"400.154297\" xlink:href=\"#DejaVuSans-4f\"/>\n       <use x=\"478.865234\" xlink:href=\"#DejaVuSans-64\"/>\n       <use x=\"542.341797\" xlink:href=\"#DejaVuSans-79\"/>\n       <use x=\"601.521484\" xlink:href=\"#DejaVuSans-73\"/>\n       <use x=\"653.621094\" xlink:href=\"#DejaVuSans-73\"/>\n       <use x=\"705.720703\" xlink:href=\"#DejaVuSans-65\"/>\n       <use x=\"767.244141\" xlink:href=\"#DejaVuSans-79\"/>\n      </g>\n     </g>\n    </g>\n    <g id=\"ytick_5\">\n     <g id=\"text_13\">\n      <!-- Homer: Iliad -->\n      <g transform=\"translate(460.6 442.489663)scale(0.14 -0.14)\">\n       <defs>\n        <path d=\"M 628 4666 \nL 1259 4666 \nL 1259 0 \nL 628 0 \nL 628 4666 \nz\n\" id=\"DejaVuSans-49\" transform=\"scale(0.015625)\"/>\n       </defs>\n       <use xlink:href=\"#DejaVuSans-48\"/>\n       <use x=\"75.195312\" xlink:href=\"#DejaVuSans-6f\"/>\n       <use x=\"136.376953\" xlink:href=\"#DejaVuSans-6d\"/>\n       <use x=\"233.789062\" xlink:href=\"#DejaVuSans-65\"/>\n       <use x=\"295.3125\" xlink:href=\"#DejaVuSans-72\"/>\n       <use x=\"334.675781\" xlink:href=\"#DejaVuSans-3a\"/>\n       <use x=\"368.367188\" xlink:href=\"#DejaVuSans-20\"/>\n       <use x=\"400.154297\" xlink:href=\"#DejaVuSans-49\"/>\n       <use x=\"429.646484\" xlink:href=\"#DejaVuSans-6c\"/>\n       <use x=\"457.429688\" xlink:href=\"#DejaVuSans-69\"/>\n       <use x=\"485.212891\" xlink:href=\"#DejaVuSans-61\"/>\n       <use x=\"546.492188\" xlink:href=\"#DejaVuSans-64\"/>\n      </g>\n     </g>\n    </g>\n    <g id=\"ytick_6\">\n     <g id=\"text_14\">\n      <!-- Hesiod: Works and Days -->\n      <g transform=\"translate(460.6 413.879137)scale(0.14 -0.14)\">\n       <defs>\n        <path d=\"M 213 4666 \nL 850 4666 \nL 1831 722 \nL 2809 4666 \nL 3519 4666 \nL 4500 722 \nL 5478 4666 \nL 6119 4666 \nL 4947 0 \nL 4153 0 \nL 3169 4050 \nL 2175 0 \nL 1381 0 \nL 213 4666 \nz\n\" id=\"DejaVuSans-57\" transform=\"scale(0.015625)\"/>\n        <path d=\"M 581 4863 \nL 1159 4863 \nL 1159 1991 \nL 2875 3500 \nL 3609 3500 \nL 1753 1863 \nL 3688 0 \nL 2938 0 \nL 1159 1709 \nL 1159 0 \nL 581 0 \nL 581 4863 \nz\n\" id=\"DejaVuSans-6b\" transform=\"scale(0.015625)\"/>\n        <path d=\"M 1259 4147 \nL 1259 519 \nL 2022 519 \nQ 2988 519 3436 956 \nQ 3884 1394 3884 2338 \nQ 3884 3275 3436 3711 \nQ 2988 4147 2022 4147 \nL 1259 4147 \nz\nM 628 4666 \nL 1925 4666 \nQ 3281 4666 3915 4102 \nQ 4550 3538 4550 2338 \nQ 4550 1131 3912 565 \nQ 3275 0 1925 0 \nL 628 0 \nL 628 4666 \nz\n\" id=\"DejaVuSans-44\" transform=\"scale(0.015625)\"/>\n       </defs>\n       <use xlink:href=\"#DejaVuSans-48\"/>\n       <use x=\"75.195312\" xlink:href=\"#DejaVuSans-65\"/>\n       <use x=\"136.71875\" xlink:href=\"#DejaVuSans-73\"/>\n       <use x=\"188.818359\" xlink:href=\"#DejaVuSans-69\"/>\n       <use x=\"216.601562\" xlink:href=\"#DejaVuSans-6f\"/>\n       <use x=\"277.783203\" xlink:href=\"#DejaVuSans-64\"/>\n       <use x=\"341.259766\" xlink:href=\"#DejaVuSans-3a\"/>\n       <use x=\"374.951172\" xlink:href=\"#DejaVuSans-20\"/>\n       <use x=\"406.738281\" xlink:href=\"#DejaVuSans-57\"/>\n       <use x=\"499.740234\" xlink:href=\"#DejaVuSans-6f\"/>\n       <use x=\"560.921875\" xlink:href=\"#DejaVuSans-72\"/>\n       <use x=\"602.035156\" xlink:href=\"#DejaVuSans-6b\"/>\n       <use x=\"659.945312\" xlink:href=\"#DejaVuSans-73\"/>\n       <use x=\"712.044922\" xlink:href=\"#DejaVuSans-20\"/>\n       <use x=\"743.832031\" xlink:href=\"#DejaVuSans-61\"/>\n       <use x=\"805.111328\" xlink:href=\"#DejaVuSans-6e\"/>\n       <use x=\"868.490234\" xlink:href=\"#DejaVuSans-64\"/>\n       <use x=\"931.966797\" xlink:href=\"#DejaVuSans-20\"/>\n       <use x=\"963.753906\" xlink:href=\"#DejaVuSans-44\"/>\n       <use x=\"1040.755859\" xlink:href=\"#DejaVuSans-61\"/>\n       <use x=\"1102.035156\" xlink:href=\"#DejaVuSans-79\"/>\n       <use x=\"1161.214844\" xlink:href=\"#DejaVuSans-73\"/>\n      </g>\n     </g>\n    </g>\n    <g id=\"ytick_7\">\n     <g id=\"text_15\">\n      <!-- Hesiod: Theogony -->\n      <g transform=\"translate(460.6 385.26861)scale(0.14 -0.14)\">\n       <defs>\n        <path d=\"M -19 4666 \nL 3928 4666 \nL 3928 4134 \nL 2272 4134 \nL 2272 0 \nL 1638 0 \nL 1638 4134 \nL -19 4134 \nL -19 4666 \nz\n\" id=\"DejaVuSans-54\" transform=\"scale(0.015625)\"/>\n       </defs>\n       <use xlink:href=\"#DejaVuSans-48\"/>\n       <use x=\"75.195312\" xlink:href=\"#DejaVuSans-65\"/>\n       <use x=\"136.71875\" xlink:href=\"#DejaVuSans-73\"/>\n       <use x=\"188.818359\" xlink:href=\"#DejaVuSans-69\"/>\n       <use x=\"216.601562\" xlink:href=\"#DejaVuSans-6f\"/>\n       <use x=\"277.783203\" xlink:href=\"#DejaVuSans-64\"/>\n       <use x=\"341.259766\" xlink:href=\"#DejaVuSans-3a\"/>\n       <use x=\"374.951172\" xlink:href=\"#DejaVuSans-20\"/>\n       <use x=\"406.738281\" xlink:href=\"#DejaVuSans-54\"/>\n       <use x=\"467.822266\" xlink:href=\"#DejaVuSans-68\"/>\n       <use x=\"531.201172\" xlink:href=\"#DejaVuSans-65\"/>\n       <use x=\"592.724609\" xlink:href=\"#DejaVuSans-6f\"/>\n       <use x=\"653.90625\" xlink:href=\"#DejaVuSans-67\"/>\n       <use x=\"717.382812\" xlink:href=\"#DejaVuSans-6f\"/>\n       <use x=\"778.564453\" xlink:href=\"#DejaVuSans-6e\"/>\n       <use x=\"841.943359\" xlink:href=\"#DejaVuSans-79\"/>\n      </g>\n     </g>\n    </g>\n    <g id=\"ytick_8\">\n     <g id=\"text_16\">\n      <!-- Aeschylus: Eumenides -->\n      <g transform=\"translate(460.6 356.658084)scale(0.14 -0.14)\">\n       <defs>\n        <path d=\"M 544 1381 \nL 544 3500 \nL 1119 3500 \nL 1119 1403 \nQ 1119 906 1312 657 \nQ 1506 409 1894 409 \nQ 2359 409 2629 706 \nQ 2900 1003 2900 1516 \nL 2900 3500 \nL 3475 3500 \nL 3475 0 \nL 2900 0 \nL 2900 538 \nQ 2691 219 2414 64 \nQ 2138 -91 1772 -91 \nQ 1169 -91 856 284 \nQ 544 659 544 1381 \nz\nM 1991 3584 \nL 1991 3584 \nz\n\" id=\"DejaVuSans-75\" transform=\"scale(0.015625)\"/>\n        <path d=\"M 628 4666 \nL 3578 4666 \nL 3578 4134 \nL 1259 4134 \nL 1259 2753 \nL 3481 2753 \nL 3481 2222 \nL 1259 2222 \nL 1259 531 \nL 3634 531 \nL 3634 0 \nL 628 0 \nL 628 4666 \nz\n\" id=\"DejaVuSans-45\" transform=\"scale(0.015625)\"/>\n       </defs>\n       <use xlink:href=\"#DejaVuSans-41\"/>\n       <use x=\"66.658203\" xlink:href=\"#DejaVuSans-65\"/>\n       <use x=\"128.181641\" xlink:href=\"#DejaVuSans-73\"/>\n       <use x=\"180.28125\" xlink:href=\"#DejaVuSans-63\"/>\n       <use x=\"235.261719\" xlink:href=\"#DejaVuSans-68\"/>\n       <use x=\"298.640625\" xlink:href=\"#DejaVuSans-79\"/>\n       <use x=\"357.820312\" xlink:href=\"#DejaVuSans-6c\"/>\n       <use x=\"385.603516\" xlink:href=\"#DejaVuSans-75\"/>\n       <use x=\"448.982422\" xlink:href=\"#DejaVuSans-73\"/>\n       <use x=\"501.082031\" xlink:href=\"#DejaVuSans-3a\"/>\n       <use x=\"534.773438\" xlink:href=\"#DejaVuSans-20\"/>\n       <use x=\"566.560547\" xlink:href=\"#DejaVuSans-45\"/>\n       <use x=\"629.744141\" xlink:href=\"#DejaVuSans-75\"/>\n       <use x=\"693.123047\" xlink:href=\"#DejaVuSans-6d\"/>\n       <use x=\"790.535156\" xlink:href=\"#DejaVuSans-65\"/>\n       <use x=\"852.058594\" xlink:href=\"#DejaVuSans-6e\"/>\n       <use x=\"915.4375\" xlink:href=\"#DejaVuSans-69\"/>\n       <use x=\"943.220703\" xlink:href=\"#DejaVuSans-64\"/>\n       <use x=\"1006.697266\" xlink:href=\"#DejaVuSans-65\"/>\n       <use x=\"1068.220703\" xlink:href=\"#DejaVuSans-73\"/>\n      </g>\n     </g>\n    </g>\n    <g id=\"ytick_9\">\n     <g id=\"text_17\">\n      <!-- Aeschylus: Agamemnon -->\n      <g transform=\"translate(460.6 328.047558)scale(0.14 -0.14)\">\n       <use xlink:href=\"#DejaVuSans-41\"/>\n       <use x=\"66.658203\" xlink:href=\"#DejaVuSans-65\"/>\n       <use x=\"128.181641\" xlink:href=\"#DejaVuSans-73\"/>\n       <use x=\"180.28125\" xlink:href=\"#DejaVuSans-63\"/>\n       <use x=\"235.261719\" xlink:href=\"#DejaVuSans-68\"/>\n       <use x=\"298.640625\" xlink:href=\"#DejaVuSans-79\"/>\n       <use x=\"357.820312\" xlink:href=\"#DejaVuSans-6c\"/>\n       <use x=\"385.603516\" xlink:href=\"#DejaVuSans-75\"/>\n       <use x=\"448.982422\" xlink:href=\"#DejaVuSans-73\"/>\n       <use x=\"501.082031\" xlink:href=\"#DejaVuSans-3a\"/>\n       <use x=\"534.773438\" xlink:href=\"#DejaVuSans-20\"/>\n       <use x=\"566.560547\" xlink:href=\"#DejaVuSans-41\"/>\n       <use x=\"634.96875\" xlink:href=\"#DejaVuSans-67\"/>\n       <use x=\"698.445312\" xlink:href=\"#DejaVuSans-61\"/>\n       <use x=\"759.724609\" xlink:href=\"#DejaVuSans-6d\"/>\n       <use x=\"857.136719\" xlink:href=\"#DejaVuSans-65\"/>\n       <use x=\"918.660156\" xlink:href=\"#DejaVuSans-6d\"/>\n       <use x=\"1016.072266\" xlink:href=\"#DejaVuSans-6e\"/>\n       <use x=\"1079.451172\" xlink:href=\"#DejaVuSans-6f\"/>\n       <use x=\"1140.632812\" xlink:href=\"#DejaVuSans-6e\"/>\n      </g>\n     </g>\n    </g>\n    <g id=\"ytick_10\">\n     <g id=\"text_18\">\n      <!-- Aeschylus: Libation Bearers -->\n      <g transform=\"translate(460.6 299.437031)scale(0.14 -0.14)\">\n       <defs>\n        <path d=\"M 628 4666 \nL 1259 4666 \nL 1259 531 \nL 3531 531 \nL 3531 0 \nL 628 0 \nL 628 4666 \nz\n\" id=\"DejaVuSans-4c\" transform=\"scale(0.015625)\"/>\n        <path d=\"M 3116 1747 \nQ 3116 2381 2855 2742 \nQ 2594 3103 2138 3103 \nQ 1681 3103 1420 2742 \nQ 1159 2381 1159 1747 \nQ 1159 1113 1420 752 \nQ 1681 391 2138 391 \nQ 2594 391 2855 752 \nQ 3116 1113 3116 1747 \nz\nM 1159 2969 \nQ 1341 3281 1617 3432 \nQ 1894 3584 2278 3584 \nQ 2916 3584 3314 3078 \nQ 3713 2572 3713 1747 \nQ 3713 922 3314 415 \nQ 2916 -91 2278 -91 \nQ 1894 -91 1617 61 \nQ 1341 213 1159 525 \nL 1159 0 \nL 581 0 \nL 581 4863 \nL 1159 4863 \nL 1159 2969 \nz\n\" id=\"DejaVuSans-62\" transform=\"scale(0.015625)\"/>\n        <path d=\"M 1259 2228 \nL 1259 519 \nL 2272 519 \nQ 2781 519 3026 730 \nQ 3272 941 3272 1375 \nQ 3272 1813 3026 2020 \nQ 2781 2228 2272 2228 \nL 1259 2228 \nz\nM 1259 4147 \nL 1259 2741 \nL 2194 2741 \nQ 2656 2741 2882 2914 \nQ 3109 3088 3109 3444 \nQ 3109 3797 2882 3972 \nQ 2656 4147 2194 4147 \nL 1259 4147 \nz\nM 628 4666 \nL 2241 4666 \nQ 2963 4666 3353 4366 \nQ 3744 4066 3744 3513 \nQ 3744 3084 3544 2831 \nQ 3344 2578 2956 2516 \nQ 3422 2416 3680 2098 \nQ 3938 1781 3938 1306 \nQ 3938 681 3513 340 \nQ 3088 0 2303 0 \nL 628 0 \nL 628 4666 \nz\n\" id=\"DejaVuSans-42\" transform=\"scale(0.015625)\"/>\n       </defs>\n       <use xlink:href=\"#DejaVuSans-41\"/>\n       <use x=\"66.658203\" xlink:href=\"#DejaVuSans-65\"/>\n       <use x=\"128.181641\" xlink:href=\"#DejaVuSans-73\"/>\n       <use x=\"180.28125\" xlink:href=\"#DejaVuSans-63\"/>\n       <use x=\"235.261719\" xlink:href=\"#DejaVuSans-68\"/>\n       <use x=\"298.640625\" xlink:href=\"#DejaVuSans-79\"/>\n       <use x=\"357.820312\" xlink:href=\"#DejaVuSans-6c\"/>\n       <use x=\"385.603516\" xlink:href=\"#DejaVuSans-75\"/>\n       <use x=\"448.982422\" xlink:href=\"#DejaVuSans-73\"/>\n       <use x=\"501.082031\" xlink:href=\"#DejaVuSans-3a\"/>\n       <use x=\"534.773438\" xlink:href=\"#DejaVuSans-20\"/>\n       <use x=\"566.560547\" xlink:href=\"#DejaVuSans-4c\"/>\n       <use x=\"622.273438\" xlink:href=\"#DejaVuSans-69\"/>\n       <use x=\"650.056641\" xlink:href=\"#DejaVuSans-62\"/>\n       <use x=\"713.533203\" xlink:href=\"#DejaVuSans-61\"/>\n       <use x=\"774.8125\" xlink:href=\"#DejaVuSans-74\"/>\n       <use x=\"814.021484\" xlink:href=\"#DejaVuSans-69\"/>\n       <use x=\"841.804688\" xlink:href=\"#DejaVuSans-6f\"/>\n       <use x=\"902.986328\" xlink:href=\"#DejaVuSans-6e\"/>\n       <use x=\"966.365234\" xlink:href=\"#DejaVuSans-20\"/>\n       <use x=\"998.152344\" xlink:href=\"#DejaVuSans-42\"/>\n       <use x=\"1066.755859\" xlink:href=\"#DejaVuSans-65\"/>\n       <use x=\"1128.279297\" xlink:href=\"#DejaVuSans-61\"/>\n       <use x=\"1189.558594\" xlink:href=\"#DejaVuSans-72\"/>\n       <use x=\"1228.421875\" xlink:href=\"#DejaVuSans-65\"/>\n       <use x=\"1289.945312\" xlink:href=\"#DejaVuSans-72\"/>\n       <use x=\"1331.058594\" xlink:href=\"#DejaVuSans-73\"/>\n      </g>\n     </g>\n    </g>\n    <g id=\"ytick_11\">\n     <g id=\"text_19\">\n      <!-- Aeschylus: Prometheus Bound -->\n      <g transform=\"translate(460.6 270.826505)scale(0.14 -0.14)\">\n       <defs>\n        <path d=\"M 1259 4147 \nL 1259 2394 \nL 2053 2394 \nQ 2494 2394 2734 2622 \nQ 2975 2850 2975 3272 \nQ 2975 3691 2734 3919 \nQ 2494 4147 2053 4147 \nL 1259 4147 \nz\nM 628 4666 \nL 2053 4666 \nQ 2838 4666 3239 4311 \nQ 3641 3956 3641 3272 \nQ 3641 2581 3239 2228 \nQ 2838 1875 2053 1875 \nL 1259 1875 \nL 1259 0 \nL 628 0 \nL 628 4666 \nz\n\" id=\"DejaVuSans-50\" transform=\"scale(0.015625)\"/>\n       </defs>\n       <use xlink:href=\"#DejaVuSans-41\"/>\n       <use x=\"66.658203\" xlink:href=\"#DejaVuSans-65\"/>\n       <use x=\"128.181641\" xlink:href=\"#DejaVuSans-73\"/>\n       <use x=\"180.28125\" xlink:href=\"#DejaVuSans-63\"/>\n       <use x=\"235.261719\" xlink:href=\"#DejaVuSans-68\"/>\n       <use x=\"298.640625\" xlink:href=\"#DejaVuSans-79\"/>\n       <use x=\"357.820312\" xlink:href=\"#DejaVuSans-6c\"/>\n       <use x=\"385.603516\" xlink:href=\"#DejaVuSans-75\"/>\n       <use x=\"448.982422\" xlink:href=\"#DejaVuSans-73\"/>\n       <use x=\"501.082031\" xlink:href=\"#DejaVuSans-3a\"/>\n       <use x=\"534.773438\" xlink:href=\"#DejaVuSans-20\"/>\n       <use x=\"566.560547\" xlink:href=\"#DejaVuSans-50\"/>\n       <use x=\"625.113281\" xlink:href=\"#DejaVuSans-72\"/>\n       <use x=\"663.976562\" xlink:href=\"#DejaVuSans-6f\"/>\n       <use x=\"725.158203\" xlink:href=\"#DejaVuSans-6d\"/>\n       <use x=\"822.570312\" xlink:href=\"#DejaVuSans-65\"/>\n       <use x=\"884.09375\" xlink:href=\"#DejaVuSans-74\"/>\n       <use x=\"923.302734\" xlink:href=\"#DejaVuSans-68\"/>\n       <use x=\"986.681641\" xlink:href=\"#DejaVuSans-65\"/>\n       <use x=\"1048.205078\" xlink:href=\"#DejaVuSans-75\"/>\n       <use x=\"1111.583984\" xlink:href=\"#DejaVuSans-73\"/>\n       <use x=\"1163.683594\" xlink:href=\"#DejaVuSans-20\"/>\n       <use x=\"1195.470703\" xlink:href=\"#DejaVuSans-42\"/>\n       <use x=\"1264.074219\" xlink:href=\"#DejaVuSans-6f\"/>\n       <use x=\"1325.255859\" xlink:href=\"#DejaVuSans-75\"/>\n       <use x=\"1388.634766\" xlink:href=\"#DejaVuSans-6e\"/>\n       <use x=\"1452.013672\" xlink:href=\"#DejaVuSans-64\"/>\n      </g>\n     </g>\n    </g>\n    <g id=\"ytick_12\">\n     <g id=\"text_20\">\n      <!-- Euripides: Bacchae -->\n      <g transform=\"translate(460.6 242.215979)scale(0.14 -0.14)\">\n       <use xlink:href=\"#DejaVuSans-45\"/>\n       <use x=\"63.183594\" xlink:href=\"#DejaVuSans-75\"/>\n       <use x=\"126.5625\" xlink:href=\"#DejaVuSans-72\"/>\n       <use x=\"167.675781\" xlink:href=\"#DejaVuSans-69\"/>\n       <use x=\"195.458984\" xlink:href=\"#DejaVuSans-70\"/>\n       <use x=\"258.935547\" xlink:href=\"#DejaVuSans-69\"/>\n       <use x=\"286.71875\" xlink:href=\"#DejaVuSans-64\"/>\n       <use x=\"350.195312\" xlink:href=\"#DejaVuSans-65\"/>\n       <use x=\"411.71875\" xlink:href=\"#DejaVuSans-73\"/>\n       <use x=\"463.818359\" xlink:href=\"#DejaVuSans-3a\"/>\n       <use x=\"497.509766\" xlink:href=\"#DejaVuSans-20\"/>\n       <use x=\"529.296875\" xlink:href=\"#DejaVuSans-42\"/>\n       <use x=\"597.900391\" xlink:href=\"#DejaVuSans-61\"/>\n       <use x=\"659.179688\" xlink:href=\"#DejaVuSans-63\"/>\n       <use x=\"714.160156\" xlink:href=\"#DejaVuSans-63\"/>\n       <use x=\"769.140625\" xlink:href=\"#DejaVuSans-68\"/>\n       <use x=\"832.519531\" xlink:href=\"#DejaVuSans-61\"/>\n       <use x=\"893.798828\" xlink:href=\"#DejaVuSans-65\"/>\n      </g>\n     </g>\n    </g>\n    <g id=\"ytick_13\">\n     <g id=\"text_21\">\n      <!-- Euripides: Iphigenia in Aulis -->\n      <g transform=\"translate(460.6 213.605452)scale(0.14 -0.14)\">\n       <use xlink:href=\"#DejaVuSans-45\"/>\n       <use x=\"63.183594\" xlink:href=\"#DejaVuSans-75\"/>\n       <use x=\"126.5625\" xlink:href=\"#DejaVuSans-72\"/>\n       <use x=\"167.675781\" xlink:href=\"#DejaVuSans-69\"/>\n       <use x=\"195.458984\" xlink:href=\"#DejaVuSans-70\"/>\n       <use x=\"258.935547\" xlink:href=\"#DejaVuSans-69\"/>\n       <use x=\"286.71875\" xlink:href=\"#DejaVuSans-64\"/>\n       <use x=\"350.195312\" xlink:href=\"#DejaVuSans-65\"/>\n       <use x=\"411.71875\" xlink:href=\"#DejaVuSans-73\"/>\n       <use x=\"463.818359\" xlink:href=\"#DejaVuSans-3a\"/>\n       <use x=\"497.509766\" xlink:href=\"#DejaVuSans-20\"/>\n       <use x=\"529.296875\" xlink:href=\"#DejaVuSans-49\"/>\n       <use x=\"558.789062\" xlink:href=\"#DejaVuSans-70\"/>\n       <use x=\"622.265625\" xlink:href=\"#DejaVuSans-68\"/>\n       <use x=\"685.644531\" xlink:href=\"#DejaVuSans-69\"/>\n       <use x=\"713.427734\" xlink:href=\"#DejaVuSans-67\"/>\n       <use x=\"776.904297\" xlink:href=\"#DejaVuSans-65\"/>\n       <use x=\"838.427734\" xlink:href=\"#DejaVuSans-6e\"/>\n       <use x=\"901.806641\" xlink:href=\"#DejaVuSans-69\"/>\n       <use x=\"929.589844\" xlink:href=\"#DejaVuSans-61\"/>\n       <use x=\"990.869141\" xlink:href=\"#DejaVuSans-20\"/>\n       <use x=\"1022.65625\" xlink:href=\"#DejaVuSans-69\"/>\n       <use x=\"1050.439453\" xlink:href=\"#DejaVuSans-6e\"/>\n       <use x=\"1113.818359\" xlink:href=\"#DejaVuSans-20\"/>\n       <use x=\"1145.605469\" xlink:href=\"#DejaVuSans-41\"/>\n       <use x=\"1214.013672\" xlink:href=\"#DejaVuSans-75\"/>\n       <use x=\"1277.392578\" xlink:href=\"#DejaVuSans-6c\"/>\n       <use x=\"1305.175781\" xlink:href=\"#DejaVuSans-69\"/>\n       <use x=\"1332.958984\" xlink:href=\"#DejaVuSans-73\"/>\n      </g>\n     </g>\n    </g>\n    <g id=\"ytick_14\">\n     <g id=\"text_22\">\n      <!-- Euripides: The Trojan Women -->\n      <g transform=\"translate(460.6 184.994926)scale(0.14 -0.14)\">\n       <defs>\n        <path d=\"M 603 3500 \nL 1178 3500 \nL 1178 -63 \nQ 1178 -731 923 -1031 \nQ 669 -1331 103 -1331 \nL -116 -1331 \nL -116 -844 \nL 38 -844 \nQ 366 -844 484 -692 \nQ 603 -541 603 -63 \nL 603 3500 \nz\nM 603 4863 \nL 1178 4863 \nL 1178 4134 \nL 603 4134 \nL 603 4863 \nz\n\" id=\"DejaVuSans-6a\" transform=\"scale(0.015625)\"/>\n       </defs>\n       <use xlink:href=\"#DejaVuSans-45\"/>\n       <use x=\"63.183594\" xlink:href=\"#DejaVuSans-75\"/>\n       <use x=\"126.5625\" xlink:href=\"#DejaVuSans-72\"/>\n       <use x=\"167.675781\" xlink:href=\"#DejaVuSans-69\"/>\n       <use x=\"195.458984\" xlink:href=\"#DejaVuSans-70\"/>\n       <use x=\"258.935547\" xlink:href=\"#DejaVuSans-69\"/>\n       <use x=\"286.71875\" xlink:href=\"#DejaVuSans-64\"/>\n       <use x=\"350.195312\" xlink:href=\"#DejaVuSans-65\"/>\n       <use x=\"411.71875\" xlink:href=\"#DejaVuSans-73\"/>\n       <use x=\"463.818359\" xlink:href=\"#DejaVuSans-3a\"/>\n       <use x=\"497.509766\" xlink:href=\"#DejaVuSans-20\"/>\n       <use x=\"529.296875\" xlink:href=\"#DejaVuSans-54\"/>\n       <use x=\"590.380859\" xlink:href=\"#DejaVuSans-68\"/>\n       <use x=\"653.759766\" xlink:href=\"#DejaVuSans-65\"/>\n       <use x=\"715.283203\" xlink:href=\"#DejaVuSans-20\"/>\n       <use x=\"747.070312\" xlink:href=\"#DejaVuSans-54\"/>\n       <use x=\"793.404297\" xlink:href=\"#DejaVuSans-72\"/>\n       <use x=\"832.267578\" xlink:href=\"#DejaVuSans-6f\"/>\n       <use x=\"893.449219\" xlink:href=\"#DejaVuSans-6a\"/>\n       <use x=\"921.232422\" xlink:href=\"#DejaVuSans-61\"/>\n       <use x=\"982.511719\" xlink:href=\"#DejaVuSans-6e\"/>\n       <use x=\"1045.890625\" xlink:href=\"#DejaVuSans-20\"/>\n       <use x=\"1077.677734\" xlink:href=\"#DejaVuSans-57\"/>\n       <use x=\"1170.679688\" xlink:href=\"#DejaVuSans-6f\"/>\n       <use x=\"1231.861328\" xlink:href=\"#DejaVuSans-6d\"/>\n       <use x=\"1329.273438\" xlink:href=\"#DejaVuSans-65\"/>\n       <use x=\"1390.796875\" xlink:href=\"#DejaVuSans-6e\"/>\n      </g>\n     </g>\n    </g>\n    <g id=\"ytick_15\">\n     <g id=\"text_23\">\n      <!-- Sophocles: Oedipus Tyrannus -->\n      <g transform=\"translate(460.6 156.3844)scale(0.14 -0.14)\">\n       <defs>\n        <path d=\"M 3425 4513 \nL 3425 3897 \nQ 3066 4069 2747 4153 \nQ 2428 4238 2131 4238 \nQ 1616 4238 1336 4038 \nQ 1056 3838 1056 3469 \nQ 1056 3159 1242 3001 \nQ 1428 2844 1947 2747 \nL 2328 2669 \nQ 3034 2534 3370 2195 \nQ 3706 1856 3706 1288 \nQ 3706 609 3251 259 \nQ 2797 -91 1919 -91 \nQ 1588 -91 1214 -16 \nQ 841 59 441 206 \nL 441 856 \nQ 825 641 1194 531 \nQ 1563 422 1919 422 \nQ 2459 422 2753 634 \nQ 3047 847 3047 1241 \nQ 3047 1584 2836 1778 \nQ 2625 1972 2144 2069 \nL 1759 2144 \nQ 1053 2284 737 2584 \nQ 422 2884 422 3419 \nQ 422 4038 858 4394 \nQ 1294 4750 2059 4750 \nQ 2388 4750 2728 4690 \nQ 3069 4631 3425 4513 \nz\n\" id=\"DejaVuSans-53\" transform=\"scale(0.015625)\"/>\n       </defs>\n       <use xlink:href=\"#DejaVuSans-53\"/>\n       <use x=\"63.476562\" xlink:href=\"#DejaVuSans-6f\"/>\n       <use x=\"124.658203\" xlink:href=\"#DejaVuSans-70\"/>\n       <use x=\"188.134766\" xlink:href=\"#DejaVuSans-68\"/>\n       <use x=\"251.513672\" xlink:href=\"#DejaVuSans-6f\"/>\n       <use x=\"312.695312\" xlink:href=\"#DejaVuSans-63\"/>\n       <use x=\"367.675781\" xlink:href=\"#DejaVuSans-6c\"/>\n       <use x=\"395.458984\" xlink:href=\"#DejaVuSans-65\"/>\n       <use x=\"456.982422\" xlink:href=\"#DejaVuSans-73\"/>\n       <use x=\"509.082031\" xlink:href=\"#DejaVuSans-3a\"/>\n       <use x=\"542.773438\" xlink:href=\"#DejaVuSans-20\"/>\n       <use x=\"574.560547\" xlink:href=\"#DejaVuSans-4f\"/>\n       <use x=\"653.271484\" xlink:href=\"#DejaVuSans-65\"/>\n       <use x=\"714.794922\" xlink:href=\"#DejaVuSans-64\"/>\n       <use x=\"778.271484\" xlink:href=\"#DejaVuSans-69\"/>\n       <use x=\"806.054688\" xlink:href=\"#DejaVuSans-70\"/>\n       <use x=\"869.53125\" xlink:href=\"#DejaVuSans-75\"/>\n       <use x=\"932.910156\" xlink:href=\"#DejaVuSans-73\"/>\n       <use x=\"985.009766\" xlink:href=\"#DejaVuSans-20\"/>\n       <use x=\"1016.796875\" xlink:href=\"#DejaVuSans-54\"/>\n       <use x=\"1062.255859\" xlink:href=\"#DejaVuSans-79\"/>\n       <use x=\"1121.435547\" xlink:href=\"#DejaVuSans-72\"/>\n       <use x=\"1162.548828\" xlink:href=\"#DejaVuSans-61\"/>\n       <use x=\"1223.828125\" xlink:href=\"#DejaVuSans-6e\"/>\n       <use x=\"1287.207031\" xlink:href=\"#DejaVuSans-6e\"/>\n       <use x=\"1350.585938\" xlink:href=\"#DejaVuSans-75\"/>\n       <use x=\"1413.964844\" xlink:href=\"#DejaVuSans-73\"/>\n      </g>\n     </g>\n    </g>\n    <g id=\"ytick_16\">\n     <g id=\"text_24\">\n      <!-- Sophocles: Ajax -->\n      <g transform=\"translate(460.6 127.773873)scale(0.14 -0.14)\">\n       <defs>\n        <path d=\"M 3513 3500 \nL 2247 1797 \nL 3578 0 \nL 2900 0 \nL 1881 1375 \nL 863 0 \nL 184 0 \nL 1544 1831 \nL 300 3500 \nL 978 3500 \nL 1906 2253 \nL 2834 3500 \nL 3513 3500 \nz\n\" id=\"DejaVuSans-78\" transform=\"scale(0.015625)\"/>\n       </defs>\n       <use xlink:href=\"#DejaVuSans-53\"/>\n       <use x=\"63.476562\" xlink:href=\"#DejaVuSans-6f\"/>\n       <use x=\"124.658203\" xlink:href=\"#DejaVuSans-70\"/>\n       <use x=\"188.134766\" xlink:href=\"#DejaVuSans-68\"/>\n       <use x=\"251.513672\" xlink:href=\"#DejaVuSans-6f\"/>\n       <use x=\"312.695312\" xlink:href=\"#DejaVuSans-63\"/>\n       <use x=\"367.675781\" xlink:href=\"#DejaVuSans-6c\"/>\n       <use x=\"395.458984\" xlink:href=\"#DejaVuSans-65\"/>\n       <use x=\"456.982422\" xlink:href=\"#DejaVuSans-73\"/>\n       <use x=\"509.082031\" xlink:href=\"#DejaVuSans-3a\"/>\n       <use x=\"542.773438\" xlink:href=\"#DejaVuSans-20\"/>\n       <use x=\"574.560547\" xlink:href=\"#DejaVuSans-41\"/>\n       <use x=\"642.96875\" xlink:href=\"#DejaVuSans-6a\"/>\n       <use x=\"670.751953\" xlink:href=\"#DejaVuSans-61\"/>\n       <use x=\"732.03125\" xlink:href=\"#DejaVuSans-78\"/>\n      </g>\n     </g>\n    </g>\n    <g id=\"ytick_17\">\n     <g id=\"text_25\">\n      <!-- Sophocles: Antigone -->\n      <g transform=\"translate(460.6 99.163347)scale(0.14 -0.14)\">\n       <use xlink:href=\"#DejaVuSans-53\"/>\n       <use x=\"63.476562\" xlink:href=\"#DejaVuSans-6f\"/>\n       <use x=\"124.658203\" xlink:href=\"#DejaVuSans-70\"/>\n       <use x=\"188.134766\" xlink:href=\"#DejaVuSans-68\"/>\n       <use x=\"251.513672\" xlink:href=\"#DejaVuSans-6f\"/>\n       <use x=\"312.695312\" xlink:href=\"#DejaVuSans-63\"/>\n       <use x=\"367.675781\" xlink:href=\"#DejaVuSans-6c\"/>\n       <use x=\"395.458984\" xlink:href=\"#DejaVuSans-65\"/>\n       <use x=\"456.982422\" xlink:href=\"#DejaVuSans-73\"/>\n       <use x=\"509.082031\" xlink:href=\"#DejaVuSans-3a\"/>\n       <use x=\"542.773438\" xlink:href=\"#DejaVuSans-20\"/>\n       <use x=\"574.560547\" xlink:href=\"#DejaVuSans-41\"/>\n       <use x=\"642.96875\" xlink:href=\"#DejaVuSans-6e\"/>\n       <use x=\"706.347656\" xlink:href=\"#DejaVuSans-74\"/>\n       <use x=\"745.556641\" xlink:href=\"#DejaVuSans-69\"/>\n       <use x=\"773.339844\" xlink:href=\"#DejaVuSans-67\"/>\n       <use x=\"836.816406\" xlink:href=\"#DejaVuSans-6f\"/>\n       <use x=\"897.998047\" xlink:href=\"#DejaVuSans-6e\"/>\n       <use x=\"961.376953\" xlink:href=\"#DejaVuSans-65\"/>\n      </g>\n     </g>\n    </g>\n    <g id=\"ytick_18\">\n     <g id=\"text_26\">\n      <!-- Sophocles: Electra -->\n      <g transform=\"translate(460.6 70.552821)scale(0.14 -0.14)\">\n       <use xlink:href=\"#DejaVuSans-53\"/>\n       <use x=\"63.476562\" xlink:href=\"#DejaVuSans-6f\"/>\n       <use x=\"124.658203\" xlink:href=\"#DejaVuSans-70\"/>\n       <use x=\"188.134766\" xlink:href=\"#DejaVuSans-68\"/>\n       <use x=\"251.513672\" xlink:href=\"#DejaVuSans-6f\"/>\n       <use x=\"312.695312\" xlink:href=\"#DejaVuSans-63\"/>\n       <use x=\"367.675781\" xlink:href=\"#DejaVuSans-6c\"/>\n       <use x=\"395.458984\" xlink:href=\"#DejaVuSans-65\"/>\n       <use x=\"456.982422\" xlink:href=\"#DejaVuSans-73\"/>\n       <use x=\"509.082031\" xlink:href=\"#DejaVuSans-3a\"/>\n       <use x=\"542.773438\" xlink:href=\"#DejaVuSans-20\"/>\n       <use x=\"574.560547\" xlink:href=\"#DejaVuSans-45\"/>\n       <use x=\"637.744141\" xlink:href=\"#DejaVuSans-6c\"/>\n       <use x=\"665.527344\" xlink:href=\"#DejaVuSans-65\"/>\n       <use x=\"727.050781\" xlink:href=\"#DejaVuSans-63\"/>\n       <use x=\"782.03125\" xlink:href=\"#DejaVuSans-74\"/>\n       <use x=\"821.240234\" xlink:href=\"#DejaVuSans-72\"/>\n       <use x=\"862.353516\" xlink:href=\"#DejaVuSans-61\"/>\n      </g>\n     </g>\n    </g>\n    <g id=\"ytick_19\">\n     <g id=\"text_27\">\n      <!-- Sophocles: Oedipus at Colonus -->\n      <g transform=\"translate(460.6 41.942294)scale(0.14 -0.14)\">\n       <defs>\n        <path d=\"M 4122 4306 \nL 4122 3641 \nQ 3803 3938 3442 4084 \nQ 3081 4231 2675 4231 \nQ 1875 4231 1450 3742 \nQ 1025 3253 1025 2328 \nQ 1025 1406 1450 917 \nQ 1875 428 2675 428 \nQ 3081 428 3442 575 \nQ 3803 722 4122 1019 \nL 4122 359 \nQ 3791 134 3420 21 \nQ 3050 -91 2638 -91 \nQ 1578 -91 968 557 \nQ 359 1206 359 2328 \nQ 359 3453 968 4101 \nQ 1578 4750 2638 4750 \nQ 3056 4750 3426 4639 \nQ 3797 4528 4122 4306 \nz\n\" id=\"DejaVuSans-43\" transform=\"scale(0.015625)\"/>\n       </defs>\n       <use xlink:href=\"#DejaVuSans-53\"/>\n       <use x=\"63.476562\" xlink:href=\"#DejaVuSans-6f\"/>\n       <use x=\"124.658203\" xlink:href=\"#DejaVuSans-70\"/>\n       <use x=\"188.134766\" xlink:href=\"#DejaVuSans-68\"/>\n       <use x=\"251.513672\" xlink:href=\"#DejaVuSans-6f\"/>\n       <use x=\"312.695312\" xlink:href=\"#DejaVuSans-63\"/>\n       <use x=\"367.675781\" xlink:href=\"#DejaVuSans-6c\"/>\n       <use x=\"395.458984\" xlink:href=\"#DejaVuSans-65\"/>\n       <use x=\"456.982422\" xlink:href=\"#DejaVuSans-73\"/>\n       <use x=\"509.082031\" xlink:href=\"#DejaVuSans-3a\"/>\n       <use x=\"542.773438\" xlink:href=\"#DejaVuSans-20\"/>\n       <use x=\"574.560547\" xlink:href=\"#DejaVuSans-4f\"/>\n       <use x=\"653.271484\" xlink:href=\"#DejaVuSans-65\"/>\n       <use x=\"714.794922\" xlink:href=\"#DejaVuSans-64\"/>\n       <use x=\"778.271484\" xlink:href=\"#DejaVuSans-69\"/>\n       <use x=\"806.054688\" xlink:href=\"#DejaVuSans-70\"/>\n       <use x=\"869.53125\" xlink:href=\"#DejaVuSans-75\"/>\n       <use x=\"932.910156\" xlink:href=\"#DejaVuSans-73\"/>\n       <use x=\"985.009766\" xlink:href=\"#DejaVuSans-20\"/>\n       <use x=\"1016.796875\" xlink:href=\"#DejaVuSans-61\"/>\n       <use x=\"1078.076172\" xlink:href=\"#DejaVuSans-74\"/>\n       <use x=\"1117.285156\" xlink:href=\"#DejaVuSans-20\"/>\n       <use x=\"1149.072266\" xlink:href=\"#DejaVuSans-43\"/>\n       <use x=\"1218.896484\" xlink:href=\"#DejaVuSans-6f\"/>\n       <use x=\"1280.078125\" xlink:href=\"#DejaVuSans-6c\"/>\n       <use x=\"1307.861328\" xlink:href=\"#DejaVuSans-6f\"/>\n       <use x=\"1369.042969\" xlink:href=\"#DejaVuSans-6e\"/>\n       <use x=\"1432.421875\" xlink:href=\"#DejaVuSans-75\"/>\n       <use x=\"1495.800781\" xlink:href=\"#DejaVuSans-73\"/>\n      </g>\n     </g>\n    </g>\n   </g>\n   <g id=\"LineCollection_1\">\n    <path clip-path=\"url(#pa9bb9d9355)\" d=\"M 453.6 523.002336 \nL 318.346372 523.002336 \nL 318.346372 494.391809 \nL 453.6 494.391809 \n\" style=\"fill:none;stroke:#ff7f0e;stroke-width:1.5;\"/>\n    <path clip-path=\"url(#pa9bb9d9355)\" d=\"M 453.6 465.781283 \nL 280.587084 465.781283 \nL 280.587084 437.170757 \nL 453.6 437.170757 \n\" style=\"fill:none;stroke:#ff7f0e;stroke-width:1.5;\"/>\n    <path clip-path=\"url(#pa9bb9d9355)\" d=\"M 318.346372 508.697072 \nL 221.286535 508.697072 \nL 221.286535 451.47602 \nL 280.587084 451.47602 \n\" style=\"fill:none;stroke:#ff7f0e;stroke-width:1.5;\"/>\n    <path clip-path=\"url(#pa9bb9d9355)\" d=\"M 453.6 551.612862 \nL 126.693648 551.612862 \nL 126.693648 480.086546 \nL 221.286535 480.086546 \n\" style=\"fill:none;stroke:#ff7f0e;stroke-width:1.5;\"/>\n   </g>\n   <g id=\"LineCollection_2\">\n    <path clip-path=\"url(#pa9bb9d9355)\" d=\"M 453.6 208.286546 \nL 121.954256 208.286546 \nL 121.954256 179.67602 \nL 453.6 179.67602 \n\" style=\"fill:none;stroke:#2ca02c;stroke-width:1.5;\"/>\n   </g>\n   <g id=\"LineCollection_3\">\n    <path clip-path=\"url(#pa9bb9d9355)\" d=\"M 453.6 65.233914 \nL 121.846435 65.233914 \nL 121.846435 36.623388 \nL 453.6 36.623388 \n\" style=\"fill:none;stroke:#d62728;stroke-width:1.5;\"/>\n    <path clip-path=\"url(#pa9bb9d9355)\" d=\"M 453.6 93.844441 \nL 119.560426 93.844441 \nL 119.560426 50.928651 \nL 121.846435 50.928651 \n\" style=\"fill:none;stroke:#d62728;stroke-width:1.5;\"/>\n   </g>\n   <g id=\"LineCollection_4\">\n    <path clip-path=\"url(#pa9bb9d9355)\" d=\"M 453.6 408.56023 \nL 88.231284 408.56023 \nL 88.231284 379.949704 \nL 453.6 379.949704 \n\" style=\"fill:none;stroke:#bfbfbf;stroke-width:1.5;\"/>\n    <path clip-path=\"url(#pa9bb9d9355)\" d=\"M 453.6 322.728651 \nL 110.907183 322.728651 \nL 110.907183 294.118125 \nL 453.6 294.118125 \n\" style=\"fill:none;stroke:#bfbfbf;stroke-width:1.5;\"/>\n    <path clip-path=\"url(#pa9bb9d9355)\" d=\"M 453.6 351.339178 \nL 91.932501 351.339178 \nL 91.932501 308.423388 \nL 110.907183 308.423388 \n\" style=\"fill:none;stroke:#bfbfbf;stroke-width:1.5;\"/>\n    <path clip-path=\"url(#pa9bb9d9355)\" d=\"M 453.6 122.454967 \nL 112.228041 122.454967 \nL 112.228041 72.386546 \nL 119.560426 72.386546 \n\" style=\"fill:none;stroke:#bfbfbf;stroke-width:1.5;\"/>\n    <path clip-path=\"url(#pa9bb9d9355)\" d=\"M 453.6 151.065493 \nL 108.513815 151.065493 \nL 108.513815 97.420757 \nL 112.228041 97.420757 \n\" style=\"fill:none;stroke:#bfbfbf;stroke-width:1.5;\"/>\n    <path clip-path=\"url(#pa9bb9d9355)\" d=\"M 121.954256 193.981283 \nL 88.305822 193.981283 \nL 88.305822 124.243125 \nL 108.513815 124.243125 \n\" style=\"fill:none;stroke:#bfbfbf;stroke-width:1.5;\"/>\n    <path clip-path=\"url(#pa9bb9d9355)\" d=\"M 453.6 236.897072 \nL 82.881759 236.897072 \nL 82.881759 159.112204 \nL 88.305822 159.112204 \n\" style=\"fill:none;stroke:#bfbfbf;stroke-width:1.5;\"/>\n    <path clip-path=\"url(#pa9bb9d9355)\" d=\"M 453.6 265.507599 \nL 75.357943 265.507599 \nL 75.357943 198.004638 \nL 82.881759 198.004638 \n\" style=\"fill:none;stroke:#bfbfbf;stroke-width:1.5;\"/>\n    <path clip-path=\"url(#pa9bb9d9355)\" d=\"M 91.932501 329.881283 \nL 64.67535 329.881283 \nL 64.67535 231.756118 \nL 75.357943 231.756118 \n\" style=\"fill:none;stroke:#bfbfbf;stroke-width:1.5;\"/>\n    <path clip-path=\"url(#pa9bb9d9355)\" d=\"M 88.231284 394.254967 \nL 41.523438 394.254967 \nL 41.523438 280.818701 \nL 64.67535 280.818701 \n\" style=\"fill:none;stroke:#bfbfbf;stroke-width:1.5;\"/>\n    <path clip-path=\"url(#pa9bb9d9355)\" d=\"M 126.693648 515.849704 \nL 28.457143 515.849704 \nL 28.457143 337.536834 \nL 41.523438 337.536834 \n\" style=\"fill:none;stroke:#bfbfbf;stroke-width:1.5;\"/>\n   </g>\n   <g id=\"patch_3\">\n    <path d=\"M 7.2 565.918125 \nL 7.2 22.318125 \n\" style=\"fill:none;stroke:#000000;stroke-linecap:square;stroke-linejoin:miter;stroke-width:0.8;\"/>\n   </g>\n   <g id=\"patch_4\">\n    <path d=\"M 453.6 565.918125 \nL 453.6 22.318125 \n\" style=\"fill:none;stroke:#000000;stroke-linecap:square;stroke-linejoin:miter;stroke-width:0.8;\"/>\n   </g>\n   <g id=\"patch_5\">\n    <path d=\"M 7.2 565.918125 \nL 453.6 565.918125 \n\" style=\"fill:none;stroke:#000000;stroke-linecap:square;stroke-linejoin:miter;stroke-width:0.8;\"/>\n   </g>\n   <g id=\"patch_6\">\n    <path d=\"M 7.2 22.318125 \nL 453.6 22.318125 \n\" style=\"fill:none;stroke:#000000;stroke-linecap:square;stroke-linejoin:miter;stroke-width:0.8;\"/>\n   </g>\n   <g id=\"text_28\">\n    <!-- Metric: jaccard -->\n    <g transform=\"translate(186.029063 16.318125)scale(0.12 -0.12)\">\n     <use xlink:href=\"#DejaVuSans-4d\"/>\n     <use x=\"86.279297\" xlink:href=\"#DejaVuSans-65\"/>\n     <use x=\"147.802734\" xlink:href=\"#DejaVuSans-74\"/>\n     <use x=\"187.011719\" xlink:href=\"#DejaVuSans-72\"/>\n     <use x=\"228.125\" xlink:href=\"#DejaVuSans-69\"/>\n     <use x=\"255.908203\" xlink:href=\"#DejaVuSans-63\"/>\n     <use x=\"310.888672\" xlink:href=\"#DejaVuSans-3a\"/>\n     <use x=\"344.580078\" xlink:href=\"#DejaVuSans-20\"/>\n     <use x=\"376.367188\" xlink:href=\"#DejaVuSans-6a\"/>\n     <use x=\"404.150391\" xlink:href=\"#DejaVuSans-61\"/>\n     <use x=\"465.429688\" xlink:href=\"#DejaVuSans-63\"/>\n     <use x=\"520.410156\" xlink:href=\"#DejaVuSans-63\"/>\n     <use x=\"575.390625\" xlink:href=\"#DejaVuSans-61\"/>\n     <use x=\"636.669922\" xlink:href=\"#DejaVuSans-72\"/>\n     <use x=\"676.033203\" xlink:href=\"#DejaVuSans-64\"/>\n    </g>\n   </g>\n  </g>\n </g>\n <defs>\n  <clipPath id=\"pa9bb9d9355\">\n   <rect height=\"543.6\" width=\"446.4\" x=\"7.2\" y=\"22.318125\"/>\n  </clipPath>\n </defs>\n</svg>\n",
      "image/png": "[encoded data removed]"
     },
     "metadata": {
      "needs_background": "light"
     }
    }
   ],
   "source": [
    "hca = HierarchicalClusterAnalysis(max_features=6000, tfidf_method='max', OHCO_level=chapter_bag)\n",
    "hca.fit(corp, metrics=['cosine', 'jaccard'])\n",
    "hca.plot_dendrogram(linkage='complete', color_thresh=0.6, figsize=(8, 10))"
   ]
  },
  {
   "source": [
    "## Principal Components Analysis"
   ],
   "cell_type": "markdown",
   "metadata": {}
  },
  {
   "cell_type": "code",
   "execution_count": 8,
   "metadata": {},
   "outputs": [],
   "source": [
    "pca = PCA(max_features=6000, tfidf_method='max', OHCO_level=chapter_bag)\n",
    "pca.fit(corp, n_components=10)"
   ]
  },
  {
   "cell_type": "code",
   "execution_count": 9,
   "metadata": {},
   "outputs": [
    {
     "output_type": "execute_result",
     "data": {
      "text/plain": [
       "pc_id                              PC0       PC1       PC2       PC3  \\\n",
       "author    work_id chapter_id                                           \n",
       "Aeschylus 2       0           0.057426  0.013750  0.010696  0.053764   \n",
       "                  1           0.053741  0.019013  0.017303  0.036515   \n",
       "                  2           0.043507  0.034898 -0.002663  0.036651   \n",
       "                  3           0.071096  0.018624 -0.022272  0.024056   \n",
       "                  4           0.023459  0.066730 -0.086483  0.004883   \n",
       "...                                ...       ...       ...       ...   \n",
       "Vergil    14      7          -0.251772  0.297499  0.219325  0.035479   \n",
       "                  8          -0.278540  0.281587  0.192345  0.092611   \n",
       "                  9          -0.279309  0.303880  0.192073  0.098777   \n",
       "                  10         -0.268927  0.315332  0.163244  0.090771   \n",
       "                  11         -0.291164  0.299768  0.168892  0.098475   \n",
       "\n",
       "pc_id                              PC4       PC5       PC6       PC7  \\\n",
       "author    work_id chapter_id                                           \n",
       "Aeschylus 2       0          -0.074258 -0.079247 -0.047119  0.047193   \n",
       "                  1          -0.052536 -0.086453 -0.025953  0.035217   \n",
       "                  2          -0.069674 -0.110034 -0.052553  0.057560   \n",
       "                  3          -0.062667 -0.035713 -0.065785  0.086352   \n",
       "                  4          -0.068629 -0.112378  0.008369  0.022922   \n",
       "...                                ...       ...       ...       ...   \n",
       "Vergil    14      7          -0.105269  0.019183 -0.162497 -0.117141   \n",
       "                  8          -0.115904 -0.001317 -0.136819 -0.147361   \n",
       "                  9          -0.148996 -0.004529 -0.159979 -0.155516   \n",
       "                  10         -0.120103 -0.004754 -0.166679 -0.135112   \n",
       "                  11         -0.125497  0.034764 -0.144095 -0.138387   \n",
       "\n",
       "pc_id                              PC8       PC9  \n",
       "author    work_id chapter_id                      \n",
       "Aeschylus 2       0           0.012682 -0.002125  \n",
       "                  1           0.027009  0.052213  \n",
       "                  2           0.058380  0.036592  \n",
       "                  3           0.027128  0.037207  \n",
       "                  4           0.062903  0.017958  \n",
       "...                                ...       ...  \n",
       "Vergil    14      7           0.097755 -0.086114  \n",
       "                  8           0.074500 -0.123860  \n",
       "                  9           0.076915 -0.102856  \n",
       "                  10          0.096782 -0.121169  \n",
       "                  11          0.101413 -0.096327  \n",
       "\n",
       "[268 rows x 10 columns]"
      ],
      "text/html": "<div>\n<style scoped>\n    .dataframe tbody tr th:only-of-type {\n        vertical-align: middle;\n    }\n\n    .dataframe tbody tr th {\n        vertical-align: top;\n    }\n\n    .dataframe thead th {\n        text-align: right;\n    }\n</style>\n<table border=\"1\" class=\"dataframe\">\n  <thead>\n    <tr style=\"text-align: right;\">\n      <th></th>\n      <th></th>\n      <th>pc_id</th>\n      <th>PC0</th>\n      <th>PC1</th>\n      <th>PC2</th>\n      <th>PC3</th>\n      <th>PC4</th>\n      <th>PC5</th>\n      <th>PC6</th>\n      <th>PC7</th>\n      <th>PC8</th>\n      <th>PC9</th>\n    </tr>\n    <tr>\n      <th>author</th>\n      <th>work_id</th>\n      <th>chapter_id</th>\n      <th></th>\n      <th></th>\n      <th></th>\n      <th></th>\n      <th></th>\n      <th></th>\n      <th></th>\n      <th></th>\n      <th></th>\n      <th></th>\n    </tr>\n  </thead>\n  <tbody>\n    <tr>\n      <th rowspan=\"5\" valign=\"top\">Aeschylus</th>\n      <th rowspan=\"5\" valign=\"top\">2</th>\n      <th>0</th>\n      <td>0.057426</td>\n      <td>0.013750</td>\n      <td>0.010696</td>\n      <td>0.053764</td>\n      <td>-0.074258</td>\n      <td>-0.079247</td>\n      <td>-0.047119</td>\n      <td>0.047193</td>\n      <td>0.012682</td>\n      <td>-0.002125</td>\n    </tr>\n    <tr>\n      <th>1</th>\n      <td>0.053741</td>\n      <td>0.019013</td>\n      <td>0.017303</td>\n      <td>0.036515</td>\n      <td>-0.052536</td>\n      <td>-0.086453</td>\n      <td>-0.025953</td>\n      <td>0.035217</td>\n      <td>0.027009</td>\n      <td>0.052213</td>\n    </tr>\n    <tr>\n      <th>2</th>\n      <td>0.043507</td>\n      <td>0.034898</td>\n      <td>-0.002663</td>\n      <td>0.036651</td>\n      <td>-0.069674</td>\n      <td>-0.110034</td>\n      <td>-0.052553</td>\n      <td>0.057560</td>\n      <td>0.058380</td>\n      <td>0.036592</td>\n    </tr>\n    <tr>\n      <th>3</th>\n      <td>0.071096</td>\n      <td>0.018624</td>\n      <td>-0.022272</td>\n      <td>0.024056</td>\n      <td>-0.062667</td>\n      <td>-0.035713</td>\n      <td>-0.065785</td>\n      <td>0.086352</td>\n      <td>0.027128</td>\n      <td>0.037207</td>\n    </tr>\n    <tr>\n      <th>4</th>\n      <td>0.023459</td>\n      <td>0.066730</td>\n      <td>-0.086483</td>\n      <td>0.004883</td>\n      <td>-0.068629</td>\n      <td>-0.112378</td>\n      <td>0.008369</td>\n      <td>0.022922</td>\n      <td>0.062903</td>\n      <td>0.017958</td>\n    </tr>\n    <tr>\n      <th>...</th>\n      <th>...</th>\n      <th>...</th>\n      <td>...</td>\n      <td>...</td>\n      <td>...</td>\n      <td>...</td>\n      <td>...</td>\n      <td>...</td>\n      <td>...</td>\n      <td>...</td>\n      <td>...</td>\n      <td>...</td>\n    </tr>\n    <tr>\n      <th rowspan=\"5\" valign=\"top\">Vergil</th>\n      <th rowspan=\"5\" valign=\"top\">14</th>\n      <th>7</th>\n      <td>-0.251772</td>\n      <td>0.297499</td>\n      <td>0.219325</td>\n      <td>0.035479</td>\n      <td>-0.105269</td>\n      <td>0.019183</td>\n      <td>-0.162497</td>\n      <td>-0.117141</td>\n      <td>0.097755</td>\n      <td>-0.086114</td>\n    </tr>\n    <tr>\n      <th>8</th>\n      <td>-0.278540</td>\n      <td>0.281587</td>\n      <td>0.192345</td>\n      <td>0.092611</td>\n      <td>-0.115904</td>\n      <td>-0.001317</td>\n      <td>-0.136819</td>\n      <td>-0.147361</td>\n      <td>0.074500</td>\n      <td>-0.123860</td>\n    </tr>\n    <tr>\n      <th>9</th>\n      <td>-0.279309</td>\n      <td>0.303880</td>\n      <td>0.192073</td>\n      <td>0.098777</td>\n      <td>-0.148996</td>\n      <td>-0.004529</td>\n      <td>-0.159979</td>\n      <td>-0.155516</td>\n      <td>0.076915</td>\n      <td>-0.102856</td>\n    </tr>\n    <tr>\n      <th>10</th>\n      <td>-0.268927</td>\n      <td>0.315332</td>\n      <td>0.163244</td>\n      <td>0.090771</td>\n      <td>-0.120103</td>\n      <td>-0.004754</td>\n      <td>-0.166679</td>\n      <td>-0.135112</td>\n      <td>0.096782</td>\n      <td>-0.121169</td>\n    </tr>\n    <tr>\n      <th>11</th>\n      <td>-0.291164</td>\n      <td>0.299768</td>\n      <td>0.168892</td>\n      <td>0.098475</td>\n      <td>-0.125497</td>\n      <td>0.034764</td>\n      <td>-0.144095</td>\n      <td>-0.138387</td>\n      <td>0.101413</td>\n      <td>-0.096327</td>\n    </tr>\n  </tbody>\n</table>\n<p>268 rows × 10 columns</p>\n</div>"
     },
     "metadata": {},
     "execution_count": 9
    }
   ],
   "source": [
    "pca.dcm"
   ]
  },
  {
   "cell_type": "code",
   "execution_count": 10,
   "metadata": {},
   "outputs": [
    {
     "output_type": "display_data",
     "data": {
      "application/vnd.plotly.v1+json": {
       "config": {
        "plotlyServerURL": "https://plot.ly"
       },
       "data": [
        {
         "hovertemplate": "<b>%{hovertext}</b><br><br>author=Aeschylus<br>PC0=%{x}<br>PC1=%{y}<extra></extra>",
         "hovertext": [
          "Aeschylus-Agamemnon-0",
          "Aeschylus-Agamemnon-1",
          "Aeschylus-Agamemnon-2",
          "Aeschylus-Agamemnon-3",
          "Aeschylus-Agamemnon-4",
          "Aeschylus-Agamemnon-5",
          "Aeschylus-Agamemnon-6",
          "Aeschylus-Agamemnon-7",
          "Aeschylus-Agamemnon-8",
          "Aeschylus-Agamemnon-9",
          "Aeschylus-Agamemnon-10",
          "Aeschylus-Agamemnon-11",
          "Aeschylus-Agamemnon-12",
          "Aeschylus-Agamemnon-13",
          "Aeschylus-Agamemnon-14",
          "Aeschylus-Prometheus Bound-0",
          "Aeschylus-Prometheus Bound-1",
          "Aeschylus-Prometheus Bound-2",
          "Aeschylus-Prometheus Bound-3",
          "Aeschylus-Prometheus Bound-4",
          "Aeschylus-Prometheus Bound-5",
          "Aeschylus-Prometheus Bound-6",
          "Aeschylus-Prometheus Bound-7",
          "Aeschylus-Prometheus Bound-8",
          "Aeschylus-Prometheus Bound-9",
          "Aeschylus-Prometheus Bound-10",
          "Aeschylus-Eumenides-0",
          "Aeschylus-Eumenides-1",
          "Aeschylus-Eumenides-2",
          "Aeschylus-Eumenides-3",
          "Aeschylus-Eumenides-4",
          "Aeschylus-Eumenides-5",
          "Aeschylus-Eumenides-6",
          "Aeschylus-Eumenides-7",
          "Aeschylus-Eumenides-8",
          "Aeschylus-Eumenides-9",
          "Aeschylus-Eumenides-10",
          "Aeschylus-Eumenides-11",
          "Aeschylus-Libation Bearers-0",
          "Aeschylus-Libation Bearers-1",
          "Aeschylus-Libation Bearers-2",
          "Aeschylus-Libation Bearers-3",
          "Aeschylus-Libation Bearers-4",
          "Aeschylus-Libation Bearers-5",
          "Aeschylus-Libation Bearers-6",
          "Aeschylus-Libation Bearers-7",
          "Aeschylus-Libation Bearers-8",
          "Aeschylus-Libation Bearers-9",
          "Aeschylus-Libation Bearers-10"
         ],
         "legendgroup": "Aeschylus",
         "marker": {
          "color": "#636efa",
          "symbol": "circle"
         },
         "mode": "markers",
         "name": "Aeschylus",
         "orientation": "v",
         "showlegend": true,
         "type": "scatter",
         "x": [
          0.05742576358809053,
          0.05374050384420921,
          0.043507023686012725,
          0.0710958883456664,
          0.023459243156532833,
          0.10873917625272275,
          0.03717050253010429,
          0.13963897555451515,
          0.13219541361547468,
          0.09559158328126087,
          0.03215622244879571,
          0.14167021931543447,
          0.15079628491511032,
          0.1024249847902558,
          0.07866455836638914,
          0.07476707783257658,
          0.12261885268396179,
          0.04743021268485224,
          0.1536273912500148,
          0.0862348011594775,
          0.14330600464173873,
          0.15505243894892246,
          0.16295232326440662,
          0.024321026225548156,
          0.1649448977925311,
          0.06097381837561298,
          0.09688342899046366,
          0.15924448904744512,
          0.10156021929967707,
          0.11910068961581378,
          0.12352352806294332,
          0.1526348011162362,
          0.09495899908645647,
          0.11263046198097615,
          0.16897553085441064,
          0.11744058692285278,
          0.1572452045650267,
          0.1727007912489943,
          0.163173804030334,
          0.11428505793746063,
          0.06298810299906873,
          0.08561467822715207,
          0.09827389116630385,
          0.10506566312189537,
          0.0887866978435006,
          0.13141921248220748,
          0.11392079371276422,
          0.1378134696529959,
          0.10261193516128778
         ],
         "xaxis": "x",
         "y": [
          0.013750485631711152,
          0.019013100610009038,
          0.03489812149843535,
          0.01862437059008873,
          0.06672952277926303,
          0.0014302302785527976,
          0.08087121074459168,
          -0.007297604716378554,
          -0.005556698207935578,
          0.018628549266375888,
          0.09180696931753114,
          -0.03613493908547694,
          -0.03335566182830739,
          0.012430438240263035,
          0.00036633551444260784,
          0.05141453384353869,
          -0.00646814788612092,
          0.08194343936742325,
          -0.07807234385695097,
          0.012202726167103507,
          -0.06260697878099603,
          -0.03473310820422489,
          -0.0064657897491871945,
          0.08322041714236104,
          -0.0627275707215544,
          0.0684870127594833,
          0.05669166635856393,
          -0.0039103982304607345,
          0.030020729964050693,
          -0.004405280241583323,
          0.04064751806409016,
          0.01565973133016218,
          0.07898664056703904,
          0.014312333733187393,
          -0.01847752065988516,
          -0.019615923509091727,
          -0.04732078588249924,
          -0.07273829474002252,
          -0.012035612165623806,
          -0.031095196329712898,
          0.10066492346111497,
          0.050603927284034775,
          0.034954658774621325,
          -0.001615031587527172,
          0.04720028071425879,
          -0.0295853705552567,
          0.051093760237446405,
          -0.0034111915745394885,
          0.02370181207416441
         ],
         "yaxis": "y"
        },
        {
         "alignmentgroup": "True",
         "hovertemplate": "<b>%{hovertext}</b><br><br>author=Aeschylus<br>PC0=%{x}<extra></extra>",
         "hovertext": [
          "Aeschylus-Agamemnon-0",
          "Aeschylus-Agamemnon-1",
          "Aeschylus-Agamemnon-2",
          "Aeschylus-Agamemnon-3",
          "Aeschylus-Agamemnon-4",
          "Aeschylus-Agamemnon-5",
          "Aeschylus-Agamemnon-6",
          "Aeschylus-Agamemnon-7",
          "Aeschylus-Agamemnon-8",
          "Aeschylus-Agamemnon-9",
          "Aeschylus-Agamemnon-10",
          "Aeschylus-Agamemnon-11",
          "Aeschylus-Agamemnon-12",
          "Aeschylus-Agamemnon-13",
          "Aeschylus-Agamemnon-14",
          "Aeschylus-Prometheus Bound-0",
          "Aeschylus-Prometheus Bound-1",
          "Aeschylus-Prometheus Bound-2",
          "Aeschylus-Prometheus Bound-3",
          "Aeschylus-Prometheus Bound-4",
          "Aeschylus-Prometheus Bound-5",
          "Aeschylus-Prometheus Bound-6",
          "Aeschylus-Prometheus Bound-7",
          "Aeschylus-Prometheus Bound-8",
          "Aeschylus-Prometheus Bound-9",
          "Aeschylus-Prometheus Bound-10",
          "Aeschylus-Eumenides-0",
          "Aeschylus-Eumenides-1",
          "Aeschylus-Eumenides-2",
          "Aeschylus-Eumenides-3",
          "Aeschylus-Eumenides-4",
          "Aeschylus-Eumenides-5",
          "Aeschylus-Eumenides-6",
          "Aeschylus-Eumenides-7",
          "Aeschylus-Eumenides-8",
          "Aeschylus-Eumenides-9",
          "Aeschylus-Eumenides-10",
          "Aeschylus-Eumenides-11",
          "Aeschylus-Libation Bearers-0",
          "Aeschylus-Libation Bearers-1",
          "Aeschylus-Libation Bearers-2",
          "Aeschylus-Libation Bearers-3",
          "Aeschylus-Libation Bearers-4",
          "Aeschylus-Libation Bearers-5",
          "Aeschylus-Libation Bearers-6",
          "Aeschylus-Libation Bearers-7",
          "Aeschylus-Libation Bearers-8",
          "Aeschylus-Libation Bearers-9",
          "Aeschylus-Libation Bearers-10"
         ],
         "legendgroup": "Aeschylus",
         "marker": {
          "color": "#636efa",
          "symbol": "circle"
         },
         "name": "Aeschylus",
         "notched": true,
         "offsetgroup": "Aeschylus",
         "showlegend": false,
         "type": "box",
         "x": [
          0.05742576358809053,
          0.05374050384420921,
          0.043507023686012725,
          0.0710958883456664,
          0.023459243156532833,
          0.10873917625272275,
          0.03717050253010429,
          0.13963897555451515,
          0.13219541361547468,
          0.09559158328126087,
          0.03215622244879571,
          0.14167021931543447,
          0.15079628491511032,
          0.1024249847902558,
          0.07866455836638914,
          0.07476707783257658,
          0.12261885268396179,
          0.04743021268485224,
          0.1536273912500148,
          0.0862348011594775,
          0.14330600464173873,
          0.15505243894892246,
          0.16295232326440662,
          0.024321026225548156,
          0.1649448977925311,
          0.06097381837561298,
          0.09688342899046366,
          0.15924448904744512,
          0.10156021929967707,
          0.11910068961581378,
          0.12352352806294332,
          0.1526348011162362,
          0.09495899908645647,
          0.11263046198097615,
          0.16897553085441064,
          0.11744058692285278,
          0.1572452045650267,
          0.1727007912489943,
          0.163173804030334,
          0.11428505793746063,
          0.06298810299906873,
          0.08561467822715207,
          0.09827389116630385,
          0.10506566312189537,
          0.0887866978435006,
          0.13141921248220748,
          0.11392079371276422,
          0.1378134696529959,
          0.10261193516128778
         ],
         "xaxis": "x2",
         "yaxis": "y2"
        },
        {
         "hovertemplate": "<b>%{hovertext}</b><br><br>author=Euripides<br>PC0=%{x}<br>PC1=%{y}<extra></extra>",
         "hovertext": [
          "Euripides-Iphigenia in Aulis-0",
          "Euripides-Iphigenia in Aulis-1",
          "Euripides-Iphigenia in Aulis-2",
          "Euripides-Iphigenia in Aulis-3",
          "Euripides-Iphigenia in Aulis-4",
          "Euripides-Iphigenia in Aulis-5",
          "Euripides-Iphigenia in Aulis-6",
          "Euripides-Iphigenia in Aulis-7",
          "Euripides-Iphigenia in Aulis-8",
          "Euripides-Iphigenia in Aulis-9",
          "Euripides-Iphigenia in Aulis-10",
          "Euripides-The Trojan Women-0",
          "Euripides-The Trojan Women-1",
          "Euripides-The Trojan Women-2",
          "Euripides-The Trojan Women-3",
          "Euripides-The Trojan Women-4",
          "Euripides-The Trojan Women-5",
          "Euripides-The Trojan Women-6",
          "Euripides-The Trojan Women-7",
          "Euripides-The Trojan Women-8",
          "Euripides-Bacchae-0",
          "Euripides-Bacchae-1",
          "Euripides-Bacchae-2",
          "Euripides-Bacchae-3",
          "Euripides-Bacchae-4",
          "Euripides-Bacchae-5",
          "Euripides-Bacchae-6",
          "Euripides-Bacchae-7",
          "Euripides-Bacchae-8",
          "Euripides-Bacchae-9",
          "Euripides-Bacchae-10",
          "Euripides-Bacchae-11",
          "Euripides-Bacchae-12"
         ],
         "legendgroup": "Euripides",
         "marker": {
          "color": "#EF553B",
          "symbol": "circle"
         },
         "mode": "markers",
         "name": "Euripides",
         "orientation": "v",
         "showlegend": true,
         "type": "scatter",
         "x": [
          0.06449298033690726,
          0.015159832295227155,
          0.03892727413821816,
          0.1270031309185725,
          0.06878635647561628,
          0.09742933394948877,
          0.045450864347144,
          0.08593036888315317,
          0.05602009646402469,
          0.11212755737213033,
          0.003180231282229209,
          0.06899700868068123,
          0.05846845929812312,
          -0.0004209360988364191,
          0.08100304392985322,
          0.01094950104439338,
          0.07032391203836877,
          0.04741290804195564,
          0.0901653712333475,
          0.010904631030784736,
          0.13776017882448582,
          0.1101633291901247,
          0.09666353648324155,
          0.1484978352421258,
          0.12398280900079477,
          0.13694526074908497,
          0.014571834310443633,
          0.1337729149066306,
          0.13733849174318793,
          0.15290114141080263,
          0.06290193243018974,
          0.1597896973839584,
          0.11182330890652928
         ],
         "xaxis": "x",
         "y": [
          0.04221757953402217,
          -0.06816438482780948,
          0.08911660485432249,
          -0.027427500081238346,
          0.03777621229695218,
          -0.030475122208389438,
          0.09050893412670744,
          -0.0348641712213877,
          0.07301061758584079,
          -0.03428875216830923,
          0.09058206559740188,
          0.041707253405793246,
          0.011538856105768514,
          0.09737831469383339,
          -0.03467937752262743,
          0.08862783111107936,
          -0.03946150714067291,
          0.07548934556397766,
          -0.009703054145766471,
          0.07093333789323693,
          0.006013770951860245,
          -0.010635655740272115,
          0.06456976589611713,
          -0.03748911622783992,
          0.02477081942152973,
          -0.03253458968522871,
          0.0807056279071636,
          -0.02678505138383951,
          0.003210060126258642,
          -0.01083662278473973,
          0.05080512874731099,
          -0.019719859481692425,
          0.079706614144993
         ],
         "yaxis": "y"
        },
        {
         "alignmentgroup": "True",
         "hovertemplate": "<b>%{hovertext}</b><br><br>author=Euripides<br>PC0=%{x}<extra></extra>",
         "hovertext": [
          "Euripides-Iphigenia in Aulis-0",
          "Euripides-Iphigenia in Aulis-1",
          "Euripides-Iphigenia in Aulis-2",
          "Euripides-Iphigenia in Aulis-3",
          "Euripides-Iphigenia in Aulis-4",
          "Euripides-Iphigenia in Aulis-5",
          "Euripides-Iphigenia in Aulis-6",
          "Euripides-Iphigenia in Aulis-7",
          "Euripides-Iphigenia in Aulis-8",
          "Euripides-Iphigenia in Aulis-9",
          "Euripides-Iphigenia in Aulis-10",
          "Euripides-The Trojan Women-0",
          "Euripides-The Trojan Women-1",
          "Euripides-The Trojan Women-2",
          "Euripides-The Trojan Women-3",
          "Euripides-The Trojan Women-4",
          "Euripides-The Trojan Women-5",
          "Euripides-The Trojan Women-6",
          "Euripides-The Trojan Women-7",
          "Euripides-The Trojan Women-8",
          "Euripides-Bacchae-0",
          "Euripides-Bacchae-1",
          "Euripides-Bacchae-2",
          "Euripides-Bacchae-3",
          "Euripides-Bacchae-4",
          "Euripides-Bacchae-5",
          "Euripides-Bacchae-6",
          "Euripides-Bacchae-7",
          "Euripides-Bacchae-8",
          "Euripides-Bacchae-9",
          "Euripides-Bacchae-10",
          "Euripides-Bacchae-11",
          "Euripides-Bacchae-12"
         ],
         "legendgroup": "Euripides",
         "marker": {
          "color": "#EF553B",
          "symbol": "circle"
         },
         "name": "Euripides",
         "notched": true,
         "offsetgroup": "Euripides",
         "showlegend": false,
         "type": "box",
         "x": [
          0.06449298033690726,
          0.015159832295227155,
          0.03892727413821816,
          0.1270031309185725,
          0.06878635647561628,
          0.09742933394948877,
          0.045450864347144,
          0.08593036888315317,
          0.05602009646402469,
          0.11212755737213033,
          0.003180231282229209,
          0.06899700868068123,
          0.05846845929812312,
          -0.0004209360988364191,
          0.08100304392985322,
          0.01094950104439338,
          0.07032391203836877,
          0.04741290804195564,
          0.0901653712333475,
          0.010904631030784736,
          0.13776017882448582,
          0.1101633291901247,
          0.09666353648324155,
          0.1484978352421258,
          0.12398280900079477,
          0.13694526074908497,
          0.014571834310443633,
          0.1337729149066306,
          0.13733849174318793,
          0.15290114141080263,
          0.06290193243018974,
          0.1597896973839584,
          0.11182330890652928
         ],
         "xaxis": "x2",
         "yaxis": "y2"
        },
        {
         "hovertemplate": "<b>%{hovertext}</b><br><br>author=Hesiod<br>PC0=%{x}<br>PC1=%{y}<extra></extra>",
         "hovertext": [
          "Hesiod-Works and Days-0",
          "Hesiod-Theogony-0"
         ],
         "legendgroup": "Hesiod",
         "marker": {
          "color": "#00cc96",
          "symbol": "circle"
         },
         "mode": "markers",
         "name": "Hesiod",
         "orientation": "v",
         "showlegend": true,
         "type": "scatter",
         "x": [
          -0.16071848329468086,
          -0.17771382679829187
         ],
         "xaxis": "x",
         "y": [
          0.06694751178884363,
          0.01603056544519146
         ],
         "yaxis": "y"
        },
        {
         "alignmentgroup": "True",
         "hovertemplate": "<b>%{hovertext}</b><br><br>author=Hesiod<br>PC0=%{x}<extra></extra>",
         "hovertext": [
          "Hesiod-Works and Days-0",
          "Hesiod-Theogony-0"
         ],
         "legendgroup": "Hesiod",
         "marker": {
          "color": "#00cc96",
          "symbol": "circle"
         },
         "name": "Hesiod",
         "notched": true,
         "offsetgroup": "Hesiod",
         "showlegend": false,
         "type": "box",
         "x": [
          -0.16071848329468086,
          -0.17771382679829187
         ],
         "xaxis": "x2",
         "yaxis": "y2"
        },
        {
         "hovertemplate": "<b>%{hovertext}</b><br><br>author=Homer<br>PC0=%{x}<br>PC1=%{y}<extra></extra>",
         "hovertext": [
          "Homer-Odyssey-0",
          "Homer-Odyssey-1",
          "Homer-Odyssey-2",
          "Homer-Odyssey-3",
          "Homer-Odyssey-4",
          "Homer-Odyssey-5",
          "Homer-Odyssey-6",
          "Homer-Odyssey-7",
          "Homer-Odyssey-8",
          "Homer-Odyssey-9",
          "Homer-Odyssey-10",
          "Homer-Odyssey-11",
          "Homer-Odyssey-12",
          "Homer-Odyssey-13",
          "Homer-Odyssey-14",
          "Homer-Odyssey-15",
          "Homer-Odyssey-16",
          "Homer-Odyssey-17",
          "Homer-Odyssey-18",
          "Homer-Odyssey-19",
          "Homer-Odyssey-20",
          "Homer-Odyssey-21",
          "Homer-Odyssey-22",
          "Homer-Odyssey-23",
          "Homer-Iliad-0",
          "Homer-Iliad-1",
          "Homer-Iliad-2",
          "Homer-Iliad-3",
          "Homer-Iliad-4",
          "Homer-Iliad-5",
          "Homer-Iliad-6",
          "Homer-Iliad-7",
          "Homer-Iliad-8",
          "Homer-Iliad-9",
          "Homer-Iliad-10",
          "Homer-Iliad-11",
          "Homer-Iliad-12",
          "Homer-Iliad-13",
          "Homer-Iliad-14",
          "Homer-Iliad-15",
          "Homer-Iliad-16",
          "Homer-Iliad-17",
          "Homer-Iliad-18",
          "Homer-Iliad-19",
          "Homer-Iliad-20",
          "Homer-Iliad-21",
          "Homer-Iliad-22",
          "Homer-Iliad-23"
         ],
         "legendgroup": "Homer",
         "marker": {
          "color": "#ab63fa",
          "symbol": "circle"
         },
         "mode": "markers",
         "name": "Homer",
         "orientation": "v",
         "showlegend": true,
         "type": "scatter",
         "x": [
          -0.224232297389817,
          -0.23009284487445783,
          -0.28063418601381046,
          -0.3315395819527502,
          -0.26814358729231924,
          -0.207050508637562,
          -0.21779043278992255,
          -0.25045652007942426,
          -0.28253031837006015,
          -0.2826729897421551,
          -0.2719236390428742,
          -0.24051334654803722,
          -0.25890916773983463,
          -0.2718949620287755,
          -0.2696793937707521,
          -0.24219860498310253,
          -0.2714948319986917,
          -0.22619426966985082,
          -0.27718652183644266,
          -0.22055751823502134,
          -0.22332723584482234,
          -0.2655536161784446,
          -0.21824906981635508,
          -0.28408057157754946,
          -0.21193661100971084,
          -0.3441769164198277,
          -0.3005576969893215,
          -0.32435504731782216,
          -0.3747693972801823,
          -0.3204693255740386,
          -0.31567222444614546,
          -0.3561014797290694,
          -0.3311981134990358,
          -0.3292019860006708,
          -0.3977845757171904,
          -0.3236858705554152,
          -0.3848484336998128,
          -0.3319048408657353,
          -0.3697945289266151,
          -0.38118199160171284,
          -0.36076820889861966,
          -0.3479886418130215,
          -0.29942834821533254,
          -0.3111147473283508,
          -0.3289070375435674,
          -0.3015587145601786,
          -0.37884587609010606,
          -0.3541987467735494
         ],
         "xaxis": "x",
         "y": [
          -0.14627987945108414,
          -0.13960188418688982,
          -0.1706829347161652,
          -0.14523852202540102,
          -0.09426051897698308,
          -0.12685322729187987,
          -0.1444337126021125,
          -0.1453624705930246,
          -0.0917908320409033,
          -0.1051771817494052,
          -0.11388501003694898,
          -0.0858986415057303,
          -0.14736545314632588,
          -0.10553588344247784,
          -0.1576676143796802,
          -0.1405769230423966,
          -0.13054472943271045,
          -0.13820617729388307,
          -0.11159072740450397,
          -0.13022707912394108,
          -0.15343899858172158,
          -0.11670763981088965,
          -0.1545210080708465,
          -0.14878990849814844,
          -0.08315548001254844,
          -0.2098689685261781,
          -0.19418320469334252,
          -0.22120078739837623,
          -0.2078905640371549,
          -0.20988525085889492,
          -0.23282182432250004,
          -0.23098575115770778,
          -0.1995265822305656,
          -0.20250386084214775,
          -0.21054845234562736,
          -0.2010993077725457,
          -0.20682605963661582,
          -0.22634763994018472,
          -0.22752422052504723,
          -0.20301167112211732,
          -0.2071139019810417,
          -0.20342449329836118,
          -0.22749557430543688,
          -0.1999146380089468,
          -0.1675173595038687,
          -0.17087771749076325,
          -0.1636326896075031,
          -0.2055417093500467
         ],
         "yaxis": "y"
        },
        {
         "alignmentgroup": "True",
         "hovertemplate": "<b>%{hovertext}</b><br><br>author=Homer<br>PC0=%{x}<extra></extra>",
         "hovertext": [
          "Homer-Odyssey-0",
          "Homer-Odyssey-1",
          "Homer-Odyssey-2",
          "Homer-Odyssey-3",
          "Homer-Odyssey-4",
          "Homer-Odyssey-5",
          "Homer-Odyssey-6",
          "Homer-Odyssey-7",
          "Homer-Odyssey-8",
          "Homer-Odyssey-9",
          "Homer-Odyssey-10",
          "Homer-Odyssey-11",
          "Homer-Odyssey-12",
          "Homer-Odyssey-13",
          "Homer-Odyssey-14",
          "Homer-Odyssey-15",
          "Homer-Odyssey-16",
          "Homer-Odyssey-17",
          "Homer-Odyssey-18",
          "Homer-Odyssey-19",
          "Homer-Odyssey-20",
          "Homer-Odyssey-21",
          "Homer-Odyssey-22",
          "Homer-Odyssey-23",
          "Homer-Iliad-0",
          "Homer-Iliad-1",
          "Homer-Iliad-2",
          "Homer-Iliad-3",
          "Homer-Iliad-4",
          "Homer-Iliad-5",
          "Homer-Iliad-6",
          "Homer-Iliad-7",
          "Homer-Iliad-8",
          "Homer-Iliad-9",
          "Homer-Iliad-10",
          "Homer-Iliad-11",
          "Homer-Iliad-12",
          "Homer-Iliad-13",
          "Homer-Iliad-14",
          "Homer-Iliad-15",
          "Homer-Iliad-16",
          "Homer-Iliad-17",
          "Homer-Iliad-18",
          "Homer-Iliad-19",
          "Homer-Iliad-20",
          "Homer-Iliad-21",
          "Homer-Iliad-22",
          "Homer-Iliad-23"
         ],
         "legendgroup": "Homer",
         "marker": {
          "color": "#ab63fa",
          "symbol": "circle"
         },
         "name": "Homer",
         "notched": true,
         "offsetgroup": "Homer",
         "showlegend": false,
         "type": "box",
         "x": [
          -0.224232297389817,
          -0.23009284487445783,
          -0.28063418601381046,
          -0.3315395819527502,
          -0.26814358729231924,
          -0.207050508637562,
          -0.21779043278992255,
          -0.25045652007942426,
          -0.28253031837006015,
          -0.2826729897421551,
          -0.2719236390428742,
          -0.24051334654803722,
          -0.25890916773983463,
          -0.2718949620287755,
          -0.2696793937707521,
          -0.24219860498310253,
          -0.2714948319986917,
          -0.22619426966985082,
          -0.27718652183644266,
          -0.22055751823502134,
          -0.22332723584482234,
          -0.2655536161784446,
          -0.21824906981635508,
          -0.28408057157754946,
          -0.21193661100971084,
          -0.3441769164198277,
          -0.3005576969893215,
          -0.32435504731782216,
          -0.3747693972801823,
          -0.3204693255740386,
          -0.31567222444614546,
          -0.3561014797290694,
          -0.3311981134990358,
          -0.3292019860006708,
          -0.3977845757171904,
          -0.3236858705554152,
          -0.3848484336998128,
          -0.3319048408657353,
          -0.3697945289266151,
          -0.38118199160171284,
          -0.36076820889861966,
          -0.3479886418130215,
          -0.29942834821533254,
          -0.3111147473283508,
          -0.3289070375435674,
          -0.3015587145601786,
          -0.37884587609010606,
          -0.3541987467735494
         ],
         "xaxis": "x2",
         "yaxis": "y2"
        },
        {
         "hovertemplate": "<b>%{hovertext}</b><br><br>author=Homeric_Hymns<br>PC0=%{x}<br>PC1=%{y}<extra></extra>",
         "hovertext": [
          "Homeric_Hymns-Homeric Hymns-0",
          "Homeric_Hymns-Homeric Hymns-1",
          "Homeric_Hymns-Homeric Hymns-2",
          "Homeric_Hymns-Homeric Hymns-3",
          "Homeric_Hymns-Homeric Hymns-4",
          "Homeric_Hymns-Homeric Hymns-5",
          "Homeric_Hymns-Homeric Hymns-6",
          "Homeric_Hymns-Homeric Hymns-7",
          "Homeric_Hymns-Homeric Hymns-8",
          "Homeric_Hymns-Homeric Hymns-9",
          "Homeric_Hymns-Homeric Hymns-10",
          "Homeric_Hymns-Homeric Hymns-11",
          "Homeric_Hymns-Homeric Hymns-12",
          "Homeric_Hymns-Homeric Hymns-13",
          "Homeric_Hymns-Homeric Hymns-14",
          "Homeric_Hymns-Homeric Hymns-15",
          "Homeric_Hymns-Homeric Hymns-16",
          "Homeric_Hymns-Homeric Hymns-17",
          "Homeric_Hymns-Homeric Hymns-18",
          "Homeric_Hymns-Homeric Hymns-19",
          "Homeric_Hymns-Homeric Hymns-20",
          "Homeric_Hymns-Homeric Hymns-21",
          "Homeric_Hymns-Homeric Hymns-22",
          "Homeric_Hymns-Homeric Hymns-23",
          "Homeric_Hymns-Homeric Hymns-24",
          "Homeric_Hymns-Homeric Hymns-25",
          "Homeric_Hymns-Homeric Hymns-26",
          "Homeric_Hymns-Homeric Hymns-27",
          "Homeric_Hymns-Homeric Hymns-28",
          "Homeric_Hymns-Homeric Hymns-29",
          "Homeric_Hymns-Homeric Hymns-30",
          "Homeric_Hymns-Homeric Hymns-31",
          "Homeric_Hymns-Homeric Hymns-32"
         ],
         "legendgroup": "Homeric_Hymns",
         "marker": {
          "color": "#FFA15A",
          "symbol": "circle"
         },
         "mode": "markers",
         "name": "Homeric_Hymns",
         "orientation": "v",
         "showlegend": true,
         "type": "scatter",
         "x": [
          0.11962993065799432,
          -0.14584987442954933,
          -0.14000121795810988,
          -0.1636071770802487,
          -0.07898773163563977,
          0.11863743624472799,
          0.039079143702966515,
          0.0997178887729997,
          0.1754186615083437,
          0.17973502888443382,
          0.18488162067677322,
          0.16395747822818807,
          0.19532382736715617,
          0.17805951351724977,
          0.1631299276010344,
          0.19738101606907368,
          0.1827956122307959,
          0.153033731462809,
          0.06949206999676212,
          0.14608784858100712,
          0.16602458974895737,
          0.170162311694213,
          0.17778030641195275,
          0.1541676909940787,
          0.20171491177421114,
          0.13105887383876721,
          0.12828053903601788,
          0.09498528413335156,
          0.15763918783609088,
          0.13654732618923582,
          0.13890816349361346,
          0.11987210972426866,
          0.1224692949832516
         ],
         "xaxis": "x",
         "y": [
          -0.11483542842342064,
          -0.015500465265852754,
          -0.030768585576195977,
          0.014006807442920452,
          -0.04286478709302124,
          -0.09458795061027865,
          -0.06768361369784338,
          -0.09357966447782372,
          -0.158376020770061,
          -0.12777540314667357,
          -0.14689532231506658,
          -0.14863534163246767,
          -0.16381478050369824,
          -0.15139226345823958,
          -0.14968970123829145,
          -0.1692257067128002,
          -0.15807260871988815,
          -0.14259045634542114,
          -0.09671410127378421,
          -0.12615418796287098,
          -0.09750493066711233,
          -0.15549429314890126,
          -0.13728214872522482,
          -0.1148077058354427,
          -0.14562798814082265,
          -0.11711032589703671,
          -0.11780761444737706,
          -0.15860364286010922,
          -0.11759483875666557,
          -0.09440493740622852,
          -0.13298748453414913,
          -0.1300258654085081,
          -0.12752998143233046
         ],
         "yaxis": "y"
        },
        {
         "alignmentgroup": "True",
         "hovertemplate": "<b>%{hovertext}</b><br><br>author=Homeric_Hymns<br>PC0=%{x}<extra></extra>",
         "hovertext": [
          "Homeric_Hymns-Homeric Hymns-0",
          "Homeric_Hymns-Homeric Hymns-1",
          "Homeric_Hymns-Homeric Hymns-2",
          "Homeric_Hymns-Homeric Hymns-3",
          "Homeric_Hymns-Homeric Hymns-4",
          "Homeric_Hymns-Homeric Hymns-5",
          "Homeric_Hymns-Homeric Hymns-6",
          "Homeric_Hymns-Homeric Hymns-7",
          "Homeric_Hymns-Homeric Hymns-8",
          "Homeric_Hymns-Homeric Hymns-9",
          "Homeric_Hymns-Homeric Hymns-10",
          "Homeric_Hymns-Homeric Hymns-11",
          "Homeric_Hymns-Homeric Hymns-12",
          "Homeric_Hymns-Homeric Hymns-13",
          "Homeric_Hymns-Homeric Hymns-14",
          "Homeric_Hymns-Homeric Hymns-15",
          "Homeric_Hymns-Homeric Hymns-16",
          "Homeric_Hymns-Homeric Hymns-17",
          "Homeric_Hymns-Homeric Hymns-18",
          "Homeric_Hymns-Homeric Hymns-19",
          "Homeric_Hymns-Homeric Hymns-20",
          "Homeric_Hymns-Homeric Hymns-21",
          "Homeric_Hymns-Homeric Hymns-22",
          "Homeric_Hymns-Homeric Hymns-23",
          "Homeric_Hymns-Homeric Hymns-24",
          "Homeric_Hymns-Homeric Hymns-25",
          "Homeric_Hymns-Homeric Hymns-26",
          "Homeric_Hymns-Homeric Hymns-27",
          "Homeric_Hymns-Homeric Hymns-28",
          "Homeric_Hymns-Homeric Hymns-29",
          "Homeric_Hymns-Homeric Hymns-30",
          "Homeric_Hymns-Homeric Hymns-31",
          "Homeric_Hymns-Homeric Hymns-32"
         ],
         "legendgroup": "Homeric_Hymns",
         "marker": {
          "color": "#FFA15A",
          "symbol": "circle"
         },
         "name": "Homeric_Hymns",
         "notched": true,
         "offsetgroup": "Homeric_Hymns",
         "showlegend": false,
         "type": "box",
         "x": [
          0.11962993065799432,
          -0.14584987442954933,
          -0.14000121795810988,
          -0.1636071770802487,
          -0.07898773163563977,
          0.11863743624472799,
          0.039079143702966515,
          0.0997178887729997,
          0.1754186615083437,
          0.17973502888443382,
          0.18488162067677322,
          0.16395747822818807,
          0.19532382736715617,
          0.17805951351724977,
          0.1631299276010344,
          0.19738101606907368,
          0.1827956122307959,
          0.153033731462809,
          0.06949206999676212,
          0.14608784858100712,
          0.16602458974895737,
          0.170162311694213,
          0.17778030641195275,
          0.1541676909940787,
          0.20171491177421114,
          0.13105887383876721,
          0.12828053903601788,
          0.09498528413335156,
          0.15763918783609088,
          0.13654732618923582,
          0.13890816349361346,
          0.11987210972426866,
          0.1224692949832516
         ],
         "xaxis": "x2",
         "yaxis": "y2"
        },
        {
         "hovertemplate": "<b>%{hovertext}</b><br><br>author=Ovid<br>PC0=%{x}<br>PC1=%{y}<extra></extra>",
         "hovertext": [
          "Ovid-Metamorphoses-0",
          "Ovid-Metamorphoses-1",
          "Ovid-Metamorphoses-2",
          "Ovid-Metamorphoses-3",
          "Ovid-Metamorphoses-4",
          "Ovid-Metamorphoses-5",
          "Ovid-Metamorphoses-6",
          "Ovid-Metamorphoses-7",
          "Ovid-Metamorphoses-8",
          "Ovid-Metamorphoses-9",
          "Ovid-Metamorphoses-10",
          "Ovid-Metamorphoses-11",
          "Ovid-Metamorphoses-12",
          "Ovid-Metamorphoses-13",
          "Ovid-Metamorphoses-14"
         ],
         "legendgroup": "Ovid",
         "marker": {
          "color": "#19d3f3",
          "symbol": "circle"
         },
         "mode": "markers",
         "name": "Ovid",
         "orientation": "v",
         "showlegend": true,
         "type": "scatter",
         "x": [
          -0.21263812695504733,
          -0.23882568928694894,
          -0.22115738444819782,
          -0.22386918626485233,
          -0.20585201721870344,
          -0.17525618864950732,
          -0.21964939016284746,
          -0.23158384192284687,
          -0.16260995786854457,
          -0.18286351402829057,
          -0.20109042152215587,
          -0.19081302806990189,
          -0.21200084104633352,
          -0.19629889875462844,
          -0.19273512587930985
         ],
         "xaxis": "x",
         "y": [
          0.32707136178943463,
          0.328672668867314,
          0.32005442247819615,
          0.3221997178710299,
          0.32280994368455673,
          0.3387598555239335,
          0.3600508498354019,
          0.3359665154810615,
          0.36670295806012315,
          0.33116305653222045,
          0.3480468463851259,
          0.281395810483746,
          0.34487288605476474,
          0.3354535326351812,
          0.34081057099153955
         ],
         "yaxis": "y"
        },
        {
         "alignmentgroup": "True",
         "hovertemplate": "<b>%{hovertext}</b><br><br>author=Ovid<br>PC0=%{x}<extra></extra>",
         "hovertext": [
          "Ovid-Metamorphoses-0",
          "Ovid-Metamorphoses-1",
          "Ovid-Metamorphoses-2",
          "Ovid-Metamorphoses-3",
          "Ovid-Metamorphoses-4",
          "Ovid-Metamorphoses-5",
          "Ovid-Metamorphoses-6",
          "Ovid-Metamorphoses-7",
          "Ovid-Metamorphoses-8",
          "Ovid-Metamorphoses-9",
          "Ovid-Metamorphoses-10",
          "Ovid-Metamorphoses-11",
          "Ovid-Metamorphoses-12",
          "Ovid-Metamorphoses-13",
          "Ovid-Metamorphoses-14"
         ],
         "legendgroup": "Ovid",
         "marker": {
          "color": "#19d3f3",
          "symbol": "circle"
         },
         "name": "Ovid",
         "notched": true,
         "offsetgroup": "Ovid",
         "showlegend": false,
         "type": "box",
         "x": [
          -0.21263812695504733,
          -0.23882568928694894,
          -0.22115738444819782,
          -0.22386918626485233,
          -0.20585201721870344,
          -0.17525618864950732,
          -0.21964939016284746,
          -0.23158384192284687,
          -0.16260995786854457,
          -0.18286351402829057,
          -0.20109042152215587,
          -0.19081302806990189,
          -0.21200084104633352,
          -0.19629889875462844,
          -0.19273512587930985
         ],
         "xaxis": "x2",
         "yaxis": "y2"
        },
        {
         "hovertemplate": "<b>%{hovertext}</b><br><br>author=Sophocles<br>PC0=%{x}<br>PC1=%{y}<extra></extra>",
         "hovertext": [
          "Sophocles-Ajax-0",
          "Sophocles-Ajax-1",
          "Sophocles-Ajax-2",
          "Sophocles-Ajax-3",
          "Sophocles-Ajax-4",
          "Sophocles-Ajax-5",
          "Sophocles-Ajax-6",
          "Sophocles-Ajax-7",
          "Sophocles-Ajax-8",
          "Sophocles-Ajax-9",
          "Sophocles-Ajax-10",
          "Sophocles-Ajax-11",
          "Sophocles-Ajax-12",
          "Sophocles-Ajax-13",
          "Sophocles-Ajax-14",
          "Sophocles-Antigone-0",
          "Sophocles-Antigone-1",
          "Sophocles-Antigone-2",
          "Sophocles-Antigone-3",
          "Sophocles-Antigone-4",
          "Sophocles-Antigone-5",
          "Sophocles-Antigone-6",
          "Sophocles-Antigone-7",
          "Sophocles-Antigone-8",
          "Sophocles-Antigone-9",
          "Sophocles-Antigone-10",
          "Sophocles-Antigone-11",
          "Sophocles-Antigone-12",
          "Sophocles-Antigone-13",
          "Sophocles-Antigone-14",
          "Sophocles-Antigone-15",
          "Sophocles-Electra-0",
          "Sophocles-Electra-1",
          "Sophocles-Electra-2",
          "Sophocles-Electra-3",
          "Sophocles-Electra-4",
          "Sophocles-Electra-5",
          "Sophocles-Electra-6",
          "Sophocles-Electra-7",
          "Sophocles-Electra-8",
          "Sophocles-Electra-9",
          "Sophocles-Electra-10",
          "Sophocles-Electra-11",
          "Sophocles-Electra-12",
          "Sophocles-Oedipus Tyrannus-0",
          "Sophocles-Oedipus Tyrannus-1",
          "Sophocles-Oedipus Tyrannus-2",
          "Sophocles-Oedipus Tyrannus-3",
          "Sophocles-Oedipus Tyrannus-4",
          "Sophocles-Oedipus Tyrannus-5",
          "Sophocles-Oedipus Tyrannus-6",
          "Sophocles-Oedipus Tyrannus-7",
          "Sophocles-Oedipus Tyrannus-8",
          "Sophocles-Oedipus Tyrannus-9",
          "Sophocles-Oedipus Tyrannus-10",
          "Sophocles-Oedipus Tyrannus-11",
          "Sophocles-Oedipus Tyrannus-12",
          "Sophocles-Oedipus Tyrannus-13",
          "Sophocles-Oedipus Tyrannus-14",
          "Sophocles-Oedipus at Colonus-0",
          "Sophocles-Oedipus at Colonus-1",
          "Sophocles-Oedipus at Colonus-2",
          "Sophocles-Oedipus at Colonus-3",
          "Sophocles-Oedipus at Colonus-4",
          "Sophocles-Oedipus at Colonus-5",
          "Sophocles-Oedipus at Colonus-6",
          "Sophocles-Oedipus at Colonus-7",
          "Sophocles-Oedipus at Colonus-8",
          "Sophocles-Oedipus at Colonus-9",
          "Sophocles-Oedipus at Colonus-10",
          "Sophocles-Oedipus at Colonus-11",
          "Sophocles-Oedipus at Colonus-12",
          "Sophocles-Oedipus at Colonus-13",
          "Sophocles-Oedipus at Colonus-14",
          "Sophocles-Oedipus at Colonus-15",
          "Sophocles-Oedipus at Colonus-16"
         ],
         "legendgroup": "Sophocles",
         "marker": {
          "color": "#FF6692",
          "symbol": "circle"
         },
         "mode": "markers",
         "name": "Sophocles",
         "orientation": "v",
         "showlegend": true,
         "type": "scatter",
         "x": [
          0.061457041145676114,
          0.13388680837899106,
          0.1703142793084913,
          0.10656798210681559,
          0.11214567553156643,
          0.11429517379678812,
          0.07330462770882692,
          0.13004762078050192,
          0.11685482216429371,
          0.17507526275661753,
          0.05402730773702317,
          0.12604870205970578,
          0.07294146241321879,
          0.13576869871605055,
          0.05509217021795279,
          0.1484214295471415,
          0.08430960492226743,
          0.08717429736904404,
          0.12811219466217516,
          0.07623843657524436,
          0.1169514563468,
          0.10080807257067624,
          0.15296407582609928,
          0.12870762766391444,
          0.14607500391427303,
          0.13176796855962836,
          0.08063106835043658,
          0.12938984676796536,
          0.07144998928138283,
          0.12775635806925292,
          0.19597293686268585,
          0.0896473514897032,
          0.11552215742871304,
          0.09918907161455605,
          0.14824089201561577,
          0.03577233513486761,
          0.15246020821703932,
          0.11106375992506266,
          0.14577649719936958,
          0.128559578783433,
          0.16169584681048413,
          0.13371010287208807,
          0.13383319986074968,
          0.16160250022411396,
          0.08760982556693404,
          0.09210503016544187,
          0.09003498311402273,
          0.1304576365632302,
          0.11396348794966668,
          0.14913326510289754,
          0.08329227938628536,
          0.16053479585630256,
          0.09626906813891642,
          0.17538515094488943,
          0.13493910101801207,
          0.15106288070090473,
          0.08279772455667299,
          0.14844661793248567,
          0.10425782375462761,
          0.10122789654803978,
          0.10707299949989296,
          0.06730720243393942,
          0.17031007924043057,
          0.11826521381224879,
          0.11634258435653952,
          0.07852219646674459,
          0.12927590319727145,
          0.13775751212526618,
          0.13261994877496816,
          0.09054076488479937,
          0.1658271147125235,
          0.1358097224541909,
          0.16427047609349338,
          0.07222741462074027,
          0.1541585259548567,
          0.18173442926066086
         ],
         "xaxis": "x",
         "y": [
          0.06782684649821565,
          -0.022320497774508372,
          -0.04816821746071121,
          -0.04828975552924524,
          0.048430985019708106,
          -0.0006383947142723522,
          0.04039715583478492,
          -0.04207312438170168,
          0.0017874234678054326,
          -0.0388296666439446,
          0.06747150008214801,
          0.01974279877459938,
          0.10437395338590666,
          -0.060274109121561184,
          0.09052031822303463,
          0.07779954571090064,
          0.009009887017583025,
          0.0956471697099123,
          -0.018780162794622975,
          0.09400238657280031,
          -0.0006562460704677216,
          0.07510252245151805,
          -0.06051525240620367,
          0.008718068553739307,
          0.004005484105833658,
          -0.01788160278727309,
          0.04534156990881302,
          -0.04850161177249892,
          0.07097563446900348,
          0.009424980593668147,
          -0.07421289676426394,
          0.05726979712483952,
          0.04886156421461345,
          0.11288752148739274,
          -0.03991666888873688,
          0.11150189984341176,
          -0.01552386511259236,
          0.11911904234831237,
          -0.02832009959401102,
          0.0861185785772895,
          0.014318636911562304,
          0.04083975962144566,
          0.012911549211089808,
          0.050521213905106985,
          0.06865577798755412,
          -0.032524985456990486,
          0.09610970191010652,
          -0.010144778867633254,
          0.07686471489047367,
          0.023562018043371304,
          0.0773011730453079,
          -0.01986443905670789,
          0.05847774741133257,
          -0.04079740796017217,
          0.010609991735819033,
          -0.02113652908522852,
          0.045285015965209986,
          -0.024427300789327106,
          0.06318589674915019,
          0.041742574783683185,
          0.03795594358788673,
          0.09591671061723493,
          0.0022344428570078147,
          0.059221725159543076,
          -0.056000526102741366,
          0.13010193335865483,
          -0.034944782556062114,
          0.058645625257778604,
          -0.036140572300304374,
          0.08099939720624735,
          -0.01100673992304031,
          -0.006692090248444887,
          -0.039738386961017155,
          0.03162416507408724,
          0.004304236226371258,
          -0.012205191699871096
         ],
         "yaxis": "y"
        },
        {
         "alignmentgroup": "True",
         "hovertemplate": "<b>%{hovertext}</b><br><br>author=Sophocles<br>PC0=%{x}<extra></extra>",
         "hovertext": [
          "Sophocles-Ajax-0",
          "Sophocles-Ajax-1",
          "Sophocles-Ajax-2",
          "Sophocles-Ajax-3",
          "Sophocles-Ajax-4",
          "Sophocles-Ajax-5",
          "Sophocles-Ajax-6",
          "Sophocles-Ajax-7",
          "Sophocles-Ajax-8",
          "Sophocles-Ajax-9",
          "Sophocles-Ajax-10",
          "Sophocles-Ajax-11",
          "Sophocles-Ajax-12",
          "Sophocles-Ajax-13",
          "Sophocles-Ajax-14",
          "Sophocles-Antigone-0",
          "Sophocles-Antigone-1",
          "Sophocles-Antigone-2",
          "Sophocles-Antigone-3",
          "Sophocles-Antigone-4",
          "Sophocles-Antigone-5",
          "Sophocles-Antigone-6",
          "Sophocles-Antigone-7",
          "Sophocles-Antigone-8",
          "Sophocles-Antigone-9",
          "Sophocles-Antigone-10",
          "Sophocles-Antigone-11",
          "Sophocles-Antigone-12",
          "Sophocles-Antigone-13",
          "Sophocles-Antigone-14",
          "Sophocles-Antigone-15",
          "Sophocles-Electra-0",
          "Sophocles-Electra-1",
          "Sophocles-Electra-2",
          "Sophocles-Electra-3",
          "Sophocles-Electra-4",
          "Sophocles-Electra-5",
          "Sophocles-Electra-6",
          "Sophocles-Electra-7",
          "Sophocles-Electra-8",
          "Sophocles-Electra-9",
          "Sophocles-Electra-10",
          "Sophocles-Electra-11",
          "Sophocles-Electra-12",
          "Sophocles-Oedipus Tyrannus-0",
          "Sophocles-Oedipus Tyrannus-1",
          "Sophocles-Oedipus Tyrannus-2",
          "Sophocles-Oedipus Tyrannus-3",
          "Sophocles-Oedipus Tyrannus-4",
          "Sophocles-Oedipus Tyrannus-5",
          "Sophocles-Oedipus Tyrannus-6",
          "Sophocles-Oedipus Tyrannus-7",
          "Sophocles-Oedipus Tyrannus-8",
          "Sophocles-Oedipus Tyrannus-9",
          "Sophocles-Oedipus Tyrannus-10",
          "Sophocles-Oedipus Tyrannus-11",
          "Sophocles-Oedipus Tyrannus-12",
          "Sophocles-Oedipus Tyrannus-13",
          "Sophocles-Oedipus Tyrannus-14",
          "Sophocles-Oedipus at Colonus-0",
          "Sophocles-Oedipus at Colonus-1",
          "Sophocles-Oedipus at Colonus-2",
          "Sophocles-Oedipus at Colonus-3",
          "Sophocles-Oedipus at Colonus-4",
          "Sophocles-Oedipus at Colonus-5",
          "Sophocles-Oedipus at Colonus-6",
          "Sophocles-Oedipus at Colonus-7",
          "Sophocles-Oedipus at Colonus-8",
          "Sophocles-Oedipus at Colonus-9",
          "Sophocles-Oedipus at Colonus-10",
          "Sophocles-Oedipus at Colonus-11",
          "Sophocles-Oedipus at Colonus-12",
          "Sophocles-Oedipus at Colonus-13",
          "Sophocles-Oedipus at Colonus-14",
          "Sophocles-Oedipus at Colonus-15",
          "Sophocles-Oedipus at Colonus-16"
         ],
         "legendgroup": "Sophocles",
         "marker": {
          "color": "#FF6692",
          "symbol": "circle"
         },
         "name": "Sophocles",
         "notched": true,
         "offsetgroup": "Sophocles",
         "showlegend": false,
         "type": "box",
         "x": [
          0.061457041145676114,
          0.13388680837899106,
          0.1703142793084913,
          0.10656798210681559,
          0.11214567553156643,
          0.11429517379678812,
          0.07330462770882692,
          0.13004762078050192,
          0.11685482216429371,
          0.17507526275661753,
          0.05402730773702317,
          0.12604870205970578,
          0.07294146241321879,
          0.13576869871605055,
          0.05509217021795279,
          0.1484214295471415,
          0.08430960492226743,
          0.08717429736904404,
          0.12811219466217516,
          0.07623843657524436,
          0.1169514563468,
          0.10080807257067624,
          0.15296407582609928,
          0.12870762766391444,
          0.14607500391427303,
          0.13176796855962836,
          0.08063106835043658,
          0.12938984676796536,
          0.07144998928138283,
          0.12775635806925292,
          0.19597293686268585,
          0.0896473514897032,
          0.11552215742871304,
          0.09918907161455605,
          0.14824089201561577,
          0.03577233513486761,
          0.15246020821703932,
          0.11106375992506266,
          0.14577649719936958,
          0.128559578783433,
          0.16169584681048413,
          0.13371010287208807,
          0.13383319986074968,
          0.16160250022411396,
          0.08760982556693404,
          0.09210503016544187,
          0.09003498311402273,
          0.1304576365632302,
          0.11396348794966668,
          0.14913326510289754,
          0.08329227938628536,
          0.16053479585630256,
          0.09626906813891642,
          0.17538515094488943,
          0.13493910101801207,
          0.15106288070090473,
          0.08279772455667299,
          0.14844661793248567,
          0.10425782375462761,
          0.10122789654803978,
          0.10707299949989296,
          0.06730720243393942,
          0.17031007924043057,
          0.11826521381224879,
          0.11634258435653952,
          0.07852219646674459,
          0.12927590319727145,
          0.13775751212526618,
          0.13261994877496816,
          0.09054076488479937,
          0.1658271147125235,
          0.1358097224541909,
          0.16427047609349338,
          0.07222741462074027,
          0.1541585259548567,
          0.18173442926066086
         ],
         "xaxis": "x2",
         "yaxis": "y2"
        },
        {
         "hovertemplate": "<b>%{hovertext}</b><br><br>author=Vergil<br>PC0=%{x}<br>PC1=%{y}<extra></extra>",
         "hovertext": [
          "Vergil-Aeneid-0",
          "Vergil-Aeneid-1",
          "Vergil-Aeneid-2",
          "Vergil-Aeneid-3",
          "Vergil-Aeneid-4",
          "Vergil-Aeneid-5",
          "Vergil-Aeneid-6",
          "Vergil-Aeneid-7",
          "Vergil-Aeneid-8",
          "Vergil-Aeneid-9",
          "Vergil-Aeneid-10",
          "Vergil-Aeneid-11"
         ],
         "legendgroup": "Vergil",
         "marker": {
          "color": "#B6E880",
          "symbol": "circle"
         },
         "mode": "markers",
         "name": "Vergil",
         "orientation": "v",
         "showlegend": true,
         "type": "scatter",
         "x": [
          -0.2590631812083023,
          -0.24675018570263382,
          -0.2507234797430763,
          -0.23213043678374945,
          -0.27727346033772055,
          -0.24990934694380848,
          -0.2589043231908687,
          -0.25177240184812727,
          -0.2785396515279107,
          -0.2793091117892463,
          -0.2689274863506462,
          -0.29116354018639906
         ],
         "xaxis": "x",
         "y": [
          0.30552063042403427,
          0.3020022939039151,
          0.2900987592526542,
          0.312028385497434,
          0.3067259982521931,
          0.32571001062929467,
          0.30077423199150155,
          0.297498506009527,
          0.28158736680076135,
          0.30388001943460546,
          0.31533240346368757,
          0.29976767003235855
         ],
         "yaxis": "y"
        },
        {
         "alignmentgroup": "True",
         "hovertemplate": "<b>%{hovertext}</b><br><br>author=Vergil<br>PC0=%{x}<extra></extra>",
         "hovertext": [
          "Vergil-Aeneid-0",
          "Vergil-Aeneid-1",
          "Vergil-Aeneid-2",
          "Vergil-Aeneid-3",
          "Vergil-Aeneid-4",
          "Vergil-Aeneid-5",
          "Vergil-Aeneid-6",
          "Vergil-Aeneid-7",
          "Vergil-Aeneid-8",
          "Vergil-Aeneid-9",
          "Vergil-Aeneid-10",
          "Vergil-Aeneid-11"
         ],
         "legendgroup": "Vergil",
         "marker": {
          "color": "#B6E880",
          "symbol": "circle"
         },
         "name": "Vergil",
         "notched": true,
         "offsetgroup": "Vergil",
         "showlegend": false,
         "type": "box",
         "x": [
          -0.2590631812083023,
          -0.24675018570263382,
          -0.2507234797430763,
          -0.23213043678374945,
          -0.27727346033772055,
          -0.24990934694380848,
          -0.2589043231908687,
          -0.25177240184812727,
          -0.2785396515279107,
          -0.2793091117892463,
          -0.2689274863506462,
          -0.29116354018639906
         ],
         "xaxis": "x2",
         "yaxis": "y2"
        }
       ],
       "layout": {
        "height": 800,
        "legend": {
         "title": {
          "text": "author"
         },
         "tracegroupgap": 0
        },
        "margin": {
         "t": 60
        },
        "template": {
         "data": {
          "bar": [
           {
            "error_x": {
             "color": "#2a3f5f"
            },
            "error_y": {
             "color": "#2a3f5f"
            },
            "marker": {
             "line": {
              "color": "#E5ECF6",
              "width": 0.5
             }
            },
            "type": "bar"
           }
          ],
          "barpolar": [
           {
            "marker": {
             "line": {
              "color": "#E5ECF6",
              "width": 0.5
             }
            },
            "type": "barpolar"
           }
          ],
          "carpet": [
           {
            "aaxis": {
             "endlinecolor": "#2a3f5f",
             "gridcolor": "white",
             "linecolor": "white",
             "minorgridcolor": "white",
             "startlinecolor": "#2a3f5f"
            },
            "baxis": {
             "endlinecolor": "#2a3f5f",
             "gridcolor": "white",
             "linecolor": "white",
             "minorgridcolor": "white",
             "startlinecolor": "#2a3f5f"
            },
            "type": "carpet"
           }
          ],
          "choropleth": [
           {
            "colorbar": {
             "outlinewidth": 0,
             "ticks": ""
            },
            "type": "choropleth"
           }
          ],
          "contour": [
           {
            "colorbar": {
             "outlinewidth": 0,
             "ticks": ""
            },
            "colorscale": [
             [
              0,
              "#0d0887"
             ],
             [
              0.1111111111111111,
              "#46039f"
             ],
             [
              0.2222222222222222,
              "#7201a8"
             ],
             [
              0.3333333333333333,
              "#9c179e"
             ],
             [
              0.4444444444444444,
              "#bd3786"
             ],
             [
              0.5555555555555556,
              "#d8576b"
             ],
             [
              0.6666666666666666,
              "#ed7953"
             ],
             [
              0.7777777777777778,
              "#fb9f3a"
             ],
             [
              0.8888888888888888,
              "#fdca26"
             ],
             [
              1,
              "#f0f921"
             ]
            ],
            "type": "contour"
           }
          ],
          "contourcarpet": [
           {
            "colorbar": {
             "outlinewidth": 0,
             "ticks": ""
            },
            "type": "contourcarpet"
           }
          ],
          "heatmap": [
           {
            "colorbar": {
             "outlinewidth": 0,
             "ticks": ""
            },
            "colorscale": [
             [
              0,
              "#0d0887"
             ],
             [
              0.1111111111111111,
              "#46039f"
             ],
             [
              0.2222222222222222,
              "#7201a8"
             ],
             [
              0.3333333333333333,
              "#9c179e"
             ],
             [
              0.4444444444444444,
              "#bd3786"
             ],
             [
              0.5555555555555556,
              "#d8576b"
             ],
             [
              0.6666666666666666,
              "#ed7953"
             ],
             [
              0.7777777777777778,
              "#fb9f3a"
             ],
             [
              0.8888888888888888,
              "#fdca26"
             ],
             [
              1,
              "#f0f921"
             ]
            ],
            "type": "heatmap"
           }
          ],
          "heatmapgl": [
           {
            "colorbar": {
             "outlinewidth": 0,
             "ticks": ""
            },
            "colorscale": [
             [
              0,
              "#0d0887"
             ],
             [
              0.1111111111111111,
              "#46039f"
             ],
             [
              0.2222222222222222,
              "#7201a8"
             ],
             [
              0.3333333333333333,
              "#9c179e"
             ],
             [
              0.4444444444444444,
              "#bd3786"
             ],
             [
              0.5555555555555556,
              "#d8576b"
             ],
             [
              0.6666666666666666,
              "#ed7953"
             ],
             [
              0.7777777777777778,
              "#fb9f3a"
             ],
             [
              0.8888888888888888,
              "#fdca26"
             ],
             [
              1,
              "#f0f921"
             ]
            ],
            "type": "heatmapgl"
           }
          ],
          "histogram": [
           {
            "marker": {
             "colorbar": {
              "outlinewidth": 0,
              "ticks": ""
             }
            },
            "type": "histogram"
           }
          ],
          "histogram2d": [
           {
            "colorbar": {
             "outlinewidth": 0,
             "ticks": ""
            },
            "colorscale": [
             [
              0,
              "#0d0887"
             ],
             [
              0.1111111111111111,
              "#46039f"
             ],
             [
              0.2222222222222222,
              "#7201a8"
             ],
             [
              0.3333333333333333,
              "#9c179e"
             ],
             [
              0.4444444444444444,
              "#bd3786"
             ],
             [
              0.5555555555555556,
              "#d8576b"
             ],
             [
              0.6666666666666666,
              "#ed7953"
             ],
             [
              0.7777777777777778,
              "#fb9f3a"
             ],
             [
              0.8888888888888888,
              "#fdca26"
             ],
             [
              1,
              "#f0f921"
             ]
            ],
            "type": "histogram2d"
           }
          ],
          "histogram2dcontour": [
           {
            "colorbar": {
             "outlinewidth": 0,
             "ticks": ""
            },
            "colorscale": [
             [
              0,
              "#0d0887"
             ],
             [
              0.1111111111111111,
              "#46039f"
             ],
             [
              0.2222222222222222,
              "#7201a8"
             ],
             [
              0.3333333333333333,
              "#9c179e"
             ],
             [
              0.4444444444444444,
              "#bd3786"
             ],
             [
              0.5555555555555556,
              "#d8576b"
             ],
             [
              0.6666666666666666,
              "#ed7953"
             ],
             [
              0.7777777777777778,
              "#fb9f3a"
             ],
             [
              0.8888888888888888,
              "#fdca26"
             ],
             [
              1,
              "#f0f921"
             ]
            ],
            "type": "histogram2dcontour"
           }
          ],
          "mesh3d": [
           {
            "colorbar": {
             "outlinewidth": 0,
             "ticks": ""
            },
            "type": "mesh3d"
           }
          ],
          "parcoords": [
           {
            "line": {
             "colorbar": {
              "outlinewidth": 0,
              "ticks": ""
             }
            },
            "type": "parcoords"
           }
          ],
          "pie": [
           {
            "automargin": true,
            "type": "pie"
           }
          ],
          "scatter": [
           {
            "marker": {
             "colorbar": {
              "outlinewidth": 0,
              "ticks": ""
             }
            },
            "type": "scatter"
           }
          ],
          "scatter3d": [
           {
            "line": {
             "colorbar": {
              "outlinewidth": 0,
              "ticks": ""
             }
            },
            "marker": {
             "colorbar": {
              "outlinewidth": 0,
              "ticks": ""
             }
            },
            "type": "scatter3d"
           }
          ],
          "scattercarpet": [
           {
            "marker": {
             "colorbar": {
              "outlinewidth": 0,
              "ticks": ""
             }
            },
            "type": "scattercarpet"
           }
          ],
          "scattergeo": [
           {
            "marker": {
             "colorbar": {
              "outlinewidth": 0,
              "ticks": ""
             }
            },
            "type": "scattergeo"
           }
          ],
          "scattergl": [
           {
            "marker": {
             "colorbar": {
              "outlinewidth": 0,
              "ticks": ""
             }
            },
            "type": "scattergl"
           }
          ],
          "scattermapbox": [
           {
            "marker": {
             "colorbar": {
              "outlinewidth": 0,
              "ticks": ""
             }
            },
            "type": "scattermapbox"
           }
          ],
          "scatterpolar": [
           {
            "marker": {
             "colorbar": {
              "outlinewidth": 0,
              "ticks": ""
             }
            },
            "type": "scatterpolar"
           }
          ],
          "scatterpolargl": [
           {
            "marker": {
             "colorbar": {
              "outlinewidth": 0,
              "ticks": ""
             }
            },
            "type": "scatterpolargl"
           }
          ],
          "scatterternary": [
           {
            "marker": {
             "colorbar": {
              "outlinewidth": 0,
              "ticks": ""
             }
            },
            "type": "scatterternary"
           }
          ],
          "surface": [
           {
            "colorbar": {
             "outlinewidth": 0,
             "ticks": ""
            },
            "colorscale": [
             [
              0,
              "#0d0887"
             ],
             [
              0.1111111111111111,
              "#46039f"
             ],
             [
              0.2222222222222222,
              "#7201a8"
             ],
             [
              0.3333333333333333,
              "#9c179e"
             ],
             [
              0.4444444444444444,
              "#bd3786"
             ],
             [
              0.5555555555555556,
              "#d8576b"
             ],
             [
              0.6666666666666666,
              "#ed7953"
             ],
             [
              0.7777777777777778,
              "#fb9f3a"
             ],
             [
              0.8888888888888888,
              "#fdca26"
             ],
             [
              1,
              "#f0f921"
             ]
            ],
            "type": "surface"
           }
          ],
          "table": [
           {
            "cells": {
             "fill": {
              "color": "#EBF0F8"
             },
             "line": {
              "color": "white"
             }
            },
            "header": {
             "fill": {
              "color": "#C8D4E3"
             },
             "line": {
              "color": "white"
             }
            },
            "type": "table"
           }
          ]
         },
         "layout": {
          "annotationdefaults": {
           "arrowcolor": "#2a3f5f",
           "arrowhead": 0,
           "arrowwidth": 1
          },
          "autotypenumbers": "strict",
          "coloraxis": {
           "colorbar": {
            "outlinewidth": 0,
            "ticks": ""
           }
          },
          "colorscale": {
           "diverging": [
            [
             0,
             "#8e0152"
            ],
            [
             0.1,
             "#c51b7d"
            ],
            [
             0.2,
             "#de77ae"
            ],
            [
             0.3,
             "#f1b6da"
            ],
            [
             0.4,
             "#fde0ef"
            ],
            [
             0.5,
             "#f7f7f7"
            ],
            [
             0.6,
             "#e6f5d0"
            ],
            [
             0.7,
             "#b8e186"
            ],
            [
             0.8,
             "#7fbc41"
            ],
            [
             0.9,
             "#4d9221"
            ],
            [
             1,
             "#276419"
            ]
           ],
           "sequential": [
            [
             0,
             "#0d0887"
            ],
            [
             0.1111111111111111,
             "#46039f"
            ],
            [
             0.2222222222222222,
             "#7201a8"
            ],
            [
             0.3333333333333333,
             "#9c179e"
            ],
            [
             0.4444444444444444,
             "#bd3786"
            ],
            [
             0.5555555555555556,
             "#d8576b"
            ],
            [
             0.6666666666666666,
             "#ed7953"
            ],
            [
             0.7777777777777778,
             "#fb9f3a"
            ],
            [
             0.8888888888888888,
             "#fdca26"
            ],
            [
             1,
             "#f0f921"
            ]
           ],
           "sequentialminus": [
            [
             0,
             "#0d0887"
            ],
            [
             0.1111111111111111,
             "#46039f"
            ],
            [
             0.2222222222222222,
             "#7201a8"
            ],
            [
             0.3333333333333333,
             "#9c179e"
            ],
            [
             0.4444444444444444,
             "#bd3786"
            ],
            [
             0.5555555555555556,
             "#d8576b"
            ],
            [
             0.6666666666666666,
             "#ed7953"
            ],
            [
             0.7777777777777778,
             "#fb9f3a"
            ],
            [
             0.8888888888888888,
             "#fdca26"
            ],
            [
             1,
             "#f0f921"
            ]
           ]
          },
          "colorway": [
           "#636efa",
           "#EF553B",
           "#00cc96",
           "#ab63fa",
           "#FFA15A",
           "#19d3f3",
           "#FF6692",
           "#B6E880",
           "#FF97FF",
           "#FECB52"
          ],
          "font": {
           "color": "#2a3f5f"
          },
          "geo": {
           "bgcolor": "white",
           "lakecolor": "white",
           "landcolor": "#E5ECF6",
           "showlakes": true,
           "showland": true,
           "subunitcolor": "white"
          },
          "hoverlabel": {
           "align": "left"
          },
          "hovermode": "closest",
          "mapbox": {
           "style": "light"
          },
          "paper_bgcolor": "white",
          "plot_bgcolor": "#E5ECF6",
          "polar": {
           "angularaxis": {
            "gridcolor": "white",
            "linecolor": "white",
            "ticks": ""
           },
           "bgcolor": "#E5ECF6",
           "radialaxis": {
            "gridcolor": "white",
            "linecolor": "white",
            "ticks": ""
           }
          },
          "scene": {
           "xaxis": {
            "backgroundcolor": "#E5ECF6",
            "gridcolor": "white",
            "gridwidth": 2,
            "linecolor": "white",
            "showbackground": true,
            "ticks": "",
            "zerolinecolor": "white"
           },
           "yaxis": {
            "backgroundcolor": "#E5ECF6",
            "gridcolor": "white",
            "gridwidth": 2,
            "linecolor": "white",
            "showbackground": true,
            "ticks": "",
            "zerolinecolor": "white"
           },
           "zaxis": {
            "backgroundcolor": "#E5ECF6",
            "gridcolor": "white",
            "gridwidth": 2,
            "linecolor": "white",
            "showbackground": true,
            "ticks": "",
            "zerolinecolor": "white"
           }
          },
          "shapedefaults": {
           "line": {
            "color": "#2a3f5f"
           }
          },
          "ternary": {
           "aaxis": {
            "gridcolor": "white",
            "linecolor": "white",
            "ticks": ""
           },
           "baxis": {
            "gridcolor": "white",
            "linecolor": "white",
            "ticks": ""
           },
           "bgcolor": "#E5ECF6",
           "caxis": {
            "gridcolor": "white",
            "linecolor": "white",
            "ticks": ""
           }
          },
          "title": {
           "x": 0.05
          },
          "xaxis": {
           "automargin": true,
           "gridcolor": "white",
           "linecolor": "white",
           "ticks": "",
           "title": {
            "standoff": 15
           },
           "zerolinecolor": "white",
           "zerolinewidth": 2
          },
          "yaxis": {
           "automargin": true,
           "gridcolor": "white",
           "linecolor": "white",
           "ticks": "",
           "title": {
            "standoff": 15
           },
           "zerolinecolor": "white",
           "zerolinewidth": 2
          }
         }
        },
        "xaxis": {
         "anchor": "y",
         "domain": [
          0,
          1
         ],
         "title": {
          "text": "PC0"
         }
        },
        "xaxis2": {
         "anchor": "y2",
         "domain": [
          0,
          1
         ],
         "matches": "x",
         "showgrid": true,
         "showticklabels": false
        },
        "yaxis": {
         "anchor": "x",
         "domain": [
          0,
          0.7326
         ],
         "title": {
          "text": "PC1"
         }
        },
        "yaxis2": {
         "anchor": "x2",
         "domain": [
          0.7426,
          1
         ],
         "matches": "y2",
         "showgrid": false,
         "showline": false,
         "showticklabels": false,
         "ticks": ""
        }
       }
      }
     },
     "metadata": {}
    }
   ],
   "source": [
    "pca.plot_2d(comp_id_1=0, comp_id_2=1)"
   ]
  },
  {
   "cell_type": "code",
   "execution_count": 11,
   "metadata": {},
   "outputs": [
    {
     "output_type": "display_data",
     "data": {
      "application/vnd.plotly.v1+json": {
       "config": {
        "plotlyServerURL": "https://plot.ly"
       },
       "data": [
        {
         "hovertemplate": "<b>%{hovertext}</b><br><br>author=Aeschylus<br>PC1=%{x}<br>PC2=%{y}<extra></extra>",
         "hovertext": [
          "Aeschylus-Agamemnon-0",
          "Aeschylus-Agamemnon-1",
          "Aeschylus-Agamemnon-2",
          "Aeschylus-Agamemnon-3",
          "Aeschylus-Agamemnon-4",
          "Aeschylus-Agamemnon-5",
          "Aeschylus-Agamemnon-6",
          "Aeschylus-Agamemnon-7",
          "Aeschylus-Agamemnon-8",
          "Aeschylus-Agamemnon-9",
          "Aeschylus-Agamemnon-10",
          "Aeschylus-Agamemnon-11",
          "Aeschylus-Agamemnon-12",
          "Aeschylus-Agamemnon-13",
          "Aeschylus-Agamemnon-14",
          "Aeschylus-Prometheus Bound-0",
          "Aeschylus-Prometheus Bound-1",
          "Aeschylus-Prometheus Bound-2",
          "Aeschylus-Prometheus Bound-3",
          "Aeschylus-Prometheus Bound-4",
          "Aeschylus-Prometheus Bound-5",
          "Aeschylus-Prometheus Bound-6",
          "Aeschylus-Prometheus Bound-7",
          "Aeschylus-Prometheus Bound-8",
          "Aeschylus-Prometheus Bound-9",
          "Aeschylus-Prometheus Bound-10",
          "Aeschylus-Eumenides-0",
          "Aeschylus-Eumenides-1",
          "Aeschylus-Eumenides-2",
          "Aeschylus-Eumenides-3",
          "Aeschylus-Eumenides-4",
          "Aeschylus-Eumenides-5",
          "Aeschylus-Eumenides-6",
          "Aeschylus-Eumenides-7",
          "Aeschylus-Eumenides-8",
          "Aeschylus-Eumenides-9",
          "Aeschylus-Eumenides-10",
          "Aeschylus-Eumenides-11",
          "Aeschylus-Libation Bearers-0",
          "Aeschylus-Libation Bearers-1",
          "Aeschylus-Libation Bearers-2",
          "Aeschylus-Libation Bearers-3",
          "Aeschylus-Libation Bearers-4",
          "Aeschylus-Libation Bearers-5",
          "Aeschylus-Libation Bearers-6",
          "Aeschylus-Libation Bearers-7",
          "Aeschylus-Libation Bearers-8",
          "Aeschylus-Libation Bearers-9",
          "Aeschylus-Libation Bearers-10"
         ],
         "legendgroup": "Aeschylus",
         "marker": {
          "color": "#636efa",
          "symbol": "circle"
         },
         "mode": "markers",
         "name": "Aeschylus",
         "orientation": "v",
         "showlegend": true,
         "type": "scatter",
         "x": [
          0.013750485631711152,
          0.019013100610009038,
          0.03489812149843535,
          0.01862437059008873,
          0.06672952277926303,
          0.0014302302785527976,
          0.08087121074459168,
          -0.007297604716378554,
          -0.005556698207935578,
          0.018628549266375888,
          0.09180696931753114,
          -0.03613493908547694,
          -0.03335566182830739,
          0.012430438240263035,
          0.00036633551444260784,
          0.05141453384353869,
          -0.00646814788612092,
          0.08194343936742325,
          -0.07807234385695097,
          0.012202726167103507,
          -0.06260697878099603,
          -0.03473310820422489,
          -0.0064657897491871945,
          0.08322041714236104,
          -0.0627275707215544,
          0.0684870127594833,
          0.05669166635856393,
          -0.0039103982304607345,
          0.030020729964050693,
          -0.004405280241583323,
          0.04064751806409016,
          0.01565973133016218,
          0.07898664056703904,
          0.014312333733187393,
          -0.01847752065988516,
          -0.019615923509091727,
          -0.04732078588249924,
          -0.07273829474002252,
          -0.012035612165623806,
          -0.031095196329712898,
          0.10066492346111497,
          0.050603927284034775,
          0.034954658774621325,
          -0.001615031587527172,
          0.04720028071425879,
          -0.0295853705552567,
          0.051093760237446405,
          -0.0034111915745394885,
          0.02370181207416441
         ],
         "xaxis": "x",
         "y": [
          0.01069642295059335,
          0.017303185761803133,
          -0.002662535445326668,
          -0.02227156579922623,
          -0.08648262770511649,
          0.01343137700305188,
          -0.09253586815942673,
          0.029065756137411757,
          -0.059733576187285684,
          -0.050999464399854436,
          -0.13163575826528368,
          -0.0056651589730123495,
          0.008955726677275497,
          -0.05946234590191298,
          -0.12518150517494495,
          -0.05389296528168011,
          0.00440912514030594,
          -0.101279222381262,
          0.06823129075796597,
          -0.014941350520138136,
          0.03528827561012694,
          0.09790191115970819,
          0.01533891967612915,
          -0.059362133010281475,
          0.013633851666038478,
          -0.0877243519382051,
          -0.05074365226704745,
          -0.039328775015815075,
          -0.08602701298154718,
          -0.005201944427206806,
          -0.14542576353974318,
          -0.05192590153233957,
          -0.16408546214043948,
          -0.07888216468550097,
          0.0034657635200925274,
          -0.02179575526616733,
          0.08290998922848093,
          0.10132385876606588,
          -0.04449249578376041,
          -0.01924452681127261,
          -0.14350071908938009,
          -0.08730798886708717,
          -0.13871163180125795,
          0.021871337101100785,
          -0.14897858393470045,
          0.027079230714077487,
          -0.17084625267822653,
          -0.02568574583781842,
          -0.0987550223125281
         ],
         "yaxis": "y"
        },
        {
         "alignmentgroup": "True",
         "hovertemplate": "<b>%{hovertext}</b><br><br>author=Aeschylus<br>PC1=%{x}<extra></extra>",
         "hovertext": [
          "Aeschylus-Agamemnon-0",
          "Aeschylus-Agamemnon-1",
          "Aeschylus-Agamemnon-2",
          "Aeschylus-Agamemnon-3",
          "Aeschylus-Agamemnon-4",
          "Aeschylus-Agamemnon-5",
          "Aeschylus-Agamemnon-6",
          "Aeschylus-Agamemnon-7",
          "Aeschylus-Agamemnon-8",
          "Aeschylus-Agamemnon-9",
          "Aeschylus-Agamemnon-10",
          "Aeschylus-Agamemnon-11",
          "Aeschylus-Agamemnon-12",
          "Aeschylus-Agamemnon-13",
          "Aeschylus-Agamemnon-14",
          "Aeschylus-Prometheus Bound-0",
          "Aeschylus-Prometheus Bound-1",
          "Aeschylus-Prometheus Bound-2",
          "Aeschylus-Prometheus Bound-3",
          "Aeschylus-Prometheus Bound-4",
          "Aeschylus-Prometheus Bound-5",
          "Aeschylus-Prometheus Bound-6",
          "Aeschylus-Prometheus Bound-7",
          "Aeschylus-Prometheus Bound-8",
          "Aeschylus-Prometheus Bound-9",
          "Aeschylus-Prometheus Bound-10",
          "Aeschylus-Eumenides-0",
          "Aeschylus-Eumenides-1",
          "Aeschylus-Eumenides-2",
          "Aeschylus-Eumenides-3",
          "Aeschylus-Eumenides-4",
          "Aeschylus-Eumenides-5",
          "Aeschylus-Eumenides-6",
          "Aeschylus-Eumenides-7",
          "Aeschylus-Eumenides-8",
          "Aeschylus-Eumenides-9",
          "Aeschylus-Eumenides-10",
          "Aeschylus-Eumenides-11",
          "Aeschylus-Libation Bearers-0",
          "Aeschylus-Libation Bearers-1",
          "Aeschylus-Libation Bearers-2",
          "Aeschylus-Libation Bearers-3",
          "Aeschylus-Libation Bearers-4",
          "Aeschylus-Libation Bearers-5",
          "Aeschylus-Libation Bearers-6",
          "Aeschylus-Libation Bearers-7",
          "Aeschylus-Libation Bearers-8",
          "Aeschylus-Libation Bearers-9",
          "Aeschylus-Libation Bearers-10"
         ],
         "legendgroup": "Aeschylus",
         "marker": {
          "color": "#636efa",
          "symbol": "circle"
         },
         "name": "Aeschylus",
         "notched": true,
         "offsetgroup": "Aeschylus",
         "showlegend": false,
         "type": "box",
         "x": [
          0.013750485631711152,
          0.019013100610009038,
          0.03489812149843535,
          0.01862437059008873,
          0.06672952277926303,
          0.0014302302785527976,
          0.08087121074459168,
          -0.007297604716378554,
          -0.005556698207935578,
          0.018628549266375888,
          0.09180696931753114,
          -0.03613493908547694,
          -0.03335566182830739,
          0.012430438240263035,
          0.00036633551444260784,
          0.05141453384353869,
          -0.00646814788612092,
          0.08194343936742325,
          -0.07807234385695097,
          0.012202726167103507,
          -0.06260697878099603,
          -0.03473310820422489,
          -0.0064657897491871945,
          0.08322041714236104,
          -0.0627275707215544,
          0.0684870127594833,
          0.05669166635856393,
          -0.0039103982304607345,
          0.030020729964050693,
          -0.004405280241583323,
          0.04064751806409016,
          0.01565973133016218,
          0.07898664056703904,
          0.014312333733187393,
          -0.01847752065988516,
          -0.019615923509091727,
          -0.04732078588249924,
          -0.07273829474002252,
          -0.012035612165623806,
          -0.031095196329712898,
          0.10066492346111497,
          0.050603927284034775,
          0.034954658774621325,
          -0.001615031587527172,
          0.04720028071425879,
          -0.0295853705552567,
          0.051093760237446405,
          -0.0034111915745394885,
          0.02370181207416441
         ],
         "xaxis": "x2",
         "yaxis": "y2"
        },
        {
         "hovertemplate": "<b>%{hovertext}</b><br><br>author=Euripides<br>PC1=%{x}<br>PC2=%{y}<extra></extra>",
         "hovertext": [
          "Euripides-Iphigenia in Aulis-0",
          "Euripides-Iphigenia in Aulis-1",
          "Euripides-Iphigenia in Aulis-2",
          "Euripides-Iphigenia in Aulis-3",
          "Euripides-Iphigenia in Aulis-4",
          "Euripides-Iphigenia in Aulis-5",
          "Euripides-Iphigenia in Aulis-6",
          "Euripides-Iphigenia in Aulis-7",
          "Euripides-Iphigenia in Aulis-8",
          "Euripides-Iphigenia in Aulis-9",
          "Euripides-Iphigenia in Aulis-10",
          "Euripides-The Trojan Women-0",
          "Euripides-The Trojan Women-1",
          "Euripides-The Trojan Women-2",
          "Euripides-The Trojan Women-3",
          "Euripides-The Trojan Women-4",
          "Euripides-The Trojan Women-5",
          "Euripides-The Trojan Women-6",
          "Euripides-The Trojan Women-7",
          "Euripides-The Trojan Women-8",
          "Euripides-Bacchae-0",
          "Euripides-Bacchae-1",
          "Euripides-Bacchae-2",
          "Euripides-Bacchae-3",
          "Euripides-Bacchae-4",
          "Euripides-Bacchae-5",
          "Euripides-Bacchae-6",
          "Euripides-Bacchae-7",
          "Euripides-Bacchae-8",
          "Euripides-Bacchae-9",
          "Euripides-Bacchae-10",
          "Euripides-Bacchae-11",
          "Euripides-Bacchae-12"
         ],
         "legendgroup": "Euripides",
         "marker": {
          "color": "#EF553B",
          "symbol": "circle"
         },
         "mode": "markers",
         "name": "Euripides",
         "orientation": "v",
         "showlegend": true,
         "type": "scatter",
         "x": [
          0.04221757953402217,
          -0.06816438482780948,
          0.08911660485432249,
          -0.027427500081238346,
          0.03777621229695218,
          -0.030475122208389438,
          0.09050893412670744,
          -0.0348641712213877,
          0.07301061758584079,
          -0.03428875216830923,
          0.09058206559740188,
          0.041707253405793246,
          0.011538856105768514,
          0.09737831469383339,
          -0.03467937752262743,
          0.08862783111107936,
          -0.03946150714067291,
          0.07548934556397766,
          -0.009703054145766471,
          0.07093333789323693,
          0.006013770951860245,
          -0.010635655740272115,
          0.06456976589611713,
          -0.03748911622783992,
          0.02477081942152973,
          -0.03253458968522871,
          0.0807056279071636,
          -0.02678505138383951,
          0.003210060126258642,
          -0.01083662278473973,
          0.05080512874731099,
          -0.019719859481692425,
          0.079706614144993
         ],
         "xaxis": "x",
         "y": [
          -0.04120742157643676,
          0.10901153092563803,
          -0.15930380064644178,
          0.08625006896587677,
          -0.07613019376922271,
          0.07946675921400348,
          -0.16105118385541647,
          0.12832814529721556,
          -0.12649744634393095,
          0.020102727356535927,
          -0.08682925651028,
          0.00669029418212675,
          0.00213902113850429,
          -0.08411318872970615,
          0.13365259644016966,
          -0.12657938342625205,
          0.10228323162115117,
          -0.11282218098442125,
          0.07763172724477757,
          -0.036705734816362585,
          0.07572704803641359,
          0.16330585177039486,
          -0.05322434978716177,
          0.11914179631931673,
          -0.01698086667080241,
          0.12446085866663614,
          -0.03099576220212191,
          0.0595895524695628,
          0.0009369832810886955,
          0.04112452828063116,
          0.014671018847003815,
          0.05457157287254241,
          -0.0815782835370488
         ],
         "yaxis": "y"
        },
        {
         "alignmentgroup": "True",
         "hovertemplate": "<b>%{hovertext}</b><br><br>author=Euripides<br>PC1=%{x}<extra></extra>",
         "hovertext": [
          "Euripides-Iphigenia in Aulis-0",
          "Euripides-Iphigenia in Aulis-1",
          "Euripides-Iphigenia in Aulis-2",
          "Euripides-Iphigenia in Aulis-3",
          "Euripides-Iphigenia in Aulis-4",
          "Euripides-Iphigenia in Aulis-5",
          "Euripides-Iphigenia in Aulis-6",
          "Euripides-Iphigenia in Aulis-7",
          "Euripides-Iphigenia in Aulis-8",
          "Euripides-Iphigenia in Aulis-9",
          "Euripides-Iphigenia in Aulis-10",
          "Euripides-The Trojan Women-0",
          "Euripides-The Trojan Women-1",
          "Euripides-The Trojan Women-2",
          "Euripides-The Trojan Women-3",
          "Euripides-The Trojan Women-4",
          "Euripides-The Trojan Women-5",
          "Euripides-The Trojan Women-6",
          "Euripides-The Trojan Women-7",
          "Euripides-The Trojan Women-8",
          "Euripides-Bacchae-0",
          "Euripides-Bacchae-1",
          "Euripides-Bacchae-2",
          "Euripides-Bacchae-3",
          "Euripides-Bacchae-4",
          "Euripides-Bacchae-5",
          "Euripides-Bacchae-6",
          "Euripides-Bacchae-7",
          "Euripides-Bacchae-8",
          "Euripides-Bacchae-9",
          "Euripides-Bacchae-10",
          "Euripides-Bacchae-11",
          "Euripides-Bacchae-12"
         ],
         "legendgroup": "Euripides",
         "marker": {
          "color": "#EF553B",
          "symbol": "circle"
         },
         "name": "Euripides",
         "notched": true,
         "offsetgroup": "Euripides",
         "showlegend": false,
         "type": "box",
         "x": [
          0.04221757953402217,
          -0.06816438482780948,
          0.08911660485432249,
          -0.027427500081238346,
          0.03777621229695218,
          -0.030475122208389438,
          0.09050893412670744,
          -0.0348641712213877,
          0.07301061758584079,
          -0.03428875216830923,
          0.09058206559740188,
          0.041707253405793246,
          0.011538856105768514,
          0.09737831469383339,
          -0.03467937752262743,
          0.08862783111107936,
          -0.03946150714067291,
          0.07548934556397766,
          -0.009703054145766471,
          0.07093333789323693,
          0.006013770951860245,
          -0.010635655740272115,
          0.06456976589611713,
          -0.03748911622783992,
          0.02477081942152973,
          -0.03253458968522871,
          0.0807056279071636,
          -0.02678505138383951,
          0.003210060126258642,
          -0.01083662278473973,
          0.05080512874731099,
          -0.019719859481692425,
          0.079706614144993
         ],
         "xaxis": "x2",
         "yaxis": "y2"
        },
        {
         "hovertemplate": "<b>%{hovertext}</b><br><br>author=Hesiod<br>PC1=%{x}<br>PC2=%{y}<extra></extra>",
         "hovertext": [
          "Hesiod-Works and Days-0",
          "Hesiod-Theogony-0"
         ],
         "legendgroup": "Hesiod",
         "marker": {
          "color": "#00cc96",
          "symbol": "circle"
         },
         "mode": "markers",
         "name": "Hesiod",
         "orientation": "v",
         "showlegend": true,
         "type": "scatter",
         "x": [
          0.06694751178884363,
          0.01603056544519146
         ],
         "xaxis": "x",
         "y": [
          -0.019870385773736197,
          0.0906469678920951
         ],
         "yaxis": "y"
        },
        {
         "alignmentgroup": "True",
         "hovertemplate": "<b>%{hovertext}</b><br><br>author=Hesiod<br>PC1=%{x}<extra></extra>",
         "hovertext": [
          "Hesiod-Works and Days-0",
          "Hesiod-Theogony-0"
         ],
         "legendgroup": "Hesiod",
         "marker": {
          "color": "#00cc96",
          "symbol": "circle"
         },
         "name": "Hesiod",
         "notched": true,
         "offsetgroup": "Hesiod",
         "showlegend": false,
         "type": "box",
         "x": [
          0.06694751178884363,
          0.01603056544519146
         ],
         "xaxis": "x2",
         "yaxis": "y2"
        },
        {
         "hovertemplate": "<b>%{hovertext}</b><br><br>author=Homer<br>PC1=%{x}<br>PC2=%{y}<extra></extra>",
         "hovertext": [
          "Homer-Odyssey-0",
          "Homer-Odyssey-1",
          "Homer-Odyssey-2",
          "Homer-Odyssey-3",
          "Homer-Odyssey-4",
          "Homer-Odyssey-5",
          "Homer-Odyssey-6",
          "Homer-Odyssey-7",
          "Homer-Odyssey-8",
          "Homer-Odyssey-9",
          "Homer-Odyssey-10",
          "Homer-Odyssey-11",
          "Homer-Odyssey-12",
          "Homer-Odyssey-13",
          "Homer-Odyssey-14",
          "Homer-Odyssey-15",
          "Homer-Odyssey-16",
          "Homer-Odyssey-17",
          "Homer-Odyssey-18",
          "Homer-Odyssey-19",
          "Homer-Odyssey-20",
          "Homer-Odyssey-21",
          "Homer-Odyssey-22",
          "Homer-Odyssey-23",
          "Homer-Iliad-0",
          "Homer-Iliad-1",
          "Homer-Iliad-2",
          "Homer-Iliad-3",
          "Homer-Iliad-4",
          "Homer-Iliad-5",
          "Homer-Iliad-6",
          "Homer-Iliad-7",
          "Homer-Iliad-8",
          "Homer-Iliad-9",
          "Homer-Iliad-10",
          "Homer-Iliad-11",
          "Homer-Iliad-12",
          "Homer-Iliad-13",
          "Homer-Iliad-14",
          "Homer-Iliad-15",
          "Homer-Iliad-16",
          "Homer-Iliad-17",
          "Homer-Iliad-18",
          "Homer-Iliad-19",
          "Homer-Iliad-20",
          "Homer-Iliad-21",
          "Homer-Iliad-22",
          "Homer-Iliad-23"
         ],
         "legendgroup": "Homer",
         "marker": {
          "color": "#ab63fa",
          "symbol": "circle"
         },
         "mode": "markers",
         "name": "Homer",
         "orientation": "v",
         "showlegend": true,
         "type": "scatter",
         "x": [
          -0.14627987945108414,
          -0.13960188418688982,
          -0.1706829347161652,
          -0.14523852202540102,
          -0.09426051897698308,
          -0.12685322729187987,
          -0.1444337126021125,
          -0.1453624705930246,
          -0.0917908320409033,
          -0.1051771817494052,
          -0.11388501003694898,
          -0.0858986415057303,
          -0.14736545314632588,
          -0.10553588344247784,
          -0.1576676143796802,
          -0.1405769230423966,
          -0.13054472943271045,
          -0.13820617729388307,
          -0.11159072740450397,
          -0.13022707912394108,
          -0.15343899858172158,
          -0.11670763981088965,
          -0.1545210080708465,
          -0.14878990849814844,
          -0.08315548001254844,
          -0.2098689685261781,
          -0.19418320469334252,
          -0.22120078739837623,
          -0.2078905640371549,
          -0.20988525085889492,
          -0.23282182432250004,
          -0.23098575115770778,
          -0.1995265822305656,
          -0.20250386084214775,
          -0.21054845234562736,
          -0.2010993077725457,
          -0.20682605963661582,
          -0.22634763994018472,
          -0.22752422052504723,
          -0.20301167112211732,
          -0.2071139019810417,
          -0.20342449329836118,
          -0.22749557430543688,
          -0.1999146380089468,
          -0.1675173595038687,
          -0.17087771749076325,
          -0.1636326896075031,
          -0.2055417093500467
         ],
         "xaxis": "x",
         "y": [
          -0.12214215489910756,
          -0.15414284430060438,
          -0.10779916174887745,
          -0.1126147789994556,
          -0.04692547372398194,
          -0.04123617727211821,
          -0.06269129994663462,
          -0.06337395104725006,
          -0.03242200119175245,
          -0.06211962259965974,
          -0.07185591704233707,
          -0.010833244671972627,
          -0.07089837041794064,
          -0.1275646792817399,
          -0.13276150512117144,
          -0.15084123887982223,
          -0.13753520629254817,
          -0.11052748458735885,
          -0.12603203600590174,
          -0.11968225911757675,
          -0.11488285224761949,
          -0.08293898104336651,
          -0.08463832127724605,
          -0.09544009609522026,
          -0.0888565702135085,
          0.003978801876400707,
          -0.035781163834174325,
          -0.008241008194867764,
          0.0060605006032212055,
          -0.01696779075687171,
          -0.028599532870831033,
          -0.007493542536668555,
          -0.08859794331466331,
          -0.03582873679852008,
          0.003677505193100765,
          0.008494887436150489,
          0.016435916751035746,
          0.01852641824923022,
          -0.003060479809791184,
          0.009284292459024589,
          -0.0009230200812929209,
          0.00037667448624761045,
          -0.03424190820100265,
          0.03335767681215865,
          0.027160636672535182,
          -0.015621478133551418,
          -0.03094222582746643,
          -0.057292481698889314
         ],
         "yaxis": "y"
        },
        {
         "alignmentgroup": "True",
         "hovertemplate": "<b>%{hovertext}</b><br><br>author=Homer<br>PC1=%{x}<extra></extra>",
         "hovertext": [
          "Homer-Odyssey-0",
          "Homer-Odyssey-1",
          "Homer-Odyssey-2",
          "Homer-Odyssey-3",
          "Homer-Odyssey-4",
          "Homer-Odyssey-5",
          "Homer-Odyssey-6",
          "Homer-Odyssey-7",
          "Homer-Odyssey-8",
          "Homer-Odyssey-9",
          "Homer-Odyssey-10",
          "Homer-Odyssey-11",
          "Homer-Odyssey-12",
          "Homer-Odyssey-13",
          "Homer-Odyssey-14",
          "Homer-Odyssey-15",
          "Homer-Odyssey-16",
          "Homer-Odyssey-17",
          "Homer-Odyssey-18",
          "Homer-Odyssey-19",
          "Homer-Odyssey-20",
          "Homer-Odyssey-21",
          "Homer-Odyssey-22",
          "Homer-Odyssey-23",
          "Homer-Iliad-0",
          "Homer-Iliad-1",
          "Homer-Iliad-2",
          "Homer-Iliad-3",
          "Homer-Iliad-4",
          "Homer-Iliad-5",
          "Homer-Iliad-6",
          "Homer-Iliad-7",
          "Homer-Iliad-8",
          "Homer-Iliad-9",
          "Homer-Iliad-10",
          "Homer-Iliad-11",
          "Homer-Iliad-12",
          "Homer-Iliad-13",
          "Homer-Iliad-14",
          "Homer-Iliad-15",
          "Homer-Iliad-16",
          "Homer-Iliad-17",
          "Homer-Iliad-18",
          "Homer-Iliad-19",
          "Homer-Iliad-20",
          "Homer-Iliad-21",
          "Homer-Iliad-22",
          "Homer-Iliad-23"
         ],
         "legendgroup": "Homer",
         "marker": {
          "color": "#ab63fa",
          "symbol": "circle"
         },
         "name": "Homer",
         "notched": true,
         "offsetgroup": "Homer",
         "showlegend": false,
         "type": "box",
         "x": [
          -0.14627987945108414,
          -0.13960188418688982,
          -0.1706829347161652,
          -0.14523852202540102,
          -0.09426051897698308,
          -0.12685322729187987,
          -0.1444337126021125,
          -0.1453624705930246,
          -0.0917908320409033,
          -0.1051771817494052,
          -0.11388501003694898,
          -0.0858986415057303,
          -0.14736545314632588,
          -0.10553588344247784,
          -0.1576676143796802,
          -0.1405769230423966,
          -0.13054472943271045,
          -0.13820617729388307,
          -0.11159072740450397,
          -0.13022707912394108,
          -0.15343899858172158,
          -0.11670763981088965,
          -0.1545210080708465,
          -0.14878990849814844,
          -0.08315548001254844,
          -0.2098689685261781,
          -0.19418320469334252,
          -0.22120078739837623,
          -0.2078905640371549,
          -0.20988525085889492,
          -0.23282182432250004,
          -0.23098575115770778,
          -0.1995265822305656,
          -0.20250386084214775,
          -0.21054845234562736,
          -0.2010993077725457,
          -0.20682605963661582,
          -0.22634763994018472,
          -0.22752422052504723,
          -0.20301167112211732,
          -0.2071139019810417,
          -0.20342449329836118,
          -0.22749557430543688,
          -0.1999146380089468,
          -0.1675173595038687,
          -0.17087771749076325,
          -0.1636326896075031,
          -0.2055417093500467
         ],
         "xaxis": "x2",
         "yaxis": "y2"
        },
        {
         "hovertemplate": "<b>%{hovertext}</b><br><br>author=Homeric_Hymns<br>PC1=%{x}<br>PC2=%{y}<extra></extra>",
         "hovertext": [
          "Homeric_Hymns-Homeric Hymns-0",
          "Homeric_Hymns-Homeric Hymns-1",
          "Homeric_Hymns-Homeric Hymns-2",
          "Homeric_Hymns-Homeric Hymns-3",
          "Homeric_Hymns-Homeric Hymns-4",
          "Homeric_Hymns-Homeric Hymns-5",
          "Homeric_Hymns-Homeric Hymns-6",
          "Homeric_Hymns-Homeric Hymns-7",
          "Homeric_Hymns-Homeric Hymns-8",
          "Homeric_Hymns-Homeric Hymns-9",
          "Homeric_Hymns-Homeric Hymns-10",
          "Homeric_Hymns-Homeric Hymns-11",
          "Homeric_Hymns-Homeric Hymns-12",
          "Homeric_Hymns-Homeric Hymns-13",
          "Homeric_Hymns-Homeric Hymns-14",
          "Homeric_Hymns-Homeric Hymns-15",
          "Homeric_Hymns-Homeric Hymns-16",
          "Homeric_Hymns-Homeric Hymns-17",
          "Homeric_Hymns-Homeric Hymns-18",
          "Homeric_Hymns-Homeric Hymns-19",
          "Homeric_Hymns-Homeric Hymns-20",
          "Homeric_Hymns-Homeric Hymns-21",
          "Homeric_Hymns-Homeric Hymns-22",
          "Homeric_Hymns-Homeric Hymns-23",
          "Homeric_Hymns-Homeric Hymns-24",
          "Homeric_Hymns-Homeric Hymns-25",
          "Homeric_Hymns-Homeric Hymns-26",
          "Homeric_Hymns-Homeric Hymns-27",
          "Homeric_Hymns-Homeric Hymns-28",
          "Homeric_Hymns-Homeric Hymns-29",
          "Homeric_Hymns-Homeric Hymns-30",
          "Homeric_Hymns-Homeric Hymns-31",
          "Homeric_Hymns-Homeric Hymns-32"
         ],
         "legendgroup": "Homeric_Hymns",
         "marker": {
          "color": "#FFA15A",
          "symbol": "circle"
         },
         "mode": "markers",
         "name": "Homeric_Hymns",
         "orientation": "v",
         "showlegend": true,
         "type": "scatter",
         "x": [
          -0.11483542842342064,
          -0.015500465265852754,
          -0.030768585576195977,
          0.014006807442920452,
          -0.04286478709302124,
          -0.09458795061027865,
          -0.06768361369784338,
          -0.09357966447782372,
          -0.158376020770061,
          -0.12777540314667357,
          -0.14689532231506658,
          -0.14863534163246767,
          -0.16381478050369824,
          -0.15139226345823958,
          -0.14968970123829145,
          -0.1692257067128002,
          -0.15807260871988815,
          -0.14259045634542114,
          -0.09671410127378421,
          -0.12615418796287098,
          -0.09750493066711233,
          -0.15549429314890126,
          -0.13728214872522482,
          -0.1148077058354427,
          -0.14562798814082265,
          -0.11711032589703671,
          -0.11780761444737706,
          -0.15860364286010922,
          -0.11759483875666557,
          -0.09440493740622852,
          -0.13298748453414913,
          -0.1300258654085081,
          -0.12752998143233046
         ],
         "xaxis": "x",
         "y": [
          0.1767476393576746,
          0.03653412335054097,
          0.07495215565675141,
          0.045307069586298314,
          0.1048207850942167,
          0.19828710610712638,
          0.11548390613972002,
          0.084663191111926,
          0.29722119987362405,
          0.2369958019899686,
          0.18158317025067575,
          0.20726104210829238,
          0.26466639965908717,
          0.26702271760896307,
          0.20238704653669232,
          0.26328834407581464,
          0.2518523696127946,
          0.21660848625481494,
          0.19794624178528347,
          0.17707577226876678,
          0.15977378630965042,
          0.19661466957627494,
          0.13577214299566873,
          0.12774272102906442,
          0.24513649985998204,
          0.21214580495930557,
          0.23648081119565315,
          0.24596968006939268,
          0.14884752602015625,
          0.17251482388586833,
          0.2722237918084425,
          0.24515030874177327,
          0.21649605655712695
         ],
         "yaxis": "y"
        },
        {
         "alignmentgroup": "True",
         "hovertemplate": "<b>%{hovertext}</b><br><br>author=Homeric_Hymns<br>PC1=%{x}<extra></extra>",
         "hovertext": [
          "Homeric_Hymns-Homeric Hymns-0",
          "Homeric_Hymns-Homeric Hymns-1",
          "Homeric_Hymns-Homeric Hymns-2",
          "Homeric_Hymns-Homeric Hymns-3",
          "Homeric_Hymns-Homeric Hymns-4",
          "Homeric_Hymns-Homeric Hymns-5",
          "Homeric_Hymns-Homeric Hymns-6",
          "Homeric_Hymns-Homeric Hymns-7",
          "Homeric_Hymns-Homeric Hymns-8",
          "Homeric_Hymns-Homeric Hymns-9",
          "Homeric_Hymns-Homeric Hymns-10",
          "Homeric_Hymns-Homeric Hymns-11",
          "Homeric_Hymns-Homeric Hymns-12",
          "Homeric_Hymns-Homeric Hymns-13",
          "Homeric_Hymns-Homeric Hymns-14",
          "Homeric_Hymns-Homeric Hymns-15",
          "Homeric_Hymns-Homeric Hymns-16",
          "Homeric_Hymns-Homeric Hymns-17",
          "Homeric_Hymns-Homeric Hymns-18",
          "Homeric_Hymns-Homeric Hymns-19",
          "Homeric_Hymns-Homeric Hymns-20",
          "Homeric_Hymns-Homeric Hymns-21",
          "Homeric_Hymns-Homeric Hymns-22",
          "Homeric_Hymns-Homeric Hymns-23",
          "Homeric_Hymns-Homeric Hymns-24",
          "Homeric_Hymns-Homeric Hymns-25",
          "Homeric_Hymns-Homeric Hymns-26",
          "Homeric_Hymns-Homeric Hymns-27",
          "Homeric_Hymns-Homeric Hymns-28",
          "Homeric_Hymns-Homeric Hymns-29",
          "Homeric_Hymns-Homeric Hymns-30",
          "Homeric_Hymns-Homeric Hymns-31",
          "Homeric_Hymns-Homeric Hymns-32"
         ],
         "legendgroup": "Homeric_Hymns",
         "marker": {
          "color": "#FFA15A",
          "symbol": "circle"
         },
         "name": "Homeric_Hymns",
         "notched": true,
         "offsetgroup": "Homeric_Hymns",
         "showlegend": false,
         "type": "box",
         "x": [
          -0.11483542842342064,
          -0.015500465265852754,
          -0.030768585576195977,
          0.014006807442920452,
          -0.04286478709302124,
          -0.09458795061027865,
          -0.06768361369784338,
          -0.09357966447782372,
          -0.158376020770061,
          -0.12777540314667357,
          -0.14689532231506658,
          -0.14863534163246767,
          -0.16381478050369824,
          -0.15139226345823958,
          -0.14968970123829145,
          -0.1692257067128002,
          -0.15807260871988815,
          -0.14259045634542114,
          -0.09671410127378421,
          -0.12615418796287098,
          -0.09750493066711233,
          -0.15549429314890126,
          -0.13728214872522482,
          -0.1148077058354427,
          -0.14562798814082265,
          -0.11711032589703671,
          -0.11780761444737706,
          -0.15860364286010922,
          -0.11759483875666557,
          -0.09440493740622852,
          -0.13298748453414913,
          -0.1300258654085081,
          -0.12752998143233046
         ],
         "xaxis": "x2",
         "yaxis": "y2"
        },
        {
         "hovertemplate": "<b>%{hovertext}</b><br><br>author=Ovid<br>PC1=%{x}<br>PC2=%{y}<extra></extra>",
         "hovertext": [
          "Ovid-Metamorphoses-0",
          "Ovid-Metamorphoses-1",
          "Ovid-Metamorphoses-2",
          "Ovid-Metamorphoses-3",
          "Ovid-Metamorphoses-4",
          "Ovid-Metamorphoses-5",
          "Ovid-Metamorphoses-6",
          "Ovid-Metamorphoses-7",
          "Ovid-Metamorphoses-8",
          "Ovid-Metamorphoses-9",
          "Ovid-Metamorphoses-10",
          "Ovid-Metamorphoses-11",
          "Ovid-Metamorphoses-12",
          "Ovid-Metamorphoses-13",
          "Ovid-Metamorphoses-14"
         ],
         "legendgroup": "Ovid",
         "marker": {
          "color": "#19d3f3",
          "symbol": "circle"
         },
         "mode": "markers",
         "name": "Ovid",
         "orientation": "v",
         "showlegend": true,
         "type": "scatter",
         "x": [
          0.32707136178943463,
          0.328672668867314,
          0.32005442247819615,
          0.3221997178710299,
          0.32280994368455673,
          0.3387598555239335,
          0.3600508498354019,
          0.3359665154810615,
          0.36670295806012315,
          0.33116305653222045,
          0.3480468463851259,
          0.281395810483746,
          0.34487288605476474,
          0.3354535326351812,
          0.34081057099153955
         ],
         "xaxis": "x",
         "y": [
          0.15720278849593097,
          0.144950061985174,
          0.1390374397087644,
          0.14214527671185131,
          0.13767969782229378,
          0.10689645322114072,
          0.09453824457506489,
          0.10237374404314532,
          0.054423484922444226,
          0.0830402811485015,
          0.09572630608926133,
          0.10973613918586825,
          0.05088278067442864,
          0.07720450905982566,
          0.07631933039775977
         ],
         "yaxis": "y"
        },
        {
         "alignmentgroup": "True",
         "hovertemplate": "<b>%{hovertext}</b><br><br>author=Ovid<br>PC1=%{x}<extra></extra>",
         "hovertext": [
          "Ovid-Metamorphoses-0",
          "Ovid-Metamorphoses-1",
          "Ovid-Metamorphoses-2",
          "Ovid-Metamorphoses-3",
          "Ovid-Metamorphoses-4",
          "Ovid-Metamorphoses-5",
          "Ovid-Metamorphoses-6",
          "Ovid-Metamorphoses-7",
          "Ovid-Metamorphoses-8",
          "Ovid-Metamorphoses-9",
          "Ovid-Metamorphoses-10",
          "Ovid-Metamorphoses-11",
          "Ovid-Metamorphoses-12",
          "Ovid-Metamorphoses-13",
          "Ovid-Metamorphoses-14"
         ],
         "legendgroup": "Ovid",
         "marker": {
          "color": "#19d3f3",
          "symbol": "circle"
         },
         "name": "Ovid",
         "notched": true,
         "offsetgroup": "Ovid",
         "showlegend": false,
         "type": "box",
         "x": [
          0.32707136178943463,
          0.328672668867314,
          0.32005442247819615,
          0.3221997178710299,
          0.32280994368455673,
          0.3387598555239335,
          0.3600508498354019,
          0.3359665154810615,
          0.36670295806012315,
          0.33116305653222045,
          0.3480468463851259,
          0.281395810483746,
          0.34487288605476474,
          0.3354535326351812,
          0.34081057099153955
         ],
         "xaxis": "x2",
         "yaxis": "y2"
        },
        {
         "hovertemplate": "<b>%{hovertext}</b><br><br>author=Sophocles<br>PC1=%{x}<br>PC2=%{y}<extra></extra>",
         "hovertext": [
          "Sophocles-Ajax-0",
          "Sophocles-Ajax-1",
          "Sophocles-Ajax-2",
          "Sophocles-Ajax-3",
          "Sophocles-Ajax-4",
          "Sophocles-Ajax-5",
          "Sophocles-Ajax-6",
          "Sophocles-Ajax-7",
          "Sophocles-Ajax-8",
          "Sophocles-Ajax-9",
          "Sophocles-Ajax-10",
          "Sophocles-Ajax-11",
          "Sophocles-Ajax-12",
          "Sophocles-Ajax-13",
          "Sophocles-Ajax-14",
          "Sophocles-Antigone-0",
          "Sophocles-Antigone-1",
          "Sophocles-Antigone-2",
          "Sophocles-Antigone-3",
          "Sophocles-Antigone-4",
          "Sophocles-Antigone-5",
          "Sophocles-Antigone-6",
          "Sophocles-Antigone-7",
          "Sophocles-Antigone-8",
          "Sophocles-Antigone-9",
          "Sophocles-Antigone-10",
          "Sophocles-Antigone-11",
          "Sophocles-Antigone-12",
          "Sophocles-Antigone-13",
          "Sophocles-Antigone-14",
          "Sophocles-Antigone-15",
          "Sophocles-Electra-0",
          "Sophocles-Electra-1",
          "Sophocles-Electra-2",
          "Sophocles-Electra-3",
          "Sophocles-Electra-4",
          "Sophocles-Electra-5",
          "Sophocles-Electra-6",
          "Sophocles-Electra-7",
          "Sophocles-Electra-8",
          "Sophocles-Electra-9",
          "Sophocles-Electra-10",
          "Sophocles-Electra-11",
          "Sophocles-Electra-12",
          "Sophocles-Oedipus Tyrannus-0",
          "Sophocles-Oedipus Tyrannus-1",
          "Sophocles-Oedipus Tyrannus-2",
          "Sophocles-Oedipus Tyrannus-3",
          "Sophocles-Oedipus Tyrannus-4",
          "Sophocles-Oedipus Tyrannus-5",
          "Sophocles-Oedipus Tyrannus-6",
          "Sophocles-Oedipus Tyrannus-7",
          "Sophocles-Oedipus Tyrannus-8",
          "Sophocles-Oedipus Tyrannus-9",
          "Sophocles-Oedipus Tyrannus-10",
          "Sophocles-Oedipus Tyrannus-11",
          "Sophocles-Oedipus Tyrannus-12",
          "Sophocles-Oedipus Tyrannus-13",
          "Sophocles-Oedipus Tyrannus-14",
          "Sophocles-Oedipus at Colonus-0",
          "Sophocles-Oedipus at Colonus-1",
          "Sophocles-Oedipus at Colonus-2",
          "Sophocles-Oedipus at Colonus-3",
          "Sophocles-Oedipus at Colonus-4",
          "Sophocles-Oedipus at Colonus-5",
          "Sophocles-Oedipus at Colonus-6",
          "Sophocles-Oedipus at Colonus-7",
          "Sophocles-Oedipus at Colonus-8",
          "Sophocles-Oedipus at Colonus-9",
          "Sophocles-Oedipus at Colonus-10",
          "Sophocles-Oedipus at Colonus-11",
          "Sophocles-Oedipus at Colonus-12",
          "Sophocles-Oedipus at Colonus-13",
          "Sophocles-Oedipus at Colonus-14",
          "Sophocles-Oedipus at Colonus-15",
          "Sophocles-Oedipus at Colonus-16"
         ],
         "legendgroup": "Sophocles",
         "marker": {
          "color": "#FF6692",
          "symbol": "circle"
         },
         "mode": "markers",
         "name": "Sophocles",
         "orientation": "v",
         "showlegend": true,
         "type": "scatter",
         "x": [
          0.06782684649821565,
          -0.022320497774508372,
          -0.04816821746071121,
          -0.04828975552924524,
          0.048430985019708106,
          -0.0006383947142723522,
          0.04039715583478492,
          -0.04207312438170168,
          0.0017874234678054326,
          -0.0388296666439446,
          0.06747150008214801,
          0.01974279877459938,
          0.10437395338590666,
          -0.060274109121561184,
          0.09052031822303463,
          0.07779954571090064,
          0.009009887017583025,
          0.0956471697099123,
          -0.018780162794622975,
          0.09400238657280031,
          -0.0006562460704677216,
          0.07510252245151805,
          -0.06051525240620367,
          0.008718068553739307,
          0.004005484105833658,
          -0.01788160278727309,
          0.04534156990881302,
          -0.04850161177249892,
          0.07097563446900348,
          0.009424980593668147,
          -0.07421289676426394,
          0.05726979712483952,
          0.04886156421461345,
          0.11288752148739274,
          -0.03991666888873688,
          0.11150189984341176,
          -0.01552386511259236,
          0.11911904234831237,
          -0.02832009959401102,
          0.0861185785772895,
          0.014318636911562304,
          0.04083975962144566,
          0.012911549211089808,
          0.050521213905106985,
          0.06865577798755412,
          -0.032524985456990486,
          0.09610970191010652,
          -0.010144778867633254,
          0.07686471489047367,
          0.023562018043371304,
          0.0773011730453079,
          -0.01986443905670789,
          0.05847774741133257,
          -0.04079740796017217,
          0.010609991735819033,
          -0.02113652908522852,
          0.045285015965209986,
          -0.024427300789327106,
          0.06318589674915019,
          0.041742574783683185,
          0.03795594358788673,
          0.09591671061723493,
          0.0022344428570078147,
          0.059221725159543076,
          -0.056000526102741366,
          0.13010193335865483,
          -0.034944782556062114,
          0.058645625257778604,
          -0.036140572300304374,
          0.08099939720624735,
          -0.01100673992304031,
          -0.006692090248444887,
          -0.039738386961017155,
          0.03162416507408724,
          0.004304236226371258,
          -0.012205191699871096
         ],
         "xaxis": "x",
         "y": [
          -0.09863576433448905,
          0.012569895563877144,
          0.035658627826198705,
          0.019443484752161014,
          -0.09949701703343025,
          -0.06352785586120835,
          -0.13296042158596993,
          0.020206577439203337,
          -0.0520135313164094,
          0.07958681581089809,
          -0.09033034993077951,
          -0.0573746179799532,
          -0.1754959186479785,
          0.035495800713575644,
          -0.16503838569580684,
          -0.1822871248847471,
          0.07095577581322025,
          -0.17833876818018812,
          0.03678517498491043,
          -0.16513900862288144,
          0.014033987227907132,
          -0.15079988341347822,
          0.05815084783370841,
          -0.050285841807967135,
          -0.0845658328841632,
          0.09970584635822655,
          -0.12006188473025799,
          0.1436608056121379,
          -0.07180492042250286,
          -0.12025242227324012,
          0.04414660153360269,
          -0.10092195207983266,
          -0.10528850472877388,
          -0.2144416925709709,
          0.0004007110626950721,
          -0.15908723552776152,
          -0.05993785509690324,
          -0.19835375475403277,
          0.02187521599190332,
          -0.17546281651486445,
          -0.08524134470625047,
          -0.1400232783312367,
          -0.086535321508506,
          -0.16745347314899173,
          -0.11520665443319036,
          0.09400949500137867,
          -0.20912110500618272,
          -0.01632732556570108,
          -0.20265256508576457,
          -0.13322921621412404,
          -0.16383245316239187,
          0.00870397585261613,
          -0.20732443657479216,
          0.03402922346486324,
          -0.1358813193966044,
          -0.030837934244548552,
          -0.09019202154174755,
          -0.08661500898912147,
          -0.18743881337751567,
          -0.11014715033627759,
          -0.12219537924961356,
          -0.20700477341113271,
          -0.1176111732615426,
          -0.17628296338651275,
          0.12504740749804577,
          -0.21126099535987436,
          0.06257597068014221,
          -0.19924492002562136,
          0.0387197456564236,
          -0.1946047698980715,
          -0.08682736082791626,
          -0.038434116368560214,
          0.06126579734961539,
          -0.07475662627002785,
          -0.11733082431269988,
          -0.06879185481537123
         ],
         "yaxis": "y"
        },
        {
         "alignmentgroup": "True",
         "hovertemplate": "<b>%{hovertext}</b><br><br>author=Sophocles<br>PC1=%{x}<extra></extra>",
         "hovertext": [
          "Sophocles-Ajax-0",
          "Sophocles-Ajax-1",
          "Sophocles-Ajax-2",
          "Sophocles-Ajax-3",
          "Sophocles-Ajax-4",
          "Sophocles-Ajax-5",
          "Sophocles-Ajax-6",
          "Sophocles-Ajax-7",
          "Sophocles-Ajax-8",
          "Sophocles-Ajax-9",
          "Sophocles-Ajax-10",
          "Sophocles-Ajax-11",
          "Sophocles-Ajax-12",
          "Sophocles-Ajax-13",
          "Sophocles-Ajax-14",
          "Sophocles-Antigone-0",
          "Sophocles-Antigone-1",
          "Sophocles-Antigone-2",
          "Sophocles-Antigone-3",
          "Sophocles-Antigone-4",
          "Sophocles-Antigone-5",
          "Sophocles-Antigone-6",
          "Sophocles-Antigone-7",
          "Sophocles-Antigone-8",
          "Sophocles-Antigone-9",
          "Sophocles-Antigone-10",
          "Sophocles-Antigone-11",
          "Sophocles-Antigone-12",
          "Sophocles-Antigone-13",
          "Sophocles-Antigone-14",
          "Sophocles-Antigone-15",
          "Sophocles-Electra-0",
          "Sophocles-Electra-1",
          "Sophocles-Electra-2",
          "Sophocles-Electra-3",
          "Sophocles-Electra-4",
          "Sophocles-Electra-5",
          "Sophocles-Electra-6",
          "Sophocles-Electra-7",
          "Sophocles-Electra-8",
          "Sophocles-Electra-9",
          "Sophocles-Electra-10",
          "Sophocles-Electra-11",
          "Sophocles-Electra-12",
          "Sophocles-Oedipus Tyrannus-0",
          "Sophocles-Oedipus Tyrannus-1",
          "Sophocles-Oedipus Tyrannus-2",
          "Sophocles-Oedipus Tyrannus-3",
          "Sophocles-Oedipus Tyrannus-4",
          "Sophocles-Oedipus Tyrannus-5",
          "Sophocles-Oedipus Tyrannus-6",
          "Sophocles-Oedipus Tyrannus-7",
          "Sophocles-Oedipus Tyrannus-8",
          "Sophocles-Oedipus Tyrannus-9",
          "Sophocles-Oedipus Tyrannus-10",
          "Sophocles-Oedipus Tyrannus-11",
          "Sophocles-Oedipus Tyrannus-12",
          "Sophocles-Oedipus Tyrannus-13",
          "Sophocles-Oedipus Tyrannus-14",
          "Sophocles-Oedipus at Colonus-0",
          "Sophocles-Oedipus at Colonus-1",
          "Sophocles-Oedipus at Colonus-2",
          "Sophocles-Oedipus at Colonus-3",
          "Sophocles-Oedipus at Colonus-4",
          "Sophocles-Oedipus at Colonus-5",
          "Sophocles-Oedipus at Colonus-6",
          "Sophocles-Oedipus at Colonus-7",
          "Sophocles-Oedipus at Colonus-8",
          "Sophocles-Oedipus at Colonus-9",
          "Sophocles-Oedipus at Colonus-10",
          "Sophocles-Oedipus at Colonus-11",
          "Sophocles-Oedipus at Colonus-12",
          "Sophocles-Oedipus at Colonus-13",
          "Sophocles-Oedipus at Colonus-14",
          "Sophocles-Oedipus at Colonus-15",
          "Sophocles-Oedipus at Colonus-16"
         ],
         "legendgroup": "Sophocles",
         "marker": {
          "color": "#FF6692",
          "symbol": "circle"
         },
         "name": "Sophocles",
         "notched": true,
         "offsetgroup": "Sophocles",
         "showlegend": false,
         "type": "box",
         "x": [
          0.06782684649821565,
          -0.022320497774508372,
          -0.04816821746071121,
          -0.04828975552924524,
          0.048430985019708106,
          -0.0006383947142723522,
          0.04039715583478492,
          -0.04207312438170168,
          0.0017874234678054326,
          -0.0388296666439446,
          0.06747150008214801,
          0.01974279877459938,
          0.10437395338590666,
          -0.060274109121561184,
          0.09052031822303463,
          0.07779954571090064,
          0.009009887017583025,
          0.0956471697099123,
          -0.018780162794622975,
          0.09400238657280031,
          -0.0006562460704677216,
          0.07510252245151805,
          -0.06051525240620367,
          0.008718068553739307,
          0.004005484105833658,
          -0.01788160278727309,
          0.04534156990881302,
          -0.04850161177249892,
          0.07097563446900348,
          0.009424980593668147,
          -0.07421289676426394,
          0.05726979712483952,
          0.04886156421461345,
          0.11288752148739274,
          -0.03991666888873688,
          0.11150189984341176,
          -0.01552386511259236,
          0.11911904234831237,
          -0.02832009959401102,
          0.0861185785772895,
          0.014318636911562304,
          0.04083975962144566,
          0.012911549211089808,
          0.050521213905106985,
          0.06865577798755412,
          -0.032524985456990486,
          0.09610970191010652,
          -0.010144778867633254,
          0.07686471489047367,
          0.023562018043371304,
          0.0773011730453079,
          -0.01986443905670789,
          0.05847774741133257,
          -0.04079740796017217,
          0.010609991735819033,
          -0.02113652908522852,
          0.045285015965209986,
          -0.024427300789327106,
          0.06318589674915019,
          0.041742574783683185,
          0.03795594358788673,
          0.09591671061723493,
          0.0022344428570078147,
          0.059221725159543076,
          -0.056000526102741366,
          0.13010193335865483,
          -0.034944782556062114,
          0.058645625257778604,
          -0.036140572300304374,
          0.08099939720624735,
          -0.01100673992304031,
          -0.006692090248444887,
          -0.039738386961017155,
          0.03162416507408724,
          0.004304236226371258,
          -0.012205191699871096
         ],
         "xaxis": "x2",
         "yaxis": "y2"
        },
        {
         "hovertemplate": "<b>%{hovertext}</b><br><br>author=Vergil<br>PC1=%{x}<br>PC2=%{y}<extra></extra>",
         "hovertext": [
          "Vergil-Aeneid-0",
          "Vergil-Aeneid-1",
          "Vergil-Aeneid-2",
          "Vergil-Aeneid-3",
          "Vergil-Aeneid-4",
          "Vergil-Aeneid-5",
          "Vergil-Aeneid-6",
          "Vergil-Aeneid-7",
          "Vergil-Aeneid-8",
          "Vergil-Aeneid-9",
          "Vergil-Aeneid-10",
          "Vergil-Aeneid-11"
         ],
         "legendgroup": "Vergil",
         "marker": {
          "color": "#B6E880",
          "symbol": "circle"
         },
         "mode": "markers",
         "name": "Vergil",
         "orientation": "v",
         "showlegend": true,
         "type": "scatter",
         "x": [
          0.30552063042403427,
          0.3020022939039151,
          0.2900987592526542,
          0.312028385497434,
          0.3067259982521931,
          0.32571001062929467,
          0.30077423199150155,
          0.297498506009527,
          0.28158736680076135,
          0.30388001943460546,
          0.31533240346368757,
          0.29976767003235855
         ],
         "xaxis": "x",
         "y": [
          0.19370593746599382,
          0.12726814995081778,
          0.1937545761658388,
          0.12601214628131294,
          0.19755805457619346,
          0.17843079792907618,
          0.21195689783293845,
          0.21932480629751552,
          0.1923449981003118,
          0.19207336897753685,
          0.1632441658242945,
          0.16889232037697824
         ],
         "yaxis": "y"
        },
        {
         "alignmentgroup": "True",
         "hovertemplate": "<b>%{hovertext}</b><br><br>author=Vergil<br>PC1=%{x}<extra></extra>",
         "hovertext": [
          "Vergil-Aeneid-0",
          "Vergil-Aeneid-1",
          "Vergil-Aeneid-2",
          "Vergil-Aeneid-3",
          "Vergil-Aeneid-4",
          "Vergil-Aeneid-5",
          "Vergil-Aeneid-6",
          "Vergil-Aeneid-7",
          "Vergil-Aeneid-8",
          "Vergil-Aeneid-9",
          "Vergil-Aeneid-10",
          "Vergil-Aeneid-11"
         ],
         "legendgroup": "Vergil",
         "marker": {
          "color": "#B6E880",
          "symbol": "circle"
         },
         "name": "Vergil",
         "notched": true,
         "offsetgroup": "Vergil",
         "showlegend": false,
         "type": "box",
         "x": [
          0.30552063042403427,
          0.3020022939039151,
          0.2900987592526542,
          0.312028385497434,
          0.3067259982521931,
          0.32571001062929467,
          0.30077423199150155,
          0.297498506009527,
          0.28158736680076135,
          0.30388001943460546,
          0.31533240346368757,
          0.29976767003235855
         ],
         "xaxis": "x2",
         "yaxis": "y2"
        }
       ],
       "layout": {
        "height": 800,
        "legend": {
         "title": {
          "text": "author"
         },
         "tracegroupgap": 0
        },
        "margin": {
         "t": 60
        },
        "template": {
         "data": {
          "bar": [
           {
            "error_x": {
             "color": "#2a3f5f"
            },
            "error_y": {
             "color": "#2a3f5f"
            },
            "marker": {
             "line": {
              "color": "#E5ECF6",
              "width": 0.5
             }
            },
            "type": "bar"
           }
          ],
          "barpolar": [
           {
            "marker": {
             "line": {
              "color": "#E5ECF6",
              "width": 0.5
             }
            },
            "type": "barpolar"
           }
          ],
          "carpet": [
           {
            "aaxis": {
             "endlinecolor": "#2a3f5f",
             "gridcolor": "white",
             "linecolor": "white",
             "minorgridcolor": "white",
             "startlinecolor": "#2a3f5f"
            },
            "baxis": {
             "endlinecolor": "#2a3f5f",
             "gridcolor": "white",
             "linecolor": "white",
             "minorgridcolor": "white",
             "startlinecolor": "#2a3f5f"
            },
            "type": "carpet"
           }
          ],
          "choropleth": [
           {
            "colorbar": {
             "outlinewidth": 0,
             "ticks": ""
            },
            "type": "choropleth"
           }
          ],
          "contour": [
           {
            "colorbar": {
             "outlinewidth": 0,
             "ticks": ""
            },
            "colorscale": [
             [
              0,
              "#0d0887"
             ],
             [
              0.1111111111111111,
              "#46039f"
             ],
             [
              0.2222222222222222,
              "#7201a8"
             ],
             [
              0.3333333333333333,
              "#9c179e"
             ],
             [
              0.4444444444444444,
              "#bd3786"
             ],
             [
              0.5555555555555556,
              "#d8576b"
             ],
             [
              0.6666666666666666,
              "#ed7953"
             ],
             [
              0.7777777777777778,
              "#fb9f3a"
             ],
             [
              0.8888888888888888,
              "#fdca26"
             ],
             [
              1,
              "#f0f921"
             ]
            ],
            "type": "contour"
           }
          ],
          "contourcarpet": [
           {
            "colorbar": {
             "outlinewidth": 0,
             "ticks": ""
            },
            "type": "contourcarpet"
           }
          ],
          "heatmap": [
           {
            "colorbar": {
             "outlinewidth": 0,
             "ticks": ""
            },
            "colorscale": [
             [
              0,
              "#0d0887"
             ],
             [
              0.1111111111111111,
              "#46039f"
             ],
             [
              0.2222222222222222,
              "#7201a8"
             ],
             [
              0.3333333333333333,
              "#9c179e"
             ],
             [
              0.4444444444444444,
              "#bd3786"
             ],
             [
              0.5555555555555556,
              "#d8576b"
             ],
             [
              0.6666666666666666,
              "#ed7953"
             ],
             [
              0.7777777777777778,
              "#fb9f3a"
             ],
             [
              0.8888888888888888,
              "#fdca26"
             ],
             [
              1,
              "#f0f921"
             ]
            ],
            "type": "heatmap"
           }
          ],
          "heatmapgl": [
           {
            "colorbar": {
             "outlinewidth": 0,
             "ticks": ""
            },
            "colorscale": [
             [
              0,
              "#0d0887"
             ],
             [
              0.1111111111111111,
              "#46039f"
             ],
             [
              0.2222222222222222,
              "#7201a8"
             ],
             [
              0.3333333333333333,
              "#9c179e"
             ],
             [
              0.4444444444444444,
              "#bd3786"
             ],
             [
              0.5555555555555556,
              "#d8576b"
             ],
             [
              0.6666666666666666,
              "#ed7953"
             ],
             [
              0.7777777777777778,
              "#fb9f3a"
             ],
             [
              0.8888888888888888,
              "#fdca26"
             ],
             [
              1,
              "#f0f921"
             ]
            ],
            "type": "heatmapgl"
           }
          ],
          "histogram": [
           {
            "marker": {
             "colorbar": {
              "outlinewidth": 0,
              "ticks": ""
             }
            },
            "type": "histogram"
           }
          ],
          "histogram2d": [
           {
            "colorbar": {
             "outlinewidth": 0,
             "ticks": ""
            },
            "colorscale": [
             [
              0,
              "#0d0887"
             ],
             [
              0.1111111111111111,
              "#46039f"
             ],
             [
              0.2222222222222222,
              "#7201a8"
             ],
             [
              0.3333333333333333,
              "#9c179e"
             ],
             [
              0.4444444444444444,
              "#bd3786"
             ],
             [
              0.5555555555555556,
              "#d8576b"
             ],
             [
              0.6666666666666666,
              "#ed7953"
             ],
             [
              0.7777777777777778,
              "#fb9f3a"
             ],
             [
              0.8888888888888888,
              "#fdca26"
             ],
             [
              1,
              "#f0f921"
             ]
            ],
            "type": "histogram2d"
           }
          ],
          "histogram2dcontour": [
           {
            "colorbar": {
             "outlinewidth": 0,
             "ticks": ""
            },
            "colorscale": [
             [
              0,
              "#0d0887"
             ],
             [
              0.1111111111111111,
              "#46039f"
             ],
             [
              0.2222222222222222,
              "#7201a8"
             ],
             [
              0.3333333333333333,
              "#9c179e"
             ],
             [
              0.4444444444444444,
              "#bd3786"
             ],
             [
              0.5555555555555556,
              "#d8576b"
             ],
             [
              0.6666666666666666,
              "#ed7953"
             ],
             [
              0.7777777777777778,
              "#fb9f3a"
             ],
             [
              0.8888888888888888,
              "#fdca26"
             ],
             [
              1,
              "#f0f921"
             ]
            ],
            "type": "histogram2dcontour"
           }
          ],
          "mesh3d": [
           {
            "colorbar": {
             "outlinewidth": 0,
             "ticks": ""
            },
            "type": "mesh3d"
           }
          ],
          "parcoords": [
           {
            "line": {
             "colorbar": {
              "outlinewidth": 0,
              "ticks": ""
             }
            },
            "type": "parcoords"
           }
          ],
          "pie": [
           {
            "automargin": true,
            "type": "pie"
           }
          ],
          "scatter": [
           {
            "marker": {
             "colorbar": {
              "outlinewidth": 0,
              "ticks": ""
             }
            },
            "type": "scatter"
           }
          ],
          "scatter3d": [
           {
            "line": {
             "colorbar": {
              "outlinewidth": 0,
              "ticks": ""
             }
            },
            "marker": {
             "colorbar": {
              "outlinewidth": 0,
              "ticks": ""
             }
            },
            "type": "scatter3d"
           }
          ],
          "scattercarpet": [
           {
            "marker": {
             "colorbar": {
              "outlinewidth": 0,
              "ticks": ""
             }
            },
            "type": "scattercarpet"
           }
          ],
          "scattergeo": [
           {
            "marker": {
             "colorbar": {
              "outlinewidth": 0,
              "ticks": ""
             }
            },
            "type": "scattergeo"
           }
          ],
          "scattergl": [
           {
            "marker": {
             "colorbar": {
              "outlinewidth": 0,
              "ticks": ""
             }
            },
            "type": "scattergl"
           }
          ],
          "scattermapbox": [
           {
            "marker": {
             "colorbar": {
              "outlinewidth": 0,
              "ticks": ""
             }
            },
            "type": "scattermapbox"
           }
          ],
          "scatterpolar": [
           {
            "marker": {
             "colorbar": {
              "outlinewidth": 0,
              "ticks": ""
             }
            },
            "type": "scatterpolar"
           }
          ],
          "scatterpolargl": [
           {
            "marker": {
             "colorbar": {
              "outlinewidth": 0,
              "ticks": ""
             }
            },
            "type": "scatterpolargl"
           }
          ],
          "scatterternary": [
           {
            "marker": {
             "colorbar": {
              "outlinewidth": 0,
              "ticks": ""
             }
            },
            "type": "scatterternary"
           }
          ],
          "surface": [
           {
            "colorbar": {
             "outlinewidth": 0,
             "ticks": ""
            },
            "colorscale": [
             [
              0,
              "#0d0887"
             ],
             [
              0.1111111111111111,
              "#46039f"
             ],
             [
              0.2222222222222222,
              "#7201a8"
             ],
             [
              0.3333333333333333,
              "#9c179e"
             ],
             [
              0.4444444444444444,
              "#bd3786"
             ],
             [
              0.5555555555555556,
              "#d8576b"
             ],
             [
              0.6666666666666666,
              "#ed7953"
             ],
             [
              0.7777777777777778,
              "#fb9f3a"
             ],
             [
              0.8888888888888888,
              "#fdca26"
             ],
             [
              1,
              "#f0f921"
             ]
            ],
            "type": "surface"
           }
          ],
          "table": [
           {
            "cells": {
             "fill": {
              "color": "#EBF0F8"
             },
             "line": {
              "color": "white"
             }
            },
            "header": {
             "fill": {
              "color": "#C8D4E3"
             },
             "line": {
              "color": "white"
             }
            },
            "type": "table"
           }
          ]
         },
         "layout": {
          "annotationdefaults": {
           "arrowcolor": "#2a3f5f",
           "arrowhead": 0,
           "arrowwidth": 1
          },
          "autotypenumbers": "strict",
          "coloraxis": {
           "colorbar": {
            "outlinewidth": 0,
            "ticks": ""
           }
          },
          "colorscale": {
           "diverging": [
            [
             0,
             "#8e0152"
            ],
            [
             0.1,
             "#c51b7d"
            ],
            [
             0.2,
             "#de77ae"
            ],
            [
             0.3,
             "#f1b6da"
            ],
            [
             0.4,
             "#fde0ef"
            ],
            [
             0.5,
             "#f7f7f7"
            ],
            [
             0.6,
             "#e6f5d0"
            ],
            [
             0.7,
             "#b8e186"
            ],
            [
             0.8,
             "#7fbc41"
            ],
            [
             0.9,
             "#4d9221"
            ],
            [
             1,
             "#276419"
            ]
           ],
           "sequential": [
            [
             0,
             "#0d0887"
            ],
            [
             0.1111111111111111,
             "#46039f"
            ],
            [
             0.2222222222222222,
             "#7201a8"
            ],
            [
             0.3333333333333333,
             "#9c179e"
            ],
            [
             0.4444444444444444,
             "#bd3786"
            ],
            [
             0.5555555555555556,
             "#d8576b"
            ],
            [
             0.6666666666666666,
             "#ed7953"
            ],
            [
             0.7777777777777778,
             "#fb9f3a"
            ],
            [
             0.8888888888888888,
             "#fdca26"
            ],
            [
             1,
             "#f0f921"
            ]
           ],
           "sequentialminus": [
            [
             0,
             "#0d0887"
            ],
            [
             0.1111111111111111,
             "#46039f"
            ],
            [
             0.2222222222222222,
             "#7201a8"
            ],
            [
             0.3333333333333333,
             "#9c179e"
            ],
            [
             0.4444444444444444,
             "#bd3786"
            ],
            [
             0.5555555555555556,
             "#d8576b"
            ],
            [
             0.6666666666666666,
             "#ed7953"
            ],
            [
             0.7777777777777778,
             "#fb9f3a"
            ],
            [
             0.8888888888888888,
             "#fdca26"
            ],
            [
             1,
             "#f0f921"
            ]
           ]
          },
          "colorway": [
           "#636efa",
           "#EF553B",
           "#00cc96",
           "#ab63fa",
           "#FFA15A",
           "#19d3f3",
           "#FF6692",
           "#B6E880",
           "#FF97FF",
           "#FECB52"
          ],
          "font": {
           "color": "#2a3f5f"
          },
          "geo": {
           "bgcolor": "white",
           "lakecolor": "white",
           "landcolor": "#E5ECF6",
           "showlakes": true,
           "showland": true,
           "subunitcolor": "white"
          },
          "hoverlabel": {
           "align": "left"
          },
          "hovermode": "closest",
          "mapbox": {
           "style": "light"
          },
          "paper_bgcolor": "white",
          "plot_bgcolor": "#E5ECF6",
          "polar": {
           "angularaxis": {
            "gridcolor": "white",
            "linecolor": "white",
            "ticks": ""
           },
           "bgcolor": "#E5ECF6",
           "radialaxis": {
            "gridcolor": "white",
            "linecolor": "white",
            "ticks": ""
           }
          },
          "scene": {
           "xaxis": {
            "backgroundcolor": "#E5ECF6",
            "gridcolor": "white",
            "gridwidth": 2,
            "linecolor": "white",
            "showbackground": true,
            "ticks": "",
            "zerolinecolor": "white"
           },
           "yaxis": {
            "backgroundcolor": "#E5ECF6",
            "gridcolor": "white",
            "gridwidth": 2,
            "linecolor": "white",
            "showbackground": true,
            "ticks": "",
            "zerolinecolor": "white"
           },
           "zaxis": {
            "backgroundcolor": "#E5ECF6",
            "gridcolor": "white",
            "gridwidth": 2,
            "linecolor": "white",
            "showbackground": true,
            "ticks": "",
            "zerolinecolor": "white"
           }
          },
          "shapedefaults": {
           "line": {
            "color": "#2a3f5f"
           }
          },
          "ternary": {
           "aaxis": {
            "gridcolor": "white",
            "linecolor": "white",
            "ticks": ""
           },
           "baxis": {
            "gridcolor": "white",
            "linecolor": "white",
            "ticks": ""
           },
           "bgcolor": "#E5ECF6",
           "caxis": {
            "gridcolor": "white",
            "linecolor": "white",
            "ticks": ""
           }
          },
          "title": {
           "x": 0.05
          },
          "xaxis": {
           "automargin": true,
           "gridcolor": "white",
           "linecolor": "white",
           "ticks": "",
           "title": {
            "standoff": 15
           },
           "zerolinecolor": "white",
           "zerolinewidth": 2
          },
          "yaxis": {
           "automargin": true,
           "gridcolor": "white",
           "linecolor": "white",
           "ticks": "",
           "title": {
            "standoff": 15
           },
           "zerolinecolor": "white",
           "zerolinewidth": 2
          }
         }
        },
        "xaxis": {
         "anchor": "y",
         "domain": [
          0,
          1
         ],
         "title": {
          "text": "PC1"
         }
        },
        "xaxis2": {
         "anchor": "y2",
         "domain": [
          0,
          1
         ],
         "matches": "x",
         "showgrid": true,
         "showticklabels": false
        },
        "yaxis": {
         "anchor": "x",
         "domain": [
          0,
          0.7326
         ],
         "title": {
          "text": "PC2"
         }
        },
        "yaxis2": {
         "anchor": "x2",
         "domain": [
          0.7426,
          1
         ],
         "matches": "y2",
         "showgrid": false,
         "showline": false,
         "showticklabels": false,
         "ticks": ""
        }
       }
      }
     },
     "metadata": {}
    }
   ],
   "source": [
    "pca.plot_2d(comp_id_1=1, comp_id_2=2)"
   ]
  },
  {
   "cell_type": "code",
   "execution_count": 12,
   "metadata": {},
   "outputs": [],
   "source": [
    "lda = TopicModel(remove_proper_nouns=True, max_features=6000, max_iter=25, n_topics=30, random_state=0)\n",
    "lda.fit(corp)"
   ]
  },
  {
   "cell_type": "code",
   "execution_count": 13,
   "metadata": {},
   "outputs": [
    {
     "output_type": "display_data",
     "data": {
      "text/plain": "<Figure size 360x1080 with 1 Axes>",
      "image/svg+xml": "<?xml version=\"1.0\" encoding=\"utf-8\" standalone=\"no\"?>\n<!DOCTYPE svg PUBLIC \"-//W3C//DTD SVG 1.1//EN\"\n  \"http://www.w3.org/Graphics/SVG/1.1/DTD/svg11.dtd\">\n<svg height=\"846.478125pt\" version=\"1.1\" viewBox=\"0 0 776.59375 846.478125\" width=\"776.59375pt\" xmlns=\"http://www.w3.org/2000/svg\" xmlns:xlink=\"http://www.w3.org/1999/xlink\">\n <metadata>\n  <rdf:RDF xmlns:cc=\"http://creativecommons.org/ns#\" xmlns:dc=\"http://purl.org/dc/elements/1.1/\" xmlns:rdf=\"http://www.w3.org/1999/02/22-rdf-syntax-ns#\">\n   <cc:Work>\n    <dc:type rdf:resource=\"http://purl.org/dc/dcmitype/StillImage\"/>\n    <dc:date>2021-05-09T00:19:24.989212</dc:date>\n    <dc:format>image/svg+xml</dc:format>\n    <dc:creator>\n     <cc:Agent>\n      <dc:title>Matplotlib v3.4.1, https://matplotlib.org/</dc:title>\n     </cc:Agent>\n    </dc:creator>\n   </cc:Work>\n  </rdf:RDF>\n </metadata>\n <defs>\n  <style type=\"text/css\">*{stroke-linecap:butt;stroke-linejoin:round;}</style>\n </defs>\n <g id=\"figure_1\">\n  <g id=\"patch_1\">\n   <path d=\"M 0 846.478125 \nL 776.59375 846.478125 \nL 776.59375 -0 \nL 0 -0 \nz\n\" style=\"fill:none;\"/>\n  </g>\n  <g id=\"axes_1\">\n   <g id=\"patch_2\">\n    <path d=\"M 490.39375 822.6 \nL 769.39375 822.6 \nL 769.39375 7.2 \nL 490.39375 7.2 \nz\n\" style=\"fill:#ffffff;\"/>\n   </g>\n   <g id=\"patch_3\">\n    <path clip-path=\"url(#p954cda7081)\" d=\"M 490.39375 815.805 \nL 499.329732 815.805 \nL 499.329732 802.215 \nL 490.39375 802.215 \nz\n\" style=\"fill:#1f77b4;\"/>\n   </g>\n   <g id=\"patch_4\">\n    <path clip-path=\"url(#p954cda7081)\" d=\"M 490.39375 788.625 \nL 499.426499 788.625 \nL 499.426499 775.035 \nL 490.39375 775.035 \nz\n\" style=\"fill:#1f77b4;\"/>\n   </g>\n   <g id=\"patch_5\">\n    <path clip-path=\"url(#p954cda7081)\" d=\"M 490.39375 761.445 \nL 499.82024 761.445 \nL 499.82024 747.855 \nL 490.39375 747.855 \nz\n\" style=\"fill:#1f77b4;\"/>\n   </g>\n   <g id=\"patch_6\">\n    <path clip-path=\"url(#p954cda7081)\" d=\"M 490.39375 734.265 \nL 505.772405 734.265 \nL 505.772405 720.675 \nL 490.39375 720.675 \nz\n\" style=\"fill:#1f77b4;\"/>\n   </g>\n   <g id=\"patch_7\">\n    <path clip-path=\"url(#p954cda7081)\" d=\"M 490.39375 707.085 \nL 507.402439 707.085 \nL 507.402439 693.495 \nL 490.39375 693.495 \nz\n\" style=\"fill:#1f77b4;\"/>\n   </g>\n   <g id=\"patch_8\">\n    <path clip-path=\"url(#p954cda7081)\" d=\"M 490.39375 679.905 \nL 512.865816 679.905 \nL 512.865816 666.315 \nL 490.39375 666.315 \nz\n\" style=\"fill:#1f77b4;\"/>\n   </g>\n   <g id=\"patch_9\">\n    <path clip-path=\"url(#p954cda7081)\" d=\"M 490.39375 652.725 \nL 514.629501 652.725 \nL 514.629501 639.135 \nL 490.39375 639.135 \nz\n\" style=\"fill:#1f77b4;\"/>\n   </g>\n   <g id=\"patch_10\">\n    <path clip-path=\"url(#p954cda7081)\" d=\"M 490.39375 625.545 \nL 515.453224 625.545 \nL 515.453224 611.955 \nL 490.39375 611.955 \nz\n\" style=\"fill:#1f77b4;\"/>\n   </g>\n   <g id=\"patch_11\">\n    <path clip-path=\"url(#p954cda7081)\" d=\"M 490.39375 598.365 \nL 515.663059 598.365 \nL 515.663059 584.775 \nL 490.39375 584.775 \nz\n\" style=\"fill:#1f77b4;\"/>\n   </g>\n   <g id=\"patch_12\">\n    <path clip-path=\"url(#p954cda7081)\" d=\"M 490.39375 571.185 \nL 516.393538 571.185 \nL 516.393538 557.595 \nL 490.39375 557.595 \nz\n\" style=\"fill:#1f77b4;\"/>\n   </g>\n   <g id=\"patch_13\">\n    <path clip-path=\"url(#p954cda7081)\" d=\"M 490.39375 544.005 \nL 523.906103 544.005 \nL 523.906103 530.415 \nL 490.39375 530.415 \nz\n\" style=\"fill:#1f77b4;\"/>\n   </g>\n   <g id=\"patch_14\">\n    <path clip-path=\"url(#p954cda7081)\" d=\"M 490.39375 516.825 \nL 524.882608 516.825 \nL 524.882608 503.235 \nL 490.39375 503.235 \nz\n\" style=\"fill:#1f77b4;\"/>\n   </g>\n   <g id=\"patch_15\">\n    <path clip-path=\"url(#p954cda7081)\" d=\"M 490.39375 489.645 \nL 525.456708 489.645 \nL 525.456708 476.055 \nL 490.39375 476.055 \nz\n\" style=\"fill:#1f77b4;\"/>\n   </g>\n   <g id=\"patch_16\">\n    <path clip-path=\"url(#p954cda7081)\" d=\"M 490.39375 462.465 \nL 526.718433 462.465 \nL 526.718433 448.875 \nL 490.39375 448.875 \nz\n\" style=\"fill:#1f77b4;\"/>\n   </g>\n   <g id=\"patch_17\">\n    <path clip-path=\"url(#p954cda7081)\" d=\"M 490.39375 435.285 \nL 528.823607 435.285 \nL 528.823607 421.695 \nL 490.39375 421.695 \nz\n\" style=\"fill:#1f77b4;\"/>\n   </g>\n   <g id=\"patch_18\">\n    <path clip-path=\"url(#p954cda7081)\" d=\"M 490.39375 408.105 \nL 529.537657 408.105 \nL 529.537657 394.515 \nL 490.39375 394.515 \nz\n\" style=\"fill:#1f77b4;\"/>\n   </g>\n   <g id=\"patch_19\">\n    <path clip-path=\"url(#p954cda7081)\" d=\"M 490.39375 380.925 \nL 537.050185 380.925 \nL 537.050185 367.335 \nL 490.39375 367.335 \nz\n\" style=\"fill:#1f77b4;\"/>\n   </g>\n   <g id=\"patch_20\">\n    <path clip-path=\"url(#p954cda7081)\" d=\"M 490.39375 353.745 \nL 544.225966 353.745 \nL 544.225966 340.155 \nL 490.39375 340.155 \nz\n\" style=\"fill:#1f77b4;\"/>\n   </g>\n   <g id=\"patch_21\">\n    <path clip-path=\"url(#p954cda7081)\" d=\"M 490.39375 326.565 \nL 548.363754 326.565 \nL 548.363754 312.975 \nL 490.39375 312.975 \nz\n\" style=\"fill:#1f77b4;\"/>\n   </g>\n   <g id=\"patch_22\">\n    <path clip-path=\"url(#p954cda7081)\" d=\"M 490.39375 299.385 \nL 549.837501 299.385 \nL 549.837501 285.795 \nL 490.39375 285.795 \nz\n\" style=\"fill:#1f77b4;\"/>\n   </g>\n   <g id=\"patch_23\">\n    <path clip-path=\"url(#p954cda7081)\" d=\"M 490.39375 272.205 \nL 561.26828 272.205 \nL 561.26828 258.615 \nL 490.39375 258.615 \nz\n\" style=\"fill:#1f77b4;\"/>\n   </g>\n   <g id=\"patch_24\">\n    <path clip-path=\"url(#p954cda7081)\" d=\"M 490.39375 245.025 \nL 571.546424 245.025 \nL 571.546424 231.435 \nL 490.39375 231.435 \nz\n\" style=\"fill:#1f77b4;\"/>\n   </g>\n   <g id=\"patch_25\">\n    <path clip-path=\"url(#p954cda7081)\" d=\"M 490.39375 217.845 \nL 586.883046 217.845 \nL 586.883046 204.255 \nL 490.39375 204.255 \nz\n\" style=\"fill:#1f77b4;\"/>\n   </g>\n   <g id=\"patch_26\">\n    <path clip-path=\"url(#p954cda7081)\" d=\"M 490.39375 190.665 \nL 602.374297 190.665 \nL 602.374297 177.075 \nL 490.39375 177.075 \nz\n\" style=\"fill:#1f77b4;\"/>\n   </g>\n   <g id=\"patch_27\">\n    <path clip-path=\"url(#p954cda7081)\" d=\"M 490.39375 163.485 \nL 617.50519 163.485 \nL 617.50519 149.895 \nL 490.39375 149.895 \nz\n\" style=\"fill:#1f77b4;\"/>\n   </g>\n   <g id=\"patch_28\">\n    <path clip-path=\"url(#p954cda7081)\" d=\"M 490.39375 136.305 \nL 620.966686 136.305 \nL 620.966686 122.715 \nL 490.39375 122.715 \nz\n\" style=\"fill:#1f77b4;\"/>\n   </g>\n   <g id=\"patch_29\">\n    <path clip-path=\"url(#p954cda7081)\" d=\"M 490.39375 109.125 \nL 669.948683 109.125 \nL 669.948683 95.535 \nL 490.39375 95.535 \nz\n\" style=\"fill:#1f77b4;\"/>\n   </g>\n   <g id=\"patch_30\">\n    <path clip-path=\"url(#p954cda7081)\" d=\"M 490.39375 81.945 \nL 740.622853 81.945 \nL 740.622853 68.355 \nL 490.39375 68.355 \nz\n\" style=\"fill:#1f77b4;\"/>\n   </g>\n   <g id=\"patch_31\">\n    <path clip-path=\"url(#p954cda7081)\" d=\"M 490.39375 54.765 \nL 744.084026 54.765 \nL 744.084026 41.175 \nL 490.39375 41.175 \nz\n\" style=\"fill:#1f77b4;\"/>\n   </g>\n   <g id=\"patch_32\">\n    <path clip-path=\"url(#p954cda7081)\" d=\"M 490.39375 27.585 \nL 756.108036 27.585 \nL 756.108036 13.995 \nL 490.39375 13.995 \nz\n\" style=\"fill:#1f77b4;\"/>\n   </g>\n   <g id=\"matplotlib.axis_1\">\n    <g id=\"xtick_1\">\n     <g id=\"line2d_1\">\n      <defs>\n       <path d=\"M 0 0 \nL 0 3.5 \n\" id=\"me40668113d\" style=\"stroke:#000000;stroke-width:0.8;\"/>\n      </defs>\n      <g>\n       <use style=\"stroke:#000000;stroke-width:0.8;\" x=\"490.39375\" xlink:href=\"#me40668113d\" y=\"822.6\"/>\n      </g>\n     </g>\n     <g id=\"text_1\">\n      <!-- 0 -->\n      <g transform=\"translate(487.2125 837.198437)scale(0.1 -0.1)\">\n       <defs>\n        <path d=\"M 2034 4250 \nQ 1547 4250 1301 3770 \nQ 1056 3291 1056 2328 \nQ 1056 1369 1301 889 \nQ 1547 409 2034 409 \nQ 2525 409 2770 889 \nQ 3016 1369 3016 2328 \nQ 3016 3291 2770 3770 \nQ 2525 4250 2034 4250 \nz\nM 2034 4750 \nQ 2819 4750 3233 4129 \nQ 3647 3509 3647 2328 \nQ 3647 1150 3233 529 \nQ 2819 -91 2034 -91 \nQ 1250 -91 836 529 \nQ 422 1150 422 2328 \nQ 422 3509 836 4129 \nQ 1250 4750 2034 4750 \nz\n\" id=\"DejaVuSans-30\" transform=\"scale(0.015625)\"/>\n       </defs>\n       <use xlink:href=\"#DejaVuSans-30\"/>\n      </g>\n     </g>\n    </g>\n    <g id=\"xtick_2\">\n     <g id=\"line2d_2\">\n      <g>\n       <use style=\"stroke:#000000;stroke-width:0.8;\" x=\"531.159683\" xlink:href=\"#me40668113d\" y=\"822.6\"/>\n      </g>\n     </g>\n     <g id=\"text_2\">\n      <!-- 5 -->\n      <g transform=\"translate(527.978433 837.198437)scale(0.1 -0.1)\">\n       <defs>\n        <path d=\"M 691 4666 \nL 3169 4666 \nL 3169 4134 \nL 1269 4134 \nL 1269 2991 \nQ 1406 3038 1543 3061 \nQ 1681 3084 1819 3084 \nQ 2600 3084 3056 2656 \nQ 3513 2228 3513 1497 \nQ 3513 744 3044 326 \nQ 2575 -91 1722 -91 \nQ 1428 -91 1123 -41 \nQ 819 9 494 109 \nL 494 744 \nQ 775 591 1075 516 \nQ 1375 441 1709 441 \nQ 2250 441 2565 725 \nQ 2881 1009 2881 1497 \nQ 2881 1984 2565 2268 \nQ 2250 2553 1709 2553 \nQ 1456 2553 1204 2497 \nQ 953 2441 691 2322 \nL 691 4666 \nz\n\" id=\"DejaVuSans-35\" transform=\"scale(0.015625)\"/>\n       </defs>\n       <use xlink:href=\"#DejaVuSans-35\"/>\n      </g>\n     </g>\n    </g>\n    <g id=\"xtick_3\">\n     <g id=\"line2d_3\">\n      <g>\n       <use style=\"stroke:#000000;stroke-width:0.8;\" x=\"571.925615\" xlink:href=\"#me40668113d\" y=\"822.6\"/>\n      </g>\n     </g>\n     <g id=\"text_3\">\n      <!-- 10 -->\n      <g transform=\"translate(565.563115 837.198437)scale(0.1 -0.1)\">\n       <defs>\n        <path d=\"M 794 531 \nL 1825 531 \nL 1825 4091 \nL 703 3866 \nL 703 4441 \nL 1819 4666 \nL 2450 4666 \nL 2450 531 \nL 3481 531 \nL 3481 0 \nL 794 0 \nL 794 531 \nz\n\" id=\"DejaVuSans-31\" transform=\"scale(0.015625)\"/>\n       </defs>\n       <use xlink:href=\"#DejaVuSans-31\"/>\n       <use x=\"63.623047\" xlink:href=\"#DejaVuSans-30\"/>\n      </g>\n     </g>\n    </g>\n    <g id=\"xtick_4\">\n     <g id=\"line2d_4\">\n      <g>\n       <use style=\"stroke:#000000;stroke-width:0.8;\" x=\"612.691548\" xlink:href=\"#me40668113d\" y=\"822.6\"/>\n      </g>\n     </g>\n     <g id=\"text_4\">\n      <!-- 15 -->\n      <g transform=\"translate(606.329048 837.198437)scale(0.1 -0.1)\">\n       <use xlink:href=\"#DejaVuSans-31\"/>\n       <use x=\"63.623047\" xlink:href=\"#DejaVuSans-35\"/>\n      </g>\n     </g>\n    </g>\n    <g id=\"xtick_5\">\n     <g id=\"line2d_5\">\n      <g>\n       <use style=\"stroke:#000000;stroke-width:0.8;\" x=\"653.457481\" xlink:href=\"#me40668113d\" y=\"822.6\"/>\n      </g>\n     </g>\n     <g id=\"text_5\">\n      <!-- 20 -->\n      <g transform=\"translate(647.094981 837.198437)scale(0.1 -0.1)\">\n       <defs>\n        <path d=\"M 1228 531 \nL 3431 531 \nL 3431 0 \nL 469 0 \nL 469 531 \nQ 828 903 1448 1529 \nQ 2069 2156 2228 2338 \nQ 2531 2678 2651 2914 \nQ 2772 3150 2772 3378 \nQ 2772 3750 2511 3984 \nQ 2250 4219 1831 4219 \nQ 1534 4219 1204 4116 \nQ 875 4013 500 3803 \nL 500 4441 \nQ 881 4594 1212 4672 \nQ 1544 4750 1819 4750 \nQ 2544 4750 2975 4387 \nQ 3406 4025 3406 3419 \nQ 3406 3131 3298 2873 \nQ 3191 2616 2906 2266 \nQ 2828 2175 2409 1742 \nQ 1991 1309 1228 531 \nz\n\" id=\"DejaVuSans-32\" transform=\"scale(0.015625)\"/>\n       </defs>\n       <use xlink:href=\"#DejaVuSans-32\"/>\n       <use x=\"63.623047\" xlink:href=\"#DejaVuSans-30\"/>\n      </g>\n     </g>\n    </g>\n    <g id=\"xtick_6\">\n     <g id=\"line2d_6\">\n      <g>\n       <use style=\"stroke:#000000;stroke-width:0.8;\" x=\"694.223414\" xlink:href=\"#me40668113d\" y=\"822.6\"/>\n      </g>\n     </g>\n     <g id=\"text_6\">\n      <!-- 25 -->\n      <g transform=\"translate(687.860914 837.198437)scale(0.1 -0.1)\">\n       <use xlink:href=\"#DejaVuSans-32\"/>\n       <use x=\"63.623047\" xlink:href=\"#DejaVuSans-35\"/>\n      </g>\n     </g>\n    </g>\n    <g id=\"xtick_7\">\n     <g id=\"line2d_7\">\n      <g>\n       <use style=\"stroke:#000000;stroke-width:0.8;\" x=\"734.989346\" xlink:href=\"#me40668113d\" y=\"822.6\"/>\n      </g>\n     </g>\n     <g id=\"text_7\">\n      <!-- 30 -->\n      <g transform=\"translate(728.626846 837.198437)scale(0.1 -0.1)\">\n       <defs>\n        <path d=\"M 2597 2516 \nQ 3050 2419 3304 2112 \nQ 3559 1806 3559 1356 \nQ 3559 666 3084 287 \nQ 2609 -91 1734 -91 \nQ 1441 -91 1130 -33 \nQ 819 25 488 141 \nL 488 750 \nQ 750 597 1062 519 \nQ 1375 441 1716 441 \nQ 2309 441 2620 675 \nQ 2931 909 2931 1356 \nQ 2931 1769 2642 2001 \nQ 2353 2234 1838 2234 \nL 1294 2234 \nL 1294 2753 \nL 1863 2753 \nQ 2328 2753 2575 2939 \nQ 2822 3125 2822 3475 \nQ 2822 3834 2567 4026 \nQ 2313 4219 1838 4219 \nQ 1578 4219 1281 4162 \nQ 984 4106 628 3988 \nL 628 4550 \nQ 988 4650 1302 4700 \nQ 1616 4750 1894 4750 \nQ 2613 4750 3031 4423 \nQ 3450 4097 3450 3541 \nQ 3450 3153 3228 2886 \nQ 3006 2619 2597 2516 \nz\n\" id=\"DejaVuSans-33\" transform=\"scale(0.015625)\"/>\n       </defs>\n       <use xlink:href=\"#DejaVuSans-33\"/>\n       <use x=\"63.623047\" xlink:href=\"#DejaVuSans-30\"/>\n      </g>\n     </g>\n    </g>\n   </g>\n   <g id=\"matplotlib.axis_2\">\n    <g id=\"ytick_1\">\n     <g id=\"line2d_8\">\n      <defs>\n       <path d=\"M 0 0 \nL -3.5 0 \n\" id=\"m61dcaee5c8\" style=\"stroke:#000000;stroke-width:0.8;\"/>\n      </defs>\n      <g>\n       <use style=\"stroke:#000000;stroke-width:0.8;\" x=\"490.39375\" xlink:href=\"#m61dcaee5c8\" y=\"809.01\"/>\n      </g>\n     </g>\n     <g id=\"text_8\">\n      <!-- 8 cows, love, excess, restraint, bower, grace, delight, strain, beauty, heifers -->\n      <g transform=\"translate(103.071875 812.809219)scale(0.1 -0.1)\">\n       <defs>\n        <path d=\"M 2034 2216 \nQ 1584 2216 1326 1975 \nQ 1069 1734 1069 1313 \nQ 1069 891 1326 650 \nQ 1584 409 2034 409 \nQ 2484 409 2743 651 \nQ 3003 894 3003 1313 \nQ 3003 1734 2745 1975 \nQ 2488 2216 2034 2216 \nz\nM 1403 2484 \nQ 997 2584 770 2862 \nQ 544 3141 544 3541 \nQ 544 4100 942 4425 \nQ 1341 4750 2034 4750 \nQ 2731 4750 3128 4425 \nQ 3525 4100 3525 3541 \nQ 3525 3141 3298 2862 \nQ 3072 2584 2669 2484 \nQ 3125 2378 3379 2068 \nQ 3634 1759 3634 1313 \nQ 3634 634 3220 271 \nQ 2806 -91 2034 -91 \nQ 1263 -91 848 271 \nQ 434 634 434 1313 \nQ 434 1759 690 2068 \nQ 947 2378 1403 2484 \nz\nM 1172 3481 \nQ 1172 3119 1398 2916 \nQ 1625 2713 2034 2713 \nQ 2441 2713 2670 2916 \nQ 2900 3119 2900 3481 \nQ 2900 3844 2670 4047 \nQ 2441 4250 2034 4250 \nQ 1625 4250 1398 4047 \nQ 1172 3844 1172 3481 \nz\n\" id=\"DejaVuSans-38\" transform=\"scale(0.015625)\"/>\n        <path id=\"DejaVuSans-20\" transform=\"scale(0.015625)\"/>\n        <path d=\"M 3122 3366 \nL 3122 2828 \nQ 2878 2963 2633 3030 \nQ 2388 3097 2138 3097 \nQ 1578 3097 1268 2742 \nQ 959 2388 959 1747 \nQ 959 1106 1268 751 \nQ 1578 397 2138 397 \nQ 2388 397 2633 464 \nQ 2878 531 3122 666 \nL 3122 134 \nQ 2881 22 2623 -34 \nQ 2366 -91 2075 -91 \nQ 1284 -91 818 406 \nQ 353 903 353 1747 \nQ 353 2603 823 3093 \nQ 1294 3584 2113 3584 \nQ 2378 3584 2631 3529 \nQ 2884 3475 3122 3366 \nz\n\" id=\"DejaVuSans-63\" transform=\"scale(0.015625)\"/>\n        <path d=\"M 1959 3097 \nQ 1497 3097 1228 2736 \nQ 959 2375 959 1747 \nQ 959 1119 1226 758 \nQ 1494 397 1959 397 \nQ 2419 397 2687 759 \nQ 2956 1122 2956 1747 \nQ 2956 2369 2687 2733 \nQ 2419 3097 1959 3097 \nz\nM 1959 3584 \nQ 2709 3584 3137 3096 \nQ 3566 2609 3566 1747 \nQ 3566 888 3137 398 \nQ 2709 -91 1959 -91 \nQ 1206 -91 779 398 \nQ 353 888 353 1747 \nQ 353 2609 779 3096 \nQ 1206 3584 1959 3584 \nz\n\" id=\"DejaVuSans-6f\" transform=\"scale(0.015625)\"/>\n        <path d=\"M 269 3500 \nL 844 3500 \nL 1563 769 \nL 2278 3500 \nL 2956 3500 \nL 3675 769 \nL 4391 3500 \nL 4966 3500 \nL 4050 0 \nL 3372 0 \nL 2619 2869 \nL 1863 0 \nL 1184 0 \nL 269 3500 \nz\n\" id=\"DejaVuSans-77\" transform=\"scale(0.015625)\"/>\n        <path d=\"M 2834 3397 \nL 2834 2853 \nQ 2591 2978 2328 3040 \nQ 2066 3103 1784 3103 \nQ 1356 3103 1142 2972 \nQ 928 2841 928 2578 \nQ 928 2378 1081 2264 \nQ 1234 2150 1697 2047 \nL 1894 2003 \nQ 2506 1872 2764 1633 \nQ 3022 1394 3022 966 \nQ 3022 478 2636 193 \nQ 2250 -91 1575 -91 \nQ 1294 -91 989 -36 \nQ 684 19 347 128 \nL 347 722 \nQ 666 556 975 473 \nQ 1284 391 1588 391 \nQ 1994 391 2212 530 \nQ 2431 669 2431 922 \nQ 2431 1156 2273 1281 \nQ 2116 1406 1581 1522 \nL 1381 1569 \nQ 847 1681 609 1914 \nQ 372 2147 372 2553 \nQ 372 3047 722 3315 \nQ 1072 3584 1716 3584 \nQ 2034 3584 2315 3537 \nQ 2597 3491 2834 3397 \nz\n\" id=\"DejaVuSans-73\" transform=\"scale(0.015625)\"/>\n        <path d=\"M 750 794 \nL 1409 794 \nL 1409 256 \nL 897 -744 \nL 494 -744 \nL 750 256 \nL 750 794 \nz\n\" id=\"DejaVuSans-2c\" transform=\"scale(0.015625)\"/>\n        <path d=\"M 603 4863 \nL 1178 4863 \nL 1178 0 \nL 603 0 \nL 603 4863 \nz\n\" id=\"DejaVuSans-6c\" transform=\"scale(0.015625)\"/>\n        <path d=\"M 191 3500 \nL 800 3500 \nL 1894 563 \nL 2988 3500 \nL 3597 3500 \nL 2284 0 \nL 1503 0 \nL 191 3500 \nz\n\" id=\"DejaVuSans-76\" transform=\"scale(0.015625)\"/>\n        <path d=\"M 3597 1894 \nL 3597 1613 \nL 953 1613 \nQ 991 1019 1311 708 \nQ 1631 397 2203 397 \nQ 2534 397 2845 478 \nQ 3156 559 3463 722 \nL 3463 178 \nQ 3153 47 2828 -22 \nQ 2503 -91 2169 -91 \nQ 1331 -91 842 396 \nQ 353 884 353 1716 \nQ 353 2575 817 3079 \nQ 1281 3584 2069 3584 \nQ 2775 3584 3186 3129 \nQ 3597 2675 3597 1894 \nz\nM 3022 2063 \nQ 3016 2534 2758 2815 \nQ 2500 3097 2075 3097 \nQ 1594 3097 1305 2825 \nQ 1016 2553 972 2059 \nL 3022 2063 \nz\n\" id=\"DejaVuSans-65\" transform=\"scale(0.015625)\"/>\n        <path d=\"M 3513 3500 \nL 2247 1797 \nL 3578 0 \nL 2900 0 \nL 1881 1375 \nL 863 0 \nL 184 0 \nL 1544 1831 \nL 300 3500 \nL 978 3500 \nL 1906 2253 \nL 2834 3500 \nL 3513 3500 \nz\n\" id=\"DejaVuSans-78\" transform=\"scale(0.015625)\"/>\n        <path d=\"M 2631 2963 \nQ 2534 3019 2420 3045 \nQ 2306 3072 2169 3072 \nQ 1681 3072 1420 2755 \nQ 1159 2438 1159 1844 \nL 1159 0 \nL 581 0 \nL 581 3500 \nL 1159 3500 \nL 1159 2956 \nQ 1341 3275 1631 3429 \nQ 1922 3584 2338 3584 \nQ 2397 3584 2469 3576 \nQ 2541 3569 2628 3553 \nL 2631 2963 \nz\n\" id=\"DejaVuSans-72\" transform=\"scale(0.015625)\"/>\n        <path d=\"M 1172 4494 \nL 1172 3500 \nL 2356 3500 \nL 2356 3053 \nL 1172 3053 \nL 1172 1153 \nQ 1172 725 1289 603 \nQ 1406 481 1766 481 \nL 2356 481 \nL 2356 0 \nL 1766 0 \nQ 1100 0 847 248 \nQ 594 497 594 1153 \nL 594 3053 \nL 172 3053 \nL 172 3500 \nL 594 3500 \nL 594 4494 \nL 1172 4494 \nz\n\" id=\"DejaVuSans-74\" transform=\"scale(0.015625)\"/>\n        <path d=\"M 2194 1759 \nQ 1497 1759 1228 1600 \nQ 959 1441 959 1056 \nQ 959 750 1161 570 \nQ 1363 391 1709 391 \nQ 2188 391 2477 730 \nQ 2766 1069 2766 1631 \nL 2766 1759 \nL 2194 1759 \nz\nM 3341 1997 \nL 3341 0 \nL 2766 0 \nL 2766 531 \nQ 2569 213 2275 61 \nQ 1981 -91 1556 -91 \nQ 1019 -91 701 211 \nQ 384 513 384 1019 \nQ 384 1609 779 1909 \nQ 1175 2209 1959 2209 \nL 2766 2209 \nL 2766 2266 \nQ 2766 2663 2505 2880 \nQ 2244 3097 1772 3097 \nQ 1472 3097 1187 3025 \nQ 903 2953 641 2809 \nL 641 3341 \nQ 956 3463 1253 3523 \nQ 1550 3584 1831 3584 \nQ 2591 3584 2966 3190 \nQ 3341 2797 3341 1997 \nz\n\" id=\"DejaVuSans-61\" transform=\"scale(0.015625)\"/>\n        <path d=\"M 603 3500 \nL 1178 3500 \nL 1178 0 \nL 603 0 \nL 603 3500 \nz\nM 603 4863 \nL 1178 4863 \nL 1178 4134 \nL 603 4134 \nL 603 4863 \nz\n\" id=\"DejaVuSans-69\" transform=\"scale(0.015625)\"/>\n        <path d=\"M 3513 2113 \nL 3513 0 \nL 2938 0 \nL 2938 2094 \nQ 2938 2591 2744 2837 \nQ 2550 3084 2163 3084 \nQ 1697 3084 1428 2787 \nQ 1159 2491 1159 1978 \nL 1159 0 \nL 581 0 \nL 581 3500 \nL 1159 3500 \nL 1159 2956 \nQ 1366 3272 1645 3428 \nQ 1925 3584 2291 3584 \nQ 2894 3584 3203 3211 \nQ 3513 2838 3513 2113 \nz\n\" id=\"DejaVuSans-6e\" transform=\"scale(0.015625)\"/>\n        <path d=\"M 3116 1747 \nQ 3116 2381 2855 2742 \nQ 2594 3103 2138 3103 \nQ 1681 3103 1420 2742 \nQ 1159 2381 1159 1747 \nQ 1159 1113 1420 752 \nQ 1681 391 2138 391 \nQ 2594 391 2855 752 \nQ 3116 1113 3116 1747 \nz\nM 1159 2969 \nQ 1341 3281 1617 3432 \nQ 1894 3584 2278 3584 \nQ 2916 3584 3314 3078 \nQ 3713 2572 3713 1747 \nQ 3713 922 3314 415 \nQ 2916 -91 2278 -91 \nQ 1894 -91 1617 61 \nQ 1341 213 1159 525 \nL 1159 0 \nL 581 0 \nL 581 4863 \nL 1159 4863 \nL 1159 2969 \nz\n\" id=\"DejaVuSans-62\" transform=\"scale(0.015625)\"/>\n        <path d=\"M 2906 1791 \nQ 2906 2416 2648 2759 \nQ 2391 3103 1925 3103 \nQ 1463 3103 1205 2759 \nQ 947 2416 947 1791 \nQ 947 1169 1205 825 \nQ 1463 481 1925 481 \nQ 2391 481 2648 825 \nQ 2906 1169 2906 1791 \nz\nM 3481 434 \nQ 3481 -459 3084 -895 \nQ 2688 -1331 1869 -1331 \nQ 1566 -1331 1297 -1286 \nQ 1028 -1241 775 -1147 \nL 775 -588 \nQ 1028 -725 1275 -790 \nQ 1522 -856 1778 -856 \nQ 2344 -856 2625 -561 \nQ 2906 -266 2906 331 \nL 2906 616 \nQ 2728 306 2450 153 \nQ 2172 0 1784 0 \nQ 1141 0 747 490 \nQ 353 981 353 1791 \nQ 353 2603 747 3093 \nQ 1141 3584 1784 3584 \nQ 2172 3584 2450 3431 \nQ 2728 3278 2906 2969 \nL 2906 3500 \nL 3481 3500 \nL 3481 434 \nz\n\" id=\"DejaVuSans-67\" transform=\"scale(0.015625)\"/>\n        <path d=\"M 2906 2969 \nL 2906 4863 \nL 3481 4863 \nL 3481 0 \nL 2906 0 \nL 2906 525 \nQ 2725 213 2448 61 \nQ 2172 -91 1784 -91 \nQ 1150 -91 751 415 \nQ 353 922 353 1747 \nQ 353 2572 751 3078 \nQ 1150 3584 1784 3584 \nQ 2172 3584 2448 3432 \nQ 2725 3281 2906 2969 \nz\nM 947 1747 \nQ 947 1113 1208 752 \nQ 1469 391 1925 391 \nQ 2381 391 2643 752 \nQ 2906 1113 2906 1747 \nQ 2906 2381 2643 2742 \nQ 2381 3103 1925 3103 \nQ 1469 3103 1208 2742 \nQ 947 2381 947 1747 \nz\n\" id=\"DejaVuSans-64\" transform=\"scale(0.015625)\"/>\n        <path d=\"M 3513 2113 \nL 3513 0 \nL 2938 0 \nL 2938 2094 \nQ 2938 2591 2744 2837 \nQ 2550 3084 2163 3084 \nQ 1697 3084 1428 2787 \nQ 1159 2491 1159 1978 \nL 1159 0 \nL 581 0 \nL 581 4863 \nL 1159 4863 \nL 1159 2956 \nQ 1366 3272 1645 3428 \nQ 1925 3584 2291 3584 \nQ 2894 3584 3203 3211 \nQ 3513 2838 3513 2113 \nz\n\" id=\"DejaVuSans-68\" transform=\"scale(0.015625)\"/>\n        <path d=\"M 544 1381 \nL 544 3500 \nL 1119 3500 \nL 1119 1403 \nQ 1119 906 1312 657 \nQ 1506 409 1894 409 \nQ 2359 409 2629 706 \nQ 2900 1003 2900 1516 \nL 2900 3500 \nL 3475 3500 \nL 3475 0 \nL 2900 0 \nL 2900 538 \nQ 2691 219 2414 64 \nQ 2138 -91 1772 -91 \nQ 1169 -91 856 284 \nQ 544 659 544 1381 \nz\nM 1991 3584 \nL 1991 3584 \nz\n\" id=\"DejaVuSans-75\" transform=\"scale(0.015625)\"/>\n        <path d=\"M 2059 -325 \nQ 1816 -950 1584 -1140 \nQ 1353 -1331 966 -1331 \nL 506 -1331 \nL 506 -850 \nL 844 -850 \nQ 1081 -850 1212 -737 \nQ 1344 -625 1503 -206 \nL 1606 56 \nL 191 3500 \nL 800 3500 \nL 1894 763 \nL 2988 3500 \nL 3597 3500 \nL 2059 -325 \nz\n\" id=\"DejaVuSans-79\" transform=\"scale(0.015625)\"/>\n        <path d=\"M 2375 4863 \nL 2375 4384 \nL 1825 4384 \nQ 1516 4384 1395 4259 \nQ 1275 4134 1275 3809 \nL 1275 3500 \nL 2222 3500 \nL 2222 3053 \nL 1275 3053 \nL 1275 0 \nL 697 0 \nL 697 3053 \nL 147 3053 \nL 147 3500 \nL 697 3500 \nL 697 3744 \nQ 697 4328 969 4595 \nQ 1241 4863 1831 4863 \nL 2375 4863 \nz\n\" id=\"DejaVuSans-66\" transform=\"scale(0.015625)\"/>\n       </defs>\n       <use xlink:href=\"#DejaVuSans-38\"/>\n       <use x=\"63.623047\" xlink:href=\"#DejaVuSans-20\"/>\n       <use x=\"95.410156\" xlink:href=\"#DejaVuSans-63\"/>\n       <use x=\"150.390625\" xlink:href=\"#DejaVuSans-6f\"/>\n       <use x=\"211.572266\" xlink:href=\"#DejaVuSans-77\"/>\n       <use x=\"293.359375\" xlink:href=\"#DejaVuSans-73\"/>\n       <use x=\"345.458984\" xlink:href=\"#DejaVuSans-2c\"/>\n       <use x=\"377.246094\" xlink:href=\"#DejaVuSans-20\"/>\n       <use x=\"409.033203\" xlink:href=\"#DejaVuSans-6c\"/>\n       <use x=\"436.816406\" xlink:href=\"#DejaVuSans-6f\"/>\n       <use x=\"497.998047\" xlink:href=\"#DejaVuSans-76\"/>\n       <use x=\"557.177734\" xlink:href=\"#DejaVuSans-65\"/>\n       <use x=\"618.701172\" xlink:href=\"#DejaVuSans-2c\"/>\n       <use x=\"650.488281\" xlink:href=\"#DejaVuSans-20\"/>\n       <use x=\"682.275391\" xlink:href=\"#DejaVuSans-65\"/>\n       <use x=\"742.048828\" xlink:href=\"#DejaVuSans-78\"/>\n       <use x=\"799.478516\" xlink:href=\"#DejaVuSans-63\"/>\n       <use x=\"854.458984\" xlink:href=\"#DejaVuSans-65\"/>\n       <use x=\"915.982422\" xlink:href=\"#DejaVuSans-73\"/>\n       <use x=\"968.082031\" xlink:href=\"#DejaVuSans-73\"/>\n       <use x=\"1020.181641\" xlink:href=\"#DejaVuSans-2c\"/>\n       <use x=\"1051.96875\" xlink:href=\"#DejaVuSans-20\"/>\n       <use x=\"1083.755859\" xlink:href=\"#DejaVuSans-72\"/>\n       <use x=\"1122.619141\" xlink:href=\"#DejaVuSans-65\"/>\n       <use x=\"1184.142578\" xlink:href=\"#DejaVuSans-73\"/>\n       <use x=\"1236.242188\" xlink:href=\"#DejaVuSans-74\"/>\n       <use x=\"1275.451172\" xlink:href=\"#DejaVuSans-72\"/>\n       <use x=\"1316.564453\" xlink:href=\"#DejaVuSans-61\"/>\n       <use x=\"1377.84375\" xlink:href=\"#DejaVuSans-69\"/>\n       <use x=\"1405.626953\" xlink:href=\"#DejaVuSans-6e\"/>\n       <use x=\"1469.005859\" xlink:href=\"#DejaVuSans-74\"/>\n       <use x=\"1508.214844\" xlink:href=\"#DejaVuSans-2c\"/>\n       <use x=\"1540.001953\" xlink:href=\"#DejaVuSans-20\"/>\n       <use x=\"1571.789062\" xlink:href=\"#DejaVuSans-62\"/>\n       <use x=\"1635.265625\" xlink:href=\"#DejaVuSans-6f\"/>\n       <use x=\"1696.447266\" xlink:href=\"#DejaVuSans-77\"/>\n       <use x=\"1778.234375\" xlink:href=\"#DejaVuSans-65\"/>\n       <use x=\"1839.757812\" xlink:href=\"#DejaVuSans-72\"/>\n       <use x=\"1880.871094\" xlink:href=\"#DejaVuSans-2c\"/>\n       <use x=\"1912.658203\" xlink:href=\"#DejaVuSans-20\"/>\n       <use x=\"1944.445312\" xlink:href=\"#DejaVuSans-67\"/>\n       <use x=\"2007.921875\" xlink:href=\"#DejaVuSans-72\"/>\n       <use x=\"2049.035156\" xlink:href=\"#DejaVuSans-61\"/>\n       <use x=\"2110.314453\" xlink:href=\"#DejaVuSans-63\"/>\n       <use x=\"2165.294922\" xlink:href=\"#DejaVuSans-65\"/>\n       <use x=\"2226.818359\" xlink:href=\"#DejaVuSans-2c\"/>\n       <use x=\"2258.605469\" xlink:href=\"#DejaVuSans-20\"/>\n       <use x=\"2290.392578\" xlink:href=\"#DejaVuSans-64\"/>\n       <use x=\"2353.869141\" xlink:href=\"#DejaVuSans-65\"/>\n       <use x=\"2415.392578\" xlink:href=\"#DejaVuSans-6c\"/>\n       <use x=\"2443.175781\" xlink:href=\"#DejaVuSans-69\"/>\n       <use x=\"2470.958984\" xlink:href=\"#DejaVuSans-67\"/>\n       <use x=\"2534.435547\" xlink:href=\"#DejaVuSans-68\"/>\n       <use x=\"2597.814453\" xlink:href=\"#DejaVuSans-74\"/>\n       <use x=\"2637.023438\" xlink:href=\"#DejaVuSans-2c\"/>\n       <use x=\"2668.810547\" xlink:href=\"#DejaVuSans-20\"/>\n       <use x=\"2700.597656\" xlink:href=\"#DejaVuSans-73\"/>\n       <use x=\"2752.697266\" xlink:href=\"#DejaVuSans-74\"/>\n       <use x=\"2791.90625\" xlink:href=\"#DejaVuSans-72\"/>\n       <use x=\"2833.019531\" xlink:href=\"#DejaVuSans-61\"/>\n       <use x=\"2894.298828\" xlink:href=\"#DejaVuSans-69\"/>\n       <use x=\"2922.082031\" xlink:href=\"#DejaVuSans-6e\"/>\n       <use x=\"2985.460938\" xlink:href=\"#DejaVuSans-2c\"/>\n       <use x=\"3017.248047\" xlink:href=\"#DejaVuSans-20\"/>\n       <use x=\"3049.035156\" xlink:href=\"#DejaVuSans-62\"/>\n       <use x=\"3112.511719\" xlink:href=\"#DejaVuSans-65\"/>\n       <use x=\"3174.035156\" xlink:href=\"#DejaVuSans-61\"/>\n       <use x=\"3235.314453\" xlink:href=\"#DejaVuSans-75\"/>\n       <use x=\"3298.693359\" xlink:href=\"#DejaVuSans-74\"/>\n       <use x=\"3337.902344\" xlink:href=\"#DejaVuSans-79\"/>\n       <use x=\"3397.082031\" xlink:href=\"#DejaVuSans-2c\"/>\n       <use x=\"3428.869141\" xlink:href=\"#DejaVuSans-20\"/>\n       <use x=\"3460.65625\" xlink:href=\"#DejaVuSans-68\"/>\n       <use x=\"3524.035156\" xlink:href=\"#DejaVuSans-65\"/>\n       <use x=\"3585.558594\" xlink:href=\"#DejaVuSans-69\"/>\n       <use x=\"3613.341797\" xlink:href=\"#DejaVuSans-66\"/>\n       <use x=\"3648.546875\" xlink:href=\"#DejaVuSans-65\"/>\n       <use x=\"3710.070312\" xlink:href=\"#DejaVuSans-72\"/>\n       <use x=\"3751.183594\" xlink:href=\"#DejaVuSans-73\"/>\n      </g>\n     </g>\n    </g>\n    <g id=\"ytick_2\">\n     <g id=\"line2d_9\">\n      <g>\n       <use style=\"stroke:#000000;stroke-width:0.8;\" x=\"490.39375\" xlink:href=\"#m61dcaee5c8\" y=\"781.83\"/>\n      </g>\n     </g>\n     <g id=\"text_9\">\n      <!-- 28 house, man, message, news, heart, stranger, way, time, boy, friends -->\n      <g transform=\"translate(122.471875 785.629219)scale(0.1 -0.1)\">\n       <defs>\n        <path d=\"M 3328 2828 \nQ 3544 3216 3844 3400 \nQ 4144 3584 4550 3584 \nQ 5097 3584 5394 3201 \nQ 5691 2819 5691 2113 \nL 5691 0 \nL 5113 0 \nL 5113 2094 \nQ 5113 2597 4934 2840 \nQ 4756 3084 4391 3084 \nQ 3944 3084 3684 2787 \nQ 3425 2491 3425 1978 \nL 3425 0 \nL 2847 0 \nL 2847 2094 \nQ 2847 2600 2669 2842 \nQ 2491 3084 2119 3084 \nQ 1678 3084 1418 2786 \nQ 1159 2488 1159 1978 \nL 1159 0 \nL 581 0 \nL 581 3500 \nL 1159 3500 \nL 1159 2956 \nQ 1356 3278 1631 3431 \nQ 1906 3584 2284 3584 \nQ 2666 3584 2933 3390 \nQ 3200 3197 3328 2828 \nz\n\" id=\"DejaVuSans-6d\" transform=\"scale(0.015625)\"/>\n       </defs>\n       <use xlink:href=\"#DejaVuSans-32\"/>\n       <use x=\"63.623047\" xlink:href=\"#DejaVuSans-38\"/>\n       <use x=\"127.246094\" xlink:href=\"#DejaVuSans-20\"/>\n       <use x=\"159.033203\" xlink:href=\"#DejaVuSans-68\"/>\n       <use x=\"222.412109\" xlink:href=\"#DejaVuSans-6f\"/>\n       <use x=\"283.59375\" xlink:href=\"#DejaVuSans-75\"/>\n       <use x=\"346.972656\" xlink:href=\"#DejaVuSans-73\"/>\n       <use x=\"399.072266\" xlink:href=\"#DejaVuSans-65\"/>\n       <use x=\"460.595703\" xlink:href=\"#DejaVuSans-2c\"/>\n       <use x=\"492.382812\" xlink:href=\"#DejaVuSans-20\"/>\n       <use x=\"524.169922\" xlink:href=\"#DejaVuSans-6d\"/>\n       <use x=\"621.582031\" xlink:href=\"#DejaVuSans-61\"/>\n       <use x=\"682.861328\" xlink:href=\"#DejaVuSans-6e\"/>\n       <use x=\"746.240234\" xlink:href=\"#DejaVuSans-2c\"/>\n       <use x=\"778.027344\" xlink:href=\"#DejaVuSans-20\"/>\n       <use x=\"809.814453\" xlink:href=\"#DejaVuSans-6d\"/>\n       <use x=\"907.226562\" xlink:href=\"#DejaVuSans-65\"/>\n       <use x=\"968.75\" xlink:href=\"#DejaVuSans-73\"/>\n       <use x=\"1020.849609\" xlink:href=\"#DejaVuSans-73\"/>\n       <use x=\"1072.949219\" xlink:href=\"#DejaVuSans-61\"/>\n       <use x=\"1134.228516\" xlink:href=\"#DejaVuSans-67\"/>\n       <use x=\"1197.705078\" xlink:href=\"#DejaVuSans-65\"/>\n       <use x=\"1259.228516\" xlink:href=\"#DejaVuSans-2c\"/>\n       <use x=\"1291.015625\" xlink:href=\"#DejaVuSans-20\"/>\n       <use x=\"1322.802734\" xlink:href=\"#DejaVuSans-6e\"/>\n       <use x=\"1386.181641\" xlink:href=\"#DejaVuSans-65\"/>\n       <use x=\"1447.705078\" xlink:href=\"#DejaVuSans-77\"/>\n       <use x=\"1529.492188\" xlink:href=\"#DejaVuSans-73\"/>\n       <use x=\"1581.591797\" xlink:href=\"#DejaVuSans-2c\"/>\n       <use x=\"1613.378906\" xlink:href=\"#DejaVuSans-20\"/>\n       <use x=\"1645.166016\" xlink:href=\"#DejaVuSans-68\"/>\n       <use x=\"1708.544922\" xlink:href=\"#DejaVuSans-65\"/>\n       <use x=\"1770.068359\" xlink:href=\"#DejaVuSans-61\"/>\n       <use x=\"1831.347656\" xlink:href=\"#DejaVuSans-72\"/>\n       <use x=\"1872.460938\" xlink:href=\"#DejaVuSans-74\"/>\n       <use x=\"1911.669922\" xlink:href=\"#DejaVuSans-2c\"/>\n       <use x=\"1943.457031\" xlink:href=\"#DejaVuSans-20\"/>\n       <use x=\"1975.244141\" xlink:href=\"#DejaVuSans-73\"/>\n       <use x=\"2027.34375\" xlink:href=\"#DejaVuSans-74\"/>\n       <use x=\"2066.552734\" xlink:href=\"#DejaVuSans-72\"/>\n       <use x=\"2107.666016\" xlink:href=\"#DejaVuSans-61\"/>\n       <use x=\"2168.945312\" xlink:href=\"#DejaVuSans-6e\"/>\n       <use x=\"2232.324219\" xlink:href=\"#DejaVuSans-67\"/>\n       <use x=\"2295.800781\" xlink:href=\"#DejaVuSans-65\"/>\n       <use x=\"2357.324219\" xlink:href=\"#DejaVuSans-72\"/>\n       <use x=\"2398.4375\" xlink:href=\"#DejaVuSans-2c\"/>\n       <use x=\"2430.224609\" xlink:href=\"#DejaVuSans-20\"/>\n       <use x=\"2462.011719\" xlink:href=\"#DejaVuSans-77\"/>\n       <use x=\"2543.798828\" xlink:href=\"#DejaVuSans-61\"/>\n       <use x=\"2605.078125\" xlink:href=\"#DejaVuSans-79\"/>\n       <use x=\"2664.257812\" xlink:href=\"#DejaVuSans-2c\"/>\n       <use x=\"2696.044922\" xlink:href=\"#DejaVuSans-20\"/>\n       <use x=\"2727.832031\" xlink:href=\"#DejaVuSans-74\"/>\n       <use x=\"2767.041016\" xlink:href=\"#DejaVuSans-69\"/>\n       <use x=\"2794.824219\" xlink:href=\"#DejaVuSans-6d\"/>\n       <use x=\"2892.236328\" xlink:href=\"#DejaVuSans-65\"/>\n       <use x=\"2953.759766\" xlink:href=\"#DejaVuSans-2c\"/>\n       <use x=\"2985.546875\" xlink:href=\"#DejaVuSans-20\"/>\n       <use x=\"3017.333984\" xlink:href=\"#DejaVuSans-62\"/>\n       <use x=\"3080.810547\" xlink:href=\"#DejaVuSans-6f\"/>\n       <use x=\"3141.992188\" xlink:href=\"#DejaVuSans-79\"/>\n       <use x=\"3201.171875\" xlink:href=\"#DejaVuSans-2c\"/>\n       <use x=\"3232.958984\" xlink:href=\"#DejaVuSans-20\"/>\n       <use x=\"3264.746094\" xlink:href=\"#DejaVuSans-66\"/>\n       <use x=\"3299.951172\" xlink:href=\"#DejaVuSans-72\"/>\n       <use x=\"3341.064453\" xlink:href=\"#DejaVuSans-69\"/>\n       <use x=\"3368.847656\" xlink:href=\"#DejaVuSans-65\"/>\n       <use x=\"3430.371094\" xlink:href=\"#DejaVuSans-6e\"/>\n       <use x=\"3493.75\" xlink:href=\"#DejaVuSans-64\"/>\n       <use x=\"3557.226562\" xlink:href=\"#DejaVuSans-73\"/>\n      </g>\n     </g>\n    </g>\n    <g id=\"ytick_3\">\n     <g id=\"line2d_10\">\n      <g>\n       <use style=\"stroke:#000000;stroke-width:0.8;\" x=\"490.39375\" xlink:href=\"#m61dcaee5c8\" y=\"754.65\"/>\n      </g>\n     </g>\n     <g id=\"text_10\">\n      <!-- 23 chariot, men, gods, deathless, deathless gods, bestow, lord, bare, sister, divine -->\n      <g transform=\"translate(70.1375 758.449219)scale(0.1 -0.1)\">\n       <use xlink:href=\"#DejaVuSans-32\"/>\n       <use x=\"63.623047\" xlink:href=\"#DejaVuSans-33\"/>\n       <use x=\"127.246094\" xlink:href=\"#DejaVuSans-20\"/>\n       <use x=\"159.033203\" xlink:href=\"#DejaVuSans-63\"/>\n       <use x=\"214.013672\" xlink:href=\"#DejaVuSans-68\"/>\n       <use x=\"277.392578\" xlink:href=\"#DejaVuSans-61\"/>\n       <use x=\"338.671875\" xlink:href=\"#DejaVuSans-72\"/>\n       <use x=\"379.785156\" xlink:href=\"#DejaVuSans-69\"/>\n       <use x=\"407.568359\" xlink:href=\"#DejaVuSans-6f\"/>\n       <use x=\"468.75\" xlink:href=\"#DejaVuSans-74\"/>\n       <use x=\"507.958984\" xlink:href=\"#DejaVuSans-2c\"/>\n       <use x=\"539.746094\" xlink:href=\"#DejaVuSans-20\"/>\n       <use x=\"571.533203\" xlink:href=\"#DejaVuSans-6d\"/>\n       <use x=\"668.945312\" xlink:href=\"#DejaVuSans-65\"/>\n       <use x=\"730.46875\" xlink:href=\"#DejaVuSans-6e\"/>\n       <use x=\"793.847656\" xlink:href=\"#DejaVuSans-2c\"/>\n       <use x=\"825.634766\" xlink:href=\"#DejaVuSans-20\"/>\n       <use x=\"857.421875\" xlink:href=\"#DejaVuSans-67\"/>\n       <use x=\"920.898438\" xlink:href=\"#DejaVuSans-6f\"/>\n       <use x=\"982.080078\" xlink:href=\"#DejaVuSans-64\"/>\n       <use x=\"1045.556641\" xlink:href=\"#DejaVuSans-73\"/>\n       <use x=\"1097.65625\" xlink:href=\"#DejaVuSans-2c\"/>\n       <use x=\"1129.443359\" xlink:href=\"#DejaVuSans-20\"/>\n       <use x=\"1161.230469\" xlink:href=\"#DejaVuSans-64\"/>\n       <use x=\"1224.707031\" xlink:href=\"#DejaVuSans-65\"/>\n       <use x=\"1286.230469\" xlink:href=\"#DejaVuSans-61\"/>\n       <use x=\"1347.509766\" xlink:href=\"#DejaVuSans-74\"/>\n       <use x=\"1386.71875\" xlink:href=\"#DejaVuSans-68\"/>\n       <use x=\"1450.097656\" xlink:href=\"#DejaVuSans-6c\"/>\n       <use x=\"1477.880859\" xlink:href=\"#DejaVuSans-65\"/>\n       <use x=\"1539.404297\" xlink:href=\"#DejaVuSans-73\"/>\n       <use x=\"1591.503906\" xlink:href=\"#DejaVuSans-73\"/>\n       <use x=\"1643.603516\" xlink:href=\"#DejaVuSans-2c\"/>\n       <use x=\"1675.390625\" xlink:href=\"#DejaVuSans-20\"/>\n       <use x=\"1707.177734\" xlink:href=\"#DejaVuSans-64\"/>\n       <use x=\"1770.654297\" xlink:href=\"#DejaVuSans-65\"/>\n       <use x=\"1832.177734\" xlink:href=\"#DejaVuSans-61\"/>\n       <use x=\"1893.457031\" xlink:href=\"#DejaVuSans-74\"/>\n       <use x=\"1932.666016\" xlink:href=\"#DejaVuSans-68\"/>\n       <use x=\"1996.044922\" xlink:href=\"#DejaVuSans-6c\"/>\n       <use x=\"2023.828125\" xlink:href=\"#DejaVuSans-65\"/>\n       <use x=\"2085.351562\" xlink:href=\"#DejaVuSans-73\"/>\n       <use x=\"2137.451172\" xlink:href=\"#DejaVuSans-73\"/>\n       <use x=\"2189.550781\" xlink:href=\"#DejaVuSans-20\"/>\n       <use x=\"2221.337891\" xlink:href=\"#DejaVuSans-67\"/>\n       <use x=\"2284.814453\" xlink:href=\"#DejaVuSans-6f\"/>\n       <use x=\"2345.996094\" xlink:href=\"#DejaVuSans-64\"/>\n       <use x=\"2409.472656\" xlink:href=\"#DejaVuSans-73\"/>\n       <use x=\"2461.572266\" xlink:href=\"#DejaVuSans-2c\"/>\n       <use x=\"2493.359375\" xlink:href=\"#DejaVuSans-20\"/>\n       <use x=\"2525.146484\" xlink:href=\"#DejaVuSans-62\"/>\n       <use x=\"2588.623047\" xlink:href=\"#DejaVuSans-65\"/>\n       <use x=\"2650.146484\" xlink:href=\"#DejaVuSans-73\"/>\n       <use x=\"2702.246094\" xlink:href=\"#DejaVuSans-74\"/>\n       <use x=\"2741.455078\" xlink:href=\"#DejaVuSans-6f\"/>\n       <use x=\"2802.636719\" xlink:href=\"#DejaVuSans-77\"/>\n       <use x=\"2884.423828\" xlink:href=\"#DejaVuSans-2c\"/>\n       <use x=\"2916.210938\" xlink:href=\"#DejaVuSans-20\"/>\n       <use x=\"2947.998047\" xlink:href=\"#DejaVuSans-6c\"/>\n       <use x=\"2975.78125\" xlink:href=\"#DejaVuSans-6f\"/>\n       <use x=\"3036.962891\" xlink:href=\"#DejaVuSans-72\"/>\n       <use x=\"3076.326172\" xlink:href=\"#DejaVuSans-64\"/>\n       <use x=\"3139.802734\" xlink:href=\"#DejaVuSans-2c\"/>\n       <use x=\"3171.589844\" xlink:href=\"#DejaVuSans-20\"/>\n       <use x=\"3203.376953\" xlink:href=\"#DejaVuSans-62\"/>\n       <use x=\"3266.853516\" xlink:href=\"#DejaVuSans-61\"/>\n       <use x=\"3328.132812\" xlink:href=\"#DejaVuSans-72\"/>\n       <use x=\"3366.996094\" xlink:href=\"#DejaVuSans-65\"/>\n       <use x=\"3428.519531\" xlink:href=\"#DejaVuSans-2c\"/>\n       <use x=\"3460.306641\" xlink:href=\"#DejaVuSans-20\"/>\n       <use x=\"3492.09375\" xlink:href=\"#DejaVuSans-73\"/>\n       <use x=\"3544.193359\" xlink:href=\"#DejaVuSans-69\"/>\n       <use x=\"3571.976562\" xlink:href=\"#DejaVuSans-73\"/>\n       <use x=\"3624.076172\" xlink:href=\"#DejaVuSans-74\"/>\n       <use x=\"3663.285156\" xlink:href=\"#DejaVuSans-65\"/>\n       <use x=\"3724.808594\" xlink:href=\"#DejaVuSans-72\"/>\n       <use x=\"3765.921875\" xlink:href=\"#DejaVuSans-2c\"/>\n       <use x=\"3797.708984\" xlink:href=\"#DejaVuSans-20\"/>\n       <use x=\"3829.496094\" xlink:href=\"#DejaVuSans-64\"/>\n       <use x=\"3892.972656\" xlink:href=\"#DejaVuSans-69\"/>\n       <use x=\"3920.755859\" xlink:href=\"#DejaVuSans-76\"/>\n       <use x=\"3979.935547\" xlink:href=\"#DejaVuSans-69\"/>\n       <use x=\"4007.71875\" xlink:href=\"#DejaVuSans-6e\"/>\n       <use x=\"4071.097656\" xlink:href=\"#DejaVuSans-65\"/>\n      </g>\n     </g>\n    </g>\n    <g id=\"ytick_4\">\n     <g id=\"line2d_11\">\n      <g>\n       <use style=\"stroke:#000000;stroke-width:0.8;\" x=\"490.39375\" xlink:href=\"#m61dcaee5c8\" y=\"727.47\"/>\n      </g>\n     </g>\n     <g id=\"text_11\">\n      <!-- 6 wisdom, words, gods, gods way, happiness, blows, seeing, dealings, words men, great -->\n      <g transform=\"translate(40.85 731.269219)scale(0.1 -0.1)\">\n       <defs>\n        <path d=\"M 2113 2584 \nQ 1688 2584 1439 2293 \nQ 1191 2003 1191 1497 \nQ 1191 994 1439 701 \nQ 1688 409 2113 409 \nQ 2538 409 2786 701 \nQ 3034 994 3034 1497 \nQ 3034 2003 2786 2293 \nQ 2538 2584 2113 2584 \nz\nM 3366 4563 \nL 3366 3988 \nQ 3128 4100 2886 4159 \nQ 2644 4219 2406 4219 \nQ 1781 4219 1451 3797 \nQ 1122 3375 1075 2522 \nQ 1259 2794 1537 2939 \nQ 1816 3084 2150 3084 \nQ 2853 3084 3261 2657 \nQ 3669 2231 3669 1497 \nQ 3669 778 3244 343 \nQ 2819 -91 2113 -91 \nQ 1303 -91 875 529 \nQ 447 1150 447 2328 \nQ 447 3434 972 4092 \nQ 1497 4750 2381 4750 \nQ 2619 4750 2861 4703 \nQ 3103 4656 3366 4563 \nz\n\" id=\"DejaVuSans-36\" transform=\"scale(0.015625)\"/>\n        <path d=\"M 1159 525 \nL 1159 -1331 \nL 581 -1331 \nL 581 3500 \nL 1159 3500 \nL 1159 2969 \nQ 1341 3281 1617 3432 \nQ 1894 3584 2278 3584 \nQ 2916 3584 3314 3078 \nQ 3713 2572 3713 1747 \nQ 3713 922 3314 415 \nQ 2916 -91 2278 -91 \nQ 1894 -91 1617 61 \nQ 1341 213 1159 525 \nz\nM 3116 1747 \nQ 3116 2381 2855 2742 \nQ 2594 3103 2138 3103 \nQ 1681 3103 1420 2742 \nQ 1159 2381 1159 1747 \nQ 1159 1113 1420 752 \nQ 1681 391 2138 391 \nQ 2594 391 2855 752 \nQ 3116 1113 3116 1747 \nz\n\" id=\"DejaVuSans-70\" transform=\"scale(0.015625)\"/>\n       </defs>\n       <use xlink:href=\"#DejaVuSans-36\"/>\n       <use x=\"63.623047\" xlink:href=\"#DejaVuSans-20\"/>\n       <use x=\"95.410156\" xlink:href=\"#DejaVuSans-77\"/>\n       <use x=\"177.197266\" xlink:href=\"#DejaVuSans-69\"/>\n       <use x=\"204.980469\" xlink:href=\"#DejaVuSans-73\"/>\n       <use x=\"257.080078\" xlink:href=\"#DejaVuSans-64\"/>\n       <use x=\"320.556641\" xlink:href=\"#DejaVuSans-6f\"/>\n       <use x=\"381.738281\" xlink:href=\"#DejaVuSans-6d\"/>\n       <use x=\"479.150391\" xlink:href=\"#DejaVuSans-2c\"/>\n       <use x=\"510.9375\" xlink:href=\"#DejaVuSans-20\"/>\n       <use x=\"542.724609\" xlink:href=\"#DejaVuSans-77\"/>\n       <use x=\"624.511719\" xlink:href=\"#DejaVuSans-6f\"/>\n       <use x=\"685.693359\" xlink:href=\"#DejaVuSans-72\"/>\n       <use x=\"725.056641\" xlink:href=\"#DejaVuSans-64\"/>\n       <use x=\"788.533203\" xlink:href=\"#DejaVuSans-73\"/>\n       <use x=\"840.632812\" xlink:href=\"#DejaVuSans-2c\"/>\n       <use x=\"872.419922\" xlink:href=\"#DejaVuSans-20\"/>\n       <use x=\"904.207031\" xlink:href=\"#DejaVuSans-67\"/>\n       <use x=\"967.683594\" xlink:href=\"#DejaVuSans-6f\"/>\n       <use x=\"1028.865234\" xlink:href=\"#DejaVuSans-64\"/>\n       <use x=\"1092.341797\" xlink:href=\"#DejaVuSans-73\"/>\n       <use x=\"1144.441406\" xlink:href=\"#DejaVuSans-2c\"/>\n       <use x=\"1176.228516\" xlink:href=\"#DejaVuSans-20\"/>\n       <use x=\"1208.015625\" xlink:href=\"#DejaVuSans-67\"/>\n       <use x=\"1271.492188\" xlink:href=\"#DejaVuSans-6f\"/>\n       <use x=\"1332.673828\" xlink:href=\"#DejaVuSans-64\"/>\n       <use x=\"1396.150391\" xlink:href=\"#DejaVuSans-73\"/>\n       <use x=\"1448.25\" xlink:href=\"#DejaVuSans-20\"/>\n       <use x=\"1480.037109\" xlink:href=\"#DejaVuSans-77\"/>\n       <use x=\"1561.824219\" xlink:href=\"#DejaVuSans-61\"/>\n       <use x=\"1623.103516\" xlink:href=\"#DejaVuSans-79\"/>\n       <use x=\"1682.283203\" xlink:href=\"#DejaVuSans-2c\"/>\n       <use x=\"1714.070312\" xlink:href=\"#DejaVuSans-20\"/>\n       <use x=\"1745.857422\" xlink:href=\"#DejaVuSans-68\"/>\n       <use x=\"1809.236328\" xlink:href=\"#DejaVuSans-61\"/>\n       <use x=\"1870.515625\" xlink:href=\"#DejaVuSans-70\"/>\n       <use x=\"1933.992188\" xlink:href=\"#DejaVuSans-70\"/>\n       <use x=\"1997.46875\" xlink:href=\"#DejaVuSans-69\"/>\n       <use x=\"2025.251953\" xlink:href=\"#DejaVuSans-6e\"/>\n       <use x=\"2088.630859\" xlink:href=\"#DejaVuSans-65\"/>\n       <use x=\"2150.154297\" xlink:href=\"#DejaVuSans-73\"/>\n       <use x=\"2202.253906\" xlink:href=\"#DejaVuSans-73\"/>\n       <use x=\"2254.353516\" xlink:href=\"#DejaVuSans-2c\"/>\n       <use x=\"2286.140625\" xlink:href=\"#DejaVuSans-20\"/>\n       <use x=\"2317.927734\" xlink:href=\"#DejaVuSans-62\"/>\n       <use x=\"2381.404297\" xlink:href=\"#DejaVuSans-6c\"/>\n       <use x=\"2409.1875\" xlink:href=\"#DejaVuSans-6f\"/>\n       <use x=\"2470.369141\" xlink:href=\"#DejaVuSans-77\"/>\n       <use x=\"2552.15625\" xlink:href=\"#DejaVuSans-73\"/>\n       <use x=\"2604.255859\" xlink:href=\"#DejaVuSans-2c\"/>\n       <use x=\"2636.042969\" xlink:href=\"#DejaVuSans-20\"/>\n       <use x=\"2667.830078\" xlink:href=\"#DejaVuSans-73\"/>\n       <use x=\"2719.929688\" xlink:href=\"#DejaVuSans-65\"/>\n       <use x=\"2781.453125\" xlink:href=\"#DejaVuSans-65\"/>\n       <use x=\"2842.976562\" xlink:href=\"#DejaVuSans-69\"/>\n       <use x=\"2870.759766\" xlink:href=\"#DejaVuSans-6e\"/>\n       <use x=\"2934.138672\" xlink:href=\"#DejaVuSans-67\"/>\n       <use x=\"2997.615234\" xlink:href=\"#DejaVuSans-2c\"/>\n       <use x=\"3029.402344\" xlink:href=\"#DejaVuSans-20\"/>\n       <use x=\"3061.189453\" xlink:href=\"#DejaVuSans-64\"/>\n       <use x=\"3124.666016\" xlink:href=\"#DejaVuSans-65\"/>\n       <use x=\"3186.189453\" xlink:href=\"#DejaVuSans-61\"/>\n       <use x=\"3247.46875\" xlink:href=\"#DejaVuSans-6c\"/>\n       <use x=\"3275.251953\" xlink:href=\"#DejaVuSans-69\"/>\n       <use x=\"3303.035156\" xlink:href=\"#DejaVuSans-6e\"/>\n       <use x=\"3366.414062\" xlink:href=\"#DejaVuSans-67\"/>\n       <use x=\"3429.890625\" xlink:href=\"#DejaVuSans-73\"/>\n       <use x=\"3481.990234\" xlink:href=\"#DejaVuSans-2c\"/>\n       <use x=\"3513.777344\" xlink:href=\"#DejaVuSans-20\"/>\n       <use x=\"3545.564453\" xlink:href=\"#DejaVuSans-77\"/>\n       <use x=\"3627.351562\" xlink:href=\"#DejaVuSans-6f\"/>\n       <use x=\"3688.533203\" xlink:href=\"#DejaVuSans-72\"/>\n       <use x=\"3727.896484\" xlink:href=\"#DejaVuSans-64\"/>\n       <use x=\"3791.373047\" xlink:href=\"#DejaVuSans-73\"/>\n       <use x=\"3843.472656\" xlink:href=\"#DejaVuSans-20\"/>\n       <use x=\"3875.259766\" xlink:href=\"#DejaVuSans-6d\"/>\n       <use x=\"3972.671875\" xlink:href=\"#DejaVuSans-65\"/>\n       <use x=\"4034.195312\" xlink:href=\"#DejaVuSans-6e\"/>\n       <use x=\"4097.574219\" xlink:href=\"#DejaVuSans-2c\"/>\n       <use x=\"4129.361328\" xlink:href=\"#DejaVuSans-20\"/>\n       <use x=\"4161.148438\" xlink:href=\"#DejaVuSans-67\"/>\n       <use x=\"4224.625\" xlink:href=\"#DejaVuSans-72\"/>\n       <use x=\"4263.488281\" xlink:href=\"#DejaVuSans-65\"/>\n       <use x=\"4325.011719\" xlink:href=\"#DejaVuSans-61\"/>\n       <use x=\"4386.291016\" xlink:href=\"#DejaVuSans-74\"/>\n      </g>\n     </g>\n    </g>\n    <g id=\"ytick_5\">\n     <g id=\"line2d_12\">\n      <g>\n       <use style=\"stroke:#000000;stroke-width:0.8;\" x=\"490.39375\" xlink:href=\"#m61dcaee5c8\" y=\"700.29\"/>\n      </g>\n     </g>\n     <g id=\"text_12\">\n      <!-- 27 men, man, house, home, life, sons, gods, large, child, news -->\n      <g transform=\"translate(170.248437 704.089219)scale(0.1 -0.1)\">\n       <defs>\n        <path d=\"M 525 4666 \nL 3525 4666 \nL 3525 4397 \nL 1831 0 \nL 1172 0 \nL 2766 4134 \nL 525 4134 \nL 525 4666 \nz\n\" id=\"DejaVuSans-37\" transform=\"scale(0.015625)\"/>\n       </defs>\n       <use xlink:href=\"#DejaVuSans-32\"/>\n       <use x=\"63.623047\" xlink:href=\"#DejaVuSans-37\"/>\n       <use x=\"127.246094\" xlink:href=\"#DejaVuSans-20\"/>\n       <use x=\"159.033203\" xlink:href=\"#DejaVuSans-6d\"/>\n       <use x=\"256.445312\" xlink:href=\"#DejaVuSans-65\"/>\n       <use x=\"317.96875\" xlink:href=\"#DejaVuSans-6e\"/>\n       <use x=\"381.347656\" xlink:href=\"#DejaVuSans-2c\"/>\n       <use x=\"413.134766\" xlink:href=\"#DejaVuSans-20\"/>\n       <use x=\"444.921875\" xlink:href=\"#DejaVuSans-6d\"/>\n       <use x=\"542.333984\" xlink:href=\"#DejaVuSans-61\"/>\n       <use x=\"603.613281\" xlink:href=\"#DejaVuSans-6e\"/>\n       <use x=\"666.992188\" xlink:href=\"#DejaVuSans-2c\"/>\n       <use x=\"698.779297\" xlink:href=\"#DejaVuSans-20\"/>\n       <use x=\"730.566406\" xlink:href=\"#DejaVuSans-68\"/>\n       <use x=\"793.945312\" xlink:href=\"#DejaVuSans-6f\"/>\n       <use x=\"855.126953\" xlink:href=\"#DejaVuSans-75\"/>\n       <use x=\"918.505859\" xlink:href=\"#DejaVuSans-73\"/>\n       <use x=\"970.605469\" xlink:href=\"#DejaVuSans-65\"/>\n       <use x=\"1032.128906\" xlink:href=\"#DejaVuSans-2c\"/>\n       <use x=\"1063.916016\" xlink:href=\"#DejaVuSans-20\"/>\n       <use x=\"1095.703125\" xlink:href=\"#DejaVuSans-68\"/>\n       <use x=\"1159.082031\" xlink:href=\"#DejaVuSans-6f\"/>\n       <use x=\"1220.263672\" xlink:href=\"#DejaVuSans-6d\"/>\n       <use x=\"1317.675781\" xlink:href=\"#DejaVuSans-65\"/>\n       <use x=\"1379.199219\" xlink:href=\"#DejaVuSans-2c\"/>\n       <use x=\"1410.986328\" xlink:href=\"#DejaVuSans-20\"/>\n       <use x=\"1442.773438\" xlink:href=\"#DejaVuSans-6c\"/>\n       <use x=\"1470.556641\" xlink:href=\"#DejaVuSans-69\"/>\n       <use x=\"1498.339844\" xlink:href=\"#DejaVuSans-66\"/>\n       <use x=\"1533.544922\" xlink:href=\"#DejaVuSans-65\"/>\n       <use x=\"1595.068359\" xlink:href=\"#DejaVuSans-2c\"/>\n       <use x=\"1626.855469\" xlink:href=\"#DejaVuSans-20\"/>\n       <use x=\"1658.642578\" xlink:href=\"#DejaVuSans-73\"/>\n       <use x=\"1710.742188\" xlink:href=\"#DejaVuSans-6f\"/>\n       <use x=\"1771.923828\" xlink:href=\"#DejaVuSans-6e\"/>\n       <use x=\"1835.302734\" xlink:href=\"#DejaVuSans-73\"/>\n       <use x=\"1887.402344\" xlink:href=\"#DejaVuSans-2c\"/>\n       <use x=\"1919.189453\" xlink:href=\"#DejaVuSans-20\"/>\n       <use x=\"1950.976562\" xlink:href=\"#DejaVuSans-67\"/>\n       <use x=\"2014.453125\" xlink:href=\"#DejaVuSans-6f\"/>\n       <use x=\"2075.634766\" xlink:href=\"#DejaVuSans-64\"/>\n       <use x=\"2139.111328\" xlink:href=\"#DejaVuSans-73\"/>\n       <use x=\"2191.210938\" xlink:href=\"#DejaVuSans-2c\"/>\n       <use x=\"2222.998047\" xlink:href=\"#DejaVuSans-20\"/>\n       <use x=\"2254.785156\" xlink:href=\"#DejaVuSans-6c\"/>\n       <use x=\"2282.568359\" xlink:href=\"#DejaVuSans-61\"/>\n       <use x=\"2343.847656\" xlink:href=\"#DejaVuSans-72\"/>\n       <use x=\"2383.210938\" xlink:href=\"#DejaVuSans-67\"/>\n       <use x=\"2446.6875\" xlink:href=\"#DejaVuSans-65\"/>\n       <use x=\"2508.210938\" xlink:href=\"#DejaVuSans-2c\"/>\n       <use x=\"2539.998047\" xlink:href=\"#DejaVuSans-20\"/>\n       <use x=\"2571.785156\" xlink:href=\"#DejaVuSans-63\"/>\n       <use x=\"2626.765625\" xlink:href=\"#DejaVuSans-68\"/>\n       <use x=\"2690.144531\" xlink:href=\"#DejaVuSans-69\"/>\n       <use x=\"2717.927734\" xlink:href=\"#DejaVuSans-6c\"/>\n       <use x=\"2745.710938\" xlink:href=\"#DejaVuSans-64\"/>\n       <use x=\"2809.1875\" xlink:href=\"#DejaVuSans-2c\"/>\n       <use x=\"2840.974609\" xlink:href=\"#DejaVuSans-20\"/>\n       <use x=\"2872.761719\" xlink:href=\"#DejaVuSans-6e\"/>\n       <use x=\"2936.140625\" xlink:href=\"#DejaVuSans-65\"/>\n       <use x=\"2997.664062\" xlink:href=\"#DejaVuSans-77\"/>\n       <use x=\"3079.451172\" xlink:href=\"#DejaVuSans-73\"/>\n      </g>\n     </g>\n    </g>\n    <g id=\"ytick_6\">\n     <g id=\"line2d_13\">\n      <g>\n       <use style=\"stroke:#000000;stroke-width:0.8;\" x=\"490.39375\" xlink:href=\"#m61dcaee5c8\" y=\"673.11\"/>\n      </g>\n     </g>\n     <g id=\"text_13\">\n      <!-- 17 prometheus, sufferings, sovereignty, end, affliction, plight, heart, friends, spectacle, seat -->\n      <g transform=\"translate(20.878125 676.909219)scale(0.1 -0.1)\">\n       <use xlink:href=\"#DejaVuSans-31\"/>\n       <use x=\"63.623047\" xlink:href=\"#DejaVuSans-37\"/>\n       <use x=\"127.246094\" xlink:href=\"#DejaVuSans-20\"/>\n       <use x=\"159.033203\" xlink:href=\"#DejaVuSans-70\"/>\n       <use x=\"222.509766\" xlink:href=\"#DejaVuSans-72\"/>\n       <use x=\"261.373047\" xlink:href=\"#DejaVuSans-6f\"/>\n       <use x=\"322.554688\" xlink:href=\"#DejaVuSans-6d\"/>\n       <use x=\"419.966797\" xlink:href=\"#DejaVuSans-65\"/>\n       <use x=\"481.490234\" xlink:href=\"#DejaVuSans-74\"/>\n       <use x=\"520.699219\" xlink:href=\"#DejaVuSans-68\"/>\n       <use x=\"584.078125\" xlink:href=\"#DejaVuSans-65\"/>\n       <use x=\"645.601562\" xlink:href=\"#DejaVuSans-75\"/>\n       <use x=\"708.980469\" xlink:href=\"#DejaVuSans-73\"/>\n       <use x=\"761.080078\" xlink:href=\"#DejaVuSans-2c\"/>\n       <use x=\"792.867188\" xlink:href=\"#DejaVuSans-20\"/>\n       <use x=\"824.654297\" xlink:href=\"#DejaVuSans-73\"/>\n       <use x=\"876.753906\" xlink:href=\"#DejaVuSans-75\"/>\n       <use x=\"940.132812\" xlink:href=\"#DejaVuSans-66\"/>\n       <use x=\"975.337891\" xlink:href=\"#DejaVuSans-66\"/>\n       <use x=\"1010.542969\" xlink:href=\"#DejaVuSans-65\"/>\n       <use x=\"1072.066406\" xlink:href=\"#DejaVuSans-72\"/>\n       <use x=\"1113.179688\" xlink:href=\"#DejaVuSans-69\"/>\n       <use x=\"1140.962891\" xlink:href=\"#DejaVuSans-6e\"/>\n       <use x=\"1204.341797\" xlink:href=\"#DejaVuSans-67\"/>\n       <use x=\"1267.818359\" xlink:href=\"#DejaVuSans-73\"/>\n       <use x=\"1319.917969\" xlink:href=\"#DejaVuSans-2c\"/>\n       <use x=\"1351.705078\" xlink:href=\"#DejaVuSans-20\"/>\n       <use x=\"1383.492188\" xlink:href=\"#DejaVuSans-73\"/>\n       <use x=\"1435.591797\" xlink:href=\"#DejaVuSans-6f\"/>\n       <use x=\"1496.773438\" xlink:href=\"#DejaVuSans-76\"/>\n       <use x=\"1555.953125\" xlink:href=\"#DejaVuSans-65\"/>\n       <use x=\"1617.476562\" xlink:href=\"#DejaVuSans-72\"/>\n       <use x=\"1656.339844\" xlink:href=\"#DejaVuSans-65\"/>\n       <use x=\"1717.863281\" xlink:href=\"#DejaVuSans-69\"/>\n       <use x=\"1745.646484\" xlink:href=\"#DejaVuSans-67\"/>\n       <use x=\"1809.123047\" xlink:href=\"#DejaVuSans-6e\"/>\n       <use x=\"1872.501953\" xlink:href=\"#DejaVuSans-74\"/>\n       <use x=\"1911.710938\" xlink:href=\"#DejaVuSans-79\"/>\n       <use x=\"1970.890625\" xlink:href=\"#DejaVuSans-2c\"/>\n       <use x=\"2002.677734\" xlink:href=\"#DejaVuSans-20\"/>\n       <use x=\"2034.464844\" xlink:href=\"#DejaVuSans-65\"/>\n       <use x=\"2095.988281\" xlink:href=\"#DejaVuSans-6e\"/>\n       <use x=\"2159.367188\" xlink:href=\"#DejaVuSans-64\"/>\n       <use x=\"2222.84375\" xlink:href=\"#DejaVuSans-2c\"/>\n       <use x=\"2254.630859\" xlink:href=\"#DejaVuSans-20\"/>\n       <use x=\"2286.417969\" xlink:href=\"#DejaVuSans-61\"/>\n       <use x=\"2347.697266\" xlink:href=\"#DejaVuSans-66\"/>\n       <use x=\"2382.902344\" xlink:href=\"#DejaVuSans-66\"/>\n       <use x=\"2418.107422\" xlink:href=\"#DejaVuSans-6c\"/>\n       <use x=\"2445.890625\" xlink:href=\"#DejaVuSans-69\"/>\n       <use x=\"2473.673828\" xlink:href=\"#DejaVuSans-63\"/>\n       <use x=\"2528.654297\" xlink:href=\"#DejaVuSans-74\"/>\n       <use x=\"2567.863281\" xlink:href=\"#DejaVuSans-69\"/>\n       <use x=\"2595.646484\" xlink:href=\"#DejaVuSans-6f\"/>\n       <use x=\"2656.828125\" xlink:href=\"#DejaVuSans-6e\"/>\n       <use x=\"2720.207031\" xlink:href=\"#DejaVuSans-2c\"/>\n       <use x=\"2751.994141\" xlink:href=\"#DejaVuSans-20\"/>\n       <use x=\"2783.78125\" xlink:href=\"#DejaVuSans-70\"/>\n       <use x=\"2847.257812\" xlink:href=\"#DejaVuSans-6c\"/>\n       <use x=\"2875.041016\" xlink:href=\"#DejaVuSans-69\"/>\n       <use x=\"2902.824219\" xlink:href=\"#DejaVuSans-67\"/>\n       <use x=\"2966.300781\" xlink:href=\"#DejaVuSans-68\"/>\n       <use x=\"3029.679688\" xlink:href=\"#DejaVuSans-74\"/>\n       <use x=\"3068.888672\" xlink:href=\"#DejaVuSans-2c\"/>\n       <use x=\"3100.675781\" xlink:href=\"#DejaVuSans-20\"/>\n       <use x=\"3132.462891\" xlink:href=\"#DejaVuSans-68\"/>\n       <use x=\"3195.841797\" xlink:href=\"#DejaVuSans-65\"/>\n       <use x=\"3257.365234\" xlink:href=\"#DejaVuSans-61\"/>\n       <use x=\"3318.644531\" xlink:href=\"#DejaVuSans-72\"/>\n       <use x=\"3359.757812\" xlink:href=\"#DejaVuSans-74\"/>\n       <use x=\"3398.966797\" xlink:href=\"#DejaVuSans-2c\"/>\n       <use x=\"3430.753906\" xlink:href=\"#DejaVuSans-20\"/>\n       <use x=\"3462.541016\" xlink:href=\"#DejaVuSans-66\"/>\n       <use x=\"3497.746094\" xlink:href=\"#DejaVuSans-72\"/>\n       <use x=\"3538.859375\" xlink:href=\"#DejaVuSans-69\"/>\n       <use x=\"3566.642578\" xlink:href=\"#DejaVuSans-65\"/>\n       <use x=\"3628.166016\" xlink:href=\"#DejaVuSans-6e\"/>\n       <use x=\"3691.544922\" xlink:href=\"#DejaVuSans-64\"/>\n       <use x=\"3755.021484\" xlink:href=\"#DejaVuSans-73\"/>\n       <use x=\"3807.121094\" xlink:href=\"#DejaVuSans-2c\"/>\n       <use x=\"3838.908203\" xlink:href=\"#DejaVuSans-20\"/>\n       <use x=\"3870.695312\" xlink:href=\"#DejaVuSans-73\"/>\n       <use x=\"3922.794922\" xlink:href=\"#DejaVuSans-70\"/>\n       <use x=\"3986.271484\" xlink:href=\"#DejaVuSans-65\"/>\n       <use x=\"4047.794922\" xlink:href=\"#DejaVuSans-63\"/>\n       <use x=\"4102.775391\" xlink:href=\"#DejaVuSans-74\"/>\n       <use x=\"4141.984375\" xlink:href=\"#DejaVuSans-61\"/>\n       <use x=\"4203.263672\" xlink:href=\"#DejaVuSans-63\"/>\n       <use x=\"4258.244141\" xlink:href=\"#DejaVuSans-6c\"/>\n       <use x=\"4286.027344\" xlink:href=\"#DejaVuSans-65\"/>\n       <use x=\"4347.550781\" xlink:href=\"#DejaVuSans-2c\"/>\n       <use x=\"4379.337891\" xlink:href=\"#DejaVuSans-20\"/>\n       <use x=\"4411.125\" xlink:href=\"#DejaVuSans-73\"/>\n       <use x=\"4463.224609\" xlink:href=\"#DejaVuSans-65\"/>\n       <use x=\"4524.748047\" xlink:href=\"#DejaVuSans-61\"/>\n       <use x=\"4586.027344\" xlink:href=\"#DejaVuSans-74\"/>\n      </g>\n     </g>\n    </g>\n    <g id=\"ytick_7\">\n     <g id=\"line2d_14\">\n      <g>\n       <use style=\"stroke:#000000;stroke-width:0.8;\" x=\"490.39375\" xlink:href=\"#m61dcaee5c8\" y=\"645.93\"/>\n      </g>\n     </g>\n     <g id=\"text_14\">\n      <!-- 26 ship, comrades, kine, gods, mast, men, island, things, voice, sea -->\n      <g transform=\"translate(143.520312 649.729219)scale(0.1 -0.1)\">\n       <defs>\n        <path d=\"M 581 4863 \nL 1159 4863 \nL 1159 1991 \nL 2875 3500 \nL 3609 3500 \nL 1753 1863 \nL 3688 0 \nL 2938 0 \nL 1159 1709 \nL 1159 0 \nL 581 0 \nL 581 4863 \nz\n\" id=\"DejaVuSans-6b\" transform=\"scale(0.015625)\"/>\n       </defs>\n       <use xlink:href=\"#DejaVuSans-32\"/>\n       <use x=\"63.623047\" xlink:href=\"#DejaVuSans-36\"/>\n       <use x=\"127.246094\" xlink:href=\"#DejaVuSans-20\"/>\n       <use x=\"159.033203\" xlink:href=\"#DejaVuSans-73\"/>\n       <use x=\"211.132812\" xlink:href=\"#DejaVuSans-68\"/>\n       <use x=\"274.511719\" xlink:href=\"#DejaVuSans-69\"/>\n       <use x=\"302.294922\" xlink:href=\"#DejaVuSans-70\"/>\n       <use x=\"365.771484\" xlink:href=\"#DejaVuSans-2c\"/>\n       <use x=\"397.558594\" xlink:href=\"#DejaVuSans-20\"/>\n       <use x=\"429.345703\" xlink:href=\"#DejaVuSans-63\"/>\n       <use x=\"484.326172\" xlink:href=\"#DejaVuSans-6f\"/>\n       <use x=\"545.507812\" xlink:href=\"#DejaVuSans-6d\"/>\n       <use x=\"642.919922\" xlink:href=\"#DejaVuSans-72\"/>\n       <use x=\"684.033203\" xlink:href=\"#DejaVuSans-61\"/>\n       <use x=\"745.3125\" xlink:href=\"#DejaVuSans-64\"/>\n       <use x=\"808.789062\" xlink:href=\"#DejaVuSans-65\"/>\n       <use x=\"870.3125\" xlink:href=\"#DejaVuSans-73\"/>\n       <use x=\"922.412109\" xlink:href=\"#DejaVuSans-2c\"/>\n       <use x=\"954.199219\" xlink:href=\"#DejaVuSans-20\"/>\n       <use x=\"985.986328\" xlink:href=\"#DejaVuSans-6b\"/>\n       <use x=\"1043.896484\" xlink:href=\"#DejaVuSans-69\"/>\n       <use x=\"1071.679688\" xlink:href=\"#DejaVuSans-6e\"/>\n       <use x=\"1135.058594\" xlink:href=\"#DejaVuSans-65\"/>\n       <use x=\"1196.582031\" xlink:href=\"#DejaVuSans-2c\"/>\n       <use x=\"1228.369141\" xlink:href=\"#DejaVuSans-20\"/>\n       <use x=\"1260.15625\" xlink:href=\"#DejaVuSans-67\"/>\n       <use x=\"1323.632812\" xlink:href=\"#DejaVuSans-6f\"/>\n       <use x=\"1384.814453\" xlink:href=\"#DejaVuSans-64\"/>\n       <use x=\"1448.291016\" xlink:href=\"#DejaVuSans-73\"/>\n       <use x=\"1500.390625\" xlink:href=\"#DejaVuSans-2c\"/>\n       <use x=\"1532.177734\" xlink:href=\"#DejaVuSans-20\"/>\n       <use x=\"1563.964844\" xlink:href=\"#DejaVuSans-6d\"/>\n       <use x=\"1661.376953\" xlink:href=\"#DejaVuSans-61\"/>\n       <use x=\"1722.65625\" xlink:href=\"#DejaVuSans-73\"/>\n       <use x=\"1774.755859\" xlink:href=\"#DejaVuSans-74\"/>\n       <use x=\"1813.964844\" xlink:href=\"#DejaVuSans-2c\"/>\n       <use x=\"1845.751953\" xlink:href=\"#DejaVuSans-20\"/>\n       <use x=\"1877.539062\" xlink:href=\"#DejaVuSans-6d\"/>\n       <use x=\"1974.951172\" xlink:href=\"#DejaVuSans-65\"/>\n       <use x=\"2036.474609\" xlink:href=\"#DejaVuSans-6e\"/>\n       <use x=\"2099.853516\" xlink:href=\"#DejaVuSans-2c\"/>\n       <use x=\"2131.640625\" xlink:href=\"#DejaVuSans-20\"/>\n       <use x=\"2163.427734\" xlink:href=\"#DejaVuSans-69\"/>\n       <use x=\"2191.210938\" xlink:href=\"#DejaVuSans-73\"/>\n       <use x=\"2243.310547\" xlink:href=\"#DejaVuSans-6c\"/>\n       <use x=\"2271.09375\" xlink:href=\"#DejaVuSans-61\"/>\n       <use x=\"2332.373047\" xlink:href=\"#DejaVuSans-6e\"/>\n       <use x=\"2395.751953\" xlink:href=\"#DejaVuSans-64\"/>\n       <use x=\"2459.228516\" xlink:href=\"#DejaVuSans-2c\"/>\n       <use x=\"2491.015625\" xlink:href=\"#DejaVuSans-20\"/>\n       <use x=\"2522.802734\" xlink:href=\"#DejaVuSans-74\"/>\n       <use x=\"2562.011719\" xlink:href=\"#DejaVuSans-68\"/>\n       <use x=\"2625.390625\" xlink:href=\"#DejaVuSans-69\"/>\n       <use x=\"2653.173828\" xlink:href=\"#DejaVuSans-6e\"/>\n       <use x=\"2716.552734\" xlink:href=\"#DejaVuSans-67\"/>\n       <use x=\"2780.029297\" xlink:href=\"#DejaVuSans-73\"/>\n       <use x=\"2832.128906\" xlink:href=\"#DejaVuSans-2c\"/>\n       <use x=\"2863.916016\" xlink:href=\"#DejaVuSans-20\"/>\n       <use x=\"2895.703125\" xlink:href=\"#DejaVuSans-76\"/>\n       <use x=\"2954.882812\" xlink:href=\"#DejaVuSans-6f\"/>\n       <use x=\"3016.064453\" xlink:href=\"#DejaVuSans-69\"/>\n       <use x=\"3043.847656\" xlink:href=\"#DejaVuSans-63\"/>\n       <use x=\"3098.828125\" xlink:href=\"#DejaVuSans-65\"/>\n       <use x=\"3160.351562\" xlink:href=\"#DejaVuSans-2c\"/>\n       <use x=\"3192.138672\" xlink:href=\"#DejaVuSans-20\"/>\n       <use x=\"3223.925781\" xlink:href=\"#DejaVuSans-73\"/>\n       <use x=\"3276.025391\" xlink:href=\"#DejaVuSans-65\"/>\n       <use x=\"3337.548828\" xlink:href=\"#DejaVuSans-61\"/>\n      </g>\n     </g>\n    </g>\n    <g id=\"ytick_8\">\n     <g id=\"line2d_15\">\n      <g>\n       <use style=\"stroke:#000000;stroke-width:0.8;\" x=\"490.39375\" xlink:href=\"#m61dcaee5c8\" y=\"618.75\"/>\n      </g>\n     </g>\n     <g id=\"text_15\">\n      <!-- 2 land, god, man, children, city, lord, things, suppliants, creon, people -->\n      <g transform=\"translate(132.398437 622.549219)scale(0.1 -0.1)\">\n       <use xlink:href=\"#DejaVuSans-32\"/>\n       <use x=\"63.623047\" xlink:href=\"#DejaVuSans-20\"/>\n       <use x=\"95.410156\" xlink:href=\"#DejaVuSans-6c\"/>\n       <use x=\"123.193359\" xlink:href=\"#DejaVuSans-61\"/>\n       <use x=\"184.472656\" xlink:href=\"#DejaVuSans-6e\"/>\n       <use x=\"247.851562\" xlink:href=\"#DejaVuSans-64\"/>\n       <use x=\"311.328125\" xlink:href=\"#DejaVuSans-2c\"/>\n       <use x=\"343.115234\" xlink:href=\"#DejaVuSans-20\"/>\n       <use x=\"374.902344\" xlink:href=\"#DejaVuSans-67\"/>\n       <use x=\"438.378906\" xlink:href=\"#DejaVuSans-6f\"/>\n       <use x=\"499.560547\" xlink:href=\"#DejaVuSans-64\"/>\n       <use x=\"563.037109\" xlink:href=\"#DejaVuSans-2c\"/>\n       <use x=\"594.824219\" xlink:href=\"#DejaVuSans-20\"/>\n       <use x=\"626.611328\" xlink:href=\"#DejaVuSans-6d\"/>\n       <use x=\"724.023438\" xlink:href=\"#DejaVuSans-61\"/>\n       <use x=\"785.302734\" xlink:href=\"#DejaVuSans-6e\"/>\n       <use x=\"848.681641\" xlink:href=\"#DejaVuSans-2c\"/>\n       <use x=\"880.46875\" xlink:href=\"#DejaVuSans-20\"/>\n       <use x=\"912.255859\" xlink:href=\"#DejaVuSans-63\"/>\n       <use x=\"967.236328\" xlink:href=\"#DejaVuSans-68\"/>\n       <use x=\"1030.615234\" xlink:href=\"#DejaVuSans-69\"/>\n       <use x=\"1058.398438\" xlink:href=\"#DejaVuSans-6c\"/>\n       <use x=\"1086.181641\" xlink:href=\"#DejaVuSans-64\"/>\n       <use x=\"1149.658203\" xlink:href=\"#DejaVuSans-72\"/>\n       <use x=\"1188.521484\" xlink:href=\"#DejaVuSans-65\"/>\n       <use x=\"1250.044922\" xlink:href=\"#DejaVuSans-6e\"/>\n       <use x=\"1313.423828\" xlink:href=\"#DejaVuSans-2c\"/>\n       <use x=\"1345.210938\" xlink:href=\"#DejaVuSans-20\"/>\n       <use x=\"1376.998047\" xlink:href=\"#DejaVuSans-63\"/>\n       <use x=\"1431.978516\" xlink:href=\"#DejaVuSans-69\"/>\n       <use x=\"1459.761719\" xlink:href=\"#DejaVuSans-74\"/>\n       <use x=\"1498.970703\" xlink:href=\"#DejaVuSans-79\"/>\n       <use x=\"1558.150391\" xlink:href=\"#DejaVuSans-2c\"/>\n       <use x=\"1589.9375\" xlink:href=\"#DejaVuSans-20\"/>\n       <use x=\"1621.724609\" xlink:href=\"#DejaVuSans-6c\"/>\n       <use x=\"1649.507812\" xlink:href=\"#DejaVuSans-6f\"/>\n       <use x=\"1710.689453\" xlink:href=\"#DejaVuSans-72\"/>\n       <use x=\"1750.052734\" xlink:href=\"#DejaVuSans-64\"/>\n       <use x=\"1813.529297\" xlink:href=\"#DejaVuSans-2c\"/>\n       <use x=\"1845.316406\" xlink:href=\"#DejaVuSans-20\"/>\n       <use x=\"1877.103516\" xlink:href=\"#DejaVuSans-74\"/>\n       <use x=\"1916.3125\" xlink:href=\"#DejaVuSans-68\"/>\n       <use x=\"1979.691406\" xlink:href=\"#DejaVuSans-69\"/>\n       <use x=\"2007.474609\" xlink:href=\"#DejaVuSans-6e\"/>\n       <use x=\"2070.853516\" xlink:href=\"#DejaVuSans-67\"/>\n       <use x=\"2134.330078\" xlink:href=\"#DejaVuSans-73\"/>\n       <use x=\"2186.429688\" xlink:href=\"#DejaVuSans-2c\"/>\n       <use x=\"2218.216797\" xlink:href=\"#DejaVuSans-20\"/>\n       <use x=\"2250.003906\" xlink:href=\"#DejaVuSans-73\"/>\n       <use x=\"2302.103516\" xlink:href=\"#DejaVuSans-75\"/>\n       <use x=\"2365.482422\" xlink:href=\"#DejaVuSans-70\"/>\n       <use x=\"2428.958984\" xlink:href=\"#DejaVuSans-70\"/>\n       <use x=\"2492.435547\" xlink:href=\"#DejaVuSans-6c\"/>\n       <use x=\"2520.21875\" xlink:href=\"#DejaVuSans-69\"/>\n       <use x=\"2548.001953\" xlink:href=\"#DejaVuSans-61\"/>\n       <use x=\"2609.28125\" xlink:href=\"#DejaVuSans-6e\"/>\n       <use x=\"2672.660156\" xlink:href=\"#DejaVuSans-74\"/>\n       <use x=\"2711.869141\" xlink:href=\"#DejaVuSans-73\"/>\n       <use x=\"2763.96875\" xlink:href=\"#DejaVuSans-2c\"/>\n       <use x=\"2795.755859\" xlink:href=\"#DejaVuSans-20\"/>\n       <use x=\"2827.542969\" xlink:href=\"#DejaVuSans-63\"/>\n       <use x=\"2882.523438\" xlink:href=\"#DejaVuSans-72\"/>\n       <use x=\"2921.386719\" xlink:href=\"#DejaVuSans-65\"/>\n       <use x=\"2982.910156\" xlink:href=\"#DejaVuSans-6f\"/>\n       <use x=\"3044.091797\" xlink:href=\"#DejaVuSans-6e\"/>\n       <use x=\"3107.470703\" xlink:href=\"#DejaVuSans-2c\"/>\n       <use x=\"3139.257812\" xlink:href=\"#DejaVuSans-20\"/>\n       <use x=\"3171.044922\" xlink:href=\"#DejaVuSans-70\"/>\n       <use x=\"3234.521484\" xlink:href=\"#DejaVuSans-65\"/>\n       <use x=\"3296.044922\" xlink:href=\"#DejaVuSans-6f\"/>\n       <use x=\"3357.226562\" xlink:href=\"#DejaVuSans-70\"/>\n       <use x=\"3420.703125\" xlink:href=\"#DejaVuSans-6c\"/>\n       <use x=\"3448.486328\" xlink:href=\"#DejaVuSans-65\"/>\n      </g>\n     </g>\n    </g>\n    <g id=\"ytick_9\">\n     <g id=\"line2d_16\">\n      <g>\n       <use style=\"stroke:#000000;stroke-width:0.8;\" x=\"490.39375\" xlink:href=\"#m61dcaee5c8\" y=\"591.57\"/>\n      </g>\n     </g>\n     <g id=\"text_16\">\n      <!-- 16 hands, god, pentheus, women, dark, ship, house, bonds, feet, wise -->\n      <g transform=\"translate(132.146875 595.369219)scale(0.1 -0.1)\">\n       <use xlink:href=\"#DejaVuSans-31\"/>\n       <use x=\"63.623047\" xlink:href=\"#DejaVuSans-36\"/>\n       <use x=\"127.246094\" xlink:href=\"#DejaVuSans-20\"/>\n       <use x=\"159.033203\" xlink:href=\"#DejaVuSans-68\"/>\n       <use x=\"222.412109\" xlink:href=\"#DejaVuSans-61\"/>\n       <use x=\"283.691406\" xlink:href=\"#DejaVuSans-6e\"/>\n       <use x=\"347.070312\" xlink:href=\"#DejaVuSans-64\"/>\n       <use x=\"410.546875\" xlink:href=\"#DejaVuSans-73\"/>\n       <use x=\"462.646484\" xlink:href=\"#DejaVuSans-2c\"/>\n       <use x=\"494.433594\" xlink:href=\"#DejaVuSans-20\"/>\n       <use x=\"526.220703\" xlink:href=\"#DejaVuSans-67\"/>\n       <use x=\"589.697266\" xlink:href=\"#DejaVuSans-6f\"/>\n       <use x=\"650.878906\" xlink:href=\"#DejaVuSans-64\"/>\n       <use x=\"714.355469\" xlink:href=\"#DejaVuSans-2c\"/>\n       <use x=\"746.142578\" xlink:href=\"#DejaVuSans-20\"/>\n       <use x=\"777.929688\" xlink:href=\"#DejaVuSans-70\"/>\n       <use x=\"841.40625\" xlink:href=\"#DejaVuSans-65\"/>\n       <use x=\"902.929688\" xlink:href=\"#DejaVuSans-6e\"/>\n       <use x=\"966.308594\" xlink:href=\"#DejaVuSans-74\"/>\n       <use x=\"1005.517578\" xlink:href=\"#DejaVuSans-68\"/>\n       <use x=\"1068.896484\" xlink:href=\"#DejaVuSans-65\"/>\n       <use x=\"1130.419922\" xlink:href=\"#DejaVuSans-75\"/>\n       <use x=\"1193.798828\" xlink:href=\"#DejaVuSans-73\"/>\n       <use x=\"1245.898438\" xlink:href=\"#DejaVuSans-2c\"/>\n       <use x=\"1277.685547\" xlink:href=\"#DejaVuSans-20\"/>\n       <use x=\"1309.472656\" xlink:href=\"#DejaVuSans-77\"/>\n       <use x=\"1391.259766\" xlink:href=\"#DejaVuSans-6f\"/>\n       <use x=\"1452.441406\" xlink:href=\"#DejaVuSans-6d\"/>\n       <use x=\"1549.853516\" xlink:href=\"#DejaVuSans-65\"/>\n       <use x=\"1611.376953\" xlink:href=\"#DejaVuSans-6e\"/>\n       <use x=\"1674.755859\" xlink:href=\"#DejaVuSans-2c\"/>\n       <use x=\"1706.542969\" xlink:href=\"#DejaVuSans-20\"/>\n       <use x=\"1738.330078\" xlink:href=\"#DejaVuSans-64\"/>\n       <use x=\"1801.806641\" xlink:href=\"#DejaVuSans-61\"/>\n       <use x=\"1863.085938\" xlink:href=\"#DejaVuSans-72\"/>\n       <use x=\"1904.199219\" xlink:href=\"#DejaVuSans-6b\"/>\n       <use x=\"1962.109375\" xlink:href=\"#DejaVuSans-2c\"/>\n       <use x=\"1993.896484\" xlink:href=\"#DejaVuSans-20\"/>\n       <use x=\"2025.683594\" xlink:href=\"#DejaVuSans-73\"/>\n       <use x=\"2077.783203\" xlink:href=\"#DejaVuSans-68\"/>\n       <use x=\"2141.162109\" xlink:href=\"#DejaVuSans-69\"/>\n       <use x=\"2168.945312\" xlink:href=\"#DejaVuSans-70\"/>\n       <use x=\"2232.421875\" xlink:href=\"#DejaVuSans-2c\"/>\n       <use x=\"2264.208984\" xlink:href=\"#DejaVuSans-20\"/>\n       <use x=\"2295.996094\" xlink:href=\"#DejaVuSans-68\"/>\n       <use x=\"2359.375\" xlink:href=\"#DejaVuSans-6f\"/>\n       <use x=\"2420.556641\" xlink:href=\"#DejaVuSans-75\"/>\n       <use x=\"2483.935547\" xlink:href=\"#DejaVuSans-73\"/>\n       <use x=\"2536.035156\" xlink:href=\"#DejaVuSans-65\"/>\n       <use x=\"2597.558594\" xlink:href=\"#DejaVuSans-2c\"/>\n       <use x=\"2629.345703\" xlink:href=\"#DejaVuSans-20\"/>\n       <use x=\"2661.132812\" xlink:href=\"#DejaVuSans-62\"/>\n       <use x=\"2724.609375\" xlink:href=\"#DejaVuSans-6f\"/>\n       <use x=\"2785.791016\" xlink:href=\"#DejaVuSans-6e\"/>\n       <use x=\"2849.169922\" xlink:href=\"#DejaVuSans-64\"/>\n       <use x=\"2912.646484\" xlink:href=\"#DejaVuSans-73\"/>\n       <use x=\"2964.746094\" xlink:href=\"#DejaVuSans-2c\"/>\n       <use x=\"2996.533203\" xlink:href=\"#DejaVuSans-20\"/>\n       <use x=\"3028.320312\" xlink:href=\"#DejaVuSans-66\"/>\n       <use x=\"3063.525391\" xlink:href=\"#DejaVuSans-65\"/>\n       <use x=\"3125.048828\" xlink:href=\"#DejaVuSans-65\"/>\n       <use x=\"3186.572266\" xlink:href=\"#DejaVuSans-74\"/>\n       <use x=\"3225.78125\" xlink:href=\"#DejaVuSans-2c\"/>\n       <use x=\"3257.568359\" xlink:href=\"#DejaVuSans-20\"/>\n       <use x=\"3289.355469\" xlink:href=\"#DejaVuSans-77\"/>\n       <use x=\"3371.142578\" xlink:href=\"#DejaVuSans-69\"/>\n       <use x=\"3398.925781\" xlink:href=\"#DejaVuSans-73\"/>\n       <use x=\"3451.025391\" xlink:href=\"#DejaVuSans-65\"/>\n      </g>\n     </g>\n    </g>\n    <g id=\"ytick_10\">\n     <g id=\"line2d_17\">\n      <g>\n       <use style=\"stroke:#000000;stroke-width:0.8;\" x=\"490.39375\" xlink:href=\"#m61dcaee5c8\" y=\"564.39\"/>\n      </g>\n     </g>\n     <g id=\"text_17\">\n      <!-- 10 sea, comrades, land, heart, men, way, man, ships, thou, cave -->\n      <g transform=\"translate(158.285937 568.189219)scale(0.1 -0.1)\">\n       <use xlink:href=\"#DejaVuSans-31\"/>\n       <use x=\"63.623047\" xlink:href=\"#DejaVuSans-30\"/>\n       <use x=\"127.246094\" xlink:href=\"#DejaVuSans-20\"/>\n       <use x=\"159.033203\" xlink:href=\"#DejaVuSans-73\"/>\n       <use x=\"211.132812\" xlink:href=\"#DejaVuSans-65\"/>\n       <use x=\"272.65625\" xlink:href=\"#DejaVuSans-61\"/>\n       <use x=\"333.935547\" xlink:href=\"#DejaVuSans-2c\"/>\n       <use x=\"365.722656\" xlink:href=\"#DejaVuSans-20\"/>\n       <use x=\"397.509766\" xlink:href=\"#DejaVuSans-63\"/>\n       <use x=\"452.490234\" xlink:href=\"#DejaVuSans-6f\"/>\n       <use x=\"513.671875\" xlink:href=\"#DejaVuSans-6d\"/>\n       <use x=\"611.083984\" xlink:href=\"#DejaVuSans-72\"/>\n       <use x=\"652.197266\" xlink:href=\"#DejaVuSans-61\"/>\n       <use x=\"713.476562\" xlink:href=\"#DejaVuSans-64\"/>\n       <use x=\"776.953125\" xlink:href=\"#DejaVuSans-65\"/>\n       <use x=\"838.476562\" xlink:href=\"#DejaVuSans-73\"/>\n       <use x=\"890.576172\" xlink:href=\"#DejaVuSans-2c\"/>\n       <use x=\"922.363281\" xlink:href=\"#DejaVuSans-20\"/>\n       <use x=\"954.150391\" xlink:href=\"#DejaVuSans-6c\"/>\n       <use x=\"981.933594\" xlink:href=\"#DejaVuSans-61\"/>\n       <use x=\"1043.212891\" xlink:href=\"#DejaVuSans-6e\"/>\n       <use x=\"1106.591797\" xlink:href=\"#DejaVuSans-64\"/>\n       <use x=\"1170.068359\" xlink:href=\"#DejaVuSans-2c\"/>\n       <use x=\"1201.855469\" xlink:href=\"#DejaVuSans-20\"/>\n       <use x=\"1233.642578\" xlink:href=\"#DejaVuSans-68\"/>\n       <use x=\"1297.021484\" xlink:href=\"#DejaVuSans-65\"/>\n       <use x=\"1358.544922\" xlink:href=\"#DejaVuSans-61\"/>\n       <use x=\"1419.824219\" xlink:href=\"#DejaVuSans-72\"/>\n       <use x=\"1460.9375\" xlink:href=\"#DejaVuSans-74\"/>\n       <use x=\"1500.146484\" xlink:href=\"#DejaVuSans-2c\"/>\n       <use x=\"1531.933594\" xlink:href=\"#DejaVuSans-20\"/>\n       <use x=\"1563.720703\" xlink:href=\"#DejaVuSans-6d\"/>\n       <use x=\"1661.132812\" xlink:href=\"#DejaVuSans-65\"/>\n       <use x=\"1722.65625\" xlink:href=\"#DejaVuSans-6e\"/>\n       <use x=\"1786.035156\" xlink:href=\"#DejaVuSans-2c\"/>\n       <use x=\"1817.822266\" xlink:href=\"#DejaVuSans-20\"/>\n       <use x=\"1849.609375\" xlink:href=\"#DejaVuSans-77\"/>\n       <use x=\"1931.396484\" xlink:href=\"#DejaVuSans-61\"/>\n       <use x=\"1992.675781\" xlink:href=\"#DejaVuSans-79\"/>\n       <use x=\"2051.855469\" xlink:href=\"#DejaVuSans-2c\"/>\n       <use x=\"2083.642578\" xlink:href=\"#DejaVuSans-20\"/>\n       <use x=\"2115.429688\" xlink:href=\"#DejaVuSans-6d\"/>\n       <use x=\"2212.841797\" xlink:href=\"#DejaVuSans-61\"/>\n       <use x=\"2274.121094\" xlink:href=\"#DejaVuSans-6e\"/>\n       <use x=\"2337.5\" xlink:href=\"#DejaVuSans-2c\"/>\n       <use x=\"2369.287109\" xlink:href=\"#DejaVuSans-20\"/>\n       <use x=\"2401.074219\" xlink:href=\"#DejaVuSans-73\"/>\n       <use x=\"2453.173828\" xlink:href=\"#DejaVuSans-68\"/>\n       <use x=\"2516.552734\" xlink:href=\"#DejaVuSans-69\"/>\n       <use x=\"2544.335938\" xlink:href=\"#DejaVuSans-70\"/>\n       <use x=\"2607.8125\" xlink:href=\"#DejaVuSans-73\"/>\n       <use x=\"2659.912109\" xlink:href=\"#DejaVuSans-2c\"/>\n       <use x=\"2691.699219\" xlink:href=\"#DejaVuSans-20\"/>\n       <use x=\"2723.486328\" xlink:href=\"#DejaVuSans-74\"/>\n       <use x=\"2762.695312\" xlink:href=\"#DejaVuSans-68\"/>\n       <use x=\"2826.074219\" xlink:href=\"#DejaVuSans-6f\"/>\n       <use x=\"2887.255859\" xlink:href=\"#DejaVuSans-75\"/>\n       <use x=\"2950.634766\" xlink:href=\"#DejaVuSans-2c\"/>\n       <use x=\"2982.421875\" xlink:href=\"#DejaVuSans-20\"/>\n       <use x=\"3014.208984\" xlink:href=\"#DejaVuSans-63\"/>\n       <use x=\"3069.189453\" xlink:href=\"#DejaVuSans-61\"/>\n       <use x=\"3130.46875\" xlink:href=\"#DejaVuSans-76\"/>\n       <use x=\"3189.648438\" xlink:href=\"#DejaVuSans-65\"/>\n      </g>\n     </g>\n    </g>\n    <g id=\"ytick_11\">\n     <g id=\"line2d_18\">\n      <g>\n       <use style=\"stroke:#000000;stroke-width:0.8;\" x=\"490.39375\" xlink:href=\"#m61dcaee5c8\" y=\"537.21\"/>\n      </g>\n     </g>\n     <g id=\"text_18\">\n      <!-- 7 heart, men, thou, thee, house, land, man, hands, wife, mother -->\n      <g transform=\"translate(161.160937 541.009219)scale(0.1 -0.1)\">\n       <use xlink:href=\"#DejaVuSans-37\"/>\n       <use x=\"63.623047\" xlink:href=\"#DejaVuSans-20\"/>\n       <use x=\"95.410156\" xlink:href=\"#DejaVuSans-68\"/>\n       <use x=\"158.789062\" xlink:href=\"#DejaVuSans-65\"/>\n       <use x=\"220.3125\" xlink:href=\"#DejaVuSans-61\"/>\n       <use x=\"281.591797\" xlink:href=\"#DejaVuSans-72\"/>\n       <use x=\"322.705078\" xlink:href=\"#DejaVuSans-74\"/>\n       <use x=\"361.914062\" xlink:href=\"#DejaVuSans-2c\"/>\n       <use x=\"393.701172\" xlink:href=\"#DejaVuSans-20\"/>\n       <use x=\"425.488281\" xlink:href=\"#DejaVuSans-6d\"/>\n       <use x=\"522.900391\" xlink:href=\"#DejaVuSans-65\"/>\n       <use x=\"584.423828\" xlink:href=\"#DejaVuSans-6e\"/>\n       <use x=\"647.802734\" xlink:href=\"#DejaVuSans-2c\"/>\n       <use x=\"679.589844\" xlink:href=\"#DejaVuSans-20\"/>\n       <use x=\"711.376953\" xlink:href=\"#DejaVuSans-74\"/>\n       <use x=\"750.585938\" xlink:href=\"#DejaVuSans-68\"/>\n       <use x=\"813.964844\" xlink:href=\"#DejaVuSans-6f\"/>\n       <use x=\"875.146484\" xlink:href=\"#DejaVuSans-75\"/>\n       <use x=\"938.525391\" xlink:href=\"#DejaVuSans-2c\"/>\n       <use x=\"970.3125\" xlink:href=\"#DejaVuSans-20\"/>\n       <use x=\"1002.099609\" xlink:href=\"#DejaVuSans-74\"/>\n       <use x=\"1041.308594\" xlink:href=\"#DejaVuSans-68\"/>\n       <use x=\"1104.6875\" xlink:href=\"#DejaVuSans-65\"/>\n       <use x=\"1166.210938\" xlink:href=\"#DejaVuSans-65\"/>\n       <use x=\"1227.734375\" xlink:href=\"#DejaVuSans-2c\"/>\n       <use x=\"1259.521484\" xlink:href=\"#DejaVuSans-20\"/>\n       <use x=\"1291.308594\" xlink:href=\"#DejaVuSans-68\"/>\n       <use x=\"1354.6875\" xlink:href=\"#DejaVuSans-6f\"/>\n       <use x=\"1415.869141\" xlink:href=\"#DejaVuSans-75\"/>\n       <use x=\"1479.248047\" xlink:href=\"#DejaVuSans-73\"/>\n       <use x=\"1531.347656\" xlink:href=\"#DejaVuSans-65\"/>\n       <use x=\"1592.871094\" xlink:href=\"#DejaVuSans-2c\"/>\n       <use x=\"1624.658203\" xlink:href=\"#DejaVuSans-20\"/>\n       <use x=\"1656.445312\" xlink:href=\"#DejaVuSans-6c\"/>\n       <use x=\"1684.228516\" xlink:href=\"#DejaVuSans-61\"/>\n       <use x=\"1745.507812\" xlink:href=\"#DejaVuSans-6e\"/>\n       <use x=\"1808.886719\" xlink:href=\"#DejaVuSans-64\"/>\n       <use x=\"1872.363281\" xlink:href=\"#DejaVuSans-2c\"/>\n       <use x=\"1904.150391\" xlink:href=\"#DejaVuSans-20\"/>\n       <use x=\"1935.9375\" xlink:href=\"#DejaVuSans-6d\"/>\n       <use x=\"2033.349609\" xlink:href=\"#DejaVuSans-61\"/>\n       <use x=\"2094.628906\" xlink:href=\"#DejaVuSans-6e\"/>\n       <use x=\"2158.007812\" xlink:href=\"#DejaVuSans-2c\"/>\n       <use x=\"2189.794922\" xlink:href=\"#DejaVuSans-20\"/>\n       <use x=\"2221.582031\" xlink:href=\"#DejaVuSans-68\"/>\n       <use x=\"2284.960938\" xlink:href=\"#DejaVuSans-61\"/>\n       <use x=\"2346.240234\" xlink:href=\"#DejaVuSans-6e\"/>\n       <use x=\"2409.619141\" xlink:href=\"#DejaVuSans-64\"/>\n       <use x=\"2473.095703\" xlink:href=\"#DejaVuSans-73\"/>\n       <use x=\"2525.195312\" xlink:href=\"#DejaVuSans-2c\"/>\n       <use x=\"2556.982422\" xlink:href=\"#DejaVuSans-20\"/>\n       <use x=\"2588.769531\" xlink:href=\"#DejaVuSans-77\"/>\n       <use x=\"2670.556641\" xlink:href=\"#DejaVuSans-69\"/>\n       <use x=\"2698.339844\" xlink:href=\"#DejaVuSans-66\"/>\n       <use x=\"2733.544922\" xlink:href=\"#DejaVuSans-65\"/>\n       <use x=\"2795.068359\" xlink:href=\"#DejaVuSans-2c\"/>\n       <use x=\"2826.855469\" xlink:href=\"#DejaVuSans-20\"/>\n       <use x=\"2858.642578\" xlink:href=\"#DejaVuSans-6d\"/>\n       <use x=\"2956.054688\" xlink:href=\"#DejaVuSans-6f\"/>\n       <use x=\"3017.236328\" xlink:href=\"#DejaVuSans-74\"/>\n       <use x=\"3056.445312\" xlink:href=\"#DejaVuSans-68\"/>\n       <use x=\"3119.824219\" xlink:href=\"#DejaVuSans-65\"/>\n       <use x=\"3181.347656\" xlink:href=\"#DejaVuSans-72\"/>\n      </g>\n     </g>\n    </g>\n    <g id=\"ytick_12\">\n     <g id=\"line2d_19\">\n      <g>\n       <use style=\"stroke:#000000;stroke-width:0.8;\" x=\"490.39375\" xlink:href=\"#m61dcaee5c8\" y=\"510.03\"/>\n      </g>\n     </g>\n     <g id=\"text_19\">\n      <!-- 5 son, fate, ships, sons, hands, right, evil, corpse, way, course -->\n      <g transform=\"translate(171.925 513.829219)scale(0.1 -0.1)\">\n       <use xlink:href=\"#DejaVuSans-35\"/>\n       <use x=\"63.623047\" xlink:href=\"#DejaVuSans-20\"/>\n       <use x=\"95.410156\" xlink:href=\"#DejaVuSans-73\"/>\n       <use x=\"147.509766\" xlink:href=\"#DejaVuSans-6f\"/>\n       <use x=\"208.691406\" xlink:href=\"#DejaVuSans-6e\"/>\n       <use x=\"272.070312\" xlink:href=\"#DejaVuSans-2c\"/>\n       <use x=\"303.857422\" xlink:href=\"#DejaVuSans-20\"/>\n       <use x=\"335.644531\" xlink:href=\"#DejaVuSans-66\"/>\n       <use x=\"370.849609\" xlink:href=\"#DejaVuSans-61\"/>\n       <use x=\"432.128906\" xlink:href=\"#DejaVuSans-74\"/>\n       <use x=\"471.337891\" xlink:href=\"#DejaVuSans-65\"/>\n       <use x=\"532.861328\" xlink:href=\"#DejaVuSans-2c\"/>\n       <use x=\"564.648438\" xlink:href=\"#DejaVuSans-20\"/>\n       <use x=\"596.435547\" xlink:href=\"#DejaVuSans-73\"/>\n       <use x=\"648.535156\" xlink:href=\"#DejaVuSans-68\"/>\n       <use x=\"711.914062\" xlink:href=\"#DejaVuSans-69\"/>\n       <use x=\"739.697266\" xlink:href=\"#DejaVuSans-70\"/>\n       <use x=\"803.173828\" xlink:href=\"#DejaVuSans-73\"/>\n       <use x=\"855.273438\" xlink:href=\"#DejaVuSans-2c\"/>\n       <use x=\"887.060547\" xlink:href=\"#DejaVuSans-20\"/>\n       <use x=\"918.847656\" xlink:href=\"#DejaVuSans-73\"/>\n       <use x=\"970.947266\" xlink:href=\"#DejaVuSans-6f\"/>\n       <use x=\"1032.128906\" xlink:href=\"#DejaVuSans-6e\"/>\n       <use x=\"1095.507812\" xlink:href=\"#DejaVuSans-73\"/>\n       <use x=\"1147.607422\" xlink:href=\"#DejaVuSans-2c\"/>\n       <use x=\"1179.394531\" xlink:href=\"#DejaVuSans-20\"/>\n       <use x=\"1211.181641\" xlink:href=\"#DejaVuSans-68\"/>\n       <use x=\"1274.560547\" xlink:href=\"#DejaVuSans-61\"/>\n       <use x=\"1335.839844\" xlink:href=\"#DejaVuSans-6e\"/>\n       <use x=\"1399.21875\" xlink:href=\"#DejaVuSans-64\"/>\n       <use x=\"1462.695312\" xlink:href=\"#DejaVuSans-73\"/>\n       <use x=\"1514.794922\" xlink:href=\"#DejaVuSans-2c\"/>\n       <use x=\"1546.582031\" xlink:href=\"#DejaVuSans-20\"/>\n       <use x=\"1578.369141\" xlink:href=\"#DejaVuSans-72\"/>\n       <use x=\"1619.482422\" xlink:href=\"#DejaVuSans-69\"/>\n       <use x=\"1647.265625\" xlink:href=\"#DejaVuSans-67\"/>\n       <use x=\"1710.742188\" xlink:href=\"#DejaVuSans-68\"/>\n       <use x=\"1774.121094\" xlink:href=\"#DejaVuSans-74\"/>\n       <use x=\"1813.330078\" xlink:href=\"#DejaVuSans-2c\"/>\n       <use x=\"1845.117188\" xlink:href=\"#DejaVuSans-20\"/>\n       <use x=\"1876.904297\" xlink:href=\"#DejaVuSans-65\"/>\n       <use x=\"1938.427734\" xlink:href=\"#DejaVuSans-76\"/>\n       <use x=\"1997.607422\" xlink:href=\"#DejaVuSans-69\"/>\n       <use x=\"2025.390625\" xlink:href=\"#DejaVuSans-6c\"/>\n       <use x=\"2053.173828\" xlink:href=\"#DejaVuSans-2c\"/>\n       <use x=\"2084.960938\" xlink:href=\"#DejaVuSans-20\"/>\n       <use x=\"2116.748047\" xlink:href=\"#DejaVuSans-63\"/>\n       <use x=\"2171.728516\" xlink:href=\"#DejaVuSans-6f\"/>\n       <use x=\"2232.910156\" xlink:href=\"#DejaVuSans-72\"/>\n       <use x=\"2274.023438\" xlink:href=\"#DejaVuSans-70\"/>\n       <use x=\"2337.5\" xlink:href=\"#DejaVuSans-73\"/>\n       <use x=\"2389.599609\" xlink:href=\"#DejaVuSans-65\"/>\n       <use x=\"2451.123047\" xlink:href=\"#DejaVuSans-2c\"/>\n       <use x=\"2482.910156\" xlink:href=\"#DejaVuSans-20\"/>\n       <use x=\"2514.697266\" xlink:href=\"#DejaVuSans-77\"/>\n       <use x=\"2596.484375\" xlink:href=\"#DejaVuSans-61\"/>\n       <use x=\"2657.763672\" xlink:href=\"#DejaVuSans-79\"/>\n       <use x=\"2716.943359\" xlink:href=\"#DejaVuSans-2c\"/>\n       <use x=\"2748.730469\" xlink:href=\"#DejaVuSans-20\"/>\n       <use x=\"2780.517578\" xlink:href=\"#DejaVuSans-63\"/>\n       <use x=\"2835.498047\" xlink:href=\"#DejaVuSans-6f\"/>\n       <use x=\"2896.679688\" xlink:href=\"#DejaVuSans-75\"/>\n       <use x=\"2960.058594\" xlink:href=\"#DejaVuSans-72\"/>\n       <use x=\"3001.171875\" xlink:href=\"#DejaVuSans-73\"/>\n       <use x=\"3053.271484\" xlink:href=\"#DejaVuSans-65\"/>\n      </g>\n     </g>\n    </g>\n    <g id=\"ytick_13\">\n     <g id=\"line2d_20\">\n      <g>\n       <use style=\"stroke:#000000;stroke-width:0.8;\" x=\"490.39375\" xlink:href=\"#m61dcaee5c8\" y=\"482.85\"/>\n      </g>\n     </g>\n     <g id=\"text_20\">\n      <!-- 12 man, house, time, land, heart, city, words, gods, blood, suppliant -->\n      <g transform=\"translate(141.257812 486.649219)scale(0.1 -0.1)\">\n       <use xlink:href=\"#DejaVuSans-31\"/>\n       <use x=\"63.623047\" xlink:href=\"#DejaVuSans-32\"/>\n       <use x=\"127.246094\" xlink:href=\"#DejaVuSans-20\"/>\n       <use x=\"159.033203\" xlink:href=\"#DejaVuSans-6d\"/>\n       <use x=\"256.445312\" xlink:href=\"#DejaVuSans-61\"/>\n       <use x=\"317.724609\" xlink:href=\"#DejaVuSans-6e\"/>\n       <use x=\"381.103516\" xlink:href=\"#DejaVuSans-2c\"/>\n       <use x=\"412.890625\" xlink:href=\"#DejaVuSans-20\"/>\n       <use x=\"444.677734\" xlink:href=\"#DejaVuSans-68\"/>\n       <use x=\"508.056641\" xlink:href=\"#DejaVuSans-6f\"/>\n       <use x=\"569.238281\" xlink:href=\"#DejaVuSans-75\"/>\n       <use x=\"632.617188\" xlink:href=\"#DejaVuSans-73\"/>\n       <use x=\"684.716797\" xlink:href=\"#DejaVuSans-65\"/>\n       <use x=\"746.240234\" xlink:href=\"#DejaVuSans-2c\"/>\n       <use x=\"778.027344\" xlink:href=\"#DejaVuSans-20\"/>\n       <use x=\"809.814453\" xlink:href=\"#DejaVuSans-74\"/>\n       <use x=\"849.023438\" xlink:href=\"#DejaVuSans-69\"/>\n       <use x=\"876.806641\" xlink:href=\"#DejaVuSans-6d\"/>\n       <use x=\"974.21875\" xlink:href=\"#DejaVuSans-65\"/>\n       <use x=\"1035.742188\" xlink:href=\"#DejaVuSans-2c\"/>\n       <use x=\"1067.529297\" xlink:href=\"#DejaVuSans-20\"/>\n       <use x=\"1099.316406\" xlink:href=\"#DejaVuSans-6c\"/>\n       <use x=\"1127.099609\" xlink:href=\"#DejaVuSans-61\"/>\n       <use x=\"1188.378906\" xlink:href=\"#DejaVuSans-6e\"/>\n       <use x=\"1251.757812\" xlink:href=\"#DejaVuSans-64\"/>\n       <use x=\"1315.234375\" xlink:href=\"#DejaVuSans-2c\"/>\n       <use x=\"1347.021484\" xlink:href=\"#DejaVuSans-20\"/>\n       <use x=\"1378.808594\" xlink:href=\"#DejaVuSans-68\"/>\n       <use x=\"1442.1875\" xlink:href=\"#DejaVuSans-65\"/>\n       <use x=\"1503.710938\" xlink:href=\"#DejaVuSans-61\"/>\n       <use x=\"1564.990234\" xlink:href=\"#DejaVuSans-72\"/>\n       <use x=\"1606.103516\" xlink:href=\"#DejaVuSans-74\"/>\n       <use x=\"1645.3125\" xlink:href=\"#DejaVuSans-2c\"/>\n       <use x=\"1677.099609\" xlink:href=\"#DejaVuSans-20\"/>\n       <use x=\"1708.886719\" xlink:href=\"#DejaVuSans-63\"/>\n       <use x=\"1763.867188\" xlink:href=\"#DejaVuSans-69\"/>\n       <use x=\"1791.650391\" xlink:href=\"#DejaVuSans-74\"/>\n       <use x=\"1830.859375\" xlink:href=\"#DejaVuSans-79\"/>\n       <use x=\"1890.039062\" xlink:href=\"#DejaVuSans-2c\"/>\n       <use x=\"1921.826172\" xlink:href=\"#DejaVuSans-20\"/>\n       <use x=\"1953.613281\" xlink:href=\"#DejaVuSans-77\"/>\n       <use x=\"2035.400391\" xlink:href=\"#DejaVuSans-6f\"/>\n       <use x=\"2096.582031\" xlink:href=\"#DejaVuSans-72\"/>\n       <use x=\"2135.945312\" xlink:href=\"#DejaVuSans-64\"/>\n       <use x=\"2199.421875\" xlink:href=\"#DejaVuSans-73\"/>\n       <use x=\"2251.521484\" xlink:href=\"#DejaVuSans-2c\"/>\n       <use x=\"2283.308594\" xlink:href=\"#DejaVuSans-20\"/>\n       <use x=\"2315.095703\" xlink:href=\"#DejaVuSans-67\"/>\n       <use x=\"2378.572266\" xlink:href=\"#DejaVuSans-6f\"/>\n       <use x=\"2439.753906\" xlink:href=\"#DejaVuSans-64\"/>\n       <use x=\"2503.230469\" xlink:href=\"#DejaVuSans-73\"/>\n       <use x=\"2555.330078\" xlink:href=\"#DejaVuSans-2c\"/>\n       <use x=\"2587.117188\" xlink:href=\"#DejaVuSans-20\"/>\n       <use x=\"2618.904297\" xlink:href=\"#DejaVuSans-62\"/>\n       <use x=\"2682.380859\" xlink:href=\"#DejaVuSans-6c\"/>\n       <use x=\"2710.164062\" xlink:href=\"#DejaVuSans-6f\"/>\n       <use x=\"2771.345703\" xlink:href=\"#DejaVuSans-6f\"/>\n       <use x=\"2832.527344\" xlink:href=\"#DejaVuSans-64\"/>\n       <use x=\"2896.003906\" xlink:href=\"#DejaVuSans-2c\"/>\n       <use x=\"2927.791016\" xlink:href=\"#DejaVuSans-20\"/>\n       <use x=\"2959.578125\" xlink:href=\"#DejaVuSans-73\"/>\n       <use x=\"3011.677734\" xlink:href=\"#DejaVuSans-75\"/>\n       <use x=\"3075.056641\" xlink:href=\"#DejaVuSans-70\"/>\n       <use x=\"3138.533203\" xlink:href=\"#DejaVuSans-70\"/>\n       <use x=\"3202.009766\" xlink:href=\"#DejaVuSans-6c\"/>\n       <use x=\"3229.792969\" xlink:href=\"#DejaVuSans-69\"/>\n       <use x=\"3257.576172\" xlink:href=\"#DejaVuSans-61\"/>\n       <use x=\"3318.855469\" xlink:href=\"#DejaVuSans-6e\"/>\n       <use x=\"3382.234375\" xlink:href=\"#DejaVuSans-74\"/>\n      </g>\n     </g>\n    </g>\n    <g id=\"ytick_14\">\n     <g id=\"line2d_21\">\n      <g>\n       <use style=\"stroke:#000000;stroke-width:0.8;\" x=\"490.39375\" xlink:href=\"#m61dcaee5c8\" y=\"455.67\"/>\n      </g>\n     </g>\n     <g id=\"text_21\">\n      <!-- 19 bow, wooers, arrows, arrow, hands, women, hall, mother, store room, house -->\n      <g transform=\"translate(86.26875 459.469219)scale(0.1 -0.1)\">\n       <defs>\n        <path d=\"M 703 97 \nL 703 672 \nQ 941 559 1184 500 \nQ 1428 441 1663 441 \nQ 2288 441 2617 861 \nQ 2947 1281 2994 2138 \nQ 2813 1869 2534 1725 \nQ 2256 1581 1919 1581 \nQ 1219 1581 811 2004 \nQ 403 2428 403 3163 \nQ 403 3881 828 4315 \nQ 1253 4750 1959 4750 \nQ 2769 4750 3195 4129 \nQ 3622 3509 3622 2328 \nQ 3622 1225 3098 567 \nQ 2575 -91 1691 -91 \nQ 1453 -91 1209 -44 \nQ 966 3 703 97 \nz\nM 1959 2075 \nQ 2384 2075 2632 2365 \nQ 2881 2656 2881 3163 \nQ 2881 3666 2632 3958 \nQ 2384 4250 1959 4250 \nQ 1534 4250 1286 3958 \nQ 1038 3666 1038 3163 \nQ 1038 2656 1286 2365 \nQ 1534 2075 1959 2075 \nz\n\" id=\"DejaVuSans-39\" transform=\"scale(0.015625)\"/>\n       </defs>\n       <use xlink:href=\"#DejaVuSans-31\"/>\n       <use x=\"63.623047\" xlink:href=\"#DejaVuSans-39\"/>\n       <use x=\"127.246094\" xlink:href=\"#DejaVuSans-20\"/>\n       <use x=\"159.033203\" xlink:href=\"#DejaVuSans-62\"/>\n       <use x=\"222.509766\" xlink:href=\"#DejaVuSans-6f\"/>\n       <use x=\"283.691406\" xlink:href=\"#DejaVuSans-77\"/>\n       <use x=\"365.478516\" xlink:href=\"#DejaVuSans-2c\"/>\n       <use x=\"397.265625\" xlink:href=\"#DejaVuSans-20\"/>\n       <use x=\"429.052734\" xlink:href=\"#DejaVuSans-77\"/>\n       <use x=\"510.839844\" xlink:href=\"#DejaVuSans-6f\"/>\n       <use x=\"572.021484\" xlink:href=\"#DejaVuSans-6f\"/>\n       <use x=\"633.203125\" xlink:href=\"#DejaVuSans-65\"/>\n       <use x=\"694.726562\" xlink:href=\"#DejaVuSans-72\"/>\n       <use x=\"735.839844\" xlink:href=\"#DejaVuSans-73\"/>\n       <use x=\"787.939453\" xlink:href=\"#DejaVuSans-2c\"/>\n       <use x=\"819.726562\" xlink:href=\"#DejaVuSans-20\"/>\n       <use x=\"851.513672\" xlink:href=\"#DejaVuSans-61\"/>\n       <use x=\"912.792969\" xlink:href=\"#DejaVuSans-72\"/>\n       <use x=\"952.15625\" xlink:href=\"#DejaVuSans-72\"/>\n       <use x=\"991.019531\" xlink:href=\"#DejaVuSans-6f\"/>\n       <use x=\"1052.201172\" xlink:href=\"#DejaVuSans-77\"/>\n       <use x=\"1133.988281\" xlink:href=\"#DejaVuSans-73\"/>\n       <use x=\"1186.087891\" xlink:href=\"#DejaVuSans-2c\"/>\n       <use x=\"1217.875\" xlink:href=\"#DejaVuSans-20\"/>\n       <use x=\"1249.662109\" xlink:href=\"#DejaVuSans-61\"/>\n       <use x=\"1310.941406\" xlink:href=\"#DejaVuSans-72\"/>\n       <use x=\"1350.304688\" xlink:href=\"#DejaVuSans-72\"/>\n       <use x=\"1389.167969\" xlink:href=\"#DejaVuSans-6f\"/>\n       <use x=\"1450.349609\" xlink:href=\"#DejaVuSans-77\"/>\n       <use x=\"1532.136719\" xlink:href=\"#DejaVuSans-2c\"/>\n       <use x=\"1563.923828\" xlink:href=\"#DejaVuSans-20\"/>\n       <use x=\"1595.710938\" xlink:href=\"#DejaVuSans-68\"/>\n       <use x=\"1659.089844\" xlink:href=\"#DejaVuSans-61\"/>\n       <use x=\"1720.369141\" xlink:href=\"#DejaVuSans-6e\"/>\n       <use x=\"1783.748047\" xlink:href=\"#DejaVuSans-64\"/>\n       <use x=\"1847.224609\" xlink:href=\"#DejaVuSans-73\"/>\n       <use x=\"1899.324219\" xlink:href=\"#DejaVuSans-2c\"/>\n       <use x=\"1931.111328\" xlink:href=\"#DejaVuSans-20\"/>\n       <use x=\"1962.898438\" xlink:href=\"#DejaVuSans-77\"/>\n       <use x=\"2044.685547\" xlink:href=\"#DejaVuSans-6f\"/>\n       <use x=\"2105.867188\" xlink:href=\"#DejaVuSans-6d\"/>\n       <use x=\"2203.279297\" xlink:href=\"#DejaVuSans-65\"/>\n       <use x=\"2264.802734\" xlink:href=\"#DejaVuSans-6e\"/>\n       <use x=\"2328.181641\" xlink:href=\"#DejaVuSans-2c\"/>\n       <use x=\"2359.96875\" xlink:href=\"#DejaVuSans-20\"/>\n       <use x=\"2391.755859\" xlink:href=\"#DejaVuSans-68\"/>\n       <use x=\"2455.134766\" xlink:href=\"#DejaVuSans-61\"/>\n       <use x=\"2516.414062\" xlink:href=\"#DejaVuSans-6c\"/>\n       <use x=\"2544.197266\" xlink:href=\"#DejaVuSans-6c\"/>\n       <use x=\"2571.980469\" xlink:href=\"#DejaVuSans-2c\"/>\n       <use x=\"2603.767578\" xlink:href=\"#DejaVuSans-20\"/>\n       <use x=\"2635.554688\" xlink:href=\"#DejaVuSans-6d\"/>\n       <use x=\"2732.966797\" xlink:href=\"#DejaVuSans-6f\"/>\n       <use x=\"2794.148438\" xlink:href=\"#DejaVuSans-74\"/>\n       <use x=\"2833.357422\" xlink:href=\"#DejaVuSans-68\"/>\n       <use x=\"2896.736328\" xlink:href=\"#DejaVuSans-65\"/>\n       <use x=\"2958.259766\" xlink:href=\"#DejaVuSans-72\"/>\n       <use x=\"2999.373047\" xlink:href=\"#DejaVuSans-2c\"/>\n       <use x=\"3031.160156\" xlink:href=\"#DejaVuSans-20\"/>\n       <use x=\"3062.947266\" xlink:href=\"#DejaVuSans-73\"/>\n       <use x=\"3115.046875\" xlink:href=\"#DejaVuSans-74\"/>\n       <use x=\"3154.255859\" xlink:href=\"#DejaVuSans-6f\"/>\n       <use x=\"3215.4375\" xlink:href=\"#DejaVuSans-72\"/>\n       <use x=\"3254.300781\" xlink:href=\"#DejaVuSans-65\"/>\n       <use x=\"3315.824219\" xlink:href=\"#DejaVuSans-20\"/>\n       <use x=\"3347.611328\" xlink:href=\"#DejaVuSans-72\"/>\n       <use x=\"3386.474609\" xlink:href=\"#DejaVuSans-6f\"/>\n       <use x=\"3447.65625\" xlink:href=\"#DejaVuSans-6f\"/>\n       <use x=\"3508.837891\" xlink:href=\"#DejaVuSans-6d\"/>\n       <use x=\"3606.25\" xlink:href=\"#DejaVuSans-2c\"/>\n       <use x=\"3638.037109\" xlink:href=\"#DejaVuSans-20\"/>\n       <use x=\"3669.824219\" xlink:href=\"#DejaVuSans-68\"/>\n       <use x=\"3733.203125\" xlink:href=\"#DejaVuSans-6f\"/>\n       <use x=\"3794.384766\" xlink:href=\"#DejaVuSans-75\"/>\n       <use x=\"3857.763672\" xlink:href=\"#DejaVuSans-73\"/>\n       <use x=\"3909.863281\" xlink:href=\"#DejaVuSans-65\"/>\n      </g>\n     </g>\n    </g>\n    <g id=\"ytick_15\">\n     <g id=\"line2d_22\">\n      <g>\n       <use style=\"stroke:#000000;stroke-width:0.8;\" x=\"490.39375\" xlink:href=\"#m61dcaee5c8\" y=\"428.49\"/>\n      </g>\n     </g>\n     <g id=\"text_22\">\n      <!-- 22 father, city, man, men, child, land, gods, way, daughter, power -->\n      <g transform=\"translate(151.384375 432.289219)scale(0.1 -0.1)\">\n       <use xlink:href=\"#DejaVuSans-32\"/>\n       <use x=\"63.623047\" xlink:href=\"#DejaVuSans-32\"/>\n       <use x=\"127.246094\" xlink:href=\"#DejaVuSans-20\"/>\n       <use x=\"159.033203\" xlink:href=\"#DejaVuSans-66\"/>\n       <use x=\"194.238281\" xlink:href=\"#DejaVuSans-61\"/>\n       <use x=\"255.517578\" xlink:href=\"#DejaVuSans-74\"/>\n       <use x=\"294.726562\" xlink:href=\"#DejaVuSans-68\"/>\n       <use x=\"358.105469\" xlink:href=\"#DejaVuSans-65\"/>\n       <use x=\"419.628906\" xlink:href=\"#DejaVuSans-72\"/>\n       <use x=\"460.742188\" xlink:href=\"#DejaVuSans-2c\"/>\n       <use x=\"492.529297\" xlink:href=\"#DejaVuSans-20\"/>\n       <use x=\"524.316406\" xlink:href=\"#DejaVuSans-63\"/>\n       <use x=\"579.296875\" xlink:href=\"#DejaVuSans-69\"/>\n       <use x=\"607.080078\" xlink:href=\"#DejaVuSans-74\"/>\n       <use x=\"646.289062\" xlink:href=\"#DejaVuSans-79\"/>\n       <use x=\"705.46875\" xlink:href=\"#DejaVuSans-2c\"/>\n       <use x=\"737.255859\" xlink:href=\"#DejaVuSans-20\"/>\n       <use x=\"769.042969\" xlink:href=\"#DejaVuSans-6d\"/>\n       <use x=\"866.455078\" xlink:href=\"#DejaVuSans-61\"/>\n       <use x=\"927.734375\" xlink:href=\"#DejaVuSans-6e\"/>\n       <use x=\"991.113281\" xlink:href=\"#DejaVuSans-2c\"/>\n       <use x=\"1022.900391\" xlink:href=\"#DejaVuSans-20\"/>\n       <use x=\"1054.6875\" xlink:href=\"#DejaVuSans-6d\"/>\n       <use x=\"1152.099609\" xlink:href=\"#DejaVuSans-65\"/>\n       <use x=\"1213.623047\" xlink:href=\"#DejaVuSans-6e\"/>\n       <use x=\"1277.001953\" xlink:href=\"#DejaVuSans-2c\"/>\n       <use x=\"1308.789062\" xlink:href=\"#DejaVuSans-20\"/>\n       <use x=\"1340.576172\" xlink:href=\"#DejaVuSans-63\"/>\n       <use x=\"1395.556641\" xlink:href=\"#DejaVuSans-68\"/>\n       <use x=\"1458.935547\" xlink:href=\"#DejaVuSans-69\"/>\n       <use x=\"1486.71875\" xlink:href=\"#DejaVuSans-6c\"/>\n       <use x=\"1514.501953\" xlink:href=\"#DejaVuSans-64\"/>\n       <use x=\"1577.978516\" xlink:href=\"#DejaVuSans-2c\"/>\n       <use x=\"1609.765625\" xlink:href=\"#DejaVuSans-20\"/>\n       <use x=\"1641.552734\" xlink:href=\"#DejaVuSans-6c\"/>\n       <use x=\"1669.335938\" xlink:href=\"#DejaVuSans-61\"/>\n       <use x=\"1730.615234\" xlink:href=\"#DejaVuSans-6e\"/>\n       <use x=\"1793.994141\" xlink:href=\"#DejaVuSans-64\"/>\n       <use x=\"1857.470703\" xlink:href=\"#DejaVuSans-2c\"/>\n       <use x=\"1889.257812\" xlink:href=\"#DejaVuSans-20\"/>\n       <use x=\"1921.044922\" xlink:href=\"#DejaVuSans-67\"/>\n       <use x=\"1984.521484\" xlink:href=\"#DejaVuSans-6f\"/>\n       <use x=\"2045.703125\" xlink:href=\"#DejaVuSans-64\"/>\n       <use x=\"2109.179688\" xlink:href=\"#DejaVuSans-73\"/>\n       <use x=\"2161.279297\" xlink:href=\"#DejaVuSans-2c\"/>\n       <use x=\"2193.066406\" xlink:href=\"#DejaVuSans-20\"/>\n       <use x=\"2224.853516\" xlink:href=\"#DejaVuSans-77\"/>\n       <use x=\"2306.640625\" xlink:href=\"#DejaVuSans-61\"/>\n       <use x=\"2367.919922\" xlink:href=\"#DejaVuSans-79\"/>\n       <use x=\"2427.099609\" xlink:href=\"#DejaVuSans-2c\"/>\n       <use x=\"2458.886719\" xlink:href=\"#DejaVuSans-20\"/>\n       <use x=\"2490.673828\" xlink:href=\"#DejaVuSans-64\"/>\n       <use x=\"2554.150391\" xlink:href=\"#DejaVuSans-61\"/>\n       <use x=\"2615.429688\" xlink:href=\"#DejaVuSans-75\"/>\n       <use x=\"2678.808594\" xlink:href=\"#DejaVuSans-67\"/>\n       <use x=\"2742.285156\" xlink:href=\"#DejaVuSans-68\"/>\n       <use x=\"2805.664062\" xlink:href=\"#DejaVuSans-74\"/>\n       <use x=\"2844.873047\" xlink:href=\"#DejaVuSans-65\"/>\n       <use x=\"2906.396484\" xlink:href=\"#DejaVuSans-72\"/>\n       <use x=\"2947.509766\" xlink:href=\"#DejaVuSans-2c\"/>\n       <use x=\"2979.296875\" xlink:href=\"#DejaVuSans-20\"/>\n       <use x=\"3011.083984\" xlink:href=\"#DejaVuSans-70\"/>\n       <use x=\"3074.560547\" xlink:href=\"#DejaVuSans-6f\"/>\n       <use x=\"3135.742188\" xlink:href=\"#DejaVuSans-77\"/>\n       <use x=\"3217.529297\" xlink:href=\"#DejaVuSans-65\"/>\n       <use x=\"3279.052734\" xlink:href=\"#DejaVuSans-72\"/>\n      </g>\n     </g>\n    </g>\n    <g id=\"ytick_16\">\n     <g id=\"line2d_23\">\n      <g>\n       <use style=\"stroke:#000000;stroke-width:0.8;\" x=\"490.39375\" xlink:href=\"#m61dcaee5c8\" y=\"401.31\"/>\n      </g>\n     </g>\n     <g id=\"text_23\">\n      <!-- 4 god, gods, house, song, feet, hope, sea, children, race, power -->\n      <g transform=\"translate(164.523437 405.109219)scale(0.1 -0.1)\">\n       <defs>\n        <path d=\"M 2419 4116 \nL 825 1625 \nL 2419 1625 \nL 2419 4116 \nz\nM 2253 4666 \nL 3047 4666 \nL 3047 1625 \nL 3713 1625 \nL 3713 1100 \nL 3047 1100 \nL 3047 0 \nL 2419 0 \nL 2419 1100 \nL 313 1100 \nL 313 1709 \nL 2253 4666 \nz\n\" id=\"DejaVuSans-34\" transform=\"scale(0.015625)\"/>\n       </defs>\n       <use xlink:href=\"#DejaVuSans-34\"/>\n       <use x=\"63.623047\" xlink:href=\"#DejaVuSans-20\"/>\n       <use x=\"95.410156\" xlink:href=\"#DejaVuSans-67\"/>\n       <use x=\"158.886719\" xlink:href=\"#DejaVuSans-6f\"/>\n       <use x=\"220.068359\" xlink:href=\"#DejaVuSans-64\"/>\n       <use x=\"283.544922\" xlink:href=\"#DejaVuSans-2c\"/>\n       <use x=\"315.332031\" xlink:href=\"#DejaVuSans-20\"/>\n       <use x=\"347.119141\" xlink:href=\"#DejaVuSans-67\"/>\n       <use x=\"410.595703\" xlink:href=\"#DejaVuSans-6f\"/>\n       <use x=\"471.777344\" xlink:href=\"#DejaVuSans-64\"/>\n       <use x=\"535.253906\" xlink:href=\"#DejaVuSans-73\"/>\n       <use x=\"587.353516\" xlink:href=\"#DejaVuSans-2c\"/>\n       <use x=\"619.140625\" xlink:href=\"#DejaVuSans-20\"/>\n       <use x=\"650.927734\" xlink:href=\"#DejaVuSans-68\"/>\n       <use x=\"714.306641\" xlink:href=\"#DejaVuSans-6f\"/>\n       <use x=\"775.488281\" xlink:href=\"#DejaVuSans-75\"/>\n       <use x=\"838.867188\" xlink:href=\"#DejaVuSans-73\"/>\n       <use x=\"890.966797\" xlink:href=\"#DejaVuSans-65\"/>\n       <use x=\"952.490234\" xlink:href=\"#DejaVuSans-2c\"/>\n       <use x=\"984.277344\" xlink:href=\"#DejaVuSans-20\"/>\n       <use x=\"1016.064453\" xlink:href=\"#DejaVuSans-73\"/>\n       <use x=\"1068.164062\" xlink:href=\"#DejaVuSans-6f\"/>\n       <use x=\"1129.345703\" xlink:href=\"#DejaVuSans-6e\"/>\n       <use x=\"1192.724609\" xlink:href=\"#DejaVuSans-67\"/>\n       <use x=\"1256.201172\" xlink:href=\"#DejaVuSans-2c\"/>\n       <use x=\"1287.988281\" xlink:href=\"#DejaVuSans-20\"/>\n       <use x=\"1319.775391\" xlink:href=\"#DejaVuSans-66\"/>\n       <use x=\"1354.980469\" xlink:href=\"#DejaVuSans-65\"/>\n       <use x=\"1416.503906\" xlink:href=\"#DejaVuSans-65\"/>\n       <use x=\"1478.027344\" xlink:href=\"#DejaVuSans-74\"/>\n       <use x=\"1517.236328\" xlink:href=\"#DejaVuSans-2c\"/>\n       <use x=\"1549.023438\" xlink:href=\"#DejaVuSans-20\"/>\n       <use x=\"1580.810547\" xlink:href=\"#DejaVuSans-68\"/>\n       <use x=\"1644.189453\" xlink:href=\"#DejaVuSans-6f\"/>\n       <use x=\"1705.371094\" xlink:href=\"#DejaVuSans-70\"/>\n       <use x=\"1768.847656\" xlink:href=\"#DejaVuSans-65\"/>\n       <use x=\"1830.371094\" xlink:href=\"#DejaVuSans-2c\"/>\n       <use x=\"1862.158203\" xlink:href=\"#DejaVuSans-20\"/>\n       <use x=\"1893.945312\" xlink:href=\"#DejaVuSans-73\"/>\n       <use x=\"1946.044922\" xlink:href=\"#DejaVuSans-65\"/>\n       <use x=\"2007.568359\" xlink:href=\"#DejaVuSans-61\"/>\n       <use x=\"2068.847656\" xlink:href=\"#DejaVuSans-2c\"/>\n       <use x=\"2100.634766\" xlink:href=\"#DejaVuSans-20\"/>\n       <use x=\"2132.421875\" xlink:href=\"#DejaVuSans-63\"/>\n       <use x=\"2187.402344\" xlink:href=\"#DejaVuSans-68\"/>\n       <use x=\"2250.78125\" xlink:href=\"#DejaVuSans-69\"/>\n       <use x=\"2278.564453\" xlink:href=\"#DejaVuSans-6c\"/>\n       <use x=\"2306.347656\" xlink:href=\"#DejaVuSans-64\"/>\n       <use x=\"2369.824219\" xlink:href=\"#DejaVuSans-72\"/>\n       <use x=\"2408.6875\" xlink:href=\"#DejaVuSans-65\"/>\n       <use x=\"2470.210938\" xlink:href=\"#DejaVuSans-6e\"/>\n       <use x=\"2533.589844\" xlink:href=\"#DejaVuSans-2c\"/>\n       <use x=\"2565.376953\" xlink:href=\"#DejaVuSans-20\"/>\n       <use x=\"2597.164062\" xlink:href=\"#DejaVuSans-72\"/>\n       <use x=\"2638.277344\" xlink:href=\"#DejaVuSans-61\"/>\n       <use x=\"2699.556641\" xlink:href=\"#DejaVuSans-63\"/>\n       <use x=\"2754.537109\" xlink:href=\"#DejaVuSans-65\"/>\n       <use x=\"2816.060547\" xlink:href=\"#DejaVuSans-2c\"/>\n       <use x=\"2847.847656\" xlink:href=\"#DejaVuSans-20\"/>\n       <use x=\"2879.634766\" xlink:href=\"#DejaVuSans-70\"/>\n       <use x=\"2943.111328\" xlink:href=\"#DejaVuSans-6f\"/>\n       <use x=\"3004.292969\" xlink:href=\"#DejaVuSans-77\"/>\n       <use x=\"3086.080078\" xlink:href=\"#DejaVuSans-65\"/>\n       <use x=\"3147.603516\" xlink:href=\"#DejaVuSans-72\"/>\n      </g>\n     </g>\n    </g>\n    <g id=\"ytick_17\">\n     <g id=\"line2d_24\">\n      <g>\n       <use style=\"stroke:#000000;stroke-width:0.8;\" x=\"490.39375\" xlink:href=\"#m61dcaee5c8\" y=\"374.13\"/>\n      </g>\n     </g>\n     <g id=\"text_24\">\n      <!-- 14 mother, dance, god, chorus, gods, mountain, honor, mountains, way, wealth -->\n      <g transform=\"translate(83.634375 377.929219)scale(0.1 -0.1)\">\n       <use xlink:href=\"#DejaVuSans-31\"/>\n       <use x=\"63.623047\" xlink:href=\"#DejaVuSans-34\"/>\n       <use x=\"127.246094\" xlink:href=\"#DejaVuSans-20\"/>\n       <use x=\"159.033203\" xlink:href=\"#DejaVuSans-6d\"/>\n       <use x=\"256.445312\" xlink:href=\"#DejaVuSans-6f\"/>\n       <use x=\"317.626953\" xlink:href=\"#DejaVuSans-74\"/>\n       <use x=\"356.835938\" xlink:href=\"#DejaVuSans-68\"/>\n       <use x=\"420.214844\" xlink:href=\"#DejaVuSans-65\"/>\n       <use x=\"481.738281\" xlink:href=\"#DejaVuSans-72\"/>\n       <use x=\"522.851562\" xlink:href=\"#DejaVuSans-2c\"/>\n       <use x=\"554.638672\" xlink:href=\"#DejaVuSans-20\"/>\n       <use x=\"586.425781\" xlink:href=\"#DejaVuSans-64\"/>\n       <use x=\"649.902344\" xlink:href=\"#DejaVuSans-61\"/>\n       <use x=\"711.181641\" xlink:href=\"#DejaVuSans-6e\"/>\n       <use x=\"774.560547\" xlink:href=\"#DejaVuSans-63\"/>\n       <use x=\"829.541016\" xlink:href=\"#DejaVuSans-65\"/>\n       <use x=\"891.064453\" xlink:href=\"#DejaVuSans-2c\"/>\n       <use x=\"922.851562\" xlink:href=\"#DejaVuSans-20\"/>\n       <use x=\"954.638672\" xlink:href=\"#DejaVuSans-67\"/>\n       <use x=\"1018.115234\" xlink:href=\"#DejaVuSans-6f\"/>\n       <use x=\"1079.296875\" xlink:href=\"#DejaVuSans-64\"/>\n       <use x=\"1142.773438\" xlink:href=\"#DejaVuSans-2c\"/>\n       <use x=\"1174.560547\" xlink:href=\"#DejaVuSans-20\"/>\n       <use x=\"1206.347656\" xlink:href=\"#DejaVuSans-63\"/>\n       <use x=\"1261.328125\" xlink:href=\"#DejaVuSans-68\"/>\n       <use x=\"1324.707031\" xlink:href=\"#DejaVuSans-6f\"/>\n       <use x=\"1385.888672\" xlink:href=\"#DejaVuSans-72\"/>\n       <use x=\"1427.001953\" xlink:href=\"#DejaVuSans-75\"/>\n       <use x=\"1490.380859\" xlink:href=\"#DejaVuSans-73\"/>\n       <use x=\"1542.480469\" xlink:href=\"#DejaVuSans-2c\"/>\n       <use x=\"1574.267578\" xlink:href=\"#DejaVuSans-20\"/>\n       <use x=\"1606.054688\" xlink:href=\"#DejaVuSans-67\"/>\n       <use x=\"1669.53125\" xlink:href=\"#DejaVuSans-6f\"/>\n       <use x=\"1730.712891\" xlink:href=\"#DejaVuSans-64\"/>\n       <use x=\"1794.189453\" xlink:href=\"#DejaVuSans-73\"/>\n       <use x=\"1846.289062\" xlink:href=\"#DejaVuSans-2c\"/>\n       <use x=\"1878.076172\" xlink:href=\"#DejaVuSans-20\"/>\n       <use x=\"1909.863281\" xlink:href=\"#DejaVuSans-6d\"/>\n       <use x=\"2007.275391\" xlink:href=\"#DejaVuSans-6f\"/>\n       <use x=\"2068.457031\" xlink:href=\"#DejaVuSans-75\"/>\n       <use x=\"2131.835938\" xlink:href=\"#DejaVuSans-6e\"/>\n       <use x=\"2195.214844\" xlink:href=\"#DejaVuSans-74\"/>\n       <use x=\"2234.423828\" xlink:href=\"#DejaVuSans-61\"/>\n       <use x=\"2295.703125\" xlink:href=\"#DejaVuSans-69\"/>\n       <use x=\"2323.486328\" xlink:href=\"#DejaVuSans-6e\"/>\n       <use x=\"2386.865234\" xlink:href=\"#DejaVuSans-2c\"/>\n       <use x=\"2418.652344\" xlink:href=\"#DejaVuSans-20\"/>\n       <use x=\"2450.439453\" xlink:href=\"#DejaVuSans-68\"/>\n       <use x=\"2513.818359\" xlink:href=\"#DejaVuSans-6f\"/>\n       <use x=\"2575\" xlink:href=\"#DejaVuSans-6e\"/>\n       <use x=\"2638.378906\" xlink:href=\"#DejaVuSans-6f\"/>\n       <use x=\"2699.560547\" xlink:href=\"#DejaVuSans-72\"/>\n       <use x=\"2740.673828\" xlink:href=\"#DejaVuSans-2c\"/>\n       <use x=\"2772.460938\" xlink:href=\"#DejaVuSans-20\"/>\n       <use x=\"2804.248047\" xlink:href=\"#DejaVuSans-6d\"/>\n       <use x=\"2901.660156\" xlink:href=\"#DejaVuSans-6f\"/>\n       <use x=\"2962.841797\" xlink:href=\"#DejaVuSans-75\"/>\n       <use x=\"3026.220703\" xlink:href=\"#DejaVuSans-6e\"/>\n       <use x=\"3089.599609\" xlink:href=\"#DejaVuSans-74\"/>\n       <use x=\"3128.808594\" xlink:href=\"#DejaVuSans-61\"/>\n       <use x=\"3190.087891\" xlink:href=\"#DejaVuSans-69\"/>\n       <use x=\"3217.871094\" xlink:href=\"#DejaVuSans-6e\"/>\n       <use x=\"3281.25\" xlink:href=\"#DejaVuSans-73\"/>\n       <use x=\"3333.349609\" xlink:href=\"#DejaVuSans-2c\"/>\n       <use x=\"3365.136719\" xlink:href=\"#DejaVuSans-20\"/>\n       <use x=\"3396.923828\" xlink:href=\"#DejaVuSans-77\"/>\n       <use x=\"3478.710938\" xlink:href=\"#DejaVuSans-61\"/>\n       <use x=\"3539.990234\" xlink:href=\"#DejaVuSans-79\"/>\n       <use x=\"3599.169922\" xlink:href=\"#DejaVuSans-2c\"/>\n       <use x=\"3630.957031\" xlink:href=\"#DejaVuSans-20\"/>\n       <use x=\"3662.744141\" xlink:href=\"#DejaVuSans-77\"/>\n       <use x=\"3744.53125\" xlink:href=\"#DejaVuSans-65\"/>\n       <use x=\"3806.054688\" xlink:href=\"#DejaVuSans-61\"/>\n       <use x=\"3867.333984\" xlink:href=\"#DejaVuSans-6c\"/>\n       <use x=\"3895.117188\" xlink:href=\"#DejaVuSans-74\"/>\n       <use x=\"3934.326172\" xlink:href=\"#DejaVuSans-68\"/>\n      </g>\n     </g>\n    </g>\n    <g id=\"ytick_18\">\n     <g id=\"line2d_25\">\n      <g>\n       <use style=\"stroke:#000000;stroke-width:0.8;\" x=\"490.39375\" xlink:href=\"#m61dcaee5c8\" y=\"346.95\"/>\n      </g>\n     </g>\n     <g id=\"text_25\">\n      <!-- 1 goddess, god, gold, gods, song, sea, ships, daughter, gauntlets, town -->\n      <g transform=\"translate(125.717187 350.749219)scale(0.1 -0.1)\">\n       <use xlink:href=\"#DejaVuSans-31\"/>\n       <use x=\"63.623047\" xlink:href=\"#DejaVuSans-20\"/>\n       <use x=\"95.410156\" xlink:href=\"#DejaVuSans-67\"/>\n       <use x=\"158.886719\" xlink:href=\"#DejaVuSans-6f\"/>\n       <use x=\"220.068359\" xlink:href=\"#DejaVuSans-64\"/>\n       <use x=\"283.544922\" xlink:href=\"#DejaVuSans-64\"/>\n       <use x=\"347.021484\" xlink:href=\"#DejaVuSans-65\"/>\n       <use x=\"408.544922\" xlink:href=\"#DejaVuSans-73\"/>\n       <use x=\"460.644531\" xlink:href=\"#DejaVuSans-73\"/>\n       <use x=\"512.744141\" xlink:href=\"#DejaVuSans-2c\"/>\n       <use x=\"544.53125\" xlink:href=\"#DejaVuSans-20\"/>\n       <use x=\"576.318359\" xlink:href=\"#DejaVuSans-67\"/>\n       <use x=\"639.794922\" xlink:href=\"#DejaVuSans-6f\"/>\n       <use x=\"700.976562\" xlink:href=\"#DejaVuSans-64\"/>\n       <use x=\"764.453125\" xlink:href=\"#DejaVuSans-2c\"/>\n       <use x=\"796.240234\" xlink:href=\"#DejaVuSans-20\"/>\n       <use x=\"828.027344\" xlink:href=\"#DejaVuSans-67\"/>\n       <use x=\"891.503906\" xlink:href=\"#DejaVuSans-6f\"/>\n       <use x=\"952.685547\" xlink:href=\"#DejaVuSans-6c\"/>\n       <use x=\"980.46875\" xlink:href=\"#DejaVuSans-64\"/>\n       <use x=\"1043.945312\" xlink:href=\"#DejaVuSans-2c\"/>\n       <use x=\"1075.732422\" xlink:href=\"#DejaVuSans-20\"/>\n       <use x=\"1107.519531\" xlink:href=\"#DejaVuSans-67\"/>\n       <use x=\"1170.996094\" xlink:href=\"#DejaVuSans-6f\"/>\n       <use x=\"1232.177734\" xlink:href=\"#DejaVuSans-64\"/>\n       <use x=\"1295.654297\" xlink:href=\"#DejaVuSans-73\"/>\n       <use x=\"1347.753906\" xlink:href=\"#DejaVuSans-2c\"/>\n       <use x=\"1379.541016\" xlink:href=\"#DejaVuSans-20\"/>\n       <use x=\"1411.328125\" xlink:href=\"#DejaVuSans-73\"/>\n       <use x=\"1463.427734\" xlink:href=\"#DejaVuSans-6f\"/>\n       <use x=\"1524.609375\" xlink:href=\"#DejaVuSans-6e\"/>\n       <use x=\"1587.988281\" xlink:href=\"#DejaVuSans-67\"/>\n       <use x=\"1651.464844\" xlink:href=\"#DejaVuSans-2c\"/>\n       <use x=\"1683.251953\" xlink:href=\"#DejaVuSans-20\"/>\n       <use x=\"1715.039062\" xlink:href=\"#DejaVuSans-73\"/>\n       <use x=\"1767.138672\" xlink:href=\"#DejaVuSans-65\"/>\n       <use x=\"1828.662109\" xlink:href=\"#DejaVuSans-61\"/>\n       <use x=\"1889.941406\" xlink:href=\"#DejaVuSans-2c\"/>\n       <use x=\"1921.728516\" xlink:href=\"#DejaVuSans-20\"/>\n       <use x=\"1953.515625\" xlink:href=\"#DejaVuSans-73\"/>\n       <use x=\"2005.615234\" xlink:href=\"#DejaVuSans-68\"/>\n       <use x=\"2068.994141\" xlink:href=\"#DejaVuSans-69\"/>\n       <use x=\"2096.777344\" xlink:href=\"#DejaVuSans-70\"/>\n       <use x=\"2160.253906\" xlink:href=\"#DejaVuSans-73\"/>\n       <use x=\"2212.353516\" xlink:href=\"#DejaVuSans-2c\"/>\n       <use x=\"2244.140625\" xlink:href=\"#DejaVuSans-20\"/>\n       <use x=\"2275.927734\" xlink:href=\"#DejaVuSans-64\"/>\n       <use x=\"2339.404297\" xlink:href=\"#DejaVuSans-61\"/>\n       <use x=\"2400.683594\" xlink:href=\"#DejaVuSans-75\"/>\n       <use x=\"2464.0625\" xlink:href=\"#DejaVuSans-67\"/>\n       <use x=\"2527.539062\" xlink:href=\"#DejaVuSans-68\"/>\n       <use x=\"2590.917969\" xlink:href=\"#DejaVuSans-74\"/>\n       <use x=\"2630.126953\" xlink:href=\"#DejaVuSans-65\"/>\n       <use x=\"2691.650391\" xlink:href=\"#DejaVuSans-72\"/>\n       <use x=\"2732.763672\" xlink:href=\"#DejaVuSans-2c\"/>\n       <use x=\"2764.550781\" xlink:href=\"#DejaVuSans-20\"/>\n       <use x=\"2796.337891\" xlink:href=\"#DejaVuSans-67\"/>\n       <use x=\"2859.814453\" xlink:href=\"#DejaVuSans-61\"/>\n       <use x=\"2921.09375\" xlink:href=\"#DejaVuSans-75\"/>\n       <use x=\"2984.472656\" xlink:href=\"#DejaVuSans-6e\"/>\n       <use x=\"3047.851562\" xlink:href=\"#DejaVuSans-74\"/>\n       <use x=\"3087.060547\" xlink:href=\"#DejaVuSans-6c\"/>\n       <use x=\"3114.84375\" xlink:href=\"#DejaVuSans-65\"/>\n       <use x=\"3176.367188\" xlink:href=\"#DejaVuSans-74\"/>\n       <use x=\"3215.576172\" xlink:href=\"#DejaVuSans-73\"/>\n       <use x=\"3267.675781\" xlink:href=\"#DejaVuSans-2c\"/>\n       <use x=\"3299.462891\" xlink:href=\"#DejaVuSans-20\"/>\n       <use x=\"3331.25\" xlink:href=\"#DejaVuSans-74\"/>\n       <use x=\"3370.458984\" xlink:href=\"#DejaVuSans-6f\"/>\n       <use x=\"3431.640625\" xlink:href=\"#DejaVuSans-77\"/>\n       <use x=\"3513.427734\" xlink:href=\"#DejaVuSans-6e\"/>\n      </g>\n     </g>\n    </g>\n    <g id=\"ytick_19\">\n     <g id=\"line2d_26\">\n      <g>\n       <use style=\"stroke:#000000;stroke-width:0.8;\" x=\"490.39375\" xlink:href=\"#m61dcaee5c8\" y=\"319.77\"/>\n      </g>\n     </g>\n     <g id=\"text_26\">\n      <!-- 0 man, father, words, gods, son, child, hand, daughter, god, things -->\n      <g transform=\"translate(148.465625 323.569219)scale(0.1 -0.1)\">\n       <use xlink:href=\"#DejaVuSans-30\"/>\n       <use x=\"63.623047\" xlink:href=\"#DejaVuSans-20\"/>\n       <use x=\"95.410156\" xlink:href=\"#DejaVuSans-6d\"/>\n       <use x=\"192.822266\" xlink:href=\"#DejaVuSans-61\"/>\n       <use x=\"254.101562\" xlink:href=\"#DejaVuSans-6e\"/>\n       <use x=\"317.480469\" xlink:href=\"#DejaVuSans-2c\"/>\n       <use x=\"349.267578\" xlink:href=\"#DejaVuSans-20\"/>\n       <use x=\"381.054688\" xlink:href=\"#DejaVuSans-66\"/>\n       <use x=\"416.259766\" xlink:href=\"#DejaVuSans-61\"/>\n       <use x=\"477.539062\" xlink:href=\"#DejaVuSans-74\"/>\n       <use x=\"516.748047\" xlink:href=\"#DejaVuSans-68\"/>\n       <use x=\"580.126953\" xlink:href=\"#DejaVuSans-65\"/>\n       <use x=\"641.650391\" xlink:href=\"#DejaVuSans-72\"/>\n       <use x=\"682.763672\" xlink:href=\"#DejaVuSans-2c\"/>\n       <use x=\"714.550781\" xlink:href=\"#DejaVuSans-20\"/>\n       <use x=\"746.337891\" xlink:href=\"#DejaVuSans-77\"/>\n       <use x=\"828.125\" xlink:href=\"#DejaVuSans-6f\"/>\n       <use x=\"889.306641\" xlink:href=\"#DejaVuSans-72\"/>\n       <use x=\"928.669922\" xlink:href=\"#DejaVuSans-64\"/>\n       <use x=\"992.146484\" xlink:href=\"#DejaVuSans-73\"/>\n       <use x=\"1044.246094\" xlink:href=\"#DejaVuSans-2c\"/>\n       <use x=\"1076.033203\" xlink:href=\"#DejaVuSans-20\"/>\n       <use x=\"1107.820312\" xlink:href=\"#DejaVuSans-67\"/>\n       <use x=\"1171.296875\" xlink:href=\"#DejaVuSans-6f\"/>\n       <use x=\"1232.478516\" xlink:href=\"#DejaVuSans-64\"/>\n       <use x=\"1295.955078\" xlink:href=\"#DejaVuSans-73\"/>\n       <use x=\"1348.054688\" xlink:href=\"#DejaVuSans-2c\"/>\n       <use x=\"1379.841797\" xlink:href=\"#DejaVuSans-20\"/>\n       <use x=\"1411.628906\" xlink:href=\"#DejaVuSans-73\"/>\n       <use x=\"1463.728516\" xlink:href=\"#DejaVuSans-6f\"/>\n       <use x=\"1524.910156\" xlink:href=\"#DejaVuSans-6e\"/>\n       <use x=\"1588.289062\" xlink:href=\"#DejaVuSans-2c\"/>\n       <use x=\"1620.076172\" xlink:href=\"#DejaVuSans-20\"/>\n       <use x=\"1651.863281\" xlink:href=\"#DejaVuSans-63\"/>\n       <use x=\"1706.84375\" xlink:href=\"#DejaVuSans-68\"/>\n       <use x=\"1770.222656\" xlink:href=\"#DejaVuSans-69\"/>\n       <use x=\"1798.005859\" xlink:href=\"#DejaVuSans-6c\"/>\n       <use x=\"1825.789062\" xlink:href=\"#DejaVuSans-64\"/>\n       <use x=\"1889.265625\" xlink:href=\"#DejaVuSans-2c\"/>\n       <use x=\"1921.052734\" xlink:href=\"#DejaVuSans-20\"/>\n       <use x=\"1952.839844\" xlink:href=\"#DejaVuSans-68\"/>\n       <use x=\"2016.21875\" xlink:href=\"#DejaVuSans-61\"/>\n       <use x=\"2077.498047\" xlink:href=\"#DejaVuSans-6e\"/>\n       <use x=\"2140.876953\" xlink:href=\"#DejaVuSans-64\"/>\n       <use x=\"2204.353516\" xlink:href=\"#DejaVuSans-2c\"/>\n       <use x=\"2236.140625\" xlink:href=\"#DejaVuSans-20\"/>\n       <use x=\"2267.927734\" xlink:href=\"#DejaVuSans-64\"/>\n       <use x=\"2331.404297\" xlink:href=\"#DejaVuSans-61\"/>\n       <use x=\"2392.683594\" xlink:href=\"#DejaVuSans-75\"/>\n       <use x=\"2456.0625\" xlink:href=\"#DejaVuSans-67\"/>\n       <use x=\"2519.539062\" xlink:href=\"#DejaVuSans-68\"/>\n       <use x=\"2582.917969\" xlink:href=\"#DejaVuSans-74\"/>\n       <use x=\"2622.126953\" xlink:href=\"#DejaVuSans-65\"/>\n       <use x=\"2683.650391\" xlink:href=\"#DejaVuSans-72\"/>\n       <use x=\"2724.763672\" xlink:href=\"#DejaVuSans-2c\"/>\n       <use x=\"2756.550781\" xlink:href=\"#DejaVuSans-20\"/>\n       <use x=\"2788.337891\" xlink:href=\"#DejaVuSans-67\"/>\n       <use x=\"2851.814453\" xlink:href=\"#DejaVuSans-6f\"/>\n       <use x=\"2912.996094\" xlink:href=\"#DejaVuSans-64\"/>\n       <use x=\"2976.472656\" xlink:href=\"#DejaVuSans-2c\"/>\n       <use x=\"3008.259766\" xlink:href=\"#DejaVuSans-20\"/>\n       <use x=\"3040.046875\" xlink:href=\"#DejaVuSans-74\"/>\n       <use x=\"3079.255859\" xlink:href=\"#DejaVuSans-68\"/>\n       <use x=\"3142.634766\" xlink:href=\"#DejaVuSans-69\"/>\n       <use x=\"3170.417969\" xlink:href=\"#DejaVuSans-6e\"/>\n       <use x=\"3233.796875\" xlink:href=\"#DejaVuSans-67\"/>\n       <use x=\"3297.273438\" xlink:href=\"#DejaVuSans-73\"/>\n      </g>\n     </g>\n    </g>\n    <g id=\"ytick_20\">\n     <g id=\"line2d_27\">\n      <g>\n       <use style=\"stroke:#000000;stroke-width:0.8;\" x=\"490.39375\" xlink:href=\"#m61dcaee5c8\" y=\"292.59\"/>\n      </g>\n     </g>\n     <g id=\"text_27\">\n      <!-- 25 house, city, land, mother, gods, sea, lord, man, hand, son -->\n      <g transform=\"translate(178.31875 296.389219)scale(0.1 -0.1)\">\n       <use xlink:href=\"#DejaVuSans-32\"/>\n       <use x=\"63.623047\" xlink:href=\"#DejaVuSans-35\"/>\n       <use x=\"127.246094\" xlink:href=\"#DejaVuSans-20\"/>\n       <use x=\"159.033203\" xlink:href=\"#DejaVuSans-68\"/>\n       <use x=\"222.412109\" xlink:href=\"#DejaVuSans-6f\"/>\n       <use x=\"283.59375\" xlink:href=\"#DejaVuSans-75\"/>\n       <use x=\"346.972656\" xlink:href=\"#DejaVuSans-73\"/>\n       <use x=\"399.072266\" xlink:href=\"#DejaVuSans-65\"/>\n       <use x=\"460.595703\" xlink:href=\"#DejaVuSans-2c\"/>\n       <use x=\"492.382812\" xlink:href=\"#DejaVuSans-20\"/>\n       <use x=\"524.169922\" xlink:href=\"#DejaVuSans-63\"/>\n       <use x=\"579.150391\" xlink:href=\"#DejaVuSans-69\"/>\n       <use x=\"606.933594\" xlink:href=\"#DejaVuSans-74\"/>\n       <use x=\"646.142578\" xlink:href=\"#DejaVuSans-79\"/>\n       <use x=\"705.322266\" xlink:href=\"#DejaVuSans-2c\"/>\n       <use x=\"737.109375\" xlink:href=\"#DejaVuSans-20\"/>\n       <use x=\"768.896484\" xlink:href=\"#DejaVuSans-6c\"/>\n       <use x=\"796.679688\" xlink:href=\"#DejaVuSans-61\"/>\n       <use x=\"857.958984\" xlink:href=\"#DejaVuSans-6e\"/>\n       <use x=\"921.337891\" xlink:href=\"#DejaVuSans-64\"/>\n       <use x=\"984.814453\" xlink:href=\"#DejaVuSans-2c\"/>\n       <use x=\"1016.601562\" xlink:href=\"#DejaVuSans-20\"/>\n       <use x=\"1048.388672\" xlink:href=\"#DejaVuSans-6d\"/>\n       <use x=\"1145.800781\" xlink:href=\"#DejaVuSans-6f\"/>\n       <use x=\"1206.982422\" xlink:href=\"#DejaVuSans-74\"/>\n       <use x=\"1246.191406\" xlink:href=\"#DejaVuSans-68\"/>\n       <use x=\"1309.570312\" xlink:href=\"#DejaVuSans-65\"/>\n       <use x=\"1371.09375\" xlink:href=\"#DejaVuSans-72\"/>\n       <use x=\"1412.207031\" xlink:href=\"#DejaVuSans-2c\"/>\n       <use x=\"1443.994141\" xlink:href=\"#DejaVuSans-20\"/>\n       <use x=\"1475.78125\" xlink:href=\"#DejaVuSans-67\"/>\n       <use x=\"1539.257812\" xlink:href=\"#DejaVuSans-6f\"/>\n       <use x=\"1600.439453\" xlink:href=\"#DejaVuSans-64\"/>\n       <use x=\"1663.916016\" xlink:href=\"#DejaVuSans-73\"/>\n       <use x=\"1716.015625\" xlink:href=\"#DejaVuSans-2c\"/>\n       <use x=\"1747.802734\" xlink:href=\"#DejaVuSans-20\"/>\n       <use x=\"1779.589844\" xlink:href=\"#DejaVuSans-73\"/>\n       <use x=\"1831.689453\" xlink:href=\"#DejaVuSans-65\"/>\n       <use x=\"1893.212891\" xlink:href=\"#DejaVuSans-61\"/>\n       <use x=\"1954.492188\" xlink:href=\"#DejaVuSans-2c\"/>\n       <use x=\"1986.279297\" xlink:href=\"#DejaVuSans-20\"/>\n       <use x=\"2018.066406\" xlink:href=\"#DejaVuSans-6c\"/>\n       <use x=\"2045.849609\" xlink:href=\"#DejaVuSans-6f\"/>\n       <use x=\"2107.03125\" xlink:href=\"#DejaVuSans-72\"/>\n       <use x=\"2146.394531\" xlink:href=\"#DejaVuSans-64\"/>\n       <use x=\"2209.871094\" xlink:href=\"#DejaVuSans-2c\"/>\n       <use x=\"2241.658203\" xlink:href=\"#DejaVuSans-20\"/>\n       <use x=\"2273.445312\" xlink:href=\"#DejaVuSans-6d\"/>\n       <use x=\"2370.857422\" xlink:href=\"#DejaVuSans-61\"/>\n       <use x=\"2432.136719\" xlink:href=\"#DejaVuSans-6e\"/>\n       <use x=\"2495.515625\" xlink:href=\"#DejaVuSans-2c\"/>\n       <use x=\"2527.302734\" xlink:href=\"#DejaVuSans-20\"/>\n       <use x=\"2559.089844\" xlink:href=\"#DejaVuSans-68\"/>\n       <use x=\"2622.46875\" xlink:href=\"#DejaVuSans-61\"/>\n       <use x=\"2683.748047\" xlink:href=\"#DejaVuSans-6e\"/>\n       <use x=\"2747.126953\" xlink:href=\"#DejaVuSans-64\"/>\n       <use x=\"2810.603516\" xlink:href=\"#DejaVuSans-2c\"/>\n       <use x=\"2842.390625\" xlink:href=\"#DejaVuSans-20\"/>\n       <use x=\"2874.177734\" xlink:href=\"#DejaVuSans-73\"/>\n       <use x=\"2926.277344\" xlink:href=\"#DejaVuSans-6f\"/>\n       <use x=\"2987.458984\" xlink:href=\"#DejaVuSans-6e\"/>\n      </g>\n     </g>\n    </g>\n    <g id=\"ytick_21\">\n     <g id=\"line2d_28\">\n      <g>\n       <use style=\"stroke:#000000;stroke-width:0.8;\" x=\"490.39375\" xlink:href=\"#m61dcaee5c8\" y=\"265.41\"/>\n      </g>\n     </g>\n     <g id=\"text_28\">\n      <!-- 15 son, heart, man, men, ships, gods, sea, sons, god, words -->\n      <g transform=\"translate(182.651562 269.209219)scale(0.1 -0.1)\">\n       <use xlink:href=\"#DejaVuSans-31\"/>\n       <use x=\"63.623047\" xlink:href=\"#DejaVuSans-35\"/>\n       <use x=\"127.246094\" xlink:href=\"#DejaVuSans-20\"/>\n       <use x=\"159.033203\" xlink:href=\"#DejaVuSans-73\"/>\n       <use x=\"211.132812\" xlink:href=\"#DejaVuSans-6f\"/>\n       <use x=\"272.314453\" xlink:href=\"#DejaVuSans-6e\"/>\n       <use x=\"335.693359\" xlink:href=\"#DejaVuSans-2c\"/>\n       <use x=\"367.480469\" xlink:href=\"#DejaVuSans-20\"/>\n       <use x=\"399.267578\" xlink:href=\"#DejaVuSans-68\"/>\n       <use x=\"462.646484\" xlink:href=\"#DejaVuSans-65\"/>\n       <use x=\"524.169922\" xlink:href=\"#DejaVuSans-61\"/>\n       <use x=\"585.449219\" xlink:href=\"#DejaVuSans-72\"/>\n       <use x=\"626.5625\" xlink:href=\"#DejaVuSans-74\"/>\n       <use x=\"665.771484\" xlink:href=\"#DejaVuSans-2c\"/>\n       <use x=\"697.558594\" xlink:href=\"#DejaVuSans-20\"/>\n       <use x=\"729.345703\" xlink:href=\"#DejaVuSans-6d\"/>\n       <use x=\"826.757812\" xlink:href=\"#DejaVuSans-61\"/>\n       <use x=\"888.037109\" xlink:href=\"#DejaVuSans-6e\"/>\n       <use x=\"951.416016\" xlink:href=\"#DejaVuSans-2c\"/>\n       <use x=\"983.203125\" xlink:href=\"#DejaVuSans-20\"/>\n       <use x=\"1014.990234\" xlink:href=\"#DejaVuSans-6d\"/>\n       <use x=\"1112.402344\" xlink:href=\"#DejaVuSans-65\"/>\n       <use x=\"1173.925781\" xlink:href=\"#DejaVuSans-6e\"/>\n       <use x=\"1237.304688\" xlink:href=\"#DejaVuSans-2c\"/>\n       <use x=\"1269.091797\" xlink:href=\"#DejaVuSans-20\"/>\n       <use x=\"1300.878906\" xlink:href=\"#DejaVuSans-73\"/>\n       <use x=\"1352.978516\" xlink:href=\"#DejaVuSans-68\"/>\n       <use x=\"1416.357422\" xlink:href=\"#DejaVuSans-69\"/>\n       <use x=\"1444.140625\" xlink:href=\"#DejaVuSans-70\"/>\n       <use x=\"1507.617188\" xlink:href=\"#DejaVuSans-73\"/>\n       <use x=\"1559.716797\" xlink:href=\"#DejaVuSans-2c\"/>\n       <use x=\"1591.503906\" xlink:href=\"#DejaVuSans-20\"/>\n       <use x=\"1623.291016\" xlink:href=\"#DejaVuSans-67\"/>\n       <use x=\"1686.767578\" xlink:href=\"#DejaVuSans-6f\"/>\n       <use x=\"1747.949219\" xlink:href=\"#DejaVuSans-64\"/>\n       <use x=\"1811.425781\" xlink:href=\"#DejaVuSans-73\"/>\n       <use x=\"1863.525391\" xlink:href=\"#DejaVuSans-2c\"/>\n       <use x=\"1895.3125\" xlink:href=\"#DejaVuSans-20\"/>\n       <use x=\"1927.099609\" xlink:href=\"#DejaVuSans-73\"/>\n       <use x=\"1979.199219\" xlink:href=\"#DejaVuSans-65\"/>\n       <use x=\"2040.722656\" xlink:href=\"#DejaVuSans-61\"/>\n       <use x=\"2102.001953\" xlink:href=\"#DejaVuSans-2c\"/>\n       <use x=\"2133.789062\" xlink:href=\"#DejaVuSans-20\"/>\n       <use x=\"2165.576172\" xlink:href=\"#DejaVuSans-73\"/>\n       <use x=\"2217.675781\" xlink:href=\"#DejaVuSans-6f\"/>\n       <use x=\"2278.857422\" xlink:href=\"#DejaVuSans-6e\"/>\n       <use x=\"2342.236328\" xlink:href=\"#DejaVuSans-73\"/>\n       <use x=\"2394.335938\" xlink:href=\"#DejaVuSans-2c\"/>\n       <use x=\"2426.123047\" xlink:href=\"#DejaVuSans-20\"/>\n       <use x=\"2457.910156\" xlink:href=\"#DejaVuSans-67\"/>\n       <use x=\"2521.386719\" xlink:href=\"#DejaVuSans-6f\"/>\n       <use x=\"2582.568359\" xlink:href=\"#DejaVuSans-64\"/>\n       <use x=\"2646.044922\" xlink:href=\"#DejaVuSans-2c\"/>\n       <use x=\"2677.832031\" xlink:href=\"#DejaVuSans-20\"/>\n       <use x=\"2709.619141\" xlink:href=\"#DejaVuSans-77\"/>\n       <use x=\"2791.40625\" xlink:href=\"#DejaVuSans-6f\"/>\n       <use x=\"2852.587891\" xlink:href=\"#DejaVuSans-72\"/>\n       <use x=\"2891.951172\" xlink:href=\"#DejaVuSans-64\"/>\n       <use x=\"2955.427734\" xlink:href=\"#DejaVuSans-73\"/>\n      </g>\n     </g>\n    </g>\n    <g id=\"ytick_22\">\n     <g id=\"line2d_29\">\n      <g>\n       <use style=\"stroke:#000000;stroke-width:0.8;\" x=\"490.39375\" xlink:href=\"#m61dcaee5c8\" y=\"238.23\"/>\n      </g>\n     </g>\n     <g id=\"text_29\">\n      <!-- 29 war, hand, sword, arms, gods, thee, way, foe, thou, heart -->\n      <g transform=\"translate(179.940625 242.029219)scale(0.1 -0.1)\">\n       <use xlink:href=\"#DejaVuSans-32\"/>\n       <use x=\"63.623047\" xlink:href=\"#DejaVuSans-39\"/>\n       <use x=\"127.246094\" xlink:href=\"#DejaVuSans-20\"/>\n       <use x=\"159.033203\" xlink:href=\"#DejaVuSans-77\"/>\n       <use x=\"240.820312\" xlink:href=\"#DejaVuSans-61\"/>\n       <use x=\"302.099609\" xlink:href=\"#DejaVuSans-72\"/>\n       <use x=\"343.212891\" xlink:href=\"#DejaVuSans-2c\"/>\n       <use x=\"375\" xlink:href=\"#DejaVuSans-20\"/>\n       <use x=\"406.787109\" xlink:href=\"#DejaVuSans-68\"/>\n       <use x=\"470.166016\" xlink:href=\"#DejaVuSans-61\"/>\n       <use x=\"531.445312\" xlink:href=\"#DejaVuSans-6e\"/>\n       <use x=\"594.824219\" xlink:href=\"#DejaVuSans-64\"/>\n       <use x=\"658.300781\" xlink:href=\"#DejaVuSans-2c\"/>\n       <use x=\"690.087891\" xlink:href=\"#DejaVuSans-20\"/>\n       <use x=\"721.875\" xlink:href=\"#DejaVuSans-73\"/>\n       <use x=\"773.974609\" xlink:href=\"#DejaVuSans-77\"/>\n       <use x=\"855.761719\" xlink:href=\"#DejaVuSans-6f\"/>\n       <use x=\"916.943359\" xlink:href=\"#DejaVuSans-72\"/>\n       <use x=\"956.306641\" xlink:href=\"#DejaVuSans-64\"/>\n       <use x=\"1019.783203\" xlink:href=\"#DejaVuSans-2c\"/>\n       <use x=\"1051.570312\" xlink:href=\"#DejaVuSans-20\"/>\n       <use x=\"1083.357422\" xlink:href=\"#DejaVuSans-61\"/>\n       <use x=\"1144.636719\" xlink:href=\"#DejaVuSans-72\"/>\n       <use x=\"1184\" xlink:href=\"#DejaVuSans-6d\"/>\n       <use x=\"1281.412109\" xlink:href=\"#DejaVuSans-73\"/>\n       <use x=\"1333.511719\" xlink:href=\"#DejaVuSans-2c\"/>\n       <use x=\"1365.298828\" xlink:href=\"#DejaVuSans-20\"/>\n       <use x=\"1397.085938\" xlink:href=\"#DejaVuSans-67\"/>\n       <use x=\"1460.5625\" xlink:href=\"#DejaVuSans-6f\"/>\n       <use x=\"1521.744141\" xlink:href=\"#DejaVuSans-64\"/>\n       <use x=\"1585.220703\" xlink:href=\"#DejaVuSans-73\"/>\n       <use x=\"1637.320312\" xlink:href=\"#DejaVuSans-2c\"/>\n       <use x=\"1669.107422\" xlink:href=\"#DejaVuSans-20\"/>\n       <use x=\"1700.894531\" xlink:href=\"#DejaVuSans-74\"/>\n       <use x=\"1740.103516\" xlink:href=\"#DejaVuSans-68\"/>\n       <use x=\"1803.482422\" xlink:href=\"#DejaVuSans-65\"/>\n       <use x=\"1865.005859\" xlink:href=\"#DejaVuSans-65\"/>\n       <use x=\"1926.529297\" xlink:href=\"#DejaVuSans-2c\"/>\n       <use x=\"1958.316406\" xlink:href=\"#DejaVuSans-20\"/>\n       <use x=\"1990.103516\" xlink:href=\"#DejaVuSans-77\"/>\n       <use x=\"2071.890625\" xlink:href=\"#DejaVuSans-61\"/>\n       <use x=\"2133.169922\" xlink:href=\"#DejaVuSans-79\"/>\n       <use x=\"2192.349609\" xlink:href=\"#DejaVuSans-2c\"/>\n       <use x=\"2224.136719\" xlink:href=\"#DejaVuSans-20\"/>\n       <use x=\"2255.923828\" xlink:href=\"#DejaVuSans-66\"/>\n       <use x=\"2291.128906\" xlink:href=\"#DejaVuSans-6f\"/>\n       <use x=\"2352.310547\" xlink:href=\"#DejaVuSans-65\"/>\n       <use x=\"2413.833984\" xlink:href=\"#DejaVuSans-2c\"/>\n       <use x=\"2445.621094\" xlink:href=\"#DejaVuSans-20\"/>\n       <use x=\"2477.408203\" xlink:href=\"#DejaVuSans-74\"/>\n       <use x=\"2516.617188\" xlink:href=\"#DejaVuSans-68\"/>\n       <use x=\"2579.996094\" xlink:href=\"#DejaVuSans-6f\"/>\n       <use x=\"2641.177734\" xlink:href=\"#DejaVuSans-75\"/>\n       <use x=\"2704.556641\" xlink:href=\"#DejaVuSans-2c\"/>\n       <use x=\"2736.34375\" xlink:href=\"#DejaVuSans-20\"/>\n       <use x=\"2768.130859\" xlink:href=\"#DejaVuSans-68\"/>\n       <use x=\"2831.509766\" xlink:href=\"#DejaVuSans-65\"/>\n       <use x=\"2893.033203\" xlink:href=\"#DejaVuSans-61\"/>\n       <use x=\"2954.3125\" xlink:href=\"#DejaVuSans-72\"/>\n       <use x=\"2995.425781\" xlink:href=\"#DejaVuSans-74\"/>\n      </g>\n     </g>\n    </g>\n    <g id=\"ytick_23\">\n     <g id=\"line2d_30\">\n      <g>\n       <use style=\"stroke:#000000;stroke-width:0.8;\" x=\"490.39375\" xlink:href=\"#m61dcaee5c8\" y=\"211.05\"/>\n      </g>\n     </g>\n     <g id=\"text_30\">\n      <!-- 20 man, blood, gods, father, oedipus, house, land, earth, hands, hand -->\n      <g transform=\"translate(132.965625 214.849219)scale(0.1 -0.1)\">\n       <use xlink:href=\"#DejaVuSans-32\"/>\n       <use x=\"63.623047\" xlink:href=\"#DejaVuSans-30\"/>\n       <use x=\"127.246094\" xlink:href=\"#DejaVuSans-20\"/>\n       <use x=\"159.033203\" xlink:href=\"#DejaVuSans-6d\"/>\n       <use x=\"256.445312\" xlink:href=\"#DejaVuSans-61\"/>\n       <use x=\"317.724609\" xlink:href=\"#DejaVuSans-6e\"/>\n       <use x=\"381.103516\" xlink:href=\"#DejaVuSans-2c\"/>\n       <use x=\"412.890625\" xlink:href=\"#DejaVuSans-20\"/>\n       <use x=\"444.677734\" xlink:href=\"#DejaVuSans-62\"/>\n       <use x=\"508.154297\" xlink:href=\"#DejaVuSans-6c\"/>\n       <use x=\"535.9375\" xlink:href=\"#DejaVuSans-6f\"/>\n       <use x=\"597.119141\" xlink:href=\"#DejaVuSans-6f\"/>\n       <use x=\"658.300781\" xlink:href=\"#DejaVuSans-64\"/>\n       <use x=\"721.777344\" xlink:href=\"#DejaVuSans-2c\"/>\n       <use x=\"753.564453\" xlink:href=\"#DejaVuSans-20\"/>\n       <use x=\"785.351562\" xlink:href=\"#DejaVuSans-67\"/>\n       <use x=\"848.828125\" xlink:href=\"#DejaVuSans-6f\"/>\n       <use x=\"910.009766\" xlink:href=\"#DejaVuSans-64\"/>\n       <use x=\"973.486328\" xlink:href=\"#DejaVuSans-73\"/>\n       <use x=\"1025.585938\" xlink:href=\"#DejaVuSans-2c\"/>\n       <use x=\"1057.373047\" xlink:href=\"#DejaVuSans-20\"/>\n       <use x=\"1089.160156\" xlink:href=\"#DejaVuSans-66\"/>\n       <use x=\"1124.365234\" xlink:href=\"#DejaVuSans-61\"/>\n       <use x=\"1185.644531\" xlink:href=\"#DejaVuSans-74\"/>\n       <use x=\"1224.853516\" xlink:href=\"#DejaVuSans-68\"/>\n       <use x=\"1288.232422\" xlink:href=\"#DejaVuSans-65\"/>\n       <use x=\"1349.755859\" xlink:href=\"#DejaVuSans-72\"/>\n       <use x=\"1390.869141\" xlink:href=\"#DejaVuSans-2c\"/>\n       <use x=\"1422.65625\" xlink:href=\"#DejaVuSans-20\"/>\n       <use x=\"1454.443359\" xlink:href=\"#DejaVuSans-6f\"/>\n       <use x=\"1515.625\" xlink:href=\"#DejaVuSans-65\"/>\n       <use x=\"1577.148438\" xlink:href=\"#DejaVuSans-64\"/>\n       <use x=\"1640.625\" xlink:href=\"#DejaVuSans-69\"/>\n       <use x=\"1668.408203\" xlink:href=\"#DejaVuSans-70\"/>\n       <use x=\"1731.884766\" xlink:href=\"#DejaVuSans-75\"/>\n       <use x=\"1795.263672\" xlink:href=\"#DejaVuSans-73\"/>\n       <use x=\"1847.363281\" xlink:href=\"#DejaVuSans-2c\"/>\n       <use x=\"1879.150391\" xlink:href=\"#DejaVuSans-20\"/>\n       <use x=\"1910.9375\" xlink:href=\"#DejaVuSans-68\"/>\n       <use x=\"1974.316406\" xlink:href=\"#DejaVuSans-6f\"/>\n       <use x=\"2035.498047\" xlink:href=\"#DejaVuSans-75\"/>\n       <use x=\"2098.876953\" xlink:href=\"#DejaVuSans-73\"/>\n       <use x=\"2150.976562\" xlink:href=\"#DejaVuSans-65\"/>\n       <use x=\"2212.5\" xlink:href=\"#DejaVuSans-2c\"/>\n       <use x=\"2244.287109\" xlink:href=\"#DejaVuSans-20\"/>\n       <use x=\"2276.074219\" xlink:href=\"#DejaVuSans-6c\"/>\n       <use x=\"2303.857422\" xlink:href=\"#DejaVuSans-61\"/>\n       <use x=\"2365.136719\" xlink:href=\"#DejaVuSans-6e\"/>\n       <use x=\"2428.515625\" xlink:href=\"#DejaVuSans-64\"/>\n       <use x=\"2491.992188\" xlink:href=\"#DejaVuSans-2c\"/>\n       <use x=\"2523.779297\" xlink:href=\"#DejaVuSans-20\"/>\n       <use x=\"2555.566406\" xlink:href=\"#DejaVuSans-65\"/>\n       <use x=\"2617.089844\" xlink:href=\"#DejaVuSans-61\"/>\n       <use x=\"2678.369141\" xlink:href=\"#DejaVuSans-72\"/>\n       <use x=\"2719.482422\" xlink:href=\"#DejaVuSans-74\"/>\n       <use x=\"2758.691406\" xlink:href=\"#DejaVuSans-68\"/>\n       <use x=\"2822.070312\" xlink:href=\"#DejaVuSans-2c\"/>\n       <use x=\"2853.857422\" xlink:href=\"#DejaVuSans-20\"/>\n       <use x=\"2885.644531\" xlink:href=\"#DejaVuSans-68\"/>\n       <use x=\"2949.023438\" xlink:href=\"#DejaVuSans-61\"/>\n       <use x=\"3010.302734\" xlink:href=\"#DejaVuSans-6e\"/>\n       <use x=\"3073.681641\" xlink:href=\"#DejaVuSans-64\"/>\n       <use x=\"3137.158203\" xlink:href=\"#DejaVuSans-73\"/>\n       <use x=\"3189.257812\" xlink:href=\"#DejaVuSans-2c\"/>\n       <use x=\"3221.044922\" xlink:href=\"#DejaVuSans-20\"/>\n       <use x=\"3252.832031\" xlink:href=\"#DejaVuSans-68\"/>\n       <use x=\"3316.210938\" xlink:href=\"#DejaVuSans-61\"/>\n       <use x=\"3377.490234\" xlink:href=\"#DejaVuSans-6e\"/>\n       <use x=\"3440.869141\" xlink:href=\"#DejaVuSans-64\"/>\n      </g>\n     </g>\n    </g>\n    <g id=\"ytick_24\">\n     <g id=\"line2d_31\">\n      <g>\n       <use style=\"stroke:#000000;stroke-width:0.8;\" x=\"490.39375\" xlink:href=\"#m61dcaee5c8\" y=\"183.87\"/>\n      </g>\n     </g>\n     <g id=\"text_31\">\n      <!-- 18 gods, man, city, men, land, child, death, light, place, home -->\n      <g transform=\"translate(172.067187 187.669219)scale(0.1 -0.1)\">\n       <use xlink:href=\"#DejaVuSans-31\"/>\n       <use x=\"63.623047\" xlink:href=\"#DejaVuSans-38\"/>\n       <use x=\"127.246094\" xlink:href=\"#DejaVuSans-20\"/>\n       <use x=\"159.033203\" xlink:href=\"#DejaVuSans-67\"/>\n       <use x=\"222.509766\" xlink:href=\"#DejaVuSans-6f\"/>\n       <use x=\"283.691406\" xlink:href=\"#DejaVuSans-64\"/>\n       <use x=\"347.167969\" xlink:href=\"#DejaVuSans-73\"/>\n       <use x=\"399.267578\" xlink:href=\"#DejaVuSans-2c\"/>\n       <use x=\"431.054688\" xlink:href=\"#DejaVuSans-20\"/>\n       <use x=\"462.841797\" xlink:href=\"#DejaVuSans-6d\"/>\n       <use x=\"560.253906\" xlink:href=\"#DejaVuSans-61\"/>\n       <use x=\"621.533203\" xlink:href=\"#DejaVuSans-6e\"/>\n       <use x=\"684.912109\" xlink:href=\"#DejaVuSans-2c\"/>\n       <use x=\"716.699219\" xlink:href=\"#DejaVuSans-20\"/>\n       <use x=\"748.486328\" xlink:href=\"#DejaVuSans-63\"/>\n       <use x=\"803.466797\" xlink:href=\"#DejaVuSans-69\"/>\n       <use x=\"831.25\" xlink:href=\"#DejaVuSans-74\"/>\n       <use x=\"870.458984\" xlink:href=\"#DejaVuSans-79\"/>\n       <use x=\"929.638672\" xlink:href=\"#DejaVuSans-2c\"/>\n       <use x=\"961.425781\" xlink:href=\"#DejaVuSans-20\"/>\n       <use x=\"993.212891\" xlink:href=\"#DejaVuSans-6d\"/>\n       <use x=\"1090.625\" xlink:href=\"#DejaVuSans-65\"/>\n       <use x=\"1152.148438\" xlink:href=\"#DejaVuSans-6e\"/>\n       <use x=\"1215.527344\" xlink:href=\"#DejaVuSans-2c\"/>\n       <use x=\"1247.314453\" xlink:href=\"#DejaVuSans-20\"/>\n       <use x=\"1279.101562\" xlink:href=\"#DejaVuSans-6c\"/>\n       <use x=\"1306.884766\" xlink:href=\"#DejaVuSans-61\"/>\n       <use x=\"1368.164062\" xlink:href=\"#DejaVuSans-6e\"/>\n       <use x=\"1431.542969\" xlink:href=\"#DejaVuSans-64\"/>\n       <use x=\"1495.019531\" xlink:href=\"#DejaVuSans-2c\"/>\n       <use x=\"1526.806641\" xlink:href=\"#DejaVuSans-20\"/>\n       <use x=\"1558.59375\" xlink:href=\"#DejaVuSans-63\"/>\n       <use x=\"1613.574219\" xlink:href=\"#DejaVuSans-68\"/>\n       <use x=\"1676.953125\" xlink:href=\"#DejaVuSans-69\"/>\n       <use x=\"1704.736328\" xlink:href=\"#DejaVuSans-6c\"/>\n       <use x=\"1732.519531\" xlink:href=\"#DejaVuSans-64\"/>\n       <use x=\"1795.996094\" xlink:href=\"#DejaVuSans-2c\"/>\n       <use x=\"1827.783203\" xlink:href=\"#DejaVuSans-20\"/>\n       <use x=\"1859.570312\" xlink:href=\"#DejaVuSans-64\"/>\n       <use x=\"1923.046875\" xlink:href=\"#DejaVuSans-65\"/>\n       <use x=\"1984.570312\" xlink:href=\"#DejaVuSans-61\"/>\n       <use x=\"2045.849609\" xlink:href=\"#DejaVuSans-74\"/>\n       <use x=\"2085.058594\" xlink:href=\"#DejaVuSans-68\"/>\n       <use x=\"2148.4375\" xlink:href=\"#DejaVuSans-2c\"/>\n       <use x=\"2180.224609\" xlink:href=\"#DejaVuSans-20\"/>\n       <use x=\"2212.011719\" xlink:href=\"#DejaVuSans-6c\"/>\n       <use x=\"2239.794922\" xlink:href=\"#DejaVuSans-69\"/>\n       <use x=\"2267.578125\" xlink:href=\"#DejaVuSans-67\"/>\n       <use x=\"2331.054688\" xlink:href=\"#DejaVuSans-68\"/>\n       <use x=\"2394.433594\" xlink:href=\"#DejaVuSans-74\"/>\n       <use x=\"2433.642578\" xlink:href=\"#DejaVuSans-2c\"/>\n       <use x=\"2465.429688\" xlink:href=\"#DejaVuSans-20\"/>\n       <use x=\"2497.216797\" xlink:href=\"#DejaVuSans-70\"/>\n       <use x=\"2560.693359\" xlink:href=\"#DejaVuSans-6c\"/>\n       <use x=\"2588.476562\" xlink:href=\"#DejaVuSans-61\"/>\n       <use x=\"2649.755859\" xlink:href=\"#DejaVuSans-63\"/>\n       <use x=\"2704.736328\" xlink:href=\"#DejaVuSans-65\"/>\n       <use x=\"2766.259766\" xlink:href=\"#DejaVuSans-2c\"/>\n       <use x=\"2798.046875\" xlink:href=\"#DejaVuSans-20\"/>\n       <use x=\"2829.833984\" xlink:href=\"#DejaVuSans-68\"/>\n       <use x=\"2893.212891\" xlink:href=\"#DejaVuSans-6f\"/>\n       <use x=\"2954.394531\" xlink:href=\"#DejaVuSans-6d\"/>\n       <use x=\"3051.806641\" xlink:href=\"#DejaVuSans-65\"/>\n      </g>\n     </g>\n    </g>\n    <g id=\"ytick_25\">\n     <g id=\"line2d_32\">\n      <g>\n       <use style=\"stroke:#000000;stroke-width:0.8;\" x=\"490.39375\" xlink:href=\"#m61dcaee5c8\" y=\"156.69\"/>\n      </g>\n     </g>\n     <g id=\"text_32\">\n      <!-- 24 gods, men, earth, heart, son, deathless, man, sea, goddess, house -->\n      <g transform=\"translate(133.235937 160.489219)scale(0.1 -0.1)\">\n       <use xlink:href=\"#DejaVuSans-32\"/>\n       <use x=\"63.623047\" xlink:href=\"#DejaVuSans-34\"/>\n       <use x=\"127.246094\" xlink:href=\"#DejaVuSans-20\"/>\n       <use x=\"159.033203\" xlink:href=\"#DejaVuSans-67\"/>\n       <use x=\"222.509766\" xlink:href=\"#DejaVuSans-6f\"/>\n       <use x=\"283.691406\" xlink:href=\"#DejaVuSans-64\"/>\n       <use x=\"347.167969\" xlink:href=\"#DejaVuSans-73\"/>\n       <use x=\"399.267578\" xlink:href=\"#DejaVuSans-2c\"/>\n       <use x=\"431.054688\" xlink:href=\"#DejaVuSans-20\"/>\n       <use x=\"462.841797\" xlink:href=\"#DejaVuSans-6d\"/>\n       <use x=\"560.253906\" xlink:href=\"#DejaVuSans-65\"/>\n       <use x=\"621.777344\" xlink:href=\"#DejaVuSans-6e\"/>\n       <use x=\"685.15625\" xlink:href=\"#DejaVuSans-2c\"/>\n       <use x=\"716.943359\" xlink:href=\"#DejaVuSans-20\"/>\n       <use x=\"748.730469\" xlink:href=\"#DejaVuSans-65\"/>\n       <use x=\"810.253906\" xlink:href=\"#DejaVuSans-61\"/>\n       <use x=\"871.533203\" xlink:href=\"#DejaVuSans-72\"/>\n       <use x=\"912.646484\" xlink:href=\"#DejaVuSans-74\"/>\n       <use x=\"951.855469\" xlink:href=\"#DejaVuSans-68\"/>\n       <use x=\"1015.234375\" xlink:href=\"#DejaVuSans-2c\"/>\n       <use x=\"1047.021484\" xlink:href=\"#DejaVuSans-20\"/>\n       <use x=\"1078.808594\" xlink:href=\"#DejaVuSans-68\"/>\n       <use x=\"1142.1875\" xlink:href=\"#DejaVuSans-65\"/>\n       <use x=\"1203.710938\" xlink:href=\"#DejaVuSans-61\"/>\n       <use x=\"1264.990234\" xlink:href=\"#DejaVuSans-72\"/>\n       <use x=\"1306.103516\" xlink:href=\"#DejaVuSans-74\"/>\n       <use x=\"1345.3125\" xlink:href=\"#DejaVuSans-2c\"/>\n       <use x=\"1377.099609\" xlink:href=\"#DejaVuSans-20\"/>\n       <use x=\"1408.886719\" xlink:href=\"#DejaVuSans-73\"/>\n       <use x=\"1460.986328\" xlink:href=\"#DejaVuSans-6f\"/>\n       <use x=\"1522.167969\" xlink:href=\"#DejaVuSans-6e\"/>\n       <use x=\"1585.546875\" xlink:href=\"#DejaVuSans-2c\"/>\n       <use x=\"1617.333984\" xlink:href=\"#DejaVuSans-20\"/>\n       <use x=\"1649.121094\" xlink:href=\"#DejaVuSans-64\"/>\n       <use x=\"1712.597656\" xlink:href=\"#DejaVuSans-65\"/>\n       <use x=\"1774.121094\" xlink:href=\"#DejaVuSans-61\"/>\n       <use x=\"1835.400391\" xlink:href=\"#DejaVuSans-74\"/>\n       <use x=\"1874.609375\" xlink:href=\"#DejaVuSans-68\"/>\n       <use x=\"1937.988281\" xlink:href=\"#DejaVuSans-6c\"/>\n       <use x=\"1965.771484\" xlink:href=\"#DejaVuSans-65\"/>\n       <use x=\"2027.294922\" xlink:href=\"#DejaVuSans-73\"/>\n       <use x=\"2079.394531\" xlink:href=\"#DejaVuSans-73\"/>\n       <use x=\"2131.494141\" xlink:href=\"#DejaVuSans-2c\"/>\n       <use x=\"2163.28125\" xlink:href=\"#DejaVuSans-20\"/>\n       <use x=\"2195.068359\" xlink:href=\"#DejaVuSans-6d\"/>\n       <use x=\"2292.480469\" xlink:href=\"#DejaVuSans-61\"/>\n       <use x=\"2353.759766\" xlink:href=\"#DejaVuSans-6e\"/>\n       <use x=\"2417.138672\" xlink:href=\"#DejaVuSans-2c\"/>\n       <use x=\"2448.925781\" xlink:href=\"#DejaVuSans-20\"/>\n       <use x=\"2480.712891\" xlink:href=\"#DejaVuSans-73\"/>\n       <use x=\"2532.8125\" xlink:href=\"#DejaVuSans-65\"/>\n       <use x=\"2594.335938\" xlink:href=\"#DejaVuSans-61\"/>\n       <use x=\"2655.615234\" xlink:href=\"#DejaVuSans-2c\"/>\n       <use x=\"2687.402344\" xlink:href=\"#DejaVuSans-20\"/>\n       <use x=\"2719.189453\" xlink:href=\"#DejaVuSans-67\"/>\n       <use x=\"2782.666016\" xlink:href=\"#DejaVuSans-6f\"/>\n       <use x=\"2843.847656\" xlink:href=\"#DejaVuSans-64\"/>\n       <use x=\"2907.324219\" xlink:href=\"#DejaVuSans-64\"/>\n       <use x=\"2970.800781\" xlink:href=\"#DejaVuSans-65\"/>\n       <use x=\"3032.324219\" xlink:href=\"#DejaVuSans-73\"/>\n       <use x=\"3084.423828\" xlink:href=\"#DejaVuSans-73\"/>\n       <use x=\"3136.523438\" xlink:href=\"#DejaVuSans-2c\"/>\n       <use x=\"3168.310547\" xlink:href=\"#DejaVuSans-20\"/>\n       <use x=\"3200.097656\" xlink:href=\"#DejaVuSans-68\"/>\n       <use x=\"3263.476562\" xlink:href=\"#DejaVuSans-6f\"/>\n       <use x=\"3324.658203\" xlink:href=\"#DejaVuSans-75\"/>\n       <use x=\"3388.037109\" xlink:href=\"#DejaVuSans-73\"/>\n       <use x=\"3440.136719\" xlink:href=\"#DejaVuSans-65\"/>\n      </g>\n     </g>\n    </g>\n    <g id=\"ytick_26\">\n     <g id=\"line2d_33\">\n      <g>\n       <use style=\"stroke:#000000;stroke-width:0.8;\" x=\"490.39375\" xlink:href=\"#m61dcaee5c8\" y=\"129.51\"/>\n      </g>\n     </g>\n     <g id=\"text_33\">\n      <!-- 21 thou, men, thee, man, heart, house, son, ship, wooers, land -->\n      <g transform=\"translate(167.942187 133.309219)scale(0.1 -0.1)\">\n       <use xlink:href=\"#DejaVuSans-32\"/>\n       <use x=\"63.623047\" xlink:href=\"#DejaVuSans-31\"/>\n       <use x=\"127.246094\" xlink:href=\"#DejaVuSans-20\"/>\n       <use x=\"159.033203\" xlink:href=\"#DejaVuSans-74\"/>\n       <use x=\"198.242188\" xlink:href=\"#DejaVuSans-68\"/>\n       <use x=\"261.621094\" xlink:href=\"#DejaVuSans-6f\"/>\n       <use x=\"322.802734\" xlink:href=\"#DejaVuSans-75\"/>\n       <use x=\"386.181641\" xlink:href=\"#DejaVuSans-2c\"/>\n       <use x=\"417.96875\" xlink:href=\"#DejaVuSans-20\"/>\n       <use x=\"449.755859\" xlink:href=\"#DejaVuSans-6d\"/>\n       <use x=\"547.167969\" xlink:href=\"#DejaVuSans-65\"/>\n       <use x=\"608.691406\" xlink:href=\"#DejaVuSans-6e\"/>\n       <use x=\"672.070312\" xlink:href=\"#DejaVuSans-2c\"/>\n       <use x=\"703.857422\" xlink:href=\"#DejaVuSans-20\"/>\n       <use x=\"735.644531\" xlink:href=\"#DejaVuSans-74\"/>\n       <use x=\"774.853516\" xlink:href=\"#DejaVuSans-68\"/>\n       <use x=\"838.232422\" xlink:href=\"#DejaVuSans-65\"/>\n       <use x=\"899.755859\" xlink:href=\"#DejaVuSans-65\"/>\n       <use x=\"961.279297\" xlink:href=\"#DejaVuSans-2c\"/>\n       <use x=\"993.066406\" xlink:href=\"#DejaVuSans-20\"/>\n       <use x=\"1024.853516\" xlink:href=\"#DejaVuSans-6d\"/>\n       <use x=\"1122.265625\" xlink:href=\"#DejaVuSans-61\"/>\n       <use x=\"1183.544922\" xlink:href=\"#DejaVuSans-6e\"/>\n       <use x=\"1246.923828\" xlink:href=\"#DejaVuSans-2c\"/>\n       <use x=\"1278.710938\" xlink:href=\"#DejaVuSans-20\"/>\n       <use x=\"1310.498047\" xlink:href=\"#DejaVuSans-68\"/>\n       <use x=\"1373.876953\" xlink:href=\"#DejaVuSans-65\"/>\n       <use x=\"1435.400391\" xlink:href=\"#DejaVuSans-61\"/>\n       <use x=\"1496.679688\" xlink:href=\"#DejaVuSans-72\"/>\n       <use x=\"1537.792969\" xlink:href=\"#DejaVuSans-74\"/>\n       <use x=\"1577.001953\" xlink:href=\"#DejaVuSans-2c\"/>\n       <use x=\"1608.789062\" xlink:href=\"#DejaVuSans-20\"/>\n       <use x=\"1640.576172\" xlink:href=\"#DejaVuSans-68\"/>\n       <use x=\"1703.955078\" xlink:href=\"#DejaVuSans-6f\"/>\n       <use x=\"1765.136719\" xlink:href=\"#DejaVuSans-75\"/>\n       <use x=\"1828.515625\" xlink:href=\"#DejaVuSans-73\"/>\n       <use x=\"1880.615234\" xlink:href=\"#DejaVuSans-65\"/>\n       <use x=\"1942.138672\" xlink:href=\"#DejaVuSans-2c\"/>\n       <use x=\"1973.925781\" xlink:href=\"#DejaVuSans-20\"/>\n       <use x=\"2005.712891\" xlink:href=\"#DejaVuSans-73\"/>\n       <use x=\"2057.8125\" xlink:href=\"#DejaVuSans-6f\"/>\n       <use x=\"2118.994141\" xlink:href=\"#DejaVuSans-6e\"/>\n       <use x=\"2182.373047\" xlink:href=\"#DejaVuSans-2c\"/>\n       <use x=\"2214.160156\" xlink:href=\"#DejaVuSans-20\"/>\n       <use x=\"2245.947266\" xlink:href=\"#DejaVuSans-73\"/>\n       <use x=\"2298.046875\" xlink:href=\"#DejaVuSans-68\"/>\n       <use x=\"2361.425781\" xlink:href=\"#DejaVuSans-69\"/>\n       <use x=\"2389.208984\" xlink:href=\"#DejaVuSans-70\"/>\n       <use x=\"2452.685547\" xlink:href=\"#DejaVuSans-2c\"/>\n       <use x=\"2484.472656\" xlink:href=\"#DejaVuSans-20\"/>\n       <use x=\"2516.259766\" xlink:href=\"#DejaVuSans-77\"/>\n       <use x=\"2598.046875\" xlink:href=\"#DejaVuSans-6f\"/>\n       <use x=\"2659.228516\" xlink:href=\"#DejaVuSans-6f\"/>\n       <use x=\"2720.410156\" xlink:href=\"#DejaVuSans-65\"/>\n       <use x=\"2781.933594\" xlink:href=\"#DejaVuSans-72\"/>\n       <use x=\"2823.046875\" xlink:href=\"#DejaVuSans-73\"/>\n       <use x=\"2875.146484\" xlink:href=\"#DejaVuSans-2c\"/>\n       <use x=\"2906.933594\" xlink:href=\"#DejaVuSans-20\"/>\n       <use x=\"2938.720703\" xlink:href=\"#DejaVuSans-6c\"/>\n       <use x=\"2966.503906\" xlink:href=\"#DejaVuSans-61\"/>\n       <use x=\"3027.783203\" xlink:href=\"#DejaVuSans-6e\"/>\n       <use x=\"3091.162109\" xlink:href=\"#DejaVuSans-64\"/>\n      </g>\n     </g>\n    </g>\n    <g id=\"ytick_27\">\n     <g id=\"line2d_34\">\n      <g>\n       <use style=\"stroke:#000000;stroke-width:0.8;\" x=\"490.39375\" xlink:href=\"#m61dcaee5c8\" y=\"102.33\"/>\n      </g>\n     </g>\n     <g id=\"text_34\">\n      <!-- 11 son, thou, man, ships, men, spear, heart, thee, battle, horses -->\n      <g transform=\"translate(160.032812 106.129219)scale(0.1 -0.1)\">\n       <use xlink:href=\"#DejaVuSans-31\"/>\n       <use x=\"63.623047\" xlink:href=\"#DejaVuSans-31\"/>\n       <use x=\"127.246094\" xlink:href=\"#DejaVuSans-20\"/>\n       <use x=\"159.033203\" xlink:href=\"#DejaVuSans-73\"/>\n       <use x=\"211.132812\" xlink:href=\"#DejaVuSans-6f\"/>\n       <use x=\"272.314453\" xlink:href=\"#DejaVuSans-6e\"/>\n       <use x=\"335.693359\" xlink:href=\"#DejaVuSans-2c\"/>\n       <use x=\"367.480469\" xlink:href=\"#DejaVuSans-20\"/>\n       <use x=\"399.267578\" xlink:href=\"#DejaVuSans-74\"/>\n       <use x=\"438.476562\" xlink:href=\"#DejaVuSans-68\"/>\n       <use x=\"501.855469\" xlink:href=\"#DejaVuSans-6f\"/>\n       <use x=\"563.037109\" xlink:href=\"#DejaVuSans-75\"/>\n       <use x=\"626.416016\" xlink:href=\"#DejaVuSans-2c\"/>\n       <use x=\"658.203125\" xlink:href=\"#DejaVuSans-20\"/>\n       <use x=\"689.990234\" xlink:href=\"#DejaVuSans-6d\"/>\n       <use x=\"787.402344\" xlink:href=\"#DejaVuSans-61\"/>\n       <use x=\"848.681641\" xlink:href=\"#DejaVuSans-6e\"/>\n       <use x=\"912.060547\" xlink:href=\"#DejaVuSans-2c\"/>\n       <use x=\"943.847656\" xlink:href=\"#DejaVuSans-20\"/>\n       <use x=\"975.634766\" xlink:href=\"#DejaVuSans-73\"/>\n       <use x=\"1027.734375\" xlink:href=\"#DejaVuSans-68\"/>\n       <use x=\"1091.113281\" xlink:href=\"#DejaVuSans-69\"/>\n       <use x=\"1118.896484\" xlink:href=\"#DejaVuSans-70\"/>\n       <use x=\"1182.373047\" xlink:href=\"#DejaVuSans-73\"/>\n       <use x=\"1234.472656\" xlink:href=\"#DejaVuSans-2c\"/>\n       <use x=\"1266.259766\" xlink:href=\"#DejaVuSans-20\"/>\n       <use x=\"1298.046875\" xlink:href=\"#DejaVuSans-6d\"/>\n       <use x=\"1395.458984\" xlink:href=\"#DejaVuSans-65\"/>\n       <use x=\"1456.982422\" xlink:href=\"#DejaVuSans-6e\"/>\n       <use x=\"1520.361328\" xlink:href=\"#DejaVuSans-2c\"/>\n       <use x=\"1552.148438\" xlink:href=\"#DejaVuSans-20\"/>\n       <use x=\"1583.935547\" xlink:href=\"#DejaVuSans-73\"/>\n       <use x=\"1636.035156\" xlink:href=\"#DejaVuSans-70\"/>\n       <use x=\"1699.511719\" xlink:href=\"#DejaVuSans-65\"/>\n       <use x=\"1761.035156\" xlink:href=\"#DejaVuSans-61\"/>\n       <use x=\"1822.314453\" xlink:href=\"#DejaVuSans-72\"/>\n       <use x=\"1863.427734\" xlink:href=\"#DejaVuSans-2c\"/>\n       <use x=\"1895.214844\" xlink:href=\"#DejaVuSans-20\"/>\n       <use x=\"1927.001953\" xlink:href=\"#DejaVuSans-68\"/>\n       <use x=\"1990.380859\" xlink:href=\"#DejaVuSans-65\"/>\n       <use x=\"2051.904297\" xlink:href=\"#DejaVuSans-61\"/>\n       <use x=\"2113.183594\" xlink:href=\"#DejaVuSans-72\"/>\n       <use x=\"2154.296875\" xlink:href=\"#DejaVuSans-74\"/>\n       <use x=\"2193.505859\" xlink:href=\"#DejaVuSans-2c\"/>\n       <use x=\"2225.292969\" xlink:href=\"#DejaVuSans-20\"/>\n       <use x=\"2257.080078\" xlink:href=\"#DejaVuSans-74\"/>\n       <use x=\"2296.289062\" xlink:href=\"#DejaVuSans-68\"/>\n       <use x=\"2359.667969\" xlink:href=\"#DejaVuSans-65\"/>\n       <use x=\"2421.191406\" xlink:href=\"#DejaVuSans-65\"/>\n       <use x=\"2482.714844\" xlink:href=\"#DejaVuSans-2c\"/>\n       <use x=\"2514.501953\" xlink:href=\"#DejaVuSans-20\"/>\n       <use x=\"2546.289062\" xlink:href=\"#DejaVuSans-62\"/>\n       <use x=\"2609.765625\" xlink:href=\"#DejaVuSans-61\"/>\n       <use x=\"2671.044922\" xlink:href=\"#DejaVuSans-74\"/>\n       <use x=\"2710.253906\" xlink:href=\"#DejaVuSans-74\"/>\n       <use x=\"2749.462891\" xlink:href=\"#DejaVuSans-6c\"/>\n       <use x=\"2777.246094\" xlink:href=\"#DejaVuSans-65\"/>\n       <use x=\"2838.769531\" xlink:href=\"#DejaVuSans-2c\"/>\n       <use x=\"2870.556641\" xlink:href=\"#DejaVuSans-20\"/>\n       <use x=\"2902.34375\" xlink:href=\"#DejaVuSans-68\"/>\n       <use x=\"2965.722656\" xlink:href=\"#DejaVuSans-6f\"/>\n       <use x=\"3026.904297\" xlink:href=\"#DejaVuSans-72\"/>\n       <use x=\"3068.017578\" xlink:href=\"#DejaVuSans-73\"/>\n       <use x=\"3120.117188\" xlink:href=\"#DejaVuSans-65\"/>\n       <use x=\"3181.640625\" xlink:href=\"#DejaVuSans-73\"/>\n      </g>\n     </g>\n    </g>\n    <g id=\"ytick_28\">\n     <g id=\"line2d_35\">\n      <g>\n       <use style=\"stroke:#000000;stroke-width:0.8;\" x=\"490.39375\" xlink:href=\"#m61dcaee5c8\" y=\"75.15\"/>\n      </g>\n     </g>\n     <g id=\"text_35\">\n      <!-- 3 love, son, sea, death, words, land, waves, arms, blood, life -->\n      <g transform=\"translate(180.707812 78.949219)scale(0.1 -0.1)\">\n       <use xlink:href=\"#DejaVuSans-33\"/>\n       <use x=\"63.623047\" xlink:href=\"#DejaVuSans-20\"/>\n       <use x=\"95.410156\" xlink:href=\"#DejaVuSans-6c\"/>\n       <use x=\"123.193359\" xlink:href=\"#DejaVuSans-6f\"/>\n       <use x=\"184.375\" xlink:href=\"#DejaVuSans-76\"/>\n       <use x=\"243.554688\" xlink:href=\"#DejaVuSans-65\"/>\n       <use x=\"305.078125\" xlink:href=\"#DejaVuSans-2c\"/>\n       <use x=\"336.865234\" xlink:href=\"#DejaVuSans-20\"/>\n       <use x=\"368.652344\" xlink:href=\"#DejaVuSans-73\"/>\n       <use x=\"420.751953\" xlink:href=\"#DejaVuSans-6f\"/>\n       <use x=\"481.933594\" xlink:href=\"#DejaVuSans-6e\"/>\n       <use x=\"545.3125\" xlink:href=\"#DejaVuSans-2c\"/>\n       <use x=\"577.099609\" xlink:href=\"#DejaVuSans-20\"/>\n       <use x=\"608.886719\" xlink:href=\"#DejaVuSans-73\"/>\n       <use x=\"660.986328\" xlink:href=\"#DejaVuSans-65\"/>\n       <use x=\"722.509766\" xlink:href=\"#DejaVuSans-61\"/>\n       <use x=\"783.789062\" xlink:href=\"#DejaVuSans-2c\"/>\n       <use x=\"815.576172\" xlink:href=\"#DejaVuSans-20\"/>\n       <use x=\"847.363281\" xlink:href=\"#DejaVuSans-64\"/>\n       <use x=\"910.839844\" xlink:href=\"#DejaVuSans-65\"/>\n       <use x=\"972.363281\" xlink:href=\"#DejaVuSans-61\"/>\n       <use x=\"1033.642578\" xlink:href=\"#DejaVuSans-74\"/>\n       <use x=\"1072.851562\" xlink:href=\"#DejaVuSans-68\"/>\n       <use x=\"1136.230469\" xlink:href=\"#DejaVuSans-2c\"/>\n       <use x=\"1168.017578\" xlink:href=\"#DejaVuSans-20\"/>\n       <use x=\"1199.804688\" xlink:href=\"#DejaVuSans-77\"/>\n       <use x=\"1281.591797\" xlink:href=\"#DejaVuSans-6f\"/>\n       <use x=\"1342.773438\" xlink:href=\"#DejaVuSans-72\"/>\n       <use x=\"1382.136719\" xlink:href=\"#DejaVuSans-64\"/>\n       <use x=\"1445.613281\" xlink:href=\"#DejaVuSans-73\"/>\n       <use x=\"1497.712891\" xlink:href=\"#DejaVuSans-2c\"/>\n       <use x=\"1529.5\" xlink:href=\"#DejaVuSans-20\"/>\n       <use x=\"1561.287109\" xlink:href=\"#DejaVuSans-6c\"/>\n       <use x=\"1589.070312\" xlink:href=\"#DejaVuSans-61\"/>\n       <use x=\"1650.349609\" xlink:href=\"#DejaVuSans-6e\"/>\n       <use x=\"1713.728516\" xlink:href=\"#DejaVuSans-64\"/>\n       <use x=\"1777.205078\" xlink:href=\"#DejaVuSans-2c\"/>\n       <use x=\"1808.992188\" xlink:href=\"#DejaVuSans-20\"/>\n       <use x=\"1840.779297\" xlink:href=\"#DejaVuSans-77\"/>\n       <use x=\"1922.566406\" xlink:href=\"#DejaVuSans-61\"/>\n       <use x=\"1983.845703\" xlink:href=\"#DejaVuSans-76\"/>\n       <use x=\"2043.025391\" xlink:href=\"#DejaVuSans-65\"/>\n       <use x=\"2104.548828\" xlink:href=\"#DejaVuSans-73\"/>\n       <use x=\"2156.648438\" xlink:href=\"#DejaVuSans-2c\"/>\n       <use x=\"2188.435547\" xlink:href=\"#DejaVuSans-20\"/>\n       <use x=\"2220.222656\" xlink:href=\"#DejaVuSans-61\"/>\n       <use x=\"2281.501953\" xlink:href=\"#DejaVuSans-72\"/>\n       <use x=\"2320.865234\" xlink:href=\"#DejaVuSans-6d\"/>\n       <use x=\"2418.277344\" xlink:href=\"#DejaVuSans-73\"/>\n       <use x=\"2470.376953\" xlink:href=\"#DejaVuSans-2c\"/>\n       <use x=\"2502.164062\" xlink:href=\"#DejaVuSans-20\"/>\n       <use x=\"2533.951172\" xlink:href=\"#DejaVuSans-62\"/>\n       <use x=\"2597.427734\" xlink:href=\"#DejaVuSans-6c\"/>\n       <use x=\"2625.210938\" xlink:href=\"#DejaVuSans-6f\"/>\n       <use x=\"2686.392578\" xlink:href=\"#DejaVuSans-6f\"/>\n       <use x=\"2747.574219\" xlink:href=\"#DejaVuSans-64\"/>\n       <use x=\"2811.050781\" xlink:href=\"#DejaVuSans-2c\"/>\n       <use x=\"2842.837891\" xlink:href=\"#DejaVuSans-20\"/>\n       <use x=\"2874.625\" xlink:href=\"#DejaVuSans-6c\"/>\n       <use x=\"2902.408203\" xlink:href=\"#DejaVuSans-69\"/>\n       <use x=\"2930.191406\" xlink:href=\"#DejaVuSans-66\"/>\n       <use x=\"2965.396484\" xlink:href=\"#DejaVuSans-65\"/>\n      </g>\n     </g>\n    </g>\n    <g id=\"ytick_29\">\n     <g id=\"line2d_36\">\n      <g>\n       <use style=\"stroke:#000000;stroke-width:0.8;\" x=\"490.39375\" xlink:href=\"#m61dcaee5c8\" y=\"47.97\"/>\n      </g>\n     </g>\n     <g id=\"text_36\">\n      <!-- 13 father, house, man, child, gods, mother, daughter, heart, husband, home -->\n      <g transform=\"translate(99.873437 51.769219)scale(0.1 -0.1)\">\n       <use xlink:href=\"#DejaVuSans-31\"/>\n       <use x=\"63.623047\" xlink:href=\"#DejaVuSans-33\"/>\n       <use x=\"127.246094\" xlink:href=\"#DejaVuSans-20\"/>\n       <use x=\"159.033203\" xlink:href=\"#DejaVuSans-66\"/>\n       <use x=\"194.238281\" xlink:href=\"#DejaVuSans-61\"/>\n       <use x=\"255.517578\" xlink:href=\"#DejaVuSans-74\"/>\n       <use x=\"294.726562\" xlink:href=\"#DejaVuSans-68\"/>\n       <use x=\"358.105469\" xlink:href=\"#DejaVuSans-65\"/>\n       <use x=\"419.628906\" xlink:href=\"#DejaVuSans-72\"/>\n       <use x=\"460.742188\" xlink:href=\"#DejaVuSans-2c\"/>\n       <use x=\"492.529297\" xlink:href=\"#DejaVuSans-20\"/>\n       <use x=\"524.316406\" xlink:href=\"#DejaVuSans-68\"/>\n       <use x=\"587.695312\" xlink:href=\"#DejaVuSans-6f\"/>\n       <use x=\"648.876953\" xlink:href=\"#DejaVuSans-75\"/>\n       <use x=\"712.255859\" xlink:href=\"#DejaVuSans-73\"/>\n       <use x=\"764.355469\" xlink:href=\"#DejaVuSans-65\"/>\n       <use x=\"825.878906\" xlink:href=\"#DejaVuSans-2c\"/>\n       <use x=\"857.666016\" xlink:href=\"#DejaVuSans-20\"/>\n       <use x=\"889.453125\" xlink:href=\"#DejaVuSans-6d\"/>\n       <use x=\"986.865234\" xlink:href=\"#DejaVuSans-61\"/>\n       <use x=\"1048.144531\" xlink:href=\"#DejaVuSans-6e\"/>\n       <use x=\"1111.523438\" xlink:href=\"#DejaVuSans-2c\"/>\n       <use x=\"1143.310547\" xlink:href=\"#DejaVuSans-20\"/>\n       <use x=\"1175.097656\" xlink:href=\"#DejaVuSans-63\"/>\n       <use x=\"1230.078125\" xlink:href=\"#DejaVuSans-68\"/>\n       <use x=\"1293.457031\" xlink:href=\"#DejaVuSans-69\"/>\n       <use x=\"1321.240234\" xlink:href=\"#DejaVuSans-6c\"/>\n       <use x=\"1349.023438\" xlink:href=\"#DejaVuSans-64\"/>\n       <use x=\"1412.5\" xlink:href=\"#DejaVuSans-2c\"/>\n       <use x=\"1444.287109\" xlink:href=\"#DejaVuSans-20\"/>\n       <use x=\"1476.074219\" xlink:href=\"#DejaVuSans-67\"/>\n       <use x=\"1539.550781\" xlink:href=\"#DejaVuSans-6f\"/>\n       <use x=\"1600.732422\" xlink:href=\"#DejaVuSans-64\"/>\n       <use x=\"1664.208984\" xlink:href=\"#DejaVuSans-73\"/>\n       <use x=\"1716.308594\" xlink:href=\"#DejaVuSans-2c\"/>\n       <use x=\"1748.095703\" xlink:href=\"#DejaVuSans-20\"/>\n       <use x=\"1779.882812\" xlink:href=\"#DejaVuSans-6d\"/>\n       <use x=\"1877.294922\" xlink:href=\"#DejaVuSans-6f\"/>\n       <use x=\"1938.476562\" xlink:href=\"#DejaVuSans-74\"/>\n       <use x=\"1977.685547\" xlink:href=\"#DejaVuSans-68\"/>\n       <use x=\"2041.064453\" xlink:href=\"#DejaVuSans-65\"/>\n       <use x=\"2102.587891\" xlink:href=\"#DejaVuSans-72\"/>\n       <use x=\"2143.701172\" xlink:href=\"#DejaVuSans-2c\"/>\n       <use x=\"2175.488281\" xlink:href=\"#DejaVuSans-20\"/>\n       <use x=\"2207.275391\" xlink:href=\"#DejaVuSans-64\"/>\n       <use x=\"2270.751953\" xlink:href=\"#DejaVuSans-61\"/>\n       <use x=\"2332.03125\" xlink:href=\"#DejaVuSans-75\"/>\n       <use x=\"2395.410156\" xlink:href=\"#DejaVuSans-67\"/>\n       <use x=\"2458.886719\" xlink:href=\"#DejaVuSans-68\"/>\n       <use x=\"2522.265625\" xlink:href=\"#DejaVuSans-74\"/>\n       <use x=\"2561.474609\" xlink:href=\"#DejaVuSans-65\"/>\n       <use x=\"2622.998047\" xlink:href=\"#DejaVuSans-72\"/>\n       <use x=\"2664.111328\" xlink:href=\"#DejaVuSans-2c\"/>\n       <use x=\"2695.898438\" xlink:href=\"#DejaVuSans-20\"/>\n       <use x=\"2727.685547\" xlink:href=\"#DejaVuSans-68\"/>\n       <use x=\"2791.064453\" xlink:href=\"#DejaVuSans-65\"/>\n       <use x=\"2852.587891\" xlink:href=\"#DejaVuSans-61\"/>\n       <use x=\"2913.867188\" xlink:href=\"#DejaVuSans-72\"/>\n       <use x=\"2954.980469\" xlink:href=\"#DejaVuSans-74\"/>\n       <use x=\"2994.189453\" xlink:href=\"#DejaVuSans-2c\"/>\n       <use x=\"3025.976562\" xlink:href=\"#DejaVuSans-20\"/>\n       <use x=\"3057.763672\" xlink:href=\"#DejaVuSans-68\"/>\n       <use x=\"3121.142578\" xlink:href=\"#DejaVuSans-75\"/>\n       <use x=\"3184.521484\" xlink:href=\"#DejaVuSans-73\"/>\n       <use x=\"3236.621094\" xlink:href=\"#DejaVuSans-62\"/>\n       <use x=\"3300.097656\" xlink:href=\"#DejaVuSans-61\"/>\n       <use x=\"3361.376953\" xlink:href=\"#DejaVuSans-6e\"/>\n       <use x=\"3424.755859\" xlink:href=\"#DejaVuSans-64\"/>\n       <use x=\"3488.232422\" xlink:href=\"#DejaVuSans-2c\"/>\n       <use x=\"3520.019531\" xlink:href=\"#DejaVuSans-20\"/>\n       <use x=\"3551.806641\" xlink:href=\"#DejaVuSans-68\"/>\n       <use x=\"3615.185547\" xlink:href=\"#DejaVuSans-6f\"/>\n       <use x=\"3676.367188\" xlink:href=\"#DejaVuSans-6d\"/>\n       <use x=\"3773.779297\" xlink:href=\"#DejaVuSans-65\"/>\n      </g>\n     </g>\n    </g>\n    <g id=\"ytick_30\">\n     <g id=\"line2d_37\">\n      <g>\n       <use style=\"stroke:#000000;stroke-width:0.8;\" x=\"490.39375\" xlink:href=\"#m61dcaee5c8\" y=\"20.79\"/>\n      </g>\n     </g>\n     <g id=\"text_37\">\n      <!-- 9 man, gods, city, god, men, land, time, house, father, death -->\n      <g transform=\"translate(177.854687 24.589219)scale(0.1 -0.1)\">\n       <use xlink:href=\"#DejaVuSans-39\"/>\n       <use x=\"63.623047\" xlink:href=\"#DejaVuSans-20\"/>\n       <use x=\"95.410156\" xlink:href=\"#DejaVuSans-6d\"/>\n       <use x=\"192.822266\" xlink:href=\"#DejaVuSans-61\"/>\n       <use x=\"254.101562\" xlink:href=\"#DejaVuSans-6e\"/>\n       <use x=\"317.480469\" xlink:href=\"#DejaVuSans-2c\"/>\n       <use x=\"349.267578\" xlink:href=\"#DejaVuSans-20\"/>\n       <use x=\"381.054688\" xlink:href=\"#DejaVuSans-67\"/>\n       <use x=\"444.53125\" xlink:href=\"#DejaVuSans-6f\"/>\n       <use x=\"505.712891\" xlink:href=\"#DejaVuSans-64\"/>\n       <use x=\"569.189453\" xlink:href=\"#DejaVuSans-73\"/>\n       <use x=\"621.289062\" xlink:href=\"#DejaVuSans-2c\"/>\n       <use x=\"653.076172\" xlink:href=\"#DejaVuSans-20\"/>\n       <use x=\"684.863281\" xlink:href=\"#DejaVuSans-63\"/>\n       <use x=\"739.84375\" xlink:href=\"#DejaVuSans-69\"/>\n       <use x=\"767.626953\" xlink:href=\"#DejaVuSans-74\"/>\n       <use x=\"806.835938\" xlink:href=\"#DejaVuSans-79\"/>\n       <use x=\"866.015625\" xlink:href=\"#DejaVuSans-2c\"/>\n       <use x=\"897.802734\" xlink:href=\"#DejaVuSans-20\"/>\n       <use x=\"929.589844\" xlink:href=\"#DejaVuSans-67\"/>\n       <use x=\"993.066406\" xlink:href=\"#DejaVuSans-6f\"/>\n       <use x=\"1054.248047\" xlink:href=\"#DejaVuSans-64\"/>\n       <use x=\"1117.724609\" xlink:href=\"#DejaVuSans-2c\"/>\n       <use x=\"1149.511719\" xlink:href=\"#DejaVuSans-20\"/>\n       <use x=\"1181.298828\" xlink:href=\"#DejaVuSans-6d\"/>\n       <use x=\"1278.710938\" xlink:href=\"#DejaVuSans-65\"/>\n       <use x=\"1340.234375\" xlink:href=\"#DejaVuSans-6e\"/>\n       <use x=\"1403.613281\" xlink:href=\"#DejaVuSans-2c\"/>\n       <use x=\"1435.400391\" xlink:href=\"#DejaVuSans-20\"/>\n       <use x=\"1467.1875\" xlink:href=\"#DejaVuSans-6c\"/>\n       <use x=\"1494.970703\" xlink:href=\"#DejaVuSans-61\"/>\n       <use x=\"1556.25\" xlink:href=\"#DejaVuSans-6e\"/>\n       <use x=\"1619.628906\" xlink:href=\"#DejaVuSans-64\"/>\n       <use x=\"1683.105469\" xlink:href=\"#DejaVuSans-2c\"/>\n       <use x=\"1714.892578\" xlink:href=\"#DejaVuSans-20\"/>\n       <use x=\"1746.679688\" xlink:href=\"#DejaVuSans-74\"/>\n       <use x=\"1785.888672\" xlink:href=\"#DejaVuSans-69\"/>\n       <use x=\"1813.671875\" xlink:href=\"#DejaVuSans-6d\"/>\n       <use x=\"1911.083984\" xlink:href=\"#DejaVuSans-65\"/>\n       <use x=\"1972.607422\" xlink:href=\"#DejaVuSans-2c\"/>\n       <use x=\"2004.394531\" xlink:href=\"#DejaVuSans-20\"/>\n       <use x=\"2036.181641\" xlink:href=\"#DejaVuSans-68\"/>\n       <use x=\"2099.560547\" xlink:href=\"#DejaVuSans-6f\"/>\n       <use x=\"2160.742188\" xlink:href=\"#DejaVuSans-75\"/>\n       <use x=\"2224.121094\" xlink:href=\"#DejaVuSans-73\"/>\n       <use x=\"2276.220703\" xlink:href=\"#DejaVuSans-65\"/>\n       <use x=\"2337.744141\" xlink:href=\"#DejaVuSans-2c\"/>\n       <use x=\"2369.53125\" xlink:href=\"#DejaVuSans-20\"/>\n       <use x=\"2401.318359\" xlink:href=\"#DejaVuSans-66\"/>\n       <use x=\"2436.523438\" xlink:href=\"#DejaVuSans-61\"/>\n       <use x=\"2497.802734\" xlink:href=\"#DejaVuSans-74\"/>\n       <use x=\"2537.011719\" xlink:href=\"#DejaVuSans-68\"/>\n       <use x=\"2600.390625\" xlink:href=\"#DejaVuSans-65\"/>\n       <use x=\"2661.914062\" xlink:href=\"#DejaVuSans-72\"/>\n       <use x=\"2703.027344\" xlink:href=\"#DejaVuSans-2c\"/>\n       <use x=\"2734.814453\" xlink:href=\"#DejaVuSans-20\"/>\n       <use x=\"2766.601562\" xlink:href=\"#DejaVuSans-64\"/>\n       <use x=\"2830.078125\" xlink:href=\"#DejaVuSans-65\"/>\n       <use x=\"2891.601562\" xlink:href=\"#DejaVuSans-61\"/>\n       <use x=\"2952.880859\" xlink:href=\"#DejaVuSans-74\"/>\n       <use x=\"2992.089844\" xlink:href=\"#DejaVuSans-68\"/>\n      </g>\n     </g>\n    </g>\n    <g id=\"text_38\">\n     <!-- label -->\n     <g transform=\"translate(14.798437 426.992969)rotate(-90)scale(0.1 -0.1)\">\n      <use xlink:href=\"#DejaVuSans-6c\"/>\n      <use x=\"27.783203\" xlink:href=\"#DejaVuSans-61\"/>\n      <use x=\"89.0625\" xlink:href=\"#DejaVuSans-62\"/>\n      <use x=\"152.539062\" xlink:href=\"#DejaVuSans-65\"/>\n      <use x=\"214.0625\" xlink:href=\"#DejaVuSans-6c\"/>\n     </g>\n    </g>\n   </g>\n   <g id=\"patch_33\">\n    <path d=\"M 490.39375 822.6 \nL 490.39375 7.2 \n\" style=\"fill:none;stroke:#000000;stroke-linecap:square;stroke-linejoin:miter;stroke-width:0.8;\"/>\n   </g>\n   <g id=\"patch_34\">\n    <path d=\"M 769.39375 822.6 \nL 769.39375 7.2 \n\" style=\"fill:none;stroke:#000000;stroke-linecap:square;stroke-linejoin:miter;stroke-width:0.8;\"/>\n   </g>\n   <g id=\"patch_35\">\n    <path d=\"M 490.39375 822.6 \nL 769.39375 822.6 \n\" style=\"fill:none;stroke:#000000;stroke-linecap:square;stroke-linejoin:miter;stroke-width:0.8;\"/>\n   </g>\n   <g id=\"patch_36\">\n    <path d=\"M 490.39375 7.2 \nL 769.39375 7.2 \n\" style=\"fill:none;stroke:#000000;stroke-linecap:square;stroke-linejoin:miter;stroke-width:0.8;\"/>\n   </g>\n   <g id=\"legend_1\">\n    <g id=\"patch_37\">\n     <path d=\"M 647.425 817.6 \nL 762.39375 817.6 \nQ 764.39375 817.6 764.39375 815.6 \nL 764.39375 801.64375 \nQ 764.39375 799.64375 762.39375 799.64375 \nL 647.425 799.64375 \nQ 645.425 799.64375 645.425 801.64375 \nL 645.425 815.6 \nQ 645.425 817.6 647.425 817.6 \nz\n\" style=\"fill:#ffffff;opacity:0.8;stroke:#cccccc;stroke-linejoin:miter;\"/>\n    </g>\n    <g id=\"patch_38\">\n     <path d=\"M 649.425 811.242188 \nL 669.425 811.242188 \nL 669.425 804.242188 \nL 649.425 804.242188 \nz\n\" style=\"fill:#1f77b4;\"/>\n    </g>\n    <g id=\"text_39\">\n     <!-- doc_weight_sum -->\n     <g transform=\"translate(677.425 811.242188)scale(0.1 -0.1)\">\n      <defs>\n       <path d=\"M 3263 -1063 \nL 3263 -1509 \nL -63 -1509 \nL -63 -1063 \nL 3263 -1063 \nz\n\" id=\"DejaVuSans-5f\" transform=\"scale(0.015625)\"/>\n      </defs>\n      <use xlink:href=\"#DejaVuSans-64\"/>\n      <use x=\"63.476562\" xlink:href=\"#DejaVuSans-6f\"/>\n      <use x=\"124.658203\" xlink:href=\"#DejaVuSans-63\"/>\n      <use x=\"179.638672\" xlink:href=\"#DejaVuSans-5f\"/>\n      <use x=\"229.638672\" xlink:href=\"#DejaVuSans-77\"/>\n      <use x=\"311.425781\" xlink:href=\"#DejaVuSans-65\"/>\n      <use x=\"372.949219\" xlink:href=\"#DejaVuSans-69\"/>\n      <use x=\"400.732422\" xlink:href=\"#DejaVuSans-67\"/>\n      <use x=\"464.208984\" xlink:href=\"#DejaVuSans-68\"/>\n      <use x=\"527.587891\" xlink:href=\"#DejaVuSans-74\"/>\n      <use x=\"566.796875\" xlink:href=\"#DejaVuSans-5f\"/>\n      <use x=\"616.796875\" xlink:href=\"#DejaVuSans-73\"/>\n      <use x=\"668.896484\" xlink:href=\"#DejaVuSans-75\"/>\n      <use x=\"732.275391\" xlink:href=\"#DejaVuSans-6d\"/>\n     </g>\n    </g>\n   </g>\n  </g>\n </g>\n <defs>\n  <clipPath id=\"p954cda7081\">\n   <rect height=\"815.4\" width=\"279\" x=\"490.39375\" y=\"7.2\"/>\n  </clipPath>\n </defs>\n</svg>\n",
      "image/png": "[encoded data removed]"
     },
     "metadata": {
      "needs_background": "light"
     }
    }
   ],
   "source": [
    "lda.plot_topic_weights()"
   ]
  },
  {
   "cell_type": "code",
   "execution_count": 14,
   "metadata": {},
   "outputs": [
    {
     "output_type": "execute_result",
     "data": {
      "text/plain": [
       "<pandas.io.formats.style.Styler at 0x17d5daf10>"
      ],
      "text/html": "<style  type=\"text/css\" >\n#T_5fdb1_row0_col0,#T_5fdb1_row26_col1{\n            background-color:  #ede8f3;\n            color:  #000000;\n        }#T_5fdb1_row0_col1,#T_5fdb1_row13_col3,#T_5fdb1_row15_col3{\n            background-color:  #dddbec;\n            color:  #000000;\n        }#T_5fdb1_row0_col2,#T_5fdb1_row0_col3,#T_5fdb1_row0_col4,#T_5fdb1_row0_col5,#T_5fdb1_row0_col7,#T_5fdb1_row1_col0,#T_5fdb1_row1_col2,#T_5fdb1_row1_col3,#T_5fdb1_row1_col5,#T_5fdb1_row2_col0,#T_5fdb1_row2_col1,#T_5fdb1_row2_col2,#T_5fdb1_row2_col3,#T_5fdb1_row2_col5,#T_5fdb1_row2_col7,#T_5fdb1_row3_col2,#T_5fdb1_row4_col0,#T_5fdb1_row4_col1,#T_5fdb1_row4_col2,#T_5fdb1_row4_col3,#T_5fdb1_row4_col5,#T_5fdb1_row4_col7,#T_5fdb1_row5_col0,#T_5fdb1_row5_col2,#T_5fdb1_row5_col3,#T_5fdb1_row5_col4,#T_5fdb1_row5_col5,#T_5fdb1_row5_col7,#T_5fdb1_row6_col0,#T_5fdb1_row6_col1,#T_5fdb1_row6_col2,#T_5fdb1_row6_col3,#T_5fdb1_row6_col5,#T_5fdb1_row6_col7,#T_5fdb1_row7_col0,#T_5fdb1_row7_col2,#T_5fdb1_row7_col5,#T_5fdb1_row7_col6,#T_5fdb1_row7_col7,#T_5fdb1_row8_col0,#T_5fdb1_row8_col2,#T_5fdb1_row8_col3,#T_5fdb1_row8_col4,#T_5fdb1_row8_col5,#T_5fdb1_row8_col6,#T_5fdb1_row8_col7,#T_5fdb1_row9_col2,#T_5fdb1_row9_col3,#T_5fdb1_row9_col4,#T_5fdb1_row9_col7,#T_5fdb1_row10_col2,#T_5fdb1_row10_col4,#T_5fdb1_row10_col5,#T_5fdb1_row11_col1,#T_5fdb1_row11_col2,#T_5fdb1_row11_col4,#T_5fdb1_row12_col1,#T_5fdb1_row12_col2,#T_5fdb1_row12_col3,#T_5fdb1_row12_col4,#T_5fdb1_row12_col5,#T_5fdb1_row12_col7,#T_5fdb1_row13_col2,#T_5fdb1_row14_col2,#T_5fdb1_row14_col3,#T_5fdb1_row14_col5,#T_5fdb1_row14_col7,#T_5fdb1_row15_col5,#T_5fdb1_row16_col2,#T_5fdb1_row16_col3,#T_5fdb1_row16_col5,#T_5fdb1_row16_col7,#T_5fdb1_row17_col1,#T_5fdb1_row17_col2,#T_5fdb1_row17_col3,#T_5fdb1_row17_col5,#T_5fdb1_row17_col7,#T_5fdb1_row18_col2,#T_5fdb1_row18_col3,#T_5fdb1_row18_col4,#T_5fdb1_row18_col5,#T_5fdb1_row18_col7,#T_5fdb1_row19_col2,#T_5fdb1_row19_col5,#T_5fdb1_row19_col7,#T_5fdb1_row20_col2,#T_5fdb1_row20_col3,#T_5fdb1_row20_col5,#T_5fdb1_row20_col7,#T_5fdb1_row21_col0,#T_5fdb1_row21_col2,#T_5fdb1_row22_col2,#T_5fdb1_row22_col3,#T_5fdb1_row22_col4,#T_5fdb1_row22_col5,#T_5fdb1_row22_col7,#T_5fdb1_row23_col0,#T_5fdb1_row23_col1,#T_5fdb1_row23_col2,#T_5fdb1_row23_col3,#T_5fdb1_row23_col5,#T_5fdb1_row23_col6,#T_5fdb1_row23_col7,#T_5fdb1_row24_col7,#T_5fdb1_row25_col2,#T_5fdb1_row25_col3,#T_5fdb1_row25_col5,#T_5fdb1_row25_col7,#T_5fdb1_row26_col2,#T_5fdb1_row26_col4,#T_5fdb1_row26_col5,#T_5fdb1_row26_col7,#T_5fdb1_row27_col1,#T_5fdb1_row27_col2,#T_5fdb1_row27_col3,#T_5fdb1_row27_col4,#T_5fdb1_row27_col5,#T_5fdb1_row27_col7,#T_5fdb1_row28_col1,#T_5fdb1_row28_col2,#T_5fdb1_row28_col3,#T_5fdb1_row28_col4,#T_5fdb1_row28_col5,#T_5fdb1_row28_col6,#T_5fdb1_row28_col7,#T_5fdb1_row29_col2,#T_5fdb1_row29_col4{\n            background-color:  #fff7fb;\n            color:  #000000;\n        }#T_5fdb1_row0_col6{\n            background-color:  #d9d8ea;\n            color:  #000000;\n        }#T_5fdb1_row1_col1{\n            background-color:  #ebe6f2;\n            color:  #000000;\n        }#T_5fdb1_row1_col4{\n            background-color:  #84b0d3;\n            color:  #000000;\n        }#T_5fdb1_row1_col6,#T_5fdb1_row6_col6,#T_5fdb1_row7_col3,#T_5fdb1_row12_col6,#T_5fdb1_row19_col4,#T_5fdb1_row19_col6,#T_5fdb1_row27_col6{\n            background-color:  #f8f1f8;\n            color:  #000000;\n        }#T_5fdb1_row1_col7,#T_5fdb1_row11_col0,#T_5fdb1_row21_col6,#T_5fdb1_row26_col3{\n            background-color:  #fdf5fa;\n            color:  #000000;\n        }#T_5fdb1_row2_col4,#T_5fdb1_row2_col6,#T_5fdb1_row10_col3,#T_5fdb1_row20_col4{\n            background-color:  #f0eaf4;\n            color:  #000000;\n        }#T_5fdb1_row3_col0{\n            background-color:  #4697c4;\n            color:  #000000;\n        }#T_5fdb1_row3_col1{\n            background-color:  #a9bfdc;\n            color:  #000000;\n        }#T_5fdb1_row3_col3,#T_5fdb1_row10_col7,#T_5fdb1_row15_col7,#T_5fdb1_row16_col6,#T_5fdb1_row21_col5,#T_5fdb1_row29_col3{\n            background-color:  #fef6fb;\n            color:  #000000;\n        }#T_5fdb1_row3_col4,#T_5fdb1_row11_col6,#T_5fdb1_row24_col6,#T_5fdb1_row29_col6{\n            background-color:  #faf2f8;\n            color:  #000000;\n        }#T_5fdb1_row3_col5,#T_5fdb1_row3_col7,#T_5fdb1_row9_col6,#T_5fdb1_row11_col3,#T_5fdb1_row13_col0,#T_5fdb1_row13_col1,#T_5fdb1_row24_col2,#T_5fdb1_row24_col4{\n            background-color:  #023858;\n            color:  #f1f1f1;\n        }#T_5fdb1_row3_col6{\n            background-color:  #e3e0ee;\n            color:  #000000;\n        }#T_5fdb1_row4_col4{\n            background-color:  #c1cae2;\n            color:  #000000;\n        }#T_5fdb1_row4_col6,#T_5fdb1_row16_col1{\n            background-color:  #f1ebf4;\n            color:  #000000;\n        }#T_5fdb1_row5_col1,#T_5fdb1_row7_col1,#T_5fdb1_row16_col0,#T_5fdb1_row19_col1{\n            background-color:  #eee8f3;\n            color:  #000000;\n        }#T_5fdb1_row5_col6,#T_5fdb1_row19_col0{\n            background-color:  #e6e2ef;\n            color:  #000000;\n        }#T_5fdb1_row6_col4{\n            background-color:  #f1ebf5;\n            color:  #000000;\n        }#T_5fdb1_row7_col4{\n            background-color:  #d8d7e9;\n            color:  #000000;\n        }#T_5fdb1_row8_col1,#T_5fdb1_row14_col0,#T_5fdb1_row14_col4,#T_5fdb1_row23_col4,#T_5fdb1_row25_col0,#T_5fdb1_row27_col0,#T_5fdb1_row28_col0{\n            background-color:  #eee9f3;\n            color:  #000000;\n        }#T_5fdb1_row9_col0{\n            background-color:  #023c5f;\n            color:  #f1f1f1;\n        }#T_5fdb1_row9_col1{\n            background-color:  #a4bcda;\n            color:  #000000;\n        }#T_5fdb1_row9_col5,#T_5fdb1_row13_col4,#T_5fdb1_row15_col1,#T_5fdb1_row19_col3{\n            background-color:  #fbf4f9;\n            color:  #000000;\n        }#T_5fdb1_row10_col0,#T_5fdb1_row13_col5{\n            background-color:  #faf3f9;\n            color:  #000000;\n        }#T_5fdb1_row10_col1,#T_5fdb1_row10_col6,#T_5fdb1_row21_col1{\n            background-color:  #fcf4fa;\n            color:  #000000;\n        }#T_5fdb1_row11_col5,#T_5fdb1_row15_col2,#T_5fdb1_row24_col5,#T_5fdb1_row26_col0{\n            background-color:  #fef6fa;\n            color:  #000000;\n        }#T_5fdb1_row11_col7,#T_5fdb1_row15_col0,#T_5fdb1_row15_col6,#T_5fdb1_row17_col6{\n            background-color:  #f7f0f7;\n            color:  #000000;\n        }#T_5fdb1_row12_col0{\n            background-color:  #abbfdc;\n            color:  #000000;\n        }#T_5fdb1_row13_col6{\n            background-color:  #91b5d6;\n            color:  #000000;\n        }#T_5fdb1_row13_col7{\n            background-color:  #f9f2f8;\n            color:  #000000;\n        }#T_5fdb1_row14_col1{\n            background-color:  #b1c2de;\n            color:  #000000;\n        }#T_5fdb1_row14_col6,#T_5fdb1_row21_col7,#T_5fdb1_row24_col1,#T_5fdb1_row24_col3{\n            background-color:  #fbf3f9;\n            color:  #000000;\n        }#T_5fdb1_row15_col4{\n            background-color:  #c2cbe2;\n            color:  #000000;\n        }#T_5fdb1_row16_col4,#T_5fdb1_row17_col4,#T_5fdb1_row22_col0{\n            background-color:  #efe9f3;\n            color:  #000000;\n        }#T_5fdb1_row17_col0,#T_5fdb1_row22_col1{\n            background-color:  #f5eef6;\n            color:  #000000;\n        }#T_5fdb1_row18_col0{\n            background-color:  #1077b4;\n            color:  #f1f1f1;\n        }#T_5fdb1_row18_col1,#T_5fdb1_row26_col6{\n            background-color:  #f5eff6;\n            color:  #000000;\n        }#T_5fdb1_row18_col6{\n            background-color:  #b4c4df;\n            color:  #000000;\n        }#T_5fdb1_row20_col0{\n            background-color:  #acc0dd;\n            color:  #000000;\n        }#T_5fdb1_row20_col1,#T_5fdb1_row25_col1{\n            background-color:  #ede7f2;\n            color:  #000000;\n        }#T_5fdb1_row20_col6{\n            background-color:  #b7c5df;\n            color:  #000000;\n        }#T_5fdb1_row21_col3{\n            background-color:  #187cb6;\n            color:  #000000;\n        }#T_5fdb1_row21_col4{\n            background-color:  #f3edf5;\n            color:  #000000;\n        }#T_5fdb1_row22_col6,#T_5fdb1_row25_col6{\n            background-color:  #e7e3f0;\n            color:  #000000;\n        }#T_5fdb1_row24_col0{\n            background-color:  #c6cce3;\n            color:  #000000;\n        }#T_5fdb1_row25_col4{\n            background-color:  #d6d6e9;\n            color:  #000000;\n        }#T_5fdb1_row29_col0{\n            background-color:  #f4eef6;\n            color:  #000000;\n        }#T_5fdb1_row29_col1{\n            background-color:  #dbdaeb;\n            color:  #000000;\n        }#T_5fdb1_row29_col5{\n            background-color:  #f2ecf5;\n            color:  #000000;\n        }#T_5fdb1_row29_col7{\n            background-color:  #02395a;\n            color:  #f1f1f1;\n        }</style><table id=\"T_5fdb1_\" ><thead>    <tr>        <th class=\"index_name level0\" >author</th>        <th class=\"col_heading level0 col0\" >Aeschylus</th>        <th class=\"col_heading level0 col1\" >Euripides</th>        <th class=\"col_heading level0 col2\" >Hesiod</th>        <th class=\"col_heading level0 col3\" >Homer</th>        <th class=\"col_heading level0 col4\" >Homeric_Hymns</th>        <th class=\"col_heading level0 col5\" >Ovid</th>        <th class=\"col_heading level0 col6\" >Sophocles</th>        <th class=\"col_heading level0 col7\" >Vergil</th>        <th class=\"col_heading level0 col8\" >label</th>    </tr>    <tr>        <th class=\"index_name level0\" >topic_id</th>        <th class=\"blank\" ></th>        <th class=\"blank\" ></th>        <th class=\"blank\" ></th>        <th class=\"blank\" ></th>        <th class=\"blank\" ></th>        <th class=\"blank\" ></th>        <th class=\"blank\" ></th>        <th class=\"blank\" ></th>        <th class=\"blank\" ></th>    </tr></thead><tbody>\n                <tr>\n                        <th id=\"T_5fdb1_level0_row0\" class=\"row_heading level0 row0\" >0</th>\n                        <td id=\"T_5fdb1_row0_col0\" class=\"data row0 col0\" >0.022132</td>\n                        <td id=\"T_5fdb1_row0_col1\" class=\"data row0 col1\" >0.051411</td>\n                        <td id=\"T_5fdb1_row0_col2\" class=\"data row0 col2\" >0.000018</td>\n                        <td id=\"T_5fdb1_row0_col3\" class=\"data row0 col3\" >0.000025</td>\n                        <td id=\"T_5fdb1_row0_col4\" class=\"data row0 col4\" >0.001476</td>\n                        <td id=\"T_5fdb1_row0_col5\" class=\"data row0 col5\" >0.000018</td>\n                        <td id=\"T_5fdb1_row0_col6\" class=\"data row0 col6\" >0.056298</td>\n                        <td id=\"T_5fdb1_row0_col7\" class=\"data row0 col7\" >0.000016</td>\n                        <td id=\"T_5fdb1_row0_col8\" class=\"data row0 col8\" >0 man, father, words, gods, son, child, hand, daughter, god, things</td>\n            </tr>\n            <tr>\n                        <th id=\"T_5fdb1_level0_row1\" class=\"row_heading level0 row1\" >1</th>\n                        <td id=\"T_5fdb1_row1_col0\" class=\"data row1 col0\" >0.001059</td>\n                        <td id=\"T_5fdb1_row1_col1\" class=\"data row1 col1\" >0.034579</td>\n                        <td id=\"T_5fdb1_row1_col2\" class=\"data row1 col2\" >0.000018</td>\n                        <td id=\"T_5fdb1_row1_col3\" class=\"data row1 col3\" >0.000025</td>\n                        <td id=\"T_5fdb1_row1_col4\" class=\"data row1 col4\" >0.130114</td>\n                        <td id=\"T_5fdb1_row1_col5\" class=\"data row1 col5\" >0.000018</td>\n                        <td id=\"T_5fdb1_row1_col6\" class=\"data row1 col6\" >0.013457</td>\n                        <td id=\"T_5fdb1_row1_col7\" class=\"data row1 col7\" >0.007630</td>\n                        <td id=\"T_5fdb1_row1_col8\" class=\"data row1 col8\" >1 goddess, god, gold, gods, song, sea, ships, daughter, gauntlets, town</td>\n            </tr>\n            <tr>\n                        <th id=\"T_5fdb1_level0_row2\" class=\"row_heading level0 row2\" >2</th>\n                        <td id=\"T_5fdb1_row2_col0\" class=\"data row2 col0\" >0.000434</td>\n                        <td id=\"T_5fdb1_row2_col1\" class=\"data row2 col1\" >0.000256</td>\n                        <td id=\"T_5fdb1_row2_col2\" class=\"data row2 col2\" >0.000018</td>\n                        <td id=\"T_5fdb1_row2_col3\" class=\"data row2 col3\" >0.000025</td>\n                        <td id=\"T_5fdb1_row2_col4\" class=\"data row2 col4\" >0.030567</td>\n                        <td id=\"T_5fdb1_row2_col5\" class=\"data row2 col5\" >0.000018</td>\n                        <td id=\"T_5fdb1_row2_col6\" class=\"data row2 col6\" >0.026756</td>\n                        <td id=\"T_5fdb1_row2_col7\" class=\"data row2 col7\" >0.000016</td>\n                        <td id=\"T_5fdb1_row2_col8\" class=\"data row2 col8\" >2 land, god, man, children, city, lord, things, suppliants, creon, people</td>\n            </tr>\n            <tr>\n                        <th id=\"T_5fdb1_level0_row3\" class=\"row_heading level0 row3\" >3</th>\n                        <td id=\"T_5fdb1_row3_col0\" class=\"data row3 col0\" >0.106442</td>\n                        <td id=\"T_5fdb1_row3_col1\" class=\"data row3 col1\" >0.096670</td>\n                        <td id=\"T_5fdb1_row3_col2\" class=\"data row3 col2\" >0.000018</td>\n                        <td id=\"T_5fdb1_row3_col3\" class=\"data row3 col3\" >0.001952</td>\n                        <td id=\"T_5fdb1_row3_col4\" class=\"data row3 col4\" >0.011784</td>\n                        <td id=\"T_5fdb1_row3_col5\" class=\"data row3 col5\" >0.854819</td>\n                        <td id=\"T_5fdb1_row3_col6\" class=\"data row3 col6\" >0.044697</td>\n                        <td id=\"T_5fdb1_row3_col7\" class=\"data row3 col7\" >0.465278</td>\n                        <td id=\"T_5fdb1_row3_col8\" class=\"data row3 col8\" >3 love, son, sea, death, words, land, waves, arms, blood, life</td>\n            </tr>\n            <tr>\n                        <th id=\"T_5fdb1_level0_row4\" class=\"row_heading level0 row4\" >4</th>\n                        <td id=\"T_5fdb1_row4_col0\" class=\"data row4 col0\" >0.000434</td>\n                        <td id=\"T_5fdb1_row4_col1\" class=\"data row4 col1\" >0.000256</td>\n                        <td id=\"T_5fdb1_row4_col2\" class=\"data row4 col2\" >0.000018</td>\n                        <td id=\"T_5fdb1_row4_col3\" class=\"data row4 col3\" >0.000025</td>\n                        <td id=\"T_5fdb1_row4_col4\" class=\"data row4 col4\" >0.083847</td>\n                        <td id=\"T_5fdb1_row4_col5\" class=\"data row4 col5\" >0.000018</td>\n                        <td id=\"T_5fdb1_row4_col6\" class=\"data row4 col6\" >0.026351</td>\n                        <td id=\"T_5fdb1_row4_col7\" class=\"data row4 col7\" >0.000016</td>\n                        <td id=\"T_5fdb1_row4_col8\" class=\"data row4 col8\" >4 god, gods, house, song, feet, hope, sea, children, race, power</td>\n            </tr>\n            <tr>\n                        <th id=\"T_5fdb1_level0_row5\" class=\"row_heading level0 row5\" >5</th>\n                        <td id=\"T_5fdb1_row5_col0\" class=\"data row5 col0\" >0.000434</td>\n                        <td id=\"T_5fdb1_row5_col1\" class=\"data row5 col1\" >0.030368</td>\n                        <td id=\"T_5fdb1_row5_col2\" class=\"data row5 col2\" >0.000018</td>\n                        <td id=\"T_5fdb1_row5_col3\" class=\"data row5 col3\" >0.000025</td>\n                        <td id=\"T_5fdb1_row5_col4\" class=\"data row5 col4\" >0.001476</td>\n                        <td id=\"T_5fdb1_row5_col5\" class=\"data row5 col5\" >0.000018</td>\n                        <td id=\"T_5fdb1_row5_col6\" class=\"data row5 col6\" >0.041530</td>\n                        <td id=\"T_5fdb1_row5_col7\" class=\"data row5 col7\" >0.000016</td>\n                        <td id=\"T_5fdb1_row5_col8\" class=\"data row5 col8\" >5 son, fate, ships, sons, hands, right, evil, corpse, way, course</td>\n            </tr>\n            <tr>\n                        <th id=\"T_5fdb1_level0_row6\" class=\"row_heading level0 row6\" >6</th>\n                        <td id=\"T_5fdb1_row6_col0\" class=\"data row6 col0\" >0.000434</td>\n                        <td id=\"T_5fdb1_row6_col1\" class=\"data row6 col1\" >0.000256</td>\n                        <td id=\"T_5fdb1_row6_col2\" class=\"data row6 col2\" >0.000018</td>\n                        <td id=\"T_5fdb1_row6_col3\" class=\"data row6 col3\" >0.000025</td>\n                        <td id=\"T_5fdb1_row6_col4\" class=\"data row6 col4\" >0.027450</td>\n                        <td id=\"T_5fdb1_row6_col5\" class=\"data row6 col5\" >0.000018</td>\n                        <td id=\"T_5fdb1_row6_col6\" class=\"data row6 col6\" >0.012486</td>\n                        <td id=\"T_5fdb1_row6_col7\" class=\"data row6 col7\" >0.000016</td>\n                        <td id=\"T_5fdb1_row6_col8\" class=\"data row6 col8\" >6 wisdom, words, gods, gods way, happiness, blows, seeing, dealings, words men, great</td>\n            </tr>\n            <tr>\n                        <th id=\"T_5fdb1_level0_row7\" class=\"row_heading level0 row7\" >7</th>\n                        <td id=\"T_5fdb1_row7_col0\" class=\"data row7 col0\" >0.000434</td>\n                        <td id=\"T_5fdb1_row7_col1\" class=\"data row7 col1\" >0.030422</td>\n                        <td id=\"T_5fdb1_row7_col2\" class=\"data row7 col2\" >0.000018</td>\n                        <td id=\"T_5fdb1_row7_col3\" class=\"data row7 col3\" >0.021004</td>\n                        <td id=\"T_5fdb1_row7_col4\" class=\"data row7 col4\" >0.061945</td>\n                        <td id=\"T_5fdb1_row7_col5\" class=\"data row7 col5\" >0.000018</td>\n                        <td id=\"T_5fdb1_row7_col6\" class=\"data row7 col6\" >0.000424</td>\n                        <td id=\"T_5fdb1_row7_col7\" class=\"data row7 col7\" >0.000016</td>\n                        <td id=\"T_5fdb1_row7_col8\" class=\"data row7 col8\" >7 heart, men, thou, thee, house, land, man, hands, wife, mother</td>\n            </tr>\n            <tr>\n                        <th id=\"T_5fdb1_level0_row8\" class=\"row_heading level0 row8\" >8</th>\n                        <td id=\"T_5fdb1_row8_col0\" class=\"data row8 col0\" >0.000434</td>\n                        <td id=\"T_5fdb1_row8_col1\" class=\"data row8 col1\" >0.030062</td>\n                        <td id=\"T_5fdb1_row8_col2\" class=\"data row8 col2\" >0.000018</td>\n                        <td id=\"T_5fdb1_row8_col3\" class=\"data row8 col3\" >0.000025</td>\n                        <td id=\"T_5fdb1_row8_col4\" class=\"data row8 col4\" >0.001476</td>\n                        <td id=\"T_5fdb1_row8_col5\" class=\"data row8 col5\" >0.000018</td>\n                        <td id=\"T_5fdb1_row8_col6\" class=\"data row8 col6\" >0.000424</td>\n                        <td id=\"T_5fdb1_row8_col7\" class=\"data row8 col7\" >0.000016</td>\n                        <td id=\"T_5fdb1_row8_col8\" class=\"data row8 col8\" >8 cows, love, excess, restraint, bower, grace, delight, strain, beauty, heifers</td>\n            </tr>\n            <tr>\n                        <th id=\"T_5fdb1_level0_row9\" class=\"row_heading level0 row9\" >9</th>\n                        <td id=\"T_5fdb1_row9_col0\" class=\"data row9 col0\" >0.176838</td>\n                        <td id=\"T_5fdb1_row9_col1\" class=\"data row9 col1\" >0.101002</td>\n                        <td id=\"T_5fdb1_row9_col2\" class=\"data row9 col2\" >0.000018</td>\n                        <td id=\"T_5fdb1_row9_col3\" class=\"data row9 col3\" >0.000120</td>\n                        <td id=\"T_5fdb1_row9_col4\" class=\"data row9 col4\" >0.001476</td>\n                        <td id=\"T_5fdb1_row9_col5\" class=\"data row9 col5\" >0.020853</td>\n                        <td id=\"T_5fdb1_row9_col6\" class=\"data row9 col6\" >0.265938</td>\n                        <td id=\"T_5fdb1_row9_col7\" class=\"data row9 col7\" >0.001131</td>\n                        <td id=\"T_5fdb1_row9_col8\" class=\"data row9 col8\" >9 man, gods, city, god, men, land, time, house, father, death</td>\n            </tr>\n            <tr>\n                        <th id=\"T_5fdb1_level0_row10\" class=\"row_heading level0 row10\" >10</th>\n                        <td id=\"T_5fdb1_row10_col0\" class=\"data row10 col0\" >0.006292</td>\n                        <td id=\"T_5fdb1_row10_col1\" class=\"data row10 col1\" >0.005726</td>\n                        <td id=\"T_5fdb1_row10_col2\" class=\"data row10 col2\" >0.000018</td>\n                        <td id=\"T_5fdb1_row10_col3\" class=\"data row10 col3\" >0.044150</td>\n                        <td id=\"T_5fdb1_row10_col4\" class=\"data row10 col4\" >0.001476</td>\n                        <td id=\"T_5fdb1_row10_col5\" class=\"data row10 col5\" >0.000018</td>\n                        <td id=\"T_5fdb1_row10_col6\" class=\"data row10 col6\" >0.006472</td>\n                        <td id=\"T_5fdb1_row10_col7\" class=\"data row10 col7\" >0.002631</td>\n                        <td id=\"T_5fdb1_row10_col8\" class=\"data row10 col8\" >10 sea, comrades, land, heart, men, way, man, ships, thou, cave</td>\n            </tr>\n            <tr>\n                        <th id=\"T_5fdb1_level0_row11\" class=\"row_heading level0 row11\" >11</th>\n                        <td id=\"T_5fdb1_row11_col0\" class=\"data row11 col0\" >0.002686</td>\n                        <td id=\"T_5fdb1_row11_col1\" class=\"data row11 col1\" >0.000786</td>\n                        <td id=\"T_5fdb1_row11_col2\" class=\"data row11 col2\" >0.000018</td>\n                        <td id=\"T_5fdb1_row11_col3\" class=\"data row11 col3\" >0.429606</td>\n                        <td id=\"T_5fdb1_row11_col4\" class=\"data row11 col4\" >0.001476</td>\n                        <td id=\"T_5fdb1_row11_col5\" class=\"data row11 col5\" >0.007071</td>\n                        <td id=\"T_5fdb1_row11_col6\" class=\"data row11 col6\" >0.010278</td>\n                        <td id=\"T_5fdb1_row11_col7\" class=\"data row11 col7\" >0.025674</td>\n                        <td id=\"T_5fdb1_row11_col8\" class=\"data row11 col8\" >11 son, thou, man, ships, men, spear, heart, thee, battle, horses</td>\n            </tr>\n            <tr>\n                        <th id=\"T_5fdb1_level0_row12\" class=\"row_heading level0 row12\" >12</th>\n                        <td id=\"T_5fdb1_row12_col0\" class=\"data row12 col0\" >0.065612</td>\n                        <td id=\"T_5fdb1_row12_col1\" class=\"data row12 col1\" >0.000256</td>\n                        <td id=\"T_5fdb1_row12_col2\" class=\"data row12 col2\" >0.000018</td>\n                        <td id=\"T_5fdb1_row12_col3\" class=\"data row12 col3\" >0.000025</td>\n                        <td id=\"T_5fdb1_row12_col4\" class=\"data row12 col4\" >0.001476</td>\n                        <td id=\"T_5fdb1_row12_col5\" class=\"data row12 col5\" >0.000018</td>\n                        <td id=\"T_5fdb1_row12_col6\" class=\"data row12 col6\" >0.013509</td>\n                        <td id=\"T_5fdb1_row12_col7\" class=\"data row12 col7\" >0.000016</td>\n                        <td id=\"T_5fdb1_row12_col8\" class=\"data row12 col8\" >12 man, house, time, land, heart, city, words, gods, blood, suppliant</td>\n            </tr>\n            <tr>\n                        <th id=\"T_5fdb1_level0_row13\" class=\"row_heading level0 row13\" >13</th>\n                        <td id=\"T_5fdb1_row13_col0\" class=\"data row13 col0\" >0.180099</td>\n                        <td id=\"T_5fdb1_row13_col1\" class=\"data row13 col1\" >0.264204</td>\n                        <td id=\"T_5fdb1_row13_col2\" class=\"data row13 col2\" >0.000018</td>\n                        <td id=\"T_5fdb1_row13_col3\" class=\"data row13 col3\" >0.082707</td>\n                        <td id=\"T_5fdb1_row13_col4\" class=\"data row13 col4\" >0.009101</td>\n                        <td id=\"T_5fdb1_row13_col5\" class=\"data row13 col5\" >0.030013</td>\n                        <td id=\"T_5fdb1_row13_col6\" class=\"data row13 col6\" >0.113567</td>\n                        <td id=\"T_5fdb1_row13_col7\" class=\"data row13 col7\" >0.018360</td>\n                        <td id=\"T_5fdb1_row13_col8\" class=\"data row13 col8\" >13 father, house, man, child, gods, mother, daughter, heart, husband, home</td>\n            </tr>\n            <tr>\n                        <th id=\"T_5fdb1_level0_row14\" class=\"row_heading level0 row14\" >14</th>\n                        <td id=\"T_5fdb1_row14_col0\" class=\"data row14 col0\" >0.020497</td>\n                        <td id=\"T_5fdb1_row14_col1\" class=\"data row14 col1\" >0.090067</td>\n                        <td id=\"T_5fdb1_row14_col2\" class=\"data row14 col2\" >0.000018</td>\n                        <td id=\"T_5fdb1_row14_col3\" class=\"data row14 col3\" >0.000025</td>\n                        <td id=\"T_5fdb1_row14_col4\" class=\"data row14 col4\" >0.033182</td>\n                        <td id=\"T_5fdb1_row14_col5\" class=\"data row14 col5\" >0.000018</td>\n                        <td id=\"T_5fdb1_row14_col6\" class=\"data row14 col6\" >0.008542</td>\n                        <td id=\"T_5fdb1_row14_col7\" class=\"data row14 col7\" >0.000016</td>\n                        <td id=\"T_5fdb1_row14_col8\" class=\"data row14 col8\" >14 mother, dance, god, chorus, gods, mountain, honor, mountains, way, wealth</td>\n            </tr>\n            <tr>\n                        <th id=\"T_5fdb1_level0_row15\" class=\"row_heading level0 row15\" >15</th>\n                        <td id=\"T_5fdb1_row15_col0\" class=\"data row15 col0\" >0.010116</td>\n                        <td id=\"T_5fdb1_row15_col1\" class=\"data row15 col1\" >0.006920</td>\n                        <td id=\"T_5fdb1_row15_col2\" class=\"data row15 col2\" >0.008287</td>\n                        <td id=\"T_5fdb1_row15_col3\" class=\"data row15 col3\" >0.083852</td>\n                        <td id=\"T_5fdb1_row15_col4\" class=\"data row15 col4\" >0.082766</td>\n                        <td id=\"T_5fdb1_row15_col5\" class=\"data row15 col5\" >0.000018</td>\n                        <td id=\"T_5fdb1_row15_col6\" class=\"data row15 col6\" >0.015332</td>\n                        <td id=\"T_5fdb1_row15_col7\" class=\"data row15 col7\" >0.002543</td>\n                        <td id=\"T_5fdb1_row15_col8\" class=\"data row15 col8\" >15 son, heart, man, men, ships, gods, sea, sons, god, words</td>\n            </tr>\n            <tr>\n                        <th id=\"T_5fdb1_level0_row16\" class=\"row_heading level0 row16\" >16</th>\n                        <td id=\"T_5fdb1_row16_col0\" class=\"data row16 col0\" >0.021483</td>\n                        <td id=\"T_5fdb1_row16_col1\" class=\"data row16 col1\" >0.025414</td>\n                        <td id=\"T_5fdb1_row16_col2\" class=\"data row16 col2\" >0.000018</td>\n                        <td id=\"T_5fdb1_row16_col3\" class=\"data row16 col3\" >0.000918</td>\n                        <td id=\"T_5fdb1_row16_col4\" class=\"data row16 col4\" >0.031551</td>\n                        <td id=\"T_5fdb1_row16_col5\" class=\"data row16 col5\" >0.000018</td>\n                        <td id=\"T_5fdb1_row16_col6\" class=\"data row16 col6\" >0.001608</td>\n                        <td id=\"T_5fdb1_row16_col7\" class=\"data row16 col7\" >0.000016</td>\n                        <td id=\"T_5fdb1_row16_col8\" class=\"data row16 col8\" >16 hands, god, pentheus, women, dark, ship, house, bonds, feet, wise</td>\n            </tr>\n            <tr>\n                        <th id=\"T_5fdb1_level0_row17\" class=\"row_heading level0 row17\" >17</th>\n                        <td id=\"T_5fdb1_row17_col0\" class=\"data row17 col0\" >0.012415</td>\n                        <td id=\"T_5fdb1_row17_col1\" class=\"data row17 col1\" >0.000256</td>\n                        <td id=\"T_5fdb1_row17_col2\" class=\"data row17 col2\" >0.000018</td>\n                        <td id=\"T_5fdb1_row17_col3\" class=\"data row17 col3\" >0.000025</td>\n                        <td id=\"T_5fdb1_row17_col4\" class=\"data row17 col4\" >0.031134</td>\n                        <td id=\"T_5fdb1_row17_col5\" class=\"data row17 col5\" >0.000018</td>\n                        <td id=\"T_5fdb1_row17_col6\" class=\"data row17 col6\" >0.014609</td>\n                        <td id=\"T_5fdb1_row17_col7\" class=\"data row17 col7\" >0.000016</td>\n                        <td id=\"T_5fdb1_row17_col8\" class=\"data row17 col8\" >17 prometheus, sufferings, sovereignty, end, affliction, plight, heart, friends, spectacle, seat</td>\n            </tr>\n            <tr>\n                        <th id=\"T_5fdb1_level0_row18\" class=\"row_heading level0 row18\" >18</th>\n                        <td id=\"T_5fdb1_row18_col0\" class=\"data row18 col0\" >0.129957</td>\n                        <td id=\"T_5fdb1_row18_col1\" class=\"data row18 col1\" >0.017186</td>\n                        <td id=\"T_5fdb1_row18_col2\" class=\"data row18 col2\" >0.000018</td>\n                        <td id=\"T_5fdb1_row18_col3\" class=\"data row18 col3\" >0.000025</td>\n                        <td id=\"T_5fdb1_row18_col4\" class=\"data row18 col4\" >0.001476</td>\n                        <td id=\"T_5fdb1_row18_col5\" class=\"data row18 col5\" >0.000018</td>\n                        <td id=\"T_5fdb1_row18_col6\" class=\"data row18 col6\" >0.088804</td>\n                        <td id=\"T_5fdb1_row18_col7\" class=\"data row18 col7\" >0.000016</td>\n                        <td id=\"T_5fdb1_row18_col8\" class=\"data row18 col8\" >18 gods, man, city, men, land, child, death, light, place, home</td>\n            </tr>\n            <tr>\n                        <th id=\"T_5fdb1_level0_row19\" class=\"row_heading level0 row19\" >19</th>\n                        <td id=\"T_5fdb1_row19_col0\" class=\"data row19 col0\" >0.028116</td>\n                        <td id=\"T_5fdb1_row19_col1\" class=\"data row19 col1\" >0.031067</td>\n                        <td id=\"T_5fdb1_row19_col2\" class=\"data row19 col2\" >0.000018</td>\n                        <td id=\"T_5fdb1_row19_col3\" class=\"data row19 col3\" >0.010806</td>\n                        <td id=\"T_5fdb1_row19_col4\" class=\"data row19 col4\" >0.014791</td>\n                        <td id=\"T_5fdb1_row19_col5\" class=\"data row19 col5\" >0.000018</td>\n                        <td id=\"T_5fdb1_row19_col6\" class=\"data row19 col6\" >0.013751</td>\n                        <td id=\"T_5fdb1_row19_col7\" class=\"data row19 col7\" >0.000016</td>\n                        <td id=\"T_5fdb1_row19_col8\" class=\"data row19 col8\" >19 bow, wooers, arrows, arrow, hands, women, hall, mother, store room, house</td>\n            </tr>\n            <tr>\n                        <th id=\"T_5fdb1_level0_row20\" class=\"row_heading level0 row20\" >20</th>\n                        <td id=\"T_5fdb1_row20_col0\" class=\"data row20 col0\" >0.064621</td>\n                        <td id=\"T_5fdb1_row20_col1\" class=\"data row20 col1\" >0.032372</td>\n                        <td id=\"T_5fdb1_row20_col2\" class=\"data row20 col2\" >0.000018</td>\n                        <td id=\"T_5fdb1_row20_col3\" class=\"data row20 col3\" >0.000025</td>\n                        <td id=\"T_5fdb1_row20_col4\" class=\"data row20 col4\" >0.029254</td>\n                        <td id=\"T_5fdb1_row20_col5\" class=\"data row20 col5\" >0.000018</td>\n                        <td id=\"T_5fdb1_row20_col6\" class=\"data row20 col6\" >0.087273</td>\n                        <td id=\"T_5fdb1_row20_col7\" class=\"data row20 col7\" >0.000016</td>\n                        <td id=\"T_5fdb1_row20_col8\" class=\"data row20 col8\" >20 man, blood, gods, father, oedipus, house, land, earth, hands, hand</td>\n            </tr>\n            <tr>\n                        <th id=\"T_5fdb1_level0_row21\" class=\"row_heading level0 row21\" >21</th>\n                        <td id=\"T_5fdb1_row21_col0\" class=\"data row21 col0\" >0.000434</td>\n                        <td id=\"T_5fdb1_row21_col1\" class=\"data row21 col1\" >0.006346</td>\n                        <td id=\"T_5fdb1_row21_col2\" class=\"data row21 col2\" >0.000018</td>\n                        <td id=\"T_5fdb1_row21_col3\" class=\"data row21 col3\" >0.300928</td>\n                        <td id=\"T_5fdb1_row21_col4\" class=\"data row21 col4\" >0.023887</td>\n                        <td id=\"T_5fdb1_row21_col5\" class=\"data row21 col5\" >0.003595</td>\n                        <td id=\"T_5fdb1_row21_col6\" class=\"data row21 col6\" >0.004492</td>\n                        <td id=\"T_5fdb1_row21_col7\" class=\"data row21 col7\" >0.013006</td>\n                        <td id=\"T_5fdb1_row21_col8\" class=\"data row21 col8\" >21 thou, men, thee, man, heart, house, son, ship, wooers, land</td>\n            </tr>\n            <tr>\n                        <th id=\"T_5fdb1_level0_row22\" class=\"row_heading level0 row22\" >22</th>\n                        <td id=\"T_5fdb1_row22_col0\" class=\"data row22 col0\" >0.019915</td>\n                        <td id=\"T_5fdb1_row22_col1\" class=\"data row22 col1\" >0.017897</td>\n                        <td id=\"T_5fdb1_row22_col2\" class=\"data row22 col2\" >0.000018</td>\n                        <td id=\"T_5fdb1_row22_col3\" class=\"data row22 col3\" >0.000025</td>\n                        <td id=\"T_5fdb1_row22_col4\" class=\"data row22 col4\" >0.001476</td>\n                        <td id=\"T_5fdb1_row22_col5\" class=\"data row22 col5\" >0.000018</td>\n                        <td id=\"T_5fdb1_row22_col6\" class=\"data row22 col6\" >0.040745</td>\n                        <td id=\"T_5fdb1_row22_col7\" class=\"data row22 col7\" >0.000016</td>\n                        <td id=\"T_5fdb1_row22_col8\" class=\"data row22 col8\" >22 father, city, man, men, child, land, gods, way, daughter, power</td>\n            </tr>\n            <tr>\n                        <th id=\"T_5fdb1_level0_row23\" class=\"row_heading level0 row23\" >23</th>\n                        <td id=\"T_5fdb1_row23_col0\" class=\"data row23 col0\" >0.000434</td>\n                        <td id=\"T_5fdb1_row23_col1\" class=\"data row23 col1\" >0.000256</td>\n                        <td id=\"T_5fdb1_row23_col2\" class=\"data row23 col2\" >0.000018</td>\n                        <td id=\"T_5fdb1_row23_col3\" class=\"data row23 col3\" >0.000025</td>\n                        <td id=\"T_5fdb1_row23_col4\" class=\"data row23 col4\" >0.033105</td>\n                        <td id=\"T_5fdb1_row23_col5\" class=\"data row23 col5\" >0.000018</td>\n                        <td id=\"T_5fdb1_row23_col6\" class=\"data row23 col6\" >0.000424</td>\n                        <td id=\"T_5fdb1_row23_col7\" class=\"data row23 col7\" >0.000016</td>\n                        <td id=\"T_5fdb1_row23_col8\" class=\"data row23 col8\" >23 chariot, men, gods, deathless, deathless gods, bestow, lord, bare, sister, divine</td>\n            </tr>\n            <tr>\n                        <th id=\"T_5fdb1_level0_row24\" class=\"row_heading level0 row24\" >24</th>\n                        <td id=\"T_5fdb1_row24_col0\" class=\"data row24 col0\" >0.050727</td>\n                        <td id=\"T_5fdb1_row24_col1\" class=\"data row24 col1\" >0.008335</td>\n                        <td id=\"T_5fdb1_row24_col2\" class=\"data row24 col2\" >0.991209</td>\n                        <td id=\"T_5fdb1_row24_col3\" class=\"data row24 col3\" >0.013321</td>\n                        <td id=\"T_5fdb1_row24_col4\" class=\"data row24 col4\" >0.281673</td>\n                        <td id=\"T_5fdb1_row24_col5\" class=\"data row24 col5\" >0.008825</td>\n                        <td id=\"T_5fdb1_row24_col6\" class=\"data row24 col6\" >0.010051</td>\n                        <td id=\"T_5fdb1_row24_col7\" class=\"data row24 col7\" >0.001375</td>\n                        <td id=\"T_5fdb1_row24_col8\" class=\"data row24 col8\" >24 gods, men, earth, heart, son, deathless, man, sea, goddess, house</td>\n            </tr>\n            <tr>\n                        <th id=\"T_5fdb1_level0_row25\" class=\"row_heading level0 row25\" >25</th>\n                        <td id=\"T_5fdb1_row25_col0\" class=\"data row25 col0\" >0.020602</td>\n                        <td id=\"T_5fdb1_row25_col1\" class=\"data row25 col1\" >0.032443</td>\n                        <td id=\"T_5fdb1_row25_col2\" class=\"data row25 col2\" >0.000018</td>\n                        <td id=\"T_5fdb1_row25_col3\" class=\"data row25 col3\" >0.000025</td>\n                        <td id=\"T_5fdb1_row25_col4\" class=\"data row25 col4\" >0.064661</td>\n                        <td id=\"T_5fdb1_row25_col5\" class=\"data row25 col5\" >0.000018</td>\n                        <td id=\"T_5fdb1_row25_col6\" class=\"data row25 col6\" >0.040463</td>\n                        <td id=\"T_5fdb1_row25_col7\" class=\"data row25 col7\" >0.000016</td>\n                        <td id=\"T_5fdb1_row25_col8\" class=\"data row25 col8\" >25 house, city, land, mother, gods, sea, lord, man, hand, son</td>\n            </tr>\n            <tr>\n                        <th id=\"T_5fdb1_level0_row26\" class=\"row_heading level0 row26\" >26</th>\n                        <td id=\"T_5fdb1_row26_col0\" class=\"data row26 col0\" >0.002225</td>\n                        <td id=\"T_5fdb1_row26_col1\" class=\"data row26 col1\" >0.031832</td>\n                        <td id=\"T_5fdb1_row26_col2\" class=\"data row26 col2\" >0.000018</td>\n                        <td id=\"T_5fdb1_row26_col3\" class=\"data row26 col3\" >0.007929</td>\n                        <td id=\"T_5fdb1_row26_col4\" class=\"data row26 col4\" >0.001476</td>\n                        <td id=\"T_5fdb1_row26_col5\" class=\"data row26 col5\" >0.000752</td>\n                        <td id=\"T_5fdb1_row26_col6\" class=\"data row26 col6\" >0.018056</td>\n                        <td id=\"T_5fdb1_row26_col7\" class=\"data row26 col7\" >0.000016</td>\n                        <td id=\"T_5fdb1_row26_col8\" class=\"data row26 col8\" >26 ship, comrades, kine, gods, mast, men, island, things, voice, sea</td>\n            </tr>\n            <tr>\n                        <th id=\"T_5fdb1_level0_row27\" class=\"row_heading level0 row27\" >27</th>\n                        <td id=\"T_5fdb1_row27_col0\" class=\"data row27 col0\" >0.020733</td>\n                        <td id=\"T_5fdb1_row27_col1\" class=\"data row27 col1\" >0.000256</td>\n                        <td id=\"T_5fdb1_row27_col2\" class=\"data row27 col2\" >0.000018</td>\n                        <td id=\"T_5fdb1_row27_col3\" class=\"data row27 col3\" >0.000025</td>\n                        <td id=\"T_5fdb1_row27_col4\" class=\"data row27 col4\" >0.001476</td>\n                        <td id=\"T_5fdb1_row27_col5\" class=\"data row27 col5\" >0.000018</td>\n                        <td id=\"T_5fdb1_row27_col6\" class=\"data row27 col6\" >0.013276</td>\n                        <td id=\"T_5fdb1_row27_col7\" class=\"data row27 col7\" >0.000211</td>\n                        <td id=\"T_5fdb1_row27_col8\" class=\"data row27 col8\" >27 men, man, house, home, life, sons, gods, large, child, news</td>\n            </tr>\n            <tr>\n                        <th id=\"T_5fdb1_level0_row28\" class=\"row_heading level0 row28\" >28</th>\n                        <td id=\"T_5fdb1_row28_col0\" class=\"data row28 col0\" >0.020750</td>\n                        <td id=\"T_5fdb1_row28_col1\" class=\"data row28 col1\" >0.000256</td>\n                        <td id=\"T_5fdb1_row28_col2\" class=\"data row28 col2\" >0.000018</td>\n                        <td id=\"T_5fdb1_row28_col3\" class=\"data row28 col3\" >0.000025</td>\n                        <td id=\"T_5fdb1_row28_col4\" class=\"data row28 col4\" >0.001476</td>\n                        <td id=\"T_5fdb1_row28_col5\" class=\"data row28 col5\" >0.000018</td>\n                        <td id=\"T_5fdb1_row28_col6\" class=\"data row28 col6\" >0.000424</td>\n                        <td id=\"T_5fdb1_row28_col7\" class=\"data row28 col7\" >0.000016</td>\n                        <td id=\"T_5fdb1_row28_col8\" class=\"data row28 col8\" >28 house, man, message, news, heart, stranger, way, time, boy, friends</td>\n            </tr>\n            <tr>\n                        <th id=\"T_5fdb1_level0_row29\" class=\"row_heading level0 row29\" >29</th>\n                        <td id=\"T_5fdb1_row29_col0\" class=\"data row29 col0\" >0.013207</td>\n                        <td id=\"T_5fdb1_row29_col1\" class=\"data row29 col1\" >0.052842</td>\n                        <td id=\"T_5fdb1_row29_col2\" class=\"data row29 col2\" >0.000018</td>\n                        <td id=\"T_5fdb1_row29_col3\" class=\"data row29 col3\" >0.002277</td>\n                        <td id=\"T_5fdb1_row29_col4\" class=\"data row29 col4\" >0.001476</td>\n                        <td id=\"T_5fdb1_row29_col5\" class=\"data row29 col5\" >0.073667</td>\n                        <td id=\"T_5fdb1_row29_col6\" class=\"data row29 col6\" >0.009963</td>\n                        <td id=\"T_5fdb1_row29_col7\" class=\"data row29 col7\" >0.461861</td>\n                        <td id=\"T_5fdb1_row29_col8\" class=\"data row29 col8\" >29 war, hand, sword, arms, gods, thee, way, foe, thou, heart</td>\n            </tr>\n    </tbody></table>"
     },
     "metadata": {},
     "execution_count": 14
    }
   ],
   "source": [
    "lda.author_topic.style.background_gradient()"
   ]
  },
  {
   "source": [
    "## Word Embeddings (word2vec)"
   ],
   "cell_type": "markdown",
   "metadata": {}
  },
  {
   "cell_type": "code",
   "execution_count": 15,
   "metadata": {},
   "outputs": [],
   "source": [
    "w2v = WordEmbedding(OHCO_level=paragraph_bag)\n",
    "w2v.fit(corp)"
   ]
  },
  {
   "cell_type": "code",
   "execution_count": 16,
   "metadata": {},
   "outputs": [
    {
     "output_type": "display_data",
     "data": {
      "application/vnd.plotly.v1+json": {
       "config": {
        "plotlyServerURL": "https://plot.ly"
       },
       "data": [
        {
         "hovertemplate": "<b>%{hovertext}</b><br><br>pos_max=NN<br>x=%{x}<br>y=%{y}<br>term_str=%{text}<extra></extra>",
         "hovertext": [
          "son",
          "man",
          "thou",
          "heart",
          "thee",
          "land",
          "house",
          "father",
          "hand",
          "way",
          "sea",
          "forth",
          "god",
          "death",
          "city",
          "day",
          "earth",
          "war",
          "time",
          "mother",
          "spear",
          "blood",
          "life",
          "ship",
          "goddess",
          "head",
          "daughter",
          "child",
          "wise",
          "home",
          "side",
          "love",
          "ground",
          "king",
          "battle",
          "place",
          "mind",
          "word",
          "breast",
          "night",
          "fear",
          "fire",
          "art",
          "bronze",
          "name",
          "voice",
          "wife",
          "power",
          "sword",
          "gold",
          "lord",
          "strength",
          "host",
          "face",
          "mighty",
          "fate",
          "ye",
          "hath",
          "shore",
          "shield",
          "heaven",
          "spirit",
          "body",
          "air",
          "twain",
          "wine",
          "end",
          "thing",
          "water",
          "hair",
          "grief",
          "hast",
          "wrath",
          "bow",
          "light",
          "round",
          "rest",
          "joy",
          "friends",
          "glory",
          "sight",
          "thought",
          "prayer",
          "stranger",
          "cry",
          "sun",
          "plain",
          "fathers",
          "woman",
          "chariot",
          "wall",
          "cause",
          "soul",
          "fight",
          "hope",
          "part",
          "form",
          "wind",
          "foot",
          "race",
          "age",
          "husband",
          "stand",
          "truth",
          "wrought",
          "gift",
          "counsel",
          "limbs",
          "mountain",
          "youth",
          "deed",
          "mine",
          "answer",
          "course",
          "rage",
          "woe",
          "vain",
          "sorrow",
          "foe",
          "flight",
          "honor",
          "care",
          "return",
          "throng",
          "stream",
          "brother",
          "wave",
          "world",
          "divine",
          "marriage",
          "song",
          "desire",
          "work",
          "flesh",
          "car",
          "shalt",
          "horse",
          "bed",
          "doom",
          "feast",
          "armour",
          "cloud",
          "nothing",
          "tree",
          "stone",
          "friend",
          "neck",
          "birth",
          "hall",
          "midst",
          "speed",
          "tale",
          "aid",
          "sire",
          "bare",
          "toil",
          "food",
          "flame",
          "none",
          "pity",
          "sleep",
          "river",
          "turn",
          "wound",
          "till",
          "thrust",
          "corpse",
          "dust",
          "cruel",
          "streams",
          "palace",
          "need",
          "speech",
          "shame",
          "wealth",
          "sister",
          "bound",
          "altar",
          "rock",
          "sacrifice",
          "spread",
          "strife",
          "clouds",
          "haste",
          "mothers",
          "victory",
          "anger",
          "didst",
          "path",
          "silver",
          "point",
          "haply",
          "prize",
          "throne",
          "thine",
          "sound",
          "wood",
          "line",
          "gathering",
          "ruin",
          "folk",
          "storm",
          "fain",
          "arrow",
          "brothers",
          "bird",
          "hour",
          "chamber",
          "darkness",
          "sky",
          "tongue",
          "order",
          "country",
          "beauty",
          "godlike",
          "hither",
          "comrade",
          "master",
          "manner",
          "force",
          "helm",
          "leader",
          "door",
          "year",
          "wilt",
          "cave",
          "lot",
          "fortune",
          "reason",
          "command",
          "town",
          "company",
          "space",
          "pain",
          "hollow",
          "help",
          "share",
          "field",
          "sake",
          "virgin",
          "destruction",
          "tomb",
          "silence",
          "abode",
          "sheep",
          "fleet",
          "courage",
          "foes",
          "dost",
          "oath",
          "afar",
          "shepherd",
          "peace",
          "temple",
          "terror",
          "seas",
          "boy",
          "parents",
          "fury",
          "mouth",
          "girl",
          "grove",
          "living",
          "shade",
          "kind",
          "deathless",
          "shaft",
          "hero",
          "army",
          "iron",
          "sisters",
          "shoulder",
          "lion",
          "lo",
          "self",
          "charge",
          "eye",
          "fame",
          "messenger",
          "shape",
          "raiment",
          "breath",
          "steel",
          "weight",
          "forthwith",
          "methinks",
          "length",
          "case",
          "swineherd",
          "couch",
          "citadel",
          "arm",
          "aloud",
          "sore",
          "spring",
          "passion",
          "crime",
          "law",
          "wisdom",
          "brave",
          "sprung",
          "front",
          "dawn",
          "tender",
          "purpose",
          "bosom",
          "pleasure",
          "stroke",
          "bull",
          "maid",
          "task",
          "burning",
          "vengeance",
          "foremost",
          "skill",
          "wroth",
          "yoke",
          "cup",
          "whence",
          "threshold",
          "seat",
          "story",
          "store",
          "hut",
          "blazing",
          "sail",
          "knowledge",
          "cloak",
          "misery",
          "watch",
          "savage",
          "waste",
          "trouble",
          "herald",
          "offspring",
          "monster",
          "journey",
          "blow",
          "violence",
          "clad",
          "meal",
          "drink",
          "skies",
          "maiden",
          "mans",
          "helmet",
          "brow",
          "chance",
          "bulls",
          "thrice",
          "teeth",
          "flood",
          "hill",
          "skin",
          "flung",
          "prince",
          "hearth",
          "wonder",
          "royal",
          "din",
          "spoil",
          "thence",
          "oak",
          "moment",
          "lyre",
          "chosen",
          "lady",
          "news",
          "burden",
          "lightning",
          "throat",
          "matter",
          "offering",
          "suffering",
          "bride",
          "harm",
          "praise",
          "star",
          "aegis",
          "bane",
          "th",
          "kine",
          "gate",
          "thunder",
          "camp",
          "conflict",
          "court",
          "glance",
          "arose",
          "reins",
          "hung",
          "grace",
          "thereof",
          "sign",
          "boar",
          "delight",
          "trial",
          "stout",
          "board",
          "woods",
          "nature",
          "bent",
          "rout",
          "isle",
          "rain",
          "island",
          "price",
          "tribes",
          "murder",
          "javelin",
          "ear",
          "omen",
          "grave",
          "gloom",
          "oxen",
          "realm",
          "favor",
          "enduring",
          "hapless",
          "masters",
          "jaws",
          "message",
          "seed",
          "defence",
          "portion",
          "string",
          "hid",
          "fruit",
          "sand",
          "dance",
          "staff",
          "valour",
          "crest",
          "delay",
          "fond",
          "wast",
          "guard",
          "bowl",
          "dream",
          "justice",
          "beast",
          "beloved",
          "enemy",
          "pride",
          "gaze",
          "bread",
          "shrine",
          "thereon",
          "longing",
          "hate",
          "fed",
          "array",
          "slave",
          "grass",
          "question",
          "soil",
          "change"
         ],
         "legendgroup": "NN",
         "marker": {
          "color": "#636efa",
          "symbol": "circle"
         },
         "mode": "markers+text",
         "name": "NN",
         "orientation": "v",
         "showlegend": true,
         "text": [
          "son",
          "man",
          "thou",
          "heart",
          "thee",
          "land",
          "house",
          "father",
          "hand",
          "way",
          "sea",
          "forth",
          "god",
          "death",
          "city",
          "day",
          "earth",
          "war",
          "time",
          "mother",
          "spear",
          "blood",
          "life",
          "ship",
          "goddess",
          "head",
          "daughter",
          "child",
          "wise",
          "home",
          "side",
          "love",
          "ground",
          "king",
          "battle",
          "place",
          "mind",
          "word",
          "breast",
          "night",
          "fear",
          "fire",
          "art",
          "bronze",
          "name",
          "voice",
          "wife",
          "power",
          "sword",
          "gold",
          "lord",
          "strength",
          "host",
          "face",
          "mighty",
          "fate",
          "ye",
          "hath",
          "shore",
          "shield",
          "heaven",
          "spirit",
          "body",
          "air",
          "twain",
          "wine",
          "end",
          "thing",
          "water",
          "hair",
          "grief",
          "hast",
          "wrath",
          "bow",
          "light",
          "round",
          "rest",
          "joy",
          "friends",
          "glory",
          "sight",
          "thought",
          "prayer",
          "stranger",
          "cry",
          "sun",
          "plain",
          "fathers",
          "woman",
          "chariot",
          "wall",
          "cause",
          "soul",
          "fight",
          "hope",
          "part",
          "form",
          "wind",
          "foot",
          "race",
          "age",
          "husband",
          "stand",
          "truth",
          "wrought",
          "gift",
          "counsel",
          "limbs",
          "mountain",
          "youth",
          "deed",
          "mine",
          "answer",
          "course",
          "rage",
          "woe",
          "vain",
          "sorrow",
          "foe",
          "flight",
          "honor",
          "care",
          "return",
          "throng",
          "stream",
          "brother",
          "wave",
          "world",
          "divine",
          "marriage",
          "song",
          "desire",
          "work",
          "flesh",
          "car",
          "shalt",
          "horse",
          "bed",
          "doom",
          "feast",
          "armour",
          "cloud",
          "nothing",
          "tree",
          "stone",
          "friend",
          "neck",
          "birth",
          "hall",
          "midst",
          "speed",
          "tale",
          "aid",
          "sire",
          "bare",
          "toil",
          "food",
          "flame",
          "none",
          "pity",
          "sleep",
          "river",
          "turn",
          "wound",
          "till",
          "thrust",
          "corpse",
          "dust",
          "cruel",
          "streams",
          "palace",
          "need",
          "speech",
          "shame",
          "wealth",
          "sister",
          "bound",
          "altar",
          "rock",
          "sacrifice",
          "spread",
          "strife",
          "clouds",
          "haste",
          "mothers",
          "victory",
          "anger",
          "didst",
          "path",
          "silver",
          "point",
          "haply",
          "prize",
          "throne",
          "thine",
          "sound",
          "wood",
          "line",
          "gathering",
          "ruin",
          "folk",
          "storm",
          "fain",
          "arrow",
          "brothers",
          "bird",
          "hour",
          "chamber",
          "darkness",
          "sky",
          "tongue",
          "order",
          "country",
          "beauty",
          "godlike",
          "hither",
          "comrade",
          "master",
          "manner",
          "force",
          "helm",
          "leader",
          "door",
          "year",
          "wilt",
          "cave",
          "lot",
          "fortune",
          "reason",
          "command",
          "town",
          "company",
          "space",
          "pain",
          "hollow",
          "help",
          "share",
          "field",
          "sake",
          "virgin",
          "destruction",
          "tomb",
          "silence",
          "abode",
          "sheep",
          "fleet",
          "courage",
          "foes",
          "dost",
          "oath",
          "afar",
          "shepherd",
          "peace",
          "temple",
          "terror",
          "seas",
          "boy",
          "parents",
          "fury",
          "mouth",
          "girl",
          "grove",
          "living",
          "shade",
          "kind",
          "deathless",
          "shaft",
          "hero",
          "army",
          "iron",
          "sisters",
          "shoulder",
          "lion",
          "lo",
          "self",
          "charge",
          "eye",
          "fame",
          "messenger",
          "shape",
          "raiment",
          "breath",
          "steel",
          "weight",
          "forthwith",
          "methinks",
          "length",
          "case",
          "swineherd",
          "couch",
          "citadel",
          "arm",
          "aloud",
          "sore",
          "spring",
          "passion",
          "crime",
          "law",
          "wisdom",
          "brave",
          "sprung",
          "front",
          "dawn",
          "tender",
          "purpose",
          "bosom",
          "pleasure",
          "stroke",
          "bull",
          "maid",
          "task",
          "burning",
          "vengeance",
          "foremost",
          "skill",
          "wroth",
          "yoke",
          "cup",
          "whence",
          "threshold",
          "seat",
          "story",
          "store",
          "hut",
          "blazing",
          "sail",
          "knowledge",
          "cloak",
          "misery",
          "watch",
          "savage",
          "waste",
          "trouble",
          "herald",
          "offspring",
          "monster",
          "journey",
          "blow",
          "violence",
          "clad",
          "meal",
          "drink",
          "skies",
          "maiden",
          "mans",
          "helmet",
          "brow",
          "chance",
          "bulls",
          "thrice",
          "teeth",
          "flood",
          "hill",
          "skin",
          "flung",
          "prince",
          "hearth",
          "wonder",
          "royal",
          "din",
          "spoil",
          "thence",
          "oak",
          "moment",
          "lyre",
          "chosen",
          "lady",
          "news",
          "burden",
          "lightning",
          "throat",
          "matter",
          "offering",
          "suffering",
          "bride",
          "harm",
          "praise",
          "star",
          "aegis",
          "bane",
          "th",
          "kine",
          "gate",
          "thunder",
          "camp",
          "conflict",
          "court",
          "glance",
          "arose",
          "reins",
          "hung",
          "grace",
          "thereof",
          "sign",
          "boar",
          "delight",
          "trial",
          "stout",
          "board",
          "woods",
          "nature",
          "bent",
          "rout",
          "isle",
          "rain",
          "island",
          "price",
          "tribes",
          "murder",
          "javelin",
          "ear",
          "omen",
          "grave",
          "gloom",
          "oxen",
          "realm",
          "favor",
          "enduring",
          "hapless",
          "masters",
          "jaws",
          "message",
          "seed",
          "defence",
          "portion",
          "string",
          "hid",
          "fruit",
          "sand",
          "dance",
          "staff",
          "valour",
          "crest",
          "delay",
          "fond",
          "wast",
          "guard",
          "bowl",
          "dream",
          "justice",
          "beast",
          "beloved",
          "enemy",
          "pride",
          "gaze",
          "bread",
          "shrine",
          "thereon",
          "longing",
          "hate",
          "fed",
          "array",
          "slave",
          "grass",
          "question",
          "soil",
          "change"
         ],
         "textfont": {
          "color": "black",
          "family": "Arial",
          "size": 14
         },
         "textposition": "top center",
         "type": "scatter",
         "x": [
          -12.93854808807373,
          56.88998794555664,
          63.75336456298828,
          57.208045959472656,
          63.09465026855469,
          45.20479202270508,
          56.22726058959961,
          58.789085388183594,
          -55.202632904052734,
          -31.933006286621094,
          -52.55863952636719,
          -54.60213851928711,
          43.13679885864258,
          51.74057388305664,
          44.9980583190918,
          45.418121337890625,
          -33.78638458251953,
          10.259454727172852,
          34.236873626708984,
          57.00755310058594,
          -62.807010650634766,
          -53.25529479980469,
          50.66638946533203,
          -52.76694869995117,
          14.84583568572998,
          -60.608062744140625,
          45.43968963623047,
          59.098899841308594,
          57.94369888305664,
          57.72188186645508,
          -57.501426696777344,
          57.4234504699707,
          -61.127845764160156,
          37.73530960083008,
          -16.43654441833496,
          -32.6720085144043,
          57.204036712646484,
          60.025569915771484,
          -49.395076751708984,
          -31.10413360595703,
          8.017134666442871,
          -53.9796142578125,
          62.980140686035156,
          -62.65731430053711,
          47.79119873046875,
          31.91977310180664,
          58.13365173339844,
          46.02684020996094,
          -59.55647277832031,
          -58.56473922729492,
          32.44522476196289,
          1.9954371452331543,
          -34.41278076171875,
          -48.130062103271484,
          -38.52724838256836,
          52.1136360168457,
          58.51520919799805,
          55.549293518066406,
          -53.68726348876953,
          -62.43458557128906,
          -31.157978057861328,
          24.724496841430664,
          -45.350624084472656,
          -56.03890609741211,
          -32.27333068847656,
          -36.45639419555664,
          44.85165786743164,
          59.53908920288086,
          -54.21954345703125,
          -58.62406921386719,
          49.20907211303711,
          62.84516906738281,
          37.271541595458984,
          -51.7668571472168,
          -1.3389248847961426,
          -58.33314514160156,
          3.345978021621704,
          46.753761291503906,
          50.36613082885742,
          45.57014083862305,
          -21.49402618408203,
          45.2704963684082,
          25.310688018798828,
          59.87791442871094,
          -40.146888732910156,
          -44.97792434692383,
          -49.104209899902344,
          41.84015655517578,
          45.64398193359375,
          -57.096317291259766,
          -49.771854400634766,
          48.459529876708984,
          27.374767303466797,
          -30.386737823486328,
          51.7138786315918,
          11.27736759185791,
          -6.546343803405762,
          -53.57084274291992,
          -33.548545837402344,
          34.105159759521484,
          53.327205657958984,
          53.746620178222656,
          -7.0662031173706055,
          55.97280502319336,
          -29.786529541015625,
          14.20247745513916,
          53.540992736816406,
          -50.71186828613281,
          -47.80972671508789,
          13.317688941955566,
          52.73982238769531,
          56.023494720458984,
          57.33778381347656,
          -30.894657135009766,
          -28.9724063873291,
          41.948909759521484,
          -20.20286750793457,
          53.86028289794922,
          -46.96412658691406,
          -42.852439880371094,
          45.12569808959961,
          41.91887664794922,
          46.96577453613281,
          -49.38536071777344,
          -48.762760162353516,
          22.86692237854004,
          -49.0292854309082,
          23.084516525268555,
          0.32007595896720886,
          53.292118072509766,
          25.596555709838867,
          42.440670013427734,
          44.04420852661133,
          -50.80379867553711,
          -57.62429428100586,
          61.39039993286133,
          -46.18782043457031,
          16.21982192993164,
          41.82552719116211,
          20.98899269104004,
          -54.9026985168457,
          -34.23433303833008,
          40.73588180541992,
          -49.18571090698242,
          -53.56690216064453,
          49.377586364746094,
          -58.83485794067383,
          40.64208984375,
          -22.338729858398438,
          -43.93141555786133,
          2.89951491355896,
          47.505672454833984,
          20.968618392944336,
          12.108053207397461,
          -36.54373550415039,
          11.965728759765625,
          7.873034477233887,
          -42.888702392578125,
          14.842988014221191,
          48.44041442871094,
          -20.703777313232422,
          -45.66973114013672,
          16.704444885253906,
          -48.598777770996094,
          -22.576236724853516,
          -58.80952453613281,
          -8.90877628326416,
          -55.60820388793945,
          29.51586151123047,
          -40.01750183105469,
          3.968792676925659,
          53.68927764892578,
          43.5355339050293,
          41.4045295715332,
          35.87881088256836,
          31.746265411376953,
          -32.22531509399414,
          -21.23398780822754,
          -49.31479263305664,
          13.293974876403809,
          -46.84303283691406,
          21.451704025268555,
          -46.516605377197266,
          -18.381956100463867,
          23.22771644592285,
          26.513784408569336,
          42.73298263549805,
          59.70335388183594,
          1.0093371868133545,
          -53.04145050048828,
          -56.30130386352539,
          43.798179626464844,
          13.420296669006348,
          14.32607364654541,
          56.027339935302734,
          -21.290531158447266,
          -44.984859466552734,
          -30.27405548095703,
          -24.312118530273438,
          34.036251068115234,
          0.016774870455265045,
          -31.122364044189453,
          -5.6346282958984375,
          -55.39686584472656,
          5.878576278686523,
          -19.63526725769043,
          14.294836044311523,
          -22.68899917602539,
          -27.065994262695312,
          -40.257286071777344,
          23.366046905517578,
          -0.6377753615379333,
          39.327552795410156,
          9.891932487487793,
          10.383781433105469,
          47.29643630981445,
          -6.472461700439453,
          30.180713653564453,
          31.3887996673584,
          15.93212604522705,
          -55.78550338745117,
          -9.983214378356934,
          -21.736730575561523,
          33.95401382446289,
          59.03098678588867,
          -41.670135498046875,
          16.589221954345703,
          38.68239974975586,
          40.7137451171875,
          4.561291694641113,
          -12.978105545043945,
          5.7829203605651855,
          -23.577232360839844,
          27.3548526763916,
          -43.94636154174805,
          34.0571403503418,
          40.0113639831543,
          -27.32269287109375,
          39.0793342590332,
          -9.11622142791748,
          18.162607192993164,
          4.938596725463867,
          11.148740768432617,
          -30.926679611206055,
          -33.828147888183594,
          -16.2523136138916,
          9.040201187133789,
          -14.781418800354004,
          59.52898025512695,
          31.081937789916992,
          5.996057987213135,
          -25.81045913696289,
          20.596363067626953,
          -7.676522731781006,
          -19.657243728637695,
          -28.43056869506836,
          18.92919158935547,
          42.297481536865234,
          -21.077190399169922,
          -28.13211441040039,
          37.25837326049805,
          -24.725196838378906,
          23.388029098510742,
          -18.274168014526367,
          42.275699615478516,
          39.36819076538086,
          -48.392879486083984,
          -17.609251022338867,
          22.872467041015625,
          -24.887041091918945,
          14.874899864196777,
          -54.67976379394531,
          -30.68722152709961,
          9.457206726074219,
          38.63859176635742,
          24.841691970825195,
          -9.387566566467285,
          30.18630599975586,
          26.2797908782959,
          -7.397831439971924,
          -11.428351402282715,
          -31.70903778076172,
          -39.69260025024414,
          -41.96184158325195,
          -4.723274230957031,
          48.76383972167969,
          -12.21177864074707,
          41.17377471923828,
          9.768885612487793,
          -9.31614875793457,
          -25.31745719909668,
          -44.37667465209961,
          -23.087295532226562,
          12.8200101852417,
          -30.513202667236328,
          26.06027603149414,
          17.601276397705078,
          41.561954498291016,
          52.049537658691406,
          0.32620692253112793,
          13.824051856994629,
          -31.302488327026367,
          -0.7071696519851685,
          -16.853933334350586,
          29.027324676513672,
          -26.33871841430664,
          44.425567626953125,
          -22.4913387298584,
          -18.777475357055664,
          -0.5612292885780334,
          12.412975311279297,
          -32.634033203125,
          32.08030319213867,
          -21.22450065612793,
          9.83139705657959,
          33.7484245300293,
          -31.522981643676758,
          -11.19550895690918,
          11.499345779418945,
          -26.313491821289062,
          -4.577220439910889,
          29.082326889038086,
          1.3773479461669922,
          -20.594470977783203,
          -41.36431884765625,
          -31.68967056274414,
          39.13296890258789,
          -29.403688430786133,
          37.0472526550293,
          2.9122369289398193,
          -15.661199569702148,
          3.7227277755737305,
          28.67389678955078,
          -4.510957717895508,
          35.42398452758789,
          -30.34504508972168,
          24.597267150878906,
          -36.31843566894531,
          15.362547874450684,
          -25.985448837280273,
          -19.897207260131836,
          -5.437070846557617,
          -25.260971069335938,
          14.557856559753418,
          6.210329532623291,
          -52.65180206298828,
          -22.262109756469727,
          5.95408821105957,
          -46.39549255371094,
          -20.24861717224121,
          -28.788925170898438,
          -41.57453536987305,
          -19.905475616455078,
          -44.32023239135742,
          -44.517852783203125,
          -5.695856094360352,
          9.030759811401367,
          -7.498219013214111,
          8.431214332580566,
          -24.22163200378418,
          -7.778591632843018,
          -16.589035034179688,
          -33.200096130371094,
          -9.145743370056152,
          -9.06661319732666,
          -4.379321575164795,
          29.673603057861328,
          25.81509780883789,
          20.47073745727539,
          -20.8078670501709,
          -47.87068557739258,
          41.73292541503906,
          -8.202919006347656,
          29.279644012451172,
          14.763175010681152,
          35.929840087890625,
          20.48849105834961,
          -24.561695098876953,
          10.027766227722168,
          10.24873161315918,
          -20.32307243347168,
          -13.683619499206543,
          -22.595558166503906,
          -21.483631134033203,
          -1.27165687084198,
          -27.5577392578125,
          -12.705543518066406,
          23.972524642944336,
          -31.683311462402344,
          -46.9324836730957,
          -38.88151550292969,
          17.49390983581543,
          -6.3673319816589355,
          -0.21398021280765533,
          -24.471416473388672,
          20.286149978637695,
          11.22631549835205,
          -37.98215866088867,
          -24.50614356994629,
          -14.364508628845215,
          32.464866638183594,
          -23.105031967163086,
          -14.991168022155762,
          0.08560125529766083,
          -17.572284698486328,
          -0.7187529802322388,
          31.405662536621094,
          10.833678245544434,
          23.997739791870117,
          -38.2126579284668,
          -8.947120666503906,
          9.767280578613281,
          -5.523590564727783,
          -4.881247043609619,
          -6.857598781585693,
          4.001339912414551,
          25.008943557739258,
          10.19896125793457,
          27.148942947387695,
          7.42186975479126,
          -28.903024673461914,
          17.779956817626953,
          5.483327388763428,
          -10.134238243103027,
          22.59402847290039,
          -29.63030242919922,
          -11.664689064025879,
          -7.848405361175537,
          -31.358661651611328,
          -4.581254482269287,
          -20.30054473876953,
          8.674408912658691,
          -43.219295501708984,
          8.932741165161133,
          14.279400825500488,
          44.59490966796875,
          4.870693683624268,
          -29.952871322631836,
          20.02156639099121,
          26.497798919677734,
          -7.558846950531006,
          25.616661071777344,
          4.870941162109375,
          15.889875411987305,
          -19.8729305267334,
          -6.90765905380249,
          -6.53643274307251,
          -30.44384002685547,
          3.328037738800049,
          18.26433753967285,
          -9.663702964782715,
          -18.991374969482422,
          16.6146297454834,
          -27.950780868530273,
          37.923545837402344,
          -5.7426581382751465,
          9.095693588256836
         ],
         "xaxis": "x",
         "y": [
          -9.030425071716309,
          7.324616432189941,
          8.641556739807129,
          8.558095932006836,
          8.24866008758545,
          11.324762344360352,
          2.7183263301849365,
          4.822566032409668,
          -1.8802032470703125,
          4.707365989685059,
          8.228471755981445,
          5.320839881896973,
          2.3069779872894287,
          2.1444461345672607,
          11.411571502685547,
          10.270072937011719,
          6.782386302947998,
          5.998984336853027,
          -2.196368455886841,
          4.339571952819824,
          2.0339808464050293,
          -2.5228030681610107,
          1.6196086406707764,
          7.919025421142578,
          -9.223931312561035,
          1.563207983970642,
          -0.14337857067584991,
          5.680585861206055,
          8.40534496307373,
          2.9182090759277344,
          1.2969532012939453,
          4.795238971710205,
          2.2230327129364014,
          -2.024374008178711,
          -2.6966428756713867,
          5.351230144500732,
          6.56458854675293,
          7.66026496887207,
          -4.437814712524414,
          6.182966232299805,
          -2.158891439437866,
          5.765791893005371,
          8.096173286437988,
          2.532686471939087,
          1.8581933975219727,
          6.361337661743164,
          4.970555305480957,
          9.3551025390625,
          0.6168843507766724,
          2.9049136638641357,
          4.99724817276001,
          -0.9071527123451233,
          3.8249833583831787,
          -3.8186285495758057,
          -2.9325129985809326,
          3.347031354904175,
          2.5028204917907715,
          7.398465156555176,
          7.647994041442871,
          2.411550283432007,
          5.433168411254883,
          -4.757704734802246,
          -2.4260849952697754,
          4.3520917892456055,
          -6.332579612731934,
          1.8646395206451416,
          5.516836643218994,
          6.973089694976807,
          5.834184646606445,
          1.852554202079773,
          2.6869471073150635,
          7.997315406799316,
          2.4893386363983154,
          -1.7199217081069946,
          -4.046192169189453,
          3.80381178855896,
          1.0777623653411865,
          3.531252145767212,
          3.7110607624053955,
          6.750883102416992,
          -0.12752442061901093,
          5.007910251617432,
          -3.6415112018585205,
          6.405099391937256,
          -3.840785026550293,
          6.906219959259033,
          5.3381266593933105,
          0.4220532774925232,
          0.9715098738670349,
          3.336165428161621,
          4.231743335723877,
          3.3821797370910645,
          -1.9330978393554688,
          -6.839109420776367,
          5.44774866104126,
          7.4774298667907715,
          -4.084849834442139,
          6.366103649139404,
          -0.9170494079589844,
          -1.3771032094955444,
          3.942168951034546,
          3.346768617630005,
          -8.141607284545898,
          5.47391939163208,
          -4.161172389984131,
          -0.12659944593906403,
          7.396012306213379,
          -1.062042236328125,
          5.185567378997803,
          -0.5521543025970459,
          3.685359477996826,
          6.439226150512695,
          8.9007568359375,
          5.04642391204834,
          -2.152244806289673,
          2.451566219329834,
          -1.086013913154602,
          4.576703071594238,
          -2.4351131916046143,
          2.3475565910339355,
          3.0890049934387207,
          5.159571170806885,
          5.018985271453857,
          0.2095864862203598,
          4.619407653808594,
          -3.83337140083313,
          6.23891019821167,
          1.4543743133544922,
          -0.8503758311271667,
          3.2595603466033936,
          6.858633041381836,
          8.167634963989258,
          3.110471248626709,
          -0.3254687190055847,
          3.4764089584350586,
          7.94709587097168,
          -2.6049060821533203,
          0.7067480087280273,
          4.554673671722412,
          2.7859246730804443,
          0.4898887872695923,
          -5.8130364418029785,
          4.524630069732666,
          1.4026657342910767,
          0.2808806002140045,
          4.276467800140381,
          1.40470290184021,
          -0.2719687819480896,
          -7.676418781280518,
          1.0365540981292725,
          -6.136333465576172,
          3.5318734645843506,
          -0.25468721985816956,
          -3.054590940475464,
          -4.077932357788086,
          5.277099609375,
          0.6085873246192932,
          1.9294869899749756,
          -0.46377629041671753,
          5.615091323852539,
          -5.947764873504639,
          4.265075206756592,
          -0.1557248830795288,
          -2.835110664367676,
          -4.957694053649902,
          0.7589741349220276,
          -7.234746932983398,
          1.3966618776321411,
          5.608273506164551,
          3.2063205242156982,
          -0.6728869676589966,
          5.860342025756836,
          4.063002109527588,
          3.8261892795562744,
          -1.2104400396347046,
          5.692450046539307,
          1.5402165651321411,
          1.6765153408050537,
          4.167339324951172,
          5.797367095947266,
          2.318681240081787,
          -1.616390347480774,
          5.1975603103637695,
          -5.7579522132873535,
          -3.7541253566741943,
          1.1215265989303589,
          3.6538262367248535,
          8.468229293823242,
          -4.503754138946533,
          1.0150387287139893,
          0.4210820198059082,
          6.181553363800049,
          1.0839473009109497,
          5.423958778381348,
          8.888886451721191,
          1.2633713483810425,
          0.9315887093544006,
          -0.21831321716308594,
          -10.358482360839844,
          2.1381006240844727,
          -4.5381245613098145,
          5.021371841430664,
          -7.382984161376953,
          -0.04587173089385033,
          -2.622150182723999,
          -8.355378150939941,
          4.0085930824279785,
          -6.904757976531982,
          -9.187557220458984,
          3.704958200454712,
          -3.318358898162842,
          -3.3330154418945312,
          4.649580001831055,
          -0.01542687974870205,
          -5.14028263092041,
          6.1611223220825195,
          -7.7126078605651855,
          2.7076642513275146,
          4.091876983642578,
          2.605116128921509,
          0.42152103781700134,
          -7.963245868682861,
          0.6601190567016602,
          -0.8289056420326233,
          8.29378604888916,
          2.285620927810669,
          2.8662326335906982,
          4.590101718902588,
          3.887890100479126,
          1.1983760595321655,
          3.439863681793213,
          0.5281456708908081,
          -2.8558452129364014,
          -1.6084731817245483,
          4.997859001159668,
          3.5192604064941406,
          5.979742527008057,
          0.5497040152549744,
          5.352427005767822,
          -0.4921882152557373,
          2.4391677379608154,
          -3.318446636199951,
          -4.08629846572876,
          -1.0284048318862915,
          0.8877601623535156,
          5.76672887802124,
          0.10190219432115555,
          1.5789867639541626,
          7.838128566741943,
          0.6043717265129089,
          -4.5041117668151855,
          -9.602681159973145,
          -0.2655337154865265,
          3.962555170059204,
          -8.109777450561523,
          4.674661636352539,
          2.6703081130981445,
          3.137148141860962,
          -9.359442710876465,
          -1.4779449701309204,
          7.049079895019531,
          1.4682384729385376,
          -0.4662749171257019,
          0.6127879023551941,
          2.5663623809814453,
          -0.39451274275779724,
          -2.978609323501587,
          2.023653030395508,
          5.8983001708984375,
          -1.5612832307815552,
          -3.386742115020752,
          0.2317105382680893,
          -3.1479880809783936,
          -3.550891876220703,
          6.523367881774902,
          -1.2440122365951538,
          1.4641923904418945,
          1.2139463424682617,
          -0.6516815423965454,
          -5.041280269622803,
          -3.1389639377593994,
          -2.458158493041992,
          -2.020023822784424,
          0.37854138016700745,
          -7.335705280303955,
          7.25014591217041,
          -1.1579495668411255,
          2.52589750289917,
          -5.999390125274658,
          -4.1643781661987305,
          -5.147086143493652,
          -3.1211447715759277,
          -8.972013473510742,
          -3.6636126041412354,
          1.3798003196716309,
          -1.813340187072754,
          0.9605105519294739,
          0.979581356048584,
          6.035824298858643,
          5.244268894195557,
          -4.020447254180908,
          -0.1863871067762375,
          -4.2269744873046875,
          -5.014922618865967,
          3.4772305488586426,
          -2.9630117416381836,
          4.436977863311768,
          -1.7929006814956665,
          0.8128202557563782,
          5.422163009643555,
          4.511213779449463,
          0.16969768702983856,
          3.5822927951812744,
          -10.608795166015625,
          2.56087064743042,
          7.1252760887146,
          -0.16084447503089905,
          -6.204189777374268,
          4.728209018707275,
          0.9293587803840637,
          -0.577201783657074,
          1.5487996339797974,
          -3.3763411045074463,
          -11.203509330749512,
          4.952543258666992,
          4.094539642333984,
          3.5246541500091553,
          -4.809484958648682,
          5.188178539276123,
          1.0145336389541626,
          4.541672706604004,
          -5.881588935852051,
          5.864034175872803,
          -2.494570255279541,
          3.3366169929504395,
          -2.674222469329834,
          6.565875053405762,
          -0.497601181268692,
          4.709672451019287,
          -3.794020175933838,
          -6.33762264251709,
          -1.3700917959213257,
          3.5485424995422363,
          -1.9466837644577026,
          -3.6755318641662598,
          -0.5913888216018677,
          2.1505844593048096,
          2.1281843185424805,
          0.20828001201152802,
          -9.01468276977539,
          -5.444336891174316,
          2.6952853202819824,
          4.489159107208252,
          -1.7053254842758179,
          0.07439422607421875,
          -3.2051215171813965,
          3.427769184112549,
          3.4424750804901123,
          1.8922417163848877,
          -10.090453147888184,
          -1.0204732418060303,
          4.9283552169799805,
          -5.026243686676025,
          -6.499557971954346,
          0.9805934429168701,
          0.025763610377907753,
          4.074172019958496,
          5.75806999206543,
          0.8722915649414062,
          2.993438243865967,
          -2.1360995769500732,
          1.810379147529602,
          3.569749355316162,
          5.078495025634766,
          0.9651598334312439,
          4.780024528503418,
          3.7604453563690186,
          -5.3106231689453125,
          -4.902251243591309,
          -6.996329307556152,
          1.5840744972229004,
          1.1752262115478516,
          -5.7707343101501465,
          3.543576717376709,
          -5.530986309051514,
          -4.232553958892822,
          1.1253050565719604,
          -2.562077283859253,
          -4.809289932250977,
          -0.5368069410324097,
          -0.8301289081573486,
          4.209934234619141,
          1.2717721462249756,
          0.20697708427906036,
          -0.6741055250167847,
          2.8703486919403076,
          -5.606651782989502,
          -1.842289686203003,
          -10.535847663879395,
          0.9086584448814392,
          1.1733553409576416,
          2.9590203762054443,
          -0.2757362127304077,
          -4.817481994628906,
          5.065678119659424,
          -5.0783867835998535,
          3.0554563999176025,
          4.254751205444336,
          3.9133377075195312,
          -1.313868761062622,
          -3.2605884075164795,
          1.0590794086456299,
          4.786568641662598,
          2.821690082550049,
          0.5511227250099182,
          4.987016201019287,
          3.7735700607299805,
          -5.810276031494141,
          -0.6241281032562256,
          2.872783899307251,
          -1.591005563735962,
          5.660784721374512,
          7.584217071533203,
          -2.462216854095459,
          -0.5147495269775391,
          -5.580471515655518,
          3.1578454971313477,
          -2.117309331893921,
          1.7518901824951172,
          3.4714925289154053,
          2.2647597789764404,
          -6.679403781890869,
          -1.6432181596755981,
          1.790176272392273,
          0.5668849349021912,
          6.774559020996094,
          2.1396849155426025,
          -1.5870845317840576,
          4.248955249786377,
          6.433505535125732,
          2.290828227996826,
          3.199693441390991,
          7.046611785888672,
          1.6780441999435425,
          1.0310430526733398,
          3.5602853298187256,
          5.08455228805542,
          -4.93277645111084,
          6.23113489151001,
          3.5103273391723633,
          3.769793748855591,
          3.5009491443634033,
          4.522281169891357,
          -0.3786047697067261,
          1.5563132762908936,
          3.236088275909424,
          3.2924327850341797
         ],
         "yaxis": "y"
        },
        {
         "hovertemplate": "<b>%{hovertext}</b><br><br>pos_max=NNS<br>x=%{x}<br>y=%{y}<br>term_str=%{text}<extra></extra>",
         "hovertext": [
          "men",
          "gods",
          "hands",
          "ships",
          "words",
          "eyes",
          "arms",
          "things",
          "horses",
          "sons",
          "feet",
          "others",
          "comrades",
          "people",
          "tears",
          "waves",
          "women",
          "halls",
          "deeds",
          "children",
          "days",
          "wooers",
          "gifts",
          "hearts",
          "walls",
          "winds",
          "years",
          "shoulders",
          "warriors",
          "mortals",
          "gates",
          "spears",
          "knees",
          "daughters",
          "wings",
          "fields",
          "waters",
          "trees",
          "immortals",
          "woes",
          "lips",
          "birds",
          "leaves",
          "cities",
          "stars",
          "brows",
          "flames",
          "wiles",
          "steeds",
          "mountains",
          "times",
          "dogs",
          "tidings",
          "doors",
          "hills",
          "lands",
          "maidens",
          "horns",
          "ears",
          "rites",
          "kings",
          "bones",
          "ways",
          "youths",
          "altars",
          "flocks",
          "arrows",
          "fires",
          "cries",
          "ranks",
          "cattle",
          "shores",
          "heads",
          "bodies",
          "goddesses",
          "strangers",
          "thoughts",
          "oars",
          "shields",
          "breasts",
          "leaders",
          "prayers",
          "sorrows",
          "wives",
          "rivers",
          "chariots",
          "laws",
          "troubles",
          "stones",
          "beasts",
          "hosts",
          "sides",
          "towers",
          "slaves",
          "temples",
          "towards",
          "swords",
          "means",
          "rocks",
          "offerings",
          "branches",
          "steps",
          "toils",
          "hopes",
          "bids",
          "handmaids",
          "groves",
          "flowers",
          "wounds",
          "libations",
          "powers",
          "shades"
         ],
         "legendgroup": "NNS",
         "marker": {
          "color": "#EF553B",
          "symbol": "circle"
         },
         "mode": "markers+text",
         "name": "NNS",
         "orientation": "v",
         "showlegend": true,
         "text": [
          "men",
          "gods",
          "hands",
          "ships",
          "words",
          "eyes",
          "arms",
          "things",
          "horses",
          "sons",
          "feet",
          "others",
          "comrades",
          "people",
          "tears",
          "waves",
          "women",
          "halls",
          "deeds",
          "children",
          "days",
          "wooers",
          "gifts",
          "hearts",
          "walls",
          "winds",
          "years",
          "shoulders",
          "warriors",
          "mortals",
          "gates",
          "spears",
          "knees",
          "daughters",
          "wings",
          "fields",
          "waters",
          "trees",
          "immortals",
          "woes",
          "lips",
          "birds",
          "leaves",
          "cities",
          "stars",
          "brows",
          "flames",
          "wiles",
          "steeds",
          "mountains",
          "times",
          "dogs",
          "tidings",
          "doors",
          "hills",
          "lands",
          "maidens",
          "horns",
          "ears",
          "rites",
          "kings",
          "bones",
          "ways",
          "youths",
          "altars",
          "flocks",
          "arrows",
          "fires",
          "cries",
          "ranks",
          "cattle",
          "shores",
          "heads",
          "bodies",
          "goddesses",
          "strangers",
          "thoughts",
          "oars",
          "shields",
          "breasts",
          "leaders",
          "prayers",
          "sorrows",
          "wives",
          "rivers",
          "chariots",
          "laws",
          "troubles",
          "stones",
          "beasts",
          "hosts",
          "sides",
          "towers",
          "slaves",
          "temples",
          "towards",
          "swords",
          "means",
          "rocks",
          "offerings",
          "branches",
          "steps",
          "toils",
          "hopes",
          "bids",
          "handmaids",
          "groves",
          "flowers",
          "wounds",
          "libations",
          "powers",
          "shades"
         ],
         "textfont": {
          "color": "black",
          "family": "Arial",
          "size": 14
         },
         "textposition": "top center",
         "type": "scatter",
         "x": [
          46.009700775146484,
          59.41438293457031,
          -51.20574951171875,
          -47.2015495300293,
          59.148494720458984,
          -27.244918823242188,
          -52.936492919921875,
          61.76109313964844,
          -58.34296798706055,
          19.08893394470215,
          -56.70320129394531,
          11.664732933044434,
          -47.2308464050293,
          19.219768524169922,
          10.629361152648926,
          -53.6845703125,
          34.791194915771484,
          55.565269470214844,
          55.52734375,
          56.007015228271484,
          35.022727966308594,
          35.803863525390625,
          37.71772384643555,
          3.1761605739593506,
          -32.986602783203125,
          -46.40756607055664,
          45.65829849243164,
          -59.940589904785156,
          -43.287559509277344,
          51.67473602294922,
          -24.045522689819336,
          -58.01810073852539,
          -20.566120147705078,
          35.98828887939453,
          -51.03083419799805,
          -37.68280792236328,
          -46.12948989868164,
          -40.776973724365234,
          46.73217010498047,
          53.187740325927734,
          9.42997932434082,
          -14.660903930664062,
          -35.36170959472656,
          8.437461853027344,
          -30.279539108276367,
          -13.613687515258789,
          -32.61086654663086,
          49.274112701416016,
          -40.73856735229492,
          -36.637752532958984,
          -22.321590423583984,
          -20.641605377197266,
          27.78180694580078,
          -21.88982391357422,
          -17.175552368164062,
          12.312849044799805,
          15.054909706115723,
          -40.94441604614258,
          -12.016539573669434,
          14.74577522277832,
          5.606934547424316,
          -11.65005111694336,
          3.1701598167419434,
          -20.81071662902832,
          -13.603878021240234,
          -24.068958282470703,
          -19.303722381591797,
          -14.076159477233887,
          -7.708547115325928,
          -30.983545303344727,
          -10.840758323669434,
          -19.875751495361328,
          -40.794795989990234,
          -32.398014068603516,
          15.234593391418457,
          40.011932373046875,
          35.69679641723633,
          -44.10053253173828,
          -48.068485260009766,
          -31.55615997314453,
          -5.025174140930176,
          33.05126953125,
          40.620811462402344,
          21.225801467895508,
          -14.923959732055664,
          -43.92565155029297,
          21.745647430419922,
          40.20176696777344,
          -32.72833251953125,
          -8.022759437561035,
          -5.215874671936035,
          -33.3444938659668,
          -16.264373779296875,
          12.944225311279297,
          -10.117100715637207,
          2.504669427871704,
          -16.083024978637695,
          23.09779930114746,
          -14.064037322998047,
          9.824986457824707,
          -21.39713478088379,
          -7.176448345184326,
          33.267120361328125,
          19.77488136291504,
          30.2041072845459,
          -8.003467559814453,
          -5.617877006530762,
          -22.401826858520508,
          -9.159405708312988,
          1.37345290184021,
          17.560710906982422,
          1.7004952430725098
         ],
         "xaxis": "x",
         "y": [
          10.885957717895508,
          3.412297487258911,
          -2.3434946537017822,
          8.335122108459473,
          9.218317985534668,
          -6.6471638679504395,
          -1.5717509984970093,
          5.149496078491211,
          4.596111297607422,
          -4.384991645812988,
          2.5635604858398438,
          6.227597713470459,
          3.835117816925049,
          -3.976391315460205,
          -1.4619828462600708,
          7.626379013061523,
          -1.598080039024353,
          4.9249725341796875,
          5.975538730621338,
          2.925569534301758,
          -1.8989213705062866,
          7.6399407386779785,
          6.083460330963135,
          -2.082813024520874,
          4.0271077156066895,
          7.055007457733154,
          2.505399703979492,
          2.2623512744903564,
          1.2028814554214478,
          4.873724460601807,
          -4.544071674346924,
          2.2615036964416504,
          -2.108731985092163,
          -1.0814354419708252,
          3.144951581954956,
          3.488558530807495,
          6.70260763168335,
          2.2159106731414795,
          4.2693986892700195,
          5.2744646072387695,
          -2.031360387802124,
          2.9536948204040527,
          0.5350721478462219,
          5.355623722076416,
          3.9330036640167236,
          -4.828080654144287,
          0.7880881428718567,
          8.243202209472656,
          0.1862126737833023,
          2.9017839431762695,
          -8.824211120605469,
          -4.955633640289307,
          1.4866217374801636,
          -4.96093225479126,
          4.466092109680176,
          6.66646146774292,
          1.9834645986557007,
          -1.213476300239563,
          -2.1115224361419678,
          4.822195529937744,
          0.8387661576271057,
          -4.819565296173096,
          0.22137539088726044,
          -7.1239705085754395,
          1.7184956073760986,
          -5.104847431182861,
          -3.5627858638763428,
          0.021082522347569466,
          -2.0279970169067383,
          -5.643324851989746,
          3.667271614074707,
          5.807077884674072,
          -0.39837226271629333,
          -3.5549895763397217,
          6.528318405151367,
          4.688176155090332,
          4.14727783203125,
          6.135656356811523,
          1.0825049877166748,
          -4.044579029083252,
          -9.245306015014648,
          2.074972629547119,
          2.99526309967041,
          -1.4550974369049072,
          2.9294180870056152,
          0.583760142326355,
          6.348954677581787,
          3.7702996730804443,
          -3.2820167541503906,
          2.6108243465423584,
          -4.840172290802002,
          0.4222070574760437,
          3.89627742767334,
          3.228865385055542,
          2.8630082607269287,
          1.952366590499878,
          1.9788936376571655,
          6.800234317779541,
          1.9607417583465576,
          2.4767191410064697,
          2.682415008544922,
          3.002817153930664,
          3.2084312438964844,
          1.75722074508667,
          3.5250046253204346,
          -4.254735946655273,
          3.841310977935791,
          3.8337690830230713,
          -0.9401478171348572,
          2.199937343597412,
          6.501101493835449,
          5.111246109008789
         ],
         "yaxis": "y"
        },
        {
         "hovertemplate": "<b>%{hovertext}</b><br><br>pos_max=VBD<br>x=%{x}<br>y=%{y}<br>term_str=%{text}<extra></extra>",
         "hovertext": [
          "made",
          "came",
          "spoke",
          "went",
          "gave",
          "said",
          "took",
          "brought",
          "saw",
          "left",
          "fell",
          "stood",
          "called",
          "heard",
          "answered",
          "held",
          "lay",
          "sent",
          "laid",
          "cast",
          "found",
          "turned",
          "drew",
          "bore",
          "put",
          "led",
          "sat",
          "knew",
          "bade",
          "told",
          "seemed",
          "followed",
          "hurled",
          "moved",
          "slew",
          "struck",
          "fled",
          "addressed",
          "began",
          "sped",
          "passed",
          "sought",
          "cried",
          "gathered",
          "kept",
          "rose",
          "reached",
          "cut",
          "ran",
          "rushed",
          "met",
          "loved",
          "raised",
          "escaped",
          "flew",
          "grew",
          "poured",
          "pierced",
          "sprang",
          "lifted",
          "covered",
          "beheld",
          "stayed",
          "looked",
          "dwelt",
          "caught",
          "roused",
          "stretched",
          "received",
          "famed",
          "touched",
          "burned",
          "appeared",
          "departed",
          "shed",
          "remained",
          "entered",
          "scattered",
          "saved",
          "died",
          "lived",
          "tried",
          "loosed",
          "fought",
          "showed",
          "prayed",
          "carried",
          "felt",
          "reared",
          "shouted",
          "pressed",
          "clasped",
          "ceased",
          "drove",
          "marked",
          "sailed",
          "failed",
          "returned",
          "dared",
          "broke",
          "threw",
          "urged",
          "killed",
          "clothed",
          "uttered",
          "became",
          "stirred",
          "waxed",
          "stripped",
          "deemed",
          "declared",
          "asked",
          "endured",
          "dragged",
          "flowed",
          "wounded",
          "offered"
         ],
         "legendgroup": "VBD",
         "marker": {
          "color": "#00cc96",
          "symbol": "circle"
         },
         "mode": "markers+text",
         "name": "VBD",
         "orientation": "v",
         "showlegend": true,
         "text": [
          "made",
          "came",
          "spoke",
          "went",
          "gave",
          "said",
          "took",
          "brought",
          "saw",
          "left",
          "fell",
          "stood",
          "called",
          "heard",
          "answered",
          "held",
          "lay",
          "sent",
          "laid",
          "cast",
          "found",
          "turned",
          "drew",
          "bore",
          "put",
          "led",
          "sat",
          "knew",
          "bade",
          "told",
          "seemed",
          "followed",
          "hurled",
          "moved",
          "slew",
          "struck",
          "fled",
          "addressed",
          "began",
          "sped",
          "passed",
          "sought",
          "cried",
          "gathered",
          "kept",
          "rose",
          "reached",
          "cut",
          "ran",
          "rushed",
          "met",
          "loved",
          "raised",
          "escaped",
          "flew",
          "grew",
          "poured",
          "pierced",
          "sprang",
          "lifted",
          "covered",
          "beheld",
          "stayed",
          "looked",
          "dwelt",
          "caught",
          "roused",
          "stretched",
          "received",
          "famed",
          "touched",
          "burned",
          "appeared",
          "departed",
          "shed",
          "remained",
          "entered",
          "scattered",
          "saved",
          "died",
          "lived",
          "tried",
          "loosed",
          "fought",
          "showed",
          "prayed",
          "carried",
          "felt",
          "reared",
          "shouted",
          "pressed",
          "clasped",
          "ceased",
          "drove",
          "marked",
          "sailed",
          "failed",
          "returned",
          "dared",
          "broke",
          "threw",
          "urged",
          "killed",
          "clothed",
          "uttered",
          "became",
          "stirred",
          "waxed",
          "stripped",
          "deemed",
          "declared",
          "asked",
          "endured",
          "dragged",
          "flowed",
          "wounded",
          "offered"
         ],
         "textfont": {
          "color": "black",
          "family": "Arial",
          "size": 14
         },
         "textposition": "top center",
         "type": "scatter",
         "x": [
          -19.056148529052734,
          -52.81583023071289,
          40.15311813354492,
          -59.32269287109375,
          -37.38237380981445,
          58.228126525878906,
          -58.48744201660156,
          17.596799850463867,
          -51.596031188964844,
          -44.24140167236328,
          -62.35545349121094,
          -60.71472930908203,
          -3.685830593109131,
          31.226797103881836,
          63.37301254272461,
          -57.810646057128906,
          -55.00379943847656,
          0.14720594882965088,
          -50.854156494140625,
          -59.311336517333984,
          -14.141582489013672,
          -56.836856842041016,
          -60.7069206237793,
          -24.06439781188965,
          -25.73636817932129,
          -51.1240348815918,
          -53.590450286865234,
          -6.276239395141602,
          -45.58071517944336,
          46.19568634033203,
          -45.7563362121582,
          -46.09785461425781,
          -57.49541091918945,
          -29.719079971313477,
          -42.312747955322266,
          -56.9503288269043,
          -46.8159294128418,
          40.81682586669922,
          -36.284786224365234,
          -55.670021057128906,
          -44.5135383605957,
          -21.37091827392578,
          -10.633883476257324,
          -45.82252502441406,
          -33.345664978027344,
          -50.24241256713867,
          -39.7237434387207,
          -41.91458511352539,
          -54.775733947753906,
          -54.24704360961914,
          -3.3462650775909424,
          15.211159706115723,
          -31.04603385925293,
          6.542355060577393,
          -53.49796676635742,
          -49.988380432128906,
          -46.060890197753906,
          -56.232666015625,
          -45.67710876464844,
          -48.30780792236328,
          -49.26826858520508,
          -27.836639404296875,
          -43.61381530761719,
          -22.12367057800293,
          -34.73603439331055,
          -21.983097076416016,
          -41.9989013671875,
          -49.81831359863281,
          -4.464035511016846,
          -25.021800994873047,
          -43.453636169433594,
          -32.44890594482422,
          -31.385427474975586,
          -10.442816734313965,
          -5.900212287902832,
          -18.925004959106445,
          -29.961036682128906,
          -39.06857681274414,
          6.673550128936768,
          11.62352466583252,
          18.26959991455078,
          -28.008785247802734,
          -47.53369140625,
          -23.106401443481445,
          -25.834056854248047,
          -0.9144532680511475,
          4.959057331085205,
          -8.916803359985352,
          5.312320232391357,
          -22.309938430786133,
          -35.59543228149414,
          -20.457836151123047,
          -16.411457061767578,
          -31.965621948242188,
          -19.8131160736084,
          -29.110244750976562,
          -4.74196195602417,
          6.291637420654297,
          -8.678488731384277,
          -19.549619674682617,
          -36.58916091918945,
          -10.399206161499023,
          14.48556137084961,
          -26.867198944091797,
          7.177803039550781,
          -12.597646713256836,
          -0.08068946748971939,
          -5.436570644378662,
          -19.906734466552734,
          0.4977879226207733,
          5.666877746582031,
          0.12513895332813263,
          16.635637283325195,
          -29.17410659790039,
          -38.40019226074219,
          -22.8059139251709,
          1.159446120262146
         ],
         "xaxis": "x",
         "y": [
          -1.9881690740585327,
          4.130336761474609,
          11.676072120666504,
          4.987521171569824,
          -5.1135993003845215,
          7.304907321929932,
          2.6022167205810547,
          -5.43185567855835,
          1.1516283750534058,
          2.8004047870635986,
          2.143787384033203,
          3.1502044200897217,
          -3.4440348148345947,
          7.0618367195129395,
          7.4206013679504395,
          2.5772030353546143,
          3.109898328781128,
          -3.1269302368164062,
          1.2582857608795166,
          1.79918372631073,
          -2.3624448776245117,
          2.0969796180725098,
          2.656402111053467,
          -7.0004801750183105,
          -0.10178343206644058,
          4.539472579956055,
          3.252610683441162,
          -2.8829505443573,
          3.261491537094116,
          1.1968327760696411,
          0.03245585411787033,
          2.731240749359131,
          0.7643494606018066,
          -2.5942981243133545,
          -3.3904542922973633,
          0.23596662282943726,
          1.770588755607605,
          11.682933807373047,
          -1.8037339448928833,
          3.9443016052246094,
          1.7410309314727783,
          -4.199413299560547,
          0.16945496201515198,
          2.424009084701538,
          -2.593842029571533,
          3.2916736602783203,
          2.360086441040039,
          -0.2457895278930664,
          1.7888933420181274,
          0.8854466080665588,
          -2.152773141860962,
          -2.2501134872436523,
          -1.795267105102539,
          1.2095866203308105,
          1.4561406373977661,
          2.3406524658203125,
          0.9874143004417419,
          -0.3328719437122345,
          -1.072830319404602,
          -0.5014382004737854,
          1.5600712299346924,
          -2.6020586490631104,
          0.28272560238838196,
          -3.7175748348236084,
          -4.0979838371276855,
          -0.5123308300971985,
          4.854019641876221,
          -0.33296632766723633,
          -2.461981773376465,
          -3.1478350162506104,
          -0.366292268037796,
          -3.922269105911255,
          0.5479398369789124,
          -5.755505084991455,
          -5.750932216644287,
          -5.336992263793945,
          0.520754873752594,
          2.2891969680786133,
          2.469698429107666,
          0.0342513844370842,
          0.2606789469718933,
          -1.9852432012557983,
          -0.3515140116214752,
          -3.4009618759155273,
          -2.451179265975952,
          2.8614232540130615,
          0.6779537796974182,
          -2.61340594291687,
          0.24613432586193085,
          -9.578542709350586,
          -2.3624486923217773,
          -1.4546496868133545,
          0.6455976963043213,
          -1.053634524345398,
          -4.8713765144348145,
          4.943710803985596,
          -8.345809936523438,
          -2.191732883453369,
          3.069364547729492,
          1.695851445198059,
          -2.0614962577819824,
          -5.32792329788208,
          2.0654184818267822,
          -3.6556668281555176,
          -2.7098891735076904,
          1.67277991771698,
          0.6020383238792419,
          -4.067912578582764,
          -3.587188959121704,
          -0.1709291636943817,
          -2.135023355484009,
          4.933862209320068,
          5.267188549041748,
          -1.380732536315918,
          -0.7705660462379456,
          1.0040546655654907,
          5.916540622711182
         ],
         "yaxis": "y"
        },
        {
         "hovertemplate": "<b>%{hovertext}</b><br><br>pos_max=VB<br>x=%{x}<br>y=%{y}<br>term_str=%{text}<extra></extra>",
         "hovertext": [
          "come",
          "let",
          "spake",
          "see",
          "go",
          "hold",
          "smote",
          "make",
          "give",
          "tell",
          "bring",
          "bid",
          "take",
          "call",
          "speak",
          "fall",
          "bear",
          "hear",
          "look",
          "lie",
          "grant",
          "behold",
          "leave",
          "hide",
          "ask",
          "slay",
          "find",
          "escape",
          "sit",
          "suffer",
          "lead",
          "seek",
          "declare",
          "pass",
          "send",
          "fly",
          "drive"
         ],
         "legendgroup": "VB",
         "marker": {
          "color": "#ab63fa",
          "symbol": "circle"
         },
         "mode": "markers+text",
         "name": "VB",
         "orientation": "v",
         "showlegend": true,
         "text": [
          "come",
          "let",
          "spake",
          "see",
          "go",
          "hold",
          "smote",
          "make",
          "give",
          "tell",
          "bring",
          "bid",
          "take",
          "call",
          "speak",
          "fall",
          "bear",
          "hear",
          "look",
          "lie",
          "grant",
          "behold",
          "leave",
          "hide",
          "ask",
          "slay",
          "find",
          "escape",
          "sit",
          "suffer",
          "lead",
          "seek",
          "declare",
          "pass",
          "send",
          "fly",
          "drive"
         ],
         "textfont": {
          "color": "black",
          "family": "Arial",
          "size": 14
         },
         "textposition": "top center",
         "type": "scatter",
         "x": [
          60.598880767822266,
          42.1523551940918,
          40.3526496887207,
          57.05042266845703,
          53.55024337768555,
          10.458903312683105,
          -61.56126022338867,
          52.64119338989258,
          52.95686340332031,
          58.98100280761719,
          43.08146667480469,
          55.75377655029297,
          46.13185119628906,
          34.50885772705078,
          51.08378982543945,
          -2.553551197052002,
          10.088968276977539,
          52.769535064697266,
          37.722412109375,
          26.484609603881836,
          39.66189956665039,
          27.3271427154541,
          38.69810485839844,
          -44.379676818847656,
          49.823909759521484,
          13.188044548034668,
          28.86310577392578,
          19.852304458618164,
          36.75975036621094,
          34.23663330078125,
          10.689133644104004,
          28.11517906188965,
          39.91012954711914,
          17.324010848999023,
          21.706850051879883,
          -6.854457378387451,
          1.8370072841644287
         ],
         "xaxis": "x",
         "y": [
          4.377851486206055,
          6.560123920440674,
          11.67001724243164,
          5.97523307800293,
          6.844974040985107,
          2.8694114685058594,
          2.534712314605713,
          7.723713397979736,
          6.627956390380859,
          6.643503665924072,
          5.768132209777832,
          7.576602458953857,
          6.543880462646484,
          0.3665875792503357,
          6.054049968719482,
          0.3232162296772003,
          4.887139320373535,
          5.909726142883301,
          3.487683057785034,
          1.9036011695861816,
          6.415743350982666,
          5.110842704772949,
          1.304432988166809,
          -1.4429843425750732,
          6.258285999298096,
          -4.029660224914551,
          2.740903377532959,
          -0.6687322854995728,
          3.557283639907837,
          4.4095869064331055,
          2.3754522800445557,
          -0.8138145804405212,
          1.0640337467193604,
          6.543665885925293,
          0.5665729641914368,
          1.9382591247558594,
          0.3129175305366516
         ],
         "yaxis": "y"
        },
        {
         "hovertemplate": "<b>%{hovertext}</b><br><br>pos_max=VBN<br>x=%{x}<br>y=%{y}<br>term_str=%{text}<extra></extra>",
         "hovertext": [
          "set",
          "born",
          "slain",
          "given",
          "seen",
          "seized",
          "gone",
          "built",
          "filled",
          "lost",
          "hearted",
          "eyed",
          "fallen",
          "known",
          "done",
          "haired",
          "changed",
          "minded",
          "taken",
          "driven",
          "fixed",
          "blessed",
          "footed",
          "suffered",
          "smitten",
          "armed",
          "borne",
          "drawn",
          "perished",
          "spoken",
          "destroyed",
          "aged",
          "honored",
          "skilled",
          "joined",
          "bathed",
          "fated",
          "fitted",
          "crowned",
          "learned",
          "broken"
         ],
         "legendgroup": "VBN",
         "marker": {
          "color": "#FFA15A",
          "symbol": "circle"
         },
         "mode": "markers+text",
         "name": "VBN",
         "orientation": "v",
         "showlegend": true,
         "text": [
          "set",
          "born",
          "slain",
          "given",
          "seen",
          "seized",
          "gone",
          "built",
          "filled",
          "lost",
          "hearted",
          "eyed",
          "fallen",
          "known",
          "done",
          "haired",
          "changed",
          "minded",
          "taken",
          "driven",
          "fixed",
          "blessed",
          "footed",
          "suffered",
          "smitten",
          "armed",
          "borne",
          "drawn",
          "perished",
          "spoken",
          "destroyed",
          "aged",
          "honored",
          "skilled",
          "joined",
          "bathed",
          "fated",
          "fitted",
          "crowned",
          "learned",
          "broken"
         ],
         "textfont": {
          "color": "black",
          "family": "Arial",
          "size": 14
         },
         "textposition": "top center",
         "type": "scatter",
         "x": [
          -53.09151840209961,
          47.14571762084961,
          6.587712287902832,
          37.00834655761719,
          18.164432525634766,
          -51.74646759033203,
          18.476516723632812,
          -44.80194854736328,
          -34.939212799072266,
          18.588668823242188,
          9.05445671081543,
          14.796966552734375,
          -10.696523666381836,
          24.101669311523438,
          54.69630432128906,
          13.078193664550781,
          -34.33610916137695,
          47.08842086791992,
          18.57927894592285,
          -25.42609214782715,
          -50.34348678588867,
          33.920204162597656,
          -17.161535263061523,
          47.949851989746094,
          -23.61285972595215,
          -8.4999361038208,
          0.27214765548706055,
          -33.83839416503906,
          27.614072799682617,
          48.2838249206543,
          7.622227191925049,
          0.8120318055152893,
          34.881561279296875,
          -7.587972640991211,
          -10.015702247619629,
          -22.145307540893555,
          16.298154830932617,
          -41.95721435546875,
          -15.317049026489258,
          27.79823112487793,
          -17.324966430664062
         ],
         "xaxis": "x",
         "y": [
          5.584195137023926,
          1.7719852924346924,
          -0.38750317692756653,
          -1.1589654684066772,
          -3.16452693939209,
          -0.9217492938041687,
          -2.851182222366333,
          4.60142707824707,
          -0.4688025116920471,
          -1.8227810859680176,
          -4.9958415031433105,
          -9.232170104980469,
          -1.9927871227264404,
          4.7607102394104,
          4.05187463760376,
          -1.6068962812423706,
          -3.0276787281036377,
          7.102191925048828,
          -1.9375770092010498,
          -6.162473201751709,
          -1.2482731342315674,
          0.7314808964729309,
          -6.435291767120361,
          4.115309715270996,
          -1.5788230895996094,
          -5.329090595245361,
          -4.810574531555176,
          2.127467155456543,
          0.26508206129074097,
          6.472316265106201,
          2.4635658264160156,
          4.7214579582214355,
          3.037247657775879,
          -5.790093421936035,
          -4.188697814941406,
          -8.59358024597168,
          6.493779182434082,
          -1.038845419883728,
          5.275388240814209,
          6.457493782043457,
          1.2289588451385498
         ],
         "yaxis": "y"
        },
        {
         "hovertemplate": "<b>%{hovertext}</b><br><br>pos_max=VBP<br>x=%{x}<br>y=%{y}<br>term_str=%{text}<extra></extra>",
         "hovertext": [
          "know",
          "say",
          "think",
          "pray",
          "cannot",
          "leapt",
          "wish",
          "dwell",
          "live",
          "ween",
          "wept",
          "deem"
         ],
         "legendgroup": "VBP",
         "marker": {
          "color": "#19d3f3",
          "symbol": "circle"
         },
         "mode": "markers+text",
         "name": "VBP",
         "orientation": "v",
         "showlegend": true,
         "text": [
          "know",
          "say",
          "think",
          "pray",
          "cannot",
          "leapt",
          "wish",
          "dwell",
          "live",
          "ween",
          "wept",
          "deem"
         ],
         "textfont": {
          "color": "black",
          "family": "Arial",
          "size": 14
         },
         "textposition": "top center",
         "type": "scatter",
         "x": [
          62.0546875,
          58.353721618652344,
          54.632713317871094,
          54.0594596862793,
          50.16929244995117,
          -56.20823287963867,
          48.011680603027344,
          33.5369758605957,
          39.8328742980957,
          28.33599281311035,
          -8.987173080444336,
          28.593860626220703
         ],
         "xaxis": "x",
         "y": [
          5.841695785522461,
          6.2900919914245605,
          5.461902141571045,
          7.209159851074219,
          5.294760704040527,
          1.3602426052093506,
          4.9208269119262695,
          -0.9435864686965942,
          5.411313533782959,
          5.856786727905273,
          -6.000740051269531,
          2.912888526916504
         ],
         "yaxis": "y"
        },
        {
         "hovertemplate": "<b>%{hovertext}</b><br><br>pos_max=JJ<br>x=%{x}<br>y=%{y}<br>term_str=%{text}<extra></extra>",
         "hovertext": [
          "swift",
          "dark",
          "thy",
          "saying",
          "dear",
          "dead",
          "evil",
          "deep",
          "right",
          "winged",
          "dread",
          "wretched",
          "high",
          "fair",
          "glad",
          "good",
          "wont",
          "sacred",
          "warrior",
          "bright",
          "mortal",
          "eager",
          "holy",
          "proud",
          "sweet",
          "fierce",
          "ill",
          "last",
          "thick"
         ],
         "legendgroup": "JJ",
         "marker": {
          "color": "#FF6692",
          "symbol": "circle"
         },
         "mode": "markers+text",
         "name": "JJ",
         "orientation": "v",
         "showlegend": true,
         "text": [
          "swift",
          "dark",
          "thy",
          "saying",
          "dear",
          "dead",
          "evil",
          "deep",
          "right",
          "winged",
          "dread",
          "wretched",
          "high",
          "fair",
          "glad",
          "good",
          "wont",
          "sacred",
          "warrior",
          "bright",
          "mortal",
          "eager",
          "holy",
          "proud",
          "sweet",
          "fierce",
          "ill",
          "last",
          "thick"
         ],
         "textfont": {
          "color": "black",
          "family": "Arial",
          "size": 14
         },
         "textposition": "top center",
         "type": "scatter",
         "x": [
          -56.98690414428711,
          -45.41520309448242,
          55.287235260009766,
          34.12583923339844,
          33.3608512878418,
          26.825044631958008,
          50.2290153503418,
          -39.543182373046875,
          -9.586052894592285,
          33.567291259765625,
          2.2469804286956787,
          41.75010299682617,
          -44.55998229980469,
          -29.205766677856445,
          -10.754931449890137,
          12.965744018554688,
          8.362977027893066,
          -13.26432991027832,
          -7.903559684753418,
          -25.546306610107422,
          30.058677673339844,
          -18.656234741210938,
          2.002573251724243,
          -0.7452256679534912,
          -2.9291036128997803,
          -10.275955200195312,
          5.84175443649292,
          3.5883371829986572,
          -33.084415435791016
         ],
         "xaxis": "x",
         "y": [
          4.044247627258301,
          6.366569995880127,
          9.179899215698242,
          7.624074935913086,
          7.2372517585754395,
          -0.019671881571412086,
          4.646310329437256,
          3.536292552947998,
          0.016617368906736374,
          8.691768646240234,
          -4.225764274597168,
          3.721756935119629,
          -0.13587163388729095,
          0.4477158486843109,
          -4.308096885681152,
          -6.249627590179443,
          -4.366659641265869,
          1.7253023386001587,
          -7.475795269012451,
          1.2339773178100586,
          4.884438514709473,
          -6.242458820343018,
          3.3616912364959717,
          4.468051910400391,
          -0.8901994228363037,
          1.9334861040115356,
          3.1991755962371826,
          3.4506354331970215,
          -4.330138683319092
         ],
         "yaxis": "y"
        },
        {
         "hovertemplate": "<b>%{hovertext}</b><br><br>pos_max=RB<br>x=%{x}<br>y=%{y}<br>term_str=%{text}<extra></extra>",
         "hovertext": [
          "well",
          "back",
          "away",
          "straightway",
          "alone",
          "together",
          "first",
          "also",
          "thus",
          "far",
          "straight",
          "verily",
          "indeed"
         ],
         "legendgroup": "RB",
         "marker": {
          "color": "#B6E880",
          "symbol": "circle"
         },
         "mode": "markers+text",
         "name": "RB",
         "orientation": "v",
         "showlegend": true,
         "text": [
          "well",
          "back",
          "away",
          "straightway",
          "alone",
          "together",
          "first",
          "also",
          "thus",
          "far",
          "straight",
          "verily",
          "indeed"
         ],
         "textfont": {
          "color": "black",
          "family": "Arial",
          "size": 14
         },
         "textposition": "top center",
         "type": "scatter",
         "x": [
          -15.841390609741211,
          -52.29033660888672,
          -2.526641368865967,
          -20.182682037353516,
          27.651792526245117,
          -20.111473083496094,
          18.305641174316406,
          31.241966247558594,
          22.22174835205078,
          6.997372150421143,
          -28.771976470947266,
          40.133052825927734,
          23.880407333374023
         ],
         "xaxis": "x",
         "y": [
          -1.2756950855255127,
          -0.29455307126045227,
          -0.07197259366512299,
          -9.84653377532959,
          1.8169900178909302,
          -6.559866428375244,
          1.106675148010254,
          1.6102397441864014,
          4.725751876831055,
          1.7870720624923706,
          -3.7367372512817383,
          8.093133926391602,
          6.271618366241455
         ],
         "yaxis": "y"
        },
        {
         "hovertemplate": "<b>%{hovertext}</b><br><br>pos_max=CD<br>x=%{x}<br>y=%{y}<br>term_str=%{text}<extra></extra>",
         "hovertext": [
          "one"
         ],
         "legendgroup": "CD",
         "marker": {
          "color": "#FF97FF",
          "symbol": "circle"
         },
         "mode": "markers+text",
         "name": "CD",
         "orientation": "v",
         "showlegend": true,
         "text": [
          "one"
         ],
         "textfont": {
          "color": "black",
          "family": "Arial",
          "size": 14
         },
         "textposition": "top center",
         "type": "scatter",
         "x": [
          55.07453155517578
         ],
         "xaxis": "x",
         "y": [
          5.0847883224487305
         ],
         "yaxis": "y"
        },
        {
         "hovertemplate": "<b>%{hovertext}</b><br><br>pos_max=VBG<br>x=%{x}<br>y=%{y}<br>term_str=%{text}<extra></extra>",
         "hovertext": [
          "seeing",
          "flashing",
          "bearing",
          "coming",
          "flowing",
          "making",
          "shining",
          "weeping",
          "holding",
          "bringing",
          "wailing",
          "giving",
          "slaying",
          "trembling",
          "gleaming",
          "cunning",
          "standing",
          "sing",
          "dying",
          "wandering",
          "flaming",
          "seeking",
          "rising",
          "loving",
          "taking",
          "going",
          "lying",
          "sitting",
          "calling",
          "leaving",
          "fighting",
          "turning",
          "looking"
         ],
         "legendgroup": "VBG",
         "marker": {
          "color": "#FECB52",
          "symbol": "circle"
         },
         "mode": "markers+text",
         "name": "VBG",
         "orientation": "v",
         "showlegend": true,
         "text": [
          "seeing",
          "flashing",
          "bearing",
          "coming",
          "flowing",
          "making",
          "shining",
          "weeping",
          "holding",
          "bringing",
          "wailing",
          "giving",
          "slaying",
          "trembling",
          "gleaming",
          "cunning",
          "standing",
          "sing",
          "dying",
          "wandering",
          "flaming",
          "seeking",
          "rising",
          "loving",
          "taking",
          "going",
          "lying",
          "sitting",
          "calling",
          "leaving",
          "fighting",
          "turning",
          "looking"
         ],
         "textfont": {
          "color": "black",
          "family": "Arial",
          "size": 14
         },
         "textposition": "top center",
         "type": "scatter",
         "x": [
          60.46011734008789,
          -18.47100257873535,
          -40.325469970703125,
          20.21028709411621,
          -46.24722671508789,
          -19.382415771484375,
          -49.28679656982422,
          8.971146583557129,
          -37.86880874633789,
          21.037527084350586,
          -5.910662651062012,
          4.7065324783325195,
          8.549389839172363,
          -41.08188247680664,
          -48.312583923339844,
          -1.2572261095046997,
          -19.324655532836914,
          14.728602409362793,
          -28.32007598876953,
          1.6355483531951904,
          -32.103912353515625,
          -5.79530668258667,
          -23.12339973449707,
          13.376959800720215,
          -2.004709005355835,
          16.051809310913086,
          -21.085691452026367,
          -21.54957389831543,
          -8.782796859741211,
          4.470601558685303,
          5.32523250579834,
          -23.198875427246094,
          -5.646143436431885
         ],
         "xaxis": "x",
         "y": [
          6.288127899169922,
          -2.3676090240478516,
          -0.30018526315689087,
          -1.1432197093963623,
          4.507026672363281,
          3.827918767929077,
          -0.8907197117805481,
          -5.934029579162598,
          -1.821073055267334,
          0.6463435292243958,
          -5.645623207092285,
          -2.5148959159851074,
          -6.226789951324463,
          -2.133826732635498,
          -0.059208568185567856,
          -0.34255915880203247,
          -5.649216175079346,
          6.11464262008667,
          -2.7974441051483154,
          3.038177728652954,
          -4.965063095092773,
          2.348785400390625,
          -4.886650562286377,
          -2.7995052337646484,
          2.0542726516723633,
          5.459906101226807,
          -8.299273490905762,
          4.566065788269043,
          1.8245717287063599,
          3.9034037590026855,
          -5.203005790710449,
          3.3930819034576416,
          -9.504453659057617
         ],
         "yaxis": "y"
        },
        {
         "hovertemplate": "<b>%{hovertext}</b><br><br>pos_max=IN<br>x=%{x}<br>y=%{y}<br>term_str=%{text}<extra></extra>",
         "hovertext": [
          "beneath",
          "oer"
         ],
         "legendgroup": "IN",
         "marker": {
          "color": "#636efa",
          "symbol": "circle"
         },
         "mode": "markers+text",
         "name": "IN",
         "orientation": "v",
         "showlegend": true,
         "text": [
          "beneath",
          "oer"
         ],
         "textfont": {
          "color": "black",
          "family": "Arial",
          "size": 14
         },
         "textposition": "top center",
         "type": "scatter",
         "x": [
          -50.18708419799805,
          -41.798648834228516
         ],
         "xaxis": "x",
         "y": [
          1.9336283206939697,
          1.7365748882293701
         ],
         "yaxis": "y"
        },
        {
         "hovertemplate": "<b>%{hovertext}</b><br><br>pos_max=VBZ<br>x=%{x}<br>y=%{y}<br>term_str=%{text}<extra></extra>",
         "hovertext": [
          "lies",
          "comes",
          "lives",
          "holds",
          "seems",
          "gives",
          "makes",
          "brings",
          "knows",
          "bears",
          "stands",
          "takes",
          "sees",
          "goes"
         ],
         "legendgroup": "VBZ",
         "marker": {
          "color": "#EF553B",
          "symbol": "circle"
         },
         "mode": "markers+text",
         "name": "VBZ",
         "orientation": "v",
         "showlegend": true,
         "text": [
          "lies",
          "comes",
          "lives",
          "holds",
          "seems",
          "gives",
          "makes",
          "brings",
          "knows",
          "bears",
          "stands",
          "takes",
          "sees",
          "goes"
         ],
         "textfont": {
          "color": "black",
          "family": "Arial",
          "size": 14
         },
         "textposition": "top center",
         "type": "scatter",
         "x": [
          12.432491302490234,
          52.21141815185547,
          27.27390480041504,
          15.446367263793945,
          38.15465545654297,
          35.08702087402344,
          22.607999801635742,
          32.37257385253906,
          28.64223289489746,
          0.9396640658378601,
          2.4835994243621826,
          3.911813974380493,
          5.688187122344971,
          3.078007698059082
         ],
         "xaxis": "x",
         "y": [
          7.162015438079834,
          5.165224552154541,
          2.8072283267974854,
          4.0789875984191895,
          2.8910269737243652,
          1.8786094188690186,
          2.2372801303863525,
          2.8292295932769775,
          -0.7748540639877319,
          3.510157585144043,
          2.6565065383911133,
          1.9024955034255981,
          -3.7044453620910645,
          5.197019100189209
         ],
         "yaxis": "y"
        },
        {
         "hovertemplate": "<b>%{hovertext}</b><br><br>pos_max=MD<br>x=%{x}<br>y=%{y}<br>term_str=%{text}<extra></extra>",
         "hovertext": [
          "might"
         ],
         "legendgroup": "MD",
         "marker": {
          "color": "#00cc96",
          "symbol": "circle"
         },
         "mode": "markers+text",
         "name": "MD",
         "orientation": "v",
         "showlegend": true,
         "text": [
          "might"
         ],
         "textfont": {
          "color": "black",
          "family": "Arial",
          "size": 14
         },
         "textposition": "top center",
         "type": "scatter",
         "x": [
          -4.837199687957764
         ],
         "xaxis": "x",
         "y": [
          -7.240682125091553
         ],
         "yaxis": "y"
        },
        {
         "hovertemplate": "<b>%{hovertext}</b><br><br>pos_max=DT<br>x=%{x}<br>y=%{y}<br>term_str=%{text}<extra></extra>",
         "hovertext": [
          "another"
         ],
         "legendgroup": "DT",
         "marker": {
          "color": "#ab63fa",
          "symbol": "circle"
         },
         "mode": "markers+text",
         "name": "DT",
         "orientation": "v",
         "showlegend": true,
         "text": [
          "another"
         ],
         "textfont": {
          "color": "black",
          "family": "Arial",
          "size": 14
         },
         "textposition": "top center",
         "type": "scatter",
         "x": [
          -4.410843849182129
         ],
         "xaxis": "x",
         "y": [
          -8.74374771118164
         ],
         "yaxis": "y"
        },
        {
         "hovertemplate": "<b>%{hovertext}</b><br><br>pos_max=NNP<br>x=%{x}<br>y=%{y}<br>term_str=%{text}<extra></extra>",
         "hovertext": [
          "chorus",
          "nay",
          "howbeit",
          "queen",
          "alas",
          "argives",
          "ah"
         ],
         "legendgroup": "NNP",
         "marker": {
          "color": "#FFA15A",
          "symbol": "circle"
         },
         "mode": "markers+text",
         "name": "NNP",
         "orientation": "v",
         "showlegend": true,
         "text": [
          "chorus",
          "nay",
          "howbeit",
          "queen",
          "alas",
          "argives",
          "ah"
         ],
         "textfont": {
          "color": "black",
          "family": "Arial",
          "size": 14
         },
         "textposition": "top center",
         "type": "scatter",
         "x": [
          26.23113441467285,
          36.77104187011719,
          -21.819725036621094,
          18.316421508789062,
          29.83500862121582,
          12.175159454345703,
          28.81232452392578
         ],
         "xaxis": "x",
         "y": [
          5.251400470733643,
          4.318011283874512,
          -10.808327674865723,
          4.768554210662842,
          1.147223949432373,
          -4.191847801208496,
          0.7938224673271179
         ],
         "yaxis": "y"
        },
        {
         "hovertemplate": "<b>%{hovertext}</b><br><br>pos_max=PRP<br>x=%{x}<br>y=%{y}<br>term_str=%{text}<extra></extra>",
         "hovertext": [
          "us",
          "thyself"
         ],
         "legendgroup": "PRP",
         "marker": {
          "color": "#19d3f3",
          "symbol": "circle"
         },
         "mode": "markers+text",
         "name": "PRP",
         "orientation": "v",
         "showlegend": true,
         "text": [
          "us",
          "thyself"
         ],
         "textfont": {
          "color": "black",
          "family": "Arial",
          "size": 14
         },
         "textposition": "top center",
         "type": "scatter",
         "x": [
          25.671939849853516,
          44.520511627197266
         ],
         "xaxis": "x",
         "y": [
          4.169308185577393,
          6.606074333190918
         ],
         "yaxis": "y"
        }
       ],
       "layout": {
        "height": 1000,
        "legend": {
         "title": {
          "text": "pos_max"
         },
         "tracegroupgap": 0
        },
        "margin": {
         "t": 60
        },
        "template": {
         "data": {
          "bar": [
           {
            "error_x": {
             "color": "#2a3f5f"
            },
            "error_y": {
             "color": "#2a3f5f"
            },
            "marker": {
             "line": {
              "color": "#E5ECF6",
              "width": 0.5
             }
            },
            "type": "bar"
           }
          ],
          "barpolar": [
           {
            "marker": {
             "line": {
              "color": "#E5ECF6",
              "width": 0.5
             }
            },
            "type": "barpolar"
           }
          ],
          "carpet": [
           {
            "aaxis": {
             "endlinecolor": "#2a3f5f",
             "gridcolor": "white",
             "linecolor": "white",
             "minorgridcolor": "white",
             "startlinecolor": "#2a3f5f"
            },
            "baxis": {
             "endlinecolor": "#2a3f5f",
             "gridcolor": "white",
             "linecolor": "white",
             "minorgridcolor": "white",
             "startlinecolor": "#2a3f5f"
            },
            "type": "carpet"
           }
          ],
          "choropleth": [
           {
            "colorbar": {
             "outlinewidth": 0,
             "ticks": ""
            },
            "type": "choropleth"
           }
          ],
          "contour": [
           {
            "colorbar": {
             "outlinewidth": 0,
             "ticks": ""
            },
            "colorscale": [
             [
              0,
              "#0d0887"
             ],
             [
              0.1111111111111111,
              "#46039f"
             ],
             [
              0.2222222222222222,
              "#7201a8"
             ],
             [
              0.3333333333333333,
              "#9c179e"
             ],
             [
              0.4444444444444444,
              "#bd3786"
             ],
             [
              0.5555555555555556,
              "#d8576b"
             ],
             [
              0.6666666666666666,
              "#ed7953"
             ],
             [
              0.7777777777777778,
              "#fb9f3a"
             ],
             [
              0.8888888888888888,
              "#fdca26"
             ],
             [
              1,
              "#f0f921"
             ]
            ],
            "type": "contour"
           }
          ],
          "contourcarpet": [
           {
            "colorbar": {
             "outlinewidth": 0,
             "ticks": ""
            },
            "type": "contourcarpet"
           }
          ],
          "heatmap": [
           {
            "colorbar": {
             "outlinewidth": 0,
             "ticks": ""
            },
            "colorscale": [
             [
              0,
              "#0d0887"
             ],
             [
              0.1111111111111111,
              "#46039f"
             ],
             [
              0.2222222222222222,
              "#7201a8"
             ],
             [
              0.3333333333333333,
              "#9c179e"
             ],
             [
              0.4444444444444444,
              "#bd3786"
             ],
             [
              0.5555555555555556,
              "#d8576b"
             ],
             [
              0.6666666666666666,
              "#ed7953"
             ],
             [
              0.7777777777777778,
              "#fb9f3a"
             ],
             [
              0.8888888888888888,
              "#fdca26"
             ],
             [
              1,
              "#f0f921"
             ]
            ],
            "type": "heatmap"
           }
          ],
          "heatmapgl": [
           {
            "colorbar": {
             "outlinewidth": 0,
             "ticks": ""
            },
            "colorscale": [
             [
              0,
              "#0d0887"
             ],
             [
              0.1111111111111111,
              "#46039f"
             ],
             [
              0.2222222222222222,
              "#7201a8"
             ],
             [
              0.3333333333333333,
              "#9c179e"
             ],
             [
              0.4444444444444444,
              "#bd3786"
             ],
             [
              0.5555555555555556,
              "#d8576b"
             ],
             [
              0.6666666666666666,
              "#ed7953"
             ],
             [
              0.7777777777777778,
              "#fb9f3a"
             ],
             [
              0.8888888888888888,
              "#fdca26"
             ],
             [
              1,
              "#f0f921"
             ]
            ],
            "type": "heatmapgl"
           }
          ],
          "histogram": [
           {
            "marker": {
             "colorbar": {
              "outlinewidth": 0,
              "ticks": ""
             }
            },
            "type": "histogram"
           }
          ],
          "histogram2d": [
           {
            "colorbar": {
             "outlinewidth": 0,
             "ticks": ""
            },
            "colorscale": [
             [
              0,
              "#0d0887"
             ],
             [
              0.1111111111111111,
              "#46039f"
             ],
             [
              0.2222222222222222,
              "#7201a8"
             ],
             [
              0.3333333333333333,
              "#9c179e"
             ],
             [
              0.4444444444444444,
              "#bd3786"
             ],
             [
              0.5555555555555556,
              "#d8576b"
             ],
             [
              0.6666666666666666,
              "#ed7953"
             ],
             [
              0.7777777777777778,
              "#fb9f3a"
             ],
             [
              0.8888888888888888,
              "#fdca26"
             ],
             [
              1,
              "#f0f921"
             ]
            ],
            "type": "histogram2d"
           }
          ],
          "histogram2dcontour": [
           {
            "colorbar": {
             "outlinewidth": 0,
             "ticks": ""
            },
            "colorscale": [
             [
              0,
              "#0d0887"
             ],
             [
              0.1111111111111111,
              "#46039f"
             ],
             [
              0.2222222222222222,
              "#7201a8"
             ],
             [
              0.3333333333333333,
              "#9c179e"
             ],
             [
              0.4444444444444444,
              "#bd3786"
             ],
             [
              0.5555555555555556,
              "#d8576b"
             ],
             [
              0.6666666666666666,
              "#ed7953"
             ],
             [
              0.7777777777777778,
              "#fb9f3a"
             ],
             [
              0.8888888888888888,
              "#fdca26"
             ],
             [
              1,
              "#f0f921"
             ]
            ],
            "type": "histogram2dcontour"
           }
          ],
          "mesh3d": [
           {
            "colorbar": {
             "outlinewidth": 0,
             "ticks": ""
            },
            "type": "mesh3d"
           }
          ],
          "parcoords": [
           {
            "line": {
             "colorbar": {
              "outlinewidth": 0,
              "ticks": ""
             }
            },
            "type": "parcoords"
           }
          ],
          "pie": [
           {
            "automargin": true,
            "type": "pie"
           }
          ],
          "scatter": [
           {
            "marker": {
             "colorbar": {
              "outlinewidth": 0,
              "ticks": ""
             }
            },
            "type": "scatter"
           }
          ],
          "scatter3d": [
           {
            "line": {
             "colorbar": {
              "outlinewidth": 0,
              "ticks": ""
             }
            },
            "marker": {
             "colorbar": {
              "outlinewidth": 0,
              "ticks": ""
             }
            },
            "type": "scatter3d"
           }
          ],
          "scattercarpet": [
           {
            "marker": {
             "colorbar": {
              "outlinewidth": 0,
              "ticks": ""
             }
            },
            "type": "scattercarpet"
           }
          ],
          "scattergeo": [
           {
            "marker": {
             "colorbar": {
              "outlinewidth": 0,
              "ticks": ""
             }
            },
            "type": "scattergeo"
           }
          ],
          "scattergl": [
           {
            "marker": {
             "colorbar": {
              "outlinewidth": 0,
              "ticks": ""
             }
            },
            "type": "scattergl"
           }
          ],
          "scattermapbox": [
           {
            "marker": {
             "colorbar": {
              "outlinewidth": 0,
              "ticks": ""
             }
            },
            "type": "scattermapbox"
           }
          ],
          "scatterpolar": [
           {
            "marker": {
             "colorbar": {
              "outlinewidth": 0,
              "ticks": ""
             }
            },
            "type": "scatterpolar"
           }
          ],
          "scatterpolargl": [
           {
            "marker": {
             "colorbar": {
              "outlinewidth": 0,
              "ticks": ""
             }
            },
            "type": "scatterpolargl"
           }
          ],
          "scatterternary": [
           {
            "marker": {
             "colorbar": {
              "outlinewidth": 0,
              "ticks": ""
             }
            },
            "type": "scatterternary"
           }
          ],
          "surface": [
           {
            "colorbar": {
             "outlinewidth": 0,
             "ticks": ""
            },
            "colorscale": [
             [
              0,
              "#0d0887"
             ],
             [
              0.1111111111111111,
              "#46039f"
             ],
             [
              0.2222222222222222,
              "#7201a8"
             ],
             [
              0.3333333333333333,
              "#9c179e"
             ],
             [
              0.4444444444444444,
              "#bd3786"
             ],
             [
              0.5555555555555556,
              "#d8576b"
             ],
             [
              0.6666666666666666,
              "#ed7953"
             ],
             [
              0.7777777777777778,
              "#fb9f3a"
             ],
             [
              0.8888888888888888,
              "#fdca26"
             ],
             [
              1,
              "#f0f921"
             ]
            ],
            "type": "surface"
           }
          ],
          "table": [
           {
            "cells": {
             "fill": {
              "color": "#EBF0F8"
             },
             "line": {
              "color": "white"
             }
            },
            "header": {
             "fill": {
              "color": "#C8D4E3"
             },
             "line": {
              "color": "white"
             }
            },
            "type": "table"
           }
          ]
         },
         "layout": {
          "annotationdefaults": {
           "arrowcolor": "#2a3f5f",
           "arrowhead": 0,
           "arrowwidth": 1
          },
          "autotypenumbers": "strict",
          "coloraxis": {
           "colorbar": {
            "outlinewidth": 0,
            "ticks": ""
           }
          },
          "colorscale": {
           "diverging": [
            [
             0,
             "#8e0152"
            ],
            [
             0.1,
             "#c51b7d"
            ],
            [
             0.2,
             "#de77ae"
            ],
            [
             0.3,
             "#f1b6da"
            ],
            [
             0.4,
             "#fde0ef"
            ],
            [
             0.5,
             "#f7f7f7"
            ],
            [
             0.6,
             "#e6f5d0"
            ],
            [
             0.7,
             "#b8e186"
            ],
            [
             0.8,
             "#7fbc41"
            ],
            [
             0.9,
             "#4d9221"
            ],
            [
             1,
             "#276419"
            ]
           ],
           "sequential": [
            [
             0,
             "#0d0887"
            ],
            [
             0.1111111111111111,
             "#46039f"
            ],
            [
             0.2222222222222222,
             "#7201a8"
            ],
            [
             0.3333333333333333,
             "#9c179e"
            ],
            [
             0.4444444444444444,
             "#bd3786"
            ],
            [
             0.5555555555555556,
             "#d8576b"
            ],
            [
             0.6666666666666666,
             "#ed7953"
            ],
            [
             0.7777777777777778,
             "#fb9f3a"
            ],
            [
             0.8888888888888888,
             "#fdca26"
            ],
            [
             1,
             "#f0f921"
            ]
           ],
           "sequentialminus": [
            [
             0,
             "#0d0887"
            ],
            [
             0.1111111111111111,
             "#46039f"
            ],
            [
             0.2222222222222222,
             "#7201a8"
            ],
            [
             0.3333333333333333,
             "#9c179e"
            ],
            [
             0.4444444444444444,
             "#bd3786"
            ],
            [
             0.5555555555555556,
             "#d8576b"
            ],
            [
             0.6666666666666666,
             "#ed7953"
            ],
            [
             0.7777777777777778,
             "#fb9f3a"
            ],
            [
             0.8888888888888888,
             "#fdca26"
            ],
            [
             1,
             "#f0f921"
            ]
           ]
          },
          "colorway": [
           "#636efa",
           "#EF553B",
           "#00cc96",
           "#ab63fa",
           "#FFA15A",
           "#19d3f3",
           "#FF6692",
           "#B6E880",
           "#FF97FF",
           "#FECB52"
          ],
          "font": {
           "color": "#2a3f5f"
          },
          "geo": {
           "bgcolor": "white",
           "lakecolor": "white",
           "landcolor": "#E5ECF6",
           "showlakes": true,
           "showland": true,
           "subunitcolor": "white"
          },
          "hoverlabel": {
           "align": "left"
          },
          "hovermode": "closest",
          "mapbox": {
           "style": "light"
          },
          "paper_bgcolor": "white",
          "plot_bgcolor": "#E5ECF6",
          "polar": {
           "angularaxis": {
            "gridcolor": "white",
            "linecolor": "white",
            "ticks": ""
           },
           "bgcolor": "#E5ECF6",
           "radialaxis": {
            "gridcolor": "white",
            "linecolor": "white",
            "ticks": ""
           }
          },
          "scene": {
           "xaxis": {
            "backgroundcolor": "#E5ECF6",
            "gridcolor": "white",
            "gridwidth": 2,
            "linecolor": "white",
            "showbackground": true,
            "ticks": "",
            "zerolinecolor": "white"
           },
           "yaxis": {
            "backgroundcolor": "#E5ECF6",
            "gridcolor": "white",
            "gridwidth": 2,
            "linecolor": "white",
            "showbackground": true,
            "ticks": "",
            "zerolinecolor": "white"
           },
           "zaxis": {
            "backgroundcolor": "#E5ECF6",
            "gridcolor": "white",
            "gridwidth": 2,
            "linecolor": "white",
            "showbackground": true,
            "ticks": "",
            "zerolinecolor": "white"
           }
          },
          "shapedefaults": {
           "line": {
            "color": "#2a3f5f"
           }
          },
          "ternary": {
           "aaxis": {
            "gridcolor": "white",
            "linecolor": "white",
            "ticks": ""
           },
           "baxis": {
            "gridcolor": "white",
            "linecolor": "white",
            "ticks": ""
           },
           "bgcolor": "#E5ECF6",
           "caxis": {
            "gridcolor": "white",
            "linecolor": "white",
            "ticks": ""
           }
          },
          "title": {
           "x": 0.05
          },
          "xaxis": {
           "automargin": true,
           "gridcolor": "white",
           "linecolor": "white",
           "ticks": "",
           "title": {
            "standoff": 15
           },
           "zerolinecolor": "white",
           "zerolinewidth": 2
          },
          "yaxis": {
           "automargin": true,
           "gridcolor": "white",
           "linecolor": "white",
           "ticks": "",
           "title": {
            "standoff": 15
           },
           "zerolinecolor": "white",
           "zerolinewidth": 2
          }
         }
        },
        "xaxis": {
         "anchor": "y",
         "domain": [
          0,
          1
         ],
         "title": {
          "text": "x"
         }
        },
        "yaxis": {
         "anchor": "x",
         "domain": [
          0,
          1
         ],
         "title": {
          "text": "y"
         }
        }
       }
      }
     },
     "metadata": {}
    }
   ],
   "source": [
    "w2v.plot_tsne(random_state=0)"
   ]
  },
  {
   "cell_type": "code",
   "execution_count": 17,
   "metadata": {},
   "outputs": [
    {
     "output_type": "execute_result",
     "data": {
      "text/plain": [
       "       term       sim\n",
       "0   husband  0.990350\n",
       "1  marriage  0.989421\n",
       "2       age  0.988164\n",
       "3    sorrow  0.987560\n",
       "4      deed  0.986996\n",
       "5      evil  0.985416\n",
       "6      tale  0.985195\n",
       "7     woman  0.985151\n",
       "8     cause  0.984933\n",
       "9      told  0.984927"
      ],
      "text/html": "<div>\n<style scoped>\n    .dataframe tbody tr th:only-of-type {\n        vertical-align: middle;\n    }\n\n    .dataframe tbody tr th {\n        vertical-align: top;\n    }\n\n    .dataframe thead th {\n        text-align: right;\n    }\n</style>\n<table border=\"1\" class=\"dataframe\">\n  <thead>\n    <tr style=\"text-align: right;\">\n      <th></th>\n      <th>term</th>\n      <th>sim</th>\n    </tr>\n  </thead>\n  <tbody>\n    <tr>\n      <th>0</th>\n      <td>husband</td>\n      <td>0.990350</td>\n    </tr>\n    <tr>\n      <th>1</th>\n      <td>marriage</td>\n      <td>0.989421</td>\n    </tr>\n    <tr>\n      <th>2</th>\n      <td>age</td>\n      <td>0.988164</td>\n    </tr>\n    <tr>\n      <th>3</th>\n      <td>sorrow</td>\n      <td>0.987560</td>\n    </tr>\n    <tr>\n      <th>4</th>\n      <td>deed</td>\n      <td>0.986996</td>\n    </tr>\n    <tr>\n      <th>5</th>\n      <td>evil</td>\n      <td>0.985416</td>\n    </tr>\n    <tr>\n      <th>6</th>\n      <td>tale</td>\n      <td>0.985195</td>\n    </tr>\n    <tr>\n      <th>7</th>\n      <td>woman</td>\n      <td>0.985151</td>\n    </tr>\n    <tr>\n      <th>8</th>\n      <td>cause</td>\n      <td>0.984933</td>\n    </tr>\n    <tr>\n      <th>9</th>\n      <td>told</td>\n      <td>0.984927</td>\n    </tr>\n  </tbody>\n</table>\n</div>"
     },
     "metadata": {},
     "execution_count": 17
    }
   ],
   "source": [
    "w2v.word_analogy('war', 'glory', 'peace', n=10)"
   ]
  },
  {
   "cell_type": "code",
   "execution_count": 18,
   "metadata": {},
   "outputs": [
    {
     "output_type": "execute_result",
     "data": {
      "text/plain": [
       "      term       sim\n",
       "0    right  0.988740\n",
       "1   tender  0.988144\n",
       "2     form  0.987865\n",
       "3     lyre  0.987694\n",
       "4     glad  0.987507\n",
       "5  warrior  0.987170\n",
       "6    cried  0.987018\n",
       "7     felt  0.986974\n",
       "8   moment  0.986868\n",
       "9     knew  0.986810"
      ],
      "text/html": "<div>\n<style scoped>\n    .dataframe tbody tr th:only-of-type {\n        vertical-align: middle;\n    }\n\n    .dataframe tbody tr th {\n        vertical-align: top;\n    }\n\n    .dataframe thead th {\n        text-align: right;\n    }\n</style>\n<table border=\"1\" class=\"dataframe\">\n  <thead>\n    <tr style=\"text-align: right;\">\n      <th></th>\n      <th>term</th>\n      <th>sim</th>\n    </tr>\n  </thead>\n  <tbody>\n    <tr>\n      <th>0</th>\n      <td>right</td>\n      <td>0.988740</td>\n    </tr>\n    <tr>\n      <th>1</th>\n      <td>tender</td>\n      <td>0.988144</td>\n    </tr>\n    <tr>\n      <th>2</th>\n      <td>form</td>\n      <td>0.987865</td>\n    </tr>\n    <tr>\n      <th>3</th>\n      <td>lyre</td>\n      <td>0.987694</td>\n    </tr>\n    <tr>\n      <th>4</th>\n      <td>glad</td>\n      <td>0.987507</td>\n    </tr>\n    <tr>\n      <th>5</th>\n      <td>warrior</td>\n      <td>0.987170</td>\n    </tr>\n    <tr>\n      <th>6</th>\n      <td>cried</td>\n      <td>0.987018</td>\n    </tr>\n    <tr>\n      <th>7</th>\n      <td>felt</td>\n      <td>0.986974</td>\n    </tr>\n    <tr>\n      <th>8</th>\n      <td>moment</td>\n      <td>0.986868</td>\n    </tr>\n    <tr>\n      <th>9</th>\n      <td>knew</td>\n      <td>0.986810</td>\n    </tr>\n  </tbody>\n</table>\n</div>"
     },
     "metadata": {},
     "execution_count": 18
    }
   ],
   "source": [
    "w2v.word_analogy('men', 'brave', 'women', n=10)"
   ]
  },
  {
   "source": [
    "## Sentiment Analysis"
   ],
   "cell_type": "markdown",
   "metadata": {}
  },
  {
   "cell_type": "code",
   "execution_count": 19,
   "metadata": {},
   "outputs": [],
   "source": [
    "nrc_lexicon_path = os.path.join(data_dir, 'lexicons', 'salex_nrc.csv')\n",
    "sa = SentimentAnalysis(nrc_lexicon_path)\n",
    "sa.fit(corp)"
   ]
  },
  {
   "cell_type": "code",
   "execution_count": 20,
   "metadata": {},
   "outputs": [
    {
     "output_type": "display_data",
     "data": {
      "text/plain": "<Figure size 432x288 with 1 Axes>",
      "image/svg+xml": "<?xml version=\"1.0\" encoding=\"utf-8\" standalone=\"no\"?>\n<!DOCTYPE svg PUBLIC \"-//W3C//DTD SVG 1.1//EN\"\n  \"http://www.w3.org/Graphics/SVG/1.1/DTD/svg11.dtd\">\n<svg height=\"248.518125pt\" version=\"1.1\" viewBox=\"0 0 415.271875 248.518125\" width=\"415.271875pt\" xmlns=\"http://www.w3.org/2000/svg\" xmlns:xlink=\"http://www.w3.org/1999/xlink\">\n <metadata>\n  <rdf:RDF xmlns:cc=\"http://creativecommons.org/ns#\" xmlns:dc=\"http://purl.org/dc/elements/1.1/\" xmlns:rdf=\"http://www.w3.org/1999/02/22-rdf-syntax-ns#\">\n   <cc:Work>\n    <dc:type rdf:resource=\"http://purl.org/dc/dcmitype/StillImage\"/>\n    <dc:date>2021-05-09T00:19:33.212429</dc:date>\n    <dc:format>image/svg+xml</dc:format>\n    <dc:creator>\n     <cc:Agent>\n      <dc:title>Matplotlib v3.4.1, https://matplotlib.org/</dc:title>\n     </cc:Agent>\n    </dc:creator>\n   </cc:Work>\n  </rdf:RDF>\n </metadata>\n <defs>\n  <style type=\"text/css\">*{stroke-linecap:butt;stroke-linejoin:round;}</style>\n </defs>\n <g id=\"figure_1\">\n  <g id=\"patch_1\">\n   <path d=\"M 0 248.518125 \nL 415.271875 248.518125 \nL 415.271875 0 \nL 0 0 \nz\n\" style=\"fill:none;\"/>\n  </g>\n  <g id=\"axes_1\">\n   <g id=\"patch_2\">\n    <path d=\"M 73.271875 224.64 \nL 408.071875 224.64 \nL 408.071875 7.2 \nL 73.271875 7.2 \nz\n\" style=\"fill:#ffffff;\"/>\n   </g>\n   <g id=\"patch_3\">\n    <path clip-path=\"url(#p73415aa766)\" d=\"M 162.843604 218.6 \nL 88.490057 218.6 \nL 88.490057 206.52 \nL 162.843604 206.52 \nz\n\" style=\"fill:#1f77b4;\"/>\n   </g>\n   <g id=\"patch_4\">\n    <path clip-path=\"url(#p73415aa766)\" d=\"M 162.843604 194.44 \nL 234.954784 194.44 \nL 234.954784 182.36 \nL 162.843604 182.36 \nz\n\" style=\"fill:#1f77b4;\"/>\n   </g>\n   <g id=\"patch_5\">\n    <path clip-path=\"url(#p73415aa766)\" d=\"M 162.843604 170.28 \nL 270.864051 170.28 \nL 270.864051 158.2 \nL 162.843604 158.2 \nz\n\" style=\"fill:#1f77b4;\"/>\n   </g>\n   <g id=\"patch_6\">\n    <path clip-path=\"url(#p73415aa766)\" d=\"M 162.843604 146.12 \nL 322.270179 146.12 \nL 322.270179 134.04 \nL 162.843604 134.04 \nz\n\" style=\"fill:#1f77b4;\"/>\n   </g>\n   <g id=\"patch_7\">\n    <path clip-path=\"url(#p73415aa766)\" d=\"M 162.843604 121.96 \nL 332.20056 121.96 \nL 332.20056 109.88 \nL 162.843604 109.88 \nz\n\" style=\"fill:#1f77b4;\"/>\n   </g>\n   <g id=\"patch_8\">\n    <path clip-path=\"url(#p73415aa766)\" d=\"M 162.843604 97.8 \nL 344.306741 97.8 \nL 344.306741 85.72 \nL 162.843604 85.72 \nz\n\" style=\"fill:#1f77b4;\"/>\n   </g>\n   <g id=\"patch_9\">\n    <path clip-path=\"url(#p73415aa766)\" d=\"M 162.843604 73.64 \nL 372.199276 73.64 \nL 372.199276 61.56 \nL 162.843604 61.56 \nz\n\" style=\"fill:#1f77b4;\"/>\n   </g>\n   <g id=\"patch_10\">\n    <path clip-path=\"url(#p73415aa766)\" d=\"M 162.843604 49.48 \nL 374.452647 49.48 \nL 374.452647 37.4 \nL 162.843604 37.4 \nz\n\" style=\"fill:#1f77b4;\"/>\n   </g>\n   <g id=\"patch_11\">\n    <path clip-path=\"url(#p73415aa766)\" d=\"M 162.843604 25.32 \nL 392.853693 25.32 \nL 392.853693 13.24 \nL 162.843604 13.24 \nz\n\" style=\"fill:#1f77b4;\"/>\n   </g>\n   <g id=\"matplotlib.axis_1\">\n    <g id=\"xtick_1\">\n     <g id=\"line2d_1\">\n      <defs>\n       <path d=\"M 0 0 \nL 0 3.5 \n\" id=\"med8f5bbe24\" style=\"stroke:#000000;stroke-width:0.8;\"/>\n      </defs>\n      <g>\n       <use style=\"stroke:#000000;stroke-width:0.8;\" x=\"97.163738\" xlink:href=\"#med8f5bbe24\" y=\"224.64\"/>\n      </g>\n     </g>\n     <g id=\"text_1\">\n      <!-- −0.5 -->\n      <g transform=\"translate(85.022332 239.238437)scale(0.1 -0.1)\">\n       <defs>\n        <path d=\"M 678 2272 \nL 4684 2272 \nL 4684 1741 \nL 678 1741 \nL 678 2272 \nz\n\" id=\"DejaVuSans-2212\" transform=\"scale(0.015625)\"/>\n        <path d=\"M 2034 4250 \nQ 1547 4250 1301 3770 \nQ 1056 3291 1056 2328 \nQ 1056 1369 1301 889 \nQ 1547 409 2034 409 \nQ 2525 409 2770 889 \nQ 3016 1369 3016 2328 \nQ 3016 3291 2770 3770 \nQ 2525 4250 2034 4250 \nz\nM 2034 4750 \nQ 2819 4750 3233 4129 \nQ 3647 3509 3647 2328 \nQ 3647 1150 3233 529 \nQ 2819 -91 2034 -91 \nQ 1250 -91 836 529 \nQ 422 1150 422 2328 \nQ 422 3509 836 4129 \nQ 1250 4750 2034 4750 \nz\n\" id=\"DejaVuSans-30\" transform=\"scale(0.015625)\"/>\n        <path d=\"M 684 794 \nL 1344 794 \nL 1344 0 \nL 684 0 \nL 684 794 \nz\n\" id=\"DejaVuSans-2e\" transform=\"scale(0.015625)\"/>\n        <path d=\"M 691 4666 \nL 3169 4666 \nL 3169 4134 \nL 1269 4134 \nL 1269 2991 \nQ 1406 3038 1543 3061 \nQ 1681 3084 1819 3084 \nQ 2600 3084 3056 2656 \nQ 3513 2228 3513 1497 \nQ 3513 744 3044 326 \nQ 2575 -91 1722 -91 \nQ 1428 -91 1123 -41 \nQ 819 9 494 109 \nL 494 744 \nQ 775 591 1075 516 \nQ 1375 441 1709 441 \nQ 2250 441 2565 725 \nQ 2881 1009 2881 1497 \nQ 2881 1984 2565 2268 \nQ 2250 2553 1709 2553 \nQ 1456 2553 1204 2497 \nQ 953 2441 691 2322 \nL 691 4666 \nz\n\" id=\"DejaVuSans-35\" transform=\"scale(0.015625)\"/>\n       </defs>\n       <use xlink:href=\"#DejaVuSans-2212\"/>\n       <use x=\"83.789062\" xlink:href=\"#DejaVuSans-30\"/>\n       <use x=\"147.412109\" xlink:href=\"#DejaVuSans-2e\"/>\n       <use x=\"179.199219\" xlink:href=\"#DejaVuSans-35\"/>\n      </g>\n     </g>\n    </g>\n    <g id=\"xtick_2\">\n     <g id=\"line2d_2\">\n      <g>\n       <use style=\"stroke:#000000;stroke-width:0.8;\" x=\"162.843604\" xlink:href=\"#med8f5bbe24\" y=\"224.64\"/>\n      </g>\n     </g>\n     <g id=\"text_2\">\n      <!-- 0.0 -->\n      <g transform=\"translate(154.892041 239.238437)scale(0.1 -0.1)\">\n       <use xlink:href=\"#DejaVuSans-30\"/>\n       <use x=\"63.623047\" xlink:href=\"#DejaVuSans-2e\"/>\n       <use x=\"95.410156\" xlink:href=\"#DejaVuSans-30\"/>\n      </g>\n     </g>\n    </g>\n    <g id=\"xtick_3\">\n     <g id=\"line2d_3\">\n      <g>\n       <use style=\"stroke:#000000;stroke-width:0.8;\" x=\"228.52347\" xlink:href=\"#med8f5bbe24\" y=\"224.64\"/>\n      </g>\n     </g>\n     <g id=\"text_3\">\n      <!-- 0.5 -->\n      <g transform=\"translate(220.571907 239.238437)scale(0.1 -0.1)\">\n       <use xlink:href=\"#DejaVuSans-30\"/>\n       <use x=\"63.623047\" xlink:href=\"#DejaVuSans-2e\"/>\n       <use x=\"95.410156\" xlink:href=\"#DejaVuSans-35\"/>\n      </g>\n     </g>\n    </g>\n    <g id=\"xtick_4\">\n     <g id=\"line2d_4\">\n      <g>\n       <use style=\"stroke:#000000;stroke-width:0.8;\" x=\"294.203335\" xlink:href=\"#med8f5bbe24\" y=\"224.64\"/>\n      </g>\n     </g>\n     <g id=\"text_4\">\n      <!-- 1.0 -->\n      <g transform=\"translate(286.251773 239.238437)scale(0.1 -0.1)\">\n       <defs>\n        <path d=\"M 794 531 \nL 1825 531 \nL 1825 4091 \nL 703 3866 \nL 703 4441 \nL 1819 4666 \nL 2450 4666 \nL 2450 531 \nL 3481 531 \nL 3481 0 \nL 794 0 \nL 794 531 \nz\n\" id=\"DejaVuSans-31\" transform=\"scale(0.015625)\"/>\n       </defs>\n       <use xlink:href=\"#DejaVuSans-31\"/>\n       <use x=\"63.623047\" xlink:href=\"#DejaVuSans-2e\"/>\n       <use x=\"95.410156\" xlink:href=\"#DejaVuSans-30\"/>\n      </g>\n     </g>\n    </g>\n    <g id=\"xtick_5\">\n     <g id=\"line2d_5\">\n      <g>\n       <use style=\"stroke:#000000;stroke-width:0.8;\" x=\"359.883201\" xlink:href=\"#med8f5bbe24\" y=\"224.64\"/>\n      </g>\n     </g>\n     <g id=\"text_5\">\n      <!-- 1.5 -->\n      <g transform=\"translate(351.931639 239.238437)scale(0.1 -0.1)\">\n       <use xlink:href=\"#DejaVuSans-31\"/>\n       <use x=\"63.623047\" xlink:href=\"#DejaVuSans-2e\"/>\n       <use x=\"95.410156\" xlink:href=\"#DejaVuSans-35\"/>\n      </g>\n     </g>\n    </g>\n   </g>\n   <g id=\"matplotlib.axis_2\">\n    <g id=\"ytick_1\">\n     <g id=\"line2d_6\">\n      <defs>\n       <path d=\"M 0 0 \nL -3.5 0 \n\" id=\"m4634051063\" style=\"stroke:#000000;stroke-width:0.8;\"/>\n      </defs>\n      <g>\n       <use style=\"stroke:#000000;stroke-width:0.8;\" x=\"73.271875\" xlink:href=\"#m4634051063\" y=\"212.56\"/>\n      </g>\n     </g>\n     <g id=\"text_6\">\n      <!-- polarity -->\n      <g transform=\"translate(28.170313 216.359219)scale(0.1 -0.1)\">\n       <defs>\n        <path d=\"M 1159 525 \nL 1159 -1331 \nL 581 -1331 \nL 581 3500 \nL 1159 3500 \nL 1159 2969 \nQ 1341 3281 1617 3432 \nQ 1894 3584 2278 3584 \nQ 2916 3584 3314 3078 \nQ 3713 2572 3713 1747 \nQ 3713 922 3314 415 \nQ 2916 -91 2278 -91 \nQ 1894 -91 1617 61 \nQ 1341 213 1159 525 \nz\nM 3116 1747 \nQ 3116 2381 2855 2742 \nQ 2594 3103 2138 3103 \nQ 1681 3103 1420 2742 \nQ 1159 2381 1159 1747 \nQ 1159 1113 1420 752 \nQ 1681 391 2138 391 \nQ 2594 391 2855 752 \nQ 3116 1113 3116 1747 \nz\n\" id=\"DejaVuSans-70\" transform=\"scale(0.015625)\"/>\n        <path d=\"M 1959 3097 \nQ 1497 3097 1228 2736 \nQ 959 2375 959 1747 \nQ 959 1119 1226 758 \nQ 1494 397 1959 397 \nQ 2419 397 2687 759 \nQ 2956 1122 2956 1747 \nQ 2956 2369 2687 2733 \nQ 2419 3097 1959 3097 \nz\nM 1959 3584 \nQ 2709 3584 3137 3096 \nQ 3566 2609 3566 1747 \nQ 3566 888 3137 398 \nQ 2709 -91 1959 -91 \nQ 1206 -91 779 398 \nQ 353 888 353 1747 \nQ 353 2609 779 3096 \nQ 1206 3584 1959 3584 \nz\n\" id=\"DejaVuSans-6f\" transform=\"scale(0.015625)\"/>\n        <path d=\"M 603 4863 \nL 1178 4863 \nL 1178 0 \nL 603 0 \nL 603 4863 \nz\n\" id=\"DejaVuSans-6c\" transform=\"scale(0.015625)\"/>\n        <path d=\"M 2194 1759 \nQ 1497 1759 1228 1600 \nQ 959 1441 959 1056 \nQ 959 750 1161 570 \nQ 1363 391 1709 391 \nQ 2188 391 2477 730 \nQ 2766 1069 2766 1631 \nL 2766 1759 \nL 2194 1759 \nz\nM 3341 1997 \nL 3341 0 \nL 2766 0 \nL 2766 531 \nQ 2569 213 2275 61 \nQ 1981 -91 1556 -91 \nQ 1019 -91 701 211 \nQ 384 513 384 1019 \nQ 384 1609 779 1909 \nQ 1175 2209 1959 2209 \nL 2766 2209 \nL 2766 2266 \nQ 2766 2663 2505 2880 \nQ 2244 3097 1772 3097 \nQ 1472 3097 1187 3025 \nQ 903 2953 641 2809 \nL 641 3341 \nQ 956 3463 1253 3523 \nQ 1550 3584 1831 3584 \nQ 2591 3584 2966 3190 \nQ 3341 2797 3341 1997 \nz\n\" id=\"DejaVuSans-61\" transform=\"scale(0.015625)\"/>\n        <path d=\"M 2631 2963 \nQ 2534 3019 2420 3045 \nQ 2306 3072 2169 3072 \nQ 1681 3072 1420 2755 \nQ 1159 2438 1159 1844 \nL 1159 0 \nL 581 0 \nL 581 3500 \nL 1159 3500 \nL 1159 2956 \nQ 1341 3275 1631 3429 \nQ 1922 3584 2338 3584 \nQ 2397 3584 2469 3576 \nQ 2541 3569 2628 3553 \nL 2631 2963 \nz\n\" id=\"DejaVuSans-72\" transform=\"scale(0.015625)\"/>\n        <path d=\"M 603 3500 \nL 1178 3500 \nL 1178 0 \nL 603 0 \nL 603 3500 \nz\nM 603 4863 \nL 1178 4863 \nL 1178 4134 \nL 603 4134 \nL 603 4863 \nz\n\" id=\"DejaVuSans-69\" transform=\"scale(0.015625)\"/>\n        <path d=\"M 1172 4494 \nL 1172 3500 \nL 2356 3500 \nL 2356 3053 \nL 1172 3053 \nL 1172 1153 \nQ 1172 725 1289 603 \nQ 1406 481 1766 481 \nL 2356 481 \nL 2356 0 \nL 1766 0 \nQ 1100 0 847 248 \nQ 594 497 594 1153 \nL 594 3053 \nL 172 3053 \nL 172 3500 \nL 594 3500 \nL 594 4494 \nL 1172 4494 \nz\n\" id=\"DejaVuSans-74\" transform=\"scale(0.015625)\"/>\n        <path d=\"M 2059 -325 \nQ 1816 -950 1584 -1140 \nQ 1353 -1331 966 -1331 \nL 506 -1331 \nL 506 -850 \nL 844 -850 \nQ 1081 -850 1212 -737 \nQ 1344 -625 1503 -206 \nL 1606 56 \nL 191 3500 \nL 800 3500 \nL 1894 763 \nL 2988 3500 \nL 3597 3500 \nL 2059 -325 \nz\n\" id=\"DejaVuSans-79\" transform=\"scale(0.015625)\"/>\n       </defs>\n       <use xlink:href=\"#DejaVuSans-70\"/>\n       <use x=\"63.476562\" xlink:href=\"#DejaVuSans-6f\"/>\n       <use x=\"124.658203\" xlink:href=\"#DejaVuSans-6c\"/>\n       <use x=\"152.441406\" xlink:href=\"#DejaVuSans-61\"/>\n       <use x=\"213.720703\" xlink:href=\"#DejaVuSans-72\"/>\n       <use x=\"254.833984\" xlink:href=\"#DejaVuSans-69\"/>\n       <use x=\"282.617188\" xlink:href=\"#DejaVuSans-74\"/>\n       <use x=\"321.826172\" xlink:href=\"#DejaVuSans-79\"/>\n      </g>\n     </g>\n    </g>\n    <g id=\"ytick_2\">\n     <g id=\"line2d_7\">\n      <g>\n       <use style=\"stroke:#000000;stroke-width:0.8;\" x=\"73.271875\" xlink:href=\"#m4634051063\" y=\"188.4\"/>\n      </g>\n     </g>\n     <g id=\"text_7\">\n      <!-- surprise -->\n      <g transform=\"translate(26.014063 192.199219)scale(0.1 -0.1)\">\n       <defs>\n        <path d=\"M 2834 3397 \nL 2834 2853 \nQ 2591 2978 2328 3040 \nQ 2066 3103 1784 3103 \nQ 1356 3103 1142 2972 \nQ 928 2841 928 2578 \nQ 928 2378 1081 2264 \nQ 1234 2150 1697 2047 \nL 1894 2003 \nQ 2506 1872 2764 1633 \nQ 3022 1394 3022 966 \nQ 3022 478 2636 193 \nQ 2250 -91 1575 -91 \nQ 1294 -91 989 -36 \nQ 684 19 347 128 \nL 347 722 \nQ 666 556 975 473 \nQ 1284 391 1588 391 \nQ 1994 391 2212 530 \nQ 2431 669 2431 922 \nQ 2431 1156 2273 1281 \nQ 2116 1406 1581 1522 \nL 1381 1569 \nQ 847 1681 609 1914 \nQ 372 2147 372 2553 \nQ 372 3047 722 3315 \nQ 1072 3584 1716 3584 \nQ 2034 3584 2315 3537 \nQ 2597 3491 2834 3397 \nz\n\" id=\"DejaVuSans-73\" transform=\"scale(0.015625)\"/>\n        <path d=\"M 544 1381 \nL 544 3500 \nL 1119 3500 \nL 1119 1403 \nQ 1119 906 1312 657 \nQ 1506 409 1894 409 \nQ 2359 409 2629 706 \nQ 2900 1003 2900 1516 \nL 2900 3500 \nL 3475 3500 \nL 3475 0 \nL 2900 0 \nL 2900 538 \nQ 2691 219 2414 64 \nQ 2138 -91 1772 -91 \nQ 1169 -91 856 284 \nQ 544 659 544 1381 \nz\nM 1991 3584 \nL 1991 3584 \nz\n\" id=\"DejaVuSans-75\" transform=\"scale(0.015625)\"/>\n        <path d=\"M 3597 1894 \nL 3597 1613 \nL 953 1613 \nQ 991 1019 1311 708 \nQ 1631 397 2203 397 \nQ 2534 397 2845 478 \nQ 3156 559 3463 722 \nL 3463 178 \nQ 3153 47 2828 -22 \nQ 2503 -91 2169 -91 \nQ 1331 -91 842 396 \nQ 353 884 353 1716 \nQ 353 2575 817 3079 \nQ 1281 3584 2069 3584 \nQ 2775 3584 3186 3129 \nQ 3597 2675 3597 1894 \nz\nM 3022 2063 \nQ 3016 2534 2758 2815 \nQ 2500 3097 2075 3097 \nQ 1594 3097 1305 2825 \nQ 1016 2553 972 2059 \nL 3022 2063 \nz\n\" id=\"DejaVuSans-65\" transform=\"scale(0.015625)\"/>\n       </defs>\n       <use xlink:href=\"#DejaVuSans-73\"/>\n       <use x=\"52.099609\" xlink:href=\"#DejaVuSans-75\"/>\n       <use x=\"115.478516\" xlink:href=\"#DejaVuSans-72\"/>\n       <use x=\"156.591797\" xlink:href=\"#DejaVuSans-70\"/>\n       <use x=\"220.068359\" xlink:href=\"#DejaVuSans-72\"/>\n       <use x=\"261.181641\" xlink:href=\"#DejaVuSans-69\"/>\n       <use x=\"288.964844\" xlink:href=\"#DejaVuSans-73\"/>\n       <use x=\"341.064453\" xlink:href=\"#DejaVuSans-65\"/>\n      </g>\n     </g>\n    </g>\n    <g id=\"ytick_3\">\n     <g id=\"line2d_8\">\n      <g>\n       <use style=\"stroke:#000000;stroke-width:0.8;\" x=\"73.271875\" xlink:href=\"#m4634051063\" y=\"164.24\"/>\n      </g>\n     </g>\n     <g id=\"text_8\">\n      <!-- disgust -->\n      <g transform=\"translate(30.120313 168.039219)scale(0.1 -0.1)\">\n       <defs>\n        <path d=\"M 2906 2969 \nL 2906 4863 \nL 3481 4863 \nL 3481 0 \nL 2906 0 \nL 2906 525 \nQ 2725 213 2448 61 \nQ 2172 -91 1784 -91 \nQ 1150 -91 751 415 \nQ 353 922 353 1747 \nQ 353 2572 751 3078 \nQ 1150 3584 1784 3584 \nQ 2172 3584 2448 3432 \nQ 2725 3281 2906 2969 \nz\nM 947 1747 \nQ 947 1113 1208 752 \nQ 1469 391 1925 391 \nQ 2381 391 2643 752 \nQ 2906 1113 2906 1747 \nQ 2906 2381 2643 2742 \nQ 2381 3103 1925 3103 \nQ 1469 3103 1208 2742 \nQ 947 2381 947 1747 \nz\n\" id=\"DejaVuSans-64\" transform=\"scale(0.015625)\"/>\n        <path d=\"M 2906 1791 \nQ 2906 2416 2648 2759 \nQ 2391 3103 1925 3103 \nQ 1463 3103 1205 2759 \nQ 947 2416 947 1791 \nQ 947 1169 1205 825 \nQ 1463 481 1925 481 \nQ 2391 481 2648 825 \nQ 2906 1169 2906 1791 \nz\nM 3481 434 \nQ 3481 -459 3084 -895 \nQ 2688 -1331 1869 -1331 \nQ 1566 -1331 1297 -1286 \nQ 1028 -1241 775 -1147 \nL 775 -588 \nQ 1028 -725 1275 -790 \nQ 1522 -856 1778 -856 \nQ 2344 -856 2625 -561 \nQ 2906 -266 2906 331 \nL 2906 616 \nQ 2728 306 2450 153 \nQ 2172 0 1784 0 \nQ 1141 0 747 490 \nQ 353 981 353 1791 \nQ 353 2603 747 3093 \nQ 1141 3584 1784 3584 \nQ 2172 3584 2450 3431 \nQ 2728 3278 2906 2969 \nL 2906 3500 \nL 3481 3500 \nL 3481 434 \nz\n\" id=\"DejaVuSans-67\" transform=\"scale(0.015625)\"/>\n       </defs>\n       <use xlink:href=\"#DejaVuSans-64\"/>\n       <use x=\"63.476562\" xlink:href=\"#DejaVuSans-69\"/>\n       <use x=\"91.259766\" xlink:href=\"#DejaVuSans-73\"/>\n       <use x=\"143.359375\" xlink:href=\"#DejaVuSans-67\"/>\n       <use x=\"206.835938\" xlink:href=\"#DejaVuSans-75\"/>\n       <use x=\"270.214844\" xlink:href=\"#DejaVuSans-73\"/>\n       <use x=\"322.314453\" xlink:href=\"#DejaVuSans-74\"/>\n      </g>\n     </g>\n    </g>\n    <g id=\"ytick_4\">\n     <g id=\"line2d_9\">\n      <g>\n       <use style=\"stroke:#000000;stroke-width:0.8;\" x=\"73.271875\" xlink:href=\"#m4634051063\" y=\"140.08\"/>\n      </g>\n     </g>\n     <g id=\"text_9\">\n      <!-- anticipation -->\n      <g transform=\"translate(7.2 143.879219)scale(0.1 -0.1)\">\n       <defs>\n        <path d=\"M 3513 2113 \nL 3513 0 \nL 2938 0 \nL 2938 2094 \nQ 2938 2591 2744 2837 \nQ 2550 3084 2163 3084 \nQ 1697 3084 1428 2787 \nQ 1159 2491 1159 1978 \nL 1159 0 \nL 581 0 \nL 581 3500 \nL 1159 3500 \nL 1159 2956 \nQ 1366 3272 1645 3428 \nQ 1925 3584 2291 3584 \nQ 2894 3584 3203 3211 \nQ 3513 2838 3513 2113 \nz\n\" id=\"DejaVuSans-6e\" transform=\"scale(0.015625)\"/>\n        <path d=\"M 3122 3366 \nL 3122 2828 \nQ 2878 2963 2633 3030 \nQ 2388 3097 2138 3097 \nQ 1578 3097 1268 2742 \nQ 959 2388 959 1747 \nQ 959 1106 1268 751 \nQ 1578 397 2138 397 \nQ 2388 397 2633 464 \nQ 2878 531 3122 666 \nL 3122 134 \nQ 2881 22 2623 -34 \nQ 2366 -91 2075 -91 \nQ 1284 -91 818 406 \nQ 353 903 353 1747 \nQ 353 2603 823 3093 \nQ 1294 3584 2113 3584 \nQ 2378 3584 2631 3529 \nQ 2884 3475 3122 3366 \nz\n\" id=\"DejaVuSans-63\" transform=\"scale(0.015625)\"/>\n       </defs>\n       <use xlink:href=\"#DejaVuSans-61\"/>\n       <use x=\"61.279297\" xlink:href=\"#DejaVuSans-6e\"/>\n       <use x=\"124.658203\" xlink:href=\"#DejaVuSans-74\"/>\n       <use x=\"163.867188\" xlink:href=\"#DejaVuSans-69\"/>\n       <use x=\"191.650391\" xlink:href=\"#DejaVuSans-63\"/>\n       <use x=\"246.630859\" xlink:href=\"#DejaVuSans-69\"/>\n       <use x=\"274.414062\" xlink:href=\"#DejaVuSans-70\"/>\n       <use x=\"337.890625\" xlink:href=\"#DejaVuSans-61\"/>\n       <use x=\"399.169922\" xlink:href=\"#DejaVuSans-74\"/>\n       <use x=\"438.378906\" xlink:href=\"#DejaVuSans-69\"/>\n       <use x=\"466.162109\" xlink:href=\"#DejaVuSans-6f\"/>\n       <use x=\"527.34375\" xlink:href=\"#DejaVuSans-6e\"/>\n      </g>\n     </g>\n    </g>\n    <g id=\"ytick_5\">\n     <g id=\"line2d_10\">\n      <g>\n       <use style=\"stroke:#000000;stroke-width:0.8;\" x=\"73.271875\" xlink:href=\"#m4634051063\" y=\"115.92\"/>\n      </g>\n     </g>\n     <g id=\"text_10\">\n      <!-- joy -->\n      <g transform=\"translate(51.45625 119.719219)scale(0.1 -0.1)\">\n       <defs>\n        <path d=\"M 603 3500 \nL 1178 3500 \nL 1178 -63 \nQ 1178 -731 923 -1031 \nQ 669 -1331 103 -1331 \nL -116 -1331 \nL -116 -844 \nL 38 -844 \nQ 366 -844 484 -692 \nQ 603 -541 603 -63 \nL 603 3500 \nz\nM 603 4863 \nL 1178 4863 \nL 1178 4134 \nL 603 4134 \nL 603 4863 \nz\n\" id=\"DejaVuSans-6a\" transform=\"scale(0.015625)\"/>\n       </defs>\n       <use xlink:href=\"#DejaVuSans-6a\"/>\n       <use x=\"27.783203\" xlink:href=\"#DejaVuSans-6f\"/>\n       <use x=\"88.964844\" xlink:href=\"#DejaVuSans-79\"/>\n      </g>\n     </g>\n    </g>\n    <g id=\"ytick_6\">\n     <g id=\"line2d_11\">\n      <g>\n       <use style=\"stroke:#000000;stroke-width:0.8;\" x=\"73.271875\" xlink:href=\"#m4634051063\" y=\"91.76\"/>\n      </g>\n     </g>\n     <g id=\"text_11\">\n      <!-- sadness -->\n      <g transform=\"translate(25.676563 95.559219)scale(0.1 -0.1)\">\n       <use xlink:href=\"#DejaVuSans-73\"/>\n       <use x=\"52.099609\" xlink:href=\"#DejaVuSans-61\"/>\n       <use x=\"113.378906\" xlink:href=\"#DejaVuSans-64\"/>\n       <use x=\"176.855469\" xlink:href=\"#DejaVuSans-6e\"/>\n       <use x=\"240.234375\" xlink:href=\"#DejaVuSans-65\"/>\n       <use x=\"301.757812\" xlink:href=\"#DejaVuSans-73\"/>\n       <use x=\"353.857422\" xlink:href=\"#DejaVuSans-73\"/>\n      </g>\n     </g>\n    </g>\n    <g id=\"ytick_7\">\n     <g id=\"line2d_12\">\n      <g>\n       <use style=\"stroke:#000000;stroke-width:0.8;\" x=\"73.271875\" xlink:href=\"#m4634051063\" y=\"67.6\"/>\n      </g>\n     </g>\n     <g id=\"text_12\">\n      <!-- trust -->\n      <g transform=\"translate(42.773438 71.399219)scale(0.1 -0.1)\">\n       <use xlink:href=\"#DejaVuSans-74\"/>\n       <use x=\"39.208984\" xlink:href=\"#DejaVuSans-72\"/>\n       <use x=\"80.322266\" xlink:href=\"#DejaVuSans-75\"/>\n       <use x=\"143.701172\" xlink:href=\"#DejaVuSans-73\"/>\n       <use x=\"195.800781\" xlink:href=\"#DejaVuSans-74\"/>\n      </g>\n     </g>\n    </g>\n    <g id=\"ytick_8\">\n     <g id=\"line2d_13\">\n      <g>\n       <use style=\"stroke:#000000;stroke-width:0.8;\" x=\"73.271875\" xlink:href=\"#m4634051063\" y=\"43.44\"/>\n      </g>\n     </g>\n     <g id=\"text_13\">\n      <!-- anger -->\n      <g transform=\"translate(37.19375 47.239219)scale(0.1 -0.1)\">\n       <use xlink:href=\"#DejaVuSans-61\"/>\n       <use x=\"61.279297\" xlink:href=\"#DejaVuSans-6e\"/>\n       <use x=\"124.658203\" xlink:href=\"#DejaVuSans-67\"/>\n       <use x=\"188.134766\" xlink:href=\"#DejaVuSans-65\"/>\n       <use x=\"249.658203\" xlink:href=\"#DejaVuSans-72\"/>\n      </g>\n     </g>\n    </g>\n    <g id=\"ytick_9\">\n     <g id=\"line2d_14\">\n      <g>\n       <use style=\"stroke:#000000;stroke-width:0.8;\" x=\"73.271875\" xlink:href=\"#m4634051063\" y=\"19.28\"/>\n      </g>\n     </g>\n     <g id=\"text_14\">\n      <!-- fear -->\n      <g transform=\"translate(46.359375 23.079219)scale(0.1 -0.1)\">\n       <defs>\n        <path d=\"M 2375 4863 \nL 2375 4384 \nL 1825 4384 \nQ 1516 4384 1395 4259 \nQ 1275 4134 1275 3809 \nL 1275 3500 \nL 2222 3500 \nL 2222 3053 \nL 1275 3053 \nL 1275 0 \nL 697 0 \nL 697 3053 \nL 147 3053 \nL 147 3500 \nL 697 3500 \nL 697 3744 \nQ 697 4328 969 4595 \nQ 1241 4863 1831 4863 \nL 2375 4863 \nz\n\" id=\"DejaVuSans-66\" transform=\"scale(0.015625)\"/>\n       </defs>\n       <use xlink:href=\"#DejaVuSans-66\"/>\n       <use x=\"35.205078\" xlink:href=\"#DejaVuSans-65\"/>\n       <use x=\"96.728516\" xlink:href=\"#DejaVuSans-61\"/>\n       <use x=\"158.007812\" xlink:href=\"#DejaVuSans-72\"/>\n      </g>\n     </g>\n    </g>\n   </g>\n   <g id=\"patch_12\">\n    <path d=\"M 73.271875 224.64 \nL 73.271875 7.2 \n\" style=\"fill:none;stroke:#000000;stroke-linecap:square;stroke-linejoin:miter;stroke-width:0.8;\"/>\n   </g>\n   <g id=\"patch_13\">\n    <path d=\"M 408.071875 224.64 \nL 408.071875 7.2 \n\" style=\"fill:none;stroke:#000000;stroke-linecap:square;stroke-linejoin:miter;stroke-width:0.8;\"/>\n   </g>\n   <g id=\"patch_14\">\n    <path d=\"M 73.271875 224.64 \nL 408.071875 224.64 \n\" style=\"fill:none;stroke:#000000;stroke-linecap:square;stroke-linejoin:miter;stroke-width:0.8;\"/>\n   </g>\n   <g id=\"patch_15\">\n    <path d=\"M 73.271875 7.2 \nL 408.071875 7.2 \n\" style=\"fill:none;stroke:#000000;stroke-linecap:square;stroke-linejoin:miter;stroke-width:0.8;\"/>\n   </g>\n  </g>\n </g>\n <defs>\n  <clipPath id=\"p73415aa766\">\n   <rect height=\"217.44\" width=\"334.8\" x=\"73.271875\" y=\"7.2\"/>\n  </clipPath>\n </defs>\n</svg>\n",
      "image/png": "[encoded data removed]"
     },
     "metadata": {
      "needs_background": "light"
     }
    }
   ],
   "source": [
    "sa.plot_mean_sentiments(author='homer')"
   ]
  },
  {
   "cell_type": "code",
   "execution_count": 21,
   "metadata": {},
   "outputs": [
    {
     "output_type": "display_data",
     "data": {
      "text/plain": "<Figure size 432x288 with 1 Axes>",
      "image/svg+xml": "<?xml version=\"1.0\" encoding=\"utf-8\" standalone=\"no\"?>\n<!DOCTYPE svg PUBLIC \"-//W3C//DTD SVG 1.1//EN\"\n  \"http://www.w3.org/Graphics/SVG/1.1/DTD/svg11.dtd\">\n<svg height=\"248.518125pt\" version=\"1.1\" viewBox=\"0 0 418.473531 248.518125\" width=\"418.473531pt\" xmlns=\"http://www.w3.org/2000/svg\" xmlns:xlink=\"http://www.w3.org/1999/xlink\">\n <metadata>\n  <rdf:RDF xmlns:cc=\"http://creativecommons.org/ns#\" xmlns:dc=\"http://purl.org/dc/elements/1.1/\" xmlns:rdf=\"http://www.w3.org/1999/02/22-rdf-syntax-ns#\">\n   <cc:Work>\n    <dc:type rdf:resource=\"http://purl.org/dc/dcmitype/StillImage\"/>\n    <dc:date>2021-05-09T00:19:33.299220</dc:date>\n    <dc:format>image/svg+xml</dc:format>\n    <dc:creator>\n     <cc:Agent>\n      <dc:title>Matplotlib v3.4.1, https://matplotlib.org/</dc:title>\n     </cc:Agent>\n    </dc:creator>\n   </cc:Work>\n  </rdf:RDF>\n </metadata>\n <defs>\n  <style type=\"text/css\">*{stroke-linecap:butt;stroke-linejoin:round;}</style>\n </defs>\n <g id=\"figure_1\">\n  <g id=\"patch_1\">\n   <path d=\"M 0 248.518125 \nL 418.473531 248.518125 \nL 418.473531 0 \nL 0 0 \nz\n\" style=\"fill:none;\"/>\n  </g>\n  <g id=\"axes_1\">\n   <g id=\"patch_2\">\n    <path d=\"M 73.271875 224.64 \nL 408.071875 224.64 \nL 408.071875 7.2 \nL 73.271875 7.2 \nz\n\" style=\"fill:#ffffff;\"/>\n   </g>\n   <g id=\"patch_3\">\n    <path clip-path=\"url(#peb896ec1a5)\" d=\"M 171.665596 218.6 \nL 88.490057 218.6 \nL 88.490057 206.52 \nL 171.665596 206.52 \nz\n\" style=\"fill:#1f77b4;\"/>\n   </g>\n   <g id=\"patch_4\">\n    <path clip-path=\"url(#peb896ec1a5)\" d=\"M 171.665596 194.44 \nL 246.059058 194.44 \nL 246.059058 182.36 \nL 171.665596 182.36 \nz\n\" style=\"fill:#1f77b4;\"/>\n   </g>\n   <g id=\"patch_5\">\n    <path clip-path=\"url(#peb896ec1a5)\" d=\"M 171.665596 170.28 \nL 295.768149 170.28 \nL 295.768149 158.2 \nL 171.665596 158.2 \nz\n\" style=\"fill:#1f77b4;\"/>\n   </g>\n   <g id=\"patch_6\">\n    <path clip-path=\"url(#peb896ec1a5)\" d=\"M 171.665596 146.12 \nL 310.986407 146.12 \nL 310.986407 134.04 \nL 171.665596 134.04 \nz\n\" style=\"fill:#1f77b4;\"/>\n   </g>\n   <g id=\"patch_7\">\n    <path clip-path=\"url(#peb896ec1a5)\" d=\"M 171.665596 121.96 \nL 313.545117 121.96 \nL 313.545117 109.88 \nL 171.665596 109.88 \nz\n\" style=\"fill:#1f77b4;\"/>\n   </g>\n   <g id=\"patch_8\">\n    <path clip-path=\"url(#peb896ec1a5)\" d=\"M 171.665596 97.8 \nL 345.256455 97.8 \nL 345.256455 85.72 \nL 171.665596 85.72 \nz\n\" style=\"fill:#1f77b4;\"/>\n   </g>\n   <g id=\"patch_9\">\n    <path clip-path=\"url(#peb896ec1a5)\" d=\"M 171.665596 73.64 \nL 354.743652 73.64 \nL 354.743652 61.56 \nL 171.665596 61.56 \nz\n\" style=\"fill:#1f77b4;\"/>\n   </g>\n   <g id=\"patch_10\">\n    <path clip-path=\"url(#peb896ec1a5)\" d=\"M 171.665596 49.48 \nL 358.737278 49.48 \nL 358.737278 37.4 \nL 171.665596 37.4 \nz\n\" style=\"fill:#1f77b4;\"/>\n   </g>\n   <g id=\"patch_11\">\n    <path clip-path=\"url(#peb896ec1a5)\" d=\"M 171.665596 25.32 \nL 392.853693 25.32 \nL 392.853693 13.24 \nL 171.665596 13.24 \nz\n\" style=\"fill:#1f77b4;\"/>\n   </g>\n   <g id=\"matplotlib.axis_1\">\n    <g id=\"xtick_1\">\n     <g id=\"line2d_1\">\n      <defs>\n       <path d=\"M 0 0 \nL 0 3.5 \n\" id=\"m36d97eb2e6\" style=\"stroke:#000000;stroke-width:0.8;\"/>\n      </defs>\n      <g>\n       <use style=\"stroke:#000000;stroke-width:0.8;\" x=\"95.507221\" xlink:href=\"#m36d97eb2e6\" y=\"224.64\"/>\n      </g>\n     </g>\n     <g id=\"text_1\">\n      <!-- −0.50 -->\n      <g transform=\"translate(80.184565 239.238437)scale(0.1 -0.1)\">\n       <defs>\n        <path d=\"M 678 2272 \nL 4684 2272 \nL 4684 1741 \nL 678 1741 \nL 678 2272 \nz\n\" id=\"DejaVuSans-2212\" transform=\"scale(0.015625)\"/>\n        <path d=\"M 2034 4250 \nQ 1547 4250 1301 3770 \nQ 1056 3291 1056 2328 \nQ 1056 1369 1301 889 \nQ 1547 409 2034 409 \nQ 2525 409 2770 889 \nQ 3016 1369 3016 2328 \nQ 3016 3291 2770 3770 \nQ 2525 4250 2034 4250 \nz\nM 2034 4750 \nQ 2819 4750 3233 4129 \nQ 3647 3509 3647 2328 \nQ 3647 1150 3233 529 \nQ 2819 -91 2034 -91 \nQ 1250 -91 836 529 \nQ 422 1150 422 2328 \nQ 422 3509 836 4129 \nQ 1250 4750 2034 4750 \nz\n\" id=\"DejaVuSans-30\" transform=\"scale(0.015625)\"/>\n        <path d=\"M 684 794 \nL 1344 794 \nL 1344 0 \nL 684 0 \nL 684 794 \nz\n\" id=\"DejaVuSans-2e\" transform=\"scale(0.015625)\"/>\n        <path d=\"M 691 4666 \nL 3169 4666 \nL 3169 4134 \nL 1269 4134 \nL 1269 2991 \nQ 1406 3038 1543 3061 \nQ 1681 3084 1819 3084 \nQ 2600 3084 3056 2656 \nQ 3513 2228 3513 1497 \nQ 3513 744 3044 326 \nQ 2575 -91 1722 -91 \nQ 1428 -91 1123 -41 \nQ 819 9 494 109 \nL 494 744 \nQ 775 591 1075 516 \nQ 1375 441 1709 441 \nQ 2250 441 2565 725 \nQ 2881 1009 2881 1497 \nQ 2881 1984 2565 2268 \nQ 2250 2553 1709 2553 \nQ 1456 2553 1204 2497 \nQ 953 2441 691 2322 \nL 691 4666 \nz\n\" id=\"DejaVuSans-35\" transform=\"scale(0.015625)\"/>\n       </defs>\n       <use xlink:href=\"#DejaVuSans-2212\"/>\n       <use x=\"83.789062\" xlink:href=\"#DejaVuSans-30\"/>\n       <use x=\"147.412109\" xlink:href=\"#DejaVuSans-2e\"/>\n       <use x=\"179.199219\" xlink:href=\"#DejaVuSans-35\"/>\n       <use x=\"242.822266\" xlink:href=\"#DejaVuSans-30\"/>\n      </g>\n     </g>\n    </g>\n    <g id=\"xtick_2\">\n     <g id=\"line2d_2\">\n      <g>\n       <use style=\"stroke:#000000;stroke-width:0.8;\" x=\"133.586408\" xlink:href=\"#m36d97eb2e6\" y=\"224.64\"/>\n      </g>\n     </g>\n     <g id=\"text_2\">\n      <!-- −0.25 -->\n      <g transform=\"translate(118.263752 239.238437)scale(0.1 -0.1)\">\n       <defs>\n        <path d=\"M 1228 531 \nL 3431 531 \nL 3431 0 \nL 469 0 \nL 469 531 \nQ 828 903 1448 1529 \nQ 2069 2156 2228 2338 \nQ 2531 2678 2651 2914 \nQ 2772 3150 2772 3378 \nQ 2772 3750 2511 3984 \nQ 2250 4219 1831 4219 \nQ 1534 4219 1204 4116 \nQ 875 4013 500 3803 \nL 500 4441 \nQ 881 4594 1212 4672 \nQ 1544 4750 1819 4750 \nQ 2544 4750 2975 4387 \nQ 3406 4025 3406 3419 \nQ 3406 3131 3298 2873 \nQ 3191 2616 2906 2266 \nQ 2828 2175 2409 1742 \nQ 1991 1309 1228 531 \nz\n\" id=\"DejaVuSans-32\" transform=\"scale(0.015625)\"/>\n       </defs>\n       <use xlink:href=\"#DejaVuSans-2212\"/>\n       <use x=\"83.789062\" xlink:href=\"#DejaVuSans-30\"/>\n       <use x=\"147.412109\" xlink:href=\"#DejaVuSans-2e\"/>\n       <use x=\"179.199219\" xlink:href=\"#DejaVuSans-32\"/>\n       <use x=\"242.822266\" xlink:href=\"#DejaVuSans-35\"/>\n      </g>\n     </g>\n    </g>\n    <g id=\"xtick_3\">\n     <g id=\"line2d_3\">\n      <g>\n       <use style=\"stroke:#000000;stroke-width:0.8;\" x=\"171.665596\" xlink:href=\"#m36d97eb2e6\" y=\"224.64\"/>\n      </g>\n     </g>\n     <g id=\"text_3\">\n      <!-- 0.00 -->\n      <g transform=\"translate(160.532783 239.238437)scale(0.1 -0.1)\">\n       <use xlink:href=\"#DejaVuSans-30\"/>\n       <use x=\"63.623047\" xlink:href=\"#DejaVuSans-2e\"/>\n       <use x=\"95.410156\" xlink:href=\"#DejaVuSans-30\"/>\n       <use x=\"159.033203\" xlink:href=\"#DejaVuSans-30\"/>\n      </g>\n     </g>\n    </g>\n    <g id=\"xtick_4\">\n     <g id=\"line2d_4\">\n      <g>\n       <use style=\"stroke:#000000;stroke-width:0.8;\" x=\"209.744783\" xlink:href=\"#m36d97eb2e6\" y=\"224.64\"/>\n      </g>\n     </g>\n     <g id=\"text_4\">\n      <!-- 0.25 -->\n      <g transform=\"translate(198.61197 239.238437)scale(0.1 -0.1)\">\n       <use xlink:href=\"#DejaVuSans-30\"/>\n       <use x=\"63.623047\" xlink:href=\"#DejaVuSans-2e\"/>\n       <use x=\"95.410156\" xlink:href=\"#DejaVuSans-32\"/>\n       <use x=\"159.033203\" xlink:href=\"#DejaVuSans-35\"/>\n      </g>\n     </g>\n    </g>\n    <g id=\"xtick_5\">\n     <g id=\"line2d_5\">\n      <g>\n       <use style=\"stroke:#000000;stroke-width:0.8;\" x=\"247.82397\" xlink:href=\"#m36d97eb2e6\" y=\"224.64\"/>\n      </g>\n     </g>\n     <g id=\"text_5\">\n      <!-- 0.50 -->\n      <g transform=\"translate(236.691157 239.238437)scale(0.1 -0.1)\">\n       <use xlink:href=\"#DejaVuSans-30\"/>\n       <use x=\"63.623047\" xlink:href=\"#DejaVuSans-2e\"/>\n       <use x=\"95.410156\" xlink:href=\"#DejaVuSans-35\"/>\n       <use x=\"159.033203\" xlink:href=\"#DejaVuSans-30\"/>\n      </g>\n     </g>\n    </g>\n    <g id=\"xtick_6\">\n     <g id=\"line2d_6\">\n      <g>\n       <use style=\"stroke:#000000;stroke-width:0.8;\" x=\"285.903157\" xlink:href=\"#m36d97eb2e6\" y=\"224.64\"/>\n      </g>\n     </g>\n     <g id=\"text_6\">\n      <!-- 0.75 -->\n      <g transform=\"translate(274.770345 239.238437)scale(0.1 -0.1)\">\n       <defs>\n        <path d=\"M 525 4666 \nL 3525 4666 \nL 3525 4397 \nL 1831 0 \nL 1172 0 \nL 2766 4134 \nL 525 4134 \nL 525 4666 \nz\n\" id=\"DejaVuSans-37\" transform=\"scale(0.015625)\"/>\n       </defs>\n       <use xlink:href=\"#DejaVuSans-30\"/>\n       <use x=\"63.623047\" xlink:href=\"#DejaVuSans-2e\"/>\n       <use x=\"95.410156\" xlink:href=\"#DejaVuSans-37\"/>\n       <use x=\"159.033203\" xlink:href=\"#DejaVuSans-35\"/>\n      </g>\n     </g>\n    </g>\n    <g id=\"xtick_7\">\n     <g id=\"line2d_7\">\n      <g>\n       <use style=\"stroke:#000000;stroke-width:0.8;\" x=\"323.982344\" xlink:href=\"#m36d97eb2e6\" y=\"224.64\"/>\n      </g>\n     </g>\n     <g id=\"text_7\">\n      <!-- 1.00 -->\n      <g transform=\"translate(312.849532 239.238437)scale(0.1 -0.1)\">\n       <defs>\n        <path d=\"M 794 531 \nL 1825 531 \nL 1825 4091 \nL 703 3866 \nL 703 4441 \nL 1819 4666 \nL 2450 4666 \nL 2450 531 \nL 3481 531 \nL 3481 0 \nL 794 0 \nL 794 531 \nz\n\" id=\"DejaVuSans-31\" transform=\"scale(0.015625)\"/>\n       </defs>\n       <use xlink:href=\"#DejaVuSans-31\"/>\n       <use x=\"63.623047\" xlink:href=\"#DejaVuSans-2e\"/>\n       <use x=\"95.410156\" xlink:href=\"#DejaVuSans-30\"/>\n       <use x=\"159.033203\" xlink:href=\"#DejaVuSans-30\"/>\n      </g>\n     </g>\n    </g>\n    <g id=\"xtick_8\">\n     <g id=\"line2d_8\">\n      <g>\n       <use style=\"stroke:#000000;stroke-width:0.8;\" x=\"362.061532\" xlink:href=\"#m36d97eb2e6\" y=\"224.64\"/>\n      </g>\n     </g>\n     <g id=\"text_8\">\n      <!-- 1.25 -->\n      <g transform=\"translate(350.928719 239.238437)scale(0.1 -0.1)\">\n       <use xlink:href=\"#DejaVuSans-31\"/>\n       <use x=\"63.623047\" xlink:href=\"#DejaVuSans-2e\"/>\n       <use x=\"95.410156\" xlink:href=\"#DejaVuSans-32\"/>\n       <use x=\"159.033203\" xlink:href=\"#DejaVuSans-35\"/>\n      </g>\n     </g>\n    </g>\n    <g id=\"xtick_9\">\n     <g id=\"line2d_9\">\n      <g>\n       <use style=\"stroke:#000000;stroke-width:0.8;\" x=\"400.140719\" xlink:href=\"#m36d97eb2e6\" y=\"224.64\"/>\n      </g>\n     </g>\n     <g id=\"text_9\">\n      <!-- 1.50 -->\n      <g transform=\"translate(389.007906 239.238437)scale(0.1 -0.1)\">\n       <use xlink:href=\"#DejaVuSans-31\"/>\n       <use x=\"63.623047\" xlink:href=\"#DejaVuSans-2e\"/>\n       <use x=\"95.410156\" xlink:href=\"#DejaVuSans-35\"/>\n       <use x=\"159.033203\" xlink:href=\"#DejaVuSans-30\"/>\n      </g>\n     </g>\n    </g>\n   </g>\n   <g id=\"matplotlib.axis_2\">\n    <g id=\"ytick_1\">\n     <g id=\"line2d_10\">\n      <defs>\n       <path d=\"M 0 0 \nL -3.5 0 \n\" id=\"mdbc05bb145\" style=\"stroke:#000000;stroke-width:0.8;\"/>\n      </defs>\n      <g>\n       <use style=\"stroke:#000000;stroke-width:0.8;\" x=\"73.271875\" xlink:href=\"#mdbc05bb145\" y=\"212.56\"/>\n      </g>\n     </g>\n     <g id=\"text_10\">\n      <!-- polarity -->\n      <g transform=\"translate(28.170313 216.359219)scale(0.1 -0.1)\">\n       <defs>\n        <path d=\"M 1159 525 \nL 1159 -1331 \nL 581 -1331 \nL 581 3500 \nL 1159 3500 \nL 1159 2969 \nQ 1341 3281 1617 3432 \nQ 1894 3584 2278 3584 \nQ 2916 3584 3314 3078 \nQ 3713 2572 3713 1747 \nQ 3713 922 3314 415 \nQ 2916 -91 2278 -91 \nQ 1894 -91 1617 61 \nQ 1341 213 1159 525 \nz\nM 3116 1747 \nQ 3116 2381 2855 2742 \nQ 2594 3103 2138 3103 \nQ 1681 3103 1420 2742 \nQ 1159 2381 1159 1747 \nQ 1159 1113 1420 752 \nQ 1681 391 2138 391 \nQ 2594 391 2855 752 \nQ 3116 1113 3116 1747 \nz\n\" id=\"DejaVuSans-70\" transform=\"scale(0.015625)\"/>\n        <path d=\"M 1959 3097 \nQ 1497 3097 1228 2736 \nQ 959 2375 959 1747 \nQ 959 1119 1226 758 \nQ 1494 397 1959 397 \nQ 2419 397 2687 759 \nQ 2956 1122 2956 1747 \nQ 2956 2369 2687 2733 \nQ 2419 3097 1959 3097 \nz\nM 1959 3584 \nQ 2709 3584 3137 3096 \nQ 3566 2609 3566 1747 \nQ 3566 888 3137 398 \nQ 2709 -91 1959 -91 \nQ 1206 -91 779 398 \nQ 353 888 353 1747 \nQ 353 2609 779 3096 \nQ 1206 3584 1959 3584 \nz\n\" id=\"DejaVuSans-6f\" transform=\"scale(0.015625)\"/>\n        <path d=\"M 603 4863 \nL 1178 4863 \nL 1178 0 \nL 603 0 \nL 603 4863 \nz\n\" id=\"DejaVuSans-6c\" transform=\"scale(0.015625)\"/>\n        <path d=\"M 2194 1759 \nQ 1497 1759 1228 1600 \nQ 959 1441 959 1056 \nQ 959 750 1161 570 \nQ 1363 391 1709 391 \nQ 2188 391 2477 730 \nQ 2766 1069 2766 1631 \nL 2766 1759 \nL 2194 1759 \nz\nM 3341 1997 \nL 3341 0 \nL 2766 0 \nL 2766 531 \nQ 2569 213 2275 61 \nQ 1981 -91 1556 -91 \nQ 1019 -91 701 211 \nQ 384 513 384 1019 \nQ 384 1609 779 1909 \nQ 1175 2209 1959 2209 \nL 2766 2209 \nL 2766 2266 \nQ 2766 2663 2505 2880 \nQ 2244 3097 1772 3097 \nQ 1472 3097 1187 3025 \nQ 903 2953 641 2809 \nL 641 3341 \nQ 956 3463 1253 3523 \nQ 1550 3584 1831 3584 \nQ 2591 3584 2966 3190 \nQ 3341 2797 3341 1997 \nz\n\" id=\"DejaVuSans-61\" transform=\"scale(0.015625)\"/>\n        <path d=\"M 2631 2963 \nQ 2534 3019 2420 3045 \nQ 2306 3072 2169 3072 \nQ 1681 3072 1420 2755 \nQ 1159 2438 1159 1844 \nL 1159 0 \nL 581 0 \nL 581 3500 \nL 1159 3500 \nL 1159 2956 \nQ 1341 3275 1631 3429 \nQ 1922 3584 2338 3584 \nQ 2397 3584 2469 3576 \nQ 2541 3569 2628 3553 \nL 2631 2963 \nz\n\" id=\"DejaVuSans-72\" transform=\"scale(0.015625)\"/>\n        <path d=\"M 603 3500 \nL 1178 3500 \nL 1178 0 \nL 603 0 \nL 603 3500 \nz\nM 603 4863 \nL 1178 4863 \nL 1178 4134 \nL 603 4134 \nL 603 4863 \nz\n\" id=\"DejaVuSans-69\" transform=\"scale(0.015625)\"/>\n        <path d=\"M 1172 4494 \nL 1172 3500 \nL 2356 3500 \nL 2356 3053 \nL 1172 3053 \nL 1172 1153 \nQ 1172 725 1289 603 \nQ 1406 481 1766 481 \nL 2356 481 \nL 2356 0 \nL 1766 0 \nQ 1100 0 847 248 \nQ 594 497 594 1153 \nL 594 3053 \nL 172 3053 \nL 172 3500 \nL 594 3500 \nL 594 4494 \nL 1172 4494 \nz\n\" id=\"DejaVuSans-74\" transform=\"scale(0.015625)\"/>\n        <path d=\"M 2059 -325 \nQ 1816 -950 1584 -1140 \nQ 1353 -1331 966 -1331 \nL 506 -1331 \nL 506 -850 \nL 844 -850 \nQ 1081 -850 1212 -737 \nQ 1344 -625 1503 -206 \nL 1606 56 \nL 191 3500 \nL 800 3500 \nL 1894 763 \nL 2988 3500 \nL 3597 3500 \nL 2059 -325 \nz\n\" id=\"DejaVuSans-79\" transform=\"scale(0.015625)\"/>\n       </defs>\n       <use xlink:href=\"#DejaVuSans-70\"/>\n       <use x=\"63.476562\" xlink:href=\"#DejaVuSans-6f\"/>\n       <use x=\"124.658203\" xlink:href=\"#DejaVuSans-6c\"/>\n       <use x=\"152.441406\" xlink:href=\"#DejaVuSans-61\"/>\n       <use x=\"213.720703\" xlink:href=\"#DejaVuSans-72\"/>\n       <use x=\"254.833984\" xlink:href=\"#DejaVuSans-69\"/>\n       <use x=\"282.617188\" xlink:href=\"#DejaVuSans-74\"/>\n       <use x=\"321.826172\" xlink:href=\"#DejaVuSans-79\"/>\n      </g>\n     </g>\n    </g>\n    <g id=\"ytick_2\">\n     <g id=\"line2d_11\">\n      <g>\n       <use style=\"stroke:#000000;stroke-width:0.8;\" x=\"73.271875\" xlink:href=\"#mdbc05bb145\" y=\"188.4\"/>\n      </g>\n     </g>\n     <g id=\"text_11\">\n      <!-- surprise -->\n      <g transform=\"translate(26.014063 192.199219)scale(0.1 -0.1)\">\n       <defs>\n        <path d=\"M 2834 3397 \nL 2834 2853 \nQ 2591 2978 2328 3040 \nQ 2066 3103 1784 3103 \nQ 1356 3103 1142 2972 \nQ 928 2841 928 2578 \nQ 928 2378 1081 2264 \nQ 1234 2150 1697 2047 \nL 1894 2003 \nQ 2506 1872 2764 1633 \nQ 3022 1394 3022 966 \nQ 3022 478 2636 193 \nQ 2250 -91 1575 -91 \nQ 1294 -91 989 -36 \nQ 684 19 347 128 \nL 347 722 \nQ 666 556 975 473 \nQ 1284 391 1588 391 \nQ 1994 391 2212 530 \nQ 2431 669 2431 922 \nQ 2431 1156 2273 1281 \nQ 2116 1406 1581 1522 \nL 1381 1569 \nQ 847 1681 609 1914 \nQ 372 2147 372 2553 \nQ 372 3047 722 3315 \nQ 1072 3584 1716 3584 \nQ 2034 3584 2315 3537 \nQ 2597 3491 2834 3397 \nz\n\" id=\"DejaVuSans-73\" transform=\"scale(0.015625)\"/>\n        <path d=\"M 544 1381 \nL 544 3500 \nL 1119 3500 \nL 1119 1403 \nQ 1119 906 1312 657 \nQ 1506 409 1894 409 \nQ 2359 409 2629 706 \nQ 2900 1003 2900 1516 \nL 2900 3500 \nL 3475 3500 \nL 3475 0 \nL 2900 0 \nL 2900 538 \nQ 2691 219 2414 64 \nQ 2138 -91 1772 -91 \nQ 1169 -91 856 284 \nQ 544 659 544 1381 \nz\nM 1991 3584 \nL 1991 3584 \nz\n\" id=\"DejaVuSans-75\" transform=\"scale(0.015625)\"/>\n        <path d=\"M 3597 1894 \nL 3597 1613 \nL 953 1613 \nQ 991 1019 1311 708 \nQ 1631 397 2203 397 \nQ 2534 397 2845 478 \nQ 3156 559 3463 722 \nL 3463 178 \nQ 3153 47 2828 -22 \nQ 2503 -91 2169 -91 \nQ 1331 -91 842 396 \nQ 353 884 353 1716 \nQ 353 2575 817 3079 \nQ 1281 3584 2069 3584 \nQ 2775 3584 3186 3129 \nQ 3597 2675 3597 1894 \nz\nM 3022 2063 \nQ 3016 2534 2758 2815 \nQ 2500 3097 2075 3097 \nQ 1594 3097 1305 2825 \nQ 1016 2553 972 2059 \nL 3022 2063 \nz\n\" id=\"DejaVuSans-65\" transform=\"scale(0.015625)\"/>\n       </defs>\n       <use xlink:href=\"#DejaVuSans-73\"/>\n       <use x=\"52.099609\" xlink:href=\"#DejaVuSans-75\"/>\n       <use x=\"115.478516\" xlink:href=\"#DejaVuSans-72\"/>\n       <use x=\"156.591797\" xlink:href=\"#DejaVuSans-70\"/>\n       <use x=\"220.068359\" xlink:href=\"#DejaVuSans-72\"/>\n       <use x=\"261.181641\" xlink:href=\"#DejaVuSans-69\"/>\n       <use x=\"288.964844\" xlink:href=\"#DejaVuSans-73\"/>\n       <use x=\"341.064453\" xlink:href=\"#DejaVuSans-65\"/>\n      </g>\n     </g>\n    </g>\n    <g id=\"ytick_3\">\n     <g id=\"line2d_12\">\n      <g>\n       <use style=\"stroke:#000000;stroke-width:0.8;\" x=\"73.271875\" xlink:href=\"#mdbc05bb145\" y=\"164.24\"/>\n      </g>\n     </g>\n     <g id=\"text_12\">\n      <!-- disgust -->\n      <g transform=\"translate(30.120313 168.039219)scale(0.1 -0.1)\">\n       <defs>\n        <path d=\"M 2906 2969 \nL 2906 4863 \nL 3481 4863 \nL 3481 0 \nL 2906 0 \nL 2906 525 \nQ 2725 213 2448 61 \nQ 2172 -91 1784 -91 \nQ 1150 -91 751 415 \nQ 353 922 353 1747 \nQ 353 2572 751 3078 \nQ 1150 3584 1784 3584 \nQ 2172 3584 2448 3432 \nQ 2725 3281 2906 2969 \nz\nM 947 1747 \nQ 947 1113 1208 752 \nQ 1469 391 1925 391 \nQ 2381 391 2643 752 \nQ 2906 1113 2906 1747 \nQ 2906 2381 2643 2742 \nQ 2381 3103 1925 3103 \nQ 1469 3103 1208 2742 \nQ 947 2381 947 1747 \nz\n\" id=\"DejaVuSans-64\" transform=\"scale(0.015625)\"/>\n        <path d=\"M 2906 1791 \nQ 2906 2416 2648 2759 \nQ 2391 3103 1925 3103 \nQ 1463 3103 1205 2759 \nQ 947 2416 947 1791 \nQ 947 1169 1205 825 \nQ 1463 481 1925 481 \nQ 2391 481 2648 825 \nQ 2906 1169 2906 1791 \nz\nM 3481 434 \nQ 3481 -459 3084 -895 \nQ 2688 -1331 1869 -1331 \nQ 1566 -1331 1297 -1286 \nQ 1028 -1241 775 -1147 \nL 775 -588 \nQ 1028 -725 1275 -790 \nQ 1522 -856 1778 -856 \nQ 2344 -856 2625 -561 \nQ 2906 -266 2906 331 \nL 2906 616 \nQ 2728 306 2450 153 \nQ 2172 0 1784 0 \nQ 1141 0 747 490 \nQ 353 981 353 1791 \nQ 353 2603 747 3093 \nQ 1141 3584 1784 3584 \nQ 2172 3584 2450 3431 \nQ 2728 3278 2906 2969 \nL 2906 3500 \nL 3481 3500 \nL 3481 434 \nz\n\" id=\"DejaVuSans-67\" transform=\"scale(0.015625)\"/>\n       </defs>\n       <use xlink:href=\"#DejaVuSans-64\"/>\n       <use x=\"63.476562\" xlink:href=\"#DejaVuSans-69\"/>\n       <use x=\"91.259766\" xlink:href=\"#DejaVuSans-73\"/>\n       <use x=\"143.359375\" xlink:href=\"#DejaVuSans-67\"/>\n       <use x=\"206.835938\" xlink:href=\"#DejaVuSans-75\"/>\n       <use x=\"270.214844\" xlink:href=\"#DejaVuSans-73\"/>\n       <use x=\"322.314453\" xlink:href=\"#DejaVuSans-74\"/>\n      </g>\n     </g>\n    </g>\n    <g id=\"ytick_4\">\n     <g id=\"line2d_13\">\n      <g>\n       <use style=\"stroke:#000000;stroke-width:0.8;\" x=\"73.271875\" xlink:href=\"#mdbc05bb145\" y=\"140.08\"/>\n      </g>\n     </g>\n     <g id=\"text_13\">\n      <!-- anticipation -->\n      <g transform=\"translate(7.2 143.879219)scale(0.1 -0.1)\">\n       <defs>\n        <path d=\"M 3513 2113 \nL 3513 0 \nL 2938 0 \nL 2938 2094 \nQ 2938 2591 2744 2837 \nQ 2550 3084 2163 3084 \nQ 1697 3084 1428 2787 \nQ 1159 2491 1159 1978 \nL 1159 0 \nL 581 0 \nL 581 3500 \nL 1159 3500 \nL 1159 2956 \nQ 1366 3272 1645 3428 \nQ 1925 3584 2291 3584 \nQ 2894 3584 3203 3211 \nQ 3513 2838 3513 2113 \nz\n\" id=\"DejaVuSans-6e\" transform=\"scale(0.015625)\"/>\n        <path d=\"M 3122 3366 \nL 3122 2828 \nQ 2878 2963 2633 3030 \nQ 2388 3097 2138 3097 \nQ 1578 3097 1268 2742 \nQ 959 2388 959 1747 \nQ 959 1106 1268 751 \nQ 1578 397 2138 397 \nQ 2388 397 2633 464 \nQ 2878 531 3122 666 \nL 3122 134 \nQ 2881 22 2623 -34 \nQ 2366 -91 2075 -91 \nQ 1284 -91 818 406 \nQ 353 903 353 1747 \nQ 353 2603 823 3093 \nQ 1294 3584 2113 3584 \nQ 2378 3584 2631 3529 \nQ 2884 3475 3122 3366 \nz\n\" id=\"DejaVuSans-63\" transform=\"scale(0.015625)\"/>\n       </defs>\n       <use xlink:href=\"#DejaVuSans-61\"/>\n       <use x=\"61.279297\" xlink:href=\"#DejaVuSans-6e\"/>\n       <use x=\"124.658203\" xlink:href=\"#DejaVuSans-74\"/>\n       <use x=\"163.867188\" xlink:href=\"#DejaVuSans-69\"/>\n       <use x=\"191.650391\" xlink:href=\"#DejaVuSans-63\"/>\n       <use x=\"246.630859\" xlink:href=\"#DejaVuSans-69\"/>\n       <use x=\"274.414062\" xlink:href=\"#DejaVuSans-70\"/>\n       <use x=\"337.890625\" xlink:href=\"#DejaVuSans-61\"/>\n       <use x=\"399.169922\" xlink:href=\"#DejaVuSans-74\"/>\n       <use x=\"438.378906\" xlink:href=\"#DejaVuSans-69\"/>\n       <use x=\"466.162109\" xlink:href=\"#DejaVuSans-6f\"/>\n       <use x=\"527.34375\" xlink:href=\"#DejaVuSans-6e\"/>\n      </g>\n     </g>\n    </g>\n    <g id=\"ytick_5\">\n     <g id=\"line2d_14\">\n      <g>\n       <use style=\"stroke:#000000;stroke-width:0.8;\" x=\"73.271875\" xlink:href=\"#mdbc05bb145\" y=\"115.92\"/>\n      </g>\n     </g>\n     <g id=\"text_14\">\n      <!-- joy -->\n      <g transform=\"translate(51.45625 119.719219)scale(0.1 -0.1)\">\n       <defs>\n        <path d=\"M 603 3500 \nL 1178 3500 \nL 1178 -63 \nQ 1178 -731 923 -1031 \nQ 669 -1331 103 -1331 \nL -116 -1331 \nL -116 -844 \nL 38 -844 \nQ 366 -844 484 -692 \nQ 603 -541 603 -63 \nL 603 3500 \nz\nM 603 4863 \nL 1178 4863 \nL 1178 4134 \nL 603 4134 \nL 603 4863 \nz\n\" id=\"DejaVuSans-6a\" transform=\"scale(0.015625)\"/>\n       </defs>\n       <use xlink:href=\"#DejaVuSans-6a\"/>\n       <use x=\"27.783203\" xlink:href=\"#DejaVuSans-6f\"/>\n       <use x=\"88.964844\" xlink:href=\"#DejaVuSans-79\"/>\n      </g>\n     </g>\n    </g>\n    <g id=\"ytick_6\">\n     <g id=\"line2d_15\">\n      <g>\n       <use style=\"stroke:#000000;stroke-width:0.8;\" x=\"73.271875\" xlink:href=\"#mdbc05bb145\" y=\"91.76\"/>\n      </g>\n     </g>\n     <g id=\"text_15\">\n      <!-- anger -->\n      <g transform=\"translate(37.19375 95.559219)scale(0.1 -0.1)\">\n       <use xlink:href=\"#DejaVuSans-61\"/>\n       <use x=\"61.279297\" xlink:href=\"#DejaVuSans-6e\"/>\n       <use x=\"124.658203\" xlink:href=\"#DejaVuSans-67\"/>\n       <use x=\"188.134766\" xlink:href=\"#DejaVuSans-65\"/>\n       <use x=\"249.658203\" xlink:href=\"#DejaVuSans-72\"/>\n      </g>\n     </g>\n    </g>\n    <g id=\"ytick_7\">\n     <g id=\"line2d_16\">\n      <g>\n       <use style=\"stroke:#000000;stroke-width:0.8;\" x=\"73.271875\" xlink:href=\"#mdbc05bb145\" y=\"67.6\"/>\n      </g>\n     </g>\n     <g id=\"text_16\">\n      <!-- sadness -->\n      <g transform=\"translate(25.676563 71.399219)scale(0.1 -0.1)\">\n       <use xlink:href=\"#DejaVuSans-73\"/>\n       <use x=\"52.099609\" xlink:href=\"#DejaVuSans-61\"/>\n       <use x=\"113.378906\" xlink:href=\"#DejaVuSans-64\"/>\n       <use x=\"176.855469\" xlink:href=\"#DejaVuSans-6e\"/>\n       <use x=\"240.234375\" xlink:href=\"#DejaVuSans-65\"/>\n       <use x=\"301.757812\" xlink:href=\"#DejaVuSans-73\"/>\n       <use x=\"353.857422\" xlink:href=\"#DejaVuSans-73\"/>\n      </g>\n     </g>\n    </g>\n    <g id=\"ytick_8\">\n     <g id=\"line2d_17\">\n      <g>\n       <use style=\"stroke:#000000;stroke-width:0.8;\" x=\"73.271875\" xlink:href=\"#mdbc05bb145\" y=\"43.44\"/>\n      </g>\n     </g>\n     <g id=\"text_17\">\n      <!-- trust -->\n      <g transform=\"translate(42.773438 47.239219)scale(0.1 -0.1)\">\n       <use xlink:href=\"#DejaVuSans-74\"/>\n       <use x=\"39.208984\" xlink:href=\"#DejaVuSans-72\"/>\n       <use x=\"80.322266\" xlink:href=\"#DejaVuSans-75\"/>\n       <use x=\"143.701172\" xlink:href=\"#DejaVuSans-73\"/>\n       <use x=\"195.800781\" xlink:href=\"#DejaVuSans-74\"/>\n      </g>\n     </g>\n    </g>\n    <g id=\"ytick_9\">\n     <g id=\"line2d_18\">\n      <g>\n       <use style=\"stroke:#000000;stroke-width:0.8;\" x=\"73.271875\" xlink:href=\"#mdbc05bb145\" y=\"19.28\"/>\n      </g>\n     </g>\n     <g id=\"text_18\">\n      <!-- fear -->\n      <g transform=\"translate(46.359375 23.079219)scale(0.1 -0.1)\">\n       <defs>\n        <path d=\"M 2375 4863 \nL 2375 4384 \nL 1825 4384 \nQ 1516 4384 1395 4259 \nQ 1275 4134 1275 3809 \nL 1275 3500 \nL 2222 3500 \nL 2222 3053 \nL 1275 3053 \nL 1275 0 \nL 697 0 \nL 697 3053 \nL 147 3053 \nL 147 3500 \nL 697 3500 \nL 697 3744 \nQ 697 4328 969 4595 \nQ 1241 4863 1831 4863 \nL 2375 4863 \nz\n\" id=\"DejaVuSans-66\" transform=\"scale(0.015625)\"/>\n       </defs>\n       <use xlink:href=\"#DejaVuSans-66\"/>\n       <use x=\"35.205078\" xlink:href=\"#DejaVuSans-65\"/>\n       <use x=\"96.728516\" xlink:href=\"#DejaVuSans-61\"/>\n       <use x=\"158.007812\" xlink:href=\"#DejaVuSans-72\"/>\n      </g>\n     </g>\n    </g>\n   </g>\n   <g id=\"patch_12\">\n    <path d=\"M 73.271875 224.64 \nL 73.271875 7.2 \n\" style=\"fill:none;stroke:#000000;stroke-linecap:square;stroke-linejoin:miter;stroke-width:0.8;\"/>\n   </g>\n   <g id=\"patch_13\">\n    <path d=\"M 408.071875 224.64 \nL 408.071875 7.2 \n\" style=\"fill:none;stroke:#000000;stroke-linecap:square;stroke-linejoin:miter;stroke-width:0.8;\"/>\n   </g>\n   <g id=\"patch_14\">\n    <path d=\"M 73.271875 224.64 \nL 408.071875 224.64 \n\" style=\"fill:none;stroke:#000000;stroke-linecap:square;stroke-linejoin:miter;stroke-width:0.8;\"/>\n   </g>\n   <g id=\"patch_15\">\n    <path d=\"M 73.271875 7.2 \nL 408.071875 7.2 \n\" style=\"fill:none;stroke:#000000;stroke-linecap:square;stroke-linejoin:miter;stroke-width:0.8;\"/>\n   </g>\n  </g>\n </g>\n <defs>\n  <clipPath id=\"peb896ec1a5\">\n   <rect height=\"217.44\" width=\"334.8\" x=\"73.271875\" y=\"7.2\"/>\n  </clipPath>\n </defs>\n</svg>\n",
      "image/png": "[encoded data removed]"
     },
     "metadata": {
      "needs_background": "light"
     }
    }
   ],
   "source": [
    "sa.plot_mean_sentiments(author='aeschylus')"
   ]
  },
  {
   "cell_type": "code",
   "execution_count": 22,
   "metadata": {},
   "outputs": [
    {
     "output_type": "display_data",
     "data": {
      "text/plain": "<Figure size 432x288 with 1 Axes>",
      "image/svg+xml": "<?xml version=\"1.0\" encoding=\"utf-8\" standalone=\"no\"?>\n<!DOCTYPE svg PUBLIC \"-//W3C//DTD SVG 1.1//EN\"\n  \"http://www.w3.org/Graphics/SVG/1.1/DTD/svg11.dtd\">\n<svg height=\"248.518125pt\" version=\"1.1\" viewBox=\"0 0 415.271875 248.518125\" width=\"415.271875pt\" xmlns=\"http://www.w3.org/2000/svg\" xmlns:xlink=\"http://www.w3.org/1999/xlink\">\n <metadata>\n  <rdf:RDF xmlns:cc=\"http://creativecommons.org/ns#\" xmlns:dc=\"http://purl.org/dc/elements/1.1/\" xmlns:rdf=\"http://www.w3.org/1999/02/22-rdf-syntax-ns#\">\n   <cc:Work>\n    <dc:type rdf:resource=\"http://purl.org/dc/dcmitype/StillImage\"/>\n    <dc:date>2021-05-09T00:19:33.431496</dc:date>\n    <dc:format>image/svg+xml</dc:format>\n    <dc:creator>\n     <cc:Agent>\n      <dc:title>Matplotlib v3.4.1, https://matplotlib.org/</dc:title>\n     </cc:Agent>\n    </dc:creator>\n   </cc:Work>\n  </rdf:RDF>\n </metadata>\n <defs>\n  <style type=\"text/css\">*{stroke-linecap:butt;stroke-linejoin:round;}</style>\n </defs>\n <g id=\"figure_1\">\n  <g id=\"patch_1\">\n   <path d=\"M 0 248.518125 \nL 415.271875 248.518125 \nL 415.271875 0 \nL 0 0 \nz\n\" style=\"fill:none;\"/>\n  </g>\n  <g id=\"axes_1\">\n   <g id=\"patch_2\">\n    <path d=\"M 73.271875 224.64 \nL 408.071875 224.64 \nL 408.071875 7.2 \nL 73.271875 7.2 \nz\n\" style=\"fill:#ffffff;\"/>\n   </g>\n   <g id=\"patch_3\">\n    <path clip-path=\"url(#p1a8344b05e)\" d=\"M 73.271875 218.6 \nL 138.708665 218.6 \nL 138.708665 206.52 \nL 73.271875 206.52 \nz\n\" style=\"fill:#1f77b4;\"/>\n   </g>\n   <g id=\"patch_4\">\n    <path clip-path=\"url(#p1a8344b05e)\" d=\"M 73.271875 194.44 \nL 180.79316 194.44 \nL 180.79316 182.36 \nL 73.271875 182.36 \nz\n\" style=\"fill:#1f77b4;\"/>\n   </g>\n   <g id=\"patch_5\">\n    <path clip-path=\"url(#p1a8344b05e)\" d=\"M 73.271875 170.28 \nL 190.544844 170.28 \nL 190.544844 158.2 \nL 73.271875 158.2 \nz\n\" style=\"fill:#1f77b4;\"/>\n   </g>\n   <g id=\"patch_6\">\n    <path clip-path=\"url(#p1a8344b05e)\" d=\"M 73.271875 146.12 \nL 221.968837 146.12 \nL 221.968837 134.04 \nL 73.271875 134.04 \nz\n\" style=\"fill:#1f77b4;\"/>\n   </g>\n   <g id=\"patch_7\">\n    <path clip-path=\"url(#p1a8344b05e)\" d=\"M 73.271875 121.96 \nL 236.099101 121.96 \nL 236.099101 109.88 \nL 73.271875 109.88 \nz\n\" style=\"fill:#1f77b4;\"/>\n   </g>\n   <g id=\"patch_8\">\n    <path clip-path=\"url(#p1a8344b05e)\" d=\"M 73.271875 97.8 \nL 272.578653 97.8 \nL 272.578653 85.72 \nL 73.271875 85.72 \nz\n\" style=\"fill:#1f77b4;\"/>\n   </g>\n   <g id=\"patch_9\">\n    <path clip-path=\"url(#p1a8344b05e)\" d=\"M 73.271875 73.64 \nL 293.816776 73.64 \nL 293.816776 61.56 \nL 73.271875 61.56 \nz\n\" style=\"fill:#1f77b4;\"/>\n   </g>\n   <g id=\"patch_10\">\n    <path clip-path=\"url(#p1a8344b05e)\" d=\"M 73.271875 49.48 \nL 374.38761 49.48 \nL 374.38761 37.4 \nL 73.271875 37.4 \nz\n\" style=\"fill:#1f77b4;\"/>\n   </g>\n   <g id=\"patch_11\">\n    <path clip-path=\"url(#p1a8344b05e)\" d=\"M 73.271875 25.32 \nL 392.129018 25.32 \nL 392.129018 13.24 \nL 73.271875 13.24 \nz\n\" style=\"fill:#1f77b4;\"/>\n   </g>\n   <g id=\"matplotlib.axis_1\">\n    <g id=\"xtick_1\">\n     <g id=\"line2d_1\">\n      <defs>\n       <path d=\"M 0 0 \nL 0 3.5 \n\" id=\"md77efc8768\" style=\"stroke:#000000;stroke-width:0.8;\"/>\n      </defs>\n      <g>\n       <use style=\"stroke:#000000;stroke-width:0.8;\" x=\"73.271875\" xlink:href=\"#md77efc8768\" y=\"224.64\"/>\n      </g>\n     </g>\n     <g id=\"text_1\">\n      <!-- 0.0 -->\n      <g transform=\"translate(65.320313 239.238437)scale(0.1 -0.1)\">\n       <defs>\n        <path d=\"M 2034 4250 \nQ 1547 4250 1301 3770 \nQ 1056 3291 1056 2328 \nQ 1056 1369 1301 889 \nQ 1547 409 2034 409 \nQ 2525 409 2770 889 \nQ 3016 1369 3016 2328 \nQ 3016 3291 2770 3770 \nQ 2525 4250 2034 4250 \nz\nM 2034 4750 \nQ 2819 4750 3233 4129 \nQ 3647 3509 3647 2328 \nQ 3647 1150 3233 529 \nQ 2819 -91 2034 -91 \nQ 1250 -91 836 529 \nQ 422 1150 422 2328 \nQ 422 3509 836 4129 \nQ 1250 4750 2034 4750 \nz\n\" id=\"DejaVuSans-30\" transform=\"scale(0.015625)\"/>\n        <path d=\"M 684 794 \nL 1344 794 \nL 1344 0 \nL 684 0 \nL 684 794 \nz\n\" id=\"DejaVuSans-2e\" transform=\"scale(0.015625)\"/>\n       </defs>\n       <use xlink:href=\"#DejaVuSans-30\"/>\n       <use x=\"63.623047\" xlink:href=\"#DejaVuSans-2e\"/>\n       <use x=\"95.410156\" xlink:href=\"#DejaVuSans-30\"/>\n      </g>\n     </g>\n    </g>\n    <g id=\"xtick_2\">\n     <g id=\"line2d_2\">\n      <g>\n       <use style=\"stroke:#000000;stroke-width:0.8;\" x=\"116.617426\" xlink:href=\"#md77efc8768\" y=\"224.64\"/>\n      </g>\n     </g>\n     <g id=\"text_2\">\n      <!-- 0.2 -->\n      <g transform=\"translate(108.665863 239.238437)scale(0.1 -0.1)\">\n       <defs>\n        <path d=\"M 1228 531 \nL 3431 531 \nL 3431 0 \nL 469 0 \nL 469 531 \nQ 828 903 1448 1529 \nQ 2069 2156 2228 2338 \nQ 2531 2678 2651 2914 \nQ 2772 3150 2772 3378 \nQ 2772 3750 2511 3984 \nQ 2250 4219 1831 4219 \nQ 1534 4219 1204 4116 \nQ 875 4013 500 3803 \nL 500 4441 \nQ 881 4594 1212 4672 \nQ 1544 4750 1819 4750 \nQ 2544 4750 2975 4387 \nQ 3406 4025 3406 3419 \nQ 3406 3131 3298 2873 \nQ 3191 2616 2906 2266 \nQ 2828 2175 2409 1742 \nQ 1991 1309 1228 531 \nz\n\" id=\"DejaVuSans-32\" transform=\"scale(0.015625)\"/>\n       </defs>\n       <use xlink:href=\"#DejaVuSans-30\"/>\n       <use x=\"63.623047\" xlink:href=\"#DejaVuSans-2e\"/>\n       <use x=\"95.410156\" xlink:href=\"#DejaVuSans-32\"/>\n      </g>\n     </g>\n    </g>\n    <g id=\"xtick_3\">\n     <g id=\"line2d_3\">\n      <g>\n       <use style=\"stroke:#000000;stroke-width:0.8;\" x=\"159.962977\" xlink:href=\"#md77efc8768\" y=\"224.64\"/>\n      </g>\n     </g>\n     <g id=\"text_3\">\n      <!-- 0.4 -->\n      <g transform=\"translate(152.011414 239.238437)scale(0.1 -0.1)\">\n       <defs>\n        <path d=\"M 2419 4116 \nL 825 1625 \nL 2419 1625 \nL 2419 4116 \nz\nM 2253 4666 \nL 3047 4666 \nL 3047 1625 \nL 3713 1625 \nL 3713 1100 \nL 3047 1100 \nL 3047 0 \nL 2419 0 \nL 2419 1100 \nL 313 1100 \nL 313 1709 \nL 2253 4666 \nz\n\" id=\"DejaVuSans-34\" transform=\"scale(0.015625)\"/>\n       </defs>\n       <use xlink:href=\"#DejaVuSans-30\"/>\n       <use x=\"63.623047\" xlink:href=\"#DejaVuSans-2e\"/>\n       <use x=\"95.410156\" xlink:href=\"#DejaVuSans-34\"/>\n      </g>\n     </g>\n    </g>\n    <g id=\"xtick_4\">\n     <g id=\"line2d_4\">\n      <g>\n       <use style=\"stroke:#000000;stroke-width:0.8;\" x=\"203.308527\" xlink:href=\"#md77efc8768\" y=\"224.64\"/>\n      </g>\n     </g>\n     <g id=\"text_4\">\n      <!-- 0.6 -->\n      <g transform=\"translate(195.356965 239.238437)scale(0.1 -0.1)\">\n       <defs>\n        <path d=\"M 2113 2584 \nQ 1688 2584 1439 2293 \nQ 1191 2003 1191 1497 \nQ 1191 994 1439 701 \nQ 1688 409 2113 409 \nQ 2538 409 2786 701 \nQ 3034 994 3034 1497 \nQ 3034 2003 2786 2293 \nQ 2538 2584 2113 2584 \nz\nM 3366 4563 \nL 3366 3988 \nQ 3128 4100 2886 4159 \nQ 2644 4219 2406 4219 \nQ 1781 4219 1451 3797 \nQ 1122 3375 1075 2522 \nQ 1259 2794 1537 2939 \nQ 1816 3084 2150 3084 \nQ 2853 3084 3261 2657 \nQ 3669 2231 3669 1497 \nQ 3669 778 3244 343 \nQ 2819 -91 2113 -91 \nQ 1303 -91 875 529 \nQ 447 1150 447 2328 \nQ 447 3434 972 4092 \nQ 1497 4750 2381 4750 \nQ 2619 4750 2861 4703 \nQ 3103 4656 3366 4563 \nz\n\" id=\"DejaVuSans-36\" transform=\"scale(0.015625)\"/>\n       </defs>\n       <use xlink:href=\"#DejaVuSans-30\"/>\n       <use x=\"63.623047\" xlink:href=\"#DejaVuSans-2e\"/>\n       <use x=\"95.410156\" xlink:href=\"#DejaVuSans-36\"/>\n      </g>\n     </g>\n    </g>\n    <g id=\"xtick_5\">\n     <g id=\"line2d_5\">\n      <g>\n       <use style=\"stroke:#000000;stroke-width:0.8;\" x=\"246.654078\" xlink:href=\"#md77efc8768\" y=\"224.64\"/>\n      </g>\n     </g>\n     <g id=\"text_5\">\n      <!-- 0.8 -->\n      <g transform=\"translate(238.702516 239.238437)scale(0.1 -0.1)\">\n       <defs>\n        <path d=\"M 2034 2216 \nQ 1584 2216 1326 1975 \nQ 1069 1734 1069 1313 \nQ 1069 891 1326 650 \nQ 1584 409 2034 409 \nQ 2484 409 2743 651 \nQ 3003 894 3003 1313 \nQ 3003 1734 2745 1975 \nQ 2488 2216 2034 2216 \nz\nM 1403 2484 \nQ 997 2584 770 2862 \nQ 544 3141 544 3541 \nQ 544 4100 942 4425 \nQ 1341 4750 2034 4750 \nQ 2731 4750 3128 4425 \nQ 3525 4100 3525 3541 \nQ 3525 3141 3298 2862 \nQ 3072 2584 2669 2484 \nQ 3125 2378 3379 2068 \nQ 3634 1759 3634 1313 \nQ 3634 634 3220 271 \nQ 2806 -91 2034 -91 \nQ 1263 -91 848 271 \nQ 434 634 434 1313 \nQ 434 1759 690 2068 \nQ 947 2378 1403 2484 \nz\nM 1172 3481 \nQ 1172 3119 1398 2916 \nQ 1625 2713 2034 2713 \nQ 2441 2713 2670 2916 \nQ 2900 3119 2900 3481 \nQ 2900 3844 2670 4047 \nQ 2441 4250 2034 4250 \nQ 1625 4250 1398 4047 \nQ 1172 3844 1172 3481 \nz\n\" id=\"DejaVuSans-38\" transform=\"scale(0.015625)\"/>\n       </defs>\n       <use xlink:href=\"#DejaVuSans-30\"/>\n       <use x=\"63.623047\" xlink:href=\"#DejaVuSans-2e\"/>\n       <use x=\"95.410156\" xlink:href=\"#DejaVuSans-38\"/>\n      </g>\n     </g>\n    </g>\n    <g id=\"xtick_6\">\n     <g id=\"line2d_6\">\n      <g>\n       <use style=\"stroke:#000000;stroke-width:0.8;\" x=\"289.999629\" xlink:href=\"#md77efc8768\" y=\"224.64\"/>\n      </g>\n     </g>\n     <g id=\"text_6\">\n      <!-- 1.0 -->\n      <g transform=\"translate(282.048066 239.238437)scale(0.1 -0.1)\">\n       <defs>\n        <path d=\"M 794 531 \nL 1825 531 \nL 1825 4091 \nL 703 3866 \nL 703 4441 \nL 1819 4666 \nL 2450 4666 \nL 2450 531 \nL 3481 531 \nL 3481 0 \nL 794 0 \nL 794 531 \nz\n\" id=\"DejaVuSans-31\" transform=\"scale(0.015625)\"/>\n       </defs>\n       <use xlink:href=\"#DejaVuSans-31\"/>\n       <use x=\"63.623047\" xlink:href=\"#DejaVuSans-2e\"/>\n       <use x=\"95.410156\" xlink:href=\"#DejaVuSans-30\"/>\n      </g>\n     </g>\n    </g>\n    <g id=\"xtick_7\">\n     <g id=\"line2d_7\">\n      <g>\n       <use style=\"stroke:#000000;stroke-width:0.8;\" x=\"333.34518\" xlink:href=\"#md77efc8768\" y=\"224.64\"/>\n      </g>\n     </g>\n     <g id=\"text_7\">\n      <!-- 1.2 -->\n      <g transform=\"translate(325.393617 239.238437)scale(0.1 -0.1)\">\n       <use xlink:href=\"#DejaVuSans-31\"/>\n       <use x=\"63.623047\" xlink:href=\"#DejaVuSans-2e\"/>\n       <use x=\"95.410156\" xlink:href=\"#DejaVuSans-32\"/>\n      </g>\n     </g>\n    </g>\n    <g id=\"xtick_8\">\n     <g id=\"line2d_8\">\n      <g>\n       <use style=\"stroke:#000000;stroke-width:0.8;\" x=\"376.69073\" xlink:href=\"#md77efc8768\" y=\"224.64\"/>\n      </g>\n     </g>\n     <g id=\"text_8\">\n      <!-- 1.4 -->\n      <g transform=\"translate(368.739168 239.238437)scale(0.1 -0.1)\">\n       <use xlink:href=\"#DejaVuSans-31\"/>\n       <use x=\"63.623047\" xlink:href=\"#DejaVuSans-2e\"/>\n       <use x=\"95.410156\" xlink:href=\"#DejaVuSans-34\"/>\n      </g>\n     </g>\n    </g>\n   </g>\n   <g id=\"matplotlib.axis_2\">\n    <g id=\"ytick_1\">\n     <g id=\"line2d_9\">\n      <defs>\n       <path d=\"M 0 0 \nL -3.5 0 \n\" id=\"mcd85863bbc\" style=\"stroke:#000000;stroke-width:0.8;\"/>\n      </defs>\n      <g>\n       <use style=\"stroke:#000000;stroke-width:0.8;\" x=\"73.271875\" xlink:href=\"#mcd85863bbc\" y=\"212.56\"/>\n      </g>\n     </g>\n     <g id=\"text_9\">\n      <!-- disgust -->\n      <g transform=\"translate(30.120313 216.359219)scale(0.1 -0.1)\">\n       <defs>\n        <path d=\"M 2906 2969 \nL 2906 4863 \nL 3481 4863 \nL 3481 0 \nL 2906 0 \nL 2906 525 \nQ 2725 213 2448 61 \nQ 2172 -91 1784 -91 \nQ 1150 -91 751 415 \nQ 353 922 353 1747 \nQ 353 2572 751 3078 \nQ 1150 3584 1784 3584 \nQ 2172 3584 2448 3432 \nQ 2725 3281 2906 2969 \nz\nM 947 1747 \nQ 947 1113 1208 752 \nQ 1469 391 1925 391 \nQ 2381 391 2643 752 \nQ 2906 1113 2906 1747 \nQ 2906 2381 2643 2742 \nQ 2381 3103 1925 3103 \nQ 1469 3103 1208 2742 \nQ 947 2381 947 1747 \nz\n\" id=\"DejaVuSans-64\" transform=\"scale(0.015625)\"/>\n        <path d=\"M 603 3500 \nL 1178 3500 \nL 1178 0 \nL 603 0 \nL 603 3500 \nz\nM 603 4863 \nL 1178 4863 \nL 1178 4134 \nL 603 4134 \nL 603 4863 \nz\n\" id=\"DejaVuSans-69\" transform=\"scale(0.015625)\"/>\n        <path d=\"M 2834 3397 \nL 2834 2853 \nQ 2591 2978 2328 3040 \nQ 2066 3103 1784 3103 \nQ 1356 3103 1142 2972 \nQ 928 2841 928 2578 \nQ 928 2378 1081 2264 \nQ 1234 2150 1697 2047 \nL 1894 2003 \nQ 2506 1872 2764 1633 \nQ 3022 1394 3022 966 \nQ 3022 478 2636 193 \nQ 2250 -91 1575 -91 \nQ 1294 -91 989 -36 \nQ 684 19 347 128 \nL 347 722 \nQ 666 556 975 473 \nQ 1284 391 1588 391 \nQ 1994 391 2212 530 \nQ 2431 669 2431 922 \nQ 2431 1156 2273 1281 \nQ 2116 1406 1581 1522 \nL 1381 1569 \nQ 847 1681 609 1914 \nQ 372 2147 372 2553 \nQ 372 3047 722 3315 \nQ 1072 3584 1716 3584 \nQ 2034 3584 2315 3537 \nQ 2597 3491 2834 3397 \nz\n\" id=\"DejaVuSans-73\" transform=\"scale(0.015625)\"/>\n        <path d=\"M 2906 1791 \nQ 2906 2416 2648 2759 \nQ 2391 3103 1925 3103 \nQ 1463 3103 1205 2759 \nQ 947 2416 947 1791 \nQ 947 1169 1205 825 \nQ 1463 481 1925 481 \nQ 2391 481 2648 825 \nQ 2906 1169 2906 1791 \nz\nM 3481 434 \nQ 3481 -459 3084 -895 \nQ 2688 -1331 1869 -1331 \nQ 1566 -1331 1297 -1286 \nQ 1028 -1241 775 -1147 \nL 775 -588 \nQ 1028 -725 1275 -790 \nQ 1522 -856 1778 -856 \nQ 2344 -856 2625 -561 \nQ 2906 -266 2906 331 \nL 2906 616 \nQ 2728 306 2450 153 \nQ 2172 0 1784 0 \nQ 1141 0 747 490 \nQ 353 981 353 1791 \nQ 353 2603 747 3093 \nQ 1141 3584 1784 3584 \nQ 2172 3584 2450 3431 \nQ 2728 3278 2906 2969 \nL 2906 3500 \nL 3481 3500 \nL 3481 434 \nz\n\" id=\"DejaVuSans-67\" transform=\"scale(0.015625)\"/>\n        <path d=\"M 544 1381 \nL 544 3500 \nL 1119 3500 \nL 1119 1403 \nQ 1119 906 1312 657 \nQ 1506 409 1894 409 \nQ 2359 409 2629 706 \nQ 2900 1003 2900 1516 \nL 2900 3500 \nL 3475 3500 \nL 3475 0 \nL 2900 0 \nL 2900 538 \nQ 2691 219 2414 64 \nQ 2138 -91 1772 -91 \nQ 1169 -91 856 284 \nQ 544 659 544 1381 \nz\nM 1991 3584 \nL 1991 3584 \nz\n\" id=\"DejaVuSans-75\" transform=\"scale(0.015625)\"/>\n        <path d=\"M 1172 4494 \nL 1172 3500 \nL 2356 3500 \nL 2356 3053 \nL 1172 3053 \nL 1172 1153 \nQ 1172 725 1289 603 \nQ 1406 481 1766 481 \nL 2356 481 \nL 2356 0 \nL 1766 0 \nQ 1100 0 847 248 \nQ 594 497 594 1153 \nL 594 3053 \nL 172 3053 \nL 172 3500 \nL 594 3500 \nL 594 4494 \nL 1172 4494 \nz\n\" id=\"DejaVuSans-74\" transform=\"scale(0.015625)\"/>\n       </defs>\n       <use xlink:href=\"#DejaVuSans-64\"/>\n       <use x=\"63.476562\" xlink:href=\"#DejaVuSans-69\"/>\n       <use x=\"91.259766\" xlink:href=\"#DejaVuSans-73\"/>\n       <use x=\"143.359375\" xlink:href=\"#DejaVuSans-67\"/>\n       <use x=\"206.835938\" xlink:href=\"#DejaVuSans-75\"/>\n       <use x=\"270.214844\" xlink:href=\"#DejaVuSans-73\"/>\n       <use x=\"322.314453\" xlink:href=\"#DejaVuSans-74\"/>\n      </g>\n     </g>\n    </g>\n    <g id=\"ytick_2\">\n     <g id=\"line2d_10\">\n      <g>\n       <use style=\"stroke:#000000;stroke-width:0.8;\" x=\"73.271875\" xlink:href=\"#mcd85863bbc\" y=\"188.4\"/>\n      </g>\n     </g>\n     <g id=\"text_10\">\n      <!-- anger -->\n      <g transform=\"translate(37.19375 192.199219)scale(0.1 -0.1)\">\n       <defs>\n        <path d=\"M 2194 1759 \nQ 1497 1759 1228 1600 \nQ 959 1441 959 1056 \nQ 959 750 1161 570 \nQ 1363 391 1709 391 \nQ 2188 391 2477 730 \nQ 2766 1069 2766 1631 \nL 2766 1759 \nL 2194 1759 \nz\nM 3341 1997 \nL 3341 0 \nL 2766 0 \nL 2766 531 \nQ 2569 213 2275 61 \nQ 1981 -91 1556 -91 \nQ 1019 -91 701 211 \nQ 384 513 384 1019 \nQ 384 1609 779 1909 \nQ 1175 2209 1959 2209 \nL 2766 2209 \nL 2766 2266 \nQ 2766 2663 2505 2880 \nQ 2244 3097 1772 3097 \nQ 1472 3097 1187 3025 \nQ 903 2953 641 2809 \nL 641 3341 \nQ 956 3463 1253 3523 \nQ 1550 3584 1831 3584 \nQ 2591 3584 2966 3190 \nQ 3341 2797 3341 1997 \nz\n\" id=\"DejaVuSans-61\" transform=\"scale(0.015625)\"/>\n        <path d=\"M 3513 2113 \nL 3513 0 \nL 2938 0 \nL 2938 2094 \nQ 2938 2591 2744 2837 \nQ 2550 3084 2163 3084 \nQ 1697 3084 1428 2787 \nQ 1159 2491 1159 1978 \nL 1159 0 \nL 581 0 \nL 581 3500 \nL 1159 3500 \nL 1159 2956 \nQ 1366 3272 1645 3428 \nQ 1925 3584 2291 3584 \nQ 2894 3584 3203 3211 \nQ 3513 2838 3513 2113 \nz\n\" id=\"DejaVuSans-6e\" transform=\"scale(0.015625)\"/>\n        <path d=\"M 3597 1894 \nL 3597 1613 \nL 953 1613 \nQ 991 1019 1311 708 \nQ 1631 397 2203 397 \nQ 2534 397 2845 478 \nQ 3156 559 3463 722 \nL 3463 178 \nQ 3153 47 2828 -22 \nQ 2503 -91 2169 -91 \nQ 1331 -91 842 396 \nQ 353 884 353 1716 \nQ 353 2575 817 3079 \nQ 1281 3584 2069 3584 \nQ 2775 3584 3186 3129 \nQ 3597 2675 3597 1894 \nz\nM 3022 2063 \nQ 3016 2534 2758 2815 \nQ 2500 3097 2075 3097 \nQ 1594 3097 1305 2825 \nQ 1016 2553 972 2059 \nL 3022 2063 \nz\n\" id=\"DejaVuSans-65\" transform=\"scale(0.015625)\"/>\n        <path d=\"M 2631 2963 \nQ 2534 3019 2420 3045 \nQ 2306 3072 2169 3072 \nQ 1681 3072 1420 2755 \nQ 1159 2438 1159 1844 \nL 1159 0 \nL 581 0 \nL 581 3500 \nL 1159 3500 \nL 1159 2956 \nQ 1341 3275 1631 3429 \nQ 1922 3584 2338 3584 \nQ 2397 3584 2469 3576 \nQ 2541 3569 2628 3553 \nL 2631 2963 \nz\n\" id=\"DejaVuSans-72\" transform=\"scale(0.015625)\"/>\n       </defs>\n       <use xlink:href=\"#DejaVuSans-61\"/>\n       <use x=\"61.279297\" xlink:href=\"#DejaVuSans-6e\"/>\n       <use x=\"124.658203\" xlink:href=\"#DejaVuSans-67\"/>\n       <use x=\"188.134766\" xlink:href=\"#DejaVuSans-65\"/>\n       <use x=\"249.658203\" xlink:href=\"#DejaVuSans-72\"/>\n      </g>\n     </g>\n    </g>\n    <g id=\"ytick_3\">\n     <g id=\"line2d_11\">\n      <g>\n       <use style=\"stroke:#000000;stroke-width:0.8;\" x=\"73.271875\" xlink:href=\"#mcd85863bbc\" y=\"164.24\"/>\n      </g>\n     </g>\n     <g id=\"text_11\">\n      <!-- surprise -->\n      <g transform=\"translate(26.014063 168.039219)scale(0.1 -0.1)\">\n       <defs>\n        <path d=\"M 1159 525 \nL 1159 -1331 \nL 581 -1331 \nL 581 3500 \nL 1159 3500 \nL 1159 2969 \nQ 1341 3281 1617 3432 \nQ 1894 3584 2278 3584 \nQ 2916 3584 3314 3078 \nQ 3713 2572 3713 1747 \nQ 3713 922 3314 415 \nQ 2916 -91 2278 -91 \nQ 1894 -91 1617 61 \nQ 1341 213 1159 525 \nz\nM 3116 1747 \nQ 3116 2381 2855 2742 \nQ 2594 3103 2138 3103 \nQ 1681 3103 1420 2742 \nQ 1159 2381 1159 1747 \nQ 1159 1113 1420 752 \nQ 1681 391 2138 391 \nQ 2594 391 2855 752 \nQ 3116 1113 3116 1747 \nz\n\" id=\"DejaVuSans-70\" transform=\"scale(0.015625)\"/>\n       </defs>\n       <use xlink:href=\"#DejaVuSans-73\"/>\n       <use x=\"52.099609\" xlink:href=\"#DejaVuSans-75\"/>\n       <use x=\"115.478516\" xlink:href=\"#DejaVuSans-72\"/>\n       <use x=\"156.591797\" xlink:href=\"#DejaVuSans-70\"/>\n       <use x=\"220.068359\" xlink:href=\"#DejaVuSans-72\"/>\n       <use x=\"261.181641\" xlink:href=\"#DejaVuSans-69\"/>\n       <use x=\"288.964844\" xlink:href=\"#DejaVuSans-73\"/>\n       <use x=\"341.064453\" xlink:href=\"#DejaVuSans-65\"/>\n      </g>\n     </g>\n    </g>\n    <g id=\"ytick_4\">\n     <g id=\"line2d_12\">\n      <g>\n       <use style=\"stroke:#000000;stroke-width:0.8;\" x=\"73.271875\" xlink:href=\"#mcd85863bbc\" y=\"140.08\"/>\n      </g>\n     </g>\n     <g id=\"text_12\">\n      <!-- fear -->\n      <g transform=\"translate(46.359375 143.879219)scale(0.1 -0.1)\">\n       <defs>\n        <path d=\"M 2375 4863 \nL 2375 4384 \nL 1825 4384 \nQ 1516 4384 1395 4259 \nQ 1275 4134 1275 3809 \nL 1275 3500 \nL 2222 3500 \nL 2222 3053 \nL 1275 3053 \nL 1275 0 \nL 697 0 \nL 697 3053 \nL 147 3053 \nL 147 3500 \nL 697 3500 \nL 697 3744 \nQ 697 4328 969 4595 \nQ 1241 4863 1831 4863 \nL 2375 4863 \nz\n\" id=\"DejaVuSans-66\" transform=\"scale(0.015625)\"/>\n       </defs>\n       <use xlink:href=\"#DejaVuSans-66\"/>\n       <use x=\"35.205078\" xlink:href=\"#DejaVuSans-65\"/>\n       <use x=\"96.728516\" xlink:href=\"#DejaVuSans-61\"/>\n       <use x=\"158.007812\" xlink:href=\"#DejaVuSans-72\"/>\n      </g>\n     </g>\n    </g>\n    <g id=\"ytick_5\">\n     <g id=\"line2d_13\">\n      <g>\n       <use style=\"stroke:#000000;stroke-width:0.8;\" x=\"73.271875\" xlink:href=\"#mcd85863bbc\" y=\"115.92\"/>\n      </g>\n     </g>\n     <g id=\"text_13\">\n      <!-- sadness -->\n      <g transform=\"translate(25.676563 119.719219)scale(0.1 -0.1)\">\n       <use xlink:href=\"#DejaVuSans-73\"/>\n       <use x=\"52.099609\" xlink:href=\"#DejaVuSans-61\"/>\n       <use x=\"113.378906\" xlink:href=\"#DejaVuSans-64\"/>\n       <use x=\"176.855469\" xlink:href=\"#DejaVuSans-6e\"/>\n       <use x=\"240.234375\" xlink:href=\"#DejaVuSans-65\"/>\n       <use x=\"301.757812\" xlink:href=\"#DejaVuSans-73\"/>\n       <use x=\"353.857422\" xlink:href=\"#DejaVuSans-73\"/>\n      </g>\n     </g>\n    </g>\n    <g id=\"ytick_6\">\n     <g id=\"line2d_14\">\n      <g>\n       <use style=\"stroke:#000000;stroke-width:0.8;\" x=\"73.271875\" xlink:href=\"#mcd85863bbc\" y=\"91.76\"/>\n      </g>\n     </g>\n     <g id=\"text_14\">\n      <!-- polarity -->\n      <g transform=\"translate(28.170313 95.559219)scale(0.1 -0.1)\">\n       <defs>\n        <path d=\"M 1959 3097 \nQ 1497 3097 1228 2736 \nQ 959 2375 959 1747 \nQ 959 1119 1226 758 \nQ 1494 397 1959 397 \nQ 2419 397 2687 759 \nQ 2956 1122 2956 1747 \nQ 2956 2369 2687 2733 \nQ 2419 3097 1959 3097 \nz\nM 1959 3584 \nQ 2709 3584 3137 3096 \nQ 3566 2609 3566 1747 \nQ 3566 888 3137 398 \nQ 2709 -91 1959 -91 \nQ 1206 -91 779 398 \nQ 353 888 353 1747 \nQ 353 2609 779 3096 \nQ 1206 3584 1959 3584 \nz\n\" id=\"DejaVuSans-6f\" transform=\"scale(0.015625)\"/>\n        <path d=\"M 603 4863 \nL 1178 4863 \nL 1178 0 \nL 603 0 \nL 603 4863 \nz\n\" id=\"DejaVuSans-6c\" transform=\"scale(0.015625)\"/>\n        <path d=\"M 2059 -325 \nQ 1816 -950 1584 -1140 \nQ 1353 -1331 966 -1331 \nL 506 -1331 \nL 506 -850 \nL 844 -850 \nQ 1081 -850 1212 -737 \nQ 1344 -625 1503 -206 \nL 1606 56 \nL 191 3500 \nL 800 3500 \nL 1894 763 \nL 2988 3500 \nL 3597 3500 \nL 2059 -325 \nz\n\" id=\"DejaVuSans-79\" transform=\"scale(0.015625)\"/>\n       </defs>\n       <use xlink:href=\"#DejaVuSans-70\"/>\n       <use x=\"63.476562\" xlink:href=\"#DejaVuSans-6f\"/>\n       <use x=\"124.658203\" xlink:href=\"#DejaVuSans-6c\"/>\n       <use x=\"152.441406\" xlink:href=\"#DejaVuSans-61\"/>\n       <use x=\"213.720703\" xlink:href=\"#DejaVuSans-72\"/>\n       <use x=\"254.833984\" xlink:href=\"#DejaVuSans-69\"/>\n       <use x=\"282.617188\" xlink:href=\"#DejaVuSans-74\"/>\n       <use x=\"321.826172\" xlink:href=\"#DejaVuSans-79\"/>\n      </g>\n     </g>\n    </g>\n    <g id=\"ytick_7\">\n     <g id=\"line2d_15\">\n      <g>\n       <use style=\"stroke:#000000;stroke-width:0.8;\" x=\"73.271875\" xlink:href=\"#mcd85863bbc\" y=\"67.6\"/>\n      </g>\n     </g>\n     <g id=\"text_15\">\n      <!-- anticipation -->\n      <g transform=\"translate(7.2 71.399219)scale(0.1 -0.1)\">\n       <defs>\n        <path d=\"M 3122 3366 \nL 3122 2828 \nQ 2878 2963 2633 3030 \nQ 2388 3097 2138 3097 \nQ 1578 3097 1268 2742 \nQ 959 2388 959 1747 \nQ 959 1106 1268 751 \nQ 1578 397 2138 397 \nQ 2388 397 2633 464 \nQ 2878 531 3122 666 \nL 3122 134 \nQ 2881 22 2623 -34 \nQ 2366 -91 2075 -91 \nQ 1284 -91 818 406 \nQ 353 903 353 1747 \nQ 353 2603 823 3093 \nQ 1294 3584 2113 3584 \nQ 2378 3584 2631 3529 \nQ 2884 3475 3122 3366 \nz\n\" id=\"DejaVuSans-63\" transform=\"scale(0.015625)\"/>\n       </defs>\n       <use xlink:href=\"#DejaVuSans-61\"/>\n       <use x=\"61.279297\" xlink:href=\"#DejaVuSans-6e\"/>\n       <use x=\"124.658203\" xlink:href=\"#DejaVuSans-74\"/>\n       <use x=\"163.867188\" xlink:href=\"#DejaVuSans-69\"/>\n       <use x=\"191.650391\" xlink:href=\"#DejaVuSans-63\"/>\n       <use x=\"246.630859\" xlink:href=\"#DejaVuSans-69\"/>\n       <use x=\"274.414062\" xlink:href=\"#DejaVuSans-70\"/>\n       <use x=\"337.890625\" xlink:href=\"#DejaVuSans-61\"/>\n       <use x=\"399.169922\" xlink:href=\"#DejaVuSans-74\"/>\n       <use x=\"438.378906\" xlink:href=\"#DejaVuSans-69\"/>\n       <use x=\"466.162109\" xlink:href=\"#DejaVuSans-6f\"/>\n       <use x=\"527.34375\" xlink:href=\"#DejaVuSans-6e\"/>\n      </g>\n     </g>\n    </g>\n    <g id=\"ytick_8\">\n     <g id=\"line2d_16\">\n      <g>\n       <use style=\"stroke:#000000;stroke-width:0.8;\" x=\"73.271875\" xlink:href=\"#mcd85863bbc\" y=\"43.44\"/>\n      </g>\n     </g>\n     <g id=\"text_16\">\n      <!-- trust -->\n      <g transform=\"translate(42.773438 47.239219)scale(0.1 -0.1)\">\n       <use xlink:href=\"#DejaVuSans-74\"/>\n       <use x=\"39.208984\" xlink:href=\"#DejaVuSans-72\"/>\n       <use x=\"80.322266\" xlink:href=\"#DejaVuSans-75\"/>\n       <use x=\"143.701172\" xlink:href=\"#DejaVuSans-73\"/>\n       <use x=\"195.800781\" xlink:href=\"#DejaVuSans-74\"/>\n      </g>\n     </g>\n    </g>\n    <g id=\"ytick_9\">\n     <g id=\"line2d_17\">\n      <g>\n       <use style=\"stroke:#000000;stroke-width:0.8;\" x=\"73.271875\" xlink:href=\"#mcd85863bbc\" y=\"19.28\"/>\n      </g>\n     </g>\n     <g id=\"text_17\">\n      <!-- joy -->\n      <g transform=\"translate(51.45625 23.079219)scale(0.1 -0.1)\">\n       <defs>\n        <path d=\"M 603 3500 \nL 1178 3500 \nL 1178 -63 \nQ 1178 -731 923 -1031 \nQ 669 -1331 103 -1331 \nL -116 -1331 \nL -116 -844 \nL 38 -844 \nQ 366 -844 484 -692 \nQ 603 -541 603 -63 \nL 603 3500 \nz\nM 603 4863 \nL 1178 4863 \nL 1178 4134 \nL 603 4134 \nL 603 4863 \nz\n\" id=\"DejaVuSans-6a\" transform=\"scale(0.015625)\"/>\n       </defs>\n       <use xlink:href=\"#DejaVuSans-6a\"/>\n       <use x=\"27.783203\" xlink:href=\"#DejaVuSans-6f\"/>\n       <use x=\"88.964844\" xlink:href=\"#DejaVuSans-79\"/>\n      </g>\n     </g>\n    </g>\n   </g>\n   <g id=\"patch_12\">\n    <path d=\"M 73.271875 224.64 \nL 73.271875 7.2 \n\" style=\"fill:none;stroke:#000000;stroke-linecap:square;stroke-linejoin:miter;stroke-width:0.8;\"/>\n   </g>\n   <g id=\"patch_13\">\n    <path d=\"M 408.071875 224.64 \nL 408.071875 7.2 \n\" style=\"fill:none;stroke:#000000;stroke-linecap:square;stroke-linejoin:miter;stroke-width:0.8;\"/>\n   </g>\n   <g id=\"patch_14\">\n    <path d=\"M 73.271875 224.64 \nL 408.071875 224.64 \n\" style=\"fill:none;stroke:#000000;stroke-linecap:square;stroke-linejoin:miter;stroke-width:0.8;\"/>\n   </g>\n   <g id=\"patch_15\">\n    <path d=\"M 73.271875 7.2 \nL 408.071875 7.2 \n\" style=\"fill:none;stroke:#000000;stroke-linecap:square;stroke-linejoin:miter;stroke-width:0.8;\"/>\n   </g>\n  </g>\n </g>\n <defs>\n  <clipPath id=\"p1a8344b05e\">\n   <rect height=\"217.44\" width=\"334.8\" x=\"73.271875\" y=\"7.2\"/>\n  </clipPath>\n </defs>\n</svg>\n",
      "image/png": "[encoded data removed]"
     },
     "metadata": {
      "needs_background": "light"
     }
    }
   ],
   "source": [
    "sa.plot_mean_sentiments(work_title='homeric hymns')"
   ]
  },
  {
   "cell_type": "code",
   "execution_count": 23,
   "metadata": {},
   "outputs": [
    {
     "output_type": "execute_result",
     "data": {
      "text/plain": [
       "<pandas.io.formats.style.Styler at 0x17d65cf70>"
      ],
      "text/html": "<style  type=\"text/css\" >\n#T_d5f22_row0_col0{\n            background-color:  #e2f4aa;\n            color:  #000000;\n        }#T_d5f22_row0_col1,#T_d5f22_row1_col2{\n            background-color:  #7fc97c;\n            color:  #000000;\n        }#T_d5f22_row0_col2,#T_d5f22_row6_col1,#T_d5f22_row19_col1{\n            background-color:  #5db96b;\n            color:  #000000;\n        }#T_d5f22_row0_col3,#T_d5f22_row18_col1,#T_d5f22_row21_col6{\n            background-color:  #e5f5ac;\n            color:  #000000;\n        }#T_d5f22_row0_col4,#T_d5f22_row12_col5{\n            background-color:  #3aa257;\n            color:  #000000;\n        }#T_d5f22_row0_col5{\n            background-color:  #f7fcb9;\n            color:  #000000;\n        }#T_d5f22_row0_col6,#T_d5f22_row5_col3{\n            background-color:  #edf8b1;\n            color:  #000000;\n        }#T_d5f22_row0_col7,#T_d5f22_row12_col7{\n            background-color:  #1d7f41;\n            color:  #f1f1f1;\n        }#T_d5f22_row0_col8,#T_d5f22_row1_col8{\n            background-color:  #258745;\n            color:  #000000;\n        }#T_d5f22_row1_col0{\n            background-color:  #f6fcb8;\n            color:  #000000;\n        }#T_d5f22_row1_col1{\n            background-color:  #ddf1a6;\n            color:  #000000;\n        }#T_d5f22_row1_col3,#T_d5f22_row11_col2{\n            background-color:  #def2a7;\n            color:  #000000;\n        }#T_d5f22_row1_col4,#T_d5f22_row17_col1{\n            background-color:  #a4d98a;\n            color:  #000000;\n        }#T_d5f22_row1_col5{\n            background-color:  #74c477;\n            color:  #000000;\n        }#T_d5f22_row1_col6,#T_d5f22_row10_col4{\n            background-color:  #88cd7f;\n            color:  #000000;\n        }#T_d5f22_row1_col7,#T_d5f22_row4_col0,#T_d5f22_row4_col3,#T_d5f22_row8_col4,#T_d5f22_row9_col8,#T_d5f22_row12_col1,#T_d5f22_row16_col2,#T_d5f22_row16_col5,#T_d5f22_row17_col6{\n            background-color:  #004529;\n            color:  #f1f1f1;\n        }#T_d5f22_row2_col0,#T_d5f22_row21_col0{\n            background-color:  #f4fbb7;\n            color:  #000000;\n        }#T_d5f22_row2_col1,#T_d5f22_row14_col3{\n            background-color:  #58b669;\n            color:  #000000;\n        }#T_d5f22_row2_col2,#T_d5f22_row2_col7{\n            background-color:  #a7db8c;\n            color:  #000000;\n        }#T_d5f22_row2_col3{\n            background-color:  #fcfed6;\n            color:  #000000;\n        }#T_d5f22_row2_col4,#T_d5f22_row5_col4,#T_d5f22_row18_col8{\n            background-color:  #278946;\n            color:  #000000;\n        }#T_d5f22_row2_col5{\n            background-color:  #fcfed4;\n            color:  #000000;\n        }#T_d5f22_row2_col6,#T_d5f22_row15_col6,#T_d5f22_row17_col3{\n            background-color:  #dff3a8;\n            color:  #000000;\n        }#T_d5f22_row2_col8{\n            background-color:  #036b38;\n            color:  #f1f1f1;\n        }#T_d5f22_row3_col0{\n            background-color:  #8ed082;\n            color:  #000000;\n        }#T_d5f22_row3_col1,#T_d5f22_row14_col5{\n            background-color:  #8bce81;\n            color:  #000000;\n        }#T_d5f22_row3_col2,#T_d5f22_row20_col6,#T_d5f22_row20_col8{\n            background-color:  #bce395;\n            color:  #000000;\n        }#T_d5f22_row3_col3{\n            background-color:  #d0ec9f;\n            color:  #000000;\n        }#T_d5f22_row3_col4,#T_d5f22_row10_col7{\n            background-color:  #64bc6f;\n            color:  #000000;\n        }#T_d5f22_row3_col5,#T_d5f22_row4_col8,#T_d5f22_row6_col2,#T_d5f22_row8_col3,#T_d5f22_row9_col0,#T_d5f22_row11_col1,#T_d5f22_row11_col4,#T_d5f22_row15_col8,#T_d5f22_row19_col6,#T_d5f22_row20_col7{\n            background-color:  #ffffe5;\n            color:  #000000;\n        }#T_d5f22_row3_col6,#T_d5f22_row10_col8,#T_d5f22_row12_col8,#T_d5f22_row21_col3{\n            background-color:  #ccea9d;\n            color:  #000000;\n        }#T_d5f22_row3_col7{\n            background-color:  #3da559;\n            color:  #000000;\n        }#T_d5f22_row3_col8{\n            background-color:  #4eb163;\n            color:  #000000;\n        }#T_d5f22_row4_col1{\n            background-color:  #006536;\n            color:  #f1f1f1;\n        }#T_d5f22_row4_col2,#T_d5f22_row8_col1{\n            background-color:  #40aa5c;\n            color:  #000000;\n        }#T_d5f22_row4_col4,#T_d5f22_row6_col7,#T_d5f22_row10_col2{\n            background-color:  #49af61;\n            color:  #000000;\n        }#T_d5f22_row4_col5{\n            background-color:  #339951;\n            color:  #000000;\n        }#T_d5f22_row4_col6,#T_d5f22_row21_col8{\n            background-color:  #4cb063;\n            color:  #000000;\n        }#T_d5f22_row4_col7,#T_d5f22_row23_col4{\n            background-color:  #2c8f4b;\n            color:  #000000;\n        }#T_d5f22_row5_col0,#T_d5f22_row17_col0{\n            background-color:  #f8fcc0;\n            color:  #000000;\n        }#T_d5f22_row5_col1{\n            background-color:  #5fba6c;\n            color:  #000000;\n        }#T_d5f22_row5_col2{\n            background-color:  #a1d889;\n            color:  #000000;\n        }#T_d5f22_row5_col5,#T_d5f22_row9_col3{\n            background-color:  #e4f4ab;\n            color:  #000000;\n        }#T_d5f22_row5_col6,#T_d5f22_row14_col4{\n            background-color:  #dcf1a5;\n            color:  #000000;\n        }#T_d5f22_row5_col7{\n            background-color:  #b2df90;\n            color:  #000000;\n        }#T_d5f22_row5_col8{\n            background-color:  #197c40;\n            color:  #f1f1f1;\n        }#T_d5f22_row6_col0{\n            background-color:  #9cd687;\n            color:  #000000;\n        }#T_d5f22_row6_col3,#T_d5f22_row18_col7{\n            background-color:  #9fd788;\n            color:  #000000;\n        }#T_d5f22_row6_col4,#T_d5f22_row22_col1{\n            background-color:  #98d486;\n            color:  #000000;\n        }#T_d5f22_row6_col5,#T_d5f22_row18_col3{\n            background-color:  #fafdcc;\n            color:  #000000;\n        }#T_d5f22_row6_col6{\n            background-color:  #f0f9b4;\n            color:  #000000;\n        }#T_d5f22_row6_col8,#T_d5f22_row12_col4{\n            background-color:  #56b568;\n            color:  #000000;\n        }#T_d5f22_row7_col0,#T_d5f22_row7_col2,#T_d5f22_row13_col0{\n            background-color:  #d2eda0;\n            color:  #000000;\n        }#T_d5f22_row7_col1{\n            background-color:  #b6e192;\n            color:  #000000;\n        }#T_d5f22_row7_col3{\n            background-color:  #d5eea1;\n            color:  #000000;\n        }#T_d5f22_row7_col4,#T_d5f22_row13_col6,#T_d5f22_row15_col7,#T_d5f22_row18_col5{\n            background-color:  #75c578;\n            color:  #000000;\n        }#T_d5f22_row7_col5,#T_d5f22_row11_col3{\n            background-color:  #a6da8b;\n            color:  #000000;\n        }#T_d5f22_row7_col6{\n            background-color:  #0d733c;\n            color:  #f1f1f1;\n        }#T_d5f22_row7_col7{\n            background-color:  #6fc174;\n            color:  #000000;\n        }#T_d5f22_row7_col8,#T_d5f22_row8_col2,#T_d5f22_row12_col2{\n            background-color:  #51b365;\n            color:  #000000;\n        }#T_d5f22_row8_col0{\n            background-color:  #fafdc8;\n            color:  #000000;\n        }#T_d5f22_row8_col5{\n            background-color:  #aedd8e;\n            color:  #000000;\n        }#T_d5f22_row8_col6{\n            background-color:  #3ea75a;\n            color:  #000000;\n        }#T_d5f22_row8_col7{\n            background-color:  #208242;\n            color:  #f1f1f1;\n        }#T_d5f22_row8_col8,#T_d5f22_row9_col7,#T_d5f22_row15_col5,#T_d5f22_row22_col7{\n            background-color:  #00482a;\n            color:  #f1f1f1;\n        }#T_d5f22_row9_col1{\n            background-color:  #389f55;\n            color:  #000000;\n        }#T_d5f22_row9_col2,#T_d5f22_row9_col5{\n            background-color:  #f1fab5;\n            color:  #000000;\n        }#T_d5f22_row9_col4,#T_d5f22_row22_col5{\n            background-color:  #7ec97b;\n            color:  #000000;\n        }#T_d5f22_row9_col6{\n            background-color:  #fbfdce;\n            color:  #000000;\n        }#T_d5f22_row10_col0,#T_d5f22_row16_col0,#T_d5f22_row23_col7{\n            background-color:  #268846;\n            color:  #000000;\n        }#T_d5f22_row10_col1,#T_d5f22_row12_col3{\n            background-color:  #13773d;\n            color:  #f1f1f1;\n        }#T_d5f22_row10_col3{\n            background-color:  #4fb264;\n            color:  #000000;\n        }#T_d5f22_row10_col5,#T_d5f22_row22_col4{\n            background-color:  #30954f;\n            color:  #000000;\n        }#T_d5f22_row10_col6{\n            background-color:  #1e8041;\n            color:  #f1f1f1;\n        }#T_d5f22_row11_col0{\n            background-color:  #93d284;\n            color:  #000000;\n        }#T_d5f22_row11_col5,#T_d5f22_row21_col7{\n            background-color:  #f3fab6;\n            color:  #000000;\n        }#T_d5f22_row11_col6{\n            background-color:  #f9fdc4;\n            color:  #000000;\n        }#T_d5f22_row11_col7,#T_d5f22_row13_col3{\n            background-color:  #eff9b3;\n            color:  #000000;\n        }#T_d5f22_row11_col8{\n            background-color:  #a2d88a;\n            color:  #000000;\n        }#T_d5f22_row12_col0{\n            background-color:  #1a7d40;\n            color:  #f1f1f1;\n        }#T_d5f22_row12_col6,#T_d5f22_row16_col3,#T_d5f22_row23_col8{\n            background-color:  #288a47;\n            color:  #000000;\n        }#T_d5f22_row13_col1,#T_d5f22_row22_col0{\n            background-color:  #dbf1a4;\n            color:  #000000;\n        }#T_d5f22_row13_col2{\n            background-color:  #fcfed7;\n            color:  #000000;\n        }#T_d5f22_row13_col4{\n            background-color:  #61bb6d;\n            color:  #000000;\n        }#T_d5f22_row13_col5{\n            background-color:  #c1e698;\n            color:  #000000;\n        }#T_d5f22_row13_col7{\n            background-color:  #bae394;\n            color:  #000000;\n        }#T_d5f22_row13_col8{\n            background-color:  #12763d;\n            color:  #f1f1f1;\n        }#T_d5f22_row14_col0,#T_d5f22_row17_col4{\n            background-color:  #4ab062;\n            color:  #000000;\n        }#T_d5f22_row14_col1{\n            background-color:  #ceeb9e;\n            color:  #000000;\n        }#T_d5f22_row14_col2{\n            background-color:  #c5e89a;\n            color:  #000000;\n        }#T_d5f22_row14_col6,#T_d5f22_row17_col5{\n            background-color:  #abdc8d;\n            color:  #000000;\n        }#T_d5f22_row14_col7{\n            background-color:  #53b466;\n            color:  #000000;\n        }#T_d5f22_row14_col8,#T_d5f22_row18_col6{\n            background-color:  #ddf2a6;\n            color:  #000000;\n        }#T_d5f22_row15_col0{\n            background-color:  #005530;\n            color:  #f1f1f1;\n        }#T_d5f22_row15_col1{\n            background-color:  #026a38;\n            color:  #f1f1f1;\n        }#T_d5f22_row15_col2{\n            background-color:  #15793e;\n            color:  #f1f1f1;\n        }#T_d5f22_row15_col3{\n            background-color:  #005c32;\n            color:  #f1f1f1;\n        }#T_d5f22_row15_col4{\n            background-color:  #8dcf81;\n            color:  #000000;\n        }#T_d5f22_row16_col1,#T_d5f22_row17_col8{\n            background-color:  #39a056;\n            color:  #000000;\n        }#T_d5f22_row16_col4{\n            background-color:  #3fa95c;\n            color:  #000000;\n        }#T_d5f22_row16_col6{\n            background-color:  #47ae60;\n            color:  #000000;\n        }#T_d5f22_row16_col7{\n            background-color:  #004d2c;\n            color:  #f1f1f1;\n        }#T_d5f22_row16_col8{\n            background-color:  #ffffe4;\n            color:  #000000;\n        }#T_d5f22_row17_col2,#T_d5f22_row20_col0{\n            background-color:  #acdd8e;\n            color:  #000000;\n        }#T_d5f22_row17_col7{\n            background-color:  #e1f3a9;\n            color:  #000000;\n        }#T_d5f22_row18_col0{\n            background-color:  #f9fdc7;\n            color:  #000000;\n        }#T_d5f22_row18_col2{\n            background-color:  #e3f4aa;\n            color:  #000000;\n        }#T_d5f22_row18_col4{\n            background-color:  #84cb7e;\n            color:  #000000;\n        }#T_d5f22_row19_col0{\n            background-color:  #68be71;\n            color:  #000000;\n        }#T_d5f22_row19_col2{\n            background-color:  #d9f0a3;\n            color:  #000000;\n        }#T_d5f22_row19_col3{\n            background-color:  #9dd688;\n            color:  #000000;\n        }#T_d5f22_row19_col4{\n            background-color:  #bee596;\n            color:  #000000;\n        }#T_d5f22_row19_col5,#T_d5f22_row22_col3{\n            background-color:  #eef9b3;\n            color:  #000000;\n        }#T_d5f22_row19_col7{\n            background-color:  #f9fdc5;\n            color:  #000000;\n        }#T_d5f22_row19_col8{\n            background-color:  #c9e99c;\n            color:  #000000;\n        }#T_d5f22_row20_col1{\n            background-color:  #2e924c;\n            color:  #000000;\n        }#T_d5f22_row20_col2{\n            background-color:  #228343;\n            color:  #000000;\n        }#T_d5f22_row20_col3{\n            background-color:  #81ca7d;\n            color:  #000000;\n        }#T_d5f22_row20_col4{\n            background-color:  #86cc7f;\n            color:  #000000;\n        }#T_d5f22_row20_col5{\n            background-color:  #c0e597;\n            color:  #000000;\n        }#T_d5f22_row21_col1,#T_d5f22_row23_col6{\n            background-color:  #379e54;\n            color:  #000000;\n        }#T_d5f22_row21_col2{\n            background-color:  #bde496;\n            color:  #000000;\n        }#T_d5f22_row21_col4{\n            background-color:  #7ac77a;\n            color:  #000000;\n        }#T_d5f22_row21_col5{\n            background-color:  #97d385;\n            color:  #000000;\n        }#T_d5f22_row22_col2{\n            background-color:  #6bc072;\n            color:  #000000;\n        }#T_d5f22_row22_col6,#T_d5f22_row22_col8{\n            background-color:  #006737;\n            color:  #f1f1f1;\n        }#T_d5f22_row23_col0{\n            background-color:  #b9e294;\n            color:  #000000;\n        }#T_d5f22_row23_col1{\n            background-color:  #70c275;\n            color:  #000000;\n        }#T_d5f22_row23_col2{\n            background-color:  #66bd70;\n            color:  #000000;\n        }#T_d5f22_row23_col3{\n            background-color:  #79c679;\n            color:  #000000;\n        }#T_d5f22_row23_col5{\n            background-color:  #2f934d;\n            color:  #000000;\n        }</style><table id=\"T_d5f22_\" ><thead>    <tr>        <th class=\"blank\" ></th>        <th class=\"blank level0\" ></th>        <th class=\"col_heading level0 col0\" >anger</th>        <th class=\"col_heading level0 col1\" >anticipation</th>        <th class=\"col_heading level0 col2\" >disgust</th>        <th class=\"col_heading level0 col3\" >fear</th>        <th class=\"col_heading level0 col4\" >joy</th>        <th class=\"col_heading level0 col5\" >sadness</th>        <th class=\"col_heading level0 col6\" >surprise</th>        <th class=\"col_heading level0 col7\" >trust</th>        <th class=\"col_heading level0 col8\" >polarity</th>    </tr>    <tr>        <th class=\"index_name level0\" >work_id</th>        <th class=\"index_name level1\" >chapter_id</th>        <th class=\"blank\" ></th>        <th class=\"blank\" ></th>        <th class=\"blank\" ></th>        <th class=\"blank\" ></th>        <th class=\"blank\" ></th>        <th class=\"blank\" ></th>        <th class=\"blank\" ></th>        <th class=\"blank\" ></th>        <th class=\"blank\" ></th>    </tr></thead><tbody>\n                <tr>\n                        <th id=\"T_d5f22_level0_row0\" class=\"row_heading level0 row0\" rowspan=\"24\">1</th>\n                        <th id=\"T_d5f22_level1_row0\" class=\"row_heading level1 row0\" >0</th>\n                        <td id=\"T_d5f22_row0_col0\" class=\"data row0 col0\" >1.730861</td>\n                        <td id=\"T_d5f22_row0_col1\" class=\"data row0 col1\" >1.214255</td>\n                        <td id=\"T_d5f22_row0_col2\" class=\"data row0 col2\" >0.972059</td>\n                        <td id=\"T_d5f22_row0_col3\" class=\"data row0 col3\" >1.817043</td>\n                        <td id=\"T_d5f22_row0_col4\" class=\"data row0 col4\" >1.318384</td>\n                        <td id=\"T_d5f22_row0_col5\" class=\"data row0 col5\" >1.101758</td>\n                        <td id=\"T_d5f22_row0_col6\" class=\"data row0 col6\" >0.438503</td>\n                        <td id=\"T_d5f22_row0_col7\" class=\"data row0 col7\" >1.800535</td>\n                        <td id=\"T_d5f22_row0_col8\" class=\"data row0 col8\" >-0.614109</td>\n            </tr>\n            <tr>\n                                <th id=\"T_d5f22_level1_row1\" class=\"row_heading level1 row1\" >1</th>\n                        <td id=\"T_d5f22_row1_col0\" class=\"data row1 col0\" >1.569692</td>\n                        <td id=\"T_d5f22_row1_col1\" class=\"data row1 col1\" >1.009844</td>\n                        <td id=\"T_d5f22_row1_col2\" class=\"data row1 col2\" >0.901147</td>\n                        <td id=\"T_d5f22_row1_col3\" class=\"data row1 col3\" >1.873647</td>\n                        <td id=\"T_d5f22_row1_col4\" class=\"data row1 col4\" >1.077041</td>\n                        <td id=\"T_d5f22_row1_col5\" class=\"data row1 col5\" >1.634125</td>\n                        <td id=\"T_d5f22_row1_col6\" class=\"data row1 col6\" >0.565258</td>\n                        <td id=\"T_d5f22_row1_col7\" class=\"data row1 col7\" >1.986575</td>\n                        <td id=\"T_d5f22_row1_col8\" class=\"data row1 col8\" >-0.609755</td>\n            </tr>\n            <tr>\n                                <th id=\"T_d5f22_level1_row2\" class=\"row_heading level1 row2\" >2</th>\n                        <td id=\"T_d5f22_row2_col0\" class=\"data row2 col0\" >1.580227</td>\n                        <td id=\"T_d5f22_row2_col1\" class=\"data row2 col1\" >1.289846</td>\n                        <td id=\"T_d5f22_row2_col2\" class=\"data row2 col2\" >0.814903</td>\n                        <td id=\"T_d5f22_row2_col3\" class=\"data row2 col3\" >1.495365</td>\n                        <td id=\"T_d5f22_row2_col4\" class=\"data row2 col4\" >1.392562</td>\n                        <td id=\"T_d5f22_row2_col5\" class=\"data row2 col5\" >0.990126</td>\n                        <td id=\"T_d5f22_row2_col6\" class=\"data row2 col6\" >0.461849</td>\n                        <td id=\"T_d5f22_row2_col7\" class=\"data row2 col7\" >1.489961</td>\n                        <td id=\"T_d5f22_row2_col8\" class=\"data row2 col8\" >-0.287252</td>\n            </tr>\n            <tr>\n                                <th id=\"T_d5f22_level1_row3\" class=\"row_heading level1 row3\" >3</th>\n                        <td id=\"T_d5f22_row3_col0\" class=\"data row3 col0\" >2.181589</td>\n                        <td id=\"T_d5f22_row3_col1\" class=\"data row3 col1\" >1.192394</td>\n                        <td id=\"T_d5f22_row3_col2\" class=\"data row3 col2\" >0.764923</td>\n                        <td id=\"T_d5f22_row3_col3\" class=\"data row3 col3\" >1.963697</td>\n                        <td id=\"T_d5f22_row3_col4\" class=\"data row3 col4\" >1.214398</td>\n                        <td id=\"T_d5f22_row3_col5\" class=\"data row3 col5\" >0.923044</td>\n                        <td id=\"T_d5f22_row3_col6\" class=\"data row3 col6\" >0.488568</td>\n                        <td id=\"T_d5f22_row3_col7\" class=\"data row3 col7\" >1.694840</td>\n                        <td id=\"T_d5f22_row3_col8\" class=\"data row3 col8\" >-0.998156</td>\n            </tr>\n            <tr>\n                                <th id=\"T_d5f22_level1_row4\" class=\"row_heading level1 row4\" >4</th>\n                        <td id=\"T_d5f22_row4_col0\" class=\"data row4 col0\" >3.262166</td>\n                        <td id=\"T_d5f22_row4_col1\" class=\"data row4 col1\" >1.549703</td>\n                        <td id=\"T_d5f22_row4_col2\" class=\"data row4 col2\" >1.032995</td>\n                        <td id=\"T_d5f22_row4_col3\" class=\"data row4 col3\" >3.443559</td>\n                        <td id=\"T_d5f22_row4_col4\" class=\"data row4 col4\" >1.272826</td>\n                        <td id=\"T_d5f22_row4_col5\" class=\"data row4 col5\" >1.872256</td>\n                        <td id=\"T_d5f22_row4_col6\" class=\"data row4 col6\" >0.624747</td>\n                        <td id=\"T_d5f22_row4_col7\" class=\"data row4 col7\" >1.753074</td>\n                        <td id=\"T_d5f22_row4_col8\" class=\"data row4 col8\" >-2.597854</td>\n            </tr>\n            <tr>\n                                <th id=\"T_d5f22_level1_row5\" class=\"row_heading level1 row5\" >5</th>\n                        <td id=\"T_d5f22_row5_col0\" class=\"data row5 col0\" >1.518744</td>\n                        <td id=\"T_d5f22_row5_col1\" class=\"data row5 col1\" >1.276081</td>\n                        <td id=\"T_d5f22_row5_col2\" class=\"data row5 col2\" >0.829029</td>\n                        <td id=\"T_d5f22_row5_col3\" class=\"data row5 col3\" >1.754722</td>\n                        <td id=\"T_d5f22_row5_col4\" class=\"data row5 col4\" >1.390495</td>\n                        <td id=\"T_d5f22_row5_col5\" class=\"data row5 col5\" >1.209623</td>\n                        <td id=\"T_d5f22_row5_col6\" class=\"data row5 col6\" >0.467575</td>\n                        <td id=\"T_d5f22_row5_col7\" class=\"data row5 col7\" >1.465352</td>\n                        <td id=\"T_d5f22_row5_col8\" class=\"data row5 col8\" >-0.494542</td>\n            </tr>\n            <tr>\n                                <th id=\"T_d5f22_level1_row6\" class=\"row_heading level1 row6\" >6</th>\n                        <td id=\"T_d5f22_row6_col0\" class=\"data row6 col0\" >2.123177</td>\n                        <td id=\"T_d5f22_row6_col1\" class=\"data row6 col1\" >1.280881</td>\n                        <td id=\"T_d5f22_row6_col2\" class=\"data row6 col2\" >0.460440</td>\n                        <td id=\"T_d5f22_row6_col3\" class=\"data row6 col3\" >2.238135</td>\n                        <td id=\"T_d5f22_row6_col4\" class=\"data row6 col4\" >1.101224</td>\n                        <td id=\"T_d5f22_row6_col5\" class=\"data row6 col5\" >1.024433</td>\n                        <td id=\"T_d5f22_row6_col6\" class=\"data row6 col6\" >0.431435</td>\n                        <td id=\"T_d5f22_row6_col7\" class=\"data row6 col7\" >1.667092</td>\n                        <td id=\"T_d5f22_row6_col8\" class=\"data row6 col8\" >-1.048688</td>\n            </tr>\n            <tr>\n                                <th id=\"T_d5f22_level1_row7\" class=\"row_heading level1 row7\" >7</th>\n                        <td id=\"T_d5f22_row7_col0\" class=\"data row7 col0\" >1.844810</td>\n                        <td id=\"T_d5f22_row7_col1\" class=\"data row7 col1\" >1.103386</td>\n                        <td id=\"T_d5f22_row7_col2\" class=\"data row7 col2\" >0.707958</td>\n                        <td id=\"T_d5f22_row7_col3\" class=\"data row7 col3\" >1.946045</td>\n                        <td id=\"T_d5f22_row7_col4\" class=\"data row7 col4\" >1.180164</td>\n                        <td id=\"T_d5f22_row7_col5\" class=\"data row7 col5\" >1.467844</td>\n                        <td id=\"T_d5f22_row7_col6\" class=\"data row7 col6\" >0.724006</td>\n                        <td id=\"T_d5f22_row7_col7\" class=\"data row7 col7\" >1.595467</td>\n                        <td id=\"T_d5f22_row7_col8\" class=\"data row7 col8\" >-1.019361</td>\n            </tr>\n            <tr>\n                                <th id=\"T_d5f22_level1_row8\" class=\"row_heading level1 row8\" >8</th>\n                        <td id=\"T_d5f22_row8_col0\" class=\"data row8 col0\" >1.473605</td>\n                        <td id=\"T_d5f22_row8_col1\" class=\"data row8 col1\" >1.335805</td>\n                        <td id=\"T_d5f22_row8_col2\" class=\"data row8 col2\" >0.995624</td>\n                        <td id=\"T_d5f22_row8_col3\" class=\"data row8 col3\" >1.404845</td>\n                        <td id=\"T_d5f22_row8_col4\" class=\"data row8 col4\" >1.641407</td>\n                        <td id=\"T_d5f22_row8_col5\" class=\"data row8 col5\" >1.443460</td>\n                        <td id=\"T_d5f22_row8_col6\" class=\"data row8 col6\" >0.643026</td>\n                        <td id=\"T_d5f22_row8_col7\" class=\"data row8 col7\" >1.792408</td>\n                        <td id=\"T_d5f22_row8_col8\" class=\"data row8 col8\" >0.043342</td>\n            </tr>\n            <tr>\n                                <th id=\"T_d5f22_level1_row9\" class=\"row_heading level1 row9\" >9</th>\n                        <td id=\"T_d5f22_row9_col0\" class=\"data row9 col0\" >1.312702</td>\n                        <td id=\"T_d5f22_row9_col1\" class=\"data row9 col1\" >1.366772</td>\n                        <td id=\"T_d5f22_row9_col2\" class=\"data row9 col2\" >0.599242</td>\n                        <td id=\"T_d5f22_row9_col3\" class=\"data row9 col3\" >1.825061</td>\n                        <td id=\"T_d5f22_row9_col4\" class=\"data row9 col4\" >1.162234</td>\n                        <td id=\"T_d5f22_row9_col5\" class=\"data row9 col5\" >1.134426</td>\n                        <td id=\"T_d5f22_row9_col6\" class=\"data row9 col6\" >0.394226</td>\n                        <td id=\"T_d5f22_row9_col7\" class=\"data row9 col7\" >1.976554</td>\n                        <td id=\"T_d5f22_row9_col8\" class=\"data row9 col8\" >0.082191</td>\n            </tr>\n            <tr>\n                                <th id=\"T_d5f22_level1_row10\" class=\"row_heading level1 row10\" >10</th>\n                        <td id=\"T_d5f22_row10_col0\" class=\"data row10 col0\" >2.748826</td>\n                        <td id=\"T_d5f22_row10_col1\" class=\"data row10 col1\" >1.487001</td>\n                        <td id=\"T_d5f22_row10_col2\" class=\"data row10 col2\" >1.016689</td>\n                        <td id=\"T_d5f22_row10_col3\" class=\"data row10 col3\" >2.610600</td>\n                        <td id=\"T_d5f22_row10_col4\" class=\"data row10 col4\" >1.138634</td>\n                        <td id=\"T_d5f22_row10_col5\" class=\"data row10 col5\" >1.887580</td>\n                        <td id=\"T_d5f22_row10_col6\" class=\"data row10 col6\" >0.698926</td>\n                        <td id=\"T_d5f22_row10_col7\" class=\"data row10 col7\" >1.615874</td>\n                        <td id=\"T_d5f22_row10_col8\" class=\"data row10 col8\" >-1.832680</td>\n            </tr>\n            <tr>\n                                <th id=\"T_d5f22_level1_row11\" class=\"row_heading level1 row11\" >11</th>\n                        <td id=\"T_d5f22_row11_col0\" class=\"data row11 col0\" >2.160222</td>\n                        <td id=\"T_d5f22_row11_col1\" class=\"data row11 col1\" >0.813262</td>\n                        <td id=\"T_d5f22_row11_col2\" class=\"data row11 col2\" >0.668921</td>\n                        <td id=\"T_d5f22_row11_col3\" class=\"data row11 col3\" >2.208396</td>\n                        <td id=\"T_d5f22_row11_col4\" class=\"data row11 col4\" >0.705244</td>\n                        <td id=\"T_d5f22_row11_col5\" class=\"data row11 col5\" >1.118996</td>\n                        <td id=\"T_d5f22_row11_col6\" class=\"data row11 col6\" >0.405116</td>\n                        <td id=\"T_d5f22_row11_col7\" class=\"data row11 col7\" >1.301246</td>\n                        <td id=\"T_d5f22_row11_col8\" class=\"data row11 col8\" >-1.521955</td>\n            </tr>\n            <tr>\n                                <th id=\"T_d5f22_level1_row12\" class=\"row_heading level1 row12\" >12</th>\n                        <td id=\"T_d5f22_row12_col0\" class=\"data row12 col0\" >2.833502</td>\n                        <td id=\"T_d5f22_row12_col1\" class=\"data row12 col1\" >1.647424</td>\n                        <td id=\"T_d5f22_row12_col2\" class=\"data row12 col2\" >0.997055</td>\n                        <td id=\"T_d5f22_row12_col3\" class=\"data row12 col3\" >3.049750</td>\n                        <td id=\"T_d5f22_row12_col4\" class=\"data row12 col4\" >1.244460</td>\n                        <td id=\"T_d5f22_row12_col5\" class=\"data row12 col5\" >1.836388</td>\n                        <td id=\"T_d5f22_row12_col6\" class=\"data row12 col6\" >0.681599</td>\n                        <td id=\"T_d5f22_row12_col7\" class=\"data row12 col7\" >1.801621</td>\n                        <td id=\"T_d5f22_row12_col8\" class=\"data row12 col8\" >-1.829589</td>\n            </tr>\n            <tr>\n                                <th id=\"T_d5f22_level1_row13\" class=\"row_heading level1 row13\" >13</th>\n                        <td id=\"T_d5f22_row13_col0\" class=\"data row13 col0\" >1.845478</td>\n                        <td id=\"T_d5f22_row13_col1\" class=\"data row13 col1\" >1.017470</td>\n                        <td id=\"T_d5f22_row13_col2\" class=\"data row13 col2\" >0.496210</td>\n                        <td id=\"T_d5f22_row13_col3\" class=\"data row13 col3\" >1.725659</td>\n                        <td id=\"T_d5f22_row13_col4\" class=\"data row13 col4\" >1.223308</td>\n                        <td id=\"T_d5f22_row13_col5\" class=\"data row13 col5\" >1.368212</td>\n                        <td id=\"T_d5f22_row13_col6\" class=\"data row13 col6\" >0.584145</td>\n                        <td id=\"T_d5f22_row13_col7\" class=\"data row13 col7\" >1.446289</td>\n                        <td id=\"T_d5f22_row13_col8\" class=\"data row13 col8\" >-0.423964</td>\n            </tr>\n            <tr>\n                                <th id=\"T_d5f22_level1_row14\" class=\"row_heading level1 row14\" >14</th>\n                        <td id=\"T_d5f22_row14_col0\" class=\"data row14 col0\" >2.487287</td>\n                        <td id=\"T_d5f22_row14_col1\" class=\"data row14 col1\" >1.050446</td>\n                        <td id=\"T_d5f22_row14_col2\" class=\"data row14 col2\" >0.739470</td>\n                        <td id=\"T_d5f22_row14_col3\" class=\"data row14 col3\" >2.572164</td>\n                        <td id=\"T_d5f22_row14_col4\" class=\"data row14 col4\" >0.929834</td>\n                        <td id=\"T_d5f22_row14_col5\" class=\"data row14 col5\" >1.559014</td>\n                        <td id=\"T_d5f22_row14_col6\" class=\"data row14 col6\" >0.530354</td>\n                        <td id=\"T_d5f22_row14_col7\" class=\"data row14 col7\" >1.647100</td>\n                        <td id=\"T_d5f22_row14_col8\" class=\"data row14 col8\" >-1.973406</td>\n            </tr>\n            <tr>\n                                <th id=\"T_d5f22_level1_row15\" class=\"row_heading level1 row15\" >15</th>\n                        <td id=\"T_d5f22_row15_col0\" class=\"data row15 col0\" >3.144302</td>\n                        <td id=\"T_d5f22_row15_col1\" class=\"data row15 col1\" >1.535136</td>\n                        <td id=\"T_d5f22_row15_col2\" class=\"data row15 col2\" >1.188081</td>\n                        <td id=\"T_d5f22_row15_col3\" class=\"data row15 col3\" >3.273769</td>\n                        <td id=\"T_d5f22_row15_col4\" class=\"data row15 col4\" >1.128839</td>\n                        <td id=\"T_d5f22_row15_col5\" class=\"data row15 col5\" >2.296683</td>\n                        <td id=\"T_d5f22_row15_col6\" class=\"data row15 col6\" >0.461497</td>\n                        <td id=\"T_d5f22_row15_col7\" class=\"data row15 col7\" >1.583914</td>\n                        <td id=\"T_d5f22_row15_col8\" class=\"data row15 col8\" >-2.597980</td>\n            </tr>\n            <tr>\n                                <th id=\"T_d5f22_level1_row16\" class=\"row_heading level1 row16\" >16</th>\n                        <td id=\"T_d5f22_row16_col0\" class=\"data row16 col0\" >2.751813</td>\n                        <td id=\"T_d5f22_row16_col1\" class=\"data row16 col1\" >1.360859</td>\n                        <td id=\"T_d5f22_row16_col2\" class=\"data row16 col2\" >1.373518</td>\n                        <td id=\"T_d5f22_row16_col3\" class=\"data row16 col3\" >2.889983</td>\n                        <td id=\"T_d5f22_row16_col4\" class=\"data row16 col4\" >1.294970</td>\n                        <td id=\"T_d5f22_row16_col5\" class=\"data row16 col5\" >2.315920</td>\n                        <td id=\"T_d5f22_row16_col6\" class=\"data row16 col6\" >0.630066</td>\n                        <td id=\"T_d5f22_row16_col7\" class=\"data row16 col7\" >1.962683</td>\n                        <td id=\"T_d5f22_row16_col8\" class=\"data row16 col8\" >-2.585254</td>\n            </tr>\n            <tr>\n                                <th id=\"T_d5f22_level1_row17\" class=\"row_heading level1 row17\" >17</th>\n                        <td id=\"T_d5f22_row17_col0\" class=\"data row17 col0\" >1.522092</td>\n                        <td id=\"T_d5f22_row17_col1\" class=\"data row17 col1\" >1.142675</td>\n                        <td id=\"T_d5f22_row17_col2\" class=\"data row17 col2\" >0.802998</td>\n                        <td id=\"T_d5f22_row17_col3\" class=\"data row17 col3\" >1.861608</td>\n                        <td id=\"T_d5f22_row17_col4\" class=\"data row17 col4\" >1.271713</td>\n                        <td id=\"T_d5f22_row17_col5\" class=\"data row17 col5\" >1.450946</td>\n                        <td id=\"T_d5f22_row17_col6\" class=\"data row17 col6\" >0.799835</td>\n                        <td id=\"T_d5f22_row17_col7\" class=\"data row17 col7\" >1.349188</td>\n                        <td id=\"T_d5f22_row17_col8\" class=\"data row17 col8\" >-0.831561</td>\n            </tr>\n            <tr>\n                                <th id=\"T_d5f22_level1_row18\" class=\"row_heading level1 row18\" >18</th>\n                        <td id=\"T_d5f22_row18_col0\" class=\"data row18 col0\" >1.487216</td>\n                        <td id=\"T_d5f22_row18_col1\" class=\"data row18 col1\" >0.979899</td>\n                        <td id=\"T_d5f22_row18_col2\" class=\"data row18 col2\" >0.651299</td>\n                        <td id=\"T_d5f22_row18_col3\" class=\"data row18 col3\" >1.550720</td>\n                        <td id=\"T_d5f22_row18_col4\" class=\"data row18 col4\" >1.145367</td>\n                        <td id=\"T_d5f22_row18_col5\" class=\"data row18 col5\" >1.627072</td>\n                        <td id=\"T_d5f22_row18_col6\" class=\"data row18 col6\" >0.464176</td>\n                        <td id=\"T_d5f22_row18_col7\" class=\"data row18 col7\" >1.503287</td>\n                        <td id=\"T_d5f22_row18_col8\" class=\"data row18 col8\" >-0.637740</td>\n            </tr>\n            <tr>\n                                <th id=\"T_d5f22_level1_row19\" class=\"row_heading level1 row19\" >19</th>\n                        <td id=\"T_d5f22_row19_col0\" class=\"data row19 col0\" >2.362125</td>\n                        <td id=\"T_d5f22_row19_col1\" class=\"data row19 col1\" >1.280978</td>\n                        <td id=\"T_d5f22_row19_col2\" class=\"data row19 col2\" >0.688755</td>\n                        <td id=\"T_d5f22_row19_col3\" class=\"data row19 col3\" >2.246929</td>\n                        <td id=\"T_d5f22_row19_col4\" class=\"data row19 col4\" >1.010298</td>\n                        <td id=\"T_d5f22_row19_col5\" class=\"data row19 col5\" >1.151469</td>\n                        <td id=\"T_d5f22_row19_col6\" class=\"data row19 col6\" >0.363628</td>\n                        <td id=\"T_d5f22_row19_col7\" class=\"data row19 col7\" >1.245117</td>\n                        <td id=\"T_d5f22_row19_col8\" class=\"data row19 col8\" >-1.809305</td>\n            </tr>\n            <tr>\n                                <th id=\"T_d5f22_level1_row20\" class=\"row_heading level1 row20\" >20</th>\n                        <td id=\"T_d5f22_row20_col0\" class=\"data row20 col0\" >2.050637</td>\n                        <td id=\"T_d5f22_row20_col1\" class=\"data row20 col1\" >1.400315</td>\n                        <td id=\"T_d5f22_row20_col2\" class=\"data row20 col2\" >1.145400</td>\n                        <td id=\"T_d5f22_row20_col3\" class=\"data row20 col3\" >2.378893</td>\n                        <td id=\"T_d5f22_row20_col4\" class=\"data row20 col4\" >1.142389</td>\n                        <td id=\"T_d5f22_row20_col5\" class=\"data row20 col5\" >1.372184</td>\n                        <td id=\"T_d5f22_row20_col6\" class=\"data row20 col6\" >0.508895</td>\n                        <td id=\"T_d5f22_row20_col7\" class=\"data row20 col7\" >1.171902</td>\n                        <td id=\"T_d5f22_row20_col8\" class=\"data row20 col8\" >-1.699190</td>\n            </tr>\n            <tr>\n                                <th id=\"T_d5f22_level1_row21\" class=\"row_heading level1 row21\" >21</th>\n                        <td id=\"T_d5f22_row21_col0\" class=\"data row21 col0\" >1.580056</td>\n                        <td id=\"T_d5f22_row21_col1\" class=\"data row21 col1\" >1.369503</td>\n                        <td id=\"T_d5f22_row21_col2\" class=\"data row21 col2\" >0.763420</td>\n                        <td id=\"T_d5f22_row21_col3\" class=\"data row21 col3\" >1.987672</td>\n                        <td id=\"T_d5f22_row21_col4\" class=\"data row21 col4\" >1.169273</td>\n                        <td id=\"T_d5f22_row21_col5\" class=\"data row21 col5\" >1.519195</td>\n                        <td id=\"T_d5f22_row21_col6\" class=\"data row21 col6\" >0.451642</td>\n                        <td id=\"T_d5f22_row21_col7\" class=\"data row21 col7\" >1.288005</td>\n                        <td id=\"T_d5f22_row21_col8\" class=\"data row21 col8\" >-0.991747</td>\n            </tr>\n            <tr>\n                                <th id=\"T_d5f22_level1_row22\" class=\"row_heading level1 row22\" >22</th>\n                        <td id=\"T_d5f22_row22_col0\" class=\"data row22 col0\" >1.785274</td>\n                        <td id=\"T_d5f22_row22_col1\" class=\"data row22 col1\" >1.165313</td>\n                        <td id=\"T_d5f22_row22_col2\" class=\"data row22 col2\" >0.943263</td>\n                        <td id=\"T_d5f22_row22_col3\" class=\"data row22 col3\" >1.731714</td>\n                        <td id=\"T_d5f22_row22_col4\" class=\"data row22 col4\" >1.353458</td>\n                        <td id=\"T_d5f22_row22_col5\" class=\"data row22 col5\" >1.600835</td>\n                        <td id=\"T_d5f22_row22_col6\" class=\"data row22 col6\" >0.746350</td>\n                        <td id=\"T_d5f22_row22_col7\" class=\"data row22 col7\" >1.975793</td>\n                        <td id=\"T_d5f22_row22_col8\" class=\"data row22 col8\" >-0.242871</td>\n            </tr>\n            <tr>\n                                <th id=\"T_d5f22_level1_row23\" class=\"row_heading level1 row23\" >23</th>\n                        <td id=\"T_d5f22_row23_col0\" class=\"data row23 col0\" >1.976006</td>\n                        <td id=\"T_d5f22_row23_col1\" class=\"data row23 col1\" >1.245570</td>\n                        <td id=\"T_d5f22_row23_col2\" class=\"data row23 col2\" >0.954946</td>\n                        <td id=\"T_d5f22_row23_col3\" class=\"data row23 col3\" >2.422350</td>\n                        <td id=\"T_d5f22_row23_col4\" class=\"data row23 col4\" >1.373259</td>\n                        <td id=\"T_d5f22_row23_col5\" class=\"data row23 col5\" >1.900938</td>\n                        <td id=\"T_d5f22_row23_col6\" class=\"data row23 col6\" >0.653599</td>\n                        <td id=\"T_d5f22_row23_col7\" class=\"data row23 col7\" >1.771831</td>\n                        <td id=\"T_d5f22_row23_col8\" class=\"data row23 col8\" >-0.640793</td>\n            </tr>\n    </tbody></table>"
     },
     "metadata": {},
     "execution_count": 23
    }
   ],
   "source": [
    "sa.get_chapter_table(work_title=\"iliad\").style.background_gradient(cmap=\"YlGn\")"
   ]
  },
  {
   "source": [
    "## Saving Tables"
   ],
   "cell_type": "markdown",
   "metadata": {}
  },
  {
   "cell_type": "code",
   "execution_count": 24,
   "metadata": {},
   "outputs": [],
   "source": [
    "# # Saving tables\n",
    "# corp.save_tables(os.path.join(output_dir, 'corpus'))"
   ]
  },
  {
   "cell_type": "code",
   "execution_count": null,
   "metadata": {},
   "outputs": [],
   "source": []
  }
 ],
 "metadata": {
  "kernelspec": {
   "name": "python392jvsc74a57bd06494f67c0c6cf60fb8c82a3cd67c9027a88bb126664f19bac7f5ad6badb395e4",
   "display_name": "Python 3.9.2 64-bit ('ds': conda)"
  },
  "language_info": {
   "codemirror_mode": {
    "name": "ipython",
    "version": 3
   },
   "file_extension": ".py",
   "mimetype": "text/x-python",
   "name": "python",
   "nbconvert_exporter": "python",
   "pygments_lexer": "ipython3",
   "version": "3.9.2"
  },
  "metadata": {
   "interpreter": {
    "hash": "6494f67c0c6cf60fb8c82a3cd67c9027a88bb126664f19bac7f5ad6badb395e4"
   }
  }
 },
 "nbformat": 4,
 "nbformat_minor": 4
}